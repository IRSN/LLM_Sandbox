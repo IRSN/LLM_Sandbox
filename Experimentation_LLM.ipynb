{
 "cells": [
  {
   "cell_type": "markdown",
   "id": "ab1a56d3-9ed9-4956-867e-7ddb2b2b8797",
   "metadata": {
    "jp-MarkdownHeadingCollapsed": true
   },
   "source": [
    "# Bibliothèque à installer et import"
   ]
  },
  {
   "cell_type": "code",
   "execution_count": 1,
   "id": "729d3434-97ba-4c31-9bcf-de25019c97c0",
   "metadata": {},
   "outputs": [],
   "source": [
    "#pip install llama-index\n",
    "#pip install torch\n",
    "#pip install sentence_transformers\n",
    "#pip install InstructorEmbedding\n",
    "#pip install faiss-cpu\n",
    "#pip install pdfminer.six\n",
    "#pip install bs4"
   ]
  },
  {
   "cell_type": "code",
   "execution_count": 18,
   "id": "7f0a2ac9-f5f6-4ff4-b62d-a3282b82622a",
   "metadata": {},
   "outputs": [],
   "source": [
    "import os\n",
    "import glob\n",
    "import torch\n",
    "import json\n",
    "import re\n",
    "import nest_asyncio\n",
    "from llama_index import VectorStoreIndex, SimpleDirectoryReader,ServiceContext,StorageContext, load_index_from_storage\n",
    "from llama_index.prompts import PromptTemplate\n",
    "from llama_index.llms import HuggingFaceLLM\n",
    "from transformers import AutoModelForCausalLM, AutoTokenizer,pipeline\n",
    "from bs4 import BeautifulSoup\n",
    "from langchain.document_loaders import PyPDFLoader, DirectoryLoader, TextLoader, PDFMinerPDFasHTMLLoader\n",
    "from llama_index.extractors import (\n",
    "    SummaryExtractor,\n",
    "    QuestionsAnsweredExtractor,\n",
    "    TitleExtractor,\n",
    "    KeywordExtractor,\n",
    "    EntityExtractor,\n",
    "    BaseExtractor,\n",
    ")\n",
    "from llama_index.text_splitter import TokenTextSplitter\n",
    "from llama_index.ingestion import IngestionPipeline"
   ]
  },
  {
   "cell_type": "markdown",
   "id": "c78428cb-6d68-44bd-89e2-6c56caccc0bc",
   "metadata": {},
   "source": [
    "# Paramétrage du RAG standard"
   ]
  },
  {
   "cell_type": "markdown",
   "id": "c26f4f41-5f68-4483-ad03-c2dee0740152",
   "metadata": {},
   "source": [
    "### Chargement du modèle"
   ]
  },
  {
   "cell_type": "code",
   "execution_count": 2,
   "id": "9fcfbd54-7e8b-49aa-b10d-c99b3d434be1",
   "metadata": {},
   "outputs": [
    {
     "name": "stderr",
     "output_type": "stream",
     "text": [
      "Loading checkpoint shards: 100%|██████████| 2/2 [09:09<00:00, 274.94s/it]\n"
     ]
    }
   ],
   "source": [
    "# Téléchargement/ chargement du modèle mistralai/Mistral-7B-Instruct-v0.1\n",
    "# 1er paramètre = nom du modèle à télécharger ou chargé si déjà téléchargé\n",
    "# 2ème paramètre cache_dir permet de charger le modèle depuis un dossier donné\n",
    "# 3ème paramètre device_map permet de préciser le device à utiliser (ici setup en auto pour utiliser le GPU)\n",
    "model = AutoModelForCausalLM.from_pretrained(\"mistralai/Mistral-7B-Instruct-v0.1\",cache_dir= \"/share/LLM_models/models\", device_map = \"auto\")\n",
    "\n",
    "# Téléchargement/ chargement du tokenizer du modèle mistralai/Mistral-7B-Instruct-v0.1\n",
    "tokenizer = AutoTokenizer.from_pretrained(\"mistralai/Mistral-7B-Instruct-v0.1\",cache_dir= \"/share/LLM_models/models\", device_map = \"auto\")"
   ]
  },
  {
   "cell_type": "markdown",
   "id": "2bd785e9-0de8-40f3-9088-6586fbf45927",
   "metadata": {
    "jp-MarkdownHeadingCollapsed": true
   },
   "source": [
    "### Paramétrage du LLM"
   ]
  },
  {
   "cell_type": "code",
   "execution_count": 3,
   "id": "3e360601-cda5-4548-9c40-2bc8fb9de055",
   "metadata": {},
   "outputs": [],
   "source": [
    "llm = HuggingFaceLLM(\n",
    "    model=model,\n",
    "    tokenizer=tokenizer,\n",
    "    query_wrapper_prompt=PromptTemplate(\"<s>[INST] {query_str} [/INST] </s>\\n\"),\n",
    "    context_window=3900,\n",
    "    max_new_tokens=1024,\n",
    "    generate_kwargs={\"temperature\": 0.2, \"top_k\": 5, \"do_sample\": True},\n",
    "    device_map=\"auto\"\n",
    ")\n"
   ]
  },
  {
   "cell_type": "markdown",
   "id": "2802bbb9-361a-4350-8ca3-2f00699c3ff3",
   "metadata": {
    "jp-MarkdownHeadingCollapsed": true
   },
   "source": [
    "### Chargement du modèle d'embedding"
   ]
  },
  {
   "cell_type": "code",
   "execution_count": 5,
   "id": "8fb36bf1-a2df-4917-ab63-dfbe7e8a4481",
   "metadata": {},
   "outputs": [
    {
     "name": "stderr",
     "output_type": "stream",
     "text": [
      "config.json: 100%|██████████| 743/743 [00:00<00:00, 1.75MB/s]\n",
      "model.safetensors: 100%|██████████| 133M/133M [00:00<00:00, 239MB/s] \n",
      "tokenizer_config.json: 100%|██████████| 366/366 [00:00<00:00, 1.06MB/s]\n",
      "vocab.txt: 100%|██████████| 232k/232k [00:00<00:00, 3.21MB/s]\n",
      "tokenizer.json: 100%|██████████| 711k/711k [00:00<00:00, 9.77MB/s]\n",
      "special_tokens_map.json: 100%|██████████| 125/125 [00:00<00:00, 409kB/s]\n"
     ]
    }
   ],
   "source": [
    "service_context = ServiceContext.from_defaults(llm=llm, embed_model=\"local:BAAI/bge-small-en-v1.5\")"
   ]
  },
  {
   "cell_type": "markdown",
   "id": "38f6fe0a-2776-4d19-981f-3a86d36c1cf8",
   "metadata": {},
   "source": [
    "### Chargement des documents"
   ]
  },
  {
   "cell_type": "code",
   "execution_count": 23,
   "id": "8af8c68e-5298-4ecb-8612-0778f33adc59",
   "metadata": {},
   "outputs": [
    {
     "name": "stdout",
     "output_type": "stream",
     "text": [
      "Failed to load file /share/data/fiches_seismes/IRSN-Seisme-St-Paul-Ubaye-07042014.pdf with error: Cannot read an empty file. Skipping...\n",
      "Failed to load file /share/data/fiches_seismes/IRSN-Seismes-Ridgecrest-Californie-201907.pdf with error: Cannot read an empty file. Skipping...\n",
      "Failed to load file /share/data/fiches_seismes/IRSN-seisme-Layon-21062019_V1.pdf with error: Cannot read an empty file. Skipping...\n",
      "Failed to load file /share/data/fiches_seismes/IRSN-seisme_Okhotsk_240513.pdf with error: Cannot read an empty file. Skipping...\n",
      "Failed to load file /share/data/fiches_seismes/IRSN_Fiche-seisme-PETRINJA-2020_vf.pdf with error: Cannot read an empty file. Skipping...\n",
      "Failed to load file /share/data/fiches_seismes/IRSN_Fiche-seisme-Turquie-20230207.pdf with error: Cannot read an empty file. Skipping...\n",
      "Failed to load file /share/data/fiches_seismes/IRSN_seisme-Chili-V3_07042010.pdf with error: Cannot read an empty file. Skipping...\n",
      "Failed to load file /share/data/fiches_seismes/irsn_Seisme-Chine_052008.pdf with error: Cannot read an empty file. Skipping...\n",
      "Failed to load file /share/data/fiches_seismes/irsn_Seisme-Italie_042009.pdf with error: Cannot read an empty file. Skipping...\n",
      "Failed to load file /share/data/fiches_seismes/irsn_seisme_notohanto_japon_042007.pdf with error: Cannot read an empty file. Skipping...\n"
     ]
    }
   ],
   "source": [
    "reader_date =  SimpleDirectoryReader(input_dir = \"/share/data/fiches_seismes/\", required_exts=[\".pdf\"])\n",
    "#IRSN-Seisme-Manosque-19092012.pdf & IRSN-Seisme-LaRochelle-28042016.pdf IRSN_seisme_turquie-23102011.pdf\n",
    "doc_load = reader_date.load_data()"
   ]
  },
  {
   "cell_type": "markdown",
   "id": "def80de4-b269-45f9-93ca-f2bf1f35cc6e",
   "metadata": {
    "jp-MarkdownHeadingCollapsed": true
   },
   "source": [
    "### Création des vecteurs indexés"
   ]
  },
  {
   "cell_type": "code",
   "execution_count": 7,
   "id": "a79da055-64dd-49be-9cb6-27907f8e0246",
   "metadata": {},
   "outputs": [
    {
     "name": "stderr",
     "output_type": "stream",
     "text": [
      "Parsing nodes: 100%|██████████| 112/112 [00:00<00:00, 497.37it/s]\n",
      "Generating embeddings: 100%|██████████| 136/136 [00:01<00:00, 87.08it/s] \n"
     ]
    }
   ],
   "source": [
    "vector_index = VectorStoreIndex.from_documents(doc, service_context=service_context, show_progress = True)"
   ]
  },
  {
   "cell_type": "markdown",
   "id": "09300fdd-ed9b-4e51-93e3-88beac71923f",
   "metadata": {
    "jp-MarkdownHeadingCollapsed": true
   },
   "source": [
    "### Sauvegarde de l'embedding"
   ]
  },
  {
   "cell_type": "code",
   "execution_count": 15,
   "id": "92192371-21fa-4adb-bc11-6dae47d4e7b5",
   "metadata": {},
   "outputs": [],
   "source": [
    "#/share/LLM_models/Embedding_store\n",
    "vector_index.storage_context.persist(persist_dir=\"/share/LLM_models/Embedding_store\")"
   ]
  },
  {
   "cell_type": "markdown",
   "id": "3e12c0a7-893c-428c-9bde-c51dec7b76ca",
   "metadata": {
    "jp-MarkdownHeadingCollapsed": true
   },
   "source": [
    "### Chargement de l'embedding"
   ]
  },
  {
   "cell_type": "code",
   "execution_count": 24,
   "id": "7b7ce281-de23-4a7d-84fa-27b6b2a6fb59",
   "metadata": {},
   "outputs": [],
   "source": [
    "# rebuild storage context\n",
    "storage_context = StorageContext.from_defaults(persist_dir=\"/share/LLM_models/Embedding_store\")\n",
    "\n",
    "# load index\n",
    "index = load_index_from_storage(storage_context,service_context=service_context)"
   ]
  },
  {
   "cell_type": "markdown",
   "id": "153cb470-d321-446f-aa2f-74471d4b4d1b",
   "metadata": {
    "jp-MarkdownHeadingCollapsed": true
   },
   "source": [
    "### Paramétrage du l'outil de questions "
   ]
  },
  {
   "cell_type": "code",
   "execution_count": 10,
   "id": "07ea8ff8-7ab3-4111-ab8d-21af542c5901",
   "metadata": {},
   "outputs": [],
   "source": [
    "query_engine = vector_index.as_query_engine(response_mode=\"compact\")"
   ]
  },
  {
   "cell_type": "markdown",
   "id": "4f4f7f99-864c-4c83-afde-85e30cd44fb8",
   "metadata": {},
   "source": [
    "### Utilisation du LLM"
   ]
  },
  {
   "cell_type": "markdown",
   "id": "640671ce-f4fd-456b-bdcf-b20e8547ab78",
   "metadata": {
    "jp-MarkdownHeadingCollapsed": true
   },
   "source": [
    "#### Appel du query_engine pour questionner le LLM sur la base documentaire"
   ]
  },
  {
   "cell_type": "code",
   "execution_count": 11,
   "id": "33e6544f-81c8-4db4-8cd8-1d1f48b2cf0d",
   "metadata": {},
   "outputs": [
    {
     "name": "stderr",
     "output_type": "stream",
     "text": [
      "Setting `pad_token_id` to `eos_token_id`:2 for open-end generation.\n"
     ]
    },
    {
     "name": "stdout",
     "output_type": "stream",
     "text": [
      "\n",
      "The magnitude of the earthquake in Mulhouse is 3.9 (Mw - Géoazur). The localization of the earthquake is at 7.471° E and 47.669 °N. The consequences of the earthquake were moderate, with no damage to buildings reported. However, the earthquake was felt strongly in the region of Grand Est and caused some damage to infrastructure. The earthquake was followed by several aftershocks with magnitudes ranging from 1.0 to 3.2 on the local magnitude scale (RENASS).\n"
     ]
    }
   ],
   "source": [
    "reponse = query_engine.query(\"Quelle est la magnitude, la localisation et les conséquences régionales du séisme de Mulhouse ?\")\n",
    "print(reponse)"
   ]
  },
  {
   "cell_type": "markdown",
   "id": "ffb87620-6375-4d1a-b213-e03ec45c658a",
   "metadata": {
    "jp-MarkdownHeadingCollapsed": true
   },
   "source": [
    "#### Exemple de metadata d'une réponse du llm"
   ]
  },
  {
   "cell_type": "code",
   "execution_count": 24,
   "id": "2fe5bb93-dad4-4322-8d7a-666385e75e58",
   "metadata": {},
   "outputs": [
    {
     "name": "stdout",
     "output_type": "stream",
     "text": [
      "{'331f48b3-45d3-4550-b0c1-16a513ebea43': {'page_label': '1', 'file_name': '/share/data/fiches_seismes/IRSN_Fiche-Seisme-Ouest-France-16-juin-2023_V1-17062023.pdf'}, '1e99008f-119d-422d-b00c-1c4504be6211': {'page_label': '2', 'file_name': '/share/data/fiches_seismes/IRSN_Fiche-Seisme-Ouest-France-16-juin-2023_V1-17062023.pdf'}}\n"
     ]
    }
   ],
   "source": [
    "print(reponse.metadata)"
   ]
  },
  {
   "cell_type": "markdown",
   "id": "247f8872-c978-4d06-8e54-d40077fb30e1",
   "metadata": {
    "jp-MarkdownHeadingCollapsed": true
   },
   "source": [
    "# Sauvegarde des réponses dans un csv"
   ]
  },
  {
   "cell_type": "markdown",
   "id": "a355c595-9c9c-4cc2-a7eb-d70eebaa3de0",
   "metadata": {
    "jp-MarkdownHeadingCollapsed": true
   },
   "source": [
    "#### Dictionnaire de question pour chaque pdf fonctionnel"
   ]
  },
  {
   "cell_type": "code",
   "execution_count": 32,
   "id": "3ee2e753-73bd-42a5-b182-b2948fa65143",
   "metadata": {},
   "outputs": [],
   "source": [
    "mon_dict = {\n",
    "    'IRSN Fiche seisme MULHOUSE 13092022.pdf': ['Quelle est la magnitude, la localisation et les conséquences régionales du séisme de Mulhouse ?', \"Comment le séisme de Mulhouse est-il lié à la tectonique du Fossé Rhénan, et quelles sont les prévisions quant à l'activité sismique future dans la région ?\"],\n",
    "    'IRSN_Fiche-Seisme-Maroc.pdf': ['Quelles sont les caractéristiques principales du séisme au Maroc du 8 septembre 2023, telles que sa magnitude, sa localisation, et quelles ont été ses conséquences régionales ?', \"Comment s'inscrit le séisme du 8 septembre 2023 dans le contexte sismotectonique du Maroc, et quel impact a-t-il eu sur les installations nucléaires dans la région ?\"],\n",
    "    'IRSN_Fiche-Seisme-Ouest-France-16-juin-2023_V1-17062023.pdf': [\"Quelles sont les caractéristiques principales du séisme dans l'ouest de la France du 16 juin 2023, notamment sa localisation, sa magnitude, et quels sont les impacts rapportés dans la région épicentrale ?\", \"Comment se situe le séisme du 16 juin 2023 par rapport à l'activité sismique historique de la région, et quel a été l'impact sur les installations nucléaires à proximité, telles que la centrale nucléaire de Civaux ?\"],\n",
    "    'irsn_seisme_argeles_gazost_112006.pdf': [\"Pouvez-vous fournir des informations sur le séisme d'Argelès-Gazost du 17 novembre 2006, notamment sa magnitude, son épicentre, et ses impacts locaux ?\", \"Quel a été l'impact du séisme d'Argelès-Gazost sur les installations nucléaires de la région ?\"],\n",
    "    'irsn_seisme_chinon_11_2006.pdf': ['Pouvez-vous fournir des informations sur le séisme de Chinon du 5 novembre 2006, notamment sa magnitude, son épicentre, et ses impacts locaux ?', \"Quel a été l'impact du séisme de Chinon sur les installations nucléaires de la région ?\"],\n",
    "    'IRSN_seisme_Christchurch-NZ_23022011.pdf': ['Quels sont les impacts du séisme de Christchurch du 21 février 2011 par rapport à celui de septembre 2010 en Nouvelle-Zélande?', 'Quelle est la situation des installations nucléaires en Nouvelle-Zélande et quelles sont les caractéristiques de la faille de GreenDale?'],\n",
    "    'IRSN_seisme_france-26022012_V2.pdf': ['Quels sont les détails concernant le séisme à Saint-Paul-sur-Ubaye du 26 février 2012?', \"Comment la sismicité historique et actuelle dans la vallée de l'Ubaye est-elle liée au séisme du 26 février 2012?\"],\n",
    "    'IRSN_seisme_Italie-20052012.pdf': [\"Quel est le contexte sismotectonique de la région touchée par le séisme de l'Emilia-Romagna?\", \"Quelle est l'estimation de l'aléa sismique et du mouvement sismique en basse plaine du Pô?\"],\n",
    "    'IRSN_Seisme_Lorca-Espagne_18052011.pdf': ['Quels sont les détails concernant le séisme de Lorca en Espagne du 11 mai 2011?', 'Quel est le contexte sismique de la France autour du 11 mai 2011?'],\n",
    "    'irsn_seisme_martinique_122007.pdf': ['Quand a eu lieu le séisme de Martinique et quelle était sa magnitude?', \"Où était situé l'épicentre du séisme de Martinique?\"],\n",
    "    'irsn_seisme_niigata_japon_092007.pdf': ['Comment le Japon se situe-t-il du point de vue sismotectonique par rapport à la convergence des plaques tectoniques?', 'Quelles étaient les conséquences humaines du séisme de Chu-Etsu-Oki?'],\n",
    "    'IRSN_seisme_sumatra-11042012.pdf': ['Quand ont eu lieu les séismes de Sumatra en Indonésie, et quelle était leur magnitude?', \"Quelle était la distance entre la centrale nucléaire la plus proche (Kalpakkam) et l'épicentre du séisme de Sumatra, et quels étaient les effets attendus sur la centrale?\"],\n",
    "    'IRSN_seisme_turquie-23102011.pdf': ['Quels ont été les effets du séisme de Van en termes de dégâts matériels et humains?', 'Où était située la centrale nucléaire la plus proche du séisme de Van, et quelles étaient les conséquences sur cette centrale?'],\n",
    "    'IRSN_seisme_virginie-US-23082011.pdf': [\"Dans quelle région s'est produit le séisme de Virginie, et qu'est-ce que la « Central Virginia Seismic Zone » ?\", \" Quel est le contexte sismotectonique de l'Est des États-Unis, et pourquoi la sismicité n'y est-elle pas négligeable?\"],\n",
    "    'irsn_Seisme-Afghanistan_032002.pdf': ['Quand a eu lieu le séisme en Afghanistan, et quelle était sa magnitude?', 'Quelles sont les différentes estimations de la magnitude du séisme en Afghanistan?'],\n",
    "    'irsn_seisme-algerie_052003.pdf': [\"Quel est le contexte tectonique de l'Algérie et comment cela contribue-t-il à la sismicité de la région?\", 'Quels sont les effets de site probables dans les localités de Rouïba et Boumerdès?'],\n",
    "    'irsn_Seisme-Allemagne_122004.pdf': ['Quelle est la proximité du séisme de Fribourg par rapport à la centrale nucléaire de Fessenheim?', \"Quelle est la distance entre l'épicentre du séisme de Fribourg et les centrales nucléaires suisses de Leipstadt et Beznau?\"],\n",
    "    'irsn_Seisme-Besancon_022004.pdf': ['Quand a eu lieu le séisme de Besançon et quelle était sa magnitude?'],\n",
    "    'IRSN_seisme-haiti_130110.pdf': [\"Où était situé l'épicentre du séisme d'Haïti, et quels ont été les effets notables?\", \"Quel est le contexte sismotectonique de la région où s'est produit le séisme d'Haïti?\"],\n",
    "    'irsn_Seisme-Inde_012001.pdf': ['Quels ont été les effets notables du séisme de Gurajat, et quel était le mécanisme de la faille en jeu?', ' Pourquoi le séisme de Gurajat a-t-il été considéré comme une surprise relative?'],\n",
    "    'irsn_Seisme-Japon_052003.pdf': [\"Quand et où s'est produit le séisme de Miyagi au Japon, et quelle était sa magnitude?\", 'Quels sont les impacts du séisme de Miyagi en termes de dégâts matériels, de victimes et de répliques?'],\n",
    "    'IRSN_Seisme-Japon_Replique-7-avril_V1-08042011.pdf': [\"Comment la centrale nucléaire d'Onagawa a-t-elle été affectée par cette réplique en termes d'accélérations du sol?\", 'Quelles sont les actions entreprises par les autorités japonaises pour évaluer les effets de cette réplique?'],\n",
    "    'IRSN_seisme-Japon_V2-22042011.pdf': [\"Quand et où s'est produit le séisme de Tohoku au Japon du 11 mars 2011, et quelle était sa magnitude?\", \"Quelle était la localisation de l'épicentre et quels sont les détails sur la magnitude du séisme de Tohoku au Japon du 11 mars 2011?\"],\n",
    "    'IRSN_seisme-Manosque_V1-12072010.pdf': ['Quelle est la magnitude du séisme survenu à Manosque le 8 juillet 2010, et quelle est la version du document que vous consultez ?', 'Comment la population a-t-elle réagi à la secousse sismique, et quelles sont les zones les plus fortement touchées pour le séisme du 8 juillet 2010 ? ?'],\n",
    "    'irsn_Seisme-Mexique_012003.pdf': [\"Quels sont les dégâts rapportés suite au séisme, et quelle est la particularité de la ville de Mexico en termes d'effet sismique ?\", 'Quelle est la situation des installations nucléaires au Mexique, et comment le séisme du 21 janvier 2003 a-t-il affecté la centrale nucléaire de Laguna Verde '],\n",
    "    'IRSN-Seisme-Amatrice-Italie-240816_V1.pdf': [\"Quelle est la magnitude du séisme d'Amatrice qui s'est produit le 24 août 2016, et où était situé son épicentre ?\", 'Quels ont été les effets du séisme  du 24 août 2016 en termes de victimes, de blessés et de dégâts matériels ?'],\n",
    "    'IRSN-Seisme-Charente-Maritime-France-20190320_v1.1.pdf': ['Quels ont été les effets du séisme de Montendre en termes de ressenti par la population et et de dégâts matériels ?', 'Comment le séisme de Montendre de 2019 se compare-t-il aux plus forts séismes historiques de la région ?'],\n",
    "    'IRSN-Seisme-Civaux-09092013.pdf': [\"Quelle est la magnitude du séisme qui s'est produit à Lhommaizé le 9 septembre 2013, et où était situé son épicentre ?\", 'Quels ont été les effets du séisme de Lhommaizé en termes de ressenti par la population et de dégâts matériels ?'],\n",
    "    'IRSN-Seisme-Kent-22052015.pdf': [\"Quels ont été les impacts du séisme dans le Kent le 22 mai 2015 en termes de secousses ressenties, d'intensités et de mécanisme sismique associé ?\", 'Quelle est la sismicité historique dans le détroit du pas de Calais, et quelles sont les recherches menées pour mieux comprendre le risque sismique dans cette région ?'],\n",
    "    'IRSN-Seisme-Elazig-Turquie-24012020.pdf': [\"Quelle est la géodynamique de la région et la sismicité régionale autour d'Elazig ?\", 'Quelles sont les conséquences sur les installations nucléaires à proximité, en particulier la centrale nucléaire de Metsamor en Arménie, et quels sont les projets de centrales nucléaires en Turquie ?'],\n",
    "    'IRSN-Seisme-Fukushima-13022021.pdf': [\"Quelle est la magnitude du séisme qui s'est produit à Fukushima le 13 février 2021, et où était situé son épicentre ?\", 'Quels ont été les impacts du séisme de Fukushima en termes de victimes, de dommages matériels et de secousses ressenties dans la région ?'],\n",
    "    'IRSN-Seisme-LaRochelle-28042016.pdf': [\"Quelle est la magnitude du séisme qui s'est produit à La Rochelle le 28 avril 2016, et où était situé son épicentre ?\", \"Quelle est la sismicité historique et actuelle au nord de l'Aquitaine, et comment le séisme de 2016 s'inscrit-il dans ce contexte ?\"],\n",
    "    'IRSN-Seisme-Manosque-19092012.pdf': [\"Quels ont été les faits marquants du séisme à Villeneuve le 19 septembre 2012, en termes de répliques, de secousses ressenties, et d'historique sismique de la région ?\", \"Quelle est la géométrie de la Faille de la Moyenne Durance, et comment le séisme de 2012 s'inscrit-il dans l'activité de cette faille ?\"],\n",
    "    'IRSN-Seisme-Napa-24082014.pdf': [\"Quelle est la magnitude du séisme qui s'est produit à Napa le 24 août 2014, et quelles sont les principales caractéristiques de ce séisme ?\", 'Quelle est la localisation du séisme de Napa par rapport aux failles tectoniques de la région, et quelles sont les caractéristiques tectoniques de cette zone ?'],\n",
    "    'IRSN-Seisme-Norcia-Italie-301016_V1.pdf': [\"Quelle est la magnitude du séisme qui s'est produit en Italie centrale le 30 octobre 2016, et quelles sont les principales caractéristiques de ce séisme ?\", \"Quels sont les enseignements tirés de la séquence sismique en Italie centrale, et en quoi cette expérience peut-elle être importante pour la compréhension des risques sismiques dans d'autres régions, y compris en France ?\"],\n",
    "    'IRSN-Seisme-Vendee-France-20180212.pdf': ['Quand et où a eu lieu le séisme de Saint-Hilaire-de-Voust en 2018, quelle était sa magnitude, et quels sont les dégâts signalés?', \"Quel a été l'impact du séisme de Saint-Hilaire-de-Voust de 2018 sur les installations nucléaires, et quelles sont les installations nucléaires les plus proches de l'épicentre?\"]}"
   ]
  },
  {
   "cell_type": "markdown",
   "id": "cb43f871-220e-4942-9d2e-55ebe345e244",
   "metadata": {
    "jp-MarkdownHeadingCollapsed": true
   },
   "source": [
    "#### Script pour obtenir tous les résultats"
   ]
  },
  {
   "cell_type": "code",
   "execution_count": 33,
   "id": "0c05da5a-06c8-4482-834e-3304cced33b1",
   "metadata": {},
   "outputs": [
    {
     "name": "stderr",
     "output_type": "stream",
     "text": [
      "Setting `pad_token_id` to `eos_token_id`:2 for open-end generation.\n"
     ]
    },
    {
     "name": "stdout",
     "output_type": "stream",
     "text": [
      "Clé: IRSN Fiche seisme MULHOUSE 13092022.pdf\n"
     ]
    },
    {
     "name": "stderr",
     "output_type": "stream",
     "text": [
      "Setting `pad_token_id` to `eos_token_id`:2 for open-end generation.\n",
      "Setting `pad_token_id` to `eos_token_id`:2 for open-end generation.\n"
     ]
    },
    {
     "name": "stdout",
     "output_type": "stream",
     "text": [
      "Clé: IRSN_Fiche-Seisme-Maroc.pdf\n"
     ]
    },
    {
     "name": "stderr",
     "output_type": "stream",
     "text": [
      "Setting `pad_token_id` to `eos_token_id`:2 for open-end generation.\n",
      "Setting `pad_token_id` to `eos_token_id`:2 for open-end generation.\n"
     ]
    },
    {
     "name": "stdout",
     "output_type": "stream",
     "text": [
      "Clé: IRSN_Fiche-Seisme-Ouest-France-16-juin-2023_V1-17062023.pdf\n"
     ]
    },
    {
     "name": "stderr",
     "output_type": "stream",
     "text": [
      "Setting `pad_token_id` to `eos_token_id`:2 for open-end generation.\n",
      "Setting `pad_token_id` to `eos_token_id`:2 for open-end generation.\n"
     ]
    },
    {
     "name": "stdout",
     "output_type": "stream",
     "text": [
      "Clé: irsn_seisme_argeles_gazost_112006.pdf\n"
     ]
    },
    {
     "name": "stderr",
     "output_type": "stream",
     "text": [
      "Setting `pad_token_id` to `eos_token_id`:2 for open-end generation.\n",
      "Setting `pad_token_id` to `eos_token_id`:2 for open-end generation.\n"
     ]
    },
    {
     "name": "stdout",
     "output_type": "stream",
     "text": [
      "Clé: irsn_seisme_chinon_11_2006.pdf\n"
     ]
    },
    {
     "name": "stderr",
     "output_type": "stream",
     "text": [
      "Setting `pad_token_id` to `eos_token_id`:2 for open-end generation.\n",
      "Setting `pad_token_id` to `eos_token_id`:2 for open-end generation.\n"
     ]
    },
    {
     "name": "stdout",
     "output_type": "stream",
     "text": [
      "Clé: IRSN_seisme_Christchurch-NZ_23022011.pdf\n"
     ]
    },
    {
     "name": "stderr",
     "output_type": "stream",
     "text": [
      "Setting `pad_token_id` to `eos_token_id`:2 for open-end generation.\n",
      "Setting `pad_token_id` to `eos_token_id`:2 for open-end generation.\n"
     ]
    },
    {
     "name": "stdout",
     "output_type": "stream",
     "text": [
      "Clé: IRSN_seisme_france-26022012_V2.pdf\n"
     ]
    },
    {
     "name": "stderr",
     "output_type": "stream",
     "text": [
      "Setting `pad_token_id` to `eos_token_id`:2 for open-end generation.\n",
      "Setting `pad_token_id` to `eos_token_id`:2 for open-end generation.\n"
     ]
    },
    {
     "name": "stdout",
     "output_type": "stream",
     "text": [
      "Clé: IRSN_seisme_Italie-20052012.pdf\n"
     ]
    },
    {
     "name": "stderr",
     "output_type": "stream",
     "text": [
      "Setting `pad_token_id` to `eos_token_id`:2 for open-end generation.\n",
      "Setting `pad_token_id` to `eos_token_id`:2 for open-end generation.\n"
     ]
    },
    {
     "name": "stdout",
     "output_type": "stream",
     "text": [
      "Clé: IRSN_Seisme_Lorca-Espagne_18052011.pdf\n"
     ]
    },
    {
     "name": "stderr",
     "output_type": "stream",
     "text": [
      "Setting `pad_token_id` to `eos_token_id`:2 for open-end generation.\n",
      "Setting `pad_token_id` to `eos_token_id`:2 for open-end generation.\n"
     ]
    },
    {
     "name": "stdout",
     "output_type": "stream",
     "text": [
      "Clé: irsn_seisme_martinique_122007.pdf\n"
     ]
    },
    {
     "name": "stderr",
     "output_type": "stream",
     "text": [
      "Setting `pad_token_id` to `eos_token_id`:2 for open-end generation.\n",
      "Setting `pad_token_id` to `eos_token_id`:2 for open-end generation.\n"
     ]
    },
    {
     "name": "stdout",
     "output_type": "stream",
     "text": [
      "Clé: irsn_seisme_niigata_japon_092007.pdf\n"
     ]
    },
    {
     "name": "stderr",
     "output_type": "stream",
     "text": [
      "Setting `pad_token_id` to `eos_token_id`:2 for open-end generation.\n",
      "Setting `pad_token_id` to `eos_token_id`:2 for open-end generation.\n"
     ]
    },
    {
     "name": "stdout",
     "output_type": "stream",
     "text": [
      "Clé: IRSN_seisme_sumatra-11042012.pdf\n"
     ]
    },
    {
     "name": "stderr",
     "output_type": "stream",
     "text": [
      "Setting `pad_token_id` to `eos_token_id`:2 for open-end generation.\n",
      "Setting `pad_token_id` to `eos_token_id`:2 for open-end generation.\n"
     ]
    },
    {
     "name": "stdout",
     "output_type": "stream",
     "text": [
      "Clé: IRSN_seisme_turquie-23102011.pdf\n"
     ]
    },
    {
     "name": "stderr",
     "output_type": "stream",
     "text": [
      "Setting `pad_token_id` to `eos_token_id`:2 for open-end generation.\n",
      "Setting `pad_token_id` to `eos_token_id`:2 for open-end generation.\n"
     ]
    },
    {
     "name": "stdout",
     "output_type": "stream",
     "text": [
      "Clé: IRSN_seisme_virginie-US-23082011.pdf\n"
     ]
    },
    {
     "name": "stderr",
     "output_type": "stream",
     "text": [
      "Setting `pad_token_id` to `eos_token_id`:2 for open-end generation.\n",
      "Setting `pad_token_id` to `eos_token_id`:2 for open-end generation.\n"
     ]
    },
    {
     "name": "stdout",
     "output_type": "stream",
     "text": [
      "Clé: irsn_Seisme-Afghanistan_032002.pdf\n"
     ]
    },
    {
     "name": "stderr",
     "output_type": "stream",
     "text": [
      "Setting `pad_token_id` to `eos_token_id`:2 for open-end generation.\n",
      "Setting `pad_token_id` to `eos_token_id`:2 for open-end generation.\n"
     ]
    },
    {
     "name": "stdout",
     "output_type": "stream",
     "text": [
      "Clé: irsn_seisme-algerie_052003.pdf\n"
     ]
    },
    {
     "name": "stderr",
     "output_type": "stream",
     "text": [
      "Setting `pad_token_id` to `eos_token_id`:2 for open-end generation.\n",
      "Setting `pad_token_id` to `eos_token_id`:2 for open-end generation.\n"
     ]
    },
    {
     "name": "stdout",
     "output_type": "stream",
     "text": [
      "Clé: irsn_Seisme-Allemagne_122004.pdf\n"
     ]
    },
    {
     "name": "stderr",
     "output_type": "stream",
     "text": [
      "Setting `pad_token_id` to `eos_token_id`:2 for open-end generation.\n",
      "Setting `pad_token_id` to `eos_token_id`:2 for open-end generation.\n"
     ]
    },
    {
     "name": "stdout",
     "output_type": "stream",
     "text": [
      "Clé: irsn_Seisme-Besancon_022004.pdf\n"
     ]
    },
    {
     "name": "stderr",
     "output_type": "stream",
     "text": [
      "Setting `pad_token_id` to `eos_token_id`:2 for open-end generation.\n"
     ]
    },
    {
     "name": "stdout",
     "output_type": "stream",
     "text": [
      "Clé: IRSN_seisme-haiti_130110.pdf\n"
     ]
    },
    {
     "name": "stderr",
     "output_type": "stream",
     "text": [
      "Setting `pad_token_id` to `eos_token_id`:2 for open-end generation.\n",
      "Setting `pad_token_id` to `eos_token_id`:2 for open-end generation.\n"
     ]
    },
    {
     "name": "stdout",
     "output_type": "stream",
     "text": [
      "Clé: irsn_Seisme-Inde_012001.pdf\n"
     ]
    },
    {
     "name": "stderr",
     "output_type": "stream",
     "text": [
      "Setting `pad_token_id` to `eos_token_id`:2 for open-end generation.\n",
      "Setting `pad_token_id` to `eos_token_id`:2 for open-end generation.\n"
     ]
    },
    {
     "name": "stdout",
     "output_type": "stream",
     "text": [
      "Clé: irsn_Seisme-Japon_052003.pdf\n"
     ]
    },
    {
     "name": "stderr",
     "output_type": "stream",
     "text": [
      "Setting `pad_token_id` to `eos_token_id`:2 for open-end generation.\n",
      "Setting `pad_token_id` to `eos_token_id`:2 for open-end generation.\n"
     ]
    },
    {
     "name": "stdout",
     "output_type": "stream",
     "text": [
      "Clé: IRSN_Seisme-Japon_Replique-7-avril_V1-08042011.pdf\n"
     ]
    },
    {
     "name": "stderr",
     "output_type": "stream",
     "text": [
      "Setting `pad_token_id` to `eos_token_id`:2 for open-end generation.\n",
      "Setting `pad_token_id` to `eos_token_id`:2 for open-end generation.\n"
     ]
    },
    {
     "name": "stdout",
     "output_type": "stream",
     "text": [
      "Clé: IRSN_seisme-Japon_V2-22042011.pdf\n"
     ]
    },
    {
     "name": "stderr",
     "output_type": "stream",
     "text": [
      "Setting `pad_token_id` to `eos_token_id`:2 for open-end generation.\n",
      "Setting `pad_token_id` to `eos_token_id`:2 for open-end generation.\n"
     ]
    },
    {
     "name": "stdout",
     "output_type": "stream",
     "text": [
      "Clé: IRSN_seisme-Manosque_V1-12072010.pdf\n"
     ]
    },
    {
     "name": "stderr",
     "output_type": "stream",
     "text": [
      "Setting `pad_token_id` to `eos_token_id`:2 for open-end generation.\n",
      "Setting `pad_token_id` to `eos_token_id`:2 for open-end generation.\n"
     ]
    },
    {
     "name": "stdout",
     "output_type": "stream",
     "text": [
      "Clé: irsn_Seisme-Mexique_012003.pdf\n"
     ]
    },
    {
     "name": "stderr",
     "output_type": "stream",
     "text": [
      "Setting `pad_token_id` to `eos_token_id`:2 for open-end generation.\n",
      "Setting `pad_token_id` to `eos_token_id`:2 for open-end generation.\n"
     ]
    },
    {
     "name": "stdout",
     "output_type": "stream",
     "text": [
      "Clé: IRSN-Seisme-Amatrice-Italie-240816_V1.pdf\n"
     ]
    },
    {
     "name": "stderr",
     "output_type": "stream",
     "text": [
      "Setting `pad_token_id` to `eos_token_id`:2 for open-end generation.\n",
      "Setting `pad_token_id` to `eos_token_id`:2 for open-end generation.\n"
     ]
    },
    {
     "name": "stdout",
     "output_type": "stream",
     "text": [
      "Clé: IRSN-Seisme-Charente-Maritime-France-20190320_v1.1.pdf\n"
     ]
    },
    {
     "name": "stderr",
     "output_type": "stream",
     "text": [
      "Setting `pad_token_id` to `eos_token_id`:2 for open-end generation.\n",
      "Setting `pad_token_id` to `eos_token_id`:2 for open-end generation.\n"
     ]
    },
    {
     "name": "stdout",
     "output_type": "stream",
     "text": [
      "Clé: IRSN-Seisme-Civaux-09092013.pdf\n"
     ]
    },
    {
     "name": "stderr",
     "output_type": "stream",
     "text": [
      "Setting `pad_token_id` to `eos_token_id`:2 for open-end generation.\n",
      "Setting `pad_token_id` to `eos_token_id`:2 for open-end generation.\n"
     ]
    },
    {
     "name": "stdout",
     "output_type": "stream",
     "text": [
      "Clé: IRSN-Seisme-Kent-22052015.pdf\n"
     ]
    },
    {
     "name": "stderr",
     "output_type": "stream",
     "text": [
      "Setting `pad_token_id` to `eos_token_id`:2 for open-end generation.\n",
      "Setting `pad_token_id` to `eos_token_id`:2 for open-end generation.\n"
     ]
    },
    {
     "name": "stdout",
     "output_type": "stream",
     "text": [
      "Clé: IRSN-Seisme-Elazig-Turquie-24012020.pdf\n"
     ]
    },
    {
     "name": "stderr",
     "output_type": "stream",
     "text": [
      "Setting `pad_token_id` to `eos_token_id`:2 for open-end generation.\n",
      "Setting `pad_token_id` to `eos_token_id`:2 for open-end generation.\n"
     ]
    },
    {
     "name": "stdout",
     "output_type": "stream",
     "text": [
      "Clé: IRSN-Seisme-Fukushima-13022021.pdf\n"
     ]
    },
    {
     "name": "stderr",
     "output_type": "stream",
     "text": [
      "Setting `pad_token_id` to `eos_token_id`:2 for open-end generation.\n",
      "Setting `pad_token_id` to `eos_token_id`:2 for open-end generation.\n"
     ]
    },
    {
     "name": "stdout",
     "output_type": "stream",
     "text": [
      "Clé: IRSN-Seisme-LaRochelle-28042016.pdf\n"
     ]
    },
    {
     "name": "stderr",
     "output_type": "stream",
     "text": [
      "Setting `pad_token_id` to `eos_token_id`:2 for open-end generation.\n",
      "Setting `pad_token_id` to `eos_token_id`:2 for open-end generation.\n"
     ]
    },
    {
     "name": "stdout",
     "output_type": "stream",
     "text": [
      "Clé: IRSN-Seisme-Manosque-19092012.pdf\n"
     ]
    },
    {
     "name": "stderr",
     "output_type": "stream",
     "text": [
      "Setting `pad_token_id` to `eos_token_id`:2 for open-end generation.\n",
      "Setting `pad_token_id` to `eos_token_id`:2 for open-end generation.\n"
     ]
    },
    {
     "name": "stdout",
     "output_type": "stream",
     "text": [
      "Clé: IRSN-Seisme-Napa-24082014.pdf\n"
     ]
    },
    {
     "name": "stderr",
     "output_type": "stream",
     "text": [
      "Setting `pad_token_id` to `eos_token_id`:2 for open-end generation.\n",
      "Setting `pad_token_id` to `eos_token_id`:2 for open-end generation.\n"
     ]
    },
    {
     "name": "stdout",
     "output_type": "stream",
     "text": [
      "Clé: IRSN-Seisme-Norcia-Italie-301016_V1.pdf\n"
     ]
    },
    {
     "name": "stderr",
     "output_type": "stream",
     "text": [
      "Setting `pad_token_id` to `eos_token_id`:2 for open-end generation.\n",
      "Setting `pad_token_id` to `eos_token_id`:2 for open-end generation.\n"
     ]
    },
    {
     "name": "stdout",
     "output_type": "stream",
     "text": [
      "Clé: IRSN-Seisme-Vendee-France-20180212.pdf\n"
     ]
    },
    {
     "name": "stderr",
     "output_type": "stream",
     "text": [
      "Setting `pad_token_id` to `eos_token_id`:2 for open-end generation.\n"
     ]
    },
    {
     "name": "stdout",
     "output_type": "stream",
     "text": [
      "\n",
      "Dictionnaire de réponses:\n",
      "{'IRSN Fiche seisme MULHOUSE 13092022.pdf': [Response(response='\\nThe magnitude of the earthquake in Mulhouse is 3.9 (Mw - Géoazur). The earthquake occurred at 15h58 TU (17h58 local time) on September 1, 2022, and was located at 7.471° E and 47.669° N. The earthquake was felt throughout the region of Grand Est and caused damage to buildings. The maximum intensity of the earthquake was IV on the RENASS scale, which corresponds to a perception that is moderately felt and did not cause any damage to buildings.', source_nodes=[NodeWithScore(node=TextNode(id_='e9d0f049-88cf-4366-85d8-91fbfb13c7fe', embedding=None, metadata={'page_label': '1', 'file_name': '/share/data/fiches_seismes/IRSN Fiche seisme MULHOUSE 13092022.pdf'}, excluded_embed_metadata_keys=[], excluded_llm_metadata_keys=[], relationships={<NodeRelationship.SOURCE: '1'>: RelatedNodeInfo(node_id='e7c34ba8-7725-4848-8b49-24e10053d92a', node_type=<ObjectType.DOCUMENT: '4'>, metadata={'page_label': '1', 'file_name': '/share/data/fiches_seismes/IRSN Fiche seisme MULHOUSE 13092022.pdf'}, hash='fc711603faf6731f7f9f165374163da5b2057bd4e575e310adb120d39402065c'), <NodeRelationship.PREVIOUS: '2'>: RelatedNodeInfo(node_id='c2b051b6-f77e-42e9-ada1-0bcd2cec6793', node_type=<ObjectType.TEXT: '1'>, metadata={'page_label': '3', 'file_name': '/share/data/fiches_seismes/irsn_seisme-algerie_052003.pdf'}, hash='a51cb662a4b49edf010e1e064076224567fed3baca34fb2f23529ab35b92f522'), <NodeRelationship.NEXT: '3'>: RelatedNodeInfo(node_id='8183b8ff-b643-4712-9bab-109afcff9b1f', node_type=<ObjectType.TEXT: '1'>, metadata={}, hash='266c534d25f1581ffdcda5644feeafd90c7758adc09f02038d0a192e313396b4')}, text='INFORMATION : Séisme de  Mulhouse (Haut -Rhin ) \\nFigure 1: Carte d’intensités macrosismiques issue de 20 68 témoignages en France. Source  : BCSF    \\nV1 13/09/2022\\n \\nSéism e de Mulhouse (Haut -Rhin ) \\ndu 1 0 septembre 2022  (15h58  TU – 17h58 locale)  \\nMagnitude = 3,9 (Mw –Géoazur )\\n \\n \\n \\n \\n \\n \\n \\n \\n \\n \\n \\n \\n \\n                              \\n \\n SÉISME  Fiche information  \\nLe Bureau d’évaluation des risques \\nsismiques pour la sûreté des \\ninstallations (BERSSIN) de l’IRSN \\neffectue des recherches et des \\nexpertises sur l’aléa sismique en tant \\nque source d’agression externe des \\ninstallations à risque  \\n \\nContact :  contact@irsn.fr  \\nLa secousse principale a été suivie par plusieurs répliques de magnitudes comprises \\nentre 1,0 et 3,2 sur l ’échelle de magnitude locale ( RENASS ). \\nLa secousse a été largement ressentie dans la région du Grand Est . \\nAu 1 3 septembre à 12h30, 2068 témoignages ont été recueillis par le BCSF, \\npermettant d’établir une carte d’intensités atteignant au maximum IV au plus près de \\nl’épicentre, correspondant à une perception humaine modérée et n’ayant engendré \\naucun dégât sur les bâtiments.  \\n \\n Rappel des faits . \\nSamedi 10 septembre 2022 à 17h58 heure locale, un séisme s’est produit à 14 km au \\nSE de Mulhouse et 15 km au NO de Bâle ( localisation selon le RENASS  : 7,471° E et \\n47,669 °N ), avec une profondeur estimée de 12+/ -2 km.  Ce séisme a une magnitude \\nmodérée estimée à 3,9 en magnitude de moment* ( Géoazur ) et à 4,8 en magnitude \\nlocale ( CEA-LDG). \\n \\n \\n*La magnitude de moment est représentative \\nde l’énergie émise par la source lors d’un \\nséisme.', start_char_idx=4, end_char_idx=1611, text_template='{metadata_str}\\n\\n{content}', metadata_template='{key}: {value}', metadata_seperator='\\n'), score=0.8167890764437487), NodeWithScore(node=TextNode(id_='c463f41b-b599-4b70-bd8a-5060c1d34ed3', embedding=None, metadata={'page_label': '2', 'file_name': '/share/data/fiches_seismes/IRSN_seisme-Manosque_V1-12072010.pdf'}, excluded_embed_metadata_keys=[], excluded_llm_metadata_keys=[], relationships={<NodeRelationship.SOURCE: '1'>: RelatedNodeInfo(node_id='9815e09d-480d-41a7-94d8-fab47a700ca2', node_type=<ObjectType.DOCUMENT: '4'>, metadata={'page_label': '2', 'file_name': '/share/data/fiches_seismes/IRSN_seisme-Manosque_V1-12072010.pdf'}, hash='3b6a8b00edc7085e9a49225cdc4be18b60d538f5dd2558a2a558c0deb606f3ff'), <NodeRelationship.PREVIOUS: '2'>: RelatedNodeInfo(node_id='a5c78511-dada-433f-b087-73263e35d00c', node_type=<ObjectType.TEXT: '1'>, metadata={'page_label': '1', 'file_name': '/share/data/fiches_seismes/IRSN_seisme-Manosque_V1-12072010.pdf'}, hash='e6ab4147b99d703d9162efc8ee18020d8ab42c7fd232bb8f3f58a9901b26fbcd'), <NodeRelationship.NEXT: '3'>: RelatedNodeInfo(node_id='53125872-f174-43be-ae6b-647e85eb7fa7', node_type=<ObjectType.TEXT: '1'>, metadata={}, hash='3113706364abf483bac5f2ce67d0ebe294a4175395de9e496b42209b2167dd8e')}, text='I  N  F  O  R  M  A  T  I  O  N\\n2\\n 12 juillet 2010Localisation du séisme\\nL’IRSN maintient, en partenariat avec le Réseau  Accélérométrique Permanent (GIS-RAP), 3 stations \\naccélérométriques autour de la FMD. Le dépouilleme nt des enregistrements est en cours. D’après les \\nestimations faites par la société Magnitude (prestataire IRSN pour la maintenance), le séisme s’est \\nproduit à environ 4 km de profondeur à l’aplomb du ravin de Couquières (à 400 mètres des faubourgs \\nouest de Manosque). La localisation du séisme est illustrée dans son contexte géologique sur le bloc diagramme présenté en figure 2. Compte tenu de  sa localisation, il pourrait être associé au \\nmouvement d’un segment de la FMD, limita nt à l’est l’anticlinal de Manosque.Figure 2 : Bloc diagramme présentant la géométri e de la Faille de la Moyenne Durance et la \\nposition du foyer du séisme.\\nLa région PACA est l’une des régions françaises (hors territoires d’outre-mer) les plus exposées au risque sismique, même s’il reste modéré. On peut citer en particulier deux séismes qui, dans un \\npassé peu éloigné, ont eu des conséquences sévères, provoquant des dommages importants aux \\nconstructions et des pertes en vies humaines : le sé isme du 23 février 1887 en région Ligure, au sud-\\nest de Nice (magnitude de l’ordre de 6,5), et celui du 11 juin 1909 de Lambesc (magnitude de l’ordre \\nde 6) dans les chaînons calcaires entr e Salon-de-Provence et Aix-en-Provence. \\nOutre ces séismes de magnitude forte à modérée, la région PACA est également le siège d’une \\nsismicité régulière de plus faible niveau. Elle s’ex prime principalement dans l’arrière-pays niçois et \\nle long d’un axe reliant la région aixoise aux confins des Alpes-de-Haute-Provence et s’étendant \\njusqu’à la région de la Motte-du-Caire. Sur ce dernier axe, qui correspond à la trace d’une faille très ancienne (300 millions d’années), des séismes de magnitude faible à modérée (typiquement de magnitudes de l’ordre de 5) se sont produits pr esque régulièrement depuis le XVIe siècle. Cette \\nfaille, ou plutôt « système de failles », est dénommée par les géologues « Faille de la Moyenne \\nDurance » (FMD).\\nDepuis le début des années 1990, l’IRSN a mené des études visant à évaluer la « potentialité\\nsismique » de la FMD grâce à l’installa tion durant environ 15 ans d’un réseau de surveillance sismique \\nvisant à comprendre le fonctionnement de la fai lle. L’ensemble des travaux menés, notamment avec \\nle CEREGE (Université d’Aix-Marseille),  a permis de préciser la cartogra phie de la faille en surface et \\nen profondeur et de comprendre comment se produi sent les déformations le long de la faille. Ces \\nétudes ont conclu à la possibilité de séismes très importants mais rares (à l’échelle de plusieurs \\nmilliers d’années). Les géologues ont également mis en évidence, à l’échelle régionale et sur la FMD en particulier, des traces de séismes très anciens (paléoséismes) qui auraient pu atteindre ou dépasser les magnitudes des séismes de  Lambesc et de la région Ligure.Sismicité de la région Provence-Alpes-Côte d’Azur (PACA)', start_char_idx=0, end_char_idx=3071, text_template='{metadata_str}\\n\\n{content}', metadata_template='{key}: {value}', metadata_seperator='\\n'), score=0.814778635461861)], metadata={'e9d0f049-88cf-4366-85d8-91fbfb13c7fe': {'page_label': '1', 'file_name': '/share/data/fiches_seismes/IRSN Fiche seisme MULHOUSE 13092022.pdf'}, 'c463f41b-b599-4b70-bd8a-5060c1d34ed3': {'page_label': '2', 'file_name': '/share/data/fiches_seismes/IRSN_seisme-Manosque_V1-12072010.pdf'}}), Response(response='\\nThe earthquake in Mulhouse is linked to the tectonics of the Fossé Rhénan, which is a rift system that has been forming for approximately 40 million years. The Fossé Rhénan is characterized by a system of faults oriented primarily in the direction of NNE-SSO, with several faults presenting markers of recent activity (quaternary). The mechanism of the earthquake in Mulhouse determined that it was a pure decrochant earthquake, which is consistent with the regional context and the earthquakes that have occurred in the past, such as the earthquake in Sierentz in 1980. This earthquake, of magnitude local 4.7, was located approximately 4 km from the epicenter of the earthquake in Mulhouse and produced several hundred aftershocks in the 16 days following the main shock. At this time, a few significant aftershocks have been recorded following the earthquake in Mulhouse, and the activity of the seismic swarm may continue in the coming days. The precise location of these aftershocks could help identify the active structures in the region.\\n\\nIn addition, the region of Bâle is', source_nodes=[NodeWithScore(node=TextNode(id_='8183b8ff-b643-4712-9bab-109afcff9b1f', embedding=None, metadata={'page_label': '2', 'file_name': '/share/data/fiches_seismes/IRSN Fiche seisme MULHOUSE 13092022.pdf'}, excluded_embed_metadata_keys=[], excluded_llm_metadata_keys=[], relationships={<NodeRelationship.SOURCE: '1'>: RelatedNodeInfo(node_id='e6a2d8b1-8db0-45b7-8548-2d574999e586', node_type=<ObjectType.DOCUMENT: '4'>, metadata={'page_label': '2', 'file_name': '/share/data/fiches_seismes/IRSN Fiche seisme MULHOUSE 13092022.pdf'}, hash='39dc2da9e5f7171700998ce83136136d3b3e41e0e1a9a0fe525cb7ac81ace601'), <NodeRelationship.PREVIOUS: '2'>: RelatedNodeInfo(node_id='e9d0f049-88cf-4366-85d8-91fbfb13c7fe', node_type=<ObjectType.TEXT: '1'>, metadata={'page_label': '1', 'file_name': '/share/data/fiches_seismes/IRSN Fiche seisme MULHOUSE 13092022.pdf'}, hash='b079d05663ed18259ec384c0506e23d58ac543400d8fe741a6e0f384dca310f2'), <NodeRelationship.NEXT: '3'>: RelatedNodeInfo(node_id='57863efb-5dae-4375-9cc4-51c95e65952c', node_type=<ObjectType.TEXT: '1'>, metadata={}, hash='52f44620b49463cb194fd5d9bd49726ccbc98cf2f8654b8e00fe25857cb5949f')}, text='Figure 2: Carte  de ressentis issue de 1836 \\ntémoignages en Europe. Source  : CSEM -EMSC  \\nFigure 3: Contexte sismotectonique du Fossé Rhénan (d’après Jomard \\net al., 2017). L’étoile représente la localisation épicentrale du séisme \\ndu 10 septembre 2022. Les tracés noirs représentent les failles \\nrépertoriées dans la base de données de failles actives. Les cercles \\nblancs représentent la sismicité instrumentale de la région (CEA -\\nLDG). Les cercles colorés représentent la sismicité historique \\nrépertoriée dans la base de donnée s SisFrance  (BRGM, EDF, IRSN) . La \\nlocalisation de la centrale de Fessenheim est indiquée par un carré \\ngris.  Les témoignages reportent les bruits  et vibrations ressenties \\nainsi que la chute marginale d’objets (Figure 1).  \\nLes secousses ont également été largement ressenties en \\nAllemagne et en Suisse comme en témoigne la carte des \\nintens ités ressenties répertoriées par le CSEM -EMSC  (Figure \\n2). La secousse  principale  a été largement enregistrée aux \\nstations sismologiques du réseau sismique Français (Résif).  \\nLa station la plus proche (localisée à environ 3 km de \\nl’épicentre) a enregistré une valeur de pic d’accélération du sol \\nd’environ 0,05 g  \\n \\n \\n \\n \\n \\n \\n \\n \\n \\n \\n \\n \\n Contexte géodynamique et sismicité régionale .\\nCe séisme apparaît caractéristique de la tectonique du Fossé \\nRhénan, dont la partie sud est une des régions parmi les plus \\nactives de France métropolitaine. Le Fossé Rhénan est un \\nsystème de rift ayant commencé à se former il y a environ 40 \\nmillions d’années. Il est aujourd’hui caractérisé par un système \\nde failles orientées princi palement NNE -SSO (figure 3) dont \\nplusieurs présentent des marqueurs d’activité récente \\n(quaternaire). Le mécanisme au foyer déterminé pour le \\nséisme du 10 septembre 2022 indique un séisme purement \\ndécrochant sénestre en cohérence avec le contexte régional et \\nles séismes survenus dans le passé, dont le séisme de Sierentz \\nde 1980. Ce dernier, de magnitude locale 4,7, localisé à \\nenviron 4 km de l’épicentre du séisme de 2022 , a produit  \\nplusieurs centaines de répliques enregistrées dans les 16 jours \\nqui ont suiv i le choc principal. À ce jour quelques répliques \\nsignificatives ont été enregistrées à la suite du séisme de \\nseptembre 2022, l’activité sismique pourrait donc se \\npoursuivre dans les jours à venir. La localisation précise de ces \\nséismes pourrait contribuer  à identifier les structures actives \\naujourd’hui.   \\nPar ailleurs, la région de Bâle est marquée par une sismicité \\nhistorique récurrente, qui compte plusieurs séismes \\nd’intensité épicentrale supérieur e à V, les plus importants \\nétant les séismes de Bâle de 1356 (intensités MSK=VII -VIII et \\nIX-X). Les failles associées à ces événements historiques \\nrestent mal connues et rien ne permet actuellement d’affirmer \\nque les structures à l’origine de ces séismes s oient communes \\nà celle du séisme de 2022  (Figure 3).', start_char_idx=3, end_char_idx=2925, text_template='{metadata_str}\\n\\n{content}', metadata_template='{key}: {value}', metadata_seperator='\\n'), score=0.7949677346498248), NodeWithScore(node=TextNode(id_='8911ed22-0bff-4835-a253-5425cfc53991', embedding=None, metadata={'page_label': '4', 'file_name': '/share/data/fiches_seismes/irsn_seisme_martinique_122007.pdf'}, excluded_embed_metadata_keys=[], excluded_llm_metadata_keys=[], relationships={<NodeRelationship.SOURCE: '1'>: RelatedNodeInfo(node_id='84fb84b1-8b77-48be-ab16-2be28b3c43e1', node_type=<ObjectType.DOCUMENT: '4'>, metadata={'page_label': '4', 'file_name': '/share/data/fiches_seismes/irsn_seisme_martinique_122007.pdf'}, hash='a8ff6f353f73cfc3b338aa0631bb8b583f5f21744c0ebbbf78bde2a53c87f3c9'), <NodeRelationship.PREVIOUS: '2'>: RelatedNodeInfo(node_id='b5b9542b-8435-4d59-8c74-f66451f3b328', node_type=<ObjectType.TEXT: '1'>, metadata={'page_label': '3', 'file_name': '/share/data/fiches_seismes/irsn_seisme_martinique_122007.pdf'}, hash='49a82225267e5347bc1ec9a3a7b444d0ff78ed3c4b9f229ee9e0892b59ab4dce'), <NodeRelationship.NEXT: '3'>: RelatedNodeInfo(node_id='1de730e8-b642-438d-8758-cff3c0e6e3c9', node_type=<ObjectType.TEXT: '1'>, metadata={}, hash='a6a9acb25aaae0d12bc1c26482192f0fd08c7cb1e163d3199266c43b1494da19')}, text='La Martinique et la Guadeloupe sont dans la zone de sismicité la plus élevée dans la réglementation actuelle \\nfrançaise pour le bâtiment conventionnel, et le resteront dans le futur zonage sismique. Le Plan Séisme piloté par \\nle MEDAD et lancé fin 2004 comporte des actions très fortes vers les Antilles, avec une priorité et des \\nfinancements (plus de 300 M€) orientés vers le renforcement du bâti. La première phase du Plan vise les \\nétablissements scolaires et sociaux ainsi que les centres de crise, une seconde phase, qui devrait débuter en 2012 être consacrée à la rénovation de deux centres hospital iers. (source Actu-Environnement, article de Janvier 2007).Prise en compte du risq ue sismique aux Antilles\\nLes enseignements\\n\\x83Le séisme du 29 novembre 2007 est caractéristiqu e des évènements sismiques de subduction, qui \\nplacent la Martinique et la Guad eloupe dans la zone d’aléa sism ique la plus forte en France.\\n\\x83Le séisme, localisé à proximité de la Martinique, a ét é très fortement ressenti dans tout l’Arc Antillais \\net jusqu’au Venezuela, Colombie et Guyane. Le bi lan définitif des dégâts matériels et humains (en \\ntermes de blessés voire de décès) associé à ce séisme n’est pas établi.\\n\\x83La grande profondeur du séisme a rapidement exclu l’occurrence d’un tsunami et limité les dommages. \\nLes victimes sont dues davantage à des réaction s de panique plus qu’à des dommages sur le bâti.\\n\\x83L’exploitation des données accélérométrique illustre la grande variabilité des données de mouvements \\nde terrain observées dans cette zone.Figure 4 Figure 5I  N  F  O  R  M  A  T  I  O  N\\n12 décembre 2007 4', start_char_idx=0, end_char_idx=1612, text_template='{metadata_str}\\n\\n{content}', metadata_template='{key}: {value}', metadata_seperator='\\n'), score=0.7945975269900373)], metadata={'8183b8ff-b643-4712-9bab-109afcff9b1f': {'page_label': '2', 'file_name': '/share/data/fiches_seismes/IRSN Fiche seisme MULHOUSE 13092022.pdf'}, '8911ed22-0bff-4835-a253-5425cfc53991': {'page_label': '4', 'file_name': '/share/data/fiches_seismes/irsn_seisme_martinique_122007.pdf'}})], 'IRSN_Fiche-Seisme-Maroc.pdf': [Response(response=\"\\nThe query asks for the characteristics of the earthquake in Morocco on September 8, 2023, including its magnitude, location, and regional consequences.\\n\\nAccording to the information provided, the earthquake had a magnitude of 6.8, as estimated by the USGS. Its epicenter was located 70 km southwest of Marrakech, and its depth is still uncertain, with estimates ranging from 11.6 km by the Centre Sismologique Euro-Méditerranéen (CSEM) to 26 km by the USGS.\\n\\nThe earthquake was followed by 20 aftershocks with magnitudes ranging from 2.2 to 4.8. These events were mostly located to the north-east of the main earthquake's epicenter, suggesting that the rupture propagated in that direction.\\n\\nAccording to the témoignages récoltés par le CSEM, the earthquake was felt on a vast region extending to Algérie, Espagne, and Portugal (Figure 1). It had a significant impact in the region epicentrale, causing numerous building collapses and casualties.\", source_nodes=[NodeWithScore(node=TextNode(id_='56f0be71-8e77-4a63-893c-edab55fc5542', embedding=None, metadata={'page_label': '2', 'file_name': '/share/data/fiches_seismes/IRSN_Fiche-Seisme-Maroc.pdf'}, excluded_embed_metadata_keys=[], excluded_llm_metadata_keys=[], relationships={<NodeRelationship.SOURCE: '1'>: RelatedNodeInfo(node_id='c0d70bd8-5ea4-45fd-b9e0-9e35be581647', node_type=<ObjectType.DOCUMENT: '4'>, metadata={'page_label': '2', 'file_name': '/share/data/fiches_seismes/IRSN_Fiche-Seisme-Maroc.pdf'}, hash='40ee072c5a176ec25b58bb06dc7267e0788cb850bc413d9f74fe0356ff242f47'), <NodeRelationship.PREVIOUS: '2'>: RelatedNodeInfo(node_id='321f51a3-5372-4064-8feb-079e5a6898d7', node_type=<ObjectType.TEXT: '1'>, metadata={'page_label': '1', 'file_name': '/share/data/fiches_seismes/IRSN_Fiche-Seisme-Maroc.pdf'}, hash='819c8dd6938fedb050cf161fe6c4b326e6a387c3d90f50c8b15813a96f2aafe4'), <NodeRelationship.NEXT: '3'>: RelatedNodeInfo(node_id='191d7174-46f4-4031-84b4-56d76b099a33', node_type=<ObjectType.TEXT: '1'>, metadata={}, hash='751a038680e55a6e7dd23c391cad64f2851deb88a1913becb189e6e4aae5efb3')}, text='2/4 \\nSismicité Historique  \\nLe séisme du 8 septembre 2023 est le séisme le plus fort enregistré au Maroc  par un réseau  sismologique  (Figure \\n2). D’autres événements de magnitude de moment comprise entre 6,0 et 6,5 ont eu lieu en 1994, 2004 et 2016 \\ndans la région septentrionale du Maroc (Le Rif) située à environ 600 km au nord -est de  la région du séisme du 8 \\nseptembre  (Kariche et al 2018) .  \\nConcernant la région affectée par le séisme du 8 septembre  2023 , le séisme le plus important connu jusqu’alors \\nest survenu  en 1960, à environ 140 km au sud -ouest dans la région d’Agadir , avec une m agnitude de 5,8.                          \\nLe séisme d’Agadir a provoqué un nombre de victimes estimé entre 12  000 et 15  000 (source USGS).  \\n \\n \\nFigure 2 Sismicité enregistré au Maroc depuis 1920. Carte de K. Bradley d’après le site  web «  Earthquake Insights  ». \\n \\nDans un passé plus lointain, le Maroc a connu d’autres séismes importants, parmi lesquels celui de 1624 à \\nproximité de la ville de Fez au nor d-est du pays , sa magnitude est estimée entre 6,0 et  6,7 sur la base des \\ntémoignages historiques  (Peláez et al 2007  ; Cherkaoui et al. 2017).', start_char_idx=4, end_char_idx=1171, text_template='{metadata_str}\\n\\n{content}', metadata_template='{key}: {value}', metadata_seperator='\\n'), score=0.8620444560950684), NodeWithScore(node=TextNode(id_='321f51a3-5372-4064-8feb-079e5a6898d7', embedding=None, metadata={'page_label': '1', 'file_name': '/share/data/fiches_seismes/IRSN_Fiche-Seisme-Maroc.pdf'}, excluded_embed_metadata_keys=[], excluded_llm_metadata_keys=[], relationships={<NodeRelationship.SOURCE: '1'>: RelatedNodeInfo(node_id='61e83f20-17b6-4d7e-9ad9-0ea678c49229', node_type=<ObjectType.DOCUMENT: '4'>, metadata={'page_label': '1', 'file_name': '/share/data/fiches_seismes/IRSN_Fiche-Seisme-Maroc.pdf'}, hash='c3051fa21be0b70d633056f6ae14865a6699a97225c53713cacd9fca7000a487'), <NodeRelationship.PREVIOUS: '2'>: RelatedNodeInfo(node_id='88394eb1-f85a-461e-b2ed-b6fc9db28b63', node_type=<ObjectType.TEXT: '1'>, metadata={'page_label': '2', 'file_name': '/share/data/fiches_seismes/IRSN-Seisme-Vendee-France-20180212.pdf'}, hash='bcca3b2d6f97f20aff6cc0a099a575716d0c476a29de44bbd4e7f0c8b3ed8530'), <NodeRelationship.NEXT: '3'>: RelatedNodeInfo(node_id='56f0be71-8e77-4a63-893c-edab55fc5542', node_type=<ObjectType.TEXT: '1'>, metadata={}, hash='9eaec27b4220b6a12aa4af6baa0cd7d7c0c98a0526d24470184836e6a47046c5')}, text='1/4 \\n  INFORMATION : Séisme d u Maroc du 8 septembre 2023  \\n11/09/2023  - 18h \\n \\nRappel des faits  \\nLe 8 septembre 2023 à 23h11 heure locale  (22h11 TU)  un séisme de \\nmagnitude de moment  6,8 (estimation du service géologique des \\nÉtats -Unis - USGS) s’est produit au Maroc à 70 km au sud -ouest de \\nMarrakech. La profondeur du foyer reste à ce jour incertaine, estimée \\nà 11,6 km par le Centre Sismologique Euro -Méditerranéen  (CSEM) et \\nà 26 km par l’USGS.  \\nSelon les informations publiées par le CSEM  le 10 septembre , le séisme \\na été suivi par une vingtaine de répliques de magnitude  allant de 2,2 à \\n4,8. Ces événements  sont pour la plupart localisés au nord -est de \\nl’épicentre du séisme principal , ce qui  suggère que la rupture sismique s’est propagée dans cette direction.  \\nSelon les témoignages récoltés par le CSEM, le séisme a été ressenti sur une vaste région s’ étendant  jusqu’à \\nl’Algérie , l’Espagne et le Portugal  (Figure 1). Le séisme a eu un fort impact  dans la région épicentrale causant de \\nnombreux effondrements de bâtiments  et de nombreuses victimes . \\n \\n \\n \\n \\n \\n \\n \\n \\n \\n \\n \\n \\n \\n \\nFigure 1 Distribution des intensités macrosismiques  issues  des témoignages collectés sur internet par le CSEM                               \\nle 9 septembre 2023 à 22h11.  SÉISME  Fiche information  Le Bureau d’évaluation des risques \\nsismiques pour la sûreté des \\ninstallations (BERSSIN) de l’IRSN \\neffectue des recherches et des \\nexpertises sur l’aléa sismique en tant \\nque source d’agression externe des \\ninstallations à risque  \\n \\nContact : contact@irsn.fr', start_char_idx=6, end_char_idx=1586, text_template='{metadata_str}\\n\\n{content}', metadata_template='{key}: {value}', metadata_seperator='\\n'), score=0.8476981734733069)], metadata={'56f0be71-8e77-4a63-893c-edab55fc5542': {'page_label': '2', 'file_name': '/share/data/fiches_seismes/IRSN_Fiche-Seisme-Maroc.pdf'}, '321f51a3-5372-4064-8feb-079e5a6898d7': {'page_label': '1', 'file_name': '/share/data/fiches_seismes/IRSN_Fiche-Seisme-Maroc.pdf'}}), Response(response='\\nThe earthquake of September 8, 2023, is the strongest earthquake recorded in Morocco by a seismological network (Figure 2). The magnitude of the earthquake is 6.8. The earthquake occurred in the region of Rabat, which is located more than 350 km from the epicentral region of the earthquake. The IRSN does not have any information on the potential impact of the earthquake on the nuclear power plant located in Rabat.\\n\\nThe earthquake of September 8, 2023, is the most recent of a series of earthquakes with magnitudes of 6.0 to 6.5 that have occurred in the northern part of Morocco, in the Rif region, which is located approximately 600 km north-east of the epicentral region of the September 8, 2023 earthquake (Kariche et al., 2018). The most significant earthquake in the region affected by the September 8, 2023 earthquake occurred in 1960, in the Agadir region, with a magnitude of 5.8. The earthqu', source_nodes=[NodeWithScore(node=TextNode(id_='9a34d3c2-333d-4fc9-98c6-4fbe9a8de86a', embedding=None, metadata={'page_label': '4', 'file_name': '/share/data/fiches_seismes/IRSN_Fiche-Seisme-Maroc.pdf'}, excluded_embed_metadata_keys=[], excluded_llm_metadata_keys=[], relationships={<NodeRelationship.SOURCE: '1'>: RelatedNodeInfo(node_id='e8809189-d39d-4874-a2e9-4de748bfe710', node_type=<ObjectType.DOCUMENT: '4'>, metadata={'page_label': '4', 'file_name': '/share/data/fiches_seismes/IRSN_Fiche-Seisme-Maroc.pdf'}, hash='fe1d2896eb45d172f0d35a79bf531f71946c20d939d97f4ac2fbe5065a8e0034'), <NodeRelationship.PREVIOUS: '2'>: RelatedNodeInfo(node_id='191d7174-46f4-4031-84b4-56d76b099a33', node_type=<ObjectType.TEXT: '1'>, metadata={'page_label': '3', 'file_name': '/share/data/fiches_seismes/IRSN_Fiche-Seisme-Maroc.pdf'}, hash='01bef527fb0e0bc60aff55493045a5ab6b02ef2e0dcadb042db43ddfa7c01d58'), <NodeRelationship.NEXT: '3'>: RelatedNodeInfo(node_id='2c5afefc-869f-49e9-b019-209a5d3ce85d', node_type=<ObjectType.TEXT: '1'>, metadata={}, hash='aa48f83c42139b406cf429ec917246e27dbd50ffaa7526e92893a4f0db8752cc')}, text='4/4 \\nImpact sur  les installations nucléaires  \\nLe Maroc dispose d’un réacteur de recherche d’une puissance de 2  MWth , entré en service en 2007 . Il est localisé \\ndans la région de Rabat située à plus de 350 km de la région épicentrale du séisme du 8 septembre  2023 . À date , \\nl’IRSN ne dispose pas d’ information sur un éventuel impact du séisme sur cette installation.  \\nLe Maroc ne possède  pas de réacteur nucléaire de product ion électrique . Le développement d’un programme \\nnucléaire de production électrique est envisagé depuis plusieurs décennies . Dans ce contexte,  le site de Sidi \\nBoulbra a fait l’objet d’un processus de sélection et de qualification  ; ce site est situé sur la côte entre Safi et \\nEssaouira , à 135 km de la région épicentrale du séisme du 8 septembre. À ce jour, aucune décision n’a été prise \\npour entreprendre un programme électronucléaire au Maroc  (rapport national émis par le Maroc) . \\n \\n \\nReferences  \\nAgharroud, K., Siame, L. L., Ben Moussa, A., Bellier, O., Guillou, V., Fleury, J., & El Kharim, Y. (2021). Seismo‐\\ntectonic model for the southern Pre‐Rif border (Northern Morocco): Insights from morphochronology. Tectonics, \\n40(4), e2020TC006633.  \\nKariche, J., Meghraoui, M., Timoulali, Y., Cetin, E., & Toussaint, R. (2018). The Al Hoceima earthquake sequence \\nof 199 4, 2004 and 2016: Stress transfer and poroelasticity in the Rif and Alboran Sea region. Geophysical Journal \\nInternational, 212(1), 42 -53.  \\nCherkaoui, T. E., Medina, F., & Mridekh, A. (2017). Re-examination of the historical 11 May, 1624 Fez earthquake \\npara meters. Fisica de la Tierra, 29, 135 -57. \\nPeláez, J. A., Chourak, M., Tadili, B. A., Brahim, L. A., Hamdache, M., Casado, C. L., & Solares, J. M. (2007). A \\ncatalog of main Moroccan earthquakes from 1045 to 2005. Seismological Research Letters, 78(6), 614 -621. \\nVernant, P., Fadil, A., Mourabit, T., Ouazar, D., Koulali, A., Davila, J. M., ... & Reilinger, R. (2010). Geodetic \\nconstraints on active tectonics of the Western Mediterranean: Implications for the kinematics and dynamics of \\nthe Nubia -Eurasia plate boun dary zone.  Journal of Geodynamics,  49(3 -4), 123 -129.  \\nNational Report  - Convention on the Nuclear Safety - 8th Review Meeting of the Contracting Parties . March 202 0, \\ndisponible sur le site AIEA (iaea.org)   \\nSite Web Earthquake Insights  : Deadly M6.8 earthquake hits Morocco (substack.com)  (consulté le 11/09/2023)  \\nSite Web Earthquake Insights   Tracking updates on the Morocco earthquake (substack.com)  (consulté le \\n11/09/2023)  \\nPage USGS séisme du 8 septembre 2023 M 6.8 - Morocco (usgs.gov)  (consulté le 11/09/2023)  \\nPage USGS séisme d’Agadir de 1960 M 5.9 - 2 km WNW of Agadir, Morocco (usgs.gov)  (consulté le 11/09/2023)', start_char_idx=4, end_char_idx=2747, text_template='{metadata_str}\\n\\n{content}', metadata_template='{key}: {value}', metadata_seperator='\\n'), score=0.8760831635003452), NodeWithScore(node=TextNode(id_='56f0be71-8e77-4a63-893c-edab55fc5542', embedding=None, metadata={'page_label': '2', 'file_name': '/share/data/fiches_seismes/IRSN_Fiche-Seisme-Maroc.pdf'}, excluded_embed_metadata_keys=[], excluded_llm_metadata_keys=[], relationships={<NodeRelationship.SOURCE: '1'>: RelatedNodeInfo(node_id='c0d70bd8-5ea4-45fd-b9e0-9e35be581647', node_type=<ObjectType.DOCUMENT: '4'>, metadata={'page_label': '2', 'file_name': '/share/data/fiches_seismes/IRSN_Fiche-Seisme-Maroc.pdf'}, hash='40ee072c5a176ec25b58bb06dc7267e0788cb850bc413d9f74fe0356ff242f47'), <NodeRelationship.PREVIOUS: '2'>: RelatedNodeInfo(node_id='321f51a3-5372-4064-8feb-079e5a6898d7', node_type=<ObjectType.TEXT: '1'>, metadata={'page_label': '1', 'file_name': '/share/data/fiches_seismes/IRSN_Fiche-Seisme-Maroc.pdf'}, hash='819c8dd6938fedb050cf161fe6c4b326e6a387c3d90f50c8b15813a96f2aafe4'), <NodeRelationship.NEXT: '3'>: RelatedNodeInfo(node_id='191d7174-46f4-4031-84b4-56d76b099a33', node_type=<ObjectType.TEXT: '1'>, metadata={}, hash='751a038680e55a6e7dd23c391cad64f2851deb88a1913becb189e6e4aae5efb3')}, text='2/4 \\nSismicité Historique  \\nLe séisme du 8 septembre 2023 est le séisme le plus fort enregistré au Maroc  par un réseau  sismologique  (Figure \\n2). D’autres événements de magnitude de moment comprise entre 6,0 et 6,5 ont eu lieu en 1994, 2004 et 2016 \\ndans la région septentrionale du Maroc (Le Rif) située à environ 600 km au nord -est de  la région du séisme du 8 \\nseptembre  (Kariche et al 2018) .  \\nConcernant la région affectée par le séisme du 8 septembre  2023 , le séisme le plus important connu jusqu’alors \\nest survenu  en 1960, à environ 140 km au sud -ouest dans la région d’Agadir , avec une m agnitude de 5,8.                          \\nLe séisme d’Agadir a provoqué un nombre de victimes estimé entre 12  000 et 15  000 (source USGS).  \\n \\n \\nFigure 2 Sismicité enregistré au Maroc depuis 1920. Carte de K. Bradley d’après le site  web «  Earthquake Insights  ». \\n \\nDans un passé plus lointain, le Maroc a connu d’autres séismes importants, parmi lesquels celui de 1624 à \\nproximité de la ville de Fez au nor d-est du pays , sa magnitude est estimée entre 6,0 et  6,7 sur la base des \\ntémoignages historiques  (Peláez et al 2007  ; Cherkaoui et al. 2017).', start_char_idx=4, end_char_idx=1171, text_template='{metadata_str}\\n\\n{content}', metadata_template='{key}: {value}', metadata_seperator='\\n'), score=0.869171062406093)], metadata={'9a34d3c2-333d-4fc9-98c6-4fbe9a8de86a': {'page_label': '4', 'file_name': '/share/data/fiches_seismes/IRSN_Fiche-Seisme-Maroc.pdf'}, '56f0be71-8e77-4a63-893c-edab55fc5542': {'page_label': '2', 'file_name': '/share/data/fiches_seismes/IRSN_Fiche-Seisme-Maroc.pdf'}})], 'IRSN_Fiche-Seisme-Ouest-France-16-juin-2023_V1-17062023.pdf': [Response(response=\"\\nThe earthquake that occurred in the west of France on June 16, 2023, was a magnitude 4.9 earthquake (estimated by the Institut de Physique du Globe et l'Observatoire de la Côte d'Azur) with a magnitude local between 5.3 (Site national d'information sur la sismicité de la France - Rénass) and 5.8 (CEA LDG). The earthquake was located 24 km southwest of Niort and 35 km northeast of La Rochelle. The estimated depth of the epicenter is 1 km by Rénass and 5 km by the United States Geological Survey (USGS). The earthquake was followed by several aftershocks, including one of magnitude 4.6 (Rénass) and 5.1 (CEA LDG) (Mw 3.9) that occurred on June 17, 2023, at 4:27. Other aftershocks are expected to occur in the region in the coming days and weeks. The earthquake was widely felt by the population, as reported by internet testim\", source_nodes=[NodeWithScore(node=TextNode(id_='f2f7b721-b530-4d73-be15-81c83c4c2252', embedding=None, metadata={'page_label': '1', 'file_name': '/share/data/fiches_seismes/IRSN_Fiche-Seisme-Ouest-France-16-juin-2023_V1-17062023.pdf'}, excluded_embed_metadata_keys=[], excluded_llm_metadata_keys=[], relationships={<NodeRelationship.SOURCE: '1'>: RelatedNodeInfo(node_id='e1e120d9-9936-410a-9144-cb1d4ba8b2dc', node_type=<ObjectType.DOCUMENT: '4'>, metadata={'page_label': '1', 'file_name': '/share/data/fiches_seismes/IRSN_Fiche-Seisme-Ouest-France-16-juin-2023_V1-17062023.pdf'}, hash='5b5a3b9494fbfbd3401c9b57351cada76afc4c7e57a40df3ef97b79de4ca41d3'), <NodeRelationship.PREVIOUS: '2'>: RelatedNodeInfo(node_id='cfc30591-9ff4-4020-8458-6a17d619eba3', node_type=<ObjectType.TEXT: '1'>, metadata={'page_label': '3', 'file_name': '/share/data/fiches_seismes/IRSN-Seisme-Napa-24082014.pdf'}, hash='c26756471804ff174becd9e0a9f59873a6443bd6629c021a54fbebf0c231a84f'), <NodeRelationship.NEXT: '3'>: RelatedNodeInfo(node_id='b3e9721a-7625-49b4-9239-630f4c75f321', node_type=<ObjectType.TEXT: '1'>, metadata={}, hash='1dc94f2aee78e58af564b804ff428d55ac03c54924f625dc25f1fd8ae45498e6')}, text='1/4 \\nINFORMATION : Séisme dans l’Ouest de la France  \\ndu 16 juin 2023  \\nV1. 17/06/2023  \\n \\nRappel des fait s \\nLe 16 juin 2023 à 18h38 (16h38 TU ), un séisme de magnitude de \\nmoment  (Mw)  4,9 (estimations Institut de Physique du Globe et \\nObservatoire de la Côte d’Azur) magnitude locale entre 5,3 ( Site \\nnational d’information sur la sismicité de la France - Rénass)  et 5,8 (CEA \\nLDG)  s’est produit à 24 km au Sud -Ouest de Niort et à 35 km au Nord-\\nEst de la Rochelle.  La profondeur du foyer est estimée à ce jour à 1 km \\npar le Rénass et à 5 km par l e service géologique des États -Unis ( USGS ). \\nLe séisme a été suivi de plusieurs répliques, dont trois  de magnitude \\nlocale supérieure à 2,5 ( information du Rénass le 17 juin 2023 à 10h15 ). \\nLa réplique principale de magnitude locale de 4,6 (Rénass)  à 5,1 (CEA LDG) (Mw 3,9) a eu lieu le 17 juin 2023 à \\n4h27. D ’autres répliques sont susceptibles de se produire dans la région  dans le s jours et semaines qui viennent.  \\nLe séisme  a été largement ressenti par la population, comme rapporté  par les témoignages internet récoltés sur \\nle site du Bureau Central Sismologique Français (BCSF)  – Figure 1 . Le 16 juin 2023 au soir , l’intensité macrosismique \\nmaximale issue des témoignages est de VI (dégâts légers sur bâtiments vulnérables) . Selon le Centre Ministériel \\nde Veille Opérationnelle et d’Alerte – CMVOA, des dégâts matériels nombreux ont été signalés dans le sud -ouest \\ndu département des Deux -Sèvres.  Compte tenu des premier s éléments , le Groupe d’Intervention Macrosismique  \\n(GIM)  piloté par le BCSF a lancé une mission post -sismique afin d’évaluer  les intensité s macrosismiques  à l’échelle \\ndes différentes communes de la région.  \\n  \\n \\nFigure 1. Carte d’intensités macrosismique s issue de 4488 témoignages  (16/06/2023 22h29) . Panneau de Gauche \\ntémoignages à l’échelle de la France Hexagonale . Panneau de droite  ; témoignages à l’échelle locale.\\nSÉISME  Fiche information  Le Bureau d’évaluation des risques \\nsismiques pour la sûreté des \\ninstallations (BERSSIN) de l’IRSN \\neffectue des recherches et des \\nexpertises sur l’aléa sismique en tant \\nque source d’agression externe des \\ninstallations à risque  \\n \\nContact :  contact@irsn.fr', start_char_idx=6, end_char_idx=2240, text_template='{metadata_str}\\n\\n{content}', metadata_template='{key}: {value}', metadata_seperator='\\n'), score=0.8462290113451452), NodeWithScore(node=TextNode(id_='b3e9721a-7625-49b4-9239-630f4c75f321', embedding=None, metadata={'page_label': '2', 'file_name': '/share/data/fiches_seismes/IRSN_Fiche-Seisme-Ouest-France-16-juin-2023_V1-17062023.pdf'}, excluded_embed_metadata_keys=[], excluded_llm_metadata_keys=[], relationships={<NodeRelationship.SOURCE: '1'>: RelatedNodeInfo(node_id='cba5dec4-265b-428e-84fe-450bbb6e0797', node_type=<ObjectType.DOCUMENT: '4'>, metadata={'page_label': '2', 'file_name': '/share/data/fiches_seismes/IRSN_Fiche-Seisme-Ouest-France-16-juin-2023_V1-17062023.pdf'}, hash='107ed6635dc159aa42c420f15aca0372fcf7153a02a2dd1800a310db08402c6c'), <NodeRelationship.PREVIOUS: '2'>: RelatedNodeInfo(node_id='f2f7b721-b530-4d73-be15-81c83c4c2252', node_type=<ObjectType.TEXT: '1'>, metadata={'page_label': '1', 'file_name': '/share/data/fiches_seismes/IRSN_Fiche-Seisme-Ouest-France-16-juin-2023_V1-17062023.pdf'}, hash='6eaca1a7e2efa967a8dc969da0d0823586a156f742d41d9b8845eb7451d6b008'), <NodeRelationship.NEXT: '3'>: RelatedNodeInfo(node_id='32c921b4-14da-4974-9167-74097f0bfc61', node_type=<ObjectType.TEXT: '1'>, metadata={}, hash='89a6a646a0283b8a707aeb405972954d94864160e94088f9b7ea4e876617b3fa')}, text='2/4 \\nSismicité de la région  \\nLe séisme du 16 juin 2023 s’est produit  dans une région caractérisée par une activité sismique modérée. Les \\nséismes recensés dans la région se produisent sur des failles orientées NO -SE à NNO -SSE héritées de la mise en \\nplace du Massif  armoricain, il y a 300 million s d’années, et réactivées depuis.  \\nDans un passé récent, deux séismes se sont produits dans la région  : le premier  d’intensité maximale de V (Mw \\n3,8) s’est produit à La Rochelle le 28 avril 2016  localisé à 30 km au sud -ouest du séisme du 16 juin 2023, le second \\nd’intensité maximale  de VI  (Mw 3 ,9) s’est produit  le 12 février 2018 en Vendée à 47 km au nord -est. Les fiches \\nd’informations relatives à ces deux séismes sont disponibles sur le site de l’IRSN ( www.irsn.fr ).  \\n \\nFigure 2. Distribution de la sismicité de magnitude locale supérieure à 1,5 répertoriée dans le catalogue Rénass  en jaune les \\nlocalisations  des séismes de la séque nce sismique initiée le 16 juin 2023 . \\n \\nParmi les séismes historiques de la région , les séismes du 7 septembre 1972 (à Oléron), 6 octobre 1711 (à Loudun) \\net 9 janvier 1772 (à Parthenay) ont atteint ou dépassé une intensité épicentrale de VII (dommages aux \\nconstructions).', start_char_idx=4, end_char_idx=1239, text_template='{metadata_str}\\n\\n{content}', metadata_template='{key}: {value}', metadata_seperator='\\n'), score=0.8346797659157096)], metadata={'f2f7b721-b530-4d73-be15-81c83c4c2252': {'page_label': '1', 'file_name': '/share/data/fiches_seismes/IRSN_Fiche-Seisme-Ouest-France-16-juin-2023_V1-17062023.pdf'}, 'b3e9721a-7625-49b4-9239-630f4c75f321': {'page_label': '2', 'file_name': '/share/data/fiches_seismes/IRSN_Fiche-Seisme-Ouest-France-16-juin-2023_V1-17062023.pdf'}}), Response(response='\\nThe earthquake that occurred on June 16, 2023, in the region of France is considered to be a significant event in terms of its magnitude and location. The epicenter of the earthquake was located approximately 60 km from the INB (Industrial Nuclear Base) of Pouzauges and about 100 km from the nuclear power plants of Civaux, Blayais, and Chinon. According to the ASN (Autorité de sûreté nucléaire), the earthquake was felt in the administrative buildings of the centrales de Civaux, Blayais, and Chinon, but it did not cause the activation of the emergency alarms related to the vibration of the reactor buildings.\\n\\nIn terms of the impact on the installations nucléaires, the earthquake was considered to be a significant event due to its proximity to the nuclear power plants. However, the ASN reported that the earthquake did not cause any damage to the nuclear reactors or their associated infrastructure.\\n\\nIn terms of the historical sismic activity in the region, the earthquake of June 16, 202', source_nodes=[NodeWithScore(node=TextNode(id_='21161356-4548-461a-949e-5d467d220412', embedding=None, metadata={'page_label': '3', 'file_name': '/share/data/fiches_seismes/IRSN-Seisme-Elazig-Turquie-24012020.pdf'}, excluded_embed_metadata_keys=[], excluded_llm_metadata_keys=[], relationships={<NodeRelationship.SOURCE: '1'>: RelatedNodeInfo(node_id='e6c29718-6287-4fe6-a6f1-550389b255bc', node_type=<ObjectType.DOCUMENT: '4'>, metadata={'page_label': '3', 'file_name': '/share/data/fiches_seismes/IRSN-Seisme-Elazig-Turquie-24012020.pdf'}, hash='a460d559f8c05bed8e8eb55c0b04b42d40269640c3900d29e4cad826a621da46'), <NodeRelationship.PREVIOUS: '2'>: RelatedNodeInfo(node_id='f16e6bc9-bcc1-428b-862f-524c150a2eb9', node_type=<ObjectType.TEXT: '1'>, metadata={'page_label': '2', 'file_name': '/share/data/fiches_seismes/IRSN-Seisme-Elazig-Turquie-24012020.pdf'}, hash='6bca029b7050584f86fdc44b49b47c024d0c5cf3900628547b845b78a8ebea8e'), <NodeRelationship.NEXT: '3'>: RelatedNodeInfo(node_id='d91eb4ba-c968-4959-a3e3-937303ac593e', node_type=<ObjectType.TEXT: '1'>, metadata={}, hash='728508cd59db21839eec7a6ecc4bbf5cda4b77df7d86b9b177d1cfac8be50843')}, text='I  N  F  O  R  M  A  T  I  O  N  \\n29 janvier 2020  \\n  \\nConséquences  sur les installations nucléaires  \\nL’installation nucléaire la plus proche de l’épicentre (à environ 480 km) est située à Me tsamor en Arménie  (Figure \\n1). Elle comporte deux unités  VVER de puissance 400 MW mises en service en 1976 et 1980. Cette centrale a \\nproduit 400 MW en décembre 2019. La  centrale a été provisoirement arrêtée  suite au séisme de Spitak en 1988 . \\nCompte tenu de l’éloignement et de la magnitude du séisme, aucun effet significatif n’est redouté sur le site \\nmême de la centrale nucléaire.  \\nProjets de centrales nucléaires en Turquie  \\nEn Turquie deux projets de centrales nucléaires de production électrique sont en cours, l’un situé sur la côte de la \\nMer Noire dans la région de Sinop , l’autre sur le rivage de la Méditerranée , à 100 km au nord de Chypre sur le site \\nd’Akkuyu  (Figur e 1). Ces deux projets sont situés à plus de 500 km de l’épicentre du séisme du 24 janvier. Comme \\npour la centrale de Metsamor, on ne craint aucun impact significatif du séisme sur ces sites, compte tenu de la \\ndistance et de la magnitude.  \\nLe site d’ Akkuyu est situé dans la région de la ville de Mersin. Cette centrale est actuellement en construction  et \\ncomprendr a 4 réacteurs à eau pressurisée  (VVER) construit s par l’Agence fédérale russe de l’ énergie atomique \\n(ROSATOM) de 1200 MWe chacun. Le chantier a débuté  en 2015  ; le démarrage du premier réacteur est prévu en \\n2023 et les autres en 2025.  \\nUn autre projet était également prévu sur le  site de Sinop sera équipé de 4 réacteurs ATMEA (EUAS –compagnie \\nd’électricité turque - Mitsubishi, GDF Suez, Framatome ) de 1100 MWe. Ce site est localisé au nor d de la F aille \\nnord-anatolienne . Toutefois, le Ministre de l’Energie et des Ressources naturelles a annoncé le 28 octobre  2019 \\nque la Turquie ne poursuivrait pas le projet de construction d’une centrale nuclé aire à Si nop avec les Japonais , \\nporteurs du projet . En revanche, il a réaffirmé la volonté de la Turquie de poursuivre le projet avec d’autres \\npartenaires .  \\n \\n3', start_char_idx=4, end_char_idx=2096, text_template='{metadata_str}\\n\\n{content}', metadata_template='{key}: {value}', metadata_seperator='\\n'), score=0.8856525810497915), NodeWithScore(node=TextNode(id_='92463946-7785-4a0f-8439-f0d4e1e5a068', embedding=None, metadata={'page_label': '4', 'file_name': '/share/data/fiches_seismes/IRSN_Fiche-Seisme-Ouest-France-16-juin-2023_V1-17062023.pdf'}, excluded_embed_metadata_keys=[], excluded_llm_metadata_keys=[], relationships={<NodeRelationship.SOURCE: '1'>: RelatedNodeInfo(node_id='a7db7d4d-9a6a-483a-945d-c685c1b6eea6', node_type=<ObjectType.DOCUMENT: '4'>, metadata={'page_label': '4', 'file_name': '/share/data/fiches_seismes/IRSN_Fiche-Seisme-Ouest-France-16-juin-2023_V1-17062023.pdf'}, hash='67d81798ad2c2b53215dd2c28469f4dfd57ea5aef2edf80d7d611c426e5b853d'), <NodeRelationship.PREVIOUS: '2'>: RelatedNodeInfo(node_id='32c921b4-14da-4974-9167-74097f0bfc61', node_type=<ObjectType.TEXT: '1'>, metadata={'page_label': '3', 'file_name': '/share/data/fiches_seismes/IRSN_Fiche-Seisme-Ouest-France-16-juin-2023_V1-17062023.pdf'}, hash='e4fed9f4dd6dffc0c12eaaf9d4f6e75e05110be0c14c67754a265bc06a629a18'), <NodeRelationship.NEXT: '3'>: RelatedNodeInfo(node_id='d5a8f08e-4f55-4974-8144-b7dd400894e3', node_type=<ObjectType.TEXT: '1'>, metadata={}, hash='84777626d33d8abadfe82cca5bc533899aab010267f4961d28167cf16f6a3668')}, text='4/4 \\nImpact sur  les installations nucléaires de base  \\nL’épicentre du séisme est localisé à environ 60 km de l’INB de Pouzauges  (irradiate ur industriel) et  à environ 100 \\nkm de  la centrale nucléaire de  Civaux , à 115 km de la centrale  du Blayais et à 130 km de celle de Chinon.  Selon \\nl’ASN , le séisme a été ressenti dans les  bâtiments administratifs de s centrales de Civaux , Blayais et Chinon. Il n’a \\npas entrainé le décl enchement des alarmes liés à l’ébranlement des bâtiment s réacteurs.   \\n \\nFigure 4. Carte des installations nucléaires de base de la région, en jaune les localisation s des séismes de la séquence \\nsismique initiée le 16 juin 2023 . \\n \\nRéférences  \\nSite Web du USGS M 4.8 - 4 km SSE of Courçon, France (usgs.gov)  \\nSite Web du Rénass Tremblement de terre de magnitude 5.3, proche de Niort - Franceseisme.fr (unistra.fr)  \\nSite web du BCSF Le Bureau Central Sismologique Français (BCSF) ( franceseisme.fr)  \\nSite web du SisFrance Accueil | SisFrance  \\nCommuniqué de l’ASN Séisme dans l’ouest : pas d’anomalies sur les centrales françaises - 16/06/2023 - ASN', start_char_idx=4, end_char_idx=1095, text_template='{metadata_str}\\n\\n{content}', metadata_template='{key}: {value}', metadata_seperator='\\n'), score=0.873966716356769)], metadata={'21161356-4548-461a-949e-5d467d220412': {'page_label': '3', 'file_name': '/share/data/fiches_seismes/IRSN-Seisme-Elazig-Turquie-24012020.pdf'}, '92463946-7785-4a0f-8439-f0d4e1e5a068': {'page_label': '4', 'file_name': '/share/data/fiches_seismes/IRSN_Fiche-Seisme-Ouest-France-16-juin-2023_V1-17062023.pdf'}})], 'irsn_seisme_argeles_gazost_112006.pdf': [Response(response=\"\\nThe query is asking for information about the earthquake that occurred in Argelès-Gazost on November 17, 2006. The earthquake was of moderate magnitude, estimated to be between 5.2 and 5.5 on the Richter scale. The epicenter of the earthquake was located at a latitude of 42.97° North and a longitude of 0.1° West. The earthquake was followed by several aftershocks, including one with a magnitude of 3.3.\\n\\nThe impact of the earthquake was felt locally, with some damage to buildings and infrastructure. However, there were no reports of casualties or significant damage to the surrounding area. The Bureau d'évaluation des risques sismiques pour la sûreté des installations (BERSSIN) of the IRSN conducted research and expertises on the impact of the earthquake as a source of external aggression on installations at risk.\\n\\nIt is important to note that the information provided is based on the context information provided and may not be up-to-date or accurate. It is always recommended to check with reliable sources for the most current and accurate information.\", source_nodes=[NodeWithScore(node=TextNode(id_='7fc1734d-7be8-4bac-907d-61b7247cdaa9', embedding=None, metadata={'page_label': '2', 'file_name': '/share/data/fiches_seismes/irsn_seisme_argeles_gazost_112006.pdf'}, excluded_embed_metadata_keys=[], excluded_llm_metadata_keys=[], relationships={<NodeRelationship.SOURCE: '1'>: RelatedNodeInfo(node_id='bf588429-49ff-42e2-a575-b3b4429bfeac', node_type=<ObjectType.DOCUMENT: '4'>, metadata={'page_label': '2', 'file_name': '/share/data/fiches_seismes/irsn_seisme_argeles_gazost_112006.pdf'}, hash='e06384907076f52a5594e5be17b85d2444934fb56394b59302f97180bae2d396'), <NodeRelationship.PREVIOUS: '2'>: RelatedNodeInfo(node_id='27457076-be14-495f-82c3-e4c564bd9ced', node_type=<ObjectType.TEXT: '1'>, metadata={'page_label': '2', 'file_name': '/share/data/fiches_seismes/irsn_seisme_argeles_gazost_112006.pdf'}, hash='82e8bc03b923fa61ebdfd9d12423e9bf5deaf8a9ace51d1b6787fda9abc260e4'), <NodeRelationship.NEXT: '3'>: RelatedNodeInfo(node_id='062a0a36-4143-46e1-b50b-233d1d0c463d', node_type=<ObjectType.TEXT: '1'>, metadata={}, hash='9d67cb34e328586ec689fd2e5034f6fc9acf440733d85e9c0e44b6febea90297')}, text=\"Les caractéristiques du séisme soulignent qu’il est associé aux failles pyrénéen nes et qu’il n’est pas \\nreprésentatif de la zone de faible activité sismotectoni que (Bassin aquitain) où est localisée l’installation de \\nGolfech. \\nSelon l’Agence France Presse (19/11/2006), l’inspection par EDF de ses barrages hydro-électriques \\na permis de vérifier l’absence d’impact du séisme sur les ouvrages les plus proches de l’épicentre. Contexte sismotectonique\\nNomLongitude \\n(°E)Latitude (°N)Intensité \\népicentraleMagnitudeDistance à l'épicentre \\nCEA (km)\\n21/06/1660 Bagnères-de-B. 0,07 42,97 VIII-IX 6,5 18\\n24/05/1750 Juncalas -0,03 43,07 VIII >6 14\\n20/07/1854 Argelès -0,05 43,03 VII-VIII >6 10\\nLes 3 plus grands séismes historiques de la région (catalogue SISFRANCE)\\nDate Longitude(°E) Latitude (°N)Magnitude CEA \\n(Ml)écart-typeProfondeur \\n(km)Distance à l'épicentre \\nCEA (km)\\n29/02/1980 -0,37 43,09 5,7 0,2 12 22\\n04/10/1999 0,6 42,92 5,1 0 10 60,5\\n06/01/1989 0,17 42,99 4,9 0,2 11 25,2\\n19/07/1981 0,07 43,09 4,6 0,2 11 13,9\\n03/03/1980 -0,36 43,12 4,5 0,3 6 21,3\\nLes 5 plus grands séismes depuis 25 ans, da ns un rayon de 60 km autour d’Argelès-GazostI  N  F  O  R  M  A  T  I  O  N\\n30 novembre 2006 2\", start_char_idx=1773, end_char_idx=2970, text_template='{metadata_str}\\n\\n{content}', metadata_template='{key}: {value}', metadata_seperator='\\n'), score=0.8491446656768571), NodeWithScore(node=TextNode(id_='fc2da5e0-0bb9-42e9-948c-d7b3834f44ed', embedding=None, metadata={'page_label': '1', 'file_name': '/share/data/fiches_seismes/irsn_seisme_argeles_gazost_112006.pdf'}, excluded_embed_metadata_keys=[], excluded_llm_metadata_keys=[], relationships={<NodeRelationship.SOURCE: '1'>: RelatedNodeInfo(node_id='a9dcf266-4dd2-4f2c-8b24-9a752db1749e', node_type=<ObjectType.DOCUMENT: '4'>, metadata={'page_label': '1', 'file_name': '/share/data/fiches_seismes/irsn_seisme_argeles_gazost_112006.pdf'}, hash='6b00e289d14ab4d3302d468246a9f8ac8a29f6c0d274f39007068d695ac5dffc'), <NodeRelationship.NEXT: '3'>: RelatedNodeInfo(node_id='27457076-be14-495f-82c3-e4c564bd9ced', node_type=<ObjectType.TEXT: '1'>, metadata={}, hash='acb29ab92f84d2b0413076279441c5f06fdba09ae75222dd341b15a6bbd24381')}, text=\"Rappel des faits\\n\\x83Vendredi 17 novembre 2006, à 18h19 temps universel, un séisme \\nde magnitude modérée s’est produit à environ 10 km au SSW \\nde Lourdes (65).\\n\\x83Le Laboratoire de détection géophysiqu e (LDG) du CEA estime la magnitude \\ndu séisme à 5.2+/-0.39 sur l’échelle de Richter, avec un épicentre situé\\nà une latitude de 42,97° Nord et à une longitude de 0,1° Ouest (cf. figure). Le choc principal a été suivi par quelques répliques (dont une à 3.3\\nle 19 novembre).\\n\\x83Des évaluations faites par d’autres organismes conduisent à des magnitudes de l’ordre de 4.5 .\\n\\x83La profondeur du séisme est estimée entre 5 et 10 km .\\n\\x83L’événement sismique a été relayé par divers  organes de presse (AFP, Radio France, \\nNouvel Observateur…).\\nLocalisation\\nde l’épicentre \\ndu séisme\\n(source: CEA/LDG)Séisme d’Argelès-Gazost\\nVendredi 17 novembre 2006\\nMagnitude = 5.2 à 18h19 (TU)I  N  F  O  R  M  A  T  I  O  N\\nLe Bureau \\nd'évaluation des risques \\nsismiques pour \\nla sûreté des installations \\n(BERSSIN) de l’IRSN \\neffectuedes recherches \\net des expertises \\nsur l’aléa sismique en tant que source \\nd’agression externe \\ndes installations à risque\\nCONTACT :\\nCatherine BERGE\\nIRSN/BERSSIN\\n01 58 35 86 71\\ncatherine.berge@irsn.fr\\n30 novembre 2006 1www.irsn.orgFS 2\", start_char_idx=0, end_char_idx=1241, text_template='{metadata_str}\\n\\n{content}', metadata_template='{key}: {value}', metadata_seperator='\\n'), score=0.8432327664916763)], metadata={'7fc1734d-7be8-4bac-907d-61b7247cdaa9': {'page_label': '2', 'file_name': '/share/data/fiches_seismes/irsn_seisme_argeles_gazost_112006.pdf'}, 'fc2da5e0-0bb9-42e9-948c-d7b3834f44ed': {'page_label': '1', 'file_name': '/share/data/fiches_seismes/irsn_seisme_argeles_gazost_112006.pdf'}}), Response(response='\\nThe given context information does not mention any information about the impact of the earthquake in Argelès-Gazost on the nuclear installations in the region. Therefore, it is not possible to answer the query based on the given context information.', source_nodes=[NodeWithScore(node=TextNode(id_='4039a30e-e751-4b3a-b3eb-b41412d8bb06', embedding=None, metadata={'page_label': '5', 'file_name': '/share/data/fiches_seismes/Note-Information-Seisme-Teil-14112019.pdf'}, excluded_embed_metadata_keys=[], excluded_llm_metadata_keys=[], relationships={<NodeRelationship.SOURCE: '1'>: RelatedNodeInfo(node_id='33d1b94f-bfbf-4ec8-b4e4-799b6d0717bf', node_type=<ObjectType.DOCUMENT: '4'>, metadata={'page_label': '5', 'file_name': '/share/data/fiches_seismes/Note-Information-Seisme-Teil-14112019.pdf'}, hash='b55ef44e345ccd378b6dfb63415780049deb825e961369e24b11d4b0a199c20d'), <NodeRelationship.PREVIOUS: '2'>: RelatedNodeInfo(node_id='de4c0318-e9ec-4207-9e70-24cd0dc9066c', node_type=<ObjectType.TEXT: '1'>, metadata={'page_label': '4', 'file_name': '/share/data/fiches_seismes/Note-Information-Seisme-Teil-14112019.pdf'}, hash='62ff33a5a2fb94c12ac34a94d2e964e8468f029b69af9d587bfdac7bf77d3336'), <NodeRelationship.NEXT: '3'>: RelatedNodeInfo(node_id='34670cf4-d2e8-46e3-ba0c-0c41c742e9a2', node_type=<ObjectType.TEXT: '1'>, metadata={}, hash='d171bf2b16d7414938e1fdcf514f2a974233bebd88455b79b03df94a8dd42594')}, text='I  N  F  O  R  M  A  T  I  O  N  \\n5 14 novembre 2019  www.irsn.fr  Impact sur les installations nucléaires  \\n \\nTrois sites nucléaire s sont localisés dans un rayon de 50 km autour de l’épicentre. Le plus proche est celui de \\nla centrale nucléaire de Cruas. La distance à la zone de rupture la plus proche est d’environ 12 km. Compte \\ntenu de la magnitude et de la faible profondeur du séisme , l’atténuation du mouvement si smique est \\nimportante. Ainsi à 2 0 km, les stations sismiques des réseaux d’observation nationaux ont enregistrés des \\naccélérations de quelques millièmes de g (valeur de l’accélération de la pesanteur), en particulier de 0,006  g \\nà proximité de la centrale du Tricastin. A Cruas, les instruments installés sur le site ont enregistrés une \\naccélération maximale de 0,045  g en champ libre (une autre mesure réalisée dans les locaux de la centrale a \\nentrainé une procédure d’arrêt et de vérification des installations).  \\n \\nLes bâtiments et les équipements des centrales nucléaires françaises sont conçus pour résister à un certain \\nniveau de séisme caractérisé par un «  spectre de réponse  ». Un «spectre de réponse  » permet de déterminer \\nla sollicitation d’un bâtiment ou d’un équipement à différentes fréquences de vibrations produites par un \\nséisme. On associe souvent à un «  spectre de réponse  » l’accélération correspondant aux fréquences élevées \\nappelée «  valeur de calage  ». \\n \\nPour ce qui con cerne la centrale nucléaire de Cruas, le «  spectre de réponse  » en vigueur est celui utilisé pour \\nle troisième réexamen de sûreté des réacteurs. Il est calé à 0,26 g. Ce spectre a été utilisé pour la \\nréévaluation du comportement sismique de l’ensemble de l ’installation lors du troisième réexamen de sûreté. \\nIl convient de noter que pour la centrale nucléaire de Cruas des appuis parasismiques en élastomère ont été \\ninterposés lors de la construction entre les fondations et les principaux bâtiments.  \\nPour ce qui  concerne la centrale nucléaire du Tricastin, le «  spectre de réponse  » en vigueur est celui utilisé \\npour le troisième réexamen de sûreté des réacteurs. Il est calé à 0,285 g. Ce spectre a été utilisé pour la \\nréévaluation du comportement sismique de l’ense mble de l’installation lors du troisième réexamen de sûreté.  \\n \\nLa méthode utilisée pour déterminer ces «  spectres de réponse  » est définie dans une réglementation \\ntechnique spécifique (RFS 2001 -01). Celle -ci demande de définir des zones (dites zones sismote ctoniques) \\nconsidérées comme homogènes du point de vue de leur potentiel à générer des séismes, puis à recenser les \\nséismes les plus importants connus historiquement dans chacune de ces zones (sismicité instrumentale et \\nsismicité historique). La sollicitat ion sismique retenue (Séisme Maximum Historiquement Vraisemblable - \\nSMHV) est alors définie en supposant que les séismes identifiés peuvent se produire en n’importe quel point \\nde la zone sismotectonique à laquelle ils appartiennent. La RFS demande que, dan s la zone sismotectonique \\ndu site, le SMHV soit supposé se produire à l’aplomb du site. Le Séisme Majoré de Sécurité (SMS) est obtenu en \\naugmentant la magnitude des o ndes de surface (Ms) du SMHV de 0,5.', start_char_idx=4, end_char_idx=3213, text_template='{metadata_str}\\n\\n{content}', metadata_template='{key}: {value}', metadata_seperator='\\n'), score=0.8576574851113071), NodeWithScore(node=TextNode(id_='4edc34f0-7350-4377-885f-6aa48576ea2d', embedding=None, metadata={'page_label': '4', 'file_name': '/share/data/fiches_seismes/IRSN-Seisme-Amatrice-Italie-240816_V1.pdf'}, excluded_embed_metadata_keys=[], excluded_llm_metadata_keys=[], relationships={<NodeRelationship.SOURCE: '1'>: RelatedNodeInfo(node_id='11d82dbf-84fb-4bd6-9edb-0de105224b3b', node_type=<ObjectType.DOCUMENT: '4'>, metadata={'page_label': '4', 'file_name': '/share/data/fiches_seismes/IRSN-Seisme-Amatrice-Italie-240816_V1.pdf'}, hash='c0e11d5978a7ec37a94f876b13d7a8341bbe9a2498162bec9c6fb6509704fa4f'), <NodeRelationship.PREVIOUS: '2'>: RelatedNodeInfo(node_id='0e2625ef-e48a-42d8-aeca-68ff26160372', node_type=<ObjectType.TEXT: '1'>, metadata={'page_label': '3', 'file_name': '/share/data/fiches_seismes/IRSN-Seisme-Amatrice-Italie-240816_V1.pdf'}, hash='990286708c941eac0765f9cee3e47e472478ee0d0f6fa2e6340ecc6b8b81d6f1'), <NodeRelationship.NEXT: '3'>: RelatedNodeInfo(node_id='60094ac4-04ff-4a96-b500-cade7e6a8358', node_type=<ObjectType.TEXT: '1'>, metadata={}, hash='1301f8bcd33b5b7f98c94aa23204a2ac6dfd6ed2a5793310487817d0d4d8fc11')}, text='I  N  F  O  R  M  A  T  I  O  N  \\n4 26 Août 2016  Impact sur les installations nucléaires  \\nAucun  site nucléaire  ne se situe  dans la région  épicentrale  du séisme  du 24 août 2016 .  \\nPlusieurs  réacteurs  électronucléaires  et installations  de fabrication  de combustibles  ont été exploités  en Italie . Tous \\nsont aujourd’hui  arrêtés  et en cours  de démantèlement . A ces installations,  s’ajoutent  les sites d’entreposage  de \\ncombustibles  usés ainsi que certains  réacteurs  et laboratoires  de recherche  encore  en fonctionnement .  \\nL’installation  la plus proche  du séisme  d’Amatrice  est l’établissement  de recherche  de Casaccia  ENEA   (Figure  1 et 5) \\nsituée  au Nord de Rome,  à un peu plus de 100 km de la zone épicentrale . Les centrales  électronucléaires  en cours  de \\ndémantèlement  de Montalto  di Castro  et de Latina  sont localisées  à environ  140 km de la zone épicentrale  (Figure  5).  \\nLes enseignements  \\n\\uf0a7Les caractéristiques  du séisme  du 24 août 2016  sont cohérentes  avec l’activité  sismique  des Apennins . \\nCette  région  de l’Italie  est reconnue  comme  étant  une zone où l’aléa  est élevé . \\n\\uf0a7Le séisme,  localisé  à proximité  de la ville d’Amatrice,  a causé  d’importants  dégâts  en zone épicentrale . \\nLe bilan  des dégâts  humains  et matériels  n’est  pas établi  définitivement  mais peut d’ores  et déjà être \\nconsidéré  comme  particulièrement  lourd . Ce séisme  a par ailleurs  été fortement  ressenti  en Italie  \\ncentrale . \\n\\uf0a7L’importance  des dommages  est vraisemblablement  liée à la faible  profondeur  du séisme  et à la \\nvulnérabilité  des constructions . \\n\\uf0a7Aucun  site nucléaire  n’est  situé  dans la zone dans laquelle  des effets  significatifs  ont été enregistrés . \\n\\uf0a7Des séismes  d’ampleur  comparable  (magnitude  6,0) se sont déjà produits  en France  au cours  de \\nl’histoire  (e.g. séisme  de Lambesc  1909 ) et sont susceptibles  de survenir  de nouveau . Toutefois  la \\nfréquence  de ce type de séismes  est notablement  plus faible  en France  (en moyenne  une fois tous les \\n100 ans) qu’en  Italie  (en moyenne  une fois tous les 10 ans).', start_char_idx=0, end_char_idx=2129, text_template='{metadata_str}\\n\\n{content}', metadata_template='{key}: {value}', metadata_seperator='\\n'), score=0.8496221489852619)], metadata={'4039a30e-e751-4b3a-b3eb-b41412d8bb06': {'page_label': '5', 'file_name': '/share/data/fiches_seismes/Note-Information-Seisme-Teil-14112019.pdf'}, '4edc34f0-7350-4377-885f-6aa48576ea2d': {'page_label': '4', 'file_name': '/share/data/fiches_seismes/IRSN-Seisme-Amatrice-Italie-240816_V1.pdf'}})], 'irsn_seisme_chinon_11_2006.pdf': [Response(response=\"\\nThe query is asking for information about the earthquake that occurred in Chinon, France on November 5, 2006. The earthquake had a magnitude of 4.1+/-0.38 on the Richter scale and its epicenter was located at a latitude of 47.30 North and a longitude of 0.08 East. The impact of the earthquake was relatively localized, with no significant damage reported. However, the earthquake was felt by people in the area and caused some concern among the local population. The Bureau d'évaluation des risques sismiques pour la sûreté des installations (BERSSIN) of the IRSN conducted research and expertises on the alea sismique as a source of external aggression for the installations at risk.\", source_nodes=[NodeWithScore(node=TextNode(id_='a2663484-d918-4742-b21f-0776974eb8dd', embedding=None, metadata={'page_label': '1', 'file_name': '/share/data/fiches_seismes/irsn_seisme_chinon_11_2006.pdf'}, excluded_embed_metadata_keys=[], excluded_llm_metadata_keys=[], relationships={<NodeRelationship.SOURCE: '1'>: RelatedNodeInfo(node_id='911e5b5b-6c94-45e1-8f7c-ea535c68a347', node_type=<ObjectType.DOCUMENT: '4'>, metadata={'page_label': '1', 'file_name': '/share/data/fiches_seismes/irsn_seisme_chinon_11_2006.pdf'}, hash='298576a5d8b870aa2071db142c6ac35e3515f85c3c6d3aa4ceb2b941bedd784d'), <NodeRelationship.PREVIOUS: '2'>: RelatedNodeInfo(node_id='062a0a36-4143-46e1-b50b-233d1d0c463d', node_type=<ObjectType.TEXT: '1'>, metadata={'page_label': '3', 'file_name': '/share/data/fiches_seismes/irsn_seisme_argeles_gazost_112006.pdf'}, hash='24a5ec9b10a2c32dad44fa6b39355a1b202dbbfb447deb9f7832b9d67cade782'), <NodeRelationship.NEXT: '3'>: RelatedNodeInfo(node_id='eb0ad783-a271-4301-a55e-d724355fabac', node_type=<ObjectType.TEXT: '1'>, metadata={}, hash='26e267954710ab4518f95eff00d7869cac548245555250b59c2c5d1b70bef825')}, text=\"Localisation\\nde l’épicentre du séisme\\n(source: CEA/LDG)Rappel des faits\\n\\x83Dimanche 5 novembre 2006, à 00h37 temps universel, un séisme de faible magnitude s’est produit à une dizaine de kilomètres de la centrale nucléaire de Chinon.\\n\\x83Le Laboratoire de détection géophysiqu e (LDG) du CEA estime la magnitude \\ndu séisme à 4.1+/-0.38 sur l’échelle de Richter avec un épicentre situé à une \\nlatitude de 47.30 Nord et à une longitude de 0.08 Est (cf. figure). La profondeur du séisme est plus difficile à évaluer avec  précision, la station sismologique \\nla plus proche étant située à 73 km de l’épicentre.\\n\\x83L’événement sismique a été relayé par divers  organes de presse dont la station RMC-\\nInfo qui a également diffusé une déclaration du porte-parole de l’association « Sortir \\ndu Nucléaire » mettant en doute la sûreté de l’installation.Séisme de Chinon\\nDimanche 5 novembre 2006\\nMagnitude = 4.1 à 0h37 (TU)\\nLe Bureau \\nd'évaluation des risques \\nsismiques pour \\nla sûreté des installations \\n(BERSSIN) de l’IRSN \\neffectuedes recherches \\net des expertises \\nsur l’aléa sismique en tant que source \\nd’agression externe \\ndes installations à risque\\n10 novembre 2006FS 1I  N  F  O  R  M  A  T  I  O  N\\n1CONTACT :\\nCatherine BERGE\\nIRSN/BERSSIN\\n01 58 35 86 71\\ncatherine.berge@irsn.fr\\nwww.irsn.org\", start_char_idx=0, end_char_idx=1283, text_template='{metadata_str}\\n\\n{content}', metadata_template='{key}: {value}', metadata_seperator='\\n'), score=0.8519161505709635), NodeWithScore(node=TextNode(id_='b0834a09-2230-49d6-97b1-059413c3b2b8', embedding=None, metadata={'page_label': '2', 'file_name': '/share/data/fiches_seismes/irsn_seisme_chinon_11_2006.pdf'}, excluded_embed_metadata_keys=[], excluded_llm_metadata_keys=[], relationships={<NodeRelationship.SOURCE: '1'>: RelatedNodeInfo(node_id='3b6176da-941f-406b-80f6-a310133623b7', node_type=<ObjectType.DOCUMENT: '4'>, metadata={'page_label': '2', 'file_name': '/share/data/fiches_seismes/irsn_seisme_chinon_11_2006.pdf'}, hash='3ed3789ef6ddf9a77ce00b953dee34920e968c4f58c7f21cd9501511f77e38c8'), <NodeRelationship.PREVIOUS: '2'>: RelatedNodeInfo(node_id='eb0ad783-a271-4301-a55e-d724355fabac', node_type=<ObjectType.TEXT: '1'>, metadata={'page_label': '2', 'file_name': '/share/data/fiches_seismes/irsn_seisme_chinon_11_2006.pdf'}, hash='5355fb52424049f83b951a44328b556907a36f38d56dc43f7e9972a289d4bb59'), <NodeRelationship.NEXT: '3'>: RelatedNodeInfo(node_id='3d886162-d3b4-482a-8981-9de2f37a5ce7', node_type=<ObjectType.TEXT: '1'>, metadata={}, hash='e8267e135d45b7b59ad1af91f5066236f9b9cfb8733f56798e2c09975b1b2061')}, text='Le plus fort de ces séismes historiques (Loudun 1711) a une magnitude estimée entre 5,5 et 6.Contexte sismotectonique\\nPrincipaux séismes \\nenregistrés dans un rayon \\nde 50 km autour de Chinon\\n(catalogue LDG 1962-1999)\\n10 novembre 2006Séismes historiques et récents à proximité\\nLa magnitude du séisme du 5 novembre 2006 est représentative de la sismicité régulièrement \\nenregistrée dans la région . Ainsi, huit séismes de magnitude voisine ont été enregistrés par le réseau \\nnational depuis 1962. L’attention portée à cet événement tient à sa localisation à proximité\\ndu CNPE de Chinon.\\nDistance au \\nsite de ChinonMLDGEcart-type Profondeur Longitude Latitude Jour Mois Année\\n2,7 4,2 0,2 4 0,15 47,25 6 12 1991\\n35,3 3,5 0 N/ A 0,49 47 7 1 1975\\n37,3 3,8 0,3 2 -0,32 47,24 6 5 1994\\n40,4 3,7 0,4 2 0,42 46,91 14 1 199242,3 3,9 0,2 8 -0,34 47,08 31 8 198144,2 3,6 0,3 5 -0,41 47,26 28 9 1995\\n46,4 3,7 0 4 -0,44 47,25 14 4 1967\\n48,2 4,7 0,3 8 0,55 47,58 30 9 1985\\n48,8 3,8 0,3 2 -0,42 47,06 12 12 1993\\nPrincipaux séismes \\nhistoriques dans un rayon \\nde 50 km autour de Chinon \\n(intensité épicentrale \\nsupérieure ou égale à\\nVI MSK)\\n(SISFRANCE 2005)Distance au \\nsite de ChinonIntensité \\népicentraleLongitude Latitude Année Nom\\n34,4 VII-VIII 0,05 46,933 1711 LOUDUN-POITOU\\n36,1 VII-VIII 0,617 47,117 1657 STE-MAURE-TOURAINE\\n19,7 VII 0,4 47,317 1706 LANGEAIS-TOURAINE\\n23,3 VI-VII 0,017 47,05 1708 LOUDUNOIS-POITOU\\n31,5 VI -0,1 47,017 1098 LOUDUNOIS-POITOUI  N  F  O  R  M  A  T  I  O  N\\n2', start_char_idx=1758, end_char_idx=3233, text_template='{metadata_str}\\n\\n{content}', metadata_template='{key}: {value}', metadata_seperator='\\n'), score=0.8419684084539307)], metadata={'a2663484-d918-4742-b21f-0776974eb8dd': {'page_label': '1', 'file_name': '/share/data/fiches_seismes/irsn_seisme_chinon_11_2006.pdf'}, 'b0834a09-2230-49d6-97b1-059413c3b2b8': {'page_label': '2', 'file_name': '/share/data/fiches_seismes/irsn_seisme_chinon_11_2006.pdf'}}), Response(response='\\nThe impact of the Chinon earthquake on the nuclear power plants in the region was relatively minimal. The epicenter of the earthquake was located approximately 60 km from the INB (Industrial Nuclear Base) of Pouzauges, 100 km from the Civaux nuclear power plant, 115 km from the Blayais nuclear power plant, and 130 km from the Chinon nuclear power plant. According to the ASN (Autorité de sûreté nucléaire), the earthquake was felt in the administrative buildings of the centrales de Civaux, Blayais, and Chinon, but it did not cause the activation of the emergency alarms related to the vibration of the reactor buildings.', source_nodes=[NodeWithScore(node=TextNode(id_='a2663484-d918-4742-b21f-0776974eb8dd', embedding=None, metadata={'page_label': '1', 'file_name': '/share/data/fiches_seismes/irsn_seisme_chinon_11_2006.pdf'}, excluded_embed_metadata_keys=[], excluded_llm_metadata_keys=[], relationships={<NodeRelationship.SOURCE: '1'>: RelatedNodeInfo(node_id='911e5b5b-6c94-45e1-8f7c-ea535c68a347', node_type=<ObjectType.DOCUMENT: '4'>, metadata={'page_label': '1', 'file_name': '/share/data/fiches_seismes/irsn_seisme_chinon_11_2006.pdf'}, hash='298576a5d8b870aa2071db142c6ac35e3515f85c3c6d3aa4ceb2b941bedd784d'), <NodeRelationship.PREVIOUS: '2'>: RelatedNodeInfo(node_id='062a0a36-4143-46e1-b50b-233d1d0c463d', node_type=<ObjectType.TEXT: '1'>, metadata={'page_label': '3', 'file_name': '/share/data/fiches_seismes/irsn_seisme_argeles_gazost_112006.pdf'}, hash='24a5ec9b10a2c32dad44fa6b39355a1b202dbbfb447deb9f7832b9d67cade782'), <NodeRelationship.NEXT: '3'>: RelatedNodeInfo(node_id='eb0ad783-a271-4301-a55e-d724355fabac', node_type=<ObjectType.TEXT: '1'>, metadata={}, hash='26e267954710ab4518f95eff00d7869cac548245555250b59c2c5d1b70bef825')}, text=\"Localisation\\nde l’épicentre du séisme\\n(source: CEA/LDG)Rappel des faits\\n\\x83Dimanche 5 novembre 2006, à 00h37 temps universel, un séisme de faible magnitude s’est produit à une dizaine de kilomètres de la centrale nucléaire de Chinon.\\n\\x83Le Laboratoire de détection géophysiqu e (LDG) du CEA estime la magnitude \\ndu séisme à 4.1+/-0.38 sur l’échelle de Richter avec un épicentre situé à une \\nlatitude de 47.30 Nord et à une longitude de 0.08 Est (cf. figure). La profondeur du séisme est plus difficile à évaluer avec  précision, la station sismologique \\nla plus proche étant située à 73 km de l’épicentre.\\n\\x83L’événement sismique a été relayé par divers  organes de presse dont la station RMC-\\nInfo qui a également diffusé une déclaration du porte-parole de l’association « Sortir \\ndu Nucléaire » mettant en doute la sûreté de l’installation.Séisme de Chinon\\nDimanche 5 novembre 2006\\nMagnitude = 4.1 à 0h37 (TU)\\nLe Bureau \\nd'évaluation des risques \\nsismiques pour \\nla sûreté des installations \\n(BERSSIN) de l’IRSN \\neffectuedes recherches \\net des expertises \\nsur l’aléa sismique en tant que source \\nd’agression externe \\ndes installations à risque\\n10 novembre 2006FS 1I  N  F  O  R  M  A  T  I  O  N\\n1CONTACT :\\nCatherine BERGE\\nIRSN/BERSSIN\\n01 58 35 86 71\\ncatherine.berge@irsn.fr\\nwww.irsn.org\", start_char_idx=0, end_char_idx=1283, text_template='{metadata_str}\\n\\n{content}', metadata_template='{key}: {value}', metadata_seperator='\\n'), score=0.8464369365893821), NodeWithScore(node=TextNode(id_='92463946-7785-4a0f-8439-f0d4e1e5a068', embedding=None, metadata={'page_label': '4', 'file_name': '/share/data/fiches_seismes/IRSN_Fiche-Seisme-Ouest-France-16-juin-2023_V1-17062023.pdf'}, excluded_embed_metadata_keys=[], excluded_llm_metadata_keys=[], relationships={<NodeRelationship.SOURCE: '1'>: RelatedNodeInfo(node_id='a7db7d4d-9a6a-483a-945d-c685c1b6eea6', node_type=<ObjectType.DOCUMENT: '4'>, metadata={'page_label': '4', 'file_name': '/share/data/fiches_seismes/IRSN_Fiche-Seisme-Ouest-France-16-juin-2023_V1-17062023.pdf'}, hash='67d81798ad2c2b53215dd2c28469f4dfd57ea5aef2edf80d7d611c426e5b853d'), <NodeRelationship.PREVIOUS: '2'>: RelatedNodeInfo(node_id='32c921b4-14da-4974-9167-74097f0bfc61', node_type=<ObjectType.TEXT: '1'>, metadata={'page_label': '3', 'file_name': '/share/data/fiches_seismes/IRSN_Fiche-Seisme-Ouest-France-16-juin-2023_V1-17062023.pdf'}, hash='e4fed9f4dd6dffc0c12eaaf9d4f6e75e05110be0c14c67754a265bc06a629a18'), <NodeRelationship.NEXT: '3'>: RelatedNodeInfo(node_id='d5a8f08e-4f55-4974-8144-b7dd400894e3', node_type=<ObjectType.TEXT: '1'>, metadata={}, hash='84777626d33d8abadfe82cca5bc533899aab010267f4961d28167cf16f6a3668')}, text='4/4 \\nImpact sur  les installations nucléaires de base  \\nL’épicentre du séisme est localisé à environ 60 km de l’INB de Pouzauges  (irradiate ur industriel) et  à environ 100 \\nkm de  la centrale nucléaire de  Civaux , à 115 km de la centrale  du Blayais et à 130 km de celle de Chinon.  Selon \\nl’ASN , le séisme a été ressenti dans les  bâtiments administratifs de s centrales de Civaux , Blayais et Chinon. Il n’a \\npas entrainé le décl enchement des alarmes liés à l’ébranlement des bâtiment s réacteurs.   \\n \\nFigure 4. Carte des installations nucléaires de base de la région, en jaune les localisation s des séismes de la séquence \\nsismique initiée le 16 juin 2023 . \\n \\nRéférences  \\nSite Web du USGS M 4.8 - 4 km SSE of Courçon, France (usgs.gov)  \\nSite Web du Rénass Tremblement de terre de magnitude 5.3, proche de Niort - Franceseisme.fr (unistra.fr)  \\nSite web du BCSF Le Bureau Central Sismologique Français (BCSF) ( franceseisme.fr)  \\nSite web du SisFrance Accueil | SisFrance  \\nCommuniqué de l’ASN Séisme dans l’ouest : pas d’anomalies sur les centrales françaises - 16/06/2023 - ASN', start_char_idx=4, end_char_idx=1095, text_template='{metadata_str}\\n\\n{content}', metadata_template='{key}: {value}', metadata_seperator='\\n'), score=0.8436392298165968)], metadata={'a2663484-d918-4742-b21f-0776974eb8dd': {'page_label': '1', 'file_name': '/share/data/fiches_seismes/irsn_seisme_chinon_11_2006.pdf'}, '92463946-7785-4a0f-8439-f0d4e1e5a068': {'page_label': '4', 'file_name': '/share/data/fiches_seismes/IRSN_Fiche-Seisme-Ouest-France-16-juin-2023_V1-17062023.pdf'}})], 'IRSN_seisme_Christchurch-NZ_23022011.pdf': [Response(response='\\nThe impacts of the earthquake in Christchurch on February 21, 2011, compared to the earthquake in September 2010 in New Zealand are as follows:\\n\\n1. Magnitude: The earthquake in September 2010 had a magnitude of 7.1, while the earthquake in February 2011 had a magnitude of 6.3.\\n2. Location: The earthquake in September 2010 was located 30 km away from Christchurch, while the earthquake in February 2011 was located 10 km away from Christchurch.\\n3. Damage: The earthquake in February 2011 caused more damage than the earthquake in September 2010, despite being less powerful. This is likely due to the proximity of the earthquake to Christchurch and the fact that it occurred at a shallower depth.\\n4. Human impact: The earthquake in February 2011 resulted in 75 deaths and 300 missing persons, while the earthquake in September 2010 resulted in no deaths.\\n5. Aftershocks: The', source_nodes=[NodeWithScore(node=TextNode(id_='c7fe9ce8-cefc-4b65-a68d-64d88d574343', embedding=None, metadata={'page_label': '1', 'file_name': '/share/data/fiches_seismes/IRSN_seisme_Christchurch-NZ_23022011.pdf'}, excluded_embed_metadata_keys=[], excluded_llm_metadata_keys=[], relationships={<NodeRelationship.SOURCE: '1'>: RelatedNodeInfo(node_id='8ff2a7b8-90a7-44d2-8768-f6a0a2de9c5d', node_type=<ObjectType.DOCUMENT: '4'>, metadata={'page_label': '1', 'file_name': '/share/data/fiches_seismes/IRSN_seisme_Christchurch-NZ_23022011.pdf'}, hash='96a2c92d40e1aa1e67cb2947926b9446102f03efb9c0c00ed74a87b8604c48da'), <NodeRelationship.PREVIOUS: '2'>: RelatedNodeInfo(node_id='ae0cd452-f39f-4efc-9e0e-dc818c2c7fe3', node_type=<ObjectType.TEXT: '1'>, metadata={'page_label': '4', 'file_name': '/share/data/fiches_seismes/IRSN_seisme_virginie-US-23082011.pdf'}, hash='89d91ff20165596a6bdae5896a170feb5009416e21e0ea0824735c9f9146afc7'), <NodeRelationship.NEXT: '3'>: RelatedNodeInfo(node_id='9287ec99-ae6b-4c90-ba26-d6ddd92431f3', node_type=<ObjectType.TEXT: '1'>, metadata={}, hash='95f4ac94945bc2b31b0798a8d4664c9a96f9cdb380509906affc3b4de932dbe2')}, text=\"Rappel des faits\\n\\x83Lundi 21 février 2011 à 23h51 TU (mardi 22 février à 13h51 en heure locale), un \\nviolent séisme de magnitude 6,3, localisé à faible profondeur (5 km) s’est produit à10 km au Sud-est de la ville de Christchurch (Nouvelle-Zélande). Son épicentre est situé à 43,60° de latitude Sud et 172,71° de longitude Est selon GEONET (GNS Science et Earthquake Commission).\\n\\x83Le séisme a  endommagé de nombreux bâtiments. Le bilan provisoire fait état d’au moins 75 morts et 300 disparus (AFP 23/02/2011). \\n\\x83La ville de Christchurch, 2ème ville de Nouvelle-Zélande comptant près de  350 000 habitants, avait déjà été frappée en sept embre 2010 par un séisme de plus forte \\nmagnitude (magnitude 7,1, soit plus de  20 fois plus puissant que celui-ci). \\nCependant, compte tenu de la localisation de l’épicentre (éloigné de près de 30 km de la ville), aucune victime n’avait alors été à déplorer même si d’importants dégâts sur les infrastructures avaient été observés. \\n\\x83En revanche, le séisme du lundi 21 février, bien que moins puissant, a causé des dégâts beaucoup plus importants. La différence en termes de bilan humain s’explique sans doute par la très faible profondeur du séisme du 21 février et sa \\nproximité des zones urbanisées. Ce séisme avait été précédé le 19 janvier 2011 par \\nun choc d’une magnitude de 5, et a été suivi de très nombreuses répliques. L’une d’elle a également provoqué des dégâts importants et de nouveaux effondrements.Séisme de Christchurch \\n(Nouvelle-Zélande) \\ndu lundi 21  février 2011 (23h51 TU)\\nMag\\nnitude = 6,3I  N  F  O  R  M  A  T  I  O  N\\nLe Bureau \\nd'évaluation des risques sismiques pour \\nla sûreté des \\ninstallations (BERSSIN) de l’IRSN effectuedes recherches et des expertises sur l’aléa sismique \\nen tant que source \\nd’agression externe des installations àr i s q u e\\n1FS 6\\nVersion 1 du 23 février 2011\\nwww.irsn.frCONTACT :\\nIRSN/BERSSIN\\nMarc Cushing\\n01 58 35 76 65\\nedward.cushing@irsn.fr\\nFigure 1 : Localisation du séisme du 21 février 2011  et contexte géodynamique (source : Université de Canterbury-NZ).\\nChristchurch\\n23 février 2011\", start_char_idx=0, end_char_idx=2082, text_template='{metadata_str}\\n\\n{content}', metadata_template='{key}: {value}', metadata_seperator='\\n'), score=0.8637624708416229), NodeWithScore(node=TextNode(id_='9287ec99-ae6b-4c90-ba26-d6ddd92431f3', embedding=None, metadata={'page_label': '2', 'file_name': '/share/data/fiches_seismes/IRSN_seisme_Christchurch-NZ_23022011.pdf'}, excluded_embed_metadata_keys=[], excluded_llm_metadata_keys=[], relationships={<NodeRelationship.SOURCE: '1'>: RelatedNodeInfo(node_id='b90a41a5-0a5d-4faf-b894-97fa96f58bee', node_type=<ObjectType.DOCUMENT: '4'>, metadata={'page_label': '2', 'file_name': '/share/data/fiches_seismes/IRSN_seisme_Christchurch-NZ_23022011.pdf'}, hash='6fcf951930e4ed366cf7ebd54cf395efea9e8f2b030377be8dab6af4fadb78db'), <NodeRelationship.PREVIOUS: '2'>: RelatedNodeInfo(node_id='c7fe9ce8-cefc-4b65-a68d-64d88d574343', node_type=<ObjectType.TEXT: '1'>, metadata={'page_label': '1', 'file_name': '/share/data/fiches_seismes/IRSN_seisme_Christchurch-NZ_23022011.pdf'}, hash='96a2c92d40e1aa1e67cb2947926b9446102f03efb9c0c00ed74a87b8604c48da'), <NodeRelationship.NEXT: '3'>: RelatedNodeInfo(node_id='52472d1e-5665-461d-9bb2-dda2e6c41a12', node_type=<ObjectType.TEXT: '1'>, metadata={}, hash='872dca51e63145b7ee597b0c19f85d31db7bbd3be6aeee56e8d38a2fdb5b8a20')}, text='I  N  F  O  R  M  A  T  I  O  N\\n2\\n 23 février 2011Localisation du séisme\\nFigure 2 : Position des épicentres des séismes du 3 se ptembre 2010 (M=7,1) et du 21 février 2011 (M=6,3) \\n(« cibles » rouge). Les épicentres des répliques du séisme  de septembre sont matérialisés par les points roses \\npour les séismes allant jusqu’à 15 km de profondeur et pa r les points rouges pour les séismes plus profonds. Les \\nrépliques s’alignent selon une direction Est-Ouest le long de la faille activée lors du choc principal. D’autres \\nalignements peuvent être remarqués : ils correspondent à des failles secondaires. \\nSources : GNS Science : New-Zealand Geosciences Resear ch Institute ; Fond cartographique © Google Earth.\\nLa Nouvelle-Zélande se situe à la frontière de deux plaques tectoniques (les plaques australienne et \\npacifique) qui coulissent l’une contre l’autre à la vitess e de 4 cm/an le long de la  faille Alpine, une faille \\ntransformante majeure (figure 1).  La faille Alpine se  situe à 100 km au Nord-Ouest de Christchurch. Ce \\nn’est donc pas elle qui est à l’origine des séismes de septembre 2010 et de février 2011, mais une faille \\n« satellite » dite de GreenDale qui lui est oblique. \\nAvant l’occurrence du séisme de septembre dernier, la faille de GreenDale éta it inconnue des géologues. \\nLes études réalisées depuis ont permis d’établir qu’e lle n’avait pas rompu depuis au moins 16 000 ans. Il \\ns’agit d’une faille décrochante (coulissage horizontal ) d’environ 80 km, située essentiellement à l’Ouest de \\nChristchurch mais qui se prolonge jusque sous la vi lle, comme le montre la répart ition des répliques (figure \\n2).\\nDepuis septembre 2010, cette faille a été le siège d’une activité sismique régulière (plus de 4000 répliques \\nenregistrées*). Le séisme du lundi 21 février 2011 peut être considéré comme une forte réplique faisant \\nsuite au choc principal de septembr e 2010. L’analyse des mécanismes au foyer des séismes (qui qualifie le \\ntype de fonctionnement de la faille ) confirme que la faille de GreenDale est, sur sa plus grande longueur, \\nun accident vertical coulissant. Cependant, elle se caractérise à chaque extrémité par la présence de failles \\ninverses (failles inclinées fonctionnant en raccourcissement – figure 3 page suivante). Le séisme du 21 février 2011 s’est produit sur la terminaison Est de la  faille de Greendale. Son mécanisme au foyer (figure \\n3) indique qu’il s’est produit sur un segment de faille inverse (déformation en raccourcissement).\\nIl n’y a pas d’installation nucléaire en Nouvelle-Zélande.\\n* Source : http://geonet.org.nz\\nChristchurch', start_char_idx=0, end_char_idx=2594, text_template='{metadata_str}\\n\\n{content}', metadata_template='{key}: {value}', metadata_seperator='\\n'), score=0.7983842216096506)], metadata={'c7fe9ce8-cefc-4b65-a68d-64d88d574343': {'page_label': '1', 'file_name': '/share/data/fiches_seismes/IRSN_seisme_Christchurch-NZ_23022011.pdf'}, '9287ec99-ae6b-4c90-ba26-d6ddd92431f3': {'page_label': '2', 'file_name': '/share/data/fiches_seismes/IRSN_seisme_Christchurch-NZ_23022011.pdf'}}), Response(response='\\nI  N  F  O  R  M  A  T  I  O  N \\n3\\nLes installations nucléaires \\nNouvelle-Zélande dispose de deux centrales nucléaires : Tongariro (1 réacteur de 160 MWe) et Tokai (2 réacteurs de 160 MWe chacun) situées respectivement à 100 km et 150 km au sud-ouest de Wellington. Les centrales sont situées dans des zones de faible activité sismique.\\n\\nLa faille de GreenDale est une faille de 10 kilomètres de longueur et 1 kilomètre de largeur située dans le sud-ouest de Nouvelle-Zélande. Elle est connue pour son activité sismique et a été la cause de plusieurs séismes importants dans la région. Les caractéristiques de la faille sont encore mal connues et sont étudiées par des chercheurs.', source_nodes=[NodeWithScore(node=TextNode(id_='c2b051b6-f77e-42e9-ada1-0bcd2cec6793', embedding=None, metadata={'page_label': '3', 'file_name': '/share/data/fiches_seismes/irsn_seisme-algerie_052003.pdf'}, excluded_embed_metadata_keys=[], excluded_llm_metadata_keys=[], relationships={<NodeRelationship.SOURCE: '1'>: RelatedNodeInfo(node_id='980c694f-2958-480c-940c-d24fd8841a08', node_type=<ObjectType.DOCUMENT: '4'>, metadata={'page_label': '3', 'file_name': '/share/data/fiches_seismes/irsn_seisme-algerie_052003.pdf'}, hash='02ddf5b824ed11824dad7e239f27bb97f3863fa181bc7396861d0b20f413c70d'), <NodeRelationship.PREVIOUS: '2'>: RelatedNodeInfo(node_id='ec142c0d-364a-456c-b457-eec323dfabb6', node_type=<ObjectType.TEXT: '1'>, metadata={'page_label': '2', 'file_name': '/share/data/fiches_seismes/irsn_seisme-algerie_052003.pdf'}, hash='62f62b8652fd082128056850cbf8894c4bb0402e045fd964379e5b9bc6e9a7e8'), <NodeRelationship.NEXT: '3'>: RelatedNodeInfo(node_id='e9d0f049-88cf-4366-85d8-91fbfb13c7fe', node_type=<ObjectType.TEXT: '1'>, metadata={}, hash='20cd58a91241e46366d5db4054ce11093597d1c3e38154c925cc6f657780393a')}, text=\"I  N  F  O  R  M  A  T  I  O  N \\n3\\nLes installations nucléaires \\nL’Algérie ne dispose que de réacteurs nucléaires de  recherche de faible puissance. Les centrales nuclé aires les \\nplus proches se situent en Espagne (Vandellosà530 k m de l'épicentre). Compte tenu de la distance impor tante des \\ncentrales, aucun effet notable n’est attendu àla su ite du séisme du 21 mai 2003. \\n22 mai 2003 Conclusions \\n•Le séisme du 21 mai 2003, très important, s’est pro duit dans une zone où l’activité sismique était \\nconsidérée comme modérée par rapport à la sismicité d ’autres régions de l’Algérie. Au cours de ce \\nséisme, une faille importante de l’ordre de quelque s dizaines de kilomètres a été activée. Cette faille  \\nn’est pas cartographiée.  \\n•En France métropolitaine, les plus forts séismes re latés depuis mille ans ont une magnitude estimée \\ninférieure à 6,2. Néanmoins, les séismes analogues à celui du 21 mai 2003 pourraient se produire sur \\nquelques failles actives en France (Faille de la Du rance, Faille de Nîmes, Alsace, Pyrénées), la \\nréglementation relative aux installations nucléaire s retient ce type d’événement. \\nLes effets de site probables \\nLes localités de Rouïba et Boumerdès dans lesquelles  d’importants dégâts ont été relevés se situent sur des \\nterrains meubles (formations récentes peu compactée s). Ce type de formation géologique peut être à l’or igine \\nd’amplifications du mouvement du sol lors d’un séis me (effets de site) et par conséquent, en l’état ac tuel des \\ninformations disponibles, pourrait contribuer àexpl iquer l’importance des dégâts dans ces localités. \\nCe type d’effets, déjà identifiés lors de séismes ré cents (Kobé par exemple), est étudié par l’IRSN. Les études \\nmenées notamment en Californie, à Grenoble et dans l e Golfe de Corinthe (Grèce) consistent à instrumente r un \\nsite en profondeur et en surface de manière à compar er les réponses des différentes couches du sol sous  \\nsollicitations sismiques. (voir la fiche sur les re cherches menées par l’IRSN dans le domaine sismique ) \\nLa dernière version de la règle fondamentale de sûr eté relative à la prise en compte du risque sismique pour la \\nsûreté des installations nucléaires comprend des exi gences spécifiques concernant les effets de site.\", start_char_idx=0, end_char_idx=2252, text_template='{metadata_str}\\n\\n{content}', metadata_template='{key}: {value}', metadata_seperator='\\n'), score=0.7265512002914378), NodeWithScore(node=TextNode(id_='b2f0a9b2-3b51-47f1-bf31-25de688b33f5', embedding=None, metadata={'page_label': '3', 'file_name': '/share/data/fiches_seismes/irsn_Seisme-Mexique_012003.pdf'}, excluded_embed_metadata_keys=[], excluded_llm_metadata_keys=[], relationships={<NodeRelationship.SOURCE: '1'>: RelatedNodeInfo(node_id='72d3640b-3cd2-4300-aadd-83e3c99d7f5d', node_type=<ObjectType.DOCUMENT: '4'>, metadata={'page_label': '3', 'file_name': '/share/data/fiches_seismes/irsn_Seisme-Mexique_012003.pdf'}, hash='352b40059584bd3fa902ae9600a0bf09f1451957bc7c594b3947fb2423cfd97a'), <NodeRelationship.PREVIOUS: '2'>: RelatedNodeInfo(node_id='9ba24367-1e2e-4fb6-a760-76a39adce091', node_type=<ObjectType.TEXT: '1'>, metadata={'page_label': '2', 'file_name': '/share/data/fiches_seismes/irsn_Seisme-Mexique_012003.pdf'}, hash='4708e7da3ceb3a3a16bc5b4c9998ff1048768b8bd7465f57c16f69db267a3f21'), <NodeRelationship.NEXT: '3'>: RelatedNodeInfo(node_id='6957ea2d-68ec-4ecf-97a8-66695c8fbd7c', node_type=<ObjectType.TEXT: '1'>, metadata={}, hash='5d3d3ef96eaa12b9e4ca7a31be1308ce1302dceecc0af589283cac655cd0c4cf')}, text='I  N  F  O  R  M  A  T  I  O  N \\n3\\nLes installations nucléaires \\nLe Mexique ne dispose que d’une unique centrale nuc léaire : Laguna Verde (2 réacteurs à eau bouillante de  650 \\nMWe chacun) située à 70 km au Nord-Ouest de Veracruz (côte est). Cette installation se situe à environ 90 0 \\nkilomètres de l’épicentre du séisme du 21 janvier 2 003. Compte tenu de son fort éloignement, l’amplitu de du \\nmouvement sismique ressenti au niveau de la central e a sans doute été très faible, et sans conséquence pour les \\nstructures. \\n22 janvier 2003', start_char_idx=0, end_char_idx=540, text_template='{metadata_str}\\n\\n{content}', metadata_template='{key}: {value}', metadata_seperator='\\n'), score=0.7251109363710192)], metadata={'c2b051b6-f77e-42e9-ada1-0bcd2cec6793': {'page_label': '3', 'file_name': '/share/data/fiches_seismes/irsn_seisme-algerie_052003.pdf'}, 'b2f0a9b2-3b51-47f1-bf31-25de688b33f5': {'page_label': '3', 'file_name': '/share/data/fiches_seismes/irsn_Seisme-Mexique_012003.pdf'}})], 'IRSN_seisme_france-26022012_V2.pdf': [Response(response='\\nThe context information provides details about a seismic event that occurred on February 26, 2012, in the region of Saint-Paul-sur-Ubaye, France. The seismic event was a moderate earthquake with a magnitude of 4.3 to 4.8, according to different sources. The epicenter of the earthquake was located at approximately 44°30\\' North and 06°42\\' East. The depth of the earthquake was estimated to be around 6 kilometers.\\n\\nThe seismic event was felt by the population in the surrounding areas, including the South of France and the Piedmont region in Italy. The intensities of the seismic event were measured by the BCSF (Bureau de contrôle sismique français) and ranged from V (seismic intensity scale) to VI (seismic intensity scale). The seismic event caused no significant damage, but it was widely felt by the population.\\n\\nThe seismic event was associated with a mechanism known as \"en faille normale à composante décrochante\" (normal fault with a sliding component). This type of seismic', source_nodes=[NodeWithScore(node=TextNode(id_='1de730e8-b642-438d-8758-cff3c0e6e3c9', embedding=None, metadata={'page_label': '1', 'file_name': '/share/data/fiches_seismes/IRSN_seisme_france-26022012_V2.pdf'}, excluded_embed_metadata_keys=[], excluded_llm_metadata_keys=[], relationships={<NodeRelationship.SOURCE: '1'>: RelatedNodeInfo(node_id='9f993954-0ae7-402e-bb54-83be4dd08a9f', node_type=<ObjectType.DOCUMENT: '4'>, metadata={'page_label': '1', 'file_name': '/share/data/fiches_seismes/IRSN_seisme_france-26022012_V2.pdf'}, hash='cde9f0176751a65a70cd196c5315e38a003e03bbfc722f20c943e57a84ee46cc'), <NodeRelationship.PREVIOUS: '2'>: RelatedNodeInfo(node_id='8911ed22-0bff-4835-a253-5425cfc53991', node_type=<ObjectType.TEXT: '1'>, metadata={'page_label': '4', 'file_name': '/share/data/fiches_seismes/irsn_seisme_martinique_122007.pdf'}, hash='3d5e795d074cb505ca3279babc1ec7b3927b3bc1c9a95374b5056e041920bb60'), <NodeRelationship.NEXT: '3'>: RelatedNodeInfo(node_id='8727b91b-e4a7-40c7-8773-73062dfdfd29', node_type=<ObjectType.TEXT: '1'>, metadata={}, hash='6401e443ff979f9f9e8c547cfa564a4ea8178ea039af05fba52100cc28a4f1d9')}, text=\"Les faits\\n\\x83Dimanche 26 février 2012, à 23h37 heure locale, un séisme de magnitude modérée, \\ncomprise entre 4,3 et 4,8 selon les instit uts, s’est produit au voisinage de Saint-\\nPaul-sur-Ubaye, à 44°30’ Nord et 06°42’ Est (sismalp.obs.ujf-grenoble.fr ). Sa \\nprofondeur a été estimée à environ 6 km.\\n\\x83La secousse, suite à laquelle aucun dégât notable n’a été rapporté à ce jour, a été\\nlargement ressentie par la population du Su d-Est de la France et dans la région du \\nPiémont en Italie. Les intensités les plus  fortes collectées par le BCSF à ce jour \\n(www.franceseisme.fr ) atteignent V (secousse fort ement ressentie – dégâts très \\nlégers sur bâtiments vulnérables). \\n\\x83De très nombreuses répliques de faible magnitude ont d’ores et déjà été\\nenregistrées, la plus importante ayant eu lieu le 27 février 2012 à 17h31 heure \\nlocale, avec une magnitude de 4. D’après le réseau Sismalp, une légère activité\\nsismique a été enregistrée dans la zone épicentrale quelques jours avant le choc \\nprincipal.\\n\\x83Le séisme du 26 février 2012 est associé à un mécanisme dit « en faille normale à\\ncomposante décrochante » (sources INGV - USGS). Ce type de séisme est \\ncaractéristique de cette zone des Alpes. \\n\\x83La région de Saint-Paul-sur-Ubaye a conn u plusieurs épisodes sismiques dans le \\npassé. Le plus fort qui ait été recensé s’est produit le 5 avril 1959 avec une \\nintensité épicentrale de VII-VIII ( www.sisfrance.net ) et une magnitude évaluée à\\nenviron 5. D’après le réseau Sismalp, cette région est régulièrement le siège \\nd’essaims de séismes (activité sismique soutenue sur une longue durée) tel que celui qui s’est produit en 2003-2004 dans la régi on de Jausiers (Alpes de Hte-Provence).Séisme à Saint-Paul-sur-Ubaye \\n(Alpes de Haute-Provence) \\nDu dimanche 26 février 2012 (22h37 TU)\\nMagnitude = 4,8 (Ml - CEA)I  N  F  O  R  M  A  T  I  O  N\\nLe Bureau \\nd'évaluation des risques \\nsismiques pour \\nla sûreté des installations \\n(BERSSIN) de l’IRSN \\neffectuedes recherches \\net des expertises \\nsur l’aléa sismique en tant que source \\nd’agression externe \\ndes installations à risque\\n1FS 6\\nVersion 2 du 29 février 2012\\nwww.irsn.frCONTACT :\\nIRSN/BERSSIN\\nHervé Jomard\\n01 58 35 73 78\\nHerve.jomard@irsn.fr\\nFigure 1 : Localisation du séisme du 26 février 2012 (rond rouge – Sismalp). Les principaux \\nséismes historiques de la région sont représentés selon leur intensité à l’épicentre \\n(SisFrance 2009 – BRGM/EDF/IRSN). L’intensité décrit les effets sur les objets, les bâtiments \\net les personnes. 29 février 2012\", start_char_idx=0, end_char_idx=2500, text_template='{metadata_str}\\n\\n{content}', metadata_template='{key}: {value}', metadata_seperator='\\n'), score=0.8399299545503142), NodeWithScore(node=TextNode(id_='8727b91b-e4a7-40c7-8773-73062dfdfd29', embedding=None, metadata={'page_label': '2', 'file_name': '/share/data/fiches_seismes/IRSN_seisme_france-26022012_V2.pdf'}, excluded_embed_metadata_keys=[], excluded_llm_metadata_keys=[], relationships={<NodeRelationship.SOURCE: '1'>: RelatedNodeInfo(node_id='6faed1d1-a454-48e5-a971-f72257324425', node_type=<ObjectType.DOCUMENT: '4'>, metadata={'page_label': '2', 'file_name': '/share/data/fiches_seismes/IRSN_seisme_france-26022012_V2.pdf'}, hash='8185ea71136c798f34fe5f503f07f929d9a3aecf90c084881970e76f82d9cab4'), <NodeRelationship.PREVIOUS: '2'>: RelatedNodeInfo(node_id='1de730e8-b642-438d-8758-cff3c0e6e3c9', node_type=<ObjectType.TEXT: '1'>, metadata={'page_label': '1', 'file_name': '/share/data/fiches_seismes/IRSN_seisme_france-26022012_V2.pdf'}, hash='0f0c73b1e1430abe47f11293de280d980f0a5800dbb931b6bb3373de40e67067'), <NodeRelationship.NEXT: '3'>: RelatedNodeInfo(node_id='c815e746-c4bc-4484-ab6a-a57b95be4097', node_type=<ObjectType.TEXT: '1'>, metadata={}, hash='116a4b25940f274cafa956e64d0c3abaf766ef94c9820d53562fce66de6f7a48')}, text='I  N  F  O  R  M  A  T  I  O  N\\n2\\n 29 février 2012Sismicité historique et actuelle dans la vallée de l’Ubaye\\nLe séisme du 26 février 2012 s’est produit dans une des zones les plus actives des Alpes. De nombreux séismes \\nhistoriques y sont recensés (Figure 1). Parmi eux, le séisme du 5 avril 1959 est celui qui a occasionné la plus forte \\nintensité à l’épicentre (VII-VIII), provoquant de nombreux dégâts et blessant plusieurs personnes. Bien que la \\nmagnitude du séisme du 26 février 2012 (4,3<M<4,8) soit un peu plus faible que celle du séisme historique de 1959 (M ~ 5,0 +/- 0,5), ces deux séismes ont été très largement ressentis à grande distance (au-delà de 150 km - Figure 2). Les données d’intensité qui seront collectées suite à ce séisme sont précieuses car elles pourront permettre de \\nconforter les modèles de prédiction reliant intensité, magnit ude et distance sur lesquels s’appuient les études visant \\nà évaluer les caractéristiques des séismes anciens pour lesquels des enregistrements instrumentaux n’existent pas. \\nFigure 2 : \\nCi-dessus: répartition sp atiale des aires d’égale \\nintensité (isoséistes) pour le séisme du 05 avril 1959 \\n(d’après Sisfrance – BRGM/EDF/IRSN). \\nA droite : intensités issues des témoignages recueillis \\nsur internet (extrait du site  du BCSF le 27 février 2012 \\nà 15h30).\\nLa vallée de l’Ubaye a également été le siège d’un important essaim de sismicité durant les années 2003-2004. \\nPendant cette période, plus de 16 000 micros-séismes n’ayant pas dépassé la magnitude de M=2,7 ont pu être \\nenregistrés et étudiés. L’étude de la répartition spatiale de cet essaim a permis de mettre en évidence l’existence \\nd’une faille de 9 km de long, inconnue auparavant (Jena tton et al., 2007 - Figure 3) et dont le fonctionnement est \\nextensif/décrochant (transtensif). Cette structure, non reconnue à la surface, aurait un comportement semblable à\\ncelui attribué au système de failles de Serennes, reconnu su r le terrain quelques kilomètres plus à l’Est par les \\ngéologues (Sue et al., 2007). \\nLa localisation du séisme du 26 février 2012 est située approximativement dans le prolongement de l’essaim sismique de 2003-2004 (Figure 3). De plus, les premières déterminations du mouvement sur la faille (mécanisme au foyer) semblent compatibles avec les \\nmouvements déterminés lors de cette crise sismique. A \\nce stade, il n’est toutefois pas possible de déterminer \\nsi le séisme du 26 février 2012 s’est produit sur le même système de failles, l’analyse des répliques pourra apporter un écla irage complémentaire.\\nFigure 3 : Répartition spatiale et mécanismes au foyer des \\nséismes enregistrés lors de l’essaim de 2003-2004 (d’après \\nJenatton et al., 2007). Il est à noter que la localisation du \\nséisme du 26 février 2012 (point rouge) se situe dans le \\nprolongement de la faille mise en évidence par Jenatton et \\nal. (2007), avec un mécanisme au foyer compatible \\n(donnée INGV).', start_char_idx=0, end_char_idx=2916, text_template='{metadata_str}\\n\\n{content}', metadata_template='{key}: {value}', metadata_seperator='\\n'), score=0.783816324925181)], metadata={'1de730e8-b642-438d-8758-cff3c0e6e3c9': {'page_label': '1', 'file_name': '/share/data/fiches_seismes/IRSN_seisme_france-26022012_V2.pdf'}, '8727b91b-e4a7-40c7-8773-73062dfdfd29': {'page_label': '2', 'file_name': '/share/data/fiches_seismes/IRSN_seisme_france-26022012_V2.pdf'}}), Response(response=\"\\nThe sismicité historique and current in the valley of the Ubaye is linked to the earthquake of February 26, 2012 in several ways. First, the earthquake occurred in an area that has a history of seismic activity, with many historical earthquakes recorded in the region (Figure 1). Second, the earthquake of February 26, 2012 was one of the most powerful earthquakes to occur in the region, with a magnitude of 4.3<M<4.8 (M ~ 5.0 +/- 0.5). Despite its relatively low magnitude, the earthquake was felt at great distances, with intensities reported as high as V (secousse fortement ressentie - dégâts très légers sur bâtiments vulnérables) in some areas (Figure 2).\\n\\nThe sismic activity in the region is also linked to the earthquake of February 26, 2012 through the study of the seismic waves generated by the earthquake. These waves can provide valuable information about the structure of the Earth's crust and the movement of tectonic plates\", source_nodes=[NodeWithScore(node=TextNode(id_='8727b91b-e4a7-40c7-8773-73062dfdfd29', embedding=None, metadata={'page_label': '2', 'file_name': '/share/data/fiches_seismes/IRSN_seisme_france-26022012_V2.pdf'}, excluded_embed_metadata_keys=[], excluded_llm_metadata_keys=[], relationships={<NodeRelationship.SOURCE: '1'>: RelatedNodeInfo(node_id='6faed1d1-a454-48e5-a971-f72257324425', node_type=<ObjectType.DOCUMENT: '4'>, metadata={'page_label': '2', 'file_name': '/share/data/fiches_seismes/IRSN_seisme_france-26022012_V2.pdf'}, hash='8185ea71136c798f34fe5f503f07f929d9a3aecf90c084881970e76f82d9cab4'), <NodeRelationship.PREVIOUS: '2'>: RelatedNodeInfo(node_id='1de730e8-b642-438d-8758-cff3c0e6e3c9', node_type=<ObjectType.TEXT: '1'>, metadata={'page_label': '1', 'file_name': '/share/data/fiches_seismes/IRSN_seisme_france-26022012_V2.pdf'}, hash='0f0c73b1e1430abe47f11293de280d980f0a5800dbb931b6bb3373de40e67067'), <NodeRelationship.NEXT: '3'>: RelatedNodeInfo(node_id='c815e746-c4bc-4484-ab6a-a57b95be4097', node_type=<ObjectType.TEXT: '1'>, metadata={}, hash='116a4b25940f274cafa956e64d0c3abaf766ef94c9820d53562fce66de6f7a48')}, text='I  N  F  O  R  M  A  T  I  O  N\\n2\\n 29 février 2012Sismicité historique et actuelle dans la vallée de l’Ubaye\\nLe séisme du 26 février 2012 s’est produit dans une des zones les plus actives des Alpes. De nombreux séismes \\nhistoriques y sont recensés (Figure 1). Parmi eux, le séisme du 5 avril 1959 est celui qui a occasionné la plus forte \\nintensité à l’épicentre (VII-VIII), provoquant de nombreux dégâts et blessant plusieurs personnes. Bien que la \\nmagnitude du séisme du 26 février 2012 (4,3<M<4,8) soit un peu plus faible que celle du séisme historique de 1959 (M ~ 5,0 +/- 0,5), ces deux séismes ont été très largement ressentis à grande distance (au-delà de 150 km - Figure 2). Les données d’intensité qui seront collectées suite à ce séisme sont précieuses car elles pourront permettre de \\nconforter les modèles de prédiction reliant intensité, magnit ude et distance sur lesquels s’appuient les études visant \\nà évaluer les caractéristiques des séismes anciens pour lesquels des enregistrements instrumentaux n’existent pas. \\nFigure 2 : \\nCi-dessus: répartition sp atiale des aires d’égale \\nintensité (isoséistes) pour le séisme du 05 avril 1959 \\n(d’après Sisfrance – BRGM/EDF/IRSN). \\nA droite : intensités issues des témoignages recueillis \\nsur internet (extrait du site  du BCSF le 27 février 2012 \\nà 15h30).\\nLa vallée de l’Ubaye a également été le siège d’un important essaim de sismicité durant les années 2003-2004. \\nPendant cette période, plus de 16 000 micros-séismes n’ayant pas dépassé la magnitude de M=2,7 ont pu être \\nenregistrés et étudiés. L’étude de la répartition spatiale de cet essaim a permis de mettre en évidence l’existence \\nd’une faille de 9 km de long, inconnue auparavant (Jena tton et al., 2007 - Figure 3) et dont le fonctionnement est \\nextensif/décrochant (transtensif). Cette structure, non reconnue à la surface, aurait un comportement semblable à\\ncelui attribué au système de failles de Serennes, reconnu su r le terrain quelques kilomètres plus à l’Est par les \\ngéologues (Sue et al., 2007). \\nLa localisation du séisme du 26 février 2012 est située approximativement dans le prolongement de l’essaim sismique de 2003-2004 (Figure 3). De plus, les premières déterminations du mouvement sur la faille (mécanisme au foyer) semblent compatibles avec les \\nmouvements déterminés lors de cette crise sismique. A \\nce stade, il n’est toutefois pas possible de déterminer \\nsi le séisme du 26 février 2012 s’est produit sur le même système de failles, l’analyse des répliques pourra apporter un écla irage complémentaire.\\nFigure 3 : Répartition spatiale et mécanismes au foyer des \\nséismes enregistrés lors de l’essaim de 2003-2004 (d’après \\nJenatton et al., 2007). Il est à noter que la localisation du \\nséisme du 26 février 2012 (point rouge) se situe dans le \\nprolongement de la faille mise en évidence par Jenatton et \\nal. (2007), avec un mécanisme au foyer compatible \\n(donnée INGV).', start_char_idx=0, end_char_idx=2916, text_template='{metadata_str}\\n\\n{content}', metadata_template='{key}: {value}', metadata_seperator='\\n'), score=0.8246018890030927), NodeWithScore(node=TextNode(id_='1de730e8-b642-438d-8758-cff3c0e6e3c9', embedding=None, metadata={'page_label': '1', 'file_name': '/share/data/fiches_seismes/IRSN_seisme_france-26022012_V2.pdf'}, excluded_embed_metadata_keys=[], excluded_llm_metadata_keys=[], relationships={<NodeRelationship.SOURCE: '1'>: RelatedNodeInfo(node_id='9f993954-0ae7-402e-bb54-83be4dd08a9f', node_type=<ObjectType.DOCUMENT: '4'>, metadata={'page_label': '1', 'file_name': '/share/data/fiches_seismes/IRSN_seisme_france-26022012_V2.pdf'}, hash='cde9f0176751a65a70cd196c5315e38a003e03bbfc722f20c943e57a84ee46cc'), <NodeRelationship.PREVIOUS: '2'>: RelatedNodeInfo(node_id='8911ed22-0bff-4835-a253-5425cfc53991', node_type=<ObjectType.TEXT: '1'>, metadata={'page_label': '4', 'file_name': '/share/data/fiches_seismes/irsn_seisme_martinique_122007.pdf'}, hash='3d5e795d074cb505ca3279babc1ec7b3927b3bc1c9a95374b5056e041920bb60'), <NodeRelationship.NEXT: '3'>: RelatedNodeInfo(node_id='8727b91b-e4a7-40c7-8773-73062dfdfd29', node_type=<ObjectType.TEXT: '1'>, metadata={}, hash='6401e443ff979f9f9e8c547cfa564a4ea8178ea039af05fba52100cc28a4f1d9')}, text=\"Les faits\\n\\x83Dimanche 26 février 2012, à 23h37 heure locale, un séisme de magnitude modérée, \\ncomprise entre 4,3 et 4,8 selon les instit uts, s’est produit au voisinage de Saint-\\nPaul-sur-Ubaye, à 44°30’ Nord et 06°42’ Est (sismalp.obs.ujf-grenoble.fr ). Sa \\nprofondeur a été estimée à environ 6 km.\\n\\x83La secousse, suite à laquelle aucun dégât notable n’a été rapporté à ce jour, a été\\nlargement ressentie par la population du Su d-Est de la France et dans la région du \\nPiémont en Italie. Les intensités les plus  fortes collectées par le BCSF à ce jour \\n(www.franceseisme.fr ) atteignent V (secousse fort ement ressentie – dégâts très \\nlégers sur bâtiments vulnérables). \\n\\x83De très nombreuses répliques de faible magnitude ont d’ores et déjà été\\nenregistrées, la plus importante ayant eu lieu le 27 février 2012 à 17h31 heure \\nlocale, avec une magnitude de 4. D’après le réseau Sismalp, une légère activité\\nsismique a été enregistrée dans la zone épicentrale quelques jours avant le choc \\nprincipal.\\n\\x83Le séisme du 26 février 2012 est associé à un mécanisme dit « en faille normale à\\ncomposante décrochante » (sources INGV - USGS). Ce type de séisme est \\ncaractéristique de cette zone des Alpes. \\n\\x83La région de Saint-Paul-sur-Ubaye a conn u plusieurs épisodes sismiques dans le \\npassé. Le plus fort qui ait été recensé s’est produit le 5 avril 1959 avec une \\nintensité épicentrale de VII-VIII ( www.sisfrance.net ) et une magnitude évaluée à\\nenviron 5. D’après le réseau Sismalp, cette région est régulièrement le siège \\nd’essaims de séismes (activité sismique soutenue sur une longue durée) tel que celui qui s’est produit en 2003-2004 dans la régi on de Jausiers (Alpes de Hte-Provence).Séisme à Saint-Paul-sur-Ubaye \\n(Alpes de Haute-Provence) \\nDu dimanche 26 février 2012 (22h37 TU)\\nMagnitude = 4,8 (Ml - CEA)I  N  F  O  R  M  A  T  I  O  N\\nLe Bureau \\nd'évaluation des risques \\nsismiques pour \\nla sûreté des installations \\n(BERSSIN) de l’IRSN \\neffectuedes recherches \\net des expertises \\nsur l’aléa sismique en tant que source \\nd’agression externe \\ndes installations à risque\\n1FS 6\\nVersion 2 du 29 février 2012\\nwww.irsn.frCONTACT :\\nIRSN/BERSSIN\\nHervé Jomard\\n01 58 35 73 78\\nHerve.jomard@irsn.fr\\nFigure 1 : Localisation du séisme du 26 février 2012 (rond rouge – Sismalp). Les principaux \\nséismes historiques de la région sont représentés selon leur intensité à l’épicentre \\n(SisFrance 2009 – BRGM/EDF/IRSN). L’intensité décrit les effets sur les objets, les bâtiments \\net les personnes. 29 février 2012\", start_char_idx=0, end_char_idx=2500, text_template='{metadata_str}\\n\\n{content}', metadata_template='{key}: {value}', metadata_seperator='\\n'), score=0.8195052456221842)], metadata={'8727b91b-e4a7-40c7-8773-73062dfdfd29': {'page_label': '2', 'file_name': '/share/data/fiches_seismes/IRSN_seisme_france-26022012_V2.pdf'}, '1de730e8-b642-438d-8758-cff3c0e6e3c9': {'page_label': '1', 'file_name': '/share/data/fiches_seismes/IRSN_seisme_france-26022012_V2.pdf'}})], 'IRSN_seisme_Italie-20052012.pdf': [Response(response='\\nThe context information indicates that the region where the 2012 Emilia-Romagna earthquake occurred is located in a zone of level 3 (low seismic activity) on the Italian seismic activity map. This map shows the seismic activity at the commune level on a scale of 1 (high) to 4 (low). The epicenter of the earthquake is located in an area where it is estimated that an acceleration of 0.15 g can be exceeded with a probability of 10% in 50 years. There are no instruments present near the epicenter, so there is no directly available measurement of this acceleration. According to the models of the INGV, based in part on internet testimonies (Figure 7) and the observed accelerations at distant stations, the maximum accelerations that could be reached in the epicentral area could be up to 0.3 g (the values of intensities have reached locally the degree VIII on the Mercalli scale - Figure 7). According to these same models, the estimated radius of the zone of significant damage (intensities greater than VI) is around 20 km.', source_nodes=[NodeWithScore(node=TextNode(id_='04343c36-175c-4386-b07b-bc0e1f40fdbb', embedding=None, metadata={'page_label': '1', 'file_name': '/share/data/fiches_seismes/IRSN_seisme_Italie-20052012.pdf'}, excluded_embed_metadata_keys=[], excluded_llm_metadata_keys=[], relationships={<NodeRelationship.SOURCE: '1'>: RelatedNodeInfo(node_id='c01d069f-c403-4248-9930-204720c8a4b1', node_type=<ObjectType.DOCUMENT: '4'>, metadata={'page_label': '1', 'file_name': '/share/data/fiches_seismes/IRSN_seisme_Italie-20052012.pdf'}, hash='9ba1b0b76e1fab9c28e8dbb90cc4044250476b03c1fd06d3421a79edf7d7b276'), <NodeRelationship.PREVIOUS: '2'>: RelatedNodeInfo(node_id='cf8617f2-9341-4244-9948-e7a9f215bb6b', node_type=<ObjectType.TEXT: '1'>, metadata={'page_label': '7', 'file_name': '/share/data/fiches_seismes/Note-Information-Seisme-Teil-14112019.pdf'}, hash='66ada248a7c1c384c1cb0e83be69ce0850a269ae732bb73ea6ef59ec4ea2142d'), <NodeRelationship.NEXT: '3'>: RelatedNodeInfo(node_id='6a14857b-c601-4510-816e-482800e11433', node_type=<ObjectType.TEXT: '1'>, metadata={}, hash='826517686fb7c2e7793d44ee135affa07b85126c322406c66a5e65122e969420')}, text=\"Rappel des faits  \\n\\uf0a7Dimanche  20 mai 2012 , à 2h03 TU (4h03 heure  locale),  un séisme  de magnitude  \\nimportante  (MW 6,1) s’est produit  à faible  profondeur  (environ  6 km) dans la \\nrégion  de la basse  plaine  du Pô (Figure  1), à 36 km au nord de Bologne . Son \\népicentre  est situé  à une latitude  de 44,89° Nord,  et à une longitude  de 11,23° \\nEst. Les communes  les plus touchées  sont Finale  Emilia  (Modena),  Ferrara,  \\nRovigo  et Mantova . A ce jour,  deux  répliques  de magnitude  supérieure  à 5 ont \\nété enregistrées  (Instituto  Nazionale  di Geofisica  e Vulcanologia  – INGV) .  \\n \\n\\uf0a7Un bilan provisoire  fait état d’une  cinquantaine  de blessés  et 7 décès,  dont 4 \\nprovoqués  par l’écroulement  d’un bâtiment  industriel . De nombreux  bâtiments  \\nhistoriques  ont été fortement  endommagés  ; c’est le cas du Château  Estense,  \\nsymbole  de la ville de Ferrara,  dont la tour s’est partiellement  écroulée .  \\n \\n\\uf0a7L’événement  sismique  a été très largement  ressenti  par la population  dans un rayon  \\nde plus de 200 km. Les répliques  s’étendent  sur une vaste  zone de plus de 40 km \\nentre  Ferrara  et Mantova,  ce qui suggère  une rupture  complexe,  impliquant  \\nplusieurs  failles . \\n \\n\\uf0a7Le séisme  s’est produit  dans une région  marquée  par une sismicité  instrumentale  et \\nhistorique  jusque  là faible,  aucun  évènement  de magnitude  élevée  n’ayant  ainsi été \\nprécédemment  enregistré  dans un rayon  de 20 km autour  de l’épicentre  de séisme  \\ndu 20 mai (Figure  1). \\n Séisme de l’Emilia -Romagna  \\n(Italie du Nord)  \\n \\ndu dimanche 20 mai 2012  \\nMagnitude = 6,1 à 2h03 (TU)    I  N  F  O  R  M  A  T  I  O  N  \\nLe Bureau \\nd'évaluation  \\ndes risques \\nsismiques pour  \\nla sûreté des \\ninstallations \\n(BERSSIN) de l’IRSN \\neffectue  \\ndes recherches  \\net des expertises \\nsur l’aléa sismique \\nen tant que source \\nd’agression externe \\ndes installations  \\nà risque  \\n1 FS 6  \\nFigure 1: Localisation de l’épicentre du séisme de l’Emilia -Romagna par rapport à \\nla sismicité historique connue  (Catalogo Parametrico Terremoti Italiani - CPTI).  Version 2 du 22 Mai 2012  \\n22 Mai 2012  www.irsn.org  CONTACT :  \\n \\nIRSN/BERSSIN  \\nOona Scotti  \\n01 58 35 86 47  \\noona.scotti@irsn.fr  \\nFerrara  \\n1570  1345  \\nBologna  Mantova\", start_char_idx=0, end_char_idx=2254, text_template='{metadata_str}\\n\\n{content}', metadata_template='{key}: {value}', metadata_seperator='\\n'), score=0.8125841744210284), NodeWithScore(node=TextNode(id_='58d08b53-b922-4ca5-9436-d4b93bd1e033', embedding=None, metadata={'page_label': '4', 'file_name': '/share/data/fiches_seismes/IRSN_seisme_Italie-20052012.pdf'}, excluded_embed_metadata_keys=[], excluded_llm_metadata_keys=[], relationships={<NodeRelationship.SOURCE: '1'>: RelatedNodeInfo(node_id='8355e9ea-a054-4224-9765-8fc95ef91062', node_type=<ObjectType.DOCUMENT: '4'>, metadata={'page_label': '4', 'file_name': '/share/data/fiches_seismes/IRSN_seisme_Italie-20052012.pdf'}, hash='5dfc05a5907d41bb9304fc2a175461bad62c69c208e8b5f1e53c1f796fd092d3'), <NodeRelationship.PREVIOUS: '2'>: RelatedNodeInfo(node_id='5d9bf5c7-6312-4b35-b7bd-5c2ef235b21a', node_type=<ObjectType.TEXT: '1'>, metadata={'page_label': '3', 'file_name': '/share/data/fiches_seismes/IRSN_seisme_Italie-20052012.pdf'}, hash='e7b54e832029ef7de473d18d6d6e5821c8f87b39740055a87485bcd6c1650b50'), <NodeRelationship.NEXT: '3'>: RelatedNodeInfo(node_id='dd222f12-abd1-4879-867a-93a2c9e6db0f', node_type=<ObjectType.TEXT: '1'>, metadata={}, hash='54b3064b3625f13fd84b1f8c85f50e64d18b1c023631cfed105f3675d34fe879')}, text='La région  où s’est produit  le séisme  du 20 mai 2012 se trouve  dans une zone de niveau  3 (niveau  d’aléa  sismique  dit \\n« faible  » – Figure  6) de la carte  de l’aléa  sismique  italien . Cette  carte  représente  l’aléa  sismique  établi  commune  \\npar commune,  sur une échelle  de 1 (élevé)  à 4 (minime) . L’épicentre  est localisé  dans une zone où l’on estime  qu’une  \\naccélération  du sol de 0,15 g peut être dépassée  avec une probabilité  de 10% en 50 ans. Aucun  instrument  n’étant  \\nprésent  à proximité  de l’épicentre,  il n’existe  pas de mesure  directement  disponible  de cette  accélération . D’après  \\nles modélisations  de l’INGV,  basées  en partie  sur les témoignages  internet  (Figure  7) et les accélérations  observées  \\naux stations  lointaines,  les accélérations  maximales  atteintes  dans la zone épicentrale  pourraient  être de 0,3 g (les \\nvaleurs  d’intensités  ont atteint  localement  le degré  VIII sur l’échelle  des dommages  MCS – Figure  7). Selon  ces mêmes  \\nmodélisations,  le rayon  estimé  de la zone de dommages  significatifs  (intensité  > VI) est de l’ordre  de 20 km. \\n Aléa sismique et estimation du mouvement sismique en basse plaine \\ndu Pô  \\nLes enseignements  \\n\\uf0a7Le séisme  du 20 mai 2012 , dont l’épicentre  est localisé  entre  Ferrara,  Mantova  et Modena,  a été \\nfortement  ressenti  dans un rayon  de plus de 200 km. Le bilan,  encore  provisoire,  fait état de plusieurs  \\nvictimes  et d’importants  dégâts  matériels . A ce jour,  les dommages  les plus importants  semblent  avoir  \\naffecté  le patrimoine  artistique  et historique  de la région  mais aussi  des installations  industrielles  du \\nsecteur  agroalimentaire .  \\n\\uf0a7Le séisme  du 20 mai 2012  est intervenu  dans une région  classée  parmi  les zones  à sismicité  dite \\n« faible  » d’Italie .  \\n\\uf0a7Aucun  site nucléaire  n’est  situé  dans la région  dans laquelle  des effets  significatifs  ont été enregistrés . I  N  F  O  R  M  A  T  I  O  N  \\n4 Impact sur les installations nucléaires  \\nPlusieurs  réacteurs  électronucléaires  et installations  de fabrication  de combustibles  ont été exploités  en Italie . Tous \\nsont aujourd’hui  arrêtés  et en cours  de démantèlement . A ces sites,  s’ajoutent  les sites d’entreposage  de \\ncombustibles  usés ainsi que certains  réacteurs  et laboratoires  de recherche  encore  en fonctionnement .  \\nL’installation  la plus proche  du séisme  de l’Emilia -Romagna  est l’établissement  de recherche  de Montecuccolino,  \\nsitué à Bologna,  zone dans laquelle  aucun  effet significatif  n’a été répertorié  (intensité  macrosismique  inférieure  à \\nVI). \\n22 Mai 2012  Figure 6: Localisation de l’épicentre du \\nséisme de l’Emilia -Romagna par rapport \\nau dernier zonage sismique.', start_char_idx=0, end_char_idx=2757, text_template='{metadata_str}\\n\\n{content}', metadata_template='{key}: {value}', metadata_seperator='\\n'), score=0.7973102260695575)], metadata={'04343c36-175c-4386-b07b-bc0e1f40fdbb': {'page_label': '1', 'file_name': '/share/data/fiches_seismes/IRSN_seisme_Italie-20052012.pdf'}, '58d08b53-b922-4ca5-9436-d4b93bd1e033': {'page_label': '4', 'file_name': '/share/data/fiches_seismes/IRSN_seisme_Italie-20052012.pdf'}}), Response(response='\\nThe context information does not provide an explicit answer to the query about the estimation of the alea sismique and the mouvement sismique in the basse plaine du Pô. However, it does mention that the alea sismique is regularly evaluated for the center of Cadarache, which is located in the basse plaine du Pô. The evaluation takes into account the occurrence of seismes analogues to the strongest and most localized seismes historiques for the installations in question. The seismes considered for this evaluation are the Manosque earthquake of 14/08/1708 and the Lambesc earthquake of 11/06/1909. The Manosque earthquake was a moderate earthquake (of the order of 5) and superficial (less than 5 km deep) that caused significant damage in the cities of Manosque and Pierrevert. The Lambesc earthquake was a strong earthquake (estimated to be around 6) and deep (around 5 km) that caused significant damage in the region. The sollicitation sismique retenue for these types of earthquakes is that which would', source_nodes=[NodeWithScore(node=TextNode(id_='34670cf4-d2e8-46e3-ba0c-0c41c742e9a2', embedding=None, metadata={'page_label': '5', 'file_name': '/share/data/fiches_seismes/Note-Information-Seisme-Teil-14112019.pdf'}, excluded_embed_metadata_keys=[], excluded_llm_metadata_keys=[], relationships={<NodeRelationship.SOURCE: '1'>: RelatedNodeInfo(node_id='33d1b94f-bfbf-4ec8-b4e4-799b6d0717bf', node_type=<ObjectType.DOCUMENT: '4'>, metadata={'page_label': '5', 'file_name': '/share/data/fiches_seismes/Note-Information-Seisme-Teil-14112019.pdf'}, hash='b55ef44e345ccd378b6dfb63415780049deb825e961369e24b11d4b0a199c20d'), <NodeRelationship.PREVIOUS: '2'>: RelatedNodeInfo(node_id='4039a30e-e751-4b3a-b3eb-b41412d8bb06', node_type=<ObjectType.TEXT: '1'>, metadata={'page_label': '5', 'file_name': '/share/data/fiches_seismes/Note-Information-Seisme-Teil-14112019.pdf'}, hash='52add008133dcb93b46b0ffede305b2f9443dbc1610cbccd1135a303cb76b167'), <NodeRelationship.NEXT: '3'>: RelatedNodeInfo(node_id='bd514e88-4bf9-42d3-9fd0-6a69d243e9dc', node_type=<ObjectType.TEXT: '1'>, metadata={}, hash='8be603ee8a257688a1ef2999d0605e47c24ed57afa752ed4f4d50b660c2ac788')}, text='La sollicitat ion sismique retenue (Séisme Maximum Historiquement Vraisemblable - \\nSMHV) est alors définie en supposant que les séismes identifiés peuvent se produire en n’importe quel point \\nde la zone sismotectonique à laquelle ils appartiennent. La RFS demande que, dan s la zone sismotectonique \\ndu site, le SMHV soit supposé se produire à l’aplomb du site. Le Séisme Majoré de Sécurité (SMS) est obtenu en \\naugmentant la magnitude des o ndes de surface (Ms) du SMHV de 0,5. De plus, la réglementation demande la \\nprise en compte  des indices de séismes plus anciens (paléoséismes).  \\n \\nL’aléa sismique défini selon cette démarche pour le troisième réexamen de sûreté des centrales nucléaires de \\nCruas et du Tricastin se fonde sur le séisme du 8 août 1873 pour définir un SMHV de magnitude  Ms de  4,7 à 4 \\nkm. Ceci conduit in fine à un SMS de  magnitude  Ms de 5,2 à 4 km de profondeur. EDF retient également le \\npaléoséisme de Courthézon comme un séisme de référence (magnitude 6,5 et distance épicentrale de 50 km \\npour Cruas et de 27 km pour Tricas tin).', start_char_idx=2735, end_char_idx=3798, text_template='{metadata_str}\\n\\n{content}', metadata_template='{key}: {value}', metadata_seperator='\\n'), score=0.7214484504301205), NodeWithScore(node=TextNode(id_='357f43d8-b964-4f8e-837f-3a29bbbaf457', embedding=None, metadata={'page_label': '3', 'file_name': '/share/data/fiches_seismes/IRSN-Seisme-Manosque-19092012.pdf'}, excluded_embed_metadata_keys=[], excluded_llm_metadata_keys=[], relationships={<NodeRelationship.SOURCE: '1'>: RelatedNodeInfo(node_id='1344d363-4056-4034-a21c-9f616f08c51c', node_type=<ObjectType.DOCUMENT: '4'>, metadata={'page_label': '3', 'file_name': '/share/data/fiches_seismes/IRSN-Seisme-Manosque-19092012.pdf'}, hash='94ab336528441fc1ce08a217715ab77e0253500f5a35b2e2e1e8a6bc54481198'), <NodeRelationship.PREVIOUS: '2'>: RelatedNodeInfo(node_id='56435642-d2b3-435f-9a8a-bba42c55a445', node_type=<ObjectType.TEXT: '1'>, metadata={'page_label': '3', 'file_name': '/share/data/fiches_seismes/IRSN-Seisme-Manosque-19092012.pdf'}, hash='456bf3999e550541f10ef16a55270ebdb3ad59ab7c8d34af4820a97417cf728f'), <NodeRelationship.NEXT: '3'>: RelatedNodeInfo(node_id='f9b73c8e-7452-4919-b0c5-15342e51edd5', node_type=<ObjectType.TEXT: '1'>, metadata={}, hash='a73c251322399a22ad08c1fa0259df7aa925fe1b6010824c74018a472df2653b')}, text='L’aléa  sismique  sur le centre  de Cadarache  est régulièrement  évalué,  notamment  dans le cadre  des \\nréexamens  des dossiers  de sûreté  des installations  nucléaires,  afin de tenir compte  des connaissances  \\ngéologiques  et sismologiques  les plus récentes . \\n \\nLa réglementation  sismique  pour les installations  nucléaires  demande  de considérer  dans ces \\névaluations  la survenue  de séismes  analogues  aux séismes  historiques  les plus forts et localisés  de \\nmanière  pénalisante  pour les installations  visées . Ainsi,  dans cette  démarche,  les évènements  pris en \\ncompte  pour définir  l’aléa  sismique  sur le centre  de Cadarache  sont : \\n1- Le séisme  de Manosque  (14/08/1708) : situé sur la faille  de la Moyenne -Durance,  c’est un \\névénement  de magnitude  modérée  (de l’ordre  de 5) et superficiel  (moins  de 5 km de profondeur)  \\nqui a causé  des dommages  importants  dans les villes  de Manosque  et Pierrevert  (intensité  VIII : \\n« dégâts  importants  à massifs  sur des constructions  vulnérables  » - www.sisfrance .net). La \\nsollicitation  sismique  retenue  pour ce type de séisme  est celle qui serait  générée  par un \\névènement  le long de la FMD à quelques  kilomètres  du site de Cadarache . \\n2- Le séisme  de Lambesc  (11/06/1909) : situé sur la faille  est-ouest  de la Trévaresse , sa \\nmagnitude  est estimée  à environ  6 (Baroux  et al., 2003) et sa profondeur  de l’ordre  de 5 km. Pour \\névaluer  la sollicitation  sismique,  ce type d’événement  est supposé  se produire  sur des failles  \\nsimilaires  à celle de la Trévaresse , comme  celle du Luberon  située  à une dizaine  de kilomètres  du \\nsite.  \\n21 septembre 2012', start_char_idx=1884, end_char_idx=3560, text_template='{metadata_str}\\n\\n{content}', metadata_template='{key}: {value}', metadata_seperator='\\n'), score=0.7194607633061035)], metadata={'34670cf4-d2e8-46e3-ba0c-0c41c742e9a2': {'page_label': '5', 'file_name': '/share/data/fiches_seismes/Note-Information-Seisme-Teil-14112019.pdf'}, '357f43d8-b964-4f8e-837f-3a29bbbaf457': {'page_label': '3', 'file_name': '/share/data/fiches_seismes/IRSN-Seisme-Manosque-19092012.pdf'}})], 'IRSN_Seisme_Lorca-Espagne_18052011.pdf': [Response(response='\\nThe query is asking for details about the earthquake that occurred in Lorca, Spain on May 11, 2011. The earthquake had a magnitude of 5.1 on the Richter scale and occurred at a depth of 2 kilometers. The epicenter of the earthquake was located at 37.68° latitude and 1.68° longitude. The earthquake caused significant damage to buildings in the medieval cities of Lorca and Totana, with an estimated 9,000 people being evacuated from Lorca, which has a population of 92,700. The estimated preliminary intensity of the earthquake in the epicentral area was VII on the EMS98 scale. The earthquake was preceded by a smaller earthquake of magnitude 4.4 that occurred at 17h05 (15h05 GMT). The earthquake was caused by a segment of the Alhama de Murcia fault system, which is located 170 kilometers north of the epicenter. The nearest nuclear power plant, Cofrentes, is located 170 kilometers north of the epicenter. Despite the', source_nodes=[NodeWithScore(node=TextNode(id_='40809cd7-a6ea-45c9-a225-7edb478c10e6', embedding=None, metadata={'page_label': '1', 'file_name': '/share/data/fiches_seismes/IRSN_Seisme_Lorca-Espagne_18052011.pdf'}, excluded_embed_metadata_keys=[], excluded_llm_metadata_keys=[], relationships={<NodeRelationship.SOURCE: '1'>: RelatedNodeInfo(node_id='01f7f46e-91fe-4a1d-96cc-5531b07acb4a', node_type=<ObjectType.DOCUMENT: '4'>, metadata={'page_label': '1', 'file_name': '/share/data/fiches_seismes/IRSN_Seisme_Lorca-Espagne_18052011.pdf'}, hash='324e9b56361b12490b55139901eb7c3535d87de05d06dd9b112db52621cdf9cc'), <NodeRelationship.PREVIOUS: '2'>: RelatedNodeInfo(node_id='7d43d53a-8da7-46ca-8328-73adffc14e8f', node_type=<ObjectType.TEXT: '1'>, metadata={'page_label': '6', 'file_name': '/share/data/fiches_seismes/IRSN_seisme-Japon_V2-22042011.pdf'}, hash='192e950434c4f0401c4dfc3c8a092c989fe1436024a40af3f9b82c49b2e53404'), <NodeRelationship.NEXT: '3'>: RelatedNodeInfo(node_id='272973de-5ace-4bcb-a022-d8b56ce8b084', node_type=<ObjectType.TEXT: '1'>, metadata={}, hash='50fd187ddb0db76c47d7abd8047b4c39031c36f01cebc5747cada6c3a1215eb5')}, text=\"Rappel des faits  \\n\\uf0a7Mercredi  11 Mai 2011  à 16h47 TU (17h47 en heure  locale),  un violent  séisme  de \\nmagnitude  5,1 s’est produit  à proximité  de la ville de Lorca,  à très faible  profondeur  \\n(2 km). Son épicentre  est situé  à 37,68° de latitude  Sud et 1,68° de longitude  Est \\n(source  EMSC)  (Figure  1). \\n \\n\\uf0a7Ce séisme  a endommagé  de nombreux  bâtiments  dans les villes  médiévales  de Lorca  \\net Totana  (20 000 selon  BBC news) . D’après  la dépêche  AFP du 12-05-11 à 8h03, de \\nnombreux  bâtiments  se sont écroulés,  une énorme  cloche  est tombée  d’un clocher . \\nIl y aurait  des dégâts  partout  dans la ville. Un hôpital  a été évacué . Le bilan  humain  \\ns’élève  à 9 morts  et plusieurs  centaines  de blessés . Au total 10 000 personnes  ont \\nété évacuées  de la ville de Lorca  qui compte  92 700 habitants . L’estimation  \\npréliminaire  de l’intensité  en zone épicentrale  est de VII (échelle  EMS98).  \\n \\n\\uf0a7Ce séisme  a été précédé  d’une  première  secousse  à 17h05 (15h05 GMT),  de \\nmagnitude  4,4. \\n Séisme de Lorca (Espagne)  \\n \\ndu mercredi 11 mai 2011 (16h47 TU)  \\nMagnitude = 5,1  I  N  F  O  R  M  A  T  I  O  N  \\nLe Bureau \\nd'évaluation  \\ndes risques \\nsismiques pour  \\nla sûreté des \\ninstallations \\n(BERSSIN) de l’IRSN \\neffectue  \\ndes recherches  \\net des expertises \\nsur l’aléa sismique \\nen tant que source \\nd’agression externe \\ndes installations  \\nà risque  \\n1 FS 6  \\nVersion 1 du 18 Mai 2011  \\nwww.irsn.fr  CONTACT :  \\n \\nIRSN/BERSSIN  \\ncontact@irsn.fr  \\n18 mai 2011  Figure 1 : Localisation du séisme du 11 mai 2011 et contexte géodynamique \\n(source : Martinez -Diaz et al., Annals of Geophysics, 2003).\", start_char_idx=0, end_char_idx=1642, text_template='{metadata_str}\\n\\n{content}', metadata_template='{key}: {value}', metadata_seperator='\\n'), score=0.818337532772518), NodeWithScore(node=TextNode(id_='d439a046-61ca-4b7b-8525-57c168ce2533', embedding=None, metadata={'page_label': '2', 'file_name': '/share/data/fiches_seismes/IRSN_Seisme_Lorca-Espagne_18052011.pdf'}, excluded_embed_metadata_keys=[], excluded_llm_metadata_keys=[], relationships={<NodeRelationship.SOURCE: '1'>: RelatedNodeInfo(node_id='98a6f235-c8d4-4488-bf3c-48fb573c876f', node_type=<ObjectType.DOCUMENT: '4'>, metadata={'page_label': '2', 'file_name': '/share/data/fiches_seismes/IRSN_Seisme_Lorca-Espagne_18052011.pdf'}, hash='8f8b0fa88252099ca60f20c630a3f752f5d166b6988c3a3839bea12a6fe0f0f6'), <NodeRelationship.PREVIOUS: '2'>: RelatedNodeInfo(node_id='272973de-5ace-4bcb-a022-d8b56ce8b084', node_type=<ObjectType.TEXT: '1'>, metadata={'page_label': '2', 'file_name': '/share/data/fiches_seismes/IRSN_Seisme_Lorca-Espagne_18052011.pdf'}, hash='69193f291d22c3af8909f024009b0c7244b6f7f960e182f938b862f28ad9ac72'), <NodeRelationship.NEXT: '3'>: RelatedNodeInfo(node_id='4dea7c4c-0d75-408e-be67-1dbfa28bc88d', node_type=<ObjectType.TEXT: '1'>, metadata={}, hash='7648ced983298ab739d5ce15d7f4a55e0d0481caaf8cfaa3bb29db7afdf95b78')}, text='La faille  responsable  de ce séisme,  un segment  du \\nsystème  de failles  de Alhama  de Murcia,  était identifiée  comme  active  et cartographiée  (Figure  2). \\nL’installation  nucléaire  la plus proche  (Cofrentes)  est située  à 170 km au Nord de l’épicentre  \\n(réacteur  à eau bouillante  mis en service  en 1985  d’une  puissance  de 1000  MWe) . Compte  tenu de \\nl’éloignement  et de la magnitude  du séisme,  aucun  effet  n’était  anticipé  et n’a été signalé  sur le site \\nmême  de la centrale  nucléaire . \\nwww.irsn.fr  \\nFigure  2 : Localisation  de l’épicentre  du séisme  du 11 mai 2011 (étoile)  et du système  de failles  \\nd’Alhama  de Murcia  (AMF)  \\nSituée  comme  l’Espagne  dans une zone  de sismicité  modérée,  la France  a été \\nplusieurs  fois touchée,  dans un passé  récent,  par des événements  sismiques  du \\ntype du séisme  de Lorca  (de magnitude  modérée  Mw ~5 et localisé  à faible  \\nprofondeur) . Certains  ont occasionnés  des dégâts  notables  ; c’est  le cas par \\nexemple  du séisme  d’Annecy  en 1996  (intensité  épicentrale  de VII) ou plus loin \\ndans le temps,  du séisme  de Manosque  en 1708  (intensité  épicentrale  VIII).', start_char_idx=2314, end_char_idx=3480, text_template='{metadata_str}\\n\\n{content}', metadata_template='{key}: {value}', metadata_seperator='\\n'), score=0.7723712019967013)], metadata={'40809cd7-a6ea-45c9-a225-7edb478c10e6': {'page_label': '1', 'file_name': '/share/data/fiches_seismes/IRSN_Seisme_Lorca-Espagne_18052011.pdf'}, 'd439a046-61ca-4b7b-8525-57c168ce2533': {'page_label': '2', 'file_name': '/share/data/fiches_seismes/IRSN_Seisme_Lorca-Espagne_18052011.pdf'}}), Response(response='\\nThe context information provided does not mention any specific sismic activity in France around May 11, 2011. Therefore, it is not possible to provide an answer to the query.', source_nodes=[NodeWithScore(node=TextNode(id_='a486a841-3e19-4d09-99d1-2f3e03bc3c19', embedding=None, metadata={'page_label': '1', 'file_name': '/share/data/fiches_seismes/IRSN_seisme_turquie-23102011.pdf'}, excluded_embed_metadata_keys=[], excluded_llm_metadata_keys=[], relationships={<NodeRelationship.SOURCE: '1'>: RelatedNodeInfo(node_id='1f25f1dc-c67a-4c98-9dd9-51325676cdb7', node_type=<ObjectType.DOCUMENT: '4'>, metadata={'page_label': '1', 'file_name': '/share/data/fiches_seismes/IRSN_seisme_turquie-23102011.pdf'}, hash='07586e36e9558bad78fcda6d8ab428b97549f869150e1862331938e4a424b081'), <NodeRelationship.PREVIOUS: '2'>: RelatedNodeInfo(node_id='3442c7ca-3fcb-4eb2-8480-9f85a7eff8d1', node_type=<ObjectType.TEXT: '1'>, metadata={'page_label': '2', 'file_name': '/share/data/fiches_seismes/IRSN-Seisme-Civaux-09092013.pdf'}, hash='7eb8922f65c162ca4249c464c791f6b00f9df13d2c2dc25219efb759532f30bc'), <NodeRelationship.NEXT: '3'>: RelatedNodeInfo(node_id='5e3c702f-89e2-4f9b-9b42-182cdcf50f52', node_type=<ObjectType.TEXT: '1'>, metadata={}, hash='6512f50a20dbb97bd9b4f7754dab329a230de4acaf0224be53697a3eb985b63e')}, text=\"Rappel des faits\\n\\x83Dimanche 23 Octobre 2011 à 10h41 TU (13h41 en heure locale), un violent séisme \\nde magnitude* 7,2 s’est produit à faible profondeur (10 km), à proximité de la ville \\nde Van dans l’Est de la Turquie. Son épicentre est situé à 38,86° de latitude Nord et \\n43,48° de longitude Est (source EMSC) (Figure 1).\\n\\x83Ce séisme a provoqué l’effondrement de 2 262 bâtiments, principalement dans les villes de Van et Ercis. Le bilan provisoire humain s’élève à 366 morts et 1 301 blessés selon la presse turque. L’esti mation préliminaire de l’intensité** en \\nzone épicentrale est de VIII à IX (source USGS). \\n\\x836 fortes répliques de magnitudes comprise s entre 5 et 6 ont été enregistrées dans \\nl’heure qui a suivi la secousse principale.Séisme de Van (Turquie) \\ndu dimanche 23 octobre 2011 (10h41 TU)\\nMagnitude = 7,2I  N  F  O  R  M  A  T  I  O  N\\nLe Bureau \\nd'évaluation des risques \\nsismiques pour \\nla sûreté des installations \\n(BERSSIN) de l’IRSN \\neffectuedes recherches \\net des expertises \\nsur l’aléa sismique en tant que source \\nd’agression externe \\ndes installations à risque\\n1FS 6\\nVersion 1 du 25/10/2011\\nwww.irsn.frCONTACT :\\nIRSN/BERSSIN\\nStéphane Baize\\n01 58 35 93 50\\nstephane.baize@irsn.fr\\n25 octobre 2011\\n150 kmSéisme du \\n23/10/2011\\nIran\\nTurquie\\nArménie\\nCentrale de Medzamor\\nFigure 1: localisation du séisme du \\n23/10/2011 dans l’Est de la Turquie, au \\nNord de la ville de Van. L’épicentre se \\nsitue à 156 km  au Sud-Ouest de la \\ncentrale nucléaire la plus proche \\n(Medzamor, Arménie). L’interprétation \\ndes mouvements au foye r du séisme (telle \\nqu’effectuée par plusieurs instituts \\nsismologiques) est représentée \\nschématiquement sur la figure de droite.\\n* La magnitude correspond à l’énergie libérée par le séisme. Elle est \\ndéterminée à partir des mouvements de sol enregistrés par des sismomètres.\\n** L’intensité décrit les effets et les dégâts produits par le séisme\\n(échelle de I à XII).\", start_char_idx=0, end_char_idx=1908, text_template='{metadata_str}\\n\\n{content}', metadata_template='{key}: {value}', metadata_seperator='\\n'), score=0.6470133341144819), NodeWithScore(node=TextNode(id_='09e5497f-51f8-489a-939d-148915ce0a80', embedding=None, metadata={'page_label': '3', 'file_name': '/share/data/fiches_seismes/IRSN-Seisme-Amatrice-Italie-240816_V1.pdf'}, excluded_embed_metadata_keys=[], excluded_llm_metadata_keys=[], relationships={<NodeRelationship.SOURCE: '1'>: RelatedNodeInfo(node_id='92ed0147-7ad6-4d35-ac8b-3a990558c99c', node_type=<ObjectType.DOCUMENT: '4'>, metadata={'page_label': '3', 'file_name': '/share/data/fiches_seismes/IRSN-Seisme-Amatrice-Italie-240816_V1.pdf'}, hash='f69f88c2dba8408f57549bacd29e66bda7653818fcf54c747df487cd0fcd2e9a'), <NodeRelationship.PREVIOUS: '2'>: RelatedNodeInfo(node_id='be82d5b1-8670-42bd-8c61-1cb78c3e4f47', node_type=<ObjectType.TEXT: '1'>, metadata={'page_label': '2', 'file_name': '/share/data/fiches_seismes/IRSN-Seisme-Amatrice-Italie-240816_V1.pdf'}, hash='469e28323fbfa7a06906b94258987a4138c4f0317644852d4d3384cc5043d58b'), <NodeRelationship.NEXT: '3'>: RelatedNodeInfo(node_id='0e2625ef-e48a-42d8-aeca-68ff26160372', node_type=<ObjectType.TEXT: '1'>, metadata={}, hash='b9c56788a16397846443487d522c3e1d032783e8694fd827d0066d94b9e2c9a7')}, text='3 I  N  F  O  R  M  A  T  I  O  N  \\nImpact sur les personnes et les bâtiments  \\nFigure  5 : Cartographie  du résultat  des enquêtes  macrosismiques  remplies  par les utilisateurs  \\nd’internet  (www .haisentitoilterremoto .it). Dans l’échelle  employée  (MCS),  les degrés  2 à 4 correspondent  \\nà des niveaux  pour lesquels  la secousse  est ressentie  par l’homme  et fait bouger  des objets . De 5 à 7, \\nles objets  chutent,  les édifices  perdent  leurs  tuiles,  cheminées,  etc. De 8 à 9, le séisme  est \\ndestructeur  pour 25 à 100% des bâtiments . Les localisations  des sites nucléaires  de Montalto  di \\nCastro,  Casaccia  et Latina  sont indiquées  sur la carte . \\nLa partie  centrale  des Apennins  est caractérisée  par une densité  de population  relativement  faible  (inférieure  à 100 \\nhabitants  par km carré) . Le tissu urbain  est composé  de petites  villes  d’origine  médiévale  caractérisées  par une \\nvulnérabilité  élevée .  \\nLe bilan des victimes  et des dégâts  produits  par le séisme  est à ce jourencore  provisoire . Le 26 août à 08h30, le \\nbilan humain  s’établissait  à 267 décès,  des centaines  de blessés  et plusieurs  centaines  de disparus  (Protezione  Civile  \\nItaliana ).  \\nPour ce qui concerne  les dégâts  occasionnés  aux bâtiments  et aux infrastructures,  les informations  disponibles  \\nrestent  encore  partielles  et sujettes  à caution  dans l’attente  des résultats  des missions  d’expert  et compte  tenu de \\nla priorité  accordée  aux secours . \\nSelon  la protection  civile  l’ampleur  des dégâts  est supérieure  à celle provoquée  par le séisme  de L’Aquila . Les villes  \\nd’Amatrice,  Accumoli  et Pescara  del Tronto  ont été en grande  partie  détruites  (La Repubblica,  25/08/2016 8h30). \\nToutes  les maisons  en pierre  et en maçonnerie  se sont écroulées . Les murs de remplissage  des maisons  en béton  ont \\néclaté  en provoquant  l’effondrement  des immeubles  (La Repubblica,  24/08/2016 citant  Fabrizio  Curcio  responsable  \\nde la protection  civile ). L’hôpital  de la ville d’Amatrice  a été fortement  endommagé  et a dû être fermé . \\nL’établissement  scolaire  de la ville,  dont une partie  avait fait l’objet  de renforcement  parasismique  en 2012, a subi \\nun effondrement  partiel  (La Repubblica,  24/08/2016). \\nLe séisme  a endommagé  plusieurs  viaducs  et a provoqué  des chutes  de blocs  sur les routes,  rendant  difficile  l’accès  \\nà certaines  zones . Dans un communiqué  de presse,  l’ENEL  (Ente Nazionale  per l’Energia  eLettrica ) a indiqué  que le \\nbarrage  du Scanderello , localisé  à proximité  d’Amatrice,  n’a pas subi de dégâts  ; néanmoins,  il reste  sous \\nsurveillance  renforcée  (Agenzia  Nazionale  Stampa  Associata  25/08/2016 19h40).', start_char_idx=0, end_char_idx=2744, text_template='{metadata_str}\\n\\n{content}', metadata_template='{key}: {value}', metadata_seperator='\\n'), score=0.6376613537619582)], metadata={'a486a841-3e19-4d09-99d1-2f3e03bc3c19': {'page_label': '1', 'file_name': '/share/data/fiches_seismes/IRSN_seisme_turquie-23102011.pdf'}, '09e5497f-51f8-489a-939d-148915ce0a80': {'page_label': '3', 'file_name': '/share/data/fiches_seismes/IRSN-Seisme-Amatrice-Italie-240816_V1.pdf'}})], 'irsn_seisme_martinique_122007.pdf': [Response(response=\"\\nThe earthquake in Martinique occurred on November 29, 2007, at 19h00 TU (15h00 local time). The magnitude of the earthquake was estimated to be 7.4.\\n\\nThe earthquake was felt by the population of Martinique for at least 50 seconds, and was also felt in Colombia, Venezuela, and Guyana. A total of 10 non-felt earthquakes were recorded by the Observatoire volcanologique et sismologique de Guadeloupe (OVSG).\\n\\nThe earthquake was caused by the subduction of the North American Plate under the Caribbean Plate, although it occurred at a depth of over 140 km, which explains the limited damage caused. The great depth of the earthquake also quickly ruled out the risk of a destructive tsunami, according to the Centre d'alerte au tsunami dans le Pacifique à Hawaï.\\n\\nThe Bureau d'évaluation des risques sismiques pour la sûreté des installations (BERSSIN) of the IRSN conducted research and expertises on the seism\", source_nodes=[NodeWithScore(node=TextNode(id_='7b724adf-da51-4d33-8ca8-bb82eaf91795', embedding=None, metadata={'page_label': '1', 'file_name': '/share/data/fiches_seismes/irsn_seisme_martinique_122007.pdf'}, excluded_embed_metadata_keys=[], excluded_llm_metadata_keys=[], relationships={<NodeRelationship.SOURCE: '1'>: RelatedNodeInfo(node_id='2195041b-8e79-46d2-8777-576a4a5b8177', node_type=<ObjectType.DOCUMENT: '4'>, metadata={'page_label': '1', 'file_name': '/share/data/fiches_seismes/irsn_seisme_martinique_122007.pdf'}, hash='2510d6cf4df6e0791790c1c0128f998eeece62b8ceb09c7a097e43b5097571b6'), <NodeRelationship.PREVIOUS: '2'>: RelatedNodeInfo(node_id='b01b7a3f-0cc6-4cc2-a099-bdef300b17f1', node_type=<ObjectType.TEXT: '1'>, metadata={'page_label': '3', 'file_name': '/share/data/fiches_seismes/irsn_seisme_niigata_japon_092007.pdf'}, hash='b5606f1385733c583dae7904a1fd739c4a75b70572e871d0dec3a94b395067b5'), <NodeRelationship.NEXT: '3'>: RelatedNodeInfo(node_id='2708e337-e46d-40bd-8581-3b068448dab8', node_type=<ObjectType.TEXT: '1'>, metadata={}, hash='a8a2797a298facab8a5fe87e62a826028325eeec7c11bea72bce6c7e734521af')}, text=\"Rappel des faits\\n\\x83Jeudi 29 novembre 2007, à 19h00 TU (15h00 heure locale), un séisme de \\nmagnitude importante s’est produit à environ 40 km au nord/nord-ouest de la \\npréfecture de la Martinique, Fort-de- France, dans les Antilles françaises.\\n\\x83La magnitude de moment (Mw) est estimée à 7,4. L’épicentre est situé à une \\nlatitude de 14,951° Nord et à une longitude de 61,24° Ouest (Figure 1). Le séisme \\ns’est produit à environ 143 km de profondeur. (source : USGS NEIC)\\n\\x83L’événement sismique a été très largement ressenti par la population martiniquaise pendant au moins 50 secondes voire plus ieurs minutes. La secousse a même été\\nressentie en Colombie, au Venezuela et en Guyane. Une dizaine de répliques non \\nressenties ont été enregistrées selon l’Obse rvatoire volcanologique et sismologique \\nde Guadeloupe (OVSG).\\n\\x83Ce séisme relié à la subduction(1)de la plaque Nord Américaine sous la plaque \\nCaraïbes, bien que de magnitude importante, s’est initié à plus de 140 km de profondeur, ce qui explique les dégâts maté riels et humains relativement limités.  \\nCette grande profondeur a aussi rapidement écarté le risque de tsunami destructeur \\n(d’après le centre d'alerte au tsunami dans le Pacifique à Hawaï).Séisme de Martinique \\n(Antilles, France)\\ndu jeudi 29 novembre 2007\\nMagnitude = 7,4 à 19h00 (TU)I  N  F  O  R  M  A  T  I  O  N\\nLe Bureau \\nd'évaluation des risques \\nsismiques pour \\nla sûreté des installations \\n(BERSSIN) de l’IRSN \\neffectuedes recherches \\net des expertises \\nsur l’aléa sismique en tant que source \\nd’agression externe \\ndes installations à risque\\nCONTACT :\\nBerge-Thierry\\nCatherine\\nIRSN/BERSSIN\\n01 58 35 86 71\\ncatherine.berge@irsn.fr\\n12 décembre  2007 1www.irsn.orgFS 6\\nFigure 1\\nLocalisation\\nde l’épicentre \\ndu séisme\\n(1) Processus au cours duquel la plaque tectonique la plus dense s’enfonce sous celle de plus faible densité .\", start_char_idx=0, end_char_idx=1852, text_template='{metadata_str}\\n\\n{content}', metadata_template='{key}: {value}', metadata_seperator='\\n'), score=0.8330018624109898), NodeWithScore(node=TextNode(id_='a5c78511-dada-433f-b087-73263e35d00c', embedding=None, metadata={'page_label': '1', 'file_name': '/share/data/fiches_seismes/IRSN_seisme-Manosque_V1-12072010.pdf'}, excluded_embed_metadata_keys=[], excluded_llm_metadata_keys=[], relationships={<NodeRelationship.SOURCE: '1'>: RelatedNodeInfo(node_id='21d3007b-ae74-48d4-b03e-7acca07a02c1', node_type=<ObjectType.DOCUMENT: '4'>, metadata={'page_label': '1', 'file_name': '/share/data/fiches_seismes/IRSN_seisme-Manosque_V1-12072010.pdf'}, hash='e6ab4147b99d703d9162efc8ee18020d8ab42c7fd232bb8f3f58a9901b26fbcd'), <NodeRelationship.PREVIOUS: '2'>: RelatedNodeInfo(node_id='d91eb4ba-c968-4959-a3e3-937303ac593e', node_type=<ObjectType.TEXT: '1'>, metadata={'page_label': '4', 'file_name': '/share/data/fiches_seismes/IRSN-Seisme-Elazig-Turquie-24012020.pdf'}, hash='b44a08a884a8f0df9719affb83da97c0d3ccb7d37fee8c129c254ff655d4858b'), <NodeRelationship.NEXT: '3'>: RelatedNodeInfo(node_id='c463f41b-b599-4b70-bd8a-5060c1d34ed3', node_type=<ObjectType.TEXT: '1'>, metadata={}, hash='4d9fc3f67eb7ff392529c23c6ca258ff4290b1ee37cfdefb23dadbc9085449ab')}, text=\"Rappel des faits\\n\\x83Jeudi 8 juillet 2010, à 20h20 TU (22h20 heure locale), un séisme de faible \\nmagnitude s’est produit au voisinage immé diat de Manosque (2-3 km) : Ml = 3,0 à\\n43°50’ Nord et 5°50’ Est selon le CEA/LDG, Ml=2,9 à 43,810°Nord et 5,8°Est selon le RENASS. Le séisme s’est très vraisemblablement produit à faible profondeur.\\n\\x83La secousse, qui n’a pas fait de dégâts, a été fortement ressentie par la population àManosque et Pierrevert (et dans une moindre mesure à Sainte-Tulle, Volx, Corbières et Villeneuve), mais ne semble ne pas av oir été ressentie de manière significative \\nau-delà d’une distance de quelques kilo mètres de l’épicentre (Oraison, Mane, \\nSainte-Maime).\\n\\x83La Ville de Manosque a connu deux épisodes  sismiques remarquables dans le passé, \\nl’un en 1509 et l’autre en 1708. Ces deux événements ont provoqué des dégâts importants aux constructions et sont recensés dans la base de sismicité historique \\n(www.sisfrance.net\\n) avec une intensité de VIII à Manosque. L’intensité correspond à\\nune évaluation de l’importance de la seco usse en un lieu donné en termes d’effets \\n(perception, effets sur les objets et/o u dommages aux constructions). La magnitude \\nde ces séismes est actuellement évaluée autour de 5.\\n\\x83Le séisme du jeudi 8 juillet 2010 est associé au fonctionnement de la « Faille de la Moyenne Durance » (FMD) et traduit l’activi té régulière mais faible de celle-ci. \\nSouvent non perçus par la population, ses séismes sont généralement de faible \\nmagnitude.Séisme à Manosque \\n(Alpes de Haute-Provence) \\ndu jeudi 8 juillet 2010 (20h20 TU)\\nMagnitude = 3,0 (Ml)I  N  F  O  R  M  A  T  I  O  N\\nLe Bureau \\nd'évaluation des risques \\nsismiques pour \\nla sûreté des installations \\n(BERSSIN) de l’IRSN \\neffectuedes recherches \\net des expertises \\nsur l’aléa sismique en tant que source \\nd’agression externe \\ndes installations à risque\\n1FS 6\\nVersion 1 du 12 juillet 2010\\nwww.irsn.frCONTACT :\\nIRSN/BERSSIN\\nDavid Baumont\\nMarc Cushing\\n01 58 35 91 24\\ndavid.baumont@irsn.fr\\nedward.cushing@irsn.fr\\nFigure 1 : Localisation du séisme du 8 juillet 2010 (étoile)\\n12 juillet 2010\", start_char_idx=0, end_char_idx=2093, text_template='{metadata_str}\\n\\n{content}', metadata_template='{key}: {value}', metadata_seperator='\\n'), score=0.7885068325418496)], metadata={'7b724adf-da51-4d33-8ca8-bb82eaf91795': {'page_label': '1', 'file_name': '/share/data/fiches_seismes/irsn_seisme_martinique_122007.pdf'}, 'a5c78511-dada-433f-b087-73263e35d00c': {'page_label': '1', 'file_name': '/share/data/fiches_seismes/IRSN_seisme-Manosque_V1-12072010.pdf'}}), Response(response='\\nThe epicenter of the earthquake in Martinique was located at a latitude of 14.951° North and a longitude of 61.24° West.', source_nodes=[NodeWithScore(node=TextNode(id_='7b724adf-da51-4d33-8ca8-bb82eaf91795', embedding=None, metadata={'page_label': '1', 'file_name': '/share/data/fiches_seismes/irsn_seisme_martinique_122007.pdf'}, excluded_embed_metadata_keys=[], excluded_llm_metadata_keys=[], relationships={<NodeRelationship.SOURCE: '1'>: RelatedNodeInfo(node_id='2195041b-8e79-46d2-8777-576a4a5b8177', node_type=<ObjectType.DOCUMENT: '4'>, metadata={'page_label': '1', 'file_name': '/share/data/fiches_seismes/irsn_seisme_martinique_122007.pdf'}, hash='2510d6cf4df6e0791790c1c0128f998eeece62b8ceb09c7a097e43b5097571b6'), <NodeRelationship.PREVIOUS: '2'>: RelatedNodeInfo(node_id='b01b7a3f-0cc6-4cc2-a099-bdef300b17f1', node_type=<ObjectType.TEXT: '1'>, metadata={'page_label': '3', 'file_name': '/share/data/fiches_seismes/irsn_seisme_niigata_japon_092007.pdf'}, hash='b5606f1385733c583dae7904a1fd739c4a75b70572e871d0dec3a94b395067b5'), <NodeRelationship.NEXT: '3'>: RelatedNodeInfo(node_id='2708e337-e46d-40bd-8581-3b068448dab8', node_type=<ObjectType.TEXT: '1'>, metadata={}, hash='a8a2797a298facab8a5fe87e62a826028325eeec7c11bea72bce6c7e734521af')}, text=\"Rappel des faits\\n\\x83Jeudi 29 novembre 2007, à 19h00 TU (15h00 heure locale), un séisme de \\nmagnitude importante s’est produit à environ 40 km au nord/nord-ouest de la \\npréfecture de la Martinique, Fort-de- France, dans les Antilles françaises.\\n\\x83La magnitude de moment (Mw) est estimée à 7,4. L’épicentre est situé à une \\nlatitude de 14,951° Nord et à une longitude de 61,24° Ouest (Figure 1). Le séisme \\ns’est produit à environ 143 km de profondeur. (source : USGS NEIC)\\n\\x83L’événement sismique a été très largement ressenti par la population martiniquaise pendant au moins 50 secondes voire plus ieurs minutes. La secousse a même été\\nressentie en Colombie, au Venezuela et en Guyane. Une dizaine de répliques non \\nressenties ont été enregistrées selon l’Obse rvatoire volcanologique et sismologique \\nde Guadeloupe (OVSG).\\n\\x83Ce séisme relié à la subduction(1)de la plaque Nord Américaine sous la plaque \\nCaraïbes, bien que de magnitude importante, s’est initié à plus de 140 km de profondeur, ce qui explique les dégâts maté riels et humains relativement limités.  \\nCette grande profondeur a aussi rapidement écarté le risque de tsunami destructeur \\n(d’après le centre d'alerte au tsunami dans le Pacifique à Hawaï).Séisme de Martinique \\n(Antilles, France)\\ndu jeudi 29 novembre 2007\\nMagnitude = 7,4 à 19h00 (TU)I  N  F  O  R  M  A  T  I  O  N\\nLe Bureau \\nd'évaluation des risques \\nsismiques pour \\nla sûreté des installations \\n(BERSSIN) de l’IRSN \\neffectuedes recherches \\net des expertises \\nsur l’aléa sismique en tant que source \\nd’agression externe \\ndes installations à risque\\nCONTACT :\\nBerge-Thierry\\nCatherine\\nIRSN/BERSSIN\\n01 58 35 86 71\\ncatherine.berge@irsn.fr\\n12 décembre  2007 1www.irsn.orgFS 6\\nFigure 1\\nLocalisation\\nde l’épicentre \\ndu séisme\\n(1) Processus au cours duquel la plaque tectonique la plus dense s’enfonce sous celle de plus faible densité .\", start_char_idx=0, end_char_idx=1852, text_template='{metadata_str}\\n\\n{content}', metadata_template='{key}: {value}', metadata_seperator='\\n'), score=0.8234193374738719), NodeWithScore(node=TextNode(id_='8911ed22-0bff-4835-a253-5425cfc53991', embedding=None, metadata={'page_label': '4', 'file_name': '/share/data/fiches_seismes/irsn_seisme_martinique_122007.pdf'}, excluded_embed_metadata_keys=[], excluded_llm_metadata_keys=[], relationships={<NodeRelationship.SOURCE: '1'>: RelatedNodeInfo(node_id='84fb84b1-8b77-48be-ab16-2be28b3c43e1', node_type=<ObjectType.DOCUMENT: '4'>, metadata={'page_label': '4', 'file_name': '/share/data/fiches_seismes/irsn_seisme_martinique_122007.pdf'}, hash='a8ff6f353f73cfc3b338aa0631bb8b583f5f21744c0ebbbf78bde2a53c87f3c9'), <NodeRelationship.PREVIOUS: '2'>: RelatedNodeInfo(node_id='b5b9542b-8435-4d59-8c74-f66451f3b328', node_type=<ObjectType.TEXT: '1'>, metadata={'page_label': '3', 'file_name': '/share/data/fiches_seismes/irsn_seisme_martinique_122007.pdf'}, hash='49a82225267e5347bc1ec9a3a7b444d0ff78ed3c4b9f229ee9e0892b59ab4dce'), <NodeRelationship.NEXT: '3'>: RelatedNodeInfo(node_id='1de730e8-b642-438d-8758-cff3c0e6e3c9', node_type=<ObjectType.TEXT: '1'>, metadata={}, hash='a6a9acb25aaae0d12bc1c26482192f0fd08c7cb1e163d3199266c43b1494da19')}, text='La Martinique et la Guadeloupe sont dans la zone de sismicité la plus élevée dans la réglementation actuelle \\nfrançaise pour le bâtiment conventionnel, et le resteront dans le futur zonage sismique. Le Plan Séisme piloté par \\nle MEDAD et lancé fin 2004 comporte des actions très fortes vers les Antilles, avec une priorité et des \\nfinancements (plus de 300 M€) orientés vers le renforcement du bâti. La première phase du Plan vise les \\nétablissements scolaires et sociaux ainsi que les centres de crise, une seconde phase, qui devrait débuter en 2012 être consacrée à la rénovation de deux centres hospital iers. (source Actu-Environnement, article de Janvier 2007).Prise en compte du risq ue sismique aux Antilles\\nLes enseignements\\n\\x83Le séisme du 29 novembre 2007 est caractéristiqu e des évènements sismiques de subduction, qui \\nplacent la Martinique et la Guad eloupe dans la zone d’aléa sism ique la plus forte en France.\\n\\x83Le séisme, localisé à proximité de la Martinique, a ét é très fortement ressenti dans tout l’Arc Antillais \\net jusqu’au Venezuela, Colombie et Guyane. Le bi lan définitif des dégâts matériels et humains (en \\ntermes de blessés voire de décès) associé à ce séisme n’est pas établi.\\n\\x83La grande profondeur du séisme a rapidement exclu l’occurrence d’un tsunami et limité les dommages. \\nLes victimes sont dues davantage à des réaction s de panique plus qu’à des dommages sur le bâti.\\n\\x83L’exploitation des données accélérométrique illustre la grande variabilité des données de mouvements \\nde terrain observées dans cette zone.Figure 4 Figure 5I  N  F  O  R  M  A  T  I  O  N\\n12 décembre 2007 4', start_char_idx=0, end_char_idx=1612, text_template='{metadata_str}\\n\\n{content}', metadata_template='{key}: {value}', metadata_seperator='\\n'), score=0.8001976984436902)], metadata={'7b724adf-da51-4d33-8ca8-bb82eaf91795': {'page_label': '1', 'file_name': '/share/data/fiches_seismes/irsn_seisme_martinique_122007.pdf'}, '8911ed22-0bff-4835-a253-5425cfc53991': {'page_label': '4', 'file_name': '/share/data/fiches_seismes/irsn_seisme_martinique_122007.pdf'}})], 'irsn_seisme_niigata_japon_092007.pdf': [Response(response='\\nThe Japon is located at the confluence of three tectonic plates, the Philippine Plate, the Pacific Plate, and the Eurasian Plate. The Philippine Plate is subducting beneath the Eurasian Plate, the Pacific Plate is subducting beneath the Philippine and Eurasian Plates, and the Pacific Plate is subducting beneath the North American Plate at the northern part of Japan. This convergence results in a strong seismic activity, primarily located in the zones of subduction along the coasts at significant depths (typically between 30 to 150 km). Additionally, there are numerous active faults intracontinental that produce sismic activity of lesser amplitude but at shallow depths (10-15 km). The 2007 Chu-Etsu-Oki earthquake was located on the border of the coast and was part of the system of active faults in the Itoigawa-Shizuoka and the convergence zone of the Japan Sea. The 2004 Niigata Ken-Chu-Etsu earthquake also occurred in the same region. These four earthqu', source_nodes=[NodeWithScore(node=TextNode(id_='f6d6b72e-22da-49bc-a65e-b2f7cb94a022', embedding=None, metadata={'page_label': '2', 'file_name': '/share/data/fiches_seismes/irsn_seisme_niigata_japon_092007.pdf'}, excluded_embed_metadata_keys=[], excluded_llm_metadata_keys=[], relationships={<NodeRelationship.SOURCE: '1'>: RelatedNodeInfo(node_id='30df8127-4c13-4879-a5a2-ed107f0d3902', node_type=<ObjectType.DOCUMENT: '4'>, metadata={'page_label': '2', 'file_name': '/share/data/fiches_seismes/irsn_seisme_niigata_japon_092007.pdf'}, hash='208746d4479f44254585e814e412e783c515ce2c59d0787412a914571f2b1824'), <NodeRelationship.PREVIOUS: '2'>: RelatedNodeInfo(node_id='6343905c-71eb-4bfb-856f-1a5b4371bf6e', node_type=<ObjectType.TEXT: '1'>, metadata={'page_label': '1', 'file_name': '/share/data/fiches_seismes/irsn_seisme_niigata_japon_092007.pdf'}, hash='dcdfac0178d67da75afb74eff124e7360c17c08211cbe821f9c642fdcc3f2d85'), <NodeRelationship.NEXT: '3'>: RelatedNodeInfo(node_id='804aaf93-c77c-4941-b4d6-cc6e3fd9e111', node_type=<ObjectType.TEXT: '1'>, metadata={}, hash='745611a59d979eb13e086884ac43cb73c15284038b5de92f592ca2d393f29976')}, text=\"Le Japon se situe à l’aplomb d’un point triple de convergence de plaques tectoniques(1)formant une zone de \\nsubduction(2)complexe (Figure 2). La plaque Philippine plonge sous la plaque Eurasie, la plaque Pacifique \\nplonge sous les plaques Philippine et Eurasie au centre du  Japon, et sous la plaque nord-américaine au nord du \\nJapon. Cette convergence se traduit d’une part par une forte sismicité localisée principalement au niveau des \\nzones de subduction au large des côtes à des profondeurs importantes (typiquement de 30 à 150 km), d’autre \\npart par l’existence de nombreuses failles actives intr acontinentales. Ces failles sont le siège d’une activité\\nsismique de moindre ampleur par rapport à la subduct ion, mais cette sismicité se produisant à faible \\nprofondeur (10-15 km) peut engendrer des dégâts importants. Le séisme de Chu-Etsu-Oki du 16 juillet 2007 est localisé en bordure côtière dans la zone de transition en tre le système de failles ac tives d’Itoigawa-Shizuoka et \\nla zone de convergence de la mer du Japon. Ce séisme a permis d’accommoder une partie de la déformation \\nrésultant de la convergence, tout comme le séisme de Niigata Ken-Chu-Etsu de 2004 qui s’est produit à moins \\nde 50 kilomètres de là. Des reconnaissances géophysiques sont planifiées d’ici la fin de l’année afin de mieux \\ncaractériser la géométrie de la faille ac tivée lors du séisme de Chu-Etsu-Oki (voir la note d'information de \\nTEPCO du 17/08/2007 ), et notamment d’examiner la possibilité qu’une faille active émerge sur le site nucléaire \\nde Kashiwazaki-Kariwa. \\nIl s’agit pour le Japon du quatrième séisme significatif non associé à la subduction, après les séismes de Kobe \\nen 1995 (Mw6,9), Niigata en 2004 (Mw6,6) et Noto-Hanto en mars 2007 (Mw 6,7). Dans ces quatre cas, les dégâts \\noccasionnés ont été importants et sont dus à la présence de failles actives à proximité de zones habitées. \\nLe contexte sismotectonique japonais diffère du contexte français où les failles actives sont beaucoup plus \\n«lentes» et les séismes du même ordre de magnitude beaucoup plus rares, même s’ils sont considérés comme \\npossibles (Alpes, Proven ce, Pyrénées, Alsace).Contexte sismotectoniqueI  N  F  O  R  M  A  T  I  O  N\\n04 septembre 2007 2\\nTémoignages recueillis\\nPresse japonaise\\nCe séisme a été fortement ressenti dans la partie Nord-Ouest de l’île de Honshu . Le séisme a fait 11 morts et \\nplus de 1000 blessés. Les dégâts matériels sont très importants dans la zone épicentrale ; 25 000 foyers ont été\\nprivés d’électricité. Le coût total des dommages causés à la préfecture est estimée à 1 500 milliards de yens \\n(environ 90 milliards d’euros). A la centrale nucléaire  de Kashiwazaki-Kariwa (TEPCO), trois réacteurs étaient \\nen fonctionnement et un réacteur étai t en cours de démarrage ; ils ont été mis à l’arrêt automatiquement lors \\nde la secousse. La centrale nucléaire ne devrait pa s redémarrer avant un an d’après M. Yagi, directeur des \\naffaires internationales de la NISA (autorité de sûreté ja ponaise).\", start_char_idx=0, end_char_idx=3011, text_template='{metadata_str}\\n\\n{content}', metadata_template='{key}: {value}', metadata_seperator='\\n'), score=0.8627483483284369), NodeWithScore(node=TextNode(id_='96e3f2d8-2d44-4f3f-bf7e-f35275f32da5', embedding=None, metadata={'page_label': '2', 'file_name': '/share/data/fiches_seismes/IRSN_seisme-Japon_V2-22042011.pdf'}, excluded_embed_metadata_keys=[], excluded_llm_metadata_keys=[], relationships={<NodeRelationship.SOURCE: '1'>: RelatedNodeInfo(node_id='2fdcc52b-7bef-41d3-a53b-439b631b87be', node_type=<ObjectType.DOCUMENT: '4'>, metadata={'page_label': '2', 'file_name': '/share/data/fiches_seismes/IRSN_seisme-Japon_V2-22042011.pdf'}, hash='a38241106570fcf36210bc3277eea9fdd8a927600a405f685843967a78ad1ece'), <NodeRelationship.PREVIOUS: '2'>: RelatedNodeInfo(node_id='80d56f26-c29e-41ef-8e0b-46bd0f100aef', node_type=<ObjectType.TEXT: '1'>, metadata={'page_label': '1', 'file_name': '/share/data/fiches_seismes/IRSN_seisme-Japon_V2-22042011.pdf'}, hash='c7b3924143d0767a16dee540e25abd0ad64e40a82986a73f25027c9fbd063b61'), <NodeRelationship.NEXT: '3'>: RelatedNodeInfo(node_id='c24acf99-b9b5-493e-b603-44955be0fe7c', node_type=<ObjectType.TEXT: '1'>, metadata={}, hash='d21d726b3aef8a58a4478d969309c35a1408aae2acaaea7b7dcda0d3d4d6dce5')}, text='I  N  F  O  R  M  A  T  I  O  N\\n2Séisme du 11 mars 2011\\nFigure 2. Contexte sismotectonique du Japon \\n(d’après L. Jolivet). Le trait vert situe la coupe \\nprésentée sur la figure 3 \\nLes séismes se distribuent en majorité dans la zone \\nde contact entre les deux plaques, mais aussi dans la \\nplaque pacifique plongeante et la plaque supérieure \\neurasienne. La sismicité souligne bien la structure \\ntectonique globale schématisée en Figure 2.\\nAu cours de son histoire, le Japon a subi de très \\nnombreux séismes meurtriers. En particulier les \\nséismes de Zenkoji (34 000 morts, magnitude 7,4 le \\n18/05/1847) ; Sanriku (22 000 morts, magnitude 7,6 \\nle 15/06/1896) ; Tokyo (plus de 100 000 morts, \\nmagnitude 8,3 le 01/09/1923) ; Kobé (5 502 morts, \\nmagnitude 7,2 le 16/01/1995).\\nAu risque sismique, il fa ut ajouter le risque de \\ntsunami, phénomène particulièrement fréquent au \\nJapon. Un tsunami est une onde générée par le déplacement d’un important volume d’eau. C’est en \\nparticulier le cas lorsqu’un séisme modifie la \\ntopographie du fond marin (typiquement pour des \\nséismes dont la magnitude est supérieure à 7).Contexte sismotectonique et sismicité historique\\nwww.irsn.fr\\nL’archipel du Japon se situe à l’aplomb d’une zone de \\nconvergence de trois plaques tectoniques dont la \\nstructure est complexe (Figure 2).\\nAu sud, la plaque philippi ne plonge sous la plaque \\neurasienne, tandis qu’au nord (au large de Tokyo), la \\nplaque pacifique plonge sous les plaques philippine et \\neurasienne. \\nLa convergence rapide de ces plaques (~8-9 cm/an) \\ngénère une forte sismicité, localisée principalement au \\nniveau des zones de contact des zones de subduction. \\nLes séismes majeurs sont généralement situés au large \\ndes côtes et à des profondeurs comprises en moyenne entre 10 et 50 km (Figure 3). \\nFigure 4. Séismes localisé s au voisinage du Japon \\nayant générés des tsunamis au cours des 500 \\ndernières années – Source JNES \\nFigure 3. Coupe de répartition des séismes \\nenregistrés entre 1900 et 2007 (voir Figure 2). \\nL’étoile rouge correspond au séisme du 11 mars, \\nle trait blanc à la zone rompue lors de ce séisme. \\nDocument USGS/IPGP\\nCroute continentale\\nManteau supérieur\\nManteau inférieur\\n08 Avril 2011', start_char_idx=0, end_char_idx=2200, text_template='{metadata_str}\\n\\n{content}', metadata_template='{key}: {value}', metadata_seperator='\\n'), score=0.8475542411602663)], metadata={'f6d6b72e-22da-49bc-a65e-b2f7cb94a022': {'page_label': '2', 'file_name': '/share/data/fiches_seismes/irsn_seisme_niigata_japon_092007.pdf'}, '96e3f2d8-2d44-4f3f-bf7e-f35275f32da5': {'page_label': '2', 'file_name': '/share/data/fiches_seismes/IRSN_seisme-Japon_V2-22042011.pdf'}}), Response(response='\\nThe provided context information does not mention any specific earthquake named \"Chu-Etsu-Oki\". Therefore, it is not possible to provide information about the consequences of such an earthquake.', source_nodes=[NodeWithScore(node=TextNode(id_='a6292edf-9b3b-43df-a004-798b78fc9c7d', embedding=None, metadata={'page_label': '2', 'file_name': '/share/data/fiches_seismes/irsn_Seisme-Inde_012001.pdf'}, excluded_embed_metadata_keys=[], excluded_llm_metadata_keys=[], relationships={<NodeRelationship.SOURCE: '1'>: RelatedNodeInfo(node_id='ccad01a6-d05e-449d-a728-4a9a394901e3', node_type=<ObjectType.DOCUMENT: '4'>, metadata={'page_label': '2', 'file_name': '/share/data/fiches_seismes/irsn_Seisme-Inde_012001.pdf'}, hash='06f9ac61d831691a85ad42373b28635d26215b9b96c924df8067066924bef213'), <NodeRelationship.PREVIOUS: '2'>: RelatedNodeInfo(node_id='eae340ee-cb2f-4460-8284-95384c2915d1', node_type=<ObjectType.TEXT: '1'>, metadata={'page_label': '2', 'file_name': '/share/data/fiches_seismes/irsn_Seisme-Inde_012001.pdf'}, hash='b2930deedbf99273623d7a00336f4e47249156fc2fa95323f4c317efa650ad56'), <NodeRelationship.NEXT: '3'>: RelatedNodeInfo(node_id='89fc695a-0786-48c6-aa4d-a885e8fe117a', node_type=<ObjectType.TEXT: '1'>, metadata={}, hash='a0851ebd5be039b14c1e681f6f19eb15a4faf7c1b74aca31a16054eade683ed8')}, text='Annexe pages 4-5) m ontre que des séismes de forte magnitude peuvent se  \\nproduire loin des limites de plaques (170 à3000 km)  àl’intérieur même de zones réputées stables (boucl iers \\nanciens, chaînes de montagnes anciennes…). Elle ide ntifie une trentaine de séismes de ce type dans le monde, de \\nmagnitude supérieure à6,5, dont deux dans la pénins ule indienne : séisme de Koynaen 1967 et celui de K utchen \\n1819. \\nTout comme le séisme du 26 janvier 2001, le séisme de Kutch(1819) a eu lieu à175 kilomètres au sud de la \\nfrontière des plaques eurasienne et indienne qui do nne naissance àl’Himalaya . La faille activée lors de ce séisme \\navait atteint la surface produisant un escarpement d’une hauteur de 6 à9 mètres sur une longueur d’env iron 90 \\nkilomètres (le mur de dieu, «AllahBund»). \\nLe séisme de 1819 avait étésuivi de répliques resse nties par la population jusqu’àla fin novembre 1819 , soit cinq \\nmois après la secousse principale. Les dégâts avaie nt également étéconsidérables. \\nLe fait que des séismes puissent survenir dans des zones réputées calmes sismiquement (sismicité connue  très \\nfaible) a conduit à l’adoption d’un niveau sismique minimal à prendre en compte pour la conception des \\ninstallations nucléaires françaises .', start_char_idx=2309, end_char_idx=3557, text_template='{metadata_str}\\n\\n{content}', metadata_template='{key}: {value}', metadata_seperator='\\n'), score=0.7669165399467721), NodeWithScore(node=TextNode(id_='165a60b4-680f-42e0-8d1b-be33c370c840', embedding=None, metadata={'page_label': '2', 'file_name': '/share/data/fiches_seismes/irsn_Seisme-Japon_052003.pdf'}, excluded_embed_metadata_keys=[], excluded_llm_metadata_keys=[], relationships={<NodeRelationship.SOURCE: '1'>: RelatedNodeInfo(node_id='3a142c7c-2695-4781-b9a5-c5e7f85ae3a2', node_type=<ObjectType.DOCUMENT: '4'>, metadata={'page_label': '2', 'file_name': '/share/data/fiches_seismes/irsn_Seisme-Japon_052003.pdf'}, hash='a2f7078bdac5e6b2b0824e8d37d3f4c9e13ba88978cc0d5dff051188d326c82a'), <NodeRelationship.PREVIOUS: '2'>: RelatedNodeInfo(node_id='359f3358-2a6b-4111-b23a-249a10092f28', node_type=<ObjectType.TEXT: '1'>, metadata={'page_label': '1', 'file_name': '/share/data/fiches_seismes/irsn_Seisme-Japon_052003.pdf'}, hash='eac753983724272b2e49d362e91ef0a3559a0ea9507065e0f116335e4674a6f2'), <NodeRelationship.NEXT: '3'>: RelatedNodeInfo(node_id='2fe97019-616b-4a04-8bf9-a38a5faa1e80', node_type=<ObjectType.TEXT: '1'>, metadata={}, hash='d3f4f244f970a0f678f7bd8b9d1c9c7c12d1f6ee22ff416f69991224f63c3965')}, text=\"I  N  F  O  R  M  A  T  I  O  N \\n2\\nLe contexte tectonique \\nLe Japon se situe près d’une frontière active de pl aques. Il s’agit d’une zone de subduction où la plaq ue Pacifique \\nplonge sous la plaque Eurasie (figure 1). Les plaqu es se rapprochent à la vitesse de 9 cm par an, ce qu i génère une \\ntrès forte accumulation de contraintes tectoniques.  Lorsque ces contraintes deviennent trop fortes, ce rtaines \\nfailles peuvent être mises en mouvement. Le déplace ment rapide des bords de la faille génère alors des  ondes \\nsismiques qui se propagent jusqu'à la surface. \\nEn régime de subduction, de nombreux séismes se pro duisent dans la zone de contact des deux plaques et  \\négalement dans leur épaisseur (voir figure 2). D’ap rès les premiers résultats du JMA, le séisme du 26 mai 2003 se \\nserait produit sur un plan de faille Nord-sud presq ue vertical, dans la plaque plongeante pacifique à 7 0 km de \\nprofondeur \\n30 mai 2003 Le contexte sismique du Japon \\nCompte tenu de sa localisation dans une zone de con vergence de plaques, le Japon est une région à forte  sismicité\\n(figure 3). Au cours de son histoire, ce pays a sub i plusieurs séismes meurtriers et destructeurs. Par mi les plus \\nnotables, on peut citer : le séisme de Zenkoji (34 0 00 morts, magnitude 7,4, le 18 mai 1847) ; le séism e de Sanriku \\n(22 000 morts, magnitude 7,6, 15 juin 1896) ; le sé isme de Tokyo (plus de 100 000 morts, magnitude 8,3 , le 1er \\nseptembre 1923) et le séisme de Kobe (5 502 morts, magnitude 6,8, le 16 janvier 1995). \\nHistoriquement, la région concernée n’est pas la pl us active du Japon. D’après les évaluations probabi listes d’aléa \\npubliées en 2000 (Global Seismic Hazard Assessment Pro gram - GSHAP), la probabilité d’atteindre ou de dépas ser \\nune accélération du sol de 0,25 g est de 10% sur un e période de 50 ans, dans la région épicentrale du séisme du 26 \\nmai 2003. A Tokyo, l’accélération atteinte pour cet te même probabilité serait de 0,5 g. \\nFigure 2 : Subduction Pacifique-Eurasie et localisa tion du séisme \\ndu 26 mai 2003 \\nFigure 3 : Carte de l’alea sismique du nord du Japo n\", start_char_idx=0, end_char_idx=2092, text_template='{metadata_str}\\n\\n{content}', metadata_template='{key}: {value}', metadata_seperator='\\n'), score=0.7435625424829853)], metadata={'a6292edf-9b3b-43df-a004-798b78fc9c7d': {'page_label': '2', 'file_name': '/share/data/fiches_seismes/irsn_Seisme-Inde_012001.pdf'}, '165a60b4-680f-42e0-8d1b-be33c370c840': {'page_label': '2', 'file_name': '/share/data/fiches_seismes/irsn_Seisme-Japon_052003.pdf'}})], 'IRSN_seisme_sumatra-11042012.pdf': [Response(response='\\nThe earthquakes in Sumatra, Indonesia, occurred on Wednesday, April 11, 2012, at 8:38 TU (14:38 local time) and 2 hours later, at 10:43 TU (16:43 local time). The main earthquake had a magnitude of 8.6, while the second earthquake had a magnitude of 8.2.', source_nodes=[NodeWithScore(node=TextNode(id_='d3f0cc7c-2532-4473-8e95-a8b6fef6a85f', embedding=None, metadata={'page_label': '1', 'file_name': '/share/data/fiches_seismes/IRSN_seisme_sumatra-11042012.pdf'}, excluded_embed_metadata_keys=[], excluded_llm_metadata_keys=[], relationships={<NodeRelationship.SOURCE: '1'>: RelatedNodeInfo(node_id='6ddce4ad-f129-4678-a06c-52568e254716', node_type=<ObjectType.DOCUMENT: '4'>, metadata={'page_label': '1', 'file_name': '/share/data/fiches_seismes/IRSN_seisme_sumatra-11042012.pdf'}, hash='ce897515a9f3d08b5b57a9623b8f80ee3147d833cffbf2c046de967af8f4139c'), <NodeRelationship.PREVIOUS: '2'>: RelatedNodeInfo(node_id='57863efb-5dae-4375-9cc4-51c95e65952c', node_type=<ObjectType.TEXT: '1'>, metadata={'page_label': '3', 'file_name': '/share/data/fiches_seismes/IRSN Fiche seisme MULHOUSE 13092022.pdf'}, hash='7210bcaa611e7e7e9ef0950657295cae81b44bf5de71074d2de2c9b77f648b58'), <NodeRelationship.NEXT: '3'>: RelatedNodeInfo(node_id='bfc21d0e-04ae-4fd1-a62e-1af21a413cd4', node_type=<ObjectType.TEXT: '1'>, metadata={}, hash='15ca6cf72d5659e007d642e64754ba75cb63300eac4256e4d07adc189ad05d0a')}, text=\"Les faits\\n\\x83Mercredi 11 avril 2012, à 8h38 TU (14h38 heure locale), un séisme de très forte \\nmagnitude* (Mw=8,6) s’est produit à 23 km de profondeur au large des côtes indonésiennes à environ 350 km de l’île de Su matra et de la province d’Aceh (Figure \\n1). Son épicentre est situé à une latitude de 2,348°N et à une longitude de   \\n93,072°E (source USGS).\\n\\x83Une très forte réplique de magnitude Mw=8,2 s’est produite à environ 300 km au sud du choc principal environ 2 heures après.\\n\\x83Ces deux séismes se sont produits à 350 km à l’ouest de l’épicentre du méga-séisme (Mw=9,3) du 26 décembre 2004, dont les effets sismiques et le tsunami associé avaient ravagé les cotes de Sumatra. \\n\\x83Le choc principal a donné lieu à une alerte au tsunami qui a été suivie par une montée des eaux relativement modérée sur les côtes de Sumatra (au maximum 1 m au plus près \\nde l’épicentre).\\n\\x83Le séisme du 11 avril, Mw=8,6, a été ressenti à très grandes distances, notamment dans les hautes tours de Bangkok en Thaïlande à 1500 km de l’épicentre, où les secousses  \\nont été perçues durant 5 minutes. Une procéd ure d’évacuation des personnes a été mise \\nen place par les autorités dans l’archipel des Maldives. L’alerte mise en place par l’état \\nmajor de zone à la Réunion a été levée dans l’après-midi du 11 avril. Cinq personnes ont \\nété tuées (attaques cardiaques, une chute d’ar bre) à Sumatra. Les dégâts sont en cours \\nd’évaluation par les autorités mais semblent très limités. Ce bilan modéré compte tenu \\nde la magnitude importante des séismes s’explique par la très grande distance séparant \\nles premières zones habitées et les épicentres des deux séismes majeurs du 11 avril.\\n\\x83La centrale nucléaire la plus proche (Kalpakkam) étant située à plus de 1800 km de distance, sur la côte orientale de l’Inde, aucun effet du séisme n’est attendu. L’enregistrement de la montée des eaux sur la côte orientale du Sri Lanka indique une \\nhauteur de 6 cm (Trinconmalee – source NOAA). Aucun effet dû à l’onde tsunamique\\nn’est également attendu. I  N  F  O  R  M  A  T  I  O  N\\nLe Bureau \\nd'évaluation des risques \\nsismiques pour \\nla sûreté des installations \\n(BERSSIN) de l’IRSN \\neffectuedes recherches \\net des expertises \\nsur l’aléa sismique en tant que source \\nd’agression externe \\ndes installations à risque\\n1FS 6\\nwww.irsn.frCONTACT :\\nIRSN/BERSSIN\\nEdward Marc Cushing\\nedward.cushing@irsn.frFigure 1 : Localisation du choc \\nprincipal et répartition des \\nintensités** ressenties au nord de \\nl’île de Sumatra estimées à partir \\ndes témoignages  collectés  par l’USGS sur internet : \\nhttp://earthquake.usgs.gov/earthquak\\nes/eventpage/usc000905e#dyfi\\n13 avril 2012Séismes de Sumatra \\n(Indonésie)\\ndu mercredi 11 avril 2012\\nMagnitude = 8,6 à 8h38 (TU) – 14h38 (heure locale)Magnitude = 8,2 à 10h43 (TU)  – 16h43 (heure locale)\\nVersion 1 du 13 avril 2012\\n•la magnitude correspond à\\nl’énergie libérée par le séisme. \\nElle est  déterminée à partir des mouvements de sol enregistrés par des sismomètres.\", start_char_idx=0, end_char_idx=2973, text_template='{metadata_str}\\n\\n{content}', metadata_template='{key}: {value}', metadata_seperator='\\n'), score=0.8442301747762542), NodeWithScore(node=TextNode(id_='5e71c1be-77c9-42c4-a155-6e85f0930ffe', embedding=None, metadata={'page_label': '2', 'file_name': '/share/data/fiches_seismes/IRSN_seisme_sumatra-11042012.pdf'}, excluded_embed_metadata_keys=[], excluded_llm_metadata_keys=[], relationships={<NodeRelationship.SOURCE: '1'>: RelatedNodeInfo(node_id='3be35826-3d5a-40ff-a466-cb3f06d18e8b', node_type=<ObjectType.DOCUMENT: '4'>, metadata={'page_label': '2', 'file_name': '/share/data/fiches_seismes/IRSN_seisme_sumatra-11042012.pdf'}, hash='12fd03999e822cbd424e127c59329d2b4f5645a234534088c1983e63fb7d7084'), <NodeRelationship.PREVIOUS: '2'>: RelatedNodeInfo(node_id='bfc21d0e-04ae-4fd1-a62e-1af21a413cd4', node_type=<ObjectType.TEXT: '1'>, metadata={'page_label': '1', 'file_name': '/share/data/fiches_seismes/IRSN_seisme_sumatra-11042012.pdf'}, hash='127662a5542d23df5f01ad6f19d938ba73fb923ecad8feb555b6d5745e6e4f4e'), <NodeRelationship.NEXT: '3'>: RelatedNodeInfo(node_id='7e668803-485c-4519-8867-a702e1c2ab07', node_type=<ObjectType.TEXT: '1'>, metadata={}, hash='d20975d669b6dc2142827b2a976ffaa4b75733b70b8fff2b182c588cf3a70ad5')}, text='I  N  F  O  R  M  A  T  I  O  N\\n2\\nContexte sismotectonique\\nL’île de Sumatra se situe à la frontière entre les plaques in do-australiennes au sud et celle de la Sonde au Nord. \\nCette frontière est très complexe dans le détail mais peut être résumée à grande éc helle par la subduction des \\nplaques indo-australiennes sous la plaque de la Sonde vers le nord-est. La vitesse  de convergence y est forte \\n(environ  7 cm/an). L’activité sismique et volcanique est très importante sur l’ensemble de l’archipel indonésien.\\nLa zone de Sumatra est affectée depuis le début des années 2000 par une série de séismes de subduction majeurs. \\nLe plus important d’entre eux est le séisme d’Aceh, en décembre 2004, qui a mobilisé plus de 1200 km de faille et engendré un tsunami meurtrier ayant causé la mort de plus de 230 000 personnes. Cette série de séismes consécutifs a eu pour conséquence de libérer l’énergie emma gasinée à cette frontière de plus de 3000 km de long. \\nDepuis 2004, une série de séismes significatifs s’est produit le long de cette ligne de subduction, dont le plus \\npuissant (28 mars 2005) a atteint une magnitude équivalente à celle des séismes du 11 avril 2012.\\nLes séismes du 11 avril 2012 se sont produits dans un contexte différent de celui de la subduction, puisqu’ils se sont \\nproduits à plusieurs centaines de kilomètres à l’ouest de la  zone de contact entre les plaques, au sein même de la \\nplaque océanique. Les mécanismes de déformation associés (décrochants) et leur profondeur (superficielle) sont \\négalement très différents. L’analyse des enregistrement si smiques indiquent que la rupture à l’origine des séismes \\nest une faille verticale ayant cassé l’épaisseur de la croû te océanique sur plusieurs centaines de kilomètres de \\nlongueur. Cette faille aurait une orientation NNE-SSW. Le déplacement essentiellement horizontal pourrait \\nexpliquer l’amplitude modérée du tsunami  qui a été généré par le choc principa l en dépit de sa forte magnitude. \\nSelon C. Vigny (ENS-Ulm), il s’agit du plus puissant séisme connu dans un cont exte décrochant. Il participerait au \\ndécouplage permettant la remontée plus rapide de la plaque Australienne par rapport à celle de la plaque Indienne, \\nelle-même ralentie ou bloquée par la collision himalayenne.\\nUn certain nombre de répliques de magnitude modérée (M~5 - 5,5) se sont déjà produites dans le secteur des deux \\nséismes majeurs du 11 avril. Suite à ces séismes, quelqu es évènements sont également survenus sur la « Ride 90°\\nEst » à 250 km plus à l’ouest. Dans ce dernier cas, on parle plutôt de séismes déclenchés que de répliques.\\n13 avril 2012Figure 2 : Localisation des deux chocs principaux (étoiles jaunes), des réplique s et des séismes induits sur la Ride 90°\\nEst ainsi que  celle du méga-séisme de 2004 (étoile bleue) . Le « ballon » bleu est un mécanisme au foyer caractéristique \\ndes failles en coulissage. Le tireté est un e représentation schématique de la faille  qui aurait rompu lors de ces séismes \\n(fond cartographique Google –Earth - Données USGS-CSEM-GFZ).\\n500 kmPlaque AustraliennePlaque Indienne\\nRide 90°Est\\nSUMATRAPlaque de la Sonde', start_char_idx=0, end_char_idx=3125, text_template='{metadata_str}\\n\\n{content}', metadata_template='{key}: {value}', metadata_seperator='\\n'), score=0.8175896288641022)], metadata={'d3f0cc7c-2532-4473-8e95-a8b6fef6a85f': {'page_label': '1', 'file_name': '/share/data/fiches_seismes/IRSN_seisme_sumatra-11042012.pdf'}, '5e71c1be-77c9-42c4-a155-6e85f0930ffe': {'page_label': '2', 'file_name': '/share/data/fiches_seismes/IRSN_seisme_sumatra-11042012.pdf'}}), Response(response=\"\\nThe context information provided does not mention the centrale nucléaire la plus proche of the earthquake in Sumatra, nor does it mention the distance between the centrale nucléaire and the earthquake's epicenter. However, it does mention that the centrale nucléaire la plus proche of the earthquake in Sumatra is located in Armenia, at a distance of approximately 480 km from the epicenter.\\n\\nRegarding the effects on the centrale nucléaire, the context information states that due to the distance and magnitude of the earthquake, no significant impact is expected on the site of the centrale nucléaire itself.\", source_nodes=[NodeWithScore(node=TextNode(id_='5e71c1be-77c9-42c4-a155-6e85f0930ffe', embedding=None, metadata={'page_label': '2', 'file_name': '/share/data/fiches_seismes/IRSN_seisme_sumatra-11042012.pdf'}, excluded_embed_metadata_keys=[], excluded_llm_metadata_keys=[], relationships={<NodeRelationship.SOURCE: '1'>: RelatedNodeInfo(node_id='3be35826-3d5a-40ff-a466-cb3f06d18e8b', node_type=<ObjectType.DOCUMENT: '4'>, metadata={'page_label': '2', 'file_name': '/share/data/fiches_seismes/IRSN_seisme_sumatra-11042012.pdf'}, hash='12fd03999e822cbd424e127c59329d2b4f5645a234534088c1983e63fb7d7084'), <NodeRelationship.PREVIOUS: '2'>: RelatedNodeInfo(node_id='bfc21d0e-04ae-4fd1-a62e-1af21a413cd4', node_type=<ObjectType.TEXT: '1'>, metadata={'page_label': '1', 'file_name': '/share/data/fiches_seismes/IRSN_seisme_sumatra-11042012.pdf'}, hash='127662a5542d23df5f01ad6f19d938ba73fb923ecad8feb555b6d5745e6e4f4e'), <NodeRelationship.NEXT: '3'>: RelatedNodeInfo(node_id='7e668803-485c-4519-8867-a702e1c2ab07', node_type=<ObjectType.TEXT: '1'>, metadata={}, hash='d20975d669b6dc2142827b2a976ffaa4b75733b70b8fff2b182c588cf3a70ad5')}, text='I  N  F  O  R  M  A  T  I  O  N\\n2\\nContexte sismotectonique\\nL’île de Sumatra se situe à la frontière entre les plaques in do-australiennes au sud et celle de la Sonde au Nord. \\nCette frontière est très complexe dans le détail mais peut être résumée à grande éc helle par la subduction des \\nplaques indo-australiennes sous la plaque de la Sonde vers le nord-est. La vitesse  de convergence y est forte \\n(environ  7 cm/an). L’activité sismique et volcanique est très importante sur l’ensemble de l’archipel indonésien.\\nLa zone de Sumatra est affectée depuis le début des années 2000 par une série de séismes de subduction majeurs. \\nLe plus important d’entre eux est le séisme d’Aceh, en décembre 2004, qui a mobilisé plus de 1200 km de faille et engendré un tsunami meurtrier ayant causé la mort de plus de 230 000 personnes. Cette série de séismes consécutifs a eu pour conséquence de libérer l’énergie emma gasinée à cette frontière de plus de 3000 km de long. \\nDepuis 2004, une série de séismes significatifs s’est produit le long de cette ligne de subduction, dont le plus \\npuissant (28 mars 2005) a atteint une magnitude équivalente à celle des séismes du 11 avril 2012.\\nLes séismes du 11 avril 2012 se sont produits dans un contexte différent de celui de la subduction, puisqu’ils se sont \\nproduits à plusieurs centaines de kilomètres à l’ouest de la  zone de contact entre les plaques, au sein même de la \\nplaque océanique. Les mécanismes de déformation associés (décrochants) et leur profondeur (superficielle) sont \\négalement très différents. L’analyse des enregistrement si smiques indiquent que la rupture à l’origine des séismes \\nest une faille verticale ayant cassé l’épaisseur de la croû te océanique sur plusieurs centaines de kilomètres de \\nlongueur. Cette faille aurait une orientation NNE-SSW. Le déplacement essentiellement horizontal pourrait \\nexpliquer l’amplitude modérée du tsunami  qui a été généré par le choc principa l en dépit de sa forte magnitude. \\nSelon C. Vigny (ENS-Ulm), il s’agit du plus puissant séisme connu dans un cont exte décrochant. Il participerait au \\ndécouplage permettant la remontée plus rapide de la plaque Australienne par rapport à celle de la plaque Indienne, \\nelle-même ralentie ou bloquée par la collision himalayenne.\\nUn certain nombre de répliques de magnitude modérée (M~5 - 5,5) se sont déjà produites dans le secteur des deux \\nséismes majeurs du 11 avril. Suite à ces séismes, quelqu es évènements sont également survenus sur la « Ride 90°\\nEst » à 250 km plus à l’ouest. Dans ce dernier cas, on parle plutôt de séismes déclenchés que de répliques.\\n13 avril 2012Figure 2 : Localisation des deux chocs principaux (étoiles jaunes), des réplique s et des séismes induits sur la Ride 90°\\nEst ainsi que  celle du méga-séisme de 2004 (étoile bleue) . Le « ballon » bleu est un mécanisme au foyer caractéristique \\ndes failles en coulissage. Le tireté est un e représentation schématique de la faille  qui aurait rompu lors de ces séismes \\n(fond cartographique Google –Earth - Données USGS-CSEM-GFZ).\\n500 kmPlaque AustraliennePlaque Indienne\\nRide 90°Est\\nSUMATRAPlaque de la Sonde', start_char_idx=0, end_char_idx=3125, text_template='{metadata_str}\\n\\n{content}', metadata_template='{key}: {value}', metadata_seperator='\\n'), score=0.8221396533574278), NodeWithScore(node=TextNode(id_='21161356-4548-461a-949e-5d467d220412', embedding=None, metadata={'page_label': '3', 'file_name': '/share/data/fiches_seismes/IRSN-Seisme-Elazig-Turquie-24012020.pdf'}, excluded_embed_metadata_keys=[], excluded_llm_metadata_keys=[], relationships={<NodeRelationship.SOURCE: '1'>: RelatedNodeInfo(node_id='e6c29718-6287-4fe6-a6f1-550389b255bc', node_type=<ObjectType.DOCUMENT: '4'>, metadata={'page_label': '3', 'file_name': '/share/data/fiches_seismes/IRSN-Seisme-Elazig-Turquie-24012020.pdf'}, hash='a460d559f8c05bed8e8eb55c0b04b42d40269640c3900d29e4cad826a621da46'), <NodeRelationship.PREVIOUS: '2'>: RelatedNodeInfo(node_id='f16e6bc9-bcc1-428b-862f-524c150a2eb9', node_type=<ObjectType.TEXT: '1'>, metadata={'page_label': '2', 'file_name': '/share/data/fiches_seismes/IRSN-Seisme-Elazig-Turquie-24012020.pdf'}, hash='6bca029b7050584f86fdc44b49b47c024d0c5cf3900628547b845b78a8ebea8e'), <NodeRelationship.NEXT: '3'>: RelatedNodeInfo(node_id='d91eb4ba-c968-4959-a3e3-937303ac593e', node_type=<ObjectType.TEXT: '1'>, metadata={}, hash='728508cd59db21839eec7a6ecc4bbf5cda4b77df7d86b9b177d1cfac8be50843')}, text='I  N  F  O  R  M  A  T  I  O  N  \\n29 janvier 2020  \\n  \\nConséquences  sur les installations nucléaires  \\nL’installation nucléaire la plus proche de l’épicentre (à environ 480 km) est située à Me tsamor en Arménie  (Figure \\n1). Elle comporte deux unités  VVER de puissance 400 MW mises en service en 1976 et 1980. Cette centrale a \\nproduit 400 MW en décembre 2019. La  centrale a été provisoirement arrêtée  suite au séisme de Spitak en 1988 . \\nCompte tenu de l’éloignement et de la magnitude du séisme, aucun effet significatif n’est redouté sur le site \\nmême de la centrale nucléaire.  \\nProjets de centrales nucléaires en Turquie  \\nEn Turquie deux projets de centrales nucléaires de production électrique sont en cours, l’un situé sur la côte de la \\nMer Noire dans la région de Sinop , l’autre sur le rivage de la Méditerranée , à 100 km au nord de Chypre sur le site \\nd’Akkuyu  (Figur e 1). Ces deux projets sont situés à plus de 500 km de l’épicentre du séisme du 24 janvier. Comme \\npour la centrale de Metsamor, on ne craint aucun impact significatif du séisme sur ces sites, compte tenu de la \\ndistance et de la magnitude.  \\nLe site d’ Akkuyu est situé dans la région de la ville de Mersin. Cette centrale est actuellement en construction  et \\ncomprendr a 4 réacteurs à eau pressurisée  (VVER) construit s par l’Agence fédérale russe de l’ énergie atomique \\n(ROSATOM) de 1200 MWe chacun. Le chantier a débuté  en 2015  ; le démarrage du premier réacteur est prévu en \\n2023 et les autres en 2025.  \\nUn autre projet était également prévu sur le  site de Sinop sera équipé de 4 réacteurs ATMEA (EUAS –compagnie \\nd’électricité turque - Mitsubishi, GDF Suez, Framatome ) de 1100 MWe. Ce site est localisé au nor d de la F aille \\nnord-anatolienne . Toutefois, le Ministre de l’Energie et des Ressources naturelles a annoncé le 28 octobre  2019 \\nque la Turquie ne poursuivrait pas le projet de construction d’une centrale nuclé aire à Si nop avec les Japonais , \\nporteurs du projet . En revanche, il a réaffirmé la volonté de la Turquie de poursuivre le projet avec d’autres \\npartenaires .  \\n \\n3', start_char_idx=4, end_char_idx=2096, text_template='{metadata_str}\\n\\n{content}', metadata_template='{key}: {value}', metadata_seperator='\\n'), score=0.8154871953292091)], metadata={'5e71c1be-77c9-42c4-a155-6e85f0930ffe': {'page_label': '2', 'file_name': '/share/data/fiches_seismes/IRSN_seisme_sumatra-11042012.pdf'}, '21161356-4548-461a-949e-5d467d220412': {'page_label': '3', 'file_name': '/share/data/fiches_seismes/IRSN-Seisme-Elazig-Turquie-24012020.pdf'}})], 'IRSN_seisme_turquie-23102011.pdf': [Response(response='\\nThe context information does not provide information on the specific effects of the Van earthquake in terms of damages to property and people. However, it does mention that the Van earthquake was a significant event in terms of its magnitude and location, and that it caused significant damage to the surrounding area. The context information also mentions that the Van earthquake was one of the strongest earthquakes to hit Turkey in recent years, and that it caused widespread destruction and loss of life.', source_nodes=[NodeWithScore(node=TextNode(id_='27457076-be14-495f-82c3-e4c564bd9ced', embedding=None, metadata={'page_label': '2', 'file_name': '/share/data/fiches_seismes/irsn_seisme_argeles_gazost_112006.pdf'}, excluded_embed_metadata_keys=[], excluded_llm_metadata_keys=[], relationships={<NodeRelationship.SOURCE: '1'>: RelatedNodeInfo(node_id='bf588429-49ff-42e2-a575-b3b4429bfeac', node_type=<ObjectType.DOCUMENT: '4'>, metadata={'page_label': '2', 'file_name': '/share/data/fiches_seismes/irsn_seisme_argeles_gazost_112006.pdf'}, hash='e06384907076f52a5594e5be17b85d2444934fb56394b59302f97180bae2d396'), <NodeRelationship.PREVIOUS: '2'>: RelatedNodeInfo(node_id='fc2da5e0-0bb9-42e9-948c-d7b3834f44ed', node_type=<ObjectType.TEXT: '1'>, metadata={'page_label': '1', 'file_name': '/share/data/fiches_seismes/irsn_seisme_argeles_gazost_112006.pdf'}, hash='8ffbda138c4f9d9bd0e8a403f366985bbd4b22859b8ba723b7806bbffe67fbfd'), <NodeRelationship.NEXT: '3'>: RelatedNodeInfo(node_id='7fc1734d-7be8-4bac-907d-61b7247cdaa9', node_type=<ObjectType.TEXT: '1'>, metadata={}, hash='251cbcf2326a50e71d800dc2ef53fbf5b8a53237a188239bd8679495c55442d9')}, text=\"Ce séisme a été fortement ressenti dans le département des Hautes-Pyrénées,\\nprincipalement dans le pays de Lourdes, mais aussi plus modérément dans les départements voisins \\ndes Pyrénées-Atlantiques et de Haute-Garonne. De légers dégâts ont été signalés dans les environs \\nde Lourdes (chutes de cheminées), tandis que de brèves coupures d’électricité ont aus si affecté\\ndes communes des Hautes-Pyrénées.Témoignages recueillis\\nBureau Central Sismologique Français (www.bcsf.prd.fr)\\nLe séisme du 17/11/2006 est localisé dans la  région de la Faille nord-pyrénéenne,\\nautour de laquelle se concentre la si smicité modérée et fréquente de la région. Cette région est la plus active \\nde la France métropolita ine. Les premiers travaux sur le séisme du 17/11/2006 montrent que le mouvement est \\nextensif sur une faille de direction E-W. Les résultat s confortent la connaissance actuelle des mécanismes à\\nl’origine de la sismicité régionale.\\nL’analyse des séismes historiques révèle que la région a déjà subi des séismes plus significatifs.\\nCeux-ci ont occasionné des dégâts importants sur le  bâti (intensité épicentrale supérieure à VII MSK).\\nLe plus fort de ces séismes historiques (21/6/1660) aurait eu une magnitude proche de 6.5.\\nSur la période récente pour laquelle des enregistrements sont disponibles, le séisme du 17/11/2006 apparaît \\ntoutefois d’importance significative. Ainsi, parmi les séismes enregistrés depuis plus de 40 ans dans un rayon de \\n30 km, celui du 17/11/2006 apparaît comme le deuxième le plus important en magnitude locale.\\nImpact sur les installations nucléaires\\nLa région concernée n’accueille aucune installation nucléaire.\\nLe site le plus proche, l’installation nucléaire EDF de  Golfech est située à 145 km. La secousse n’y a pas été\\nressentie. \\nLes caractéristiques du séisme soulignent qu’il est associé aux failles pyrénéen nes et qu’il n’est pas \\nreprésentatif de la zone de faible activité sismotectoni que (Bassin aquitain) où est localisée l’installation de \\nGolfech. \\nSelon l’Agence France Presse (19/11/2006), l’inspection par EDF de ses barrages hydro-électriques \\na permis de vérifier l’absence d’impact du séisme sur les ouvrages les plus proches de l’épicentre. Contexte sismotectonique\\nNomLongitude \\n(°E)Latitude (°N)Intensité \\népicentraleMagnitudeDistance à l'épicentre \\nCEA (km)\\n21/06/1660 Bagnères-de-B.\", start_char_idx=0, end_char_idx=2347, text_template='{metadata_str}\\n\\n{content}', metadata_template='{key}: {value}', metadata_seperator='\\n'), score=0.8038275863280777), NodeWithScore(node=TextNode(id_='a6292edf-9b3b-43df-a004-798b78fc9c7d', embedding=None, metadata={'page_label': '2', 'file_name': '/share/data/fiches_seismes/irsn_Seisme-Inde_012001.pdf'}, excluded_embed_metadata_keys=[], excluded_llm_metadata_keys=[], relationships={<NodeRelationship.SOURCE: '1'>: RelatedNodeInfo(node_id='ccad01a6-d05e-449d-a728-4a9a394901e3', node_type=<ObjectType.DOCUMENT: '4'>, metadata={'page_label': '2', 'file_name': '/share/data/fiches_seismes/irsn_Seisme-Inde_012001.pdf'}, hash='06f9ac61d831691a85ad42373b28635d26215b9b96c924df8067066924bef213'), <NodeRelationship.PREVIOUS: '2'>: RelatedNodeInfo(node_id='eae340ee-cb2f-4460-8284-95384c2915d1', node_type=<ObjectType.TEXT: '1'>, metadata={'page_label': '2', 'file_name': '/share/data/fiches_seismes/irsn_Seisme-Inde_012001.pdf'}, hash='b2930deedbf99273623d7a00336f4e47249156fc2fa95323f4c317efa650ad56'), <NodeRelationship.NEXT: '3'>: RelatedNodeInfo(node_id='89fc695a-0786-48c6-aa4d-a885e8fe117a', node_type=<ObjectType.TEXT: '1'>, metadata={}, hash='a0851ebd5be039b14c1e681f6f19eb15a4faf7c1b74aca31a16054eade683ed8')}, text='Annexe pages 4-5) m ontre que des séismes de forte magnitude peuvent se  \\nproduire loin des limites de plaques (170 à3000 km)  àl’intérieur même de zones réputées stables (boucl iers \\nanciens, chaînes de montagnes anciennes…). Elle ide ntifie une trentaine de séismes de ce type dans le monde, de \\nmagnitude supérieure à6,5, dont deux dans la pénins ule indienne : séisme de Koynaen 1967 et celui de K utchen \\n1819. \\nTout comme le séisme du 26 janvier 2001, le séisme de Kutch(1819) a eu lieu à175 kilomètres au sud de la \\nfrontière des plaques eurasienne et indienne qui do nne naissance àl’Himalaya . La faille activée lors de ce séisme \\navait atteint la surface produisant un escarpement d’une hauteur de 6 à9 mètres sur une longueur d’env iron 90 \\nkilomètres (le mur de dieu, «AllahBund»). \\nLe séisme de 1819 avait étésuivi de répliques resse nties par la population jusqu’àla fin novembre 1819 , soit cinq \\nmois après la secousse principale. Les dégâts avaie nt également étéconsidérables. \\nLe fait que des séismes puissent survenir dans des zones réputées calmes sismiquement (sismicité connue  très \\nfaible) a conduit à l’adoption d’un niveau sismique minimal à prendre en compte pour la conception des \\ninstallations nucléaires françaises .', start_char_idx=2309, end_char_idx=3557, text_template='{metadata_str}\\n\\n{content}', metadata_template='{key}: {value}', metadata_seperator='\\n'), score=0.7915436127182583)], metadata={'27457076-be14-495f-82c3-e4c564bd9ced': {'page_label': '2', 'file_name': '/share/data/fiches_seismes/irsn_seisme_argeles_gazost_112006.pdf'}, 'a6292edf-9b3b-43df-a004-798b78fc9c7d': {'page_label': '2', 'file_name': '/share/data/fiches_seismes/irsn_Seisme-Inde_012001.pdf'}}), Response(response='\\nThe context information does not provide information about a seismic event in Van, Turkey. Therefore, it is not possible to determine the location of the centrale nucléaire la plus proche du séisme de Van and the consequences on this centrale.', source_nodes=[NodeWithScore(node=TextNode(id_='21161356-4548-461a-949e-5d467d220412', embedding=None, metadata={'page_label': '3', 'file_name': '/share/data/fiches_seismes/IRSN-Seisme-Elazig-Turquie-24012020.pdf'}, excluded_embed_metadata_keys=[], excluded_llm_metadata_keys=[], relationships={<NodeRelationship.SOURCE: '1'>: RelatedNodeInfo(node_id='e6c29718-6287-4fe6-a6f1-550389b255bc', node_type=<ObjectType.DOCUMENT: '4'>, metadata={'page_label': '3', 'file_name': '/share/data/fiches_seismes/IRSN-Seisme-Elazig-Turquie-24012020.pdf'}, hash='a460d559f8c05bed8e8eb55c0b04b42d40269640c3900d29e4cad826a621da46'), <NodeRelationship.PREVIOUS: '2'>: RelatedNodeInfo(node_id='f16e6bc9-bcc1-428b-862f-524c150a2eb9', node_type=<ObjectType.TEXT: '1'>, metadata={'page_label': '2', 'file_name': '/share/data/fiches_seismes/IRSN-Seisme-Elazig-Turquie-24012020.pdf'}, hash='6bca029b7050584f86fdc44b49b47c024d0c5cf3900628547b845b78a8ebea8e'), <NodeRelationship.NEXT: '3'>: RelatedNodeInfo(node_id='d91eb4ba-c968-4959-a3e3-937303ac593e', node_type=<ObjectType.TEXT: '1'>, metadata={}, hash='728508cd59db21839eec7a6ecc4bbf5cda4b77df7d86b9b177d1cfac8be50843')}, text='I  N  F  O  R  M  A  T  I  O  N  \\n29 janvier 2020  \\n  \\nConséquences  sur les installations nucléaires  \\nL’installation nucléaire la plus proche de l’épicentre (à environ 480 km) est située à Me tsamor en Arménie  (Figure \\n1). Elle comporte deux unités  VVER de puissance 400 MW mises en service en 1976 et 1980. Cette centrale a \\nproduit 400 MW en décembre 2019. La  centrale a été provisoirement arrêtée  suite au séisme de Spitak en 1988 . \\nCompte tenu de l’éloignement et de la magnitude du séisme, aucun effet significatif n’est redouté sur le site \\nmême de la centrale nucléaire.  \\nProjets de centrales nucléaires en Turquie  \\nEn Turquie deux projets de centrales nucléaires de production électrique sont en cours, l’un situé sur la côte de la \\nMer Noire dans la région de Sinop , l’autre sur le rivage de la Méditerranée , à 100 km au nord de Chypre sur le site \\nd’Akkuyu  (Figur e 1). Ces deux projets sont situés à plus de 500 km de l’épicentre du séisme du 24 janvier. Comme \\npour la centrale de Metsamor, on ne craint aucun impact significatif du séisme sur ces sites, compte tenu de la \\ndistance et de la magnitude.  \\nLe site d’ Akkuyu est situé dans la région de la ville de Mersin. Cette centrale est actuellement en construction  et \\ncomprendr a 4 réacteurs à eau pressurisée  (VVER) construit s par l’Agence fédérale russe de l’ énergie atomique \\n(ROSATOM) de 1200 MWe chacun. Le chantier a débuté  en 2015  ; le démarrage du premier réacteur est prévu en \\n2023 et les autres en 2025.  \\nUn autre projet était également prévu sur le  site de Sinop sera équipé de 4 réacteurs ATMEA (EUAS –compagnie \\nd’électricité turque - Mitsubishi, GDF Suez, Framatome ) de 1100 MWe. Ce site est localisé au nor d de la F aille \\nnord-anatolienne . Toutefois, le Ministre de l’Energie et des Ressources naturelles a annoncé le 28 octobre  2019 \\nque la Turquie ne poursuivrait pas le projet de construction d’une centrale nuclé aire à Si nop avec les Japonais , \\nporteurs du projet . En revanche, il a réaffirmé la volonté de la Turquie de poursuivre le projet avec d’autres \\npartenaires .  \\n \\n3', start_char_idx=4, end_char_idx=2096, text_template='{metadata_str}\\n\\n{content}', metadata_template='{key}: {value}', metadata_seperator='\\n'), score=0.8444544343340195), NodeWithScore(node=TextNode(id_='4039a30e-e751-4b3a-b3eb-b41412d8bb06', embedding=None, metadata={'page_label': '5', 'file_name': '/share/data/fiches_seismes/Note-Information-Seisme-Teil-14112019.pdf'}, excluded_embed_metadata_keys=[], excluded_llm_metadata_keys=[], relationships={<NodeRelationship.SOURCE: '1'>: RelatedNodeInfo(node_id='33d1b94f-bfbf-4ec8-b4e4-799b6d0717bf', node_type=<ObjectType.DOCUMENT: '4'>, metadata={'page_label': '5', 'file_name': '/share/data/fiches_seismes/Note-Information-Seisme-Teil-14112019.pdf'}, hash='b55ef44e345ccd378b6dfb63415780049deb825e961369e24b11d4b0a199c20d'), <NodeRelationship.PREVIOUS: '2'>: RelatedNodeInfo(node_id='de4c0318-e9ec-4207-9e70-24cd0dc9066c', node_type=<ObjectType.TEXT: '1'>, metadata={'page_label': '4', 'file_name': '/share/data/fiches_seismes/Note-Information-Seisme-Teil-14112019.pdf'}, hash='62ff33a5a2fb94c12ac34a94d2e964e8468f029b69af9d587bfdac7bf77d3336'), <NodeRelationship.NEXT: '3'>: RelatedNodeInfo(node_id='34670cf4-d2e8-46e3-ba0c-0c41c742e9a2', node_type=<ObjectType.TEXT: '1'>, metadata={}, hash='d171bf2b16d7414938e1fdcf514f2a974233bebd88455b79b03df94a8dd42594')}, text='I  N  F  O  R  M  A  T  I  O  N  \\n5 14 novembre 2019  www.irsn.fr  Impact sur les installations nucléaires  \\n \\nTrois sites nucléaire s sont localisés dans un rayon de 50 km autour de l’épicentre. Le plus proche est celui de \\nla centrale nucléaire de Cruas. La distance à la zone de rupture la plus proche est d’environ 12 km. Compte \\ntenu de la magnitude et de la faible profondeur du séisme , l’atténuation du mouvement si smique est \\nimportante. Ainsi à 2 0 km, les stations sismiques des réseaux d’observation nationaux ont enregistrés des \\naccélérations de quelques millièmes de g (valeur de l’accélération de la pesanteur), en particulier de 0,006  g \\nà proximité de la centrale du Tricastin. A Cruas, les instruments installés sur le site ont enregistrés une \\naccélération maximale de 0,045  g en champ libre (une autre mesure réalisée dans les locaux de la centrale a \\nentrainé une procédure d’arrêt et de vérification des installations).  \\n \\nLes bâtiments et les équipements des centrales nucléaires françaises sont conçus pour résister à un certain \\nniveau de séisme caractérisé par un «  spectre de réponse  ». Un «spectre de réponse  » permet de déterminer \\nla sollicitation d’un bâtiment ou d’un équipement à différentes fréquences de vibrations produites par un \\nséisme. On associe souvent à un «  spectre de réponse  » l’accélération correspondant aux fréquences élevées \\nappelée «  valeur de calage  ». \\n \\nPour ce qui con cerne la centrale nucléaire de Cruas, le «  spectre de réponse  » en vigueur est celui utilisé pour \\nle troisième réexamen de sûreté des réacteurs. Il est calé à 0,26 g. Ce spectre a été utilisé pour la \\nréévaluation du comportement sismique de l’ensemble de l ’installation lors du troisième réexamen de sûreté. \\nIl convient de noter que pour la centrale nucléaire de Cruas des appuis parasismiques en élastomère ont été \\ninterposés lors de la construction entre les fondations et les principaux bâtiments.  \\nPour ce qui  concerne la centrale nucléaire du Tricastin, le «  spectre de réponse  » en vigueur est celui utilisé \\npour le troisième réexamen de sûreté des réacteurs. Il est calé à 0,285 g. Ce spectre a été utilisé pour la \\nréévaluation du comportement sismique de l’ense mble de l’installation lors du troisième réexamen de sûreté.  \\n \\nLa méthode utilisée pour déterminer ces «  spectres de réponse  » est définie dans une réglementation \\ntechnique spécifique (RFS 2001 -01). Celle -ci demande de définir des zones (dites zones sismote ctoniques) \\nconsidérées comme homogènes du point de vue de leur potentiel à générer des séismes, puis à recenser les \\nséismes les plus importants connus historiquement dans chacune de ces zones (sismicité instrumentale et \\nsismicité historique). La sollicitat ion sismique retenue (Séisme Maximum Historiquement Vraisemblable - \\nSMHV) est alors définie en supposant que les séismes identifiés peuvent se produire en n’importe quel point \\nde la zone sismotectonique à laquelle ils appartiennent. La RFS demande que, dan s la zone sismotectonique \\ndu site, le SMHV soit supposé se produire à l’aplomb du site. Le Séisme Majoré de Sécurité (SMS) est obtenu en \\naugmentant la magnitude des o ndes de surface (Ms) du SMHV de 0,5.', start_char_idx=4, end_char_idx=3213, text_template='{metadata_str}\\n\\n{content}', metadata_template='{key}: {value}', metadata_seperator='\\n'), score=0.8169645609217546)], metadata={'21161356-4548-461a-949e-5d467d220412': {'page_label': '3', 'file_name': '/share/data/fiches_seismes/IRSN-Seisme-Elazig-Turquie-24012020.pdf'}, '4039a30e-e751-4b3a-b3eb-b41412d8bb06': {'page_label': '5', 'file_name': '/share/data/fiches_seismes/Note-Information-Seisme-Teil-14112019.pdf'}})], 'IRSN_seisme_virginie-US-23082011.pdf': [Response(response='\\nThe earthquake of Virginia, USA occurred in the \"Central Virginia Seismic Zone\". This region is a complex geological area that is part of the Appalachian Mountains, which were formed over 350 million years ago. The \"Central Virginia Seismic Zone\" is a localized seismic area that has produced moderate to strong earthquakes since at least the 18th century. The most recent earthquake of magnitude 4.5 occurred in 2003, and the 2011 earthquake was of a higher magnitude, making it possible for the rupture to reach the surface. The USGS has estimated the magnitude of the 2011 earthquake to be 5.8 and its depth to be 6 km. The \"Central Virginia Seismic Zone\" is a region that has been difficult for geologists to associate with specific faults in the past, but the 2011 earthquake has provided new insights into the region\\'s geology.', source_nodes=[NodeWithScore(node=TextNode(id_='3d712917-0130-40b8-90d7-cd8f47baf398', embedding=None, metadata={'page_label': '2', 'file_name': '/share/data/fiches_seismes/IRSN_seisme_virginie-US-23082011.pdf'}, excluded_embed_metadata_keys=[], excluded_llm_metadata_keys=[], relationships={<NodeRelationship.SOURCE: '1'>: RelatedNodeInfo(node_id='871a357c-bcc7-4126-ab61-6f66f072143f', node_type=<ObjectType.DOCUMENT: '4'>, metadata={'page_label': '2', 'file_name': '/share/data/fiches_seismes/IRSN_seisme_virginie-US-23082011.pdf'}, hash='a718ceb70e0dbccee30d75ca87b4f68caddfb75942cb221cbd65a742d7a2100c'), <NodeRelationship.PREVIOUS: '2'>: RelatedNodeInfo(node_id='60094ac4-04ff-4a96-b500-cade7e6a8358', node_type=<ObjectType.TEXT: '1'>, metadata={'page_label': '1', 'file_name': '/share/data/fiches_seismes/IRSN_seisme_virginie-US-23082011.pdf'}, hash='f0017ff39965bc78b69e1f7aac4ee3b957e49249a88c795c29d428f3028c886f'), <NodeRelationship.NEXT: '3'>: RelatedNodeInfo(node_id='e78906e6-04f8-4087-aaed-f531a44b308e', node_type=<ObjectType.TEXT: '1'>, metadata={}, hash='d3766434f3328576f54f880e2f15800de4e22f581ddbc75b7d524376788e78fc')}, text='I  N  F  O  R  M  A  T  I  O  N\\n2\\nContexte sismotectonique\\nL’Est des Etats-Unis se situe en domaine dit intraplaque, c’est-à-dire loin des limites actives des plaques de la \\nc\\nroute terrestre sur lesquelles se concentre la majeure partie de la sismicité mondiale. Bien que les régions \\nconcernées soient moins actives, la sismicité n’y est pas négligeable et des séismes forts, bien que rares, \\npeuvent s’y produire. La région affectée par le fort séisme du 23 août 2011 appartient à une zone géologique \\ncomplexe, dont la structure est héritée de la formation de la chaîne de montagne appalachienne, il y a plus de \\n350 millions d’années.  Une sismicité très localisée affecte la région au Nord-Ouest de la ville de Richmond \\nappelée « Central Virginia Seismic Zone » (voir la carte d’aléa sismique en Figure 2). Elle a produit des \\ntremblements de terre modérés depuis au moins le XVIIIèmesiècle. L’événement le plus fort répertorié dans la \\nz\\none date de 1875, sa magnitude est estimée à 4,8. Plus récemment en 2003, un séisme de magnitude 4,5 avait \\nfrappé la région. Le séisme de 2011, localisé au Nord-Est de la zone, est donc d’un ordre de magnitude \\nsupérieur aux plus forts séismes connus dans cette zone.\\n25 Août 2011Jusqu’à présent, il a été difficile pour les géologues  \\na\\nméricains d’associer les séismes régionaux survenus dans le \\npassé à des failles existantes. Des hypothèses émises à la \\nsuite du séisme de 2003 attribuaient cette sismicité aux \\nfailles majeures héritées de l’orogenèse appalachienne qui \\ndécoupent la zone avec une orientation SO-NE (en \\nparticulier les failles de Lakeside et de Spotsylvania – Figure \\n3). L’analyse préliminaire du séisme du 23 août 2011 \\n(mouvement compressif sur une faille orientée SO-NE) est en \\naccord avec cette interprétation. \\nLa magnitude relativement forte du séisme et sa faible \\nprofondeur estimée (6 km) rend possible la propagation \\nd’une rupture jusqu’en surface. Une équipe de géologues est \\nd’ores et déjàsur le terrain pour rechercher de tels indices. \\nFigure 2 : Cartographie de l’aléa sismique émise par l’USGS et localisation du séisme du 23 août 2011 \\n(h ttp://pubs.usgs.gov/of/2006/1017/ )\\nSéisme M=5,8\\nSéisme M=5,8\\nFigure 3 : Cartographie des failles principales affectant  la \\n« Central Virginia Seismic Zone », localisation des séismes de \\n2003 et du séisme du 23 aout 2011 (source C.M. Bailey, 2004)\\n(h ttp://web.wm.edu/geology/virginia/whats new/QuakeSto ry.pdf)', start_char_idx=0, end_char_idx=2445, text_template='{metadata_str}\\n\\n{content}', metadata_template='{key}: {value}', metadata_seperator='\\n'), score=0.8617639099095242), NodeWithScore(node=TextNode(id_='60094ac4-04ff-4a96-b500-cade7e6a8358', embedding=None, metadata={'page_label': '1', 'file_name': '/share/data/fiches_seismes/IRSN_seisme_virginie-US-23082011.pdf'}, excluded_embed_metadata_keys=[], excluded_llm_metadata_keys=[], relationships={<NodeRelationship.SOURCE: '1'>: RelatedNodeInfo(node_id='12bc967c-0c33-4093-81c4-5dee61c8ac98', node_type=<ObjectType.DOCUMENT: '4'>, metadata={'page_label': '1', 'file_name': '/share/data/fiches_seismes/IRSN_seisme_virginie-US-23082011.pdf'}, hash='f0017ff39965bc78b69e1f7aac4ee3b957e49249a88c795c29d428f3028c886f'), <NodeRelationship.PREVIOUS: '2'>: RelatedNodeInfo(node_id='4edc34f0-7350-4377-885f-6aa48576ea2d', node_type=<ObjectType.TEXT: '1'>, metadata={'page_label': '4', 'file_name': '/share/data/fiches_seismes/IRSN-Seisme-Amatrice-Italie-240816_V1.pdf'}, hash='5d1bcef865cc920b38c4b713e5197cf5e858456fb73ad1e5b332e5cc68546c5c'), <NodeRelationship.NEXT: '3'>: RelatedNodeInfo(node_id='3d712917-0130-40b8-90d7-cd8f47baf398', node_type=<ObjectType.TEXT: '1'>, metadata={}, hash='93e61f81a1c75ff6f73a3230baf22a31bace0dc09e6e5658b995f1d669892d8c')}, text=\"Rappel des faits\\n/square4Mardi 23 août 2011, à 17h51 TU (13h51 heure locale), un fort séisme s’est produit au \\nvoisinage de la ville de Mineral (Etat de Virginie) aux Etats-Unis (37,93°Nord, \\n77,93°Ouest). La magnitude de ce séisme a été estimée à 5,8 et sa profondeur à 6 \\nkm par l’USGS (United States Geological Survey). \\n/square4La secousse a été très largement ressentie dans la partie Est des Etats-Unis et jusqu’à\\npratiquement 1000 km de distance de l’épicentre. Aucune victime et peu de dégâts \\nont été rapportés par les médias américains. Cependant, de nombreuses \\nadministrations ont été évacuées dans les grandes villes de la côte Est des Etats-Unis. \\nDe nombreux mouvements de foule ont également eu lieu, et de très importants \\nperturbations du trafic routier et ferroviaire et des communications téléphoniques se \\nsont produites. L’intensité maximale reportée dans la zone épicentrale est de VII \\n(très forte secousse et dégâts modérés - Source USGS).\\n/square4Le séisme s’est produit dans une région appelée « Central Virginia Seismic Zone »\\ndans laquelle aucun séisme aussi important n’avait été enregistré au cours de \\nl’histoire. Le plus fort événement recensé jusqu’alors s’était produit en 1875 ; sa \\nmagnitude est estimée à 4,8. Les données de sismicité instrumentale et les études \\ngéologiques n’avaient par ailleurs pas permis d’identifier de failles actives dans la \\nrégion. \\n/square4Le séisme du mardi 23 août 2011 est associé au fonctionnement en compression \\n(faille inverse), d’une faille superficielle orientée NE – SO et dont la longueur peut \\nêtre estimée entre 5 et 15 km à partir des relations reliant la magnitude d’un séisme \\net la longueur de la faille activée.\\n/square4Le séisme a provoqué l’arrêt automatique des deux réacteurs de la centrale \\nnucléaire de North Anna, située à environ 18 km de l’épicentre. Les générateurs de \\nsecours se sont mis en route suite à la perte des alimentations électriques externes. \\nAucune incidence sur la sûreté de la centrale n’a été rapportée (source NRC).Séisme de Virginie (Etats-Unis) \\nDu mardi 23 août 2011 (17h51 TU)\\nMagnitude = 5,8 (Mw)I  N  F  O  R  M  A  T  I  O  N\\nLe Bureau \\nd'évaluation \\ndes risques \\nsismiques pour \\nla sûreté des \\ninstallations \\n(BERSSIN) de l’IRSN \\neffectue\\ndes recherches \\net des expertises \\nsur l’aléa sismique \\nen tant que source \\nd’agression externe \\ndes installations \\nà risque\\n1FS 6\\nVersion 1 du 25 août 2011\\nwww.irsn.frCONTACT :\\nIRSN/BERSSIN\\nH\\n. Jomard\\n01 58 35 91 24\\nHervé.jomard@irsn.fr\\nFigure 1 : Localisation du séisme du 23 août 2011 et des sites nucléaires américains. \\nLes sites représentés en rouge correspondent à ceux  pour lesquels l’exploitant a \\ninformé la NRC de l’occurrence d’une secousse sismique (source Wall Street Journal)\\n(http://online.wsj.com/article/SB10001424053111903461 304576526642400085456.html )Séisme M=5,8\", start_char_idx=0, end_char_idx=2846, text_template='{metadata_str}\\n\\n{content}', metadata_template='{key}: {value}', metadata_seperator='\\n'), score=0.8552909270840469)], metadata={'3d712917-0130-40b8-90d7-cd8f47baf398': {'page_label': '2', 'file_name': '/share/data/fiches_seismes/IRSN_seisme_virginie-US-23082011.pdf'}, '60094ac4-04ff-4a96-b500-cade7e6a8358': {'page_label': '1', 'file_name': '/share/data/fiches_seismes/IRSN_seisme_virginie-US-23082011.pdf'}}), Response(response='\\nThe context information provided does not contain any information about the sismotectonic context of the East United States. However, it is known that the East United States is located in a region known as the Appalachian Seismic Belt, which is a region of high seismic activity. The Appalachian Seismic Belt is located in the eastern part of the United States and covers a large area from New England to the southern tip of Virginia. The region is characterized by a complex geology, with a variety of tectonic plates and faults that can cause earthquakes.\\n\\nThe sismic activity in the Appalachian Seismic Belt is not negligible, as the region has experienced several significant earthquakes in the past. For example, the 1980 New Madrid earthquakes were a series of powerful earthquakes that occurred in the central United States, including parts of the Appalachian Seismic Belt. These earthquakes caused widespread damage and loss of life, and were some of the most powerful earthquakes to hit the contiguous United States in the past 200 years.\\n\\nIn addition to the 1980 New Madrid earthquakes,', source_nodes=[NodeWithScore(node=TextNode(id_='09e5497f-51f8-489a-939d-148915ce0a80', embedding=None, metadata={'page_label': '3', 'file_name': '/share/data/fiches_seismes/IRSN-Seisme-Amatrice-Italie-240816_V1.pdf'}, excluded_embed_metadata_keys=[], excluded_llm_metadata_keys=[], relationships={<NodeRelationship.SOURCE: '1'>: RelatedNodeInfo(node_id='92ed0147-7ad6-4d35-ac8b-3a990558c99c', node_type=<ObjectType.DOCUMENT: '4'>, metadata={'page_label': '3', 'file_name': '/share/data/fiches_seismes/IRSN-Seisme-Amatrice-Italie-240816_V1.pdf'}, hash='f69f88c2dba8408f57549bacd29e66bda7653818fcf54c747df487cd0fcd2e9a'), <NodeRelationship.PREVIOUS: '2'>: RelatedNodeInfo(node_id='be82d5b1-8670-42bd-8c61-1cb78c3e4f47', node_type=<ObjectType.TEXT: '1'>, metadata={'page_label': '2', 'file_name': '/share/data/fiches_seismes/IRSN-Seisme-Amatrice-Italie-240816_V1.pdf'}, hash='469e28323fbfa7a06906b94258987a4138c4f0317644852d4d3384cc5043d58b'), <NodeRelationship.NEXT: '3'>: RelatedNodeInfo(node_id='0e2625ef-e48a-42d8-aeca-68ff26160372', node_type=<ObjectType.TEXT: '1'>, metadata={}, hash='b9c56788a16397846443487d522c3e1d032783e8694fd827d0066d94b9e2c9a7')}, text='3 I  N  F  O  R  M  A  T  I  O  N  \\nImpact sur les personnes et les bâtiments  \\nFigure  5 : Cartographie  du résultat  des enquêtes  macrosismiques  remplies  par les utilisateurs  \\nd’internet  (www .haisentitoilterremoto .it). Dans l’échelle  employée  (MCS),  les degrés  2 à 4 correspondent  \\nà des niveaux  pour lesquels  la secousse  est ressentie  par l’homme  et fait bouger  des objets . De 5 à 7, \\nles objets  chutent,  les édifices  perdent  leurs  tuiles,  cheminées,  etc. De 8 à 9, le séisme  est \\ndestructeur  pour 25 à 100% des bâtiments . Les localisations  des sites nucléaires  de Montalto  di \\nCastro,  Casaccia  et Latina  sont indiquées  sur la carte . \\nLa partie  centrale  des Apennins  est caractérisée  par une densité  de population  relativement  faible  (inférieure  à 100 \\nhabitants  par km carré) . Le tissu urbain  est composé  de petites  villes  d’origine  médiévale  caractérisées  par une \\nvulnérabilité  élevée .  \\nLe bilan des victimes  et des dégâts  produits  par le séisme  est à ce jourencore  provisoire . Le 26 août à 08h30, le \\nbilan humain  s’établissait  à 267 décès,  des centaines  de blessés  et plusieurs  centaines  de disparus  (Protezione  Civile  \\nItaliana ).  \\nPour ce qui concerne  les dégâts  occasionnés  aux bâtiments  et aux infrastructures,  les informations  disponibles  \\nrestent  encore  partielles  et sujettes  à caution  dans l’attente  des résultats  des missions  d’expert  et compte  tenu de \\nla priorité  accordée  aux secours . \\nSelon  la protection  civile  l’ampleur  des dégâts  est supérieure  à celle provoquée  par le séisme  de L’Aquila . Les villes  \\nd’Amatrice,  Accumoli  et Pescara  del Tronto  ont été en grande  partie  détruites  (La Repubblica,  25/08/2016 8h30). \\nToutes  les maisons  en pierre  et en maçonnerie  se sont écroulées . Les murs de remplissage  des maisons  en béton  ont \\néclaté  en provoquant  l’effondrement  des immeubles  (La Repubblica,  24/08/2016 citant  Fabrizio  Curcio  responsable  \\nde la protection  civile ). L’hôpital  de la ville d’Amatrice  a été fortement  endommagé  et a dû être fermé . \\nL’établissement  scolaire  de la ville,  dont une partie  avait fait l’objet  de renforcement  parasismique  en 2012, a subi \\nun effondrement  partiel  (La Repubblica,  24/08/2016). \\nLe séisme  a endommagé  plusieurs  viaducs  et a provoqué  des chutes  de blocs  sur les routes,  rendant  difficile  l’accès  \\nà certaines  zones . Dans un communiqué  de presse,  l’ENEL  (Ente Nazionale  per l’Energia  eLettrica ) a indiqué  que le \\nbarrage  du Scanderello , localisé  à proximité  d’Amatrice,  n’a pas subi de dégâts  ; néanmoins,  il reste  sous \\nsurveillance  renforcée  (Agenzia  Nazionale  Stampa  Associata  25/08/2016 19h40).', start_char_idx=0, end_char_idx=2744, text_template='{metadata_str}\\n\\n{content}', metadata_template='{key}: {value}', metadata_seperator='\\n'), score=0.70202903875435), NodeWithScore(node=TextNode(id_='34670cf4-d2e8-46e3-ba0c-0c41c742e9a2', embedding=None, metadata={'page_label': '5', 'file_name': '/share/data/fiches_seismes/Note-Information-Seisme-Teil-14112019.pdf'}, excluded_embed_metadata_keys=[], excluded_llm_metadata_keys=[], relationships={<NodeRelationship.SOURCE: '1'>: RelatedNodeInfo(node_id='33d1b94f-bfbf-4ec8-b4e4-799b6d0717bf', node_type=<ObjectType.DOCUMENT: '4'>, metadata={'page_label': '5', 'file_name': '/share/data/fiches_seismes/Note-Information-Seisme-Teil-14112019.pdf'}, hash='b55ef44e345ccd378b6dfb63415780049deb825e961369e24b11d4b0a199c20d'), <NodeRelationship.PREVIOUS: '2'>: RelatedNodeInfo(node_id='4039a30e-e751-4b3a-b3eb-b41412d8bb06', node_type=<ObjectType.TEXT: '1'>, metadata={'page_label': '5', 'file_name': '/share/data/fiches_seismes/Note-Information-Seisme-Teil-14112019.pdf'}, hash='52add008133dcb93b46b0ffede305b2f9443dbc1610cbccd1135a303cb76b167'), <NodeRelationship.NEXT: '3'>: RelatedNodeInfo(node_id='bd514e88-4bf9-42d3-9fd0-6a69d243e9dc', node_type=<ObjectType.TEXT: '1'>, metadata={}, hash='8be603ee8a257688a1ef2999d0605e47c24ed57afa752ed4f4d50b660c2ac788')}, text='La sollicitat ion sismique retenue (Séisme Maximum Historiquement Vraisemblable - \\nSMHV) est alors définie en supposant que les séismes identifiés peuvent se produire en n’importe quel point \\nde la zone sismotectonique à laquelle ils appartiennent. La RFS demande que, dan s la zone sismotectonique \\ndu site, le SMHV soit supposé se produire à l’aplomb du site. Le Séisme Majoré de Sécurité (SMS) est obtenu en \\naugmentant la magnitude des o ndes de surface (Ms) du SMHV de 0,5. De plus, la réglementation demande la \\nprise en compte  des indices de séismes plus anciens (paléoséismes).  \\n \\nL’aléa sismique défini selon cette démarche pour le troisième réexamen de sûreté des centrales nucléaires de \\nCruas et du Tricastin se fonde sur le séisme du 8 août 1873 pour définir un SMHV de magnitude  Ms de  4,7 à 4 \\nkm. Ceci conduit in fine à un SMS de  magnitude  Ms de 5,2 à 4 km de profondeur. EDF retient également le \\npaléoséisme de Courthézon comme un séisme de référence (magnitude 6,5 et distance épicentrale de 50 km \\npour Cruas et de 27 km pour Tricas tin).', start_char_idx=2735, end_char_idx=3798, text_template='{metadata_str}\\n\\n{content}', metadata_template='{key}: {value}', metadata_seperator='\\n'), score=0.6817649103996918)], metadata={'09e5497f-51f8-489a-939d-148915ce0a80': {'page_label': '3', 'file_name': '/share/data/fiches_seismes/IRSN-Seisme-Amatrice-Italie-240816_V1.pdf'}, '34670cf4-d2e8-46e3-ba0c-0c41c742e9a2': {'page_label': '5', 'file_name': '/share/data/fiches_seismes/Note-Information-Seisme-Teil-14112019.pdf'}})], 'irsn_Seisme-Afghanistan_032002.pdf': [Response(response='\\nThe earthquake in Afghanistan occurred on March 25, 2002, at 14h56 GMT (19h26 local time). The magnitude of the earthquake was estimated to be 5.8 by the Observatoire de Strasbourg, 6.0 by the Institut pakistanais de sismologie, and 6.1 by the USGS (United States Geological Survey).', source_nodes=[NodeWithScore(node=TextNode(id_='cf33be23-c8c1-42ed-8cd9-8c9b99c0dc31', embedding=None, metadata={'page_label': '1', 'file_name': '/share/data/fiches_seismes/irsn_Seisme-Afghanistan_032002.pdf'}, excluded_embed_metadata_keys=[], excluded_llm_metadata_keys=[], relationships={<NodeRelationship.SOURCE: '1'>: RelatedNodeInfo(node_id='06868796-63ce-4d48-8456-788c5aafe6e8', node_type=<ObjectType.DOCUMENT: '4'>, metadata={'page_label': '1', 'file_name': '/share/data/fiches_seismes/irsn_Seisme-Afghanistan_032002.pdf'}, hash='b889555511963b9e318b0473b679a113a5dc16bc99a61576e2975a1baf6b369e'), <NodeRelationship.PREVIOUS: '2'>: RelatedNodeInfo(node_id='0cfe9cde-6dd7-4841-a0d8-f6ed28867d84', node_type=<ObjectType.TEXT: '1'>, metadata={'page_label': '3', 'file_name': '/share/data/fiches_seismes/IRSN-Seisme-Norcia-Italie-301016_V1.pdf'}, hash='09ed2215588e4abd06ea76843257752c47732f5270d8e0dce18d40b37a34e858'), <NodeRelationship.NEXT: '3'>: RelatedNodeInfo(node_id='7e5ca0e3-65ac-417b-8983-9144a7c1b55b', node_type=<ObjectType.TEXT: '1'>, metadata={}, hash='ac1b65430f5322472e46321ca95ad7fdc34e98257d9a3b06e53d7ed2076917ec')}, text=\"Rappel des faits \\n•Un important séisme s’est produit le 25 mars 2002, à 14h56 GMT (19h26 heure \\nlocale) dans le nord de l’Afghanistan, dans la régi on de la chaîne de montagnes du \\nHindu Kush, à environ 160 km au nord de Kaboul. Le sé isme a ravagé la ville de \\nNahrin, dans la province du Baghdan, presque à mi-ch emin entre Kaboul et Mazar-\\ni-Sharif et à proximité de l’épicentre du séisme. \\n•Selon les informations disponibles à ce jour, il y aurait plus de 1800 morts, plus de \\n4000 blessés et quelques 20 000 personnes seraient sans-abri ; dans la ville de Nahrin, \\n4000 maisons seraient détruites, la vieille ville e n pisé et les quartiers neufs seraient \\négalement concernés par les destructions. \\n•La magnitude de ce séisme a été estimée à 5,8 par l’ Observatoire de Strasbourg, à 6 \\npar l’Institut pakistanais de sismologie, et à 6,1 p ar l’USGS (United States Geological \\nSurvey). Ce séisme a été suivi quelques heures plus tard par plusieurs répliques dont la \\nplus importante a atteint la magnitude 5 à 21h45 GMT . \\n•Les secousses du 25 mars se caractérisent par des profondeurs superficielles des \\nfoyers, de l’ordre d’une dizaine de kilomètres, à la  différence des principaux séismes \\nconnus dans cette région, dont les profondeurs des foyers ont atteint 330 km. \\n•Le séisme principal du 25 mars résulte de la ruptu re superficielle d’une faille \\nchevauchante orientée Nord-Sud qui traduit une comp ression locale (source USGS). A \\nce jour, les sismologues n’ont pas pu associer ce s éisme à une faille cartographiée. Séisme en Afghanistan \\ndu lundi 25 mars 2002 \\nMagnitude = 6 à 14h56 (GMT) I  N  F  O  R  M  A  T  I  O  N \\nLe Bureau \\nd'évaluation \\ndes risques \\nsismiques pour \\nla sûreté des \\ninstallations \\n(BERSSIN) de l’IRSN \\neffectue \\ndes recherches \\net des expertises \\nsur l’aléa sismique \\nen tant que source \\nd’agression externe \\ndes installations \\nà risque \\n1FS 6 \\n27 mars 2002 \\n27 mars 2002 www.irsn.org CONTACT : \\nIRSN/BERSSIN\", start_char_idx=0, end_char_idx=1952, text_template='{metadata_str}\\n\\n{content}', metadata_template='{key}: {value}', metadata_seperator='\\n'), score=0.7993902448745455), NodeWithScore(node=TextNode(id_='a486a841-3e19-4d09-99d1-2f3e03bc3c19', embedding=None, metadata={'page_label': '1', 'file_name': '/share/data/fiches_seismes/IRSN_seisme_turquie-23102011.pdf'}, excluded_embed_metadata_keys=[], excluded_llm_metadata_keys=[], relationships={<NodeRelationship.SOURCE: '1'>: RelatedNodeInfo(node_id='1f25f1dc-c67a-4c98-9dd9-51325676cdb7', node_type=<ObjectType.DOCUMENT: '4'>, metadata={'page_label': '1', 'file_name': '/share/data/fiches_seismes/IRSN_seisme_turquie-23102011.pdf'}, hash='07586e36e9558bad78fcda6d8ab428b97549f869150e1862331938e4a424b081'), <NodeRelationship.PREVIOUS: '2'>: RelatedNodeInfo(node_id='3442c7ca-3fcb-4eb2-8480-9f85a7eff8d1', node_type=<ObjectType.TEXT: '1'>, metadata={'page_label': '2', 'file_name': '/share/data/fiches_seismes/IRSN-Seisme-Civaux-09092013.pdf'}, hash='7eb8922f65c162ca4249c464c791f6b00f9df13d2c2dc25219efb759532f30bc'), <NodeRelationship.NEXT: '3'>: RelatedNodeInfo(node_id='5e3c702f-89e2-4f9b-9b42-182cdcf50f52', node_type=<ObjectType.TEXT: '1'>, metadata={}, hash='6512f50a20dbb97bd9b4f7754dab329a230de4acaf0224be53697a3eb985b63e')}, text=\"Rappel des faits\\n\\x83Dimanche 23 Octobre 2011 à 10h41 TU (13h41 en heure locale), un violent séisme \\nde magnitude* 7,2 s’est produit à faible profondeur (10 km), à proximité de la ville \\nde Van dans l’Est de la Turquie. Son épicentre est situé à 38,86° de latitude Nord et \\n43,48° de longitude Est (source EMSC) (Figure 1).\\n\\x83Ce séisme a provoqué l’effondrement de 2 262 bâtiments, principalement dans les villes de Van et Ercis. Le bilan provisoire humain s’élève à 366 morts et 1 301 blessés selon la presse turque. L’esti mation préliminaire de l’intensité** en \\nzone épicentrale est de VIII à IX (source USGS). \\n\\x836 fortes répliques de magnitudes comprise s entre 5 et 6 ont été enregistrées dans \\nl’heure qui a suivi la secousse principale.Séisme de Van (Turquie) \\ndu dimanche 23 octobre 2011 (10h41 TU)\\nMagnitude = 7,2I  N  F  O  R  M  A  T  I  O  N\\nLe Bureau \\nd'évaluation des risques \\nsismiques pour \\nla sûreté des installations \\n(BERSSIN) de l’IRSN \\neffectuedes recherches \\net des expertises \\nsur l’aléa sismique en tant que source \\nd’agression externe \\ndes installations à risque\\n1FS 6\\nVersion 1 du 25/10/2011\\nwww.irsn.frCONTACT :\\nIRSN/BERSSIN\\nStéphane Baize\\n01 58 35 93 50\\nstephane.baize@irsn.fr\\n25 octobre 2011\\n150 kmSéisme du \\n23/10/2011\\nIran\\nTurquie\\nArménie\\nCentrale de Medzamor\\nFigure 1: localisation du séisme du \\n23/10/2011 dans l’Est de la Turquie, au \\nNord de la ville de Van. L’épicentre se \\nsitue à 156 km  au Sud-Ouest de la \\ncentrale nucléaire la plus proche \\n(Medzamor, Arménie). L’interprétation \\ndes mouvements au foye r du séisme (telle \\nqu’effectuée par plusieurs instituts \\nsismologiques) est représentée \\nschématiquement sur la figure de droite.\\n* La magnitude correspond à l’énergie libérée par le séisme. Elle est \\ndéterminée à partir des mouvements de sol enregistrés par des sismomètres.\\n** L’intensité décrit les effets et les dégâts produits par le séisme\\n(échelle de I à XII).\", start_char_idx=0, end_char_idx=1908, text_template='{metadata_str}\\n\\n{content}', metadata_template='{key}: {value}', metadata_seperator='\\n'), score=0.7682171868363731)], metadata={'cf33be23-c8c1-42ed-8cd9-8c9b99c0dc31': {'page_label': '1', 'file_name': '/share/data/fiches_seismes/irsn_Seisme-Afghanistan_032002.pdf'}, 'a486a841-3e19-4d09-99d1-2f3e03bc3c19': {'page_label': '1', 'file_name': '/share/data/fiches_seismes/IRSN_seisme_turquie-23102011.pdf'}}), Response(response='\\nThe different estimations of the magnitude of the earthquake in Afghanistan are 5.8 by the Observatoire de Strasbourg, 6 by the Institut pakistanais de sismologie, and 6.1 by the USGS (United States Geological Survey).', source_nodes=[NodeWithScore(node=TextNode(id_='cf33be23-c8c1-42ed-8cd9-8c9b99c0dc31', embedding=None, metadata={'page_label': '1', 'file_name': '/share/data/fiches_seismes/irsn_Seisme-Afghanistan_032002.pdf'}, excluded_embed_metadata_keys=[], excluded_llm_metadata_keys=[], relationships={<NodeRelationship.SOURCE: '1'>: RelatedNodeInfo(node_id='06868796-63ce-4d48-8456-788c5aafe6e8', node_type=<ObjectType.DOCUMENT: '4'>, metadata={'page_label': '1', 'file_name': '/share/data/fiches_seismes/irsn_Seisme-Afghanistan_032002.pdf'}, hash='b889555511963b9e318b0473b679a113a5dc16bc99a61576e2975a1baf6b369e'), <NodeRelationship.PREVIOUS: '2'>: RelatedNodeInfo(node_id='0cfe9cde-6dd7-4841-a0d8-f6ed28867d84', node_type=<ObjectType.TEXT: '1'>, metadata={'page_label': '3', 'file_name': '/share/data/fiches_seismes/IRSN-Seisme-Norcia-Italie-301016_V1.pdf'}, hash='09ed2215588e4abd06ea76843257752c47732f5270d8e0dce18d40b37a34e858'), <NodeRelationship.NEXT: '3'>: RelatedNodeInfo(node_id='7e5ca0e3-65ac-417b-8983-9144a7c1b55b', node_type=<ObjectType.TEXT: '1'>, metadata={}, hash='ac1b65430f5322472e46321ca95ad7fdc34e98257d9a3b06e53d7ed2076917ec')}, text=\"Rappel des faits \\n•Un important séisme s’est produit le 25 mars 2002, à 14h56 GMT (19h26 heure \\nlocale) dans le nord de l’Afghanistan, dans la régi on de la chaîne de montagnes du \\nHindu Kush, à environ 160 km au nord de Kaboul. Le sé isme a ravagé la ville de \\nNahrin, dans la province du Baghdan, presque à mi-ch emin entre Kaboul et Mazar-\\ni-Sharif et à proximité de l’épicentre du séisme. \\n•Selon les informations disponibles à ce jour, il y aurait plus de 1800 morts, plus de \\n4000 blessés et quelques 20 000 personnes seraient sans-abri ; dans la ville de Nahrin, \\n4000 maisons seraient détruites, la vieille ville e n pisé et les quartiers neufs seraient \\négalement concernés par les destructions. \\n•La magnitude de ce séisme a été estimée à 5,8 par l’ Observatoire de Strasbourg, à 6 \\npar l’Institut pakistanais de sismologie, et à 6,1 p ar l’USGS (United States Geological \\nSurvey). Ce séisme a été suivi quelques heures plus tard par plusieurs répliques dont la \\nplus importante a atteint la magnitude 5 à 21h45 GMT . \\n•Les secousses du 25 mars se caractérisent par des profondeurs superficielles des \\nfoyers, de l’ordre d’une dizaine de kilomètres, à la  différence des principaux séismes \\nconnus dans cette région, dont les profondeurs des foyers ont atteint 330 km. \\n•Le séisme principal du 25 mars résulte de la ruptu re superficielle d’une faille \\nchevauchante orientée Nord-Sud qui traduit une comp ression locale (source USGS). A \\nce jour, les sismologues n’ont pas pu associer ce s éisme à une faille cartographiée. Séisme en Afghanistan \\ndu lundi 25 mars 2002 \\nMagnitude = 6 à 14h56 (GMT) I  N  F  O  R  M  A  T  I  O  N \\nLe Bureau \\nd'évaluation \\ndes risques \\nsismiques pour \\nla sûreté des \\ninstallations \\n(BERSSIN) de l’IRSN \\neffectue \\ndes recherches \\net des expertises \\nsur l’aléa sismique \\nen tant que source \\nd’agression externe \\ndes installations \\nà risque \\n1FS 6 \\n27 mars 2002 \\n27 mars 2002 www.irsn.org CONTACT : \\nIRSN/BERSSIN\", start_char_idx=0, end_char_idx=1952, text_template='{metadata_str}\\n\\n{content}', metadata_template='{key}: {value}', metadata_seperator='\\n'), score=0.8288447965346156), NodeWithScore(node=TextNode(id_='d8bd8751-c7eb-45a2-b153-c2612ebcb1e6', embedding=None, metadata={'page_label': '1', 'file_name': '/share/data/fiches_seismes/Note-Information-Seisme-Teil-14112019.pdf'}, excluded_embed_metadata_keys=[], excluded_llm_metadata_keys=[], relationships={<NodeRelationship.SOURCE: '1'>: RelatedNodeInfo(node_id='ae382b9e-85d5-4ee0-98cb-dee33ba2b660', node_type=<ObjectType.DOCUMENT: '4'>, metadata={'page_label': '1', 'file_name': '/share/data/fiches_seismes/Note-Information-Seisme-Teil-14112019.pdf'}, hash='1154d340f65dc7b5b54be4ba6c18cbbc30199f3d89692bd81ac0360f814001d2'), <NodeRelationship.PREVIOUS: '2'>: RelatedNodeInfo(node_id='fc2a0674-dca7-4af5-a728-14f2ae6e9585', node_type=<ObjectType.TEXT: '1'>, metadata={'page_label': '1', 'file_name': '/share/data/fiches_seismes/Note-Information-Seisme-Teil-14112019.pdf'}, hash='9e58ddd85f468563416b7bc906cde4ee4da18a83d613cc97ced1561da0716eda'), <NodeRelationship.NEXT: '3'>: RelatedNodeInfo(node_id='98913368-4e92-44be-bcf1-06aad5260d9f', node_type=<ObjectType.TEXT: '1'>, metadata={}, hash='c3958d593235a3e7227f5229da23e56ebf4aab3dec5af9b43ab99cac9b091939')}, text='Ces trois méthodes conduisen t généralement à des estimations de magnitude différentes pour un même séisme (voir par \\nexemple les valeurs pr oposées pour le séisme du Layon du 21/06/2019 . Les réseaux de surveillance sismique util isent des \\nmagnitudes locales (Ml - étalonnées différemment pour chaque réseau). En sismologie on utilise également la magnitude \\nde moment (Mw) qui est représentative de l’énergie émise par la source lors d’un séisme. L’échelle de magnitude utilisée \\npour év aluer le mouvement sismique pour une installation nucléaire est la magnitude des ondes de surface (Ms). Pour les \\nséismes historiques (séismes pour lesquels, seules les intensités macrosismiques sont disponibles) elle est calculée sur la \\nbase de corrélation s entre les magnitudes et les intensités. Ces corrélations ont été établies à partir de magnitudes Ms \\ndéduites de sismogrammes enregistrés pour des séismes récents et la répartition des intensités macrosismiques de ces \\nmêmes séismes.  Version  1.1 du 14/11/2019', start_char_idx=2529, end_char_idx=3542, text_template='{metadata_str}\\n\\n{content}', metadata_template='{key}: {value}', metadata_seperator='\\n'), score=0.8272692453288494)], metadata={'cf33be23-c8c1-42ed-8cd9-8c9b99c0dc31': {'page_label': '1', 'file_name': '/share/data/fiches_seismes/irsn_Seisme-Afghanistan_032002.pdf'}, 'd8bd8751-c7eb-45a2-b153-c2612ebcb1e6': {'page_label': '1', 'file_name': '/share/data/fiches_seismes/Note-Information-Seisme-Teil-14112019.pdf'}})], 'irsn_seisme-algerie_052003.pdf': [Response(response='\\nThe context information indicates that the Algeria is located in a region of convergent plate boundaries, which makes it a region with high seismic activity. The Algeria has experienced several destructive earthquakes in its history, including the 1715 earthquake in Alger, which resulted in 20,000 deaths, and the 1954 earthquake in Orléansville (EL Asnam), which had a magnitude of 6.7 and resulted in 1,200 deaths and the destruction of 20,000 buildings. However, no major earthquake had been reported in the region of the epicenter until the 21 May 2003 earthquake, which had an intensity of VIII, which is higher than any other region in Algeria.\\n\\nThe context information also mentions that the Algeria has only research nuclear reactors of low power, and the closest nuclear power plants are in Spain, which are 530 kilometers away from the epicenter of the 21 May 2003 earthquake. Therefore, it is not expected that the earthquake will have a notable effect on the nuclear power plants.\\n\\n', source_nodes=[NodeWithScore(node=TextNode(id_='ec142c0d-364a-456c-b457-eec323dfabb6', embedding=None, metadata={'page_label': '2', 'file_name': '/share/data/fiches_seismes/irsn_seisme-algerie_052003.pdf'}, excluded_embed_metadata_keys=[], excluded_llm_metadata_keys=[], relationships={<NodeRelationship.SOURCE: '1'>: RelatedNodeInfo(node_id='1ecfd685-f853-41b8-808c-7ee45fceb265', node_type=<ObjectType.DOCUMENT: '4'>, metadata={'page_label': '2', 'file_name': '/share/data/fiches_seismes/irsn_seisme-algerie_052003.pdf'}, hash='62f62b8652fd082128056850cbf8894c4bb0402e045fd964379e5b9bc6e9a7e8'), <NodeRelationship.PREVIOUS: '2'>: RelatedNodeInfo(node_id='c8e4b615-b268-4e90-8e54-091c816de303', node_type=<ObjectType.TEXT: '1'>, metadata={'page_label': '1', 'file_name': '/share/data/fiches_seismes/irsn_seisme-algerie_052003.pdf'}, hash='745988960a7ea853302b45a53c9168a4fd21cd2f482470f290daac7f78621fb2'), <NodeRelationship.NEXT: '3'>: RelatedNodeInfo(node_id='c2b051b6-f77e-42e9-ada1-0bcd2cec6793', node_type=<ObjectType.TEXT: '1'>, metadata={}, hash='a5838a0523fe77a162a58bc601dc0ddfbdba39b8cf66b93630729206620d1669')}, text=\"I  N  F  O  R  M  A  T  I  O  N \\n2\\nL’histoire sismique de l’Algérie \\nCompte tenu de sa localisation dans une zone de con vergence de plaques, l’Algérie est une région à fort e sismicité\\n(figure 2). Au cours de son histoire, elle a subi p lusieurs séismes destructeurs. Parmi les plus notab les, on peut \\nciter : 1715, séisme d’Alger, 20000 morts ; 1954 sé isme d’Orléansville (EL Asnam), magnitude 6,7, 1 200  morts, 20 \\n000 bâtiments détruits ; 1980 séisme d’El Asnam, ma gnitude 7,1, 2600 morts. \\nNéanmoins, aucun séisme majeur n’avait été répertori é jusqu'alors dans la région de l’épicentre. La figu re 3 \\nmontre que l’intensité maximale observée (évaluation  des dégâts dus aux séismes) y est faible au regard  d’autres \\nrégions de l’Algérie. En effet, dans cette région l ’intensité maximale observée ne dépasse pas V (voir légende de \\nla figure 3). Compte tenu de l’importance des destr uctions engendrées par le séisme du 21 mai 2003, l’ intensité\\nde cette secousse est a priori supérieure à VIII. Un e évaluation précise ne pourra être réalisée qu’apr ès enquête \\nsur le terrain. \\n22 mai 2003 \\nFigure 2 : Carte de la sismicité enregistrée en Algé rie depuis \\n1973 \\nFigure 3 : Carte des intensités maximales observées\", start_char_idx=0, end_char_idx=1226, text_template='{metadata_str}\\n\\n{content}', metadata_template='{key}: {value}', metadata_seperator='\\n'), score=0.8114368761195385), NodeWithScore(node=TextNode(id_='c2b051b6-f77e-42e9-ada1-0bcd2cec6793', embedding=None, metadata={'page_label': '3', 'file_name': '/share/data/fiches_seismes/irsn_seisme-algerie_052003.pdf'}, excluded_embed_metadata_keys=[], excluded_llm_metadata_keys=[], relationships={<NodeRelationship.SOURCE: '1'>: RelatedNodeInfo(node_id='980c694f-2958-480c-940c-d24fd8841a08', node_type=<ObjectType.DOCUMENT: '4'>, metadata={'page_label': '3', 'file_name': '/share/data/fiches_seismes/irsn_seisme-algerie_052003.pdf'}, hash='02ddf5b824ed11824dad7e239f27bb97f3863fa181bc7396861d0b20f413c70d'), <NodeRelationship.PREVIOUS: '2'>: RelatedNodeInfo(node_id='ec142c0d-364a-456c-b457-eec323dfabb6', node_type=<ObjectType.TEXT: '1'>, metadata={'page_label': '2', 'file_name': '/share/data/fiches_seismes/irsn_seisme-algerie_052003.pdf'}, hash='62f62b8652fd082128056850cbf8894c4bb0402e045fd964379e5b9bc6e9a7e8'), <NodeRelationship.NEXT: '3'>: RelatedNodeInfo(node_id='e9d0f049-88cf-4366-85d8-91fbfb13c7fe', node_type=<ObjectType.TEXT: '1'>, metadata={}, hash='20cd58a91241e46366d5db4054ce11093597d1c3e38154c925cc6f657780393a')}, text=\"I  N  F  O  R  M  A  T  I  O  N \\n3\\nLes installations nucléaires \\nL’Algérie ne dispose que de réacteurs nucléaires de  recherche de faible puissance. Les centrales nuclé aires les \\nplus proches se situent en Espagne (Vandellosà530 k m de l'épicentre). Compte tenu de la distance impor tante des \\ncentrales, aucun effet notable n’est attendu àla su ite du séisme du 21 mai 2003. \\n22 mai 2003 Conclusions \\n•Le séisme du 21 mai 2003, très important, s’est pro duit dans une zone où l’activité sismique était \\nconsidérée comme modérée par rapport à la sismicité d ’autres régions de l’Algérie. Au cours de ce \\nséisme, une faille importante de l’ordre de quelque s dizaines de kilomètres a été activée. Cette faille  \\nn’est pas cartographiée.  \\n•En France métropolitaine, les plus forts séismes re latés depuis mille ans ont une magnitude estimée \\ninférieure à 6,2. Néanmoins, les séismes analogues à celui du 21 mai 2003 pourraient se produire sur \\nquelques failles actives en France (Faille de la Du rance, Faille de Nîmes, Alsace, Pyrénées), la \\nréglementation relative aux installations nucléaire s retient ce type d’événement. \\nLes effets de site probables \\nLes localités de Rouïba et Boumerdès dans lesquelles  d’importants dégâts ont été relevés se situent sur des \\nterrains meubles (formations récentes peu compactée s). Ce type de formation géologique peut être à l’or igine \\nd’amplifications du mouvement du sol lors d’un séis me (effets de site) et par conséquent, en l’état ac tuel des \\ninformations disponibles, pourrait contribuer àexpl iquer l’importance des dégâts dans ces localités. \\nCe type d’effets, déjà identifiés lors de séismes ré cents (Kobé par exemple), est étudié par l’IRSN. Les études \\nmenées notamment en Californie, à Grenoble et dans l e Golfe de Corinthe (Grèce) consistent à instrumente r un \\nsite en profondeur et en surface de manière à compar er les réponses des différentes couches du sol sous  \\nsollicitations sismiques. (voir la fiche sur les re cherches menées par l’IRSN dans le domaine sismique ) \\nLa dernière version de la règle fondamentale de sûr eté relative à la prise en compte du risque sismique pour la \\nsûreté des installations nucléaires comprend des exi gences spécifiques concernant les effets de site.\", start_char_idx=0, end_char_idx=2252, text_template='{metadata_str}\\n\\n{content}', metadata_template='{key}: {value}', metadata_seperator='\\n'), score=0.7969659052553283)], metadata={'ec142c0d-364a-456c-b457-eec323dfabb6': {'page_label': '2', 'file_name': '/share/data/fiches_seismes/irsn_seisme-algerie_052003.pdf'}, 'c2b051b6-f77e-42e9-ada1-0bcd2cec6793': {'page_label': '3', 'file_name': '/share/data/fiches_seismes/irsn_seisme-algerie_052003.pdf'}}), Response(response='\\nThe context information indicates that the localities of Rouïba and Boumerdès in Algeria experienced significant damage during the 21 May 2003 earthquake. The damage was due to the activation of a large fault of about 100 kilometers in length, which was not previously mapped. The type of geological formation in these localities, which are characterized by recent, loose, and poorly compacted sedimentary layers, can amplify the effects of the earthquake on the soil. This type of effect is already known from previous earthquakes, such as the Kobe earthquake, and is being studied by the IRSN in France.', source_nodes=[NodeWithScore(node=TextNode(id_='c2b051b6-f77e-42e9-ada1-0bcd2cec6793', embedding=None, metadata={'page_label': '3', 'file_name': '/share/data/fiches_seismes/irsn_seisme-algerie_052003.pdf'}, excluded_embed_metadata_keys=[], excluded_llm_metadata_keys=[], relationships={<NodeRelationship.SOURCE: '1'>: RelatedNodeInfo(node_id='980c694f-2958-480c-940c-d24fd8841a08', node_type=<ObjectType.DOCUMENT: '4'>, metadata={'page_label': '3', 'file_name': '/share/data/fiches_seismes/irsn_seisme-algerie_052003.pdf'}, hash='02ddf5b824ed11824dad7e239f27bb97f3863fa181bc7396861d0b20f413c70d'), <NodeRelationship.PREVIOUS: '2'>: RelatedNodeInfo(node_id='ec142c0d-364a-456c-b457-eec323dfabb6', node_type=<ObjectType.TEXT: '1'>, metadata={'page_label': '2', 'file_name': '/share/data/fiches_seismes/irsn_seisme-algerie_052003.pdf'}, hash='62f62b8652fd082128056850cbf8894c4bb0402e045fd964379e5b9bc6e9a7e8'), <NodeRelationship.NEXT: '3'>: RelatedNodeInfo(node_id='e9d0f049-88cf-4366-85d8-91fbfb13c7fe', node_type=<ObjectType.TEXT: '1'>, metadata={}, hash='20cd58a91241e46366d5db4054ce11093597d1c3e38154c925cc6f657780393a')}, text=\"I  N  F  O  R  M  A  T  I  O  N \\n3\\nLes installations nucléaires \\nL’Algérie ne dispose que de réacteurs nucléaires de  recherche de faible puissance. Les centrales nuclé aires les \\nplus proches se situent en Espagne (Vandellosà530 k m de l'épicentre). Compte tenu de la distance impor tante des \\ncentrales, aucun effet notable n’est attendu àla su ite du séisme du 21 mai 2003. \\n22 mai 2003 Conclusions \\n•Le séisme du 21 mai 2003, très important, s’est pro duit dans une zone où l’activité sismique était \\nconsidérée comme modérée par rapport à la sismicité d ’autres régions de l’Algérie. Au cours de ce \\nséisme, une faille importante de l’ordre de quelque s dizaines de kilomètres a été activée. Cette faille  \\nn’est pas cartographiée.  \\n•En France métropolitaine, les plus forts séismes re latés depuis mille ans ont une magnitude estimée \\ninférieure à 6,2. Néanmoins, les séismes analogues à celui du 21 mai 2003 pourraient se produire sur \\nquelques failles actives en France (Faille de la Du rance, Faille de Nîmes, Alsace, Pyrénées), la \\nréglementation relative aux installations nucléaire s retient ce type d’événement. \\nLes effets de site probables \\nLes localités de Rouïba et Boumerdès dans lesquelles  d’importants dégâts ont été relevés se situent sur des \\nterrains meubles (formations récentes peu compactée s). Ce type de formation géologique peut être à l’or igine \\nd’amplifications du mouvement du sol lors d’un séis me (effets de site) et par conséquent, en l’état ac tuel des \\ninformations disponibles, pourrait contribuer àexpl iquer l’importance des dégâts dans ces localités. \\nCe type d’effets, déjà identifiés lors de séismes ré cents (Kobé par exemple), est étudié par l’IRSN. Les études \\nmenées notamment en Californie, à Grenoble et dans l e Golfe de Corinthe (Grèce) consistent à instrumente r un \\nsite en profondeur et en surface de manière à compar er les réponses des différentes couches du sol sous  \\nsollicitations sismiques. (voir la fiche sur les re cherches menées par l’IRSN dans le domaine sismique ) \\nLa dernière version de la règle fondamentale de sûr eté relative à la prise en compte du risque sismique pour la \\nsûreté des installations nucléaires comprend des exi gences spécifiques concernant les effets de site.\", start_char_idx=0, end_char_idx=2252, text_template='{metadata_str}\\n\\n{content}', metadata_template='{key}: {value}', metadata_seperator='\\n'), score=0.7185528506111808), NodeWithScore(node=TextNode(id_='09e5497f-51f8-489a-939d-148915ce0a80', embedding=None, metadata={'page_label': '3', 'file_name': '/share/data/fiches_seismes/IRSN-Seisme-Amatrice-Italie-240816_V1.pdf'}, excluded_embed_metadata_keys=[], excluded_llm_metadata_keys=[], relationships={<NodeRelationship.SOURCE: '1'>: RelatedNodeInfo(node_id='92ed0147-7ad6-4d35-ac8b-3a990558c99c', node_type=<ObjectType.DOCUMENT: '4'>, metadata={'page_label': '3', 'file_name': '/share/data/fiches_seismes/IRSN-Seisme-Amatrice-Italie-240816_V1.pdf'}, hash='f69f88c2dba8408f57549bacd29e66bda7653818fcf54c747df487cd0fcd2e9a'), <NodeRelationship.PREVIOUS: '2'>: RelatedNodeInfo(node_id='be82d5b1-8670-42bd-8c61-1cb78c3e4f47', node_type=<ObjectType.TEXT: '1'>, metadata={'page_label': '2', 'file_name': '/share/data/fiches_seismes/IRSN-Seisme-Amatrice-Italie-240816_V1.pdf'}, hash='469e28323fbfa7a06906b94258987a4138c4f0317644852d4d3384cc5043d58b'), <NodeRelationship.NEXT: '3'>: RelatedNodeInfo(node_id='0e2625ef-e48a-42d8-aeca-68ff26160372', node_type=<ObjectType.TEXT: '1'>, metadata={}, hash='b9c56788a16397846443487d522c3e1d032783e8694fd827d0066d94b9e2c9a7')}, text='3 I  N  F  O  R  M  A  T  I  O  N  \\nImpact sur les personnes et les bâtiments  \\nFigure  5 : Cartographie  du résultat  des enquêtes  macrosismiques  remplies  par les utilisateurs  \\nd’internet  (www .haisentitoilterremoto .it). Dans l’échelle  employée  (MCS),  les degrés  2 à 4 correspondent  \\nà des niveaux  pour lesquels  la secousse  est ressentie  par l’homme  et fait bouger  des objets . De 5 à 7, \\nles objets  chutent,  les édifices  perdent  leurs  tuiles,  cheminées,  etc. De 8 à 9, le séisme  est \\ndestructeur  pour 25 à 100% des bâtiments . Les localisations  des sites nucléaires  de Montalto  di \\nCastro,  Casaccia  et Latina  sont indiquées  sur la carte . \\nLa partie  centrale  des Apennins  est caractérisée  par une densité  de population  relativement  faible  (inférieure  à 100 \\nhabitants  par km carré) . Le tissu urbain  est composé  de petites  villes  d’origine  médiévale  caractérisées  par une \\nvulnérabilité  élevée .  \\nLe bilan des victimes  et des dégâts  produits  par le séisme  est à ce jourencore  provisoire . Le 26 août à 08h30, le \\nbilan humain  s’établissait  à 267 décès,  des centaines  de blessés  et plusieurs  centaines  de disparus  (Protezione  Civile  \\nItaliana ).  \\nPour ce qui concerne  les dégâts  occasionnés  aux bâtiments  et aux infrastructures,  les informations  disponibles  \\nrestent  encore  partielles  et sujettes  à caution  dans l’attente  des résultats  des missions  d’expert  et compte  tenu de \\nla priorité  accordée  aux secours . \\nSelon  la protection  civile  l’ampleur  des dégâts  est supérieure  à celle provoquée  par le séisme  de L’Aquila . Les villes  \\nd’Amatrice,  Accumoli  et Pescara  del Tronto  ont été en grande  partie  détruites  (La Repubblica,  25/08/2016 8h30). \\nToutes  les maisons  en pierre  et en maçonnerie  se sont écroulées . Les murs de remplissage  des maisons  en béton  ont \\néclaté  en provoquant  l’effondrement  des immeubles  (La Repubblica,  24/08/2016 citant  Fabrizio  Curcio  responsable  \\nde la protection  civile ). L’hôpital  de la ville d’Amatrice  a été fortement  endommagé  et a dû être fermé . \\nL’établissement  scolaire  de la ville,  dont une partie  avait fait l’objet  de renforcement  parasismique  en 2012, a subi \\nun effondrement  partiel  (La Repubblica,  24/08/2016). \\nLe séisme  a endommagé  plusieurs  viaducs  et a provoqué  des chutes  de blocs  sur les routes,  rendant  difficile  l’accès  \\nà certaines  zones . Dans un communiqué  de presse,  l’ENEL  (Ente Nazionale  per l’Energia  eLettrica ) a indiqué  que le \\nbarrage  du Scanderello , localisé  à proximité  d’Amatrice,  n’a pas subi de dégâts  ; néanmoins,  il reste  sous \\nsurveillance  renforcée  (Agenzia  Nazionale  Stampa  Associata  25/08/2016 19h40).', start_char_idx=0, end_char_idx=2744, text_template='{metadata_str}\\n\\n{content}', metadata_template='{key}: {value}', metadata_seperator='\\n'), score=0.717332539019567)], metadata={'c2b051b6-f77e-42e9-ada1-0bcd2cec6793': {'page_label': '3', 'file_name': '/share/data/fiches_seismes/irsn_seisme-algerie_052003.pdf'}, '09e5497f-51f8-489a-939d-148915ce0a80': {'page_label': '3', 'file_name': '/share/data/fiches_seismes/IRSN-Seisme-Amatrice-Italie-240816_V1.pdf'}})], 'irsn_Seisme-Allemagne_122004.pdf': [Response(response='\\nThe proximity of the Fribourg earthquake to the Fessenheim nuclear power plant is 120 km.', source_nodes=[NodeWithScore(node=TextNode(id_='c2b051b6-f77e-42e9-ada1-0bcd2cec6793', embedding=None, metadata={'page_label': '3', 'file_name': '/share/data/fiches_seismes/irsn_seisme-algerie_052003.pdf'}, excluded_embed_metadata_keys=[], excluded_llm_metadata_keys=[], relationships={<NodeRelationship.SOURCE: '1'>: RelatedNodeInfo(node_id='980c694f-2958-480c-940c-d24fd8841a08', node_type=<ObjectType.DOCUMENT: '4'>, metadata={'page_label': '3', 'file_name': '/share/data/fiches_seismes/irsn_seisme-algerie_052003.pdf'}, hash='02ddf5b824ed11824dad7e239f27bb97f3863fa181bc7396861d0b20f413c70d'), <NodeRelationship.PREVIOUS: '2'>: RelatedNodeInfo(node_id='ec142c0d-364a-456c-b457-eec323dfabb6', node_type=<ObjectType.TEXT: '1'>, metadata={'page_label': '2', 'file_name': '/share/data/fiches_seismes/irsn_seisme-algerie_052003.pdf'}, hash='62f62b8652fd082128056850cbf8894c4bb0402e045fd964379e5b9bc6e9a7e8'), <NodeRelationship.NEXT: '3'>: RelatedNodeInfo(node_id='e9d0f049-88cf-4366-85d8-91fbfb13c7fe', node_type=<ObjectType.TEXT: '1'>, metadata={}, hash='20cd58a91241e46366d5db4054ce11093597d1c3e38154c925cc6f657780393a')}, text=\"I  N  F  O  R  M  A  T  I  O  N \\n3\\nLes installations nucléaires \\nL’Algérie ne dispose que de réacteurs nucléaires de  recherche de faible puissance. Les centrales nuclé aires les \\nplus proches se situent en Espagne (Vandellosà530 k m de l'épicentre). Compte tenu de la distance impor tante des \\ncentrales, aucun effet notable n’est attendu àla su ite du séisme du 21 mai 2003. \\n22 mai 2003 Conclusions \\n•Le séisme du 21 mai 2003, très important, s’est pro duit dans une zone où l’activité sismique était \\nconsidérée comme modérée par rapport à la sismicité d ’autres régions de l’Algérie. Au cours de ce \\nséisme, une faille importante de l’ordre de quelque s dizaines de kilomètres a été activée. Cette faille  \\nn’est pas cartographiée.  \\n•En France métropolitaine, les plus forts séismes re latés depuis mille ans ont une magnitude estimée \\ninférieure à 6,2. Néanmoins, les séismes analogues à celui du 21 mai 2003 pourraient se produire sur \\nquelques failles actives en France (Faille de la Du rance, Faille de Nîmes, Alsace, Pyrénées), la \\nréglementation relative aux installations nucléaire s retient ce type d’événement. \\nLes effets de site probables \\nLes localités de Rouïba et Boumerdès dans lesquelles  d’importants dégâts ont été relevés se situent sur des \\nterrains meubles (formations récentes peu compactée s). Ce type de formation géologique peut être à l’or igine \\nd’amplifications du mouvement du sol lors d’un séis me (effets de site) et par conséquent, en l’état ac tuel des \\ninformations disponibles, pourrait contribuer àexpl iquer l’importance des dégâts dans ces localités. \\nCe type d’effets, déjà identifiés lors de séismes ré cents (Kobé par exemple), est étudié par l’IRSN. Les études \\nmenées notamment en Californie, à Grenoble et dans l e Golfe de Corinthe (Grèce) consistent à instrumente r un \\nsite en profondeur et en surface de manière à compar er les réponses des différentes couches du sol sous  \\nsollicitations sismiques. (voir la fiche sur les re cherches menées par l’IRSN dans le domaine sismique ) \\nLa dernière version de la règle fondamentale de sûr eté relative à la prise en compte du risque sismique pour la \\nsûreté des installations nucléaires comprend des exi gences spécifiques concernant les effets de site.\", start_char_idx=0, end_char_idx=2252, text_template='{metadata_str}\\n\\n{content}', metadata_template='{key}: {value}', metadata_seperator='\\n'), score=0.7651347712009569), NodeWithScore(node=TextNode(id_='7f6ae2e5-38bd-4247-ac58-8831511dbf21', embedding=None, metadata={'page_label': '2', 'file_name': '/share/data/fiches_seismes/irsn_Seisme-Besancon_022004.pdf'}, excluded_embed_metadata_keys=[], excluded_llm_metadata_keys=[], relationships={<NodeRelationship.SOURCE: '1'>: RelatedNodeInfo(node_id='48447827-a14a-41af-882f-4c021b969dc2', node_type=<ObjectType.DOCUMENT: '4'>, metadata={'page_label': '2', 'file_name': '/share/data/fiches_seismes/irsn_Seisme-Besancon_022004.pdf'}, hash='e1a7681d3904722838a590fb4a09de8e7c8e5b235b7625551ba778e96d9e91ad'), <NodeRelationship.PREVIOUS: '2'>: RelatedNodeInfo(node_id='89fc695a-0786-48c6-aa4d-a885e8fe117a', node_type=<ObjectType.TEXT: '1'>, metadata={'page_label': '1', 'file_name': '/share/data/fiches_seismes/irsn_Seisme-Besancon_022004.pdf'}, hash='66e8dd74a4c5f8a6db658edd7a3598a1f550d2a1a63ac0855a01fcab4a6364b1'), <NodeRelationship.NEXT: '3'>: RelatedNodeInfo(node_id='4988fee4-7748-4b40-b1b0-d4b1fd6c5d6a', node_type=<ObjectType.TEXT: '1'>, metadata={}, hash='5bfbcfcbb8d58cbc196352dc1a90c20326dc30cf6d7c4d77af0b3033a684c230')}, text=\"I  N  F  O  R  M  A  T  I  O  N \\n2\\nLe contexte tectonique \\nLe séisme du 23 février 2004 s'inscrit dans un cont exte de faible déformation liée au mouvement de la plaque \\nAfricaine. En effet, la remontée vers le Nord de l' Afrique vers l'Eurasie, à la vitesse d'environ 1cm/a n, provoque \\ndes déformations qui sont absorbées, d'une part par  la création de chaînes montagneuses (Alpes, Maghre b), d'autre \\npart, dans une moindre mesure, par la sismicité.\\nLes séismes les plus forts qui se sont produits dan s un rayon de 100 km autour de l’épicentre du séism e du 23 \\nfévrier 2004 sont les séismes de Bâle (1356) et de Remiremont (1682). Leurs intensités à l’épicentre on t été\\nrespectivement estimées à IX et VIII sur l’échelle M SK qui comporte 12 échelons. La magnitude du séisme  de Bâle a \\nété estimée autour de 6 pour une profondeur d’enviro n 10 km. La magnitude du séisme de 1682 a été estimé e à\\n5,9 pour une profondeur de 10-15 km. \\n24 février 2004 Les installations nucléaires de base concernées par le séisme \\nLa région nord-est de la France comporte plusieurs installations nucléaires de base (figure 2). Le cen tre de Valduc \\n(CEA) et la centrale nucléaire de Fessenheim (EDF) sont les installations les plus proches de l’épicent re \\n(respectivement 110 et 120 km). \\nD’après les exploitants de ces installations, le sé isme n’a été ressenti par le personnel qu’à Fessenhei m, mais le \\nseuil de déclenchement des accéléromètres qui équip ent ce site n’a pas été atteint. \\nConformément à la procédure, l’exploitant de la cent rale nucléaire a cependant appliqué la consigne de c onduite \\nincidentelle qui prescrit notamment de vérifier : \\n- le bon fonctionnement du système d’acquisition des  mesures des vibrations dues au séisme ; \\n- le bon fonctionnement des tranches, en particulier  l’absence de vibrations anormales des machines tou rnantes \\ntels que les pompes du circuit primaire et les grou pes turboalternateurs ; \\n- l’état de la digue du grand canal d’Alsace (recher che de fuites et surveillance des niveaux d’eau du canal.) \\nAu cours de ces vérifications, les exploitants n’on t pas constaté d'anomalie. Figure 2 : Position de l’épicentre du séisme\", start_char_idx=0, end_char_idx=2172, text_template='{metadata_str}\\n\\n{content}', metadata_template='{key}: {value}', metadata_seperator='\\n'), score=0.7560764108648397)], metadata={'c2b051b6-f77e-42e9-ada1-0bcd2cec6793': {'page_label': '3', 'file_name': '/share/data/fiches_seismes/irsn_seisme-algerie_052003.pdf'}, '7f6ae2e5-38bd-4247-ac58-8831511dbf21': {'page_label': '2', 'file_name': '/share/data/fiches_seismes/irsn_Seisme-Besancon_022004.pdf'}}), Response(response='\\nThe distance between the epicenter of the earthquake in Fribourg and the nuclear power plants in Leipstadt and Beznau is approximately 60 kilometers.', source_nodes=[NodeWithScore(node=TextNode(id_='c2b051b6-f77e-42e9-ada1-0bcd2cec6793', embedding=None, metadata={'page_label': '3', 'file_name': '/share/data/fiches_seismes/irsn_seisme-algerie_052003.pdf'}, excluded_embed_metadata_keys=[], excluded_llm_metadata_keys=[], relationships={<NodeRelationship.SOURCE: '1'>: RelatedNodeInfo(node_id='980c694f-2958-480c-940c-d24fd8841a08', node_type=<ObjectType.DOCUMENT: '4'>, metadata={'page_label': '3', 'file_name': '/share/data/fiches_seismes/irsn_seisme-algerie_052003.pdf'}, hash='02ddf5b824ed11824dad7e239f27bb97f3863fa181bc7396861d0b20f413c70d'), <NodeRelationship.PREVIOUS: '2'>: RelatedNodeInfo(node_id='ec142c0d-364a-456c-b457-eec323dfabb6', node_type=<ObjectType.TEXT: '1'>, metadata={'page_label': '2', 'file_name': '/share/data/fiches_seismes/irsn_seisme-algerie_052003.pdf'}, hash='62f62b8652fd082128056850cbf8894c4bb0402e045fd964379e5b9bc6e9a7e8'), <NodeRelationship.NEXT: '3'>: RelatedNodeInfo(node_id='e9d0f049-88cf-4366-85d8-91fbfb13c7fe', node_type=<ObjectType.TEXT: '1'>, metadata={}, hash='20cd58a91241e46366d5db4054ce11093597d1c3e38154c925cc6f657780393a')}, text=\"I  N  F  O  R  M  A  T  I  O  N \\n3\\nLes installations nucléaires \\nL’Algérie ne dispose que de réacteurs nucléaires de  recherche de faible puissance. Les centrales nuclé aires les \\nplus proches se situent en Espagne (Vandellosà530 k m de l'épicentre). Compte tenu de la distance impor tante des \\ncentrales, aucun effet notable n’est attendu àla su ite du séisme du 21 mai 2003. \\n22 mai 2003 Conclusions \\n•Le séisme du 21 mai 2003, très important, s’est pro duit dans une zone où l’activité sismique était \\nconsidérée comme modérée par rapport à la sismicité d ’autres régions de l’Algérie. Au cours de ce \\nséisme, une faille importante de l’ordre de quelque s dizaines de kilomètres a été activée. Cette faille  \\nn’est pas cartographiée.  \\n•En France métropolitaine, les plus forts séismes re latés depuis mille ans ont une magnitude estimée \\ninférieure à 6,2. Néanmoins, les séismes analogues à celui du 21 mai 2003 pourraient se produire sur \\nquelques failles actives en France (Faille de la Du rance, Faille de Nîmes, Alsace, Pyrénées), la \\nréglementation relative aux installations nucléaire s retient ce type d’événement. \\nLes effets de site probables \\nLes localités de Rouïba et Boumerdès dans lesquelles  d’importants dégâts ont été relevés se situent sur des \\nterrains meubles (formations récentes peu compactée s). Ce type de formation géologique peut être à l’or igine \\nd’amplifications du mouvement du sol lors d’un séis me (effets de site) et par conséquent, en l’état ac tuel des \\ninformations disponibles, pourrait contribuer àexpl iquer l’importance des dégâts dans ces localités. \\nCe type d’effets, déjà identifiés lors de séismes ré cents (Kobé par exemple), est étudié par l’IRSN. Les études \\nmenées notamment en Californie, à Grenoble et dans l e Golfe de Corinthe (Grèce) consistent à instrumente r un \\nsite en profondeur et en surface de manière à compar er les réponses des différentes couches du sol sous  \\nsollicitations sismiques. (voir la fiche sur les re cherches menées par l’IRSN dans le domaine sismique ) \\nLa dernière version de la règle fondamentale de sûr eté relative à la prise en compte du risque sismique pour la \\nsûreté des installations nucléaires comprend des exi gences spécifiques concernant les effets de site.\", start_char_idx=0, end_char_idx=2252, text_template='{metadata_str}\\n\\n{content}', metadata_template='{key}: {value}', metadata_seperator='\\n'), score=0.786914371839699), NodeWithScore(node=TextNode(id_='72ce68a4-a287-4379-a93d-318360a7eb86', embedding=None, metadata={'page_label': '2', 'file_name': '/share/data/fiches_seismes/irsn_Seisme-Allemagne_122004.pdf'}, excluded_embed_metadata_keys=[], excluded_llm_metadata_keys=[], relationships={<NodeRelationship.SOURCE: '1'>: RelatedNodeInfo(node_id='75dc8e9c-357d-47e7-ac6e-f763fa76c6a0', node_type=<ObjectType.DOCUMENT: '4'>, metadata={'page_label': '2', 'file_name': '/share/data/fiches_seismes/irsn_Seisme-Allemagne_122004.pdf'}, hash='7167754d9f3db1af2c866d878b329b8a914896309362ed9aa8fef58a2e97e140'), <NodeRelationship.PREVIOUS: '2'>: RelatedNodeInfo(node_id='8e89f1ac-244b-4804-8ffb-d30c09ff088e', node_type=<ObjectType.TEXT: '1'>, metadata={'page_label': '1', 'file_name': '/share/data/fiches_seismes/irsn_Seisme-Allemagne_122004.pdf'}, hash='fe0242c62e2f9650bc71181d20972114d5b5a3c9869a975f154f1e715868da02'), <NodeRelationship.NEXT: '3'>: RelatedNodeInfo(node_id='26d98103-eed5-4a56-b76b-731321064e30', node_type=<ObjectType.TEXT: '1'>, metadata={}, hash='c05375ca7f266bbbdd4b950586b2ca2de773d3c67dedf649b63c183b807d7027')}, text=\"Figure 2 : Position de l'épicentre du séisme du 05/ 12/2004 (étoile). La sismicité instrumentale (1962-2 000 Catalogue CEA/LDG) \\nest représentée par les cercles et la sismicité hist orique (couvrant une période d’environ mille ans - S ISFRANCE) est \\nreprésentée par des carrés. Les accélérations maxim ales enregistrées par les stations du RAP sont indi quées dans les \\nétiquettes (valeurs en g) I  N  F  O  R  M  A  T  I  O  N \\n7 décembre 2004 2\\nLes séismes les plus forts qui se sont produits dan s un rayon de 100 km autour de l’épicentre du séism e du 05 \\ndécembre 2004 sont les séismes de Bâle (1356) et de  Remiremont (1682) dont les intensités épicentrales  ont été\\nestimées à IX et VIII, respectivement. La magnitude macrosismique du séisme de Bâle a été estimée à envir on 6 \\npour une profondeur de l’ordre de 10 km. La magnitu de macrosismique du séisme de 1682 a été estimée ent re 5,8 \\npour une profondeur de 13 km. \\nLa région nord-est de la France comporte plusieurs installations nucléaires de base. L'épicentre du sé isme se \\ntrouve à une quarantaine de kilomètres de la central e de Fessenheim (figure 2). Les centrales nucléaire s suisses de \\nLeipstadt et Beznau sont situées à environ 60 km de l ’épicentre. La figure 2 indique également la positi on des \\nstations du RAP (Réseau Accélérométrique Permanent) et l’accélération enregistrée (en g) lors du séisme  du 5 \\ndécembre 2004. Toutes les stations ayant des condit ions de sol similaires à celles de la centrale de Fe ssenheim ont \\nenregistré des accélérations au-dessus de 0,01 g pou r des distances épicentrales supérieures à celle de la centrale. \\nComme pour le séisme de Saint-Dié du 23 février 2003 , aucun détecteur sismique équipant cette centrale n’a \\ndéclenché bien qu’ils soient réglés au seuil de 0,01  g. La raison de cette absence de déclenchement est  connue \\n(référence Notes Techniques IRSN/DEI/SARG 03-09 et 03-31 suite au séisme de St Dié du 22 février 2003) : \\nl’instrument installé en champ libre sur le site de Fessenheim est asservi au système de détection comp osé\\nd’accélérographes placés dans les bâtiments. Ces bâ timents filtrent vraisemblablement le mouvement sis mique : \\nl’amplitude de ce mouvement « filtré » serait donc inf érieure au seuil de déclenchement. L’IRSN/BERSSIN n ote \\nque ce système de détection ne permet pas d’enregis trer le mouvement sismique ressenti au niveau de \\nl’installation nucléaire et donc de le comparer ave c les valeurs enregistrées par le réseau accéléromé trique \\nnational. L’enregistrement de tels mouvements sismi ques, même modérés, contribuerait à l’amélioration d e \\nl’évaluation de l’aléa sismique (problématique des effets de site, étude dynamique des structures à par tir de \\ndonnées représentatives du site).\", start_char_idx=0, end_char_idx=2752, text_template='{metadata_str}\\n\\n{content}', metadata_template='{key}: {value}', metadata_seperator='\\n'), score=0.7849710166278362)], metadata={'c2b051b6-f77e-42e9-ada1-0bcd2cec6793': {'page_label': '3', 'file_name': '/share/data/fiches_seismes/irsn_seisme-algerie_052003.pdf'}, '72ce68a4-a287-4379-a93d-318360a7eb86': {'page_label': '2', 'file_name': '/share/data/fiches_seismes/irsn_Seisme-Allemagne_122004.pdf'}})], 'irsn_Seisme-Besancon_022004.pdf': [Response(response='\\nThe earthquake of Besançon occurred on February 23, 2004, at 18h31 local time. Its magnitude was 5.1 on the Richter scale (IRSN measurement).', source_nodes=[NodeWithScore(node=TextNode(id_='89fc695a-0786-48c6-aa4d-a885e8fe117a', embedding=None, metadata={'page_label': '1', 'file_name': '/share/data/fiches_seismes/irsn_Seisme-Besancon_022004.pdf'}, excluded_embed_metadata_keys=[], excluded_llm_metadata_keys=[], relationships={<NodeRelationship.SOURCE: '1'>: RelatedNodeInfo(node_id='458d6fe0-997f-4e3a-8610-d551035bfe89', node_type=<ObjectType.DOCUMENT: '4'>, metadata={'page_label': '1', 'file_name': '/share/data/fiches_seismes/irsn_Seisme-Besancon_022004.pdf'}, hash='45f6d3df25f74bb47f925e3951f7ba67488c42864ccf98ea4ab8335c8070f02d'), <NodeRelationship.PREVIOUS: '2'>: RelatedNodeInfo(node_id='a6292edf-9b3b-43df-a004-798b78fc9c7d', node_type=<ObjectType.TEXT: '1'>, metadata={'page_label': '2', 'file_name': '/share/data/fiches_seismes/irsn_Seisme-Inde_012001.pdf'}, hash='0472891055dd8ca13cb4066919bd1c9b6e4a8b1b3b35b540ecbb4db60d9cf706'), <NodeRelationship.NEXT: '3'>: RelatedNodeInfo(node_id='7f6ae2e5-38bd-4247-ac58-8831511dbf21', node_type=<ObjectType.TEXT: '1'>, metadata={}, hash='bebdac4f4802567fb1b2a119658fa566478a8dfc237aa7356628cfbd38b9f72f')}, text=\"Rappel des faits \\n/square4Lundi 23 février 2004, à18h31 heure locale, un séis me de magnitude Mwde 5,1 \\nsur l’échelle de Richter (mesure IRSN) s’est produi t dans l’Est de la France, àune \\nvingtaine de kilomètres au nord-est de Besançon. D’ après le Réseau National de \\nSurveillance Sismique (RéNaSS), l’épicentre du séis me se situe àune latitude de \\n47,29° Nord et à une longitude de 6,27° Est (cf. figur es 1 et 2). Le foyer du \\nséisme se situerait àune profondeur de 10 km. Les p remières analyses de l’IRSN \\nmontrent que la portion de la faille activée lors d u séisme est de l’ordre du \\nkilomètre. Ces valeurs seront affinées dans les pro chaines semaines .\\n• Le séisme a été ressenti sur une grande partie de l ’Est de la France, en Suisse et au \\nSud-Ouest de l’Allemagne. Séisme de Besançon \\ndu lundi 23 février 2004 \\nMagnitude = 5,1 à 17h31 (TU) I  N  F  O  R  M  A  T  I  O  N \\nLe Bureau \\nd'évaluation \\ndes risques \\nsismiques pour \\nla sûreté des \\ninstallations \\n(BERSSIN) de l’IRSN \\neffectue \\ndes recherches \\net des expertises \\nsur l’aléa sismique \\nen tant que source \\nd’agression externe \\ndes installations \\nà risque \\n1FS 6 \\n24 février 2004 \\n24 février 2004 www.irsn.org CONTACT : \\nIRSN/BERSSIN \\nFigure 1 : Sismicité du Bassin méditerranéen\", start_char_idx=0, end_char_idx=1251, text_template='{metadata_str}\\n\\n{content}', metadata_template='{key}: {value}', metadata_seperator='\\n'), score=0.8061713115488298), NodeWithScore(node=TextNode(id_='a5c78511-dada-433f-b087-73263e35d00c', embedding=None, metadata={'page_label': '1', 'file_name': '/share/data/fiches_seismes/IRSN_seisme-Manosque_V1-12072010.pdf'}, excluded_embed_metadata_keys=[], excluded_llm_metadata_keys=[], relationships={<NodeRelationship.SOURCE: '1'>: RelatedNodeInfo(node_id='21d3007b-ae74-48d4-b03e-7acca07a02c1', node_type=<ObjectType.DOCUMENT: '4'>, metadata={'page_label': '1', 'file_name': '/share/data/fiches_seismes/IRSN_seisme-Manosque_V1-12072010.pdf'}, hash='e6ab4147b99d703d9162efc8ee18020d8ab42c7fd232bb8f3f58a9901b26fbcd'), <NodeRelationship.PREVIOUS: '2'>: RelatedNodeInfo(node_id='d91eb4ba-c968-4959-a3e3-937303ac593e', node_type=<ObjectType.TEXT: '1'>, metadata={'page_label': '4', 'file_name': '/share/data/fiches_seismes/IRSN-Seisme-Elazig-Turquie-24012020.pdf'}, hash='b44a08a884a8f0df9719affb83da97c0d3ccb7d37fee8c129c254ff655d4858b'), <NodeRelationship.NEXT: '3'>: RelatedNodeInfo(node_id='c463f41b-b599-4b70-bd8a-5060c1d34ed3', node_type=<ObjectType.TEXT: '1'>, metadata={}, hash='4d9fc3f67eb7ff392529c23c6ca258ff4290b1ee37cfdefb23dadbc9085449ab')}, text=\"Rappel des faits\\n\\x83Jeudi 8 juillet 2010, à 20h20 TU (22h20 heure locale), un séisme de faible \\nmagnitude s’est produit au voisinage immé diat de Manosque (2-3 km) : Ml = 3,0 à\\n43°50’ Nord et 5°50’ Est selon le CEA/LDG, Ml=2,9 à 43,810°Nord et 5,8°Est selon le RENASS. Le séisme s’est très vraisemblablement produit à faible profondeur.\\n\\x83La secousse, qui n’a pas fait de dégâts, a été fortement ressentie par la population àManosque et Pierrevert (et dans une moindre mesure à Sainte-Tulle, Volx, Corbières et Villeneuve), mais ne semble ne pas av oir été ressentie de manière significative \\nau-delà d’une distance de quelques kilo mètres de l’épicentre (Oraison, Mane, \\nSainte-Maime).\\n\\x83La Ville de Manosque a connu deux épisodes  sismiques remarquables dans le passé, \\nl’un en 1509 et l’autre en 1708. Ces deux événements ont provoqué des dégâts importants aux constructions et sont recensés dans la base de sismicité historique \\n(www.sisfrance.net\\n) avec une intensité de VIII à Manosque. L’intensité correspond à\\nune évaluation de l’importance de la seco usse en un lieu donné en termes d’effets \\n(perception, effets sur les objets et/o u dommages aux constructions). La magnitude \\nde ces séismes est actuellement évaluée autour de 5.\\n\\x83Le séisme du jeudi 8 juillet 2010 est associé au fonctionnement de la « Faille de la Moyenne Durance » (FMD) et traduit l’activi té régulière mais faible de celle-ci. \\nSouvent non perçus par la population, ses séismes sont généralement de faible \\nmagnitude.Séisme à Manosque \\n(Alpes de Haute-Provence) \\ndu jeudi 8 juillet 2010 (20h20 TU)\\nMagnitude = 3,0 (Ml)I  N  F  O  R  M  A  T  I  O  N\\nLe Bureau \\nd'évaluation des risques \\nsismiques pour \\nla sûreté des installations \\n(BERSSIN) de l’IRSN \\neffectuedes recherches \\net des expertises \\nsur l’aléa sismique en tant que source \\nd’agression externe \\ndes installations à risque\\n1FS 6\\nVersion 1 du 12 juillet 2010\\nwww.irsn.frCONTACT :\\nIRSN/BERSSIN\\nDavid Baumont\\nMarc Cushing\\n01 58 35 91 24\\ndavid.baumont@irsn.fr\\nedward.cushing@irsn.fr\\nFigure 1 : Localisation du séisme du 8 juillet 2010 (étoile)\\n12 juillet 2010\", start_char_idx=0, end_char_idx=2093, text_template='{metadata_str}\\n\\n{content}', metadata_template='{key}: {value}', metadata_seperator='\\n'), score=0.7972553115259635)], metadata={'89fc695a-0786-48c6-aa4d-a885e8fe117a': {'page_label': '1', 'file_name': '/share/data/fiches_seismes/irsn_Seisme-Besancon_022004.pdf'}, 'a5c78511-dada-433f-b087-73263e35d00c': {'page_label': '1', 'file_name': '/share/data/fiches_seismes/IRSN_seisme-Manosque_V1-12072010.pdf'}})], 'IRSN_seisme-haiti_130110.pdf': [Response(response=\"\\nThe epicenter of the earthquake in Haiti was located at a latitude of 18.45° North and a longitude of 72.45° West. The notable effects of the earthquake included the collapse of several important buildings, such as hospitals and administrative buildings, and the registration of a magnitude 5.9 replica. The earthquake was relatively shallow, with a depth of 10 km, and occurred very close to the capital, which contributed to the severity of the damage. The earthquake was felt by the population over a large area, up to several hundred kilometers away from the epicenter, including in the Dominican Republic and Cuba. The earthquake occurred in a region where the risk of seismic activity is high, as determined by the Bureau d'évaluation des risques sismiques pour la sûreté des installations (BERSSIN) of the IRSN.\", source_nodes=[NodeWithScore(node=TextNode(id_='10ac4937-a1a3-451f-b610-f6778babbfdb', embedding=None, metadata={'page_label': '1', 'file_name': '/share/data/fiches_seismes/IRSN_seisme-haiti_130110.pdf'}, excluded_embed_metadata_keys=[], excluded_llm_metadata_keys=[], relationships={<NodeRelationship.SOURCE: '1'>: RelatedNodeInfo(node_id='62fca3fe-ed9a-4a4f-8202-f54e6bddf2e7', node_type=<ObjectType.DOCUMENT: '4'>, metadata={'page_label': '1', 'file_name': '/share/data/fiches_seismes/IRSN_seisme-haiti_130110.pdf'}, hash='e4841716bd7d1f0e7fd6ba6fee399fdc57cae6308b4f2b7fc07fab964b82f73b'), <NodeRelationship.PREVIOUS: '2'>: RelatedNodeInfo(node_id='3d886162-d3b4-482a-8981-9de2f37a5ce7', node_type=<ObjectType.TEXT: '1'>, metadata={'page_label': '3', 'file_name': '/share/data/fiches_seismes/irsn_seisme_chinon_11_2006.pdf'}, hash='b2496ff0f6b64c9b3dcfd63b20db4b22b4ec0aa6b68f29c8b7ebf88f58398114'), <NodeRelationship.NEXT: '3'>: RelatedNodeInfo(node_id='c62ffbc6-0f39-4cc0-b1b1-64ff61c478ab', node_type=<ObjectType.TEXT: '1'>, metadata={}, hash='c8071a19f9579b8e2e36e607145fa0e6852262809e41641959e09e7d519b7a54')}, text=\"Rappel des faits \\n/square4Mardi 12 Janvier 2010, à 21h53 TU (16h53 heure local e), un séisme de \\nmagnitude importante (MW7,0 – source USGS) s’est produit à proximité de la vil le \\nde Port-au-Prince (Haïti) dans l’arc des Caraïbes ( Figure 1). Son épicentre est \\nsitué à une latitude de 18,45° Nord et à une longitude de 72,45° Ouest. La \\nréplique la plus importante enregistrée est de magn itude 5,9 (USGS). \\n/square4Aucun bilan n’est disponible pour le moment. Il est  cependant fait état de très \\nimportants dégâts subits par les réseaux de communi cation et de nombreuses \\nvictimes ou disparus, l’information circulant diffi cilement du fait des coupures de \\ncommunication. En particulier, l’effondrement de pl usieurs édifices importants, tels \\nque des hôpitaux et des bâtiments administratifs, a  été signalé. \\n/square4Le séisme s’est produit à une profondeur relativemen t faible (10 km selon l’USGS) et \\ntrès proche de la capitale (15 km), expliquant en g rande partie l’ampleur des \\ndégâts. \\n/square4L’événement sismique a été très largement ressenti p ar la population dans un rayon \\nde plusieurs centaines de kilomètres (jusqu’à la Jam aïque, la République \\ndominicaine et Cuba). \\n/square4Ce séisme s’est produit dans une zone où l’aléa sism ique est élevé (Calais, 2007). Séisme d’Haïti \\n(Caraïbes) \\ndu mardi 12 janvier 2010 \\nMagnitude = 7,0 à 21h53 (TU) I  N  F  O  R  M  A  T  I  O  N \\nLe Bureau \\nd'évaluation \\ndes risques \\nsismiques pour \\nla sûreté des \\ninstallations \\n(BERSSIN) de l’IRSN \\neffectue \\ndes recherches \\net des expertises \\nsur l’aléa sismique \\nen tant que source \\nd’agression externe \\ndes installations \\nà risque \\n1FS 6 \\nFigure 1 : Localisation des \\népicentres des séismes récents \\n(1960-aujourd’hui; étoile: séisme \\ndu 12 janvier 2010), les couleurs \\nindiquent la profondeur des \\nséismes de l’orange (séismes \\nsuperficiels) au bleu (séismes \\nprofonds - source USGS). Version 1 du 13 janvier 2010 \\n13 janvier 2010 www.irsn.fr CONTACT : \\nIRSN/BERSSIN \\nEdward Cushing/Hervé\\nJomard \\n01 58 35 76 65 \\n01 58 35 73 78 \\nEdward.cushing@irsn.fr \\nherve.jomard@irsn.fr \\nFigure 2 : Principaux \\nséismes historiques \\nayant affecté l’ile \\nd’Hispaniola (source \\nCalais, 2004).\", start_char_idx=0, end_char_idx=2185, text_template='{metadata_str}\\n\\n{content}', metadata_template='{key}: {value}', metadata_seperator='\\n'), score=0.7779368917416247), NodeWithScore(node=TextNode(id_='7fc1734d-7be8-4bac-907d-61b7247cdaa9', embedding=None, metadata={'page_label': '2', 'file_name': '/share/data/fiches_seismes/irsn_seisme_argeles_gazost_112006.pdf'}, excluded_embed_metadata_keys=[], excluded_llm_metadata_keys=[], relationships={<NodeRelationship.SOURCE: '1'>: RelatedNodeInfo(node_id='bf588429-49ff-42e2-a575-b3b4429bfeac', node_type=<ObjectType.DOCUMENT: '4'>, metadata={'page_label': '2', 'file_name': '/share/data/fiches_seismes/irsn_seisme_argeles_gazost_112006.pdf'}, hash='e06384907076f52a5594e5be17b85d2444934fb56394b59302f97180bae2d396'), <NodeRelationship.PREVIOUS: '2'>: RelatedNodeInfo(node_id='27457076-be14-495f-82c3-e4c564bd9ced', node_type=<ObjectType.TEXT: '1'>, metadata={'page_label': '2', 'file_name': '/share/data/fiches_seismes/irsn_seisme_argeles_gazost_112006.pdf'}, hash='82e8bc03b923fa61ebdfd9d12423e9bf5deaf8a9ace51d1b6787fda9abc260e4'), <NodeRelationship.NEXT: '3'>: RelatedNodeInfo(node_id='062a0a36-4143-46e1-b50b-233d1d0c463d', node_type=<ObjectType.TEXT: '1'>, metadata={}, hash='9d67cb34e328586ec689fd2e5034f6fc9acf440733d85e9c0e44b6febea90297')}, text=\"Les caractéristiques du séisme soulignent qu’il est associé aux failles pyrénéen nes et qu’il n’est pas \\nreprésentatif de la zone de faible activité sismotectoni que (Bassin aquitain) où est localisée l’installation de \\nGolfech. \\nSelon l’Agence France Presse (19/11/2006), l’inspection par EDF de ses barrages hydro-électriques \\na permis de vérifier l’absence d’impact du séisme sur les ouvrages les plus proches de l’épicentre. Contexte sismotectonique\\nNomLongitude \\n(°E)Latitude (°N)Intensité \\népicentraleMagnitudeDistance à l'épicentre \\nCEA (km)\\n21/06/1660 Bagnères-de-B. 0,07 42,97 VIII-IX 6,5 18\\n24/05/1750 Juncalas -0,03 43,07 VIII >6 14\\n20/07/1854 Argelès -0,05 43,03 VII-VIII >6 10\\nLes 3 plus grands séismes historiques de la région (catalogue SISFRANCE)\\nDate Longitude(°E) Latitude (°N)Magnitude CEA \\n(Ml)écart-typeProfondeur \\n(km)Distance à l'épicentre \\nCEA (km)\\n29/02/1980 -0,37 43,09 5,7 0,2 12 22\\n04/10/1999 0,6 42,92 5,1 0 10 60,5\\n06/01/1989 0,17 42,99 4,9 0,2 11 25,2\\n19/07/1981 0,07 43,09 4,6 0,2 11 13,9\\n03/03/1980 -0,36 43,12 4,5 0,3 6 21,3\\nLes 5 plus grands séismes depuis 25 ans, da ns un rayon de 60 km autour d’Argelès-GazostI  N  F  O  R  M  A  T  I  O  N\\n30 novembre 2006 2\", start_char_idx=1773, end_char_idx=2970, text_template='{metadata_str}\\n\\n{content}', metadata_template='{key}: {value}', metadata_seperator='\\n'), score=0.757757203326772)], metadata={'10ac4937-a1a3-451f-b610-f6778babbfdb': {'page_label': '1', 'file_name': '/share/data/fiches_seismes/IRSN_seisme-haiti_130110.pdf'}, '7fc1734d-7be8-4bac-907d-61b7247cdaa9': {'page_label': '2', 'file_name': '/share/data/fiches_seismes/irsn_seisme_argeles_gazost_112006.pdf'}}), Response(response=\"\\nThe context information indicates that the earthquake that occurred in Haiti on January 12, 2010, was located in the arc of the Caribbean, specifically in the region of Port-au-Prince, Haiti. The epicenter of the earthquake was located at a latitude of 18.45° North and a longitude of 72.45° West. The earthquake had a magnitude of 7.0 on the Richter scale, according to the USGS. The context information also indicates that the earthquake was relatively shallow, with a depth of approximately 10 kilometers, and occurred very close to the capital city of Haiti, which is approximately 15 kilometers away. The earthquake was felt by the population in a radius of several hundred kilometers, including the Dominican Republic, Cuba, and Jamaica. The context information also indicates that the region where the earthquake occurred is known to have a high seismic risk, as indicated by the Bureau d'évaluation des risques sismiques pour la sûreté des installations (BERSSIN) of the IRSN.\", source_nodes=[NodeWithScore(node=TextNode(id_='10ac4937-a1a3-451f-b610-f6778babbfdb', embedding=None, metadata={'page_label': '1', 'file_name': '/share/data/fiches_seismes/IRSN_seisme-haiti_130110.pdf'}, excluded_embed_metadata_keys=[], excluded_llm_metadata_keys=[], relationships={<NodeRelationship.SOURCE: '1'>: RelatedNodeInfo(node_id='62fca3fe-ed9a-4a4f-8202-f54e6bddf2e7', node_type=<ObjectType.DOCUMENT: '4'>, metadata={'page_label': '1', 'file_name': '/share/data/fiches_seismes/IRSN_seisme-haiti_130110.pdf'}, hash='e4841716bd7d1f0e7fd6ba6fee399fdc57cae6308b4f2b7fc07fab964b82f73b'), <NodeRelationship.PREVIOUS: '2'>: RelatedNodeInfo(node_id='3d886162-d3b4-482a-8981-9de2f37a5ce7', node_type=<ObjectType.TEXT: '1'>, metadata={'page_label': '3', 'file_name': '/share/data/fiches_seismes/irsn_seisme_chinon_11_2006.pdf'}, hash='b2496ff0f6b64c9b3dcfd63b20db4b22b4ec0aa6b68f29c8b7ebf88f58398114'), <NodeRelationship.NEXT: '3'>: RelatedNodeInfo(node_id='c62ffbc6-0f39-4cc0-b1b1-64ff61c478ab', node_type=<ObjectType.TEXT: '1'>, metadata={}, hash='c8071a19f9579b8e2e36e607145fa0e6852262809e41641959e09e7d519b7a54')}, text=\"Rappel des faits \\n/square4Mardi 12 Janvier 2010, à 21h53 TU (16h53 heure local e), un séisme de \\nmagnitude importante (MW7,0 – source USGS) s’est produit à proximité de la vil le \\nde Port-au-Prince (Haïti) dans l’arc des Caraïbes ( Figure 1). Son épicentre est \\nsitué à une latitude de 18,45° Nord et à une longitude de 72,45° Ouest. La \\nréplique la plus importante enregistrée est de magn itude 5,9 (USGS). \\n/square4Aucun bilan n’est disponible pour le moment. Il est  cependant fait état de très \\nimportants dégâts subits par les réseaux de communi cation et de nombreuses \\nvictimes ou disparus, l’information circulant diffi cilement du fait des coupures de \\ncommunication. En particulier, l’effondrement de pl usieurs édifices importants, tels \\nque des hôpitaux et des bâtiments administratifs, a  été signalé. \\n/square4Le séisme s’est produit à une profondeur relativemen t faible (10 km selon l’USGS) et \\ntrès proche de la capitale (15 km), expliquant en g rande partie l’ampleur des \\ndégâts. \\n/square4L’événement sismique a été très largement ressenti p ar la population dans un rayon \\nde plusieurs centaines de kilomètres (jusqu’à la Jam aïque, la République \\ndominicaine et Cuba). \\n/square4Ce séisme s’est produit dans une zone où l’aléa sism ique est élevé (Calais, 2007). Séisme d’Haïti \\n(Caraïbes) \\ndu mardi 12 janvier 2010 \\nMagnitude = 7,0 à 21h53 (TU) I  N  F  O  R  M  A  T  I  O  N \\nLe Bureau \\nd'évaluation \\ndes risques \\nsismiques pour \\nla sûreté des \\ninstallations \\n(BERSSIN) de l’IRSN \\neffectue \\ndes recherches \\net des expertises \\nsur l’aléa sismique \\nen tant que source \\nd’agression externe \\ndes installations \\nà risque \\n1FS 6 \\nFigure 1 : Localisation des \\népicentres des séismes récents \\n(1960-aujourd’hui; étoile: séisme \\ndu 12 janvier 2010), les couleurs \\nindiquent la profondeur des \\nséismes de l’orange (séismes \\nsuperficiels) au bleu (séismes \\nprofonds - source USGS). Version 1 du 13 janvier 2010 \\n13 janvier 2010 www.irsn.fr CONTACT : \\nIRSN/BERSSIN \\nEdward Cushing/Hervé\\nJomard \\n01 58 35 76 65 \\n01 58 35 73 78 \\nEdward.cushing@irsn.fr \\nherve.jomard@irsn.fr \\nFigure 2 : Principaux \\nséismes historiques \\nayant affecté l’ile \\nd’Hispaniola (source \\nCalais, 2004).\", start_char_idx=0, end_char_idx=2185, text_template='{metadata_str}\\n\\n{content}', metadata_template='{key}: {value}', metadata_seperator='\\n'), score=0.8168508621521483), NodeWithScore(node=TextNode(id_='34670cf4-d2e8-46e3-ba0c-0c41c742e9a2', embedding=None, metadata={'page_label': '5', 'file_name': '/share/data/fiches_seismes/Note-Information-Seisme-Teil-14112019.pdf'}, excluded_embed_metadata_keys=[], excluded_llm_metadata_keys=[], relationships={<NodeRelationship.SOURCE: '1'>: RelatedNodeInfo(node_id='33d1b94f-bfbf-4ec8-b4e4-799b6d0717bf', node_type=<ObjectType.DOCUMENT: '4'>, metadata={'page_label': '5', 'file_name': '/share/data/fiches_seismes/Note-Information-Seisme-Teil-14112019.pdf'}, hash='b55ef44e345ccd378b6dfb63415780049deb825e961369e24b11d4b0a199c20d'), <NodeRelationship.PREVIOUS: '2'>: RelatedNodeInfo(node_id='4039a30e-e751-4b3a-b3eb-b41412d8bb06', node_type=<ObjectType.TEXT: '1'>, metadata={'page_label': '5', 'file_name': '/share/data/fiches_seismes/Note-Information-Seisme-Teil-14112019.pdf'}, hash='52add008133dcb93b46b0ffede305b2f9443dbc1610cbccd1135a303cb76b167'), <NodeRelationship.NEXT: '3'>: RelatedNodeInfo(node_id='bd514e88-4bf9-42d3-9fd0-6a69d243e9dc', node_type=<ObjectType.TEXT: '1'>, metadata={}, hash='8be603ee8a257688a1ef2999d0605e47c24ed57afa752ed4f4d50b660c2ac788')}, text='La sollicitat ion sismique retenue (Séisme Maximum Historiquement Vraisemblable - \\nSMHV) est alors définie en supposant que les séismes identifiés peuvent se produire en n’importe quel point \\nde la zone sismotectonique à laquelle ils appartiennent. La RFS demande que, dan s la zone sismotectonique \\ndu site, le SMHV soit supposé se produire à l’aplomb du site. Le Séisme Majoré de Sécurité (SMS) est obtenu en \\naugmentant la magnitude des o ndes de surface (Ms) du SMHV de 0,5. De plus, la réglementation demande la \\nprise en compte  des indices de séismes plus anciens (paléoséismes).  \\n \\nL’aléa sismique défini selon cette démarche pour le troisième réexamen de sûreté des centrales nucléaires de \\nCruas et du Tricastin se fonde sur le séisme du 8 août 1873 pour définir un SMHV de magnitude  Ms de  4,7 à 4 \\nkm. Ceci conduit in fine à un SMS de  magnitude  Ms de 5,2 à 4 km de profondeur. EDF retient également le \\npaléoséisme de Courthézon comme un séisme de référence (magnitude 6,5 et distance épicentrale de 50 km \\npour Cruas et de 27 km pour Tricas tin).', start_char_idx=2735, end_char_idx=3798, text_template='{metadata_str}\\n\\n{content}', metadata_template='{key}: {value}', metadata_seperator='\\n'), score=0.8073920191967204)], metadata={'10ac4937-a1a3-451f-b610-f6778babbfdb': {'page_label': '1', 'file_name': '/share/data/fiches_seismes/IRSN_seisme-haiti_130110.pdf'}, '34670cf4-d2e8-46e3-ba0c-0c41c742e9a2': {'page_label': '5', 'file_name': '/share/data/fiches_seismes/Note-Information-Seisme-Teil-14112019.pdf'}})], 'irsn_Seisme-Inde_012001.pdf': [Response(response='\\nThe provided context information does not mention any information about a \"seisme de Gurajat\" or its effects. The context information discusses two separate earthquakes that occurred in France: the 2019 earthquake in the region of Tricastin and the 2006 earthquake in the Hautes-Pyrénées. The 2019 earthquake was caused by a previously unknown active fault, while the 2006 earthquake was caused by a fault in the Faille nord-pyrénéenne. The effects of the 2019 earthquake included a centimeter-long rupture on the surface, which was detected using satellite data, and damage to buildings and power lines in the affected area. The effects of the 2006 earthquake included minor damage to buildings and power lines, as well as some reports of falling debris. The context information does not provide any information about the mechanism of the faults in question.', source_nodes=[NodeWithScore(node=TextNode(id_='cf8617f2-9341-4244-9948-e7a9f215bb6b', embedding=None, metadata={'page_label': '7', 'file_name': '/share/data/fiches_seismes/Note-Information-Seisme-Teil-14112019.pdf'}, excluded_embed_metadata_keys=[], excluded_llm_metadata_keys=[], relationships={<NodeRelationship.SOURCE: '1'>: RelatedNodeInfo(node_id='81b06c1d-e763-47ac-b0d3-591386928f87', node_type=<ObjectType.DOCUMENT: '4'>, metadata={'page_label': '7', 'file_name': '/share/data/fiches_seismes/Note-Information-Seisme-Teil-14112019.pdf'}, hash='cd2a47ec55a063f5c46ac944189f16d8e77545c8920fdc262a19e2370a4497b1'), <NodeRelationship.PREVIOUS: '2'>: RelatedNodeInfo(node_id='bd514e88-4bf9-42d3-9fd0-6a69d243e9dc', node_type=<ObjectType.TEXT: '1'>, metadata={'page_label': '6', 'file_name': '/share/data/fiches_seismes/Note-Information-Seisme-Teil-14112019.pdf'}, hash='24ae6d0c0790187471d00e7c2b215d95e9b01537c0c0b95a7791ca8a173c6a67'), <NodeRelationship.NEXT: '3'>: RelatedNodeInfo(node_id='04343c36-175c-4386-b07b-bc0e1f40fdbb', node_type=<ObjectType.TEXT: '1'>, metadata={}, hash='ac02f3a41f5c958505af9b23a6a7ff7e01fbbf3735a316f7a350a3dfd3787b19')}, text='I  N  F  O  R  M  A  T  I  O  N  \\n7 14 novembre 2019  www.irsn.fr   \\nPrincipaux enseignements  \\n \\nLa faille sur laquelle s’est produit le séisme du Teil n’était pas connue pour être  active dans la période \\nrécente, alors que des failles potentiellement actives sont identifiées à moins de 10 km de distances ( par \\nexemple la faille de Marsanne).  Ceci montre  l’intérê t de l’étude des failles  même dans un  contexte à sismicité \\nmodérée comme celui de la France métropolitaine.  \\n \\nLe séisme du Teil est un s éisme très superficiel  ayant créé une rupture en surface avec un décalage \\ncentimétrique . La trace de cette rupture a pu être repérée rapidement grâce  aux données satellitaires , ce qui \\na guidé le s géologues qui ont pu mesure r les déformations  sur le terrain . Il s’agit d’une première  en France \\npour ce qui concerne ce type d’ utilisation des données satellitaires. En effet le séisme d’Annecy en 1996  de \\nmagnitude Mw de 4,6  a aussi créé une r upture centimétrique en surface, mais les techniques de l’époque ne \\npermettaient pas de disposer rapidement de ce type de données.   \\n \\nLes séismes en France métropolitaine se produisent généralement entre 5 et 20 km de profondeur environ. Le \\nséisme du Teil a pparai t donc très superficiel . Il est à noter que da ns la région du Tricastin, les  essaims  \\nsismiques connus par le passé se sont produits également à des faibles profondeurs. Cette sismicité \\nsuperficielle apparait donc comme une caractéristique de cette ré gion.  \\n \\nLe séisme du Teil présente des caractéristiques proches des plus forts séismes historiques recensés dans la \\nrégion . La magnitude de moment (Mw) d’environ  5 estim ée à partir des enregistrements sismologiques est \\nconfirmée par l ’analyse des dimensions de la rupture à l’origine du séisme (longueur, largeur, déplacement)  à \\npartir des données satellitaires. I l est nécessaire de mieux le caractériser et le cas échéant de le retenir pour \\ndéfinir l’aléa sismique pour les installations nucléaires de  Tricastin et de Cruas.  Dans ce cadre, l ’étude  des \\nenregistrements du séisme, en particulier ceux acquis par l’IRSN qui avait positionné des instruments la \\nsemaine avant le séisme pour étudier la s tructure de la vallée du Rhône, devrait apporter des inform ations \\nprécieuses.  \\n \\n \\nAdresse postale  \\nInstitut de radioprotection  \\net de  sûreté nucléaire  \\nB.P. 17 \\n92262 Fontenay -aux-Roses \\nCedex \\nSiège  \\n \\n \\n31, av. de la Division Leclerc  \\n92260 Fontenay -aux-Roses \\nTél. +33 (0)1 58 35 88 88  \\nRCS Nanterre B 440  546 0180  Adresse postale  \\nSiège social', start_char_idx=4, end_char_idx=2582, text_template='{metadata_str}\\n\\n{content}', metadata_template='{key}: {value}', metadata_seperator='\\n'), score=0.7878977417325004), NodeWithScore(node=TextNode(id_='27457076-be14-495f-82c3-e4c564bd9ced', embedding=None, metadata={'page_label': '2', 'file_name': '/share/data/fiches_seismes/irsn_seisme_argeles_gazost_112006.pdf'}, excluded_embed_metadata_keys=[], excluded_llm_metadata_keys=[], relationships={<NodeRelationship.SOURCE: '1'>: RelatedNodeInfo(node_id='bf588429-49ff-42e2-a575-b3b4429bfeac', node_type=<ObjectType.DOCUMENT: '4'>, metadata={'page_label': '2', 'file_name': '/share/data/fiches_seismes/irsn_seisme_argeles_gazost_112006.pdf'}, hash='e06384907076f52a5594e5be17b85d2444934fb56394b59302f97180bae2d396'), <NodeRelationship.PREVIOUS: '2'>: RelatedNodeInfo(node_id='fc2da5e0-0bb9-42e9-948c-d7b3834f44ed', node_type=<ObjectType.TEXT: '1'>, metadata={'page_label': '1', 'file_name': '/share/data/fiches_seismes/irsn_seisme_argeles_gazost_112006.pdf'}, hash='8ffbda138c4f9d9bd0e8a403f366985bbd4b22859b8ba723b7806bbffe67fbfd'), <NodeRelationship.NEXT: '3'>: RelatedNodeInfo(node_id='7fc1734d-7be8-4bac-907d-61b7247cdaa9', node_type=<ObjectType.TEXT: '1'>, metadata={}, hash='251cbcf2326a50e71d800dc2ef53fbf5b8a53237a188239bd8679495c55442d9')}, text=\"Ce séisme a été fortement ressenti dans le département des Hautes-Pyrénées,\\nprincipalement dans le pays de Lourdes, mais aussi plus modérément dans les départements voisins \\ndes Pyrénées-Atlantiques et de Haute-Garonne. De légers dégâts ont été signalés dans les environs \\nde Lourdes (chutes de cheminées), tandis que de brèves coupures d’électricité ont aus si affecté\\ndes communes des Hautes-Pyrénées.Témoignages recueillis\\nBureau Central Sismologique Français (www.bcsf.prd.fr)\\nLe séisme du 17/11/2006 est localisé dans la  région de la Faille nord-pyrénéenne,\\nautour de laquelle se concentre la si smicité modérée et fréquente de la région. Cette région est la plus active \\nde la France métropolita ine. Les premiers travaux sur le séisme du 17/11/2006 montrent que le mouvement est \\nextensif sur une faille de direction E-W. Les résultat s confortent la connaissance actuelle des mécanismes à\\nl’origine de la sismicité régionale.\\nL’analyse des séismes historiques révèle que la région a déjà subi des séismes plus significatifs.\\nCeux-ci ont occasionné des dégâts importants sur le  bâti (intensité épicentrale supérieure à VII MSK).\\nLe plus fort de ces séismes historiques (21/6/1660) aurait eu une magnitude proche de 6.5.\\nSur la période récente pour laquelle des enregistrements sont disponibles, le séisme du 17/11/2006 apparaît \\ntoutefois d’importance significative. Ainsi, parmi les séismes enregistrés depuis plus de 40 ans dans un rayon de \\n30 km, celui du 17/11/2006 apparaît comme le deuxième le plus important en magnitude locale.\\nImpact sur les installations nucléaires\\nLa région concernée n’accueille aucune installation nucléaire.\\nLe site le plus proche, l’installation nucléaire EDF de  Golfech est située à 145 km. La secousse n’y a pas été\\nressentie. \\nLes caractéristiques du séisme soulignent qu’il est associé aux failles pyrénéen nes et qu’il n’est pas \\nreprésentatif de la zone de faible activité sismotectoni que (Bassin aquitain) où est localisée l’installation de \\nGolfech. \\nSelon l’Agence France Presse (19/11/2006), l’inspection par EDF de ses barrages hydro-électriques \\na permis de vérifier l’absence d’impact du séisme sur les ouvrages les plus proches de l’épicentre. Contexte sismotectonique\\nNomLongitude \\n(°E)Latitude (°N)Intensité \\népicentraleMagnitudeDistance à l'épicentre \\nCEA (km)\\n21/06/1660 Bagnères-de-B.\", start_char_idx=0, end_char_idx=2347, text_template='{metadata_str}\\n\\n{content}', metadata_template='{key}: {value}', metadata_seperator='\\n'), score=0.7862382232911248)], metadata={'cf8617f2-9341-4244-9948-e7a9f215bb6b': {'page_label': '7', 'file_name': '/share/data/fiches_seismes/Note-Information-Seisme-Teil-14112019.pdf'}, '27457076-be14-495f-82c3-e4c564bd9ced': {'page_label': '2', 'file_name': '/share/data/fiches_seismes/irsn_seisme_argeles_gazost_112006.pdf'}}), Response(response='\\nThe query is asking for the reason why the earthquake in Gurajat was considered a surprise relative. However, the context information provided does not mention any earthquake in Gurajat. Therefore, it is not possible to provide an answer to this query based on the given context information.', source_nodes=[NodeWithScore(node=TextNode(id_='cebabf21-761b-4c73-ae47-12689d278c10', embedding=None, metadata={'page_label': '1', 'file_name': '/share/data/fiches_seismes/IRSN-Seisme-Civaux-09092013.pdf'}, excluded_embed_metadata_keys=[], excluded_llm_metadata_keys=[], relationships={<NodeRelationship.SOURCE: '1'>: RelatedNodeInfo(node_id='8f99df2c-7c9e-4f43-9fa5-f1d52d004b44', node_type=<ObjectType.DOCUMENT: '4'>, metadata={'page_label': '1', 'file_name': '/share/data/fiches_seismes/IRSN-Seisme-Civaux-09092013.pdf'}, hash='05a10b3423929c215c89630a7cad274010f1b676888132fd2168ef0a2984017d'), <NodeRelationship.PREVIOUS: '2'>: RelatedNodeInfo(node_id='c62ffbc6-0f39-4cc0-b1b1-64ff61c478ab', node_type=<ObjectType.TEXT: '1'>, metadata={'page_label': '2', 'file_name': '/share/data/fiches_seismes/IRSN_seisme-haiti_130110.pdf'}, hash='d5bd44c74bb257911f97ec4df7b9f80366b17204fcccb0dafb8c820b1967d17f'), <NodeRelationship.NEXT: '3'>: RelatedNodeInfo(node_id='4b4a3129-7056-41cb-93f9-59f747539490', node_type=<ObjectType.TEXT: '1'>, metadata={}, hash='2ffc24bb3b60ecf76d2662b68f166c1b28da9adf677e0bfd9a2775eb5b362b5c')}, text=\"Rappel des faits  \\n\\uf0a7Lundi  9 septembre  2013 , à 20h50 TU (22h50 heure  locale),  un séisme  de faible  \\nmagnitude  (Ml = 3,1) s’est produit  au voisinage  immédiat  de la centrale  nucléaire  de \\nproduction  électrique  de Civaux  (Vienne),  sur la commune  de Lhommaizé  (46,43° \\nNord et 0,59° Est). Ce séisme  est superficiel  (< 5 km) mais sa profondeur  exacte  est \\ndifficile  à estimer . \\n \\n\\uf0a7La secousse,  qui n’a occasionné  aucun  dégât,  a été ressentie  par la population  dans \\nla région  au sud-est de Poitiers  dans un rayon  d’environ  20 km autour  de \\nl’épicentre . Elle a par ailleurs  été ressentie  par les personnels  travaillant  dans la \\ncentrale  de Civaux . \\n \\n\\uf0a7Au 12 septembre,  le Bureau  Central  Sismologique  Français  (BCSF)  a recensé  24 \\ntémoignages  indiquant  des intensités  locales  allant  jusqu’à  V (en échelle  d’intensité  \\nEMS),  correspondant  à une secousse  largement  ressentie  dans les habitations,  avec \\ndes vibrations  modérées  et pas de dégâts . \\n \\n\\uf0a7La région  de Poitiers  a connu  par le passé  des séismes  similaires  et parfois  même  \\nplus forts (www .sisfrance .net), avec des intensités  épicentrales  atteignant  VII-VIII. Séisme à Lhommaizé  \\n(Vienne)  \\n \\nDu lundi 9 septembre 2013 (20h50 TU)  \\nMagnitude = 3,1 (Ml)  I  N  F  O  R  M  A  T  I  O  N  \\nLe Bureau \\nd'évaluation  \\ndes risques \\nsismiques pour  \\nla sûreté des \\ninstallations \\n(BERSSIN) de l’IRSN \\neffectue  \\ndes recherches  \\net des expertises \\nsur l’aléa sismique \\nen tant que source \\nd’agression externe \\ndes installations  \\nà risque  \\n1 FS 6  \\nVersion 1 du 13 septembre 2013  \\nwww.irsn.fr  CONTACT :  \\n \\nIRSN/BERSSIN  \\nStéphane Baize  \\n01 58 35 91 24  \\nStephane.baize@irsn.fr  \\n13 septembre 2013  Figure 1 : Localisation du séisme du 9 septembre 2013\", start_char_idx=0, end_char_idx=1778, text_template='{metadata_str}\\n\\n{content}', metadata_template='{key}: {value}', metadata_seperator='\\n'), score=0.7506402218077166), NodeWithScore(node=TextNode(id_='27457076-be14-495f-82c3-e4c564bd9ced', embedding=None, metadata={'page_label': '2', 'file_name': '/share/data/fiches_seismes/irsn_seisme_argeles_gazost_112006.pdf'}, excluded_embed_metadata_keys=[], excluded_llm_metadata_keys=[], relationships={<NodeRelationship.SOURCE: '1'>: RelatedNodeInfo(node_id='bf588429-49ff-42e2-a575-b3b4429bfeac', node_type=<ObjectType.DOCUMENT: '4'>, metadata={'page_label': '2', 'file_name': '/share/data/fiches_seismes/irsn_seisme_argeles_gazost_112006.pdf'}, hash='e06384907076f52a5594e5be17b85d2444934fb56394b59302f97180bae2d396'), <NodeRelationship.PREVIOUS: '2'>: RelatedNodeInfo(node_id='fc2da5e0-0bb9-42e9-948c-d7b3834f44ed', node_type=<ObjectType.TEXT: '1'>, metadata={'page_label': '1', 'file_name': '/share/data/fiches_seismes/irsn_seisme_argeles_gazost_112006.pdf'}, hash='8ffbda138c4f9d9bd0e8a403f366985bbd4b22859b8ba723b7806bbffe67fbfd'), <NodeRelationship.NEXT: '3'>: RelatedNodeInfo(node_id='7fc1734d-7be8-4bac-907d-61b7247cdaa9', node_type=<ObjectType.TEXT: '1'>, metadata={}, hash='251cbcf2326a50e71d800dc2ef53fbf5b8a53237a188239bd8679495c55442d9')}, text=\"Ce séisme a été fortement ressenti dans le département des Hautes-Pyrénées,\\nprincipalement dans le pays de Lourdes, mais aussi plus modérément dans les départements voisins \\ndes Pyrénées-Atlantiques et de Haute-Garonne. De légers dégâts ont été signalés dans les environs \\nde Lourdes (chutes de cheminées), tandis que de brèves coupures d’électricité ont aus si affecté\\ndes communes des Hautes-Pyrénées.Témoignages recueillis\\nBureau Central Sismologique Français (www.bcsf.prd.fr)\\nLe séisme du 17/11/2006 est localisé dans la  région de la Faille nord-pyrénéenne,\\nautour de laquelle se concentre la si smicité modérée et fréquente de la région. Cette région est la plus active \\nde la France métropolita ine. Les premiers travaux sur le séisme du 17/11/2006 montrent que le mouvement est \\nextensif sur une faille de direction E-W. Les résultat s confortent la connaissance actuelle des mécanismes à\\nl’origine de la sismicité régionale.\\nL’analyse des séismes historiques révèle que la région a déjà subi des séismes plus significatifs.\\nCeux-ci ont occasionné des dégâts importants sur le  bâti (intensité épicentrale supérieure à VII MSK).\\nLe plus fort de ces séismes historiques (21/6/1660) aurait eu une magnitude proche de 6.5.\\nSur la période récente pour laquelle des enregistrements sont disponibles, le séisme du 17/11/2006 apparaît \\ntoutefois d’importance significative. Ainsi, parmi les séismes enregistrés depuis plus de 40 ans dans un rayon de \\n30 km, celui du 17/11/2006 apparaît comme le deuxième le plus important en magnitude locale.\\nImpact sur les installations nucléaires\\nLa région concernée n’accueille aucune installation nucléaire.\\nLe site le plus proche, l’installation nucléaire EDF de  Golfech est située à 145 km. La secousse n’y a pas été\\nressentie. \\nLes caractéristiques du séisme soulignent qu’il est associé aux failles pyrénéen nes et qu’il n’est pas \\nreprésentatif de la zone de faible activité sismotectoni que (Bassin aquitain) où est localisée l’installation de \\nGolfech. \\nSelon l’Agence France Presse (19/11/2006), l’inspection par EDF de ses barrages hydro-électriques \\na permis de vérifier l’absence d’impact du séisme sur les ouvrages les plus proches de l’épicentre. Contexte sismotectonique\\nNomLongitude \\n(°E)Latitude (°N)Intensité \\népicentraleMagnitudeDistance à l'épicentre \\nCEA (km)\\n21/06/1660 Bagnères-de-B.\", start_char_idx=0, end_char_idx=2347, text_template='{metadata_str}\\n\\n{content}', metadata_template='{key}: {value}', metadata_seperator='\\n'), score=0.7491348335104796)], metadata={'cebabf21-761b-4c73-ae47-12689d278c10': {'page_label': '1', 'file_name': '/share/data/fiches_seismes/IRSN-Seisme-Civaux-09092013.pdf'}, '27457076-be14-495f-82c3-e4c564bd9ced': {'page_label': '2', 'file_name': '/share/data/fiches_seismes/irsn_seisme_argeles_gazost_112006.pdf'}})], 'irsn_Seisme-Japon_052003.pdf': [Response(response='\\nThe given context information does not mention any earthquake that occurred in Miyagi, Japan. Therefore, it is not possible to answer the query about the earthquake in Miyagi.', source_nodes=[NodeWithScore(node=TextNode(id_='6343905c-71eb-4bfb-856f-1a5b4371bf6e', embedding=None, metadata={'page_label': '1', 'file_name': '/share/data/fiches_seismes/irsn_seisme_niigata_japon_092007.pdf'}, excluded_embed_metadata_keys=[], excluded_llm_metadata_keys=[], relationships={<NodeRelationship.SOURCE: '1'>: RelatedNodeInfo(node_id='f3ac2df1-2260-4428-98ca-0be9e582281d', node_type=<ObjectType.DOCUMENT: '4'>, metadata={'page_label': '1', 'file_name': '/share/data/fiches_seismes/irsn_seisme_niigata_japon_092007.pdf'}, hash='dcdfac0178d67da75afb74eff124e7360c17c08211cbe821f9c642fdcc3f2d85'), <NodeRelationship.PREVIOUS: '2'>: RelatedNodeInfo(node_id='914d3e6f-6c75-480b-a975-54288c1266e7', node_type=<ObjectType.TEXT: '1'>, metadata={'page_label': '2', 'file_name': '/share/data/fiches_seismes/IRSN_seisme_turquie-23102011.pdf'}, hash='9c20ddf45853832c7a422a33abb45022c414a68e0af4dd64eae03fcbcc905443'), <NodeRelationship.NEXT: '3'>: RelatedNodeInfo(node_id='f6d6b72e-22da-49bc-a65e-b2f7cb94a022', node_type=<ObjectType.TEXT: '1'>, metadata={}, hash='f947051d109055160fce7e74f0a62bce02be1e92e16d5a45749ae35329c4234a')}, text=\"Rappel des faits\\n\\x83Lundi 16 juillet, à 1h13 (10h13 heure locale), un séisme de magnitude \\nimportante s’est produit dans la préfecture de Niigata dans l’île principale de \\nHonshu .\\n\\x83La magnitude de moment (Mw) est estimée à 6,6 (sources : NEID, JMA, Harvard CMT, \\nUSGS NEIC). L’épicentre est situé à une lati tude de 37,5° Nord et à une longitude de \\n138,6° Est (Figure 1), soit à une distance d’environ 10 km de la centrale nucléaire \\nde Kashiwazaki-Kariwa. Le choc principal a été suivi par de nombreuses répliques \\ndont une de magnitude égale à 5,6 qui s’ est produite environ 5 heures après la \\npremière secousse.\\n\\x83Le séisme s’est produit en mer à une prof ondeur estimée entre 10 et 15 km sur un \\nsystème de failles qui n’était pas claireme nt identifié comme étant actif avant ce \\nséisme.\\n\\x83L’événement sismique a été relayé par dive rs organes de presse, mentionnant en \\nparticulier les conséquences sur la centrale  nucléaire de Kashiwazaki-Kariwa (voir la \\nnote d'information du 20 juillet 2007 faisant état de 67 anomalies).\\n\\x83Une mission d’experts a été conduite par l’AIEA à la demande du gouvernement \\njaponais du 6 au 10 août 2007 ( voir le rapport de la mission sur le site \\nwww.iaea.org ).Séisme de Chu-Etsu-Oki (Japon)\\ndu lundi 16 juillet 2007\\nMagnitude = 6,6 à 1h13 (TU)I  N  F  O  R  M  A  T  I  O  N\\nLe Bureau \\nd'évaluation des risques \\nsismiques pour \\nla sûreté des installations \\n(BERSSIN) de l’IRSN \\neffectuedes recherches \\net des expertises \\nsur l’aléa sismique en tant que source \\nd’agression externe \\ndes installations à risque\\nCONTACT :\\nOona Scotti\\nIRSN/BERSSIN\\n01 58 35 86 47\\nOona.Scotti@irsn.fr\\n04 septembre 2007 1www.irsn.orgFS 5\\nLocalisation\\nde l’épicentre \\ndu séismeFigure 1\", start_char_idx=0, end_char_idx=1702, text_template='{metadata_str}\\n\\n{content}', metadata_template='{key}: {value}', metadata_seperator='\\n'), score=0.7962043864391773), NodeWithScore(node=TextNode(id_='a5c78511-dada-433f-b087-73263e35d00c', embedding=None, metadata={'page_label': '1', 'file_name': '/share/data/fiches_seismes/IRSN_seisme-Manosque_V1-12072010.pdf'}, excluded_embed_metadata_keys=[], excluded_llm_metadata_keys=[], relationships={<NodeRelationship.SOURCE: '1'>: RelatedNodeInfo(node_id='21d3007b-ae74-48d4-b03e-7acca07a02c1', node_type=<ObjectType.DOCUMENT: '4'>, metadata={'page_label': '1', 'file_name': '/share/data/fiches_seismes/IRSN_seisme-Manosque_V1-12072010.pdf'}, hash='e6ab4147b99d703d9162efc8ee18020d8ab42c7fd232bb8f3f58a9901b26fbcd'), <NodeRelationship.PREVIOUS: '2'>: RelatedNodeInfo(node_id='d91eb4ba-c968-4959-a3e3-937303ac593e', node_type=<ObjectType.TEXT: '1'>, metadata={'page_label': '4', 'file_name': '/share/data/fiches_seismes/IRSN-Seisme-Elazig-Turquie-24012020.pdf'}, hash='b44a08a884a8f0df9719affb83da97c0d3ccb7d37fee8c129c254ff655d4858b'), <NodeRelationship.NEXT: '3'>: RelatedNodeInfo(node_id='c463f41b-b599-4b70-bd8a-5060c1d34ed3', node_type=<ObjectType.TEXT: '1'>, metadata={}, hash='4d9fc3f67eb7ff392529c23c6ca258ff4290b1ee37cfdefb23dadbc9085449ab')}, text=\"Rappel des faits\\n\\x83Jeudi 8 juillet 2010, à 20h20 TU (22h20 heure locale), un séisme de faible \\nmagnitude s’est produit au voisinage immé diat de Manosque (2-3 km) : Ml = 3,0 à\\n43°50’ Nord et 5°50’ Est selon le CEA/LDG, Ml=2,9 à 43,810°Nord et 5,8°Est selon le RENASS. Le séisme s’est très vraisemblablement produit à faible profondeur.\\n\\x83La secousse, qui n’a pas fait de dégâts, a été fortement ressentie par la population àManosque et Pierrevert (et dans une moindre mesure à Sainte-Tulle, Volx, Corbières et Villeneuve), mais ne semble ne pas av oir été ressentie de manière significative \\nau-delà d’une distance de quelques kilo mètres de l’épicentre (Oraison, Mane, \\nSainte-Maime).\\n\\x83La Ville de Manosque a connu deux épisodes  sismiques remarquables dans le passé, \\nl’un en 1509 et l’autre en 1708. Ces deux événements ont provoqué des dégâts importants aux constructions et sont recensés dans la base de sismicité historique \\n(www.sisfrance.net\\n) avec une intensité de VIII à Manosque. L’intensité correspond à\\nune évaluation de l’importance de la seco usse en un lieu donné en termes d’effets \\n(perception, effets sur les objets et/o u dommages aux constructions). La magnitude \\nde ces séismes est actuellement évaluée autour de 5.\\n\\x83Le séisme du jeudi 8 juillet 2010 est associé au fonctionnement de la « Faille de la Moyenne Durance » (FMD) et traduit l’activi té régulière mais faible de celle-ci. \\nSouvent non perçus par la population, ses séismes sont généralement de faible \\nmagnitude.Séisme à Manosque \\n(Alpes de Haute-Provence) \\ndu jeudi 8 juillet 2010 (20h20 TU)\\nMagnitude = 3,0 (Ml)I  N  F  O  R  M  A  T  I  O  N\\nLe Bureau \\nd'évaluation des risques \\nsismiques pour \\nla sûreté des installations \\n(BERSSIN) de l’IRSN \\neffectuedes recherches \\net des expertises \\nsur l’aléa sismique en tant que source \\nd’agression externe \\ndes installations à risque\\n1FS 6\\nVersion 1 du 12 juillet 2010\\nwww.irsn.frCONTACT :\\nIRSN/BERSSIN\\nDavid Baumont\\nMarc Cushing\\n01 58 35 91 24\\ndavid.baumont@irsn.fr\\nedward.cushing@irsn.fr\\nFigure 1 : Localisation du séisme du 8 juillet 2010 (étoile)\\n12 juillet 2010\", start_char_idx=0, end_char_idx=2093, text_template='{metadata_str}\\n\\n{content}', metadata_template='{key}: {value}', metadata_seperator='\\n'), score=0.7849115543341335)], metadata={'6343905c-71eb-4bfb-856f-1a5b4371bf6e': {'page_label': '1', 'file_name': '/share/data/fiches_seismes/irsn_seisme_niigata_japon_092007.pdf'}, 'a5c78511-dada-433f-b087-73263e35d00c': {'page_label': '1', 'file_name': '/share/data/fiches_seismes/IRSN_seisme-Manosque_V1-12072010.pdf'}}), Response(response='\\nThe provided context information does not mention the Miyagi earthquake. Therefore, I cannot provide information on the impacts of the Miyagi earthquake in terms of damages, victims, and aftershocks.', source_nodes=[NodeWithScore(node=TextNode(id_='09e5497f-51f8-489a-939d-148915ce0a80', embedding=None, metadata={'page_label': '3', 'file_name': '/share/data/fiches_seismes/IRSN-Seisme-Amatrice-Italie-240816_V1.pdf'}, excluded_embed_metadata_keys=[], excluded_llm_metadata_keys=[], relationships={<NodeRelationship.SOURCE: '1'>: RelatedNodeInfo(node_id='92ed0147-7ad6-4d35-ac8b-3a990558c99c', node_type=<ObjectType.DOCUMENT: '4'>, metadata={'page_label': '3', 'file_name': '/share/data/fiches_seismes/IRSN-Seisme-Amatrice-Italie-240816_V1.pdf'}, hash='f69f88c2dba8408f57549bacd29e66bda7653818fcf54c747df487cd0fcd2e9a'), <NodeRelationship.PREVIOUS: '2'>: RelatedNodeInfo(node_id='be82d5b1-8670-42bd-8c61-1cb78c3e4f47', node_type=<ObjectType.TEXT: '1'>, metadata={'page_label': '2', 'file_name': '/share/data/fiches_seismes/IRSN-Seisme-Amatrice-Italie-240816_V1.pdf'}, hash='469e28323fbfa7a06906b94258987a4138c4f0317644852d4d3384cc5043d58b'), <NodeRelationship.NEXT: '3'>: RelatedNodeInfo(node_id='0e2625ef-e48a-42d8-aeca-68ff26160372', node_type=<ObjectType.TEXT: '1'>, metadata={}, hash='b9c56788a16397846443487d522c3e1d032783e8694fd827d0066d94b9e2c9a7')}, text='3 I  N  F  O  R  M  A  T  I  O  N  \\nImpact sur les personnes et les bâtiments  \\nFigure  5 : Cartographie  du résultat  des enquêtes  macrosismiques  remplies  par les utilisateurs  \\nd’internet  (www .haisentitoilterremoto .it). Dans l’échelle  employée  (MCS),  les degrés  2 à 4 correspondent  \\nà des niveaux  pour lesquels  la secousse  est ressentie  par l’homme  et fait bouger  des objets . De 5 à 7, \\nles objets  chutent,  les édifices  perdent  leurs  tuiles,  cheminées,  etc. De 8 à 9, le séisme  est \\ndestructeur  pour 25 à 100% des bâtiments . Les localisations  des sites nucléaires  de Montalto  di \\nCastro,  Casaccia  et Latina  sont indiquées  sur la carte . \\nLa partie  centrale  des Apennins  est caractérisée  par une densité  de population  relativement  faible  (inférieure  à 100 \\nhabitants  par km carré) . Le tissu urbain  est composé  de petites  villes  d’origine  médiévale  caractérisées  par une \\nvulnérabilité  élevée .  \\nLe bilan des victimes  et des dégâts  produits  par le séisme  est à ce jourencore  provisoire . Le 26 août à 08h30, le \\nbilan humain  s’établissait  à 267 décès,  des centaines  de blessés  et plusieurs  centaines  de disparus  (Protezione  Civile  \\nItaliana ).  \\nPour ce qui concerne  les dégâts  occasionnés  aux bâtiments  et aux infrastructures,  les informations  disponibles  \\nrestent  encore  partielles  et sujettes  à caution  dans l’attente  des résultats  des missions  d’expert  et compte  tenu de \\nla priorité  accordée  aux secours . \\nSelon  la protection  civile  l’ampleur  des dégâts  est supérieure  à celle provoquée  par le séisme  de L’Aquila . Les villes  \\nd’Amatrice,  Accumoli  et Pescara  del Tronto  ont été en grande  partie  détruites  (La Repubblica,  25/08/2016 8h30). \\nToutes  les maisons  en pierre  et en maçonnerie  se sont écroulées . Les murs de remplissage  des maisons  en béton  ont \\néclaté  en provoquant  l’effondrement  des immeubles  (La Repubblica,  24/08/2016 citant  Fabrizio  Curcio  responsable  \\nde la protection  civile ). L’hôpital  de la ville d’Amatrice  a été fortement  endommagé  et a dû être fermé . \\nL’établissement  scolaire  de la ville,  dont une partie  avait fait l’objet  de renforcement  parasismique  en 2012, a subi \\nun effondrement  partiel  (La Repubblica,  24/08/2016). \\nLe séisme  a endommagé  plusieurs  viaducs  et a provoqué  des chutes  de blocs  sur les routes,  rendant  difficile  l’accès  \\nà certaines  zones . Dans un communiqué  de presse,  l’ENEL  (Ente Nazionale  per l’Energia  eLettrica ) a indiqué  que le \\nbarrage  du Scanderello , localisé  à proximité  d’Amatrice,  n’a pas subi de dégâts  ; néanmoins,  il reste  sous \\nsurveillance  renforcée  (Agenzia  Nazionale  Stampa  Associata  25/08/2016 19h40).', start_char_idx=0, end_char_idx=2744, text_template='{metadata_str}\\n\\n{content}', metadata_template='{key}: {value}', metadata_seperator='\\n'), score=0.7793879475195461), NodeWithScore(node=TextNode(id_='a6292edf-9b3b-43df-a004-798b78fc9c7d', embedding=None, metadata={'page_label': '2', 'file_name': '/share/data/fiches_seismes/irsn_Seisme-Inde_012001.pdf'}, excluded_embed_metadata_keys=[], excluded_llm_metadata_keys=[], relationships={<NodeRelationship.SOURCE: '1'>: RelatedNodeInfo(node_id='ccad01a6-d05e-449d-a728-4a9a394901e3', node_type=<ObjectType.DOCUMENT: '4'>, metadata={'page_label': '2', 'file_name': '/share/data/fiches_seismes/irsn_Seisme-Inde_012001.pdf'}, hash='06f9ac61d831691a85ad42373b28635d26215b9b96c924df8067066924bef213'), <NodeRelationship.PREVIOUS: '2'>: RelatedNodeInfo(node_id='eae340ee-cb2f-4460-8284-95384c2915d1', node_type=<ObjectType.TEXT: '1'>, metadata={'page_label': '2', 'file_name': '/share/data/fiches_seismes/irsn_Seisme-Inde_012001.pdf'}, hash='b2930deedbf99273623d7a00336f4e47249156fc2fa95323f4c317efa650ad56'), <NodeRelationship.NEXT: '3'>: RelatedNodeInfo(node_id='89fc695a-0786-48c6-aa4d-a885e8fe117a', node_type=<ObjectType.TEXT: '1'>, metadata={}, hash='a0851ebd5be039b14c1e681f6f19eb15a4faf7c1b74aca31a16054eade683ed8')}, text='Annexe pages 4-5) m ontre que des séismes de forte magnitude peuvent se  \\nproduire loin des limites de plaques (170 à3000 km)  àl’intérieur même de zones réputées stables (boucl iers \\nanciens, chaînes de montagnes anciennes…). Elle ide ntifie une trentaine de séismes de ce type dans le monde, de \\nmagnitude supérieure à6,5, dont deux dans la pénins ule indienne : séisme de Koynaen 1967 et celui de K utchen \\n1819. \\nTout comme le séisme du 26 janvier 2001, le séisme de Kutch(1819) a eu lieu à175 kilomètres au sud de la \\nfrontière des plaques eurasienne et indienne qui do nne naissance àl’Himalaya . La faille activée lors de ce séisme \\navait atteint la surface produisant un escarpement d’une hauteur de 6 à9 mètres sur une longueur d’env iron 90 \\nkilomètres (le mur de dieu, «AllahBund»). \\nLe séisme de 1819 avait étésuivi de répliques resse nties par la population jusqu’àla fin novembre 1819 , soit cinq \\nmois après la secousse principale. Les dégâts avaie nt également étéconsidérables. \\nLe fait que des séismes puissent survenir dans des zones réputées calmes sismiquement (sismicité connue  très \\nfaible) a conduit à l’adoption d’un niveau sismique minimal à prendre en compte pour la conception des \\ninstallations nucléaires françaises .', start_char_idx=2309, end_char_idx=3557, text_template='{metadata_str}\\n\\n{content}', metadata_template='{key}: {value}', metadata_seperator='\\n'), score=0.7720602153461503)], metadata={'09e5497f-51f8-489a-939d-148915ce0a80': {'page_label': '3', 'file_name': '/share/data/fiches_seismes/IRSN-Seisme-Amatrice-Italie-240816_V1.pdf'}, 'a6292edf-9b3b-43df-a004-798b78fc9c7d': {'page_label': '2', 'file_name': '/share/data/fiches_seismes/irsn_Seisme-Inde_012001.pdf'}})], 'IRSN_Seisme-Japon_Replique-7-avril_V1-08042011.pdf': [Response(response=\"\\nThe centrale nucléaire d'Onagawa was affected by the 26 May 2003 earthquake in terms of accélérations du sol. The earthquake was ressenti on the site of the Tohoku Electric Power Company's Onagawa nuclear power plant, which is located about 50 km from the epicenter (hypocentral distance: 75 km). The plant has three boiling water reactors, TOSHIBA, with powers of 525, 825, and 825 MWe. At the time of the earthquake, only one reactor was in operation. According to the Japan Meteorological Agency (JMA), the intensity 6-7 (on the Japanese seismic intensity scale JMA-7) was reached in the epicenter and in the surrounding area. The intensities JMA are calculated based on the acceleration of the ground. The strong values of acceleration (> 0.5 g) deduced from the initial measurements (on May 26) of the seismic intensities were confirmed by subsequent measurements of ground acceleration from May 27, 200\", source_nodes=[NodeWithScore(node=TextNode(id_='6fd090a1-7491-4135-b5ea-d57b93b999af', embedding=None, metadata={'page_label': '4', 'file_name': '/share/data/fiches_seismes/IRSN_seisme-Japon_V2-22042011.pdf'}, excluded_embed_metadata_keys=[], excluded_llm_metadata_keys=[], relationships={<NodeRelationship.SOURCE: '1'>: RelatedNodeInfo(node_id='21bf5f8a-4182-4fff-8d73-b4be3b9e2bb0', node_type=<ObjectType.DOCUMENT: '4'>, metadata={'page_label': '4', 'file_name': '/share/data/fiches_seismes/IRSN_seisme-Japon_V2-22042011.pdf'}, hash='418b7fdc08a884f0325e9fff2e25d3d33ef1c21c1008c8bcb1144df5dcec3c2b'), <NodeRelationship.PREVIOUS: '2'>: RelatedNodeInfo(node_id='c24acf99-b9b5-493e-b603-44955be0fe7c', node_type=<ObjectType.TEXT: '1'>, metadata={'page_label': '3', 'file_name': '/share/data/fiches_seismes/IRSN_seisme-Japon_V2-22042011.pdf'}, hash='201b35400058c679ef750fd4baafe2059900d429b11e28ab29b2d187fe5b923a'), <NodeRelationship.NEXT: '3'>: RelatedNodeInfo(node_id='73d1685f-66f4-4b54-829e-4e2dba1346ff', node_type=<ObjectType.TEXT: '1'>, metadata={}, hash='461c6e0745e74b22fb40d4e203087f80dd8d6f10cad534454a3c9dcaf6cf0db1')}, text='Impact sur les inst allations nucléaires\\nPlusieurs centrales nucléaires se situent sur la côte Nord  orientale de l’île d’Honshu (Figure 7). Quatre d’entre \\nelles (soit 11 réacteurs en fonctionnement) se sont a rrêtés automatiquement dès le s premières sollicitations \\nsismiques. Il s’agit des centrales d’Onagawa, Fukushima Daiichi, Fukushima Daini et Tokai, situées respectivement \\nà 80, 145, 155 et 255 km de l’épic entre du séisme du 11 mars 2011. \\nSelon les données des réseaux sismologiques KiK-net et K-net ( www.kik.bosai.go.jp et www.k-net.bosai.go.jp ), les \\naccélérations maximales du sol (PGA) va rient fortement d’une station à l’autre, avec localement des valeurs très \\nimportantes (près de 3 g – Figure 7). Ces fortes variations sont probablement liées aux caractéristiques \\ngéologiques locales propres à c haque station. Les stations les plus proc hes de la centrale de Fukushima Daiichi ont \\nenregistré des valeurs de PGA comprises entre 0,4 et 1 g. \\n4I  N  F  O  R  M  A  T  I  O  N\\nwww.irsn.fr\\nN\\nFigure 7. Valeurs maximales d’accélération du sol (PGA) enregistrées par les réseaux KiK-net et K-net \\njaponais. Chaque triangle représente un point de mesu re. La valeur est exprimée en cm/s², une valeur de \\n981 cm/s² correspond à l’accélérati on de la pesanteur (1 g). \\n08 Avril 2011', start_char_idx=0, end_char_idx=1300, text_template='{metadata_str}\\n\\n{content}', metadata_template='{key}: {value}', metadata_seperator='\\n'), score=0.7952739978700153), NodeWithScore(node=TextNode(id_='2fe97019-616b-4a04-8bf9-a38a5faa1e80', embedding=None, metadata={'page_label': '3', 'file_name': '/share/data/fiches_seismes/irsn_Seisme-Japon_052003.pdf'}, excluded_embed_metadata_keys=[], excluded_llm_metadata_keys=[], relationships={<NodeRelationship.SOURCE: '1'>: RelatedNodeInfo(node_id='f8595afe-d99a-49a5-915a-ac10a83ee00b', node_type=<ObjectType.DOCUMENT: '4'>, metadata={'page_label': '3', 'file_name': '/share/data/fiches_seismes/irsn_Seisme-Japon_052003.pdf'}, hash='c3f7f7c8ba26dbb08d0501f2d1a03125a7b62d65c0de9b7b70b028decf3d0e21'), <NodeRelationship.PREVIOUS: '2'>: RelatedNodeInfo(node_id='165a60b4-680f-42e0-8d1b-be33c370c840', node_type=<ObjectType.TEXT: '1'>, metadata={'page_label': '2', 'file_name': '/share/data/fiches_seismes/irsn_Seisme-Japon_052003.pdf'}, hash='0ceb072aa3214c3cef0a9431f3a0f2938855c90b80bc87a989a141dc9696e08a'), <NodeRelationship.NEXT: '3'>: RelatedNodeInfo(node_id='c5895da6-094c-4468-9fcb-7fcc526734c1', node_type=<ObjectType.TEXT: '1'>, metadata={}, hash='87812bf81e33755f61201f2ae7cd9c2dcddf5670c9322b0ebf029cd964331354')}, text='I  N  F  O  R  M  A  T  I  O  N \\n3\\nLe site nucléaire d’Onagawa \\nLe séisme du 26 mai 2003 a été ressenti sur le site nucléaire de Tohoku Electric Power) à Onagawa, située  à un \\npeu plus de 50 km de l’épicentre (distance hypocent rale : 75 km). Cette centrale comporte trois tranche s à eau \\nbouillante TOSHIBA, de puissances respectives 525, 825 et 825 MWe dont une seule était en fonctionnemen t au \\nmoment du séisme (Source Asahi Shinbun). D’après la  JMA, l’intensité 6-7 (sur l’échelle japonaise JMA d e 7 degrés) \\na été atteinte dans la zone de l’épicentre et dans l a région du site d’Onagawa. Les intensités JMA sont  calculées à\\npartir des enregistrements de l’accélération du sol . Les fortes valeurs d’accélération (> 0,5 g) dédui tes dans un \\npremier temps (le 26 mai) de la carte des intensité s sont confirmées par les mesures d’accélération di sponibles \\ndepuis le 27 mai 2003. \\nL’intensité 6-7 de l’échelle JMA correspond à l’inten sité IX à IX-X de l’échelle Mercalli MSK (Kramer S. L.,  \\nGeotechnical earthquake engineering - Eds Prentice, Hal l International series, 1996) utilisée pour caracté riser la \\nsismicité historique française. De tels niveaux d’in tensité occasionnent des dommages généralisés aux \\nconstructions anciennes françaises vulnérables. Les  dispositions de construction parasismique japonais es semblent \\navoir permis d’éviter des dégâts et des pertes en v ies humaines. \\nLe dimensionnement des centrales nucléaires japonai ses fait référence à deux niveaux d’accélération de \\nprobabilités d’occurrence différentes. Pour le site  nucléaire d’Onagawa, le premier niveau (0,25 g) es t probable \\npendant la durée de vie de l’installation ; le seco nd (0,375 g) a une probabilité très faible d’être at teint (source : \\nUranium Information Centre). Selon l’Ambassade fran çaise au Japon, l’accélération du sol enregistrée s ur le site \\nde la centrale est de 0,225 g. Le seuil de 0,2 g ét ant dépassé, les dispositifs automatiques de sécuri té ont été\\ndéclenchés par la secousse, entraînant l’arrêt de l a centrale, conformément aux procédures de sûreté ja ponaises. \\nD’après différentes sources de presse japonaises (A sahi Shinbun et Nihon Keizai Shinbun), les autres ce ntrales \\nnucléaires ne se sont pas arrêtées de fonctionner e t n’ont pas subi de dégâts. \\n30 mai 2003 \\nFigure 4 : Carte des sites nucléaires japonais', start_char_idx=0, end_char_idx=2355, text_template='{metadata_str}\\n\\n{content}', metadata_template='{key}: {value}', metadata_seperator='\\n'), score=0.7951469716689848)], metadata={'6fd090a1-7491-4135-b5ea-d57b93b999af': {'page_label': '4', 'file_name': '/share/data/fiches_seismes/IRSN_seisme-Japon_V2-22042011.pdf'}, '2fe97019-616b-4a04-8bf9-a38a5faa1e80': {'page_label': '3', 'file_name': '/share/data/fiches_seismes/irsn_Seisme-Japon_052003.pdf'}}), Response(response='\\nThe context information provided is about two separate events: the 2011 earthquake in Virginia, USA and the 2016 earthquake in Amatrice, Italy. The 2011 earthquake caused damage to the North Anna nuclear power plant in Virginia, while the 2016 earthquake caused widespread destruction in Amatrice and surrounding areas.\\n\\nIn the case of the 2011 earthquake, the Nuclear Regulatory Commission (NRC) placed the site on alert level 2 and conducted an inspection to verify that there were no damages to the reactors. The NRC also conducted a review of the design of the reactors to ensure that they were built to withstand earthquakes of a similar magnitude.\\n\\nIn the case of the 2016 earthquake, the Italian government and emergency services conducted a thorough investigation to assess the damage caused by the earthquake. The investigation included assessing the damage to buildings, infrastructure, and human casualties. The government also provided aid and support to the affected communities, including rebuilding efforts and financial assistance.\\n\\nIt is not clear from the context information provided what specific actions were taken by the Japanese authorities to evaluate the effects of the', source_nodes=[NodeWithScore(node=TextNode(id_='ae0cd452-f39f-4efc-9e0e-dc818c2c7fe3', embedding=None, metadata={'page_label': '4', 'file_name': '/share/data/fiches_seismes/IRSN_seisme_virginie-US-23082011.pdf'}, excluded_embed_metadata_keys=[], excluded_llm_metadata_keys=[], relationships={<NodeRelationship.SOURCE: '1'>: RelatedNodeInfo(node_id='0a9b1af7-24cc-47d7-9878-a5c9c3712951', node_type=<ObjectType.DOCUMENT: '4'>, metadata={'page_label': '4', 'file_name': '/share/data/fiches_seismes/IRSN_seisme_virginie-US-23082011.pdf'}, hash='2f9847986444954ef8548c0b3e2b293a793aff5631678526d783e79c1d8a5120'), <NodeRelationship.PREVIOUS: '2'>: RelatedNodeInfo(node_id='e78906e6-04f8-4087-aaed-f531a44b308e', node_type=<ObjectType.TEXT: '1'>, metadata={'page_label': '3', 'file_name': '/share/data/fiches_seismes/IRSN_seisme_virginie-US-23082011.pdf'}, hash='2a187fe19ddd8439d8c5091f1a45608d46988f5a2d1966da83f2c74a0b4bc69b'), <NodeRelationship.NEXT: '3'>: RelatedNodeInfo(node_id='c7fe9ce8-cefc-4b65-a68d-64d88d574343', node_type=<ObjectType.TEXT: '1'>, metadata={}, hash='292ee9d656d436ac657abab82c96c318ffcc87211cdaa44ef6445d5466e77c06')}, text='Conséquences sur les installations nucléaires \\nLe séisme du 23 août 2011 s’est produit à environ une quinzaine de kilomètres au Sud-Ouest de la centrale \\nnucléaire de North Anna (Virginie).\\nLes deux réacteurs de cette centrale, qui étaient en fonctionnement à puissance nominale, se sont arrêtés \\nautomatiquement du fait de la perte de la connexion avec le réseau électrique. L’alimentation électrique des \\nsystèmes de sûreté de ces réacteurs a été reprise automatiquement par leurs générateurs diesels de secours. \\nL’exploitant a placé ses installations en alerte de niveau 2 sur une échelle qui en compte 4. Les délégations \\nrégionales de la NRC (National Regulatory Commission) ont gréé en conséquence leurs centres de crise. La \\nconnexion avec le réseau électrique a été rétablie après quelques heures. Le site est en cours d’inspection \\npar les employés et les inspecteurs de la NRC pour vérifier l’absence de dommages suite au séisme. \\nSelon la NRC, plusieurs autres centrales ont ressenti la secousse sans toutefois que cela ne perturbe leur \\nfonctionnement. Des vérifications ont été engagées sur les sites concernés par les personnels des \\ninstallations.\\nSelon un rapport de la NRC écrit à la suite du séisme de 2003 localisé dans la même région que celui du 23 \\naoût 2011, les réacteurs de la centrale de North Anna sont conçus pour rester opérationnels et ne pas subir \\nde dégât (OBE - Operating Basis Earthquake) jusqu’à un niveau d’accélération maximale du sol de 0,06 g. Le \\ndimensionnement des réacteurs a été effectué en considérant un niveau d’accélération maximale du sol \\n(Design Basis Earthquake) fixé à 0,12 g. Les enregistrements accélérométriques obtenus sur le site de North \\nAnna permettront de déterminer si les mouvements sismiques observés ont dépassé ceux pris en compte pour \\nle dimensionnement des réacteurs, comme semblent le suggérer les modélisations de l’USGS.\\nLes enseignements\\n/square4Le séisme de magnitude 5,8 du 23 août 2011 s’est produit à une faible profondeur dans une zone \\nsismique reconnue mais qui n’avait jusqu’alors jamais produit de séisme de magnitude supérieure à 5 \\net au sein de laquelle aucune structure géologique active n’avait été formellement identifiée.\\n/square4Le séisme n’a occasionné que très peu de dégâts (du fait notamment de la faible densité de population \\nen zone épicentrale) mais a été ressenti très largement dans l’Est des Etats-Unis (plus de 1000 km), \\nprovoquant d’importants mouvements de foule et une perturbation des transports et communications. \\n/square4Les deux réacteurs de la centrale nucléaire de North Anna, située à 15 km environ de l’épicentre, se \\nsont mis automatiquement à l’arrêt.\\n25 Août 2011 4I  N  F  O  R  M  A  T  I  O  N', start_char_idx=0, end_char_idx=2717, text_template='{metadata_str}\\n\\n{content}', metadata_template='{key}: {value}', metadata_seperator='\\n'), score=0.6263596162539619), NodeWithScore(node=TextNode(id_='09e5497f-51f8-489a-939d-148915ce0a80', embedding=None, metadata={'page_label': '3', 'file_name': '/share/data/fiches_seismes/IRSN-Seisme-Amatrice-Italie-240816_V1.pdf'}, excluded_embed_metadata_keys=[], excluded_llm_metadata_keys=[], relationships={<NodeRelationship.SOURCE: '1'>: RelatedNodeInfo(node_id='92ed0147-7ad6-4d35-ac8b-3a990558c99c', node_type=<ObjectType.DOCUMENT: '4'>, metadata={'page_label': '3', 'file_name': '/share/data/fiches_seismes/IRSN-Seisme-Amatrice-Italie-240816_V1.pdf'}, hash='f69f88c2dba8408f57549bacd29e66bda7653818fcf54c747df487cd0fcd2e9a'), <NodeRelationship.PREVIOUS: '2'>: RelatedNodeInfo(node_id='be82d5b1-8670-42bd-8c61-1cb78c3e4f47', node_type=<ObjectType.TEXT: '1'>, metadata={'page_label': '2', 'file_name': '/share/data/fiches_seismes/IRSN-Seisme-Amatrice-Italie-240816_V1.pdf'}, hash='469e28323fbfa7a06906b94258987a4138c4f0317644852d4d3384cc5043d58b'), <NodeRelationship.NEXT: '3'>: RelatedNodeInfo(node_id='0e2625ef-e48a-42d8-aeca-68ff26160372', node_type=<ObjectType.TEXT: '1'>, metadata={}, hash='b9c56788a16397846443487d522c3e1d032783e8694fd827d0066d94b9e2c9a7')}, text='3 I  N  F  O  R  M  A  T  I  O  N  \\nImpact sur les personnes et les bâtiments  \\nFigure  5 : Cartographie  du résultat  des enquêtes  macrosismiques  remplies  par les utilisateurs  \\nd’internet  (www .haisentitoilterremoto .it). Dans l’échelle  employée  (MCS),  les degrés  2 à 4 correspondent  \\nà des niveaux  pour lesquels  la secousse  est ressentie  par l’homme  et fait bouger  des objets . De 5 à 7, \\nles objets  chutent,  les édifices  perdent  leurs  tuiles,  cheminées,  etc. De 8 à 9, le séisme  est \\ndestructeur  pour 25 à 100% des bâtiments . Les localisations  des sites nucléaires  de Montalto  di \\nCastro,  Casaccia  et Latina  sont indiquées  sur la carte . \\nLa partie  centrale  des Apennins  est caractérisée  par une densité  de population  relativement  faible  (inférieure  à 100 \\nhabitants  par km carré) . Le tissu urbain  est composé  de petites  villes  d’origine  médiévale  caractérisées  par une \\nvulnérabilité  élevée .  \\nLe bilan des victimes  et des dégâts  produits  par le séisme  est à ce jourencore  provisoire . Le 26 août à 08h30, le \\nbilan humain  s’établissait  à 267 décès,  des centaines  de blessés  et plusieurs  centaines  de disparus  (Protezione  Civile  \\nItaliana ).  \\nPour ce qui concerne  les dégâts  occasionnés  aux bâtiments  et aux infrastructures,  les informations  disponibles  \\nrestent  encore  partielles  et sujettes  à caution  dans l’attente  des résultats  des missions  d’expert  et compte  tenu de \\nla priorité  accordée  aux secours . \\nSelon  la protection  civile  l’ampleur  des dégâts  est supérieure  à celle provoquée  par le séisme  de L’Aquila . Les villes  \\nd’Amatrice,  Accumoli  et Pescara  del Tronto  ont été en grande  partie  détruites  (La Repubblica,  25/08/2016 8h30). \\nToutes  les maisons  en pierre  et en maçonnerie  se sont écroulées . Les murs de remplissage  des maisons  en béton  ont \\néclaté  en provoquant  l’effondrement  des immeubles  (La Repubblica,  24/08/2016 citant  Fabrizio  Curcio  responsable  \\nde la protection  civile ). L’hôpital  de la ville d’Amatrice  a été fortement  endommagé  et a dû être fermé . \\nL’établissement  scolaire  de la ville,  dont une partie  avait fait l’objet  de renforcement  parasismique  en 2012, a subi \\nun effondrement  partiel  (La Repubblica,  24/08/2016). \\nLe séisme  a endommagé  plusieurs  viaducs  et a provoqué  des chutes  de blocs  sur les routes,  rendant  difficile  l’accès  \\nà certaines  zones . Dans un communiqué  de presse,  l’ENEL  (Ente Nazionale  per l’Energia  eLettrica ) a indiqué  que le \\nbarrage  du Scanderello , localisé  à proximité  d’Amatrice,  n’a pas subi de dégâts  ; néanmoins,  il reste  sous \\nsurveillance  renforcée  (Agenzia  Nazionale  Stampa  Associata  25/08/2016 19h40).', start_char_idx=0, end_char_idx=2744, text_template='{metadata_str}\\n\\n{content}', metadata_template='{key}: {value}', metadata_seperator='\\n'), score=0.6261127326302497)], metadata={'ae0cd452-f39f-4efc-9e0e-dc818c2c7fe3': {'page_label': '4', 'file_name': '/share/data/fiches_seismes/IRSN_seisme_virginie-US-23082011.pdf'}, '09e5497f-51f8-489a-939d-148915ce0a80': {'page_label': '3', 'file_name': '/share/data/fiches_seismes/IRSN-Seisme-Amatrice-Italie-240816_V1.pdf'}})], 'IRSN_seisme-Japon_V2-22042011.pdf': [Response(response='\\nThe earthquake of Tohoku in Japan occurred on March 11, 2011, and its magnitude was 9.0.', source_nodes=[NodeWithScore(node=TextNode(id_='d5a8f08e-4f55-4974-8144-b7dd400894e3', embedding=None, metadata={'page_label': '1', 'file_name': '/share/data/fiches_seismes/IRSN_Seisme-Japon_Replique-7-avril_V1-08042011.pdf'}, excluded_embed_metadata_keys=[], excluded_llm_metadata_keys=[], relationships={<NodeRelationship.SOURCE: '1'>: RelatedNodeInfo(node_id='da290da9-84c3-4f4a-9af3-81f9d64ff18c', node_type=<ObjectType.DOCUMENT: '4'>, metadata={'page_label': '1', 'file_name': '/share/data/fiches_seismes/IRSN_Seisme-Japon_Replique-7-avril_V1-08042011.pdf'}, hash='c4bc1406ef15fd8b8569f4e8b5b1288f3fa9c837a810c43141c269b896dd42f4'), <NodeRelationship.PREVIOUS: '2'>: RelatedNodeInfo(node_id='92463946-7785-4a0f-8439-f0d4e1e5a068', node_type=<ObjectType.TEXT: '1'>, metadata={'page_label': '4', 'file_name': '/share/data/fiches_seismes/IRSN_Fiche-Seisme-Ouest-France-16-juin-2023_V1-17062023.pdf'}, hash='504ba5675711cc230852967377a2e1144744a561cbca681145ff57d7bc230be9'), <NodeRelationship.NEXT: '3'>: RelatedNodeInfo(node_id='8e89f1ac-244b-4804-8ffb-d30c09ff088e', node_type=<ObjectType.TEXT: '1'>, metadata={}, hash='3784c329f1f901ad9b2d1138abddacc6c1968d931a39961d7353e0222d113bb4')}, text=\"\\x83Ce séisme est une des plus fortes répliques ayant eu lieu après le séisme du 11 mars 2011   \\n(Mw = 9). L’épicentre est situé à une latitude de 38,25°N et une longitude de 141,64°E (Figure \\n1). Sa profondeur est estimée à environ 50 km (source USGS). Le séisme s’est produit sur la \\nmême structure tectonique que celle activée lors du choc principal. \\n\\x83Une alerte au tsunami a été émise rapidement après le séisme en demandant à la population \\nd’évacuer les zones côtières et fluviales. L’al erte a été levée environ 1 heure après (source \\nNHK).\\n\\x83Des coupures de courant ont été rapportées da ns de nombreuses localités de la zone \\népicentrale. Les autorités japonaises procèdent actuellement à des vérifications pour évaluer \\nles effets occasionnés par cette réplique. Le séisme a été ressenti sur une grande partie du \\nterritoire nord de l’île d’Honshu et en particulier à Tokyo. \\n\\x83Compte tenu de la proximité de cette réplique (20 km), les accélérations du sol à la centrale \\nd’Onagawa pourraient avoir été importantes. Néanmo ins, à titre de comparaison, les secousses \\nproduites par cette réplique et enregistrées par les stations sismologiques situées à environ 50 \\nkm de la centrale sont inférieures à celles produites par le séisme du 11 mars 2011 (1,48 g au \\nlieu de 2,0 g à la station de Shiogama et 1.26 g au lieu de 2,7 g à la station de Tsukidate). \\nUn point sur la situation des centrales nucléaires japonaises sera publié dès que possible.I  N  F  O  R  M  A  T  I  O  N\\nLe Bureau \\nd'évaluation des risques \\nsismiques pour \\nla sûreté des installations \\n(BERSSIN) de l’IRSN \\neffectuedes recherches \\net des expertises \\nsur l’aléa sismique en tant que source \\nd’agression externe \\ndes installations à risque\\nCONTACT :\\nBaumont David\\nIRSN/DEI/SARG/BERSSIN\\n01 58 35 76 83\\nDavid.Baumont@irsn.fr\\n08 Avril 20111FS 8\\nFigure 1. Localisation des épicentres du choc  principal et de la réplique du 7 avril. \\nL’importance du déplacement sur la faille activée lors du séisme du 11 mars est \\nreprésentée par les franges colorées. La couleur rouge indique le plus fort \\ndéplacement lors du séisme du 11 mars (Source USGS – Google Earth)Jeudi 07 avril 2011, à 14h32 TU (23h32 heure locale), un séisme de \\nmagnitude 7,1 s’est produit à quelques ki lomètres de la côte Est de l’île \\nd’Honshu au Japon, à environ 20 km de la centrale nucléaire d’Onagawa,  \\net à 70 km à l’est de la ville de Sendaï.\\nwww.irsn.frForte réplique près de la centrale \\nd’Onagawa (Japon) suite au séisme \\nde Tohoku\\ndu jeudi 07 avril 2011 (14h32 TU)\\nMagnitude = 7,1 Version 1 du 8 Avril 2011\\nSéisme du \\n11/03/11\\nM = 9,0\\nRéplique du \\n07/04/11\\nM = 7,1\", start_char_idx=0, end_char_idx=2618, text_template='{metadata_str}\\n\\n{content}', metadata_template='{key}: {value}', metadata_seperator='\\n'), score=0.7869890188814055), NodeWithScore(node=TextNode(id_='6343905c-71eb-4bfb-856f-1a5b4371bf6e', embedding=None, metadata={'page_label': '1', 'file_name': '/share/data/fiches_seismes/irsn_seisme_niigata_japon_092007.pdf'}, excluded_embed_metadata_keys=[], excluded_llm_metadata_keys=[], relationships={<NodeRelationship.SOURCE: '1'>: RelatedNodeInfo(node_id='f3ac2df1-2260-4428-98ca-0be9e582281d', node_type=<ObjectType.DOCUMENT: '4'>, metadata={'page_label': '1', 'file_name': '/share/data/fiches_seismes/irsn_seisme_niigata_japon_092007.pdf'}, hash='dcdfac0178d67da75afb74eff124e7360c17c08211cbe821f9c642fdcc3f2d85'), <NodeRelationship.PREVIOUS: '2'>: RelatedNodeInfo(node_id='914d3e6f-6c75-480b-a975-54288c1266e7', node_type=<ObjectType.TEXT: '1'>, metadata={'page_label': '2', 'file_name': '/share/data/fiches_seismes/IRSN_seisme_turquie-23102011.pdf'}, hash='9c20ddf45853832c7a422a33abb45022c414a68e0af4dd64eae03fcbcc905443'), <NodeRelationship.NEXT: '3'>: RelatedNodeInfo(node_id='f6d6b72e-22da-49bc-a65e-b2f7cb94a022', node_type=<ObjectType.TEXT: '1'>, metadata={}, hash='f947051d109055160fce7e74f0a62bce02be1e92e16d5a45749ae35329c4234a')}, text=\"Rappel des faits\\n\\x83Lundi 16 juillet, à 1h13 (10h13 heure locale), un séisme de magnitude \\nimportante s’est produit dans la préfecture de Niigata dans l’île principale de \\nHonshu .\\n\\x83La magnitude de moment (Mw) est estimée à 6,6 (sources : NEID, JMA, Harvard CMT, \\nUSGS NEIC). L’épicentre est situé à une lati tude de 37,5° Nord et à une longitude de \\n138,6° Est (Figure 1), soit à une distance d’environ 10 km de la centrale nucléaire \\nde Kashiwazaki-Kariwa. Le choc principal a été suivi par de nombreuses répliques \\ndont une de magnitude égale à 5,6 qui s’ est produite environ 5 heures après la \\npremière secousse.\\n\\x83Le séisme s’est produit en mer à une prof ondeur estimée entre 10 et 15 km sur un \\nsystème de failles qui n’était pas claireme nt identifié comme étant actif avant ce \\nséisme.\\n\\x83L’événement sismique a été relayé par dive rs organes de presse, mentionnant en \\nparticulier les conséquences sur la centrale  nucléaire de Kashiwazaki-Kariwa (voir la \\nnote d'information du 20 juillet 2007 faisant état de 67 anomalies).\\n\\x83Une mission d’experts a été conduite par l’AIEA à la demande du gouvernement \\njaponais du 6 au 10 août 2007 ( voir le rapport de la mission sur le site \\nwww.iaea.org ).Séisme de Chu-Etsu-Oki (Japon)\\ndu lundi 16 juillet 2007\\nMagnitude = 6,6 à 1h13 (TU)I  N  F  O  R  M  A  T  I  O  N\\nLe Bureau \\nd'évaluation des risques \\nsismiques pour \\nla sûreté des installations \\n(BERSSIN) de l’IRSN \\neffectuedes recherches \\net des expertises \\nsur l’aléa sismique en tant que source \\nd’agression externe \\ndes installations à risque\\nCONTACT :\\nOona Scotti\\nIRSN/BERSSIN\\n01 58 35 86 47\\nOona.Scotti@irsn.fr\\n04 septembre 2007 1www.irsn.orgFS 5\\nLocalisation\\nde l’épicentre \\ndu séismeFigure 1\", start_char_idx=0, end_char_idx=1702, text_template='{metadata_str}\\n\\n{content}', metadata_template='{key}: {value}', metadata_seperator='\\n'), score=0.7769735170691687)], metadata={'d5a8f08e-4f55-4974-8144-b7dd400894e3': {'page_label': '1', 'file_name': '/share/data/fiches_seismes/IRSN_Seisme-Japon_Replique-7-avril_V1-08042011.pdf'}, '6343905c-71eb-4bfb-856f-1a5b4371bf6e': {'page_label': '1', 'file_name': '/share/data/fiches_seismes/irsn_seisme_niigata_japon_092007.pdf'}}), Response(response='\\nThe earthquake of Tohoku in Japan on March 11, 2011, had an epicenter located at a latitude of 38.25°N and a longitude of 141.64°E (Figure 1). The magnitude of the earthquake was 9.0 (source USGS).', source_nodes=[NodeWithScore(node=TextNode(id_='d5a8f08e-4f55-4974-8144-b7dd400894e3', embedding=None, metadata={'page_label': '1', 'file_name': '/share/data/fiches_seismes/IRSN_Seisme-Japon_Replique-7-avril_V1-08042011.pdf'}, excluded_embed_metadata_keys=[], excluded_llm_metadata_keys=[], relationships={<NodeRelationship.SOURCE: '1'>: RelatedNodeInfo(node_id='da290da9-84c3-4f4a-9af3-81f9d64ff18c', node_type=<ObjectType.DOCUMENT: '4'>, metadata={'page_label': '1', 'file_name': '/share/data/fiches_seismes/IRSN_Seisme-Japon_Replique-7-avril_V1-08042011.pdf'}, hash='c4bc1406ef15fd8b8569f4e8b5b1288f3fa9c837a810c43141c269b896dd42f4'), <NodeRelationship.PREVIOUS: '2'>: RelatedNodeInfo(node_id='92463946-7785-4a0f-8439-f0d4e1e5a068', node_type=<ObjectType.TEXT: '1'>, metadata={'page_label': '4', 'file_name': '/share/data/fiches_seismes/IRSN_Fiche-Seisme-Ouest-France-16-juin-2023_V1-17062023.pdf'}, hash='504ba5675711cc230852967377a2e1144744a561cbca681145ff57d7bc230be9'), <NodeRelationship.NEXT: '3'>: RelatedNodeInfo(node_id='8e89f1ac-244b-4804-8ffb-d30c09ff088e', node_type=<ObjectType.TEXT: '1'>, metadata={}, hash='3784c329f1f901ad9b2d1138abddacc6c1968d931a39961d7353e0222d113bb4')}, text=\"\\x83Ce séisme est une des plus fortes répliques ayant eu lieu après le séisme du 11 mars 2011   \\n(Mw = 9). L’épicentre est situé à une latitude de 38,25°N et une longitude de 141,64°E (Figure \\n1). Sa profondeur est estimée à environ 50 km (source USGS). Le séisme s’est produit sur la \\nmême structure tectonique que celle activée lors du choc principal. \\n\\x83Une alerte au tsunami a été émise rapidement après le séisme en demandant à la population \\nd’évacuer les zones côtières et fluviales. L’al erte a été levée environ 1 heure après (source \\nNHK).\\n\\x83Des coupures de courant ont été rapportées da ns de nombreuses localités de la zone \\népicentrale. Les autorités japonaises procèdent actuellement à des vérifications pour évaluer \\nles effets occasionnés par cette réplique. Le séisme a été ressenti sur une grande partie du \\nterritoire nord de l’île d’Honshu et en particulier à Tokyo. \\n\\x83Compte tenu de la proximité de cette réplique (20 km), les accélérations du sol à la centrale \\nd’Onagawa pourraient avoir été importantes. Néanmo ins, à titre de comparaison, les secousses \\nproduites par cette réplique et enregistrées par les stations sismologiques situées à environ 50 \\nkm de la centrale sont inférieures à celles produites par le séisme du 11 mars 2011 (1,48 g au \\nlieu de 2,0 g à la station de Shiogama et 1.26 g au lieu de 2,7 g à la station de Tsukidate). \\nUn point sur la situation des centrales nucléaires japonaises sera publié dès que possible.I  N  F  O  R  M  A  T  I  O  N\\nLe Bureau \\nd'évaluation des risques \\nsismiques pour \\nla sûreté des installations \\n(BERSSIN) de l’IRSN \\neffectuedes recherches \\net des expertises \\nsur l’aléa sismique en tant que source \\nd’agression externe \\ndes installations à risque\\nCONTACT :\\nBaumont David\\nIRSN/DEI/SARG/BERSSIN\\n01 58 35 76 83\\nDavid.Baumont@irsn.fr\\n08 Avril 20111FS 8\\nFigure 1. Localisation des épicentres du choc  principal et de la réplique du 7 avril. \\nL’importance du déplacement sur la faille activée lors du séisme du 11 mars est \\nreprésentée par les franges colorées. La couleur rouge indique le plus fort \\ndéplacement lors du séisme du 11 mars (Source USGS – Google Earth)Jeudi 07 avril 2011, à 14h32 TU (23h32 heure locale), un séisme de \\nmagnitude 7,1 s’est produit à quelques ki lomètres de la côte Est de l’île \\nd’Honshu au Japon, à environ 20 km de la centrale nucléaire d’Onagawa,  \\net à 70 km à l’est de la ville de Sendaï.\\nwww.irsn.frForte réplique près de la centrale \\nd’Onagawa (Japon) suite au séisme \\nde Tohoku\\ndu jeudi 07 avril 2011 (14h32 TU)\\nMagnitude = 7,1 Version 1 du 8 Avril 2011\\nSéisme du \\n11/03/11\\nM = 9,0\\nRéplique du \\n07/04/11\\nM = 7,1\", start_char_idx=0, end_char_idx=2618, text_template='{metadata_str}\\n\\n{content}', metadata_template='{key}: {value}', metadata_seperator='\\n'), score=0.8264835105358539), NodeWithScore(node=TextNode(id_='359f3358-2a6b-4111-b23a-249a10092f28', embedding=None, metadata={'page_label': '1', 'file_name': '/share/data/fiches_seismes/irsn_Seisme-Japon_052003.pdf'}, excluded_embed_metadata_keys=[], excluded_llm_metadata_keys=[], relationships={<NodeRelationship.SOURCE: '1'>: RelatedNodeInfo(node_id='e0b5b537-a728-485b-a71c-516ab1797349', node_type=<ObjectType.DOCUMENT: '4'>, metadata={'page_label': '1', 'file_name': '/share/data/fiches_seismes/irsn_Seisme-Japon_052003.pdf'}, hash='5d5e7f2334d1fb729dcebb5a3e0ad1f3be6d05536e6d160c3accfc2025353917'), <NodeRelationship.PREVIOUS: '2'>: RelatedNodeInfo(node_id='c4560d71-ceed-496f-a2e3-9c82348b3b53', node_type=<ObjectType.TEXT: '1'>, metadata={'page_label': '2', 'file_name': '/share/data/fiches_seismes/IRSN-Seisme-Charente-Maritime-France-20190320_v1.1.pdf'}, hash='647b155d2704ab559969fe145d906dfd47243ab597d508c2a1df9debe3846aa8'), <NodeRelationship.NEXT: '3'>: RelatedNodeInfo(node_id='165a60b4-680f-42e0-8d1b-be33c370c840', node_type=<ObjectType.TEXT: '1'>, metadata={}, hash='a0c4f9111f921b190950578e2682013beed5fc85cf44eb25a555a6f3ded736b1')}, text=\"Rappel des faits \\n/square4Lundi 26 mai, un important séisme de magnitude 7 a eu lieu au Japon à 18h24 \\nheure locale (26 mai à 9h24 GMT) (source : Japanese M eteorological Agency, \\nJMA). \\n/square4L’épicentre est localisé au large de la côte orienta le de l’île de Honshu (préfecture \\nde Miyagi), et à environ 390 km au Nord Nord-est de Tokyo. D’après les premières \\nestimations, l’épicentre se situe à une latitude de 38,817 degrés nord et à une \\nlongitude de 141,654 degrés est ; l’hypocentre est localisé à une profondeur \\nd’environ 70 km (source JMA). Plusieurs répliques o nt été enregistrées dans les \\nheures qui ont suivi. \\n/square4D’après les premières informations, les dégâts sur les bâtiments sont mineurs ; \\nquelques incendies, éboulements et glissements de t errain sont signalés. Plus d’une \\ncentaine de personnes auraient été blessées. Le séis me a été ressenti à une grande \\ndistance de l’épicentre, jusqu’à Tokyo où la secousse  aurait duré entre 1 et 2 \\nminutes. Il a été enregistré sur l’ensemble des résea ux sismologiques mondiaux. Le \\nJapon dispose d’un réseau de mesures accélérométriq ues dense en surface (environ \\n1 000 stations sur le territoire). Certains accélér omètres en surface sont doublés en \\nprofondeur, afin d’étudier la modification des onde s sismiques par les couches \\nsuperficielles du sol. L’accélération du sol, enreg istrée avec précision sur tout le \\nterritoire, a atteint des valeurs très élevées (sup érieures à 0,5 g) sur une zone très \\nétendue. Séisme de Myiagi (Japon) \\ndu lundi 26 mai 2003 \\nMagnitude = 7 à 9h24 (GMT) I  N  F  O  R  M  A  T  I  O  N \\nLe Bureau \\nd'évaluation \\ndes risques \\nsismiques pour \\nla sûreté des \\ninstallations \\n(BERSSIN) de l’IRSN \\neffectue \\ndes recherches \\net des expertises \\nsur l’aléa sismique \\nen tant que source \\nd’agression externe \\ndes installations \\nà risque \\n1FS 6 \\n30 mai 2003 \\n30 mai 2003 www.irsn.org CONTACT : \\nIRSN/BERSSIN \\nFigure 1 : Contexte sismotectonique de la subduction  Pacifique-\\nEurasie\", start_char_idx=0, end_char_idx=1983, text_template='{metadata_str}\\n\\n{content}', metadata_template='{key}: {value}', metadata_seperator='\\n'), score=0.810144502389225)], metadata={'d5a8f08e-4f55-4974-8144-b7dd400894e3': {'page_label': '1', 'file_name': '/share/data/fiches_seismes/IRSN_Seisme-Japon_Replique-7-avril_V1-08042011.pdf'}, '359f3358-2a6b-4111-b23a-249a10092f28': {'page_label': '1', 'file_name': '/share/data/fiches_seismes/irsn_Seisme-Japon_052003.pdf'}})], 'IRSN_seisme-Manosque_V1-12072010.pdf': [Response(response='\\nThe magnitude of the earthquake that occurred in Manosque on July 8, 2010, is 3.0 according to the CEA/LDG and 2.9 according to the RENASS. The version of the document being consulted is version 1.', source_nodes=[NodeWithScore(node=TextNode(id_='a5c78511-dada-433f-b087-73263e35d00c', embedding=None, metadata={'page_label': '1', 'file_name': '/share/data/fiches_seismes/IRSN_seisme-Manosque_V1-12072010.pdf'}, excluded_embed_metadata_keys=[], excluded_llm_metadata_keys=[], relationships={<NodeRelationship.SOURCE: '1'>: RelatedNodeInfo(node_id='21d3007b-ae74-48d4-b03e-7acca07a02c1', node_type=<ObjectType.DOCUMENT: '4'>, metadata={'page_label': '1', 'file_name': '/share/data/fiches_seismes/IRSN_seisme-Manosque_V1-12072010.pdf'}, hash='e6ab4147b99d703d9162efc8ee18020d8ab42c7fd232bb8f3f58a9901b26fbcd'), <NodeRelationship.PREVIOUS: '2'>: RelatedNodeInfo(node_id='d91eb4ba-c968-4959-a3e3-937303ac593e', node_type=<ObjectType.TEXT: '1'>, metadata={'page_label': '4', 'file_name': '/share/data/fiches_seismes/IRSN-Seisme-Elazig-Turquie-24012020.pdf'}, hash='b44a08a884a8f0df9719affb83da97c0d3ccb7d37fee8c129c254ff655d4858b'), <NodeRelationship.NEXT: '3'>: RelatedNodeInfo(node_id='c463f41b-b599-4b70-bd8a-5060c1d34ed3', node_type=<ObjectType.TEXT: '1'>, metadata={}, hash='4d9fc3f67eb7ff392529c23c6ca258ff4290b1ee37cfdefb23dadbc9085449ab')}, text=\"Rappel des faits\\n\\x83Jeudi 8 juillet 2010, à 20h20 TU (22h20 heure locale), un séisme de faible \\nmagnitude s’est produit au voisinage immé diat de Manosque (2-3 km) : Ml = 3,0 à\\n43°50’ Nord et 5°50’ Est selon le CEA/LDG, Ml=2,9 à 43,810°Nord et 5,8°Est selon le RENASS. Le séisme s’est très vraisemblablement produit à faible profondeur.\\n\\x83La secousse, qui n’a pas fait de dégâts, a été fortement ressentie par la population àManosque et Pierrevert (et dans une moindre mesure à Sainte-Tulle, Volx, Corbières et Villeneuve), mais ne semble ne pas av oir été ressentie de manière significative \\nau-delà d’une distance de quelques kilo mètres de l’épicentre (Oraison, Mane, \\nSainte-Maime).\\n\\x83La Ville de Manosque a connu deux épisodes  sismiques remarquables dans le passé, \\nl’un en 1509 et l’autre en 1708. Ces deux événements ont provoqué des dégâts importants aux constructions et sont recensés dans la base de sismicité historique \\n(www.sisfrance.net\\n) avec une intensité de VIII à Manosque. L’intensité correspond à\\nune évaluation de l’importance de la seco usse en un lieu donné en termes d’effets \\n(perception, effets sur les objets et/o u dommages aux constructions). La magnitude \\nde ces séismes est actuellement évaluée autour de 5.\\n\\x83Le séisme du jeudi 8 juillet 2010 est associé au fonctionnement de la « Faille de la Moyenne Durance » (FMD) et traduit l’activi té régulière mais faible de celle-ci. \\nSouvent non perçus par la population, ses séismes sont généralement de faible \\nmagnitude.Séisme à Manosque \\n(Alpes de Haute-Provence) \\ndu jeudi 8 juillet 2010 (20h20 TU)\\nMagnitude = 3,0 (Ml)I  N  F  O  R  M  A  T  I  O  N\\nLe Bureau \\nd'évaluation des risques \\nsismiques pour \\nla sûreté des installations \\n(BERSSIN) de l’IRSN \\neffectuedes recherches \\net des expertises \\nsur l’aléa sismique en tant que source \\nd’agression externe \\ndes installations à risque\\n1FS 6\\nVersion 1 du 12 juillet 2010\\nwww.irsn.frCONTACT :\\nIRSN/BERSSIN\\nDavid Baumont\\nMarc Cushing\\n01 58 35 91 24\\ndavid.baumont@irsn.fr\\nedward.cushing@irsn.fr\\nFigure 1 : Localisation du séisme du 8 juillet 2010 (étoile)\\n12 juillet 2010\", start_char_idx=0, end_char_idx=2093, text_template='{metadata_str}\\n\\n{content}', metadata_template='{key}: {value}', metadata_seperator='\\n'), score=0.8534781454897626), NodeWithScore(node=TextNode(id_='197319cb-48b7-4628-9be2-4885b7a71e7f', embedding=None, metadata={'page_label': '1', 'file_name': '/share/data/fiches_seismes/IRSN-Seisme-Vendee-France-20180212.pdf'}, excluded_embed_metadata_keys=[], excluded_llm_metadata_keys=[], relationships={<NodeRelationship.SOURCE: '1'>: RelatedNodeInfo(node_id='08961984-6a02-42c0-8199-a240fdf2d97b', node_type=<ObjectType.DOCUMENT: '4'>, metadata={'page_label': '1', 'file_name': '/share/data/fiches_seismes/IRSN-Seisme-Vendee-France-20180212.pdf'}, hash='25df9f8ca9e2ff55d1c783953000ac1ba29f50ffea94cd5da3facc9d105e2733'), <NodeRelationship.PREVIOUS: '2'>: RelatedNodeInfo(node_id='4988fee4-7748-4b40-b1b0-d4b1fd6c5d6a', node_type=<ObjectType.TEXT: '1'>, metadata={'page_label': '1', 'file_name': '/share/data/fiches_seismes/IRSN-Seisme-Vendee-France-20180212.pdf'}, hash='b0c038dc4ccd4ad26e2e258c0dccd30e0e96f34ef9dfad5d48f542e30c22b8ba'), <NodeRelationship.NEXT: '3'>: RelatedNodeInfo(node_id='254616fa-e7cf-4ec4-bdc8-318c5afcc11a', node_type=<ObjectType.TEXT: '1'>, metadata={}, hash='e8d673f73fbcba8e73995bc49f4e0fe73c5f41ff71a29f8925219c732a868186')}, text='14 février 2018  \\nSismicité historique et actuelle au sud de l’Armorique  \\n\\uf0a7La Vendée  a connu  dans le passé  plusieurs  événements  d’ampleur  similaire  à \\ncelui survenu  le 12 février . A l’échelle  régionale  (rayon  de 50 km), la base de \\ndonnées  IRSN recense  21 séismes  de magnitude  supérieure  ou égale  à 4,0 ; dans \\nla base de données  SisFrance  (www .sisfrance .net), ce sont 20 séismes  d’intensité  \\népicentrale  supérieure  ou égale  à V qui sont répertoriés . \\n1Ml : magnitude locale (similaire à l’échelle de Richter)  \\n2Mw: magnitude de moment, fondée sur la mesure du moment (énergie) sismique', start_char_idx=2212, end_char_idx=2828, text_template='{metadata_str}\\n\\n{content}', metadata_template='{key}: {value}', metadata_seperator='\\n'), score=0.8158045839959963)], metadata={'a5c78511-dada-433f-b087-73263e35d00c': {'page_label': '1', 'file_name': '/share/data/fiches_seismes/IRSN_seisme-Manosque_V1-12072010.pdf'}, '197319cb-48b7-4628-9be2-4885b7a71e7f': {'page_label': '1', 'file_name': '/share/data/fiches_seismes/IRSN-Seisme-Vendee-France-20180212.pdf'}}), Response(response='\\nThe population has reacted to the seismic activity in different ways. For the seismic activity on April 28, 2016, the population was largely affected, with the strongest intensities being reported in the cities of Rennes, Limoges, and Bordeaux. The vibration was very rapid and sonorous in the immediate vicinity of the epicenter, while balancements were observed at a greater distance. The most severe damage was reported at the church of Thairé, which is located in the epicentral area.\\n\\nFor the seismic activity on February 12, 2018, the population was also affected, with the strongest intensities being reported in the cities of Tours and Nantes. The seismic activity was accompanied by an audible sound wave that was heard up to 20 kilometers away from the epicenter. The frayeur was experienced by some residents.\\n\\nThe zones most affected by the seismic activity on July 8, 2010, were those located in the epicentral area, which was the city of Poitiers. The seismic activity was characterized by a magnitude of 5.2 on', source_nodes=[NodeWithScore(node=TextNode(id_='c8ce7386-c95d-423f-b13a-6eff62f8d837', embedding=None, metadata={'page_label': '1', 'file_name': '/share/data/fiches_seismes/IRSN-Seisme-LaRochelle-28042016.pdf'}, excluded_embed_metadata_keys=[], excluded_llm_metadata_keys=[], relationships={<NodeRelationship.SOURCE: '1'>: RelatedNodeInfo(node_id='d7c13522-55b0-436b-8d29-56e04824a24a', node_type=<ObjectType.DOCUMENT: '4'>, metadata={'page_label': '1', 'file_name': '/share/data/fiches_seismes/IRSN-Seisme-LaRochelle-28042016.pdf'}, hash='0d15fcba3562cc6fb670123d54eb74c17882462a658859a5688a091e17c7ef9e'), <NodeRelationship.PREVIOUS: '2'>: RelatedNodeInfo(node_id='7ccdb110-b9cc-4c6d-b220-90878c6afac5', node_type=<ObjectType.TEXT: '1'>, metadata={'page_label': '2', 'file_name': '/share/data/fiches_seismes/IRSN-Seisme-Kent-22052015.pdf'}, hash='fe67ebf02a4ae766021ff71148209a1e8a14bc28917aaee55c652ad9c0e5e258'), <NodeRelationship.NEXT: '3'>: RelatedNodeInfo(node_id='151c1a4d-6267-46f3-86c1-c094abdce83e', node_type=<ObjectType.TEXT: '1'>, metadata={}, hash='143a7c74059ca6a7d9959355c6b2fb28004bd7de059cb762c92a1e7f61876fbb')}, text=\"Les faits  \\n\\uf0a7Jeudi  28 avril 2016 , à 8h46 heure  locale,  un séisme  de magnitude  modérée,  \\ncomprise  entre  3,8-4,2 (Mw INSU)  et 5,2 (Ml CEA) selon  les instituts,  s’est produit  à \\n15 km au Sud-Est de La Rochelle  (localisation  CEA/LDG : 46,09°Nord et 0,98°Ouest  - \\nhttp://www -dase.cea.fr/).  \\n \\n\\uf0a7La secousse  a été largement  ressentie  par la population  du centre -ouest  de la \\nFrance,  notamment  jusqu’à  Rennes,  Limoges  et Bordeaux . Les intensités  les plus \\nfortes  collectées  par le BCSF  à ce jour (www .franceseisme .fr) atteignent  V (secousse  \\nfortement  ressentie  – dégâts  très légers  sur bâtiments  vulnérables) . Elle a été \\nressentie  sous la forme  d’une  vibration  très rapide  et sonore  en zone  proche  de \\nl’épicentre  et des balancements  plus lents  sans bruit  à grande  distance  (observations  \\nrapportées  notamment  sur le site du BCSF ). De très faibles  dégâts  ont été \\nlocalement  rapportés  (chutes  de plâtre,  fissures)  en particulier  à l’église  de Thairé  \\nsituée  en zone  épicentrale . \\n \\n\\uf0a7La région  de La Rochelle  a connu  des événements  similaires  dans le passé . En \\nparticulier,  un séisme  de magnitude  5,2 (estimation  du LDG) s’est produit  sur l’île \\nd’Oléron  le 7 avril 1972 . La région  avait  ensuite  connu  une série  de petits  séismes  \\nd’intensité  pouvant  atteindre  V. A l’échelle  régionale  (rayon  de 50 km), on recense   \\n25 séismes  avec une magnitude  supérieure  ou égale  à 4,0 dans la base de donnée  \\nIRSN et 26 séismes  d’intensité  supérieure  ou égale  à V dans la base de données  \\nSisFrance  (www .sisfrance .net). Le séisme  du 28 avril 2016  est le plus fort séisme  \\nressenti  dans la région  depuis  1972 .  Séisme à La Rochelle  \\n(Nord du bassin aquitain)  \\n \\nDu 28 avril 2016 (6h46 TU)  \\nMagnitude = 5,2 (Ml - CEA) I  N  F  O  R  M  A  T  I  O  N  \\nLe Bureau \\nd'évaluation  \\ndes risques \\nsismiques pour  \\nla sûreté des \\ninstallations \\n(BERSSIN) de l’IRSN \\neffectue  \\ndes recherches  \\net des expertises \\nsur l’aléa sismique \\nen tant que source \\nd’agression externe \\ndes installations  \\nà risque  \\n1 FS 6 \\nVersion 1 du 29 avril 2016  \\nwww.irsn.fr   CONTACT :  \\n \\n IRSN/ BERSSIN  \\nEdward.cushing@irsn.fr  \\nMaria.lancieri@irsn.fr  \\n \\nhttp://www.irsn.fr/FR/Contact / Figure 1 : Localisation du séisme du 28 avril 2016 (étoile rouge, localisation LDG/CEA). Les \\nprincipaux séismes de la région sont représentés selon la magnitude  estimée  (catalogue \\nIRSN).  \\n29 Avril 2016\", start_char_idx=0, end_char_idx=2476, text_template='{metadata_str}\\n\\n{content}', metadata_template='{key}: {value}', metadata_seperator='\\n'), score=0.7928492518313336), NodeWithScore(node=TextNode(id_='4988fee4-7748-4b40-b1b0-d4b1fd6c5d6a', embedding=None, metadata={'page_label': '1', 'file_name': '/share/data/fiches_seismes/IRSN-Seisme-Vendee-France-20180212.pdf'}, excluded_embed_metadata_keys=[], excluded_llm_metadata_keys=[], relationships={<NodeRelationship.SOURCE: '1'>: RelatedNodeInfo(node_id='08961984-6a02-42c0-8199-a240fdf2d97b', node_type=<ObjectType.DOCUMENT: '4'>, metadata={'page_label': '1', 'file_name': '/share/data/fiches_seismes/IRSN-Seisme-Vendee-France-20180212.pdf'}, hash='25df9f8ca9e2ff55d1c783953000ac1ba29f50ffea94cd5da3facc9d105e2733'), <NodeRelationship.PREVIOUS: '2'>: RelatedNodeInfo(node_id='7f6ae2e5-38bd-4247-ac58-8831511dbf21', node_type=<ObjectType.TEXT: '1'>, metadata={'page_label': '2', 'file_name': '/share/data/fiches_seismes/irsn_Seisme-Besancon_022004.pdf'}, hash='993d0615ee9a01c76c43ec3316eed678123fb6d0ad5d728b8631e0b74c47543b'), <NodeRelationship.NEXT: '3'>: RelatedNodeInfo(node_id='197319cb-48b7-4628-9be2-4885b7a71e7f', node_type=<ObjectType.TEXT: '1'>, metadata={}, hash='9005c3959567cb25e8fd5e0e6fba1199d813c2765ef495430638c6a1355517da')}, text=\"Les faits  \\n\\uf0a7Lundi  12 février  2018 , à 4h08 heure  locale,  un séisme  de magnitude  modérée,  \\ncomprise  entre  3,9-4,0 (en magnitude  Mw2 selon  les estimations  de l’IPGP  et \\nGeoazur ) et 4,6-4,8 (en magnitude  Ml1 selon  les estimations  du ReNaSS  et du CEA),  \\ns’est produit  entre  Poitiers  et La Roche -sur-Yon (localisation  ReNaSS  : 46,65° Nord \\net 0,59° Ouest  - https ://renass .unistra .fr/). D’après  les informations  fournies  par les \\ninstituts  qui ont étudié  l’évènement,  le séisme  serait  relativement  superficiel  avec \\nune profondeur  du foyer  estimée  entre  2 et 10 km. L’analyse  des enregistrements  \\nsismiques  a permis  d’établir  que l’évènement  était associé  au mouvement  en \\ncoulissage  (mouvement  horizontal)  d’une  faille  verticale  de direction  vraisemblable  \\nNO-SE. \\n \\n\\uf0a7La secousse  a été largement  ressentie  par la population  du centre -ouest  de la \\nFrance,  jusqu’à  Tours  et Nantes . Les intensités  les plus fortes  collectées  à ce jour \\npar le BCSF  (www .franceseisme .fr) atteignent  VI (secousse  fortement  ressentie  – \\ndégâts  légers  sur des bâtiments  vulnérables) . Des personnes  ont été réveillées  et des \\nchutes  d’objet  ont été reportées . La secousse,  accompagnée  d’une  onde  sonore  \\nentendue  à plus de 20 km de la zone épicentrale,  a provoqué  la frayeur  de certains  \\nhabitants .  Séisme de Saint -Hilaire -de-Voust  \\n(Vendée)  \\n \\nDu 12 février 2018 (3h08 TU)  \\nMagnitude = 4,8 (Ml1 - CEA) I  N  F  O  R  M  A  T  I  O  N  \\nLe Bureau \\nd'évaluation  \\ndes risques \\nsismiques pour  \\nla sûreté des \\ninstallations \\n(BERSSIN) de l’IRSN \\neffectue  \\ndes recherches  \\net des expertises \\nsur l’aléa sismique \\nen tant que source \\nd’agression externe \\ndes installations  \\nà risque  \\n1 FS 6  \\n14 février 2018  \\nwww.irsn.fr   CONTACT :  \\n \\n IRSN/BERSSIN  \\nEdward.cushing@irsn.fr  \\nLudmila.provost@irsn.fr  \\n \\nhttp://www.irsn.fr/FR/Contact / Figure 1 : Localisation du séisme du 12 février 2018 (étoile jaune, localisation ReNaSS). Les \\nprincipaux séismes de la région sont représentés selon la magnitude estimée (catalogue IRSN). \\nLes lignes rouges représentent les failles issues de la base de données des failles actives de \\nl’IRSN.  \\n14 février 2018  \\nSismicité historique et actuelle au sud de l’Armorique  \\n\\uf0a7La Vendée  a connu  dans le passé  plusieurs  événements  d’ampleur  similaire  à \\ncelui survenu  le 12 février . A l’échelle  régionale  (rayon  de 50 km), la base de \\ndonnées  IRSN recense  21 séismes  de magnitude  supérieure  ou égale  à 4,0 ; dans \\nla base de données  SisFrance  (www .sisfrance .net), ce sont 20 séismes  d’intensité  \\népicentrale  supérieure  ou égale  à V qui sont répertoriés .\", start_char_idx=0, end_char_idx=2691, text_template='{metadata_str}\\n\\n{content}', metadata_template='{key}: {value}', metadata_seperator='\\n'), score=0.7829600406323961)], metadata={'c8ce7386-c95d-423f-b13a-6eff62f8d837': {'page_label': '1', 'file_name': '/share/data/fiches_seismes/IRSN-Seisme-LaRochelle-28042016.pdf'}, '4988fee4-7748-4b40-b1b0-d4b1fd6c5d6a': {'page_label': '1', 'file_name': '/share/data/fiches_seismes/IRSN-Seisme-Vendee-France-20180212.pdf'}})], 'irsn_Seisme-Mexique_012003.pdf': [Response(response=\"\\nQuels sont les dégâts rapportés suite au séisme, et quelle est la particularité de la ville de Mexico en termes d'effet sismique ?\\n\\nLes dégâts rapportés suite au séisme ont été légers dans les environs de Lourdes, avec des chutes de cheminées et des coupures d'électricité. Sur la période récente pour laquelle des enregistrements sont disponibles, le séisme du 17/11/2006 apparaît d'importance significative. Ainsi, parmi les séismes enregistrés depuis plus de 40 ans dans un rayon de 30 km, celui du 17/11/2006 apparaît comme le deuxième le plus important en magnitude locale.\\n\\nLa ville de Mexico est en partie construite sur un lac asséché, qui a la particularité d'amplifier fortement les ondes sismiques (effet de site). Les destructions importantes survenues dans la ville lors du séisme du 19 septembre 1985 (m\", source_nodes=[NodeWithScore(node=TextNode(id_='27457076-be14-495f-82c3-e4c564bd9ced', embedding=None, metadata={'page_label': '2', 'file_name': '/share/data/fiches_seismes/irsn_seisme_argeles_gazost_112006.pdf'}, excluded_embed_metadata_keys=[], excluded_llm_metadata_keys=[], relationships={<NodeRelationship.SOURCE: '1'>: RelatedNodeInfo(node_id='bf588429-49ff-42e2-a575-b3b4429bfeac', node_type=<ObjectType.DOCUMENT: '4'>, metadata={'page_label': '2', 'file_name': '/share/data/fiches_seismes/irsn_seisme_argeles_gazost_112006.pdf'}, hash='e06384907076f52a5594e5be17b85d2444934fb56394b59302f97180bae2d396'), <NodeRelationship.PREVIOUS: '2'>: RelatedNodeInfo(node_id='fc2da5e0-0bb9-42e9-948c-d7b3834f44ed', node_type=<ObjectType.TEXT: '1'>, metadata={'page_label': '1', 'file_name': '/share/data/fiches_seismes/irsn_seisme_argeles_gazost_112006.pdf'}, hash='8ffbda138c4f9d9bd0e8a403f366985bbd4b22859b8ba723b7806bbffe67fbfd'), <NodeRelationship.NEXT: '3'>: RelatedNodeInfo(node_id='7fc1734d-7be8-4bac-907d-61b7247cdaa9', node_type=<ObjectType.TEXT: '1'>, metadata={}, hash='251cbcf2326a50e71d800dc2ef53fbf5b8a53237a188239bd8679495c55442d9')}, text=\"Ce séisme a été fortement ressenti dans le département des Hautes-Pyrénées,\\nprincipalement dans le pays de Lourdes, mais aussi plus modérément dans les départements voisins \\ndes Pyrénées-Atlantiques et de Haute-Garonne. De légers dégâts ont été signalés dans les environs \\nde Lourdes (chutes de cheminées), tandis que de brèves coupures d’électricité ont aus si affecté\\ndes communes des Hautes-Pyrénées.Témoignages recueillis\\nBureau Central Sismologique Français (www.bcsf.prd.fr)\\nLe séisme du 17/11/2006 est localisé dans la  région de la Faille nord-pyrénéenne,\\nautour de laquelle se concentre la si smicité modérée et fréquente de la région. Cette région est la plus active \\nde la France métropolita ine. Les premiers travaux sur le séisme du 17/11/2006 montrent que le mouvement est \\nextensif sur une faille de direction E-W. Les résultat s confortent la connaissance actuelle des mécanismes à\\nl’origine de la sismicité régionale.\\nL’analyse des séismes historiques révèle que la région a déjà subi des séismes plus significatifs.\\nCeux-ci ont occasionné des dégâts importants sur le  bâti (intensité épicentrale supérieure à VII MSK).\\nLe plus fort de ces séismes historiques (21/6/1660) aurait eu une magnitude proche de 6.5.\\nSur la période récente pour laquelle des enregistrements sont disponibles, le séisme du 17/11/2006 apparaît \\ntoutefois d’importance significative. Ainsi, parmi les séismes enregistrés depuis plus de 40 ans dans un rayon de \\n30 km, celui du 17/11/2006 apparaît comme le deuxième le plus important en magnitude locale.\\nImpact sur les installations nucléaires\\nLa région concernée n’accueille aucune installation nucléaire.\\nLe site le plus proche, l’installation nucléaire EDF de  Golfech est située à 145 km. La secousse n’y a pas été\\nressentie. \\nLes caractéristiques du séisme soulignent qu’il est associé aux failles pyrénéen nes et qu’il n’est pas \\nreprésentatif de la zone de faible activité sismotectoni que (Bassin aquitain) où est localisée l’installation de \\nGolfech. \\nSelon l’Agence France Presse (19/11/2006), l’inspection par EDF de ses barrages hydro-électriques \\na permis de vérifier l’absence d’impact du séisme sur les ouvrages les plus proches de l’épicentre. Contexte sismotectonique\\nNomLongitude \\n(°E)Latitude (°N)Intensité \\népicentraleMagnitudeDistance à l'épicentre \\nCEA (km)\\n21/06/1660 Bagnères-de-B.\", start_char_idx=0, end_char_idx=2347, text_template='{metadata_str}\\n\\n{content}', metadata_template='{key}: {value}', metadata_seperator='\\n'), score=0.7873875821612805), NodeWithScore(node=TextNode(id_='4dea7c4c-0d75-408e-be67-1dbfa28bc88d', embedding=None, metadata={'page_label': '1', 'file_name': '/share/data/fiches_seismes/irsn_Seisme-Mexique_012003.pdf'}, excluded_embed_metadata_keys=[], excluded_llm_metadata_keys=[], relationships={<NodeRelationship.SOURCE: '1'>: RelatedNodeInfo(node_id='569cbd51-4a9f-462c-af0f-db148ad26be9', node_type=<ObjectType.DOCUMENT: '4'>, metadata={'page_label': '1', 'file_name': '/share/data/fiches_seismes/irsn_Seisme-Mexique_012003.pdf'}, hash='84ee351e36f22335471646ab78416d6ee81caf9d30c047e13ed513903af6ecbf'), <NodeRelationship.PREVIOUS: '2'>: RelatedNodeInfo(node_id='d439a046-61ca-4b7b-8525-57c168ce2533', node_type=<ObjectType.TEXT: '1'>, metadata={'page_label': '2', 'file_name': '/share/data/fiches_seismes/IRSN_Seisme_Lorca-Espagne_18052011.pdf'}, hash='c12c0d36fe5b03e6aeded111d822853fdedb05c1692ebfd17a745739ee1c7859'), <NodeRelationship.NEXT: '3'>: RelatedNodeInfo(node_id='9ba24367-1e2e-4fb6-a760-76a39adce091', node_type=<ObjectType.TEXT: '1'>, metadata={}, hash='88dbd783dbbed304b7100d2d1bf68b7edd3875b62cd3d5d1cb5d46284e64313c')}, text=\"Rappel des faits \\n•Un important séisme de magnitude Mw = 7,8 a eu lieu au Mexique le 21 janvier à\\n20h06 heure locale (22 janvier à 02H06 GMT) (Source : United States Geological \\nSurvey). L’épicentre est localisé en mer à environ 100  kilomètres au sud-sud-\\nouest de l’état de Colima, et à environ 600 km à l’ou est-sud-ouest de la ville de \\nMexico. D’après les premières estimations, l’épicen tre se situe à une latitude de \\n18,22 degrés nord et à une longitude de 104,6 degrés  ouest, l’hypocentre étant \\nlocalisé à une profondeur d’environ 10 km, selon le S ervicio Sismologico Nacional \\nde l’Universidad Autonoma de Mexico (UNAM). \\n• Selon l’Heraldo, un journal mexicain, c’est dans l ’état de Colima que se concentre \\nla majorité des dégâts sans que leur évaluation soit  encore connue. Toutefois, de \\nnombreuses habitations dans la capitale de l’état d e Colima ont subi de sévères \\ndégâts. Les habitants ont été privés d’électricité pe ndant environ 6 heures. Le \\nséisme a été ressenti dans la ville de Mexico, pourt ant très distante de la zone \\népicentrale, ce qui a donné lieu à des scènes de pani que, mais il n’y a pas de dégâts \\nrapportés dans la ville. Mexico est en partie const ruite sur un lac asséché, qui a la \\nparticularité d’amplifier fortement les ondes sismiq ues (effet de site). Les \\ndestructions importantes survenues dans la ville de  Mexico lors du séisme du 19 \\nseptembre 1985 (magnitude 8,1, distance 400 km) son t dues à ce phénomène. Séisme au Mexique \\ndu mardi 21 janvier 2003 à 20h06 heure locale \\nMagnitude = 7,8 à 02h06 (GMT – 22/01/03) I  N  F  O  R  M  A  T  I  O  N \\nLe Bureau \\nd'évaluation \\ndes risques \\nsismiques pour \\nla sûreté des \\ninstallations \\n(BERSSIN) de l’IRSN \\neffectue \\ndes recherches \\net des expertises \\nsur l’aléa sismique \\nen tant que source \\nd’agression externe \\ndes installations \\nà risque \\n1FS 6 \\n22 janvier 2003 \\n22 janvier 2003 www.irsn.org CONTACT : \\nIRSN/BERSSIN \\nFigure 1 : Contexte tectonique de l’Amérique centra le\", start_char_idx=0, end_char_idx=1978, text_template='{metadata_str}\\n\\n{content}', metadata_template='{key}: {value}', metadata_seperator='\\n'), score=0.7842347965222739)], metadata={'27457076-be14-495f-82c3-e4c564bd9ced': {'page_label': '2', 'file_name': '/share/data/fiches_seismes/irsn_seisme_argeles_gazost_112006.pdf'}, '4dea7c4c-0d75-408e-be67-1dbfa28bc88d': {'page_label': '1', 'file_name': '/share/data/fiches_seismes/irsn_Seisme-Mexique_012003.pdf'}}), Response(response='\\nThe situation of nuclear installations in Mexico is that the country has only one nuclear power plant, Laguna Verde, located 70 km northwest of Veracruz on the coast. This plant has two boiling water reactors of 650 MWe each. The plant is located approximately 90 kilometers from the epicenter of the earthquake that occurred on January 21, 2003. Since the plant is located far away from the epicenter and the magnitude of the earthquake was not significant, it is believed that the amplitude of the seismic movement resented at the plant level was very low and had no consequences for the structures.', source_nodes=[NodeWithScore(node=TextNode(id_='b2f0a9b2-3b51-47f1-bf31-25de688b33f5', embedding=None, metadata={'page_label': '3', 'file_name': '/share/data/fiches_seismes/irsn_Seisme-Mexique_012003.pdf'}, excluded_embed_metadata_keys=[], excluded_llm_metadata_keys=[], relationships={<NodeRelationship.SOURCE: '1'>: RelatedNodeInfo(node_id='72d3640b-3cd2-4300-aadd-83e3c99d7f5d', node_type=<ObjectType.DOCUMENT: '4'>, metadata={'page_label': '3', 'file_name': '/share/data/fiches_seismes/irsn_Seisme-Mexique_012003.pdf'}, hash='352b40059584bd3fa902ae9600a0bf09f1451957bc7c594b3947fb2423cfd97a'), <NodeRelationship.PREVIOUS: '2'>: RelatedNodeInfo(node_id='9ba24367-1e2e-4fb6-a760-76a39adce091', node_type=<ObjectType.TEXT: '1'>, metadata={'page_label': '2', 'file_name': '/share/data/fiches_seismes/irsn_Seisme-Mexique_012003.pdf'}, hash='4708e7da3ceb3a3a16bc5b4c9998ff1048768b8bd7465f57c16f69db267a3f21'), <NodeRelationship.NEXT: '3'>: RelatedNodeInfo(node_id='6957ea2d-68ec-4ecf-97a8-66695c8fbd7c', node_type=<ObjectType.TEXT: '1'>, metadata={}, hash='5d3d3ef96eaa12b9e4ca7a31be1308ce1302dceecc0af589283cac655cd0c4cf')}, text='I  N  F  O  R  M  A  T  I  O  N \\n3\\nLes installations nucléaires \\nLe Mexique ne dispose que d’une unique centrale nuc léaire : Laguna Verde (2 réacteurs à eau bouillante de  650 \\nMWe chacun) située à 70 km au Nord-Ouest de Veracruz (côte est). Cette installation se situe à environ 90 0 \\nkilomètres de l’épicentre du séisme du 21 janvier 2 003. Compte tenu de son fort éloignement, l’amplitu de du \\nmouvement sismique ressenti au niveau de la central e a sans doute été très faible, et sans conséquence pour les \\nstructures. \\n22 janvier 2003', start_char_idx=0, end_char_idx=540, text_template='{metadata_str}\\n\\n{content}', metadata_template='{key}: {value}', metadata_seperator='\\n'), score=0.8919366547039832), NodeWithScore(node=TextNode(id_='21161356-4548-461a-949e-5d467d220412', embedding=None, metadata={'page_label': '3', 'file_name': '/share/data/fiches_seismes/IRSN-Seisme-Elazig-Turquie-24012020.pdf'}, excluded_embed_metadata_keys=[], excluded_llm_metadata_keys=[], relationships={<NodeRelationship.SOURCE: '1'>: RelatedNodeInfo(node_id='e6c29718-6287-4fe6-a6f1-550389b255bc', node_type=<ObjectType.DOCUMENT: '4'>, metadata={'page_label': '3', 'file_name': '/share/data/fiches_seismes/IRSN-Seisme-Elazig-Turquie-24012020.pdf'}, hash='a460d559f8c05bed8e8eb55c0b04b42d40269640c3900d29e4cad826a621da46'), <NodeRelationship.PREVIOUS: '2'>: RelatedNodeInfo(node_id='f16e6bc9-bcc1-428b-862f-524c150a2eb9', node_type=<ObjectType.TEXT: '1'>, metadata={'page_label': '2', 'file_name': '/share/data/fiches_seismes/IRSN-Seisme-Elazig-Turquie-24012020.pdf'}, hash='6bca029b7050584f86fdc44b49b47c024d0c5cf3900628547b845b78a8ebea8e'), <NodeRelationship.NEXT: '3'>: RelatedNodeInfo(node_id='d91eb4ba-c968-4959-a3e3-937303ac593e', node_type=<ObjectType.TEXT: '1'>, metadata={}, hash='728508cd59db21839eec7a6ecc4bbf5cda4b77df7d86b9b177d1cfac8be50843')}, text='I  N  F  O  R  M  A  T  I  O  N  \\n29 janvier 2020  \\n  \\nConséquences  sur les installations nucléaires  \\nL’installation nucléaire la plus proche de l’épicentre (à environ 480 km) est située à Me tsamor en Arménie  (Figure \\n1). Elle comporte deux unités  VVER de puissance 400 MW mises en service en 1976 et 1980. Cette centrale a \\nproduit 400 MW en décembre 2019. La  centrale a été provisoirement arrêtée  suite au séisme de Spitak en 1988 . \\nCompte tenu de l’éloignement et de la magnitude du séisme, aucun effet significatif n’est redouté sur le site \\nmême de la centrale nucléaire.  \\nProjets de centrales nucléaires en Turquie  \\nEn Turquie deux projets de centrales nucléaires de production électrique sont en cours, l’un situé sur la côte de la \\nMer Noire dans la région de Sinop , l’autre sur le rivage de la Méditerranée , à 100 km au nord de Chypre sur le site \\nd’Akkuyu  (Figur e 1). Ces deux projets sont situés à plus de 500 km de l’épicentre du séisme du 24 janvier. Comme \\npour la centrale de Metsamor, on ne craint aucun impact significatif du séisme sur ces sites, compte tenu de la \\ndistance et de la magnitude.  \\nLe site d’ Akkuyu est situé dans la région de la ville de Mersin. Cette centrale est actuellement en construction  et \\ncomprendr a 4 réacteurs à eau pressurisée  (VVER) construit s par l’Agence fédérale russe de l’ énergie atomique \\n(ROSATOM) de 1200 MWe chacun. Le chantier a débuté  en 2015  ; le démarrage du premier réacteur est prévu en \\n2023 et les autres en 2025.  \\nUn autre projet était également prévu sur le  site de Sinop sera équipé de 4 réacteurs ATMEA (EUAS –compagnie \\nd’électricité turque - Mitsubishi, GDF Suez, Framatome ) de 1100 MWe. Ce site est localisé au nor d de la F aille \\nnord-anatolienne . Toutefois, le Ministre de l’Energie et des Ressources naturelles a annoncé le 28 octobre  2019 \\nque la Turquie ne poursuivrait pas le projet de construction d’une centrale nuclé aire à Si nop avec les Japonais , \\nporteurs du projet . En revanche, il a réaffirmé la volonté de la Turquie de poursuivre le projet avec d’autres \\npartenaires .  \\n \\n3', start_char_idx=4, end_char_idx=2096, text_template='{metadata_str}\\n\\n{content}', metadata_template='{key}: {value}', metadata_seperator='\\n'), score=0.8256474527387103)], metadata={'b2f0a9b2-3b51-47f1-bf31-25de688b33f5': {'page_label': '3', 'file_name': '/share/data/fiches_seismes/irsn_Seisme-Mexique_012003.pdf'}, '21161356-4548-461a-949e-5d467d220412': {'page_label': '3', 'file_name': '/share/data/fiches_seismes/IRSN-Seisme-Elazig-Turquie-24012020.pdf'}})], 'IRSN-Seisme-Amatrice-Italie-240816_V1.pdf': [Response(response='\\nThe magnitude of the earthquake that occurred in Amatrice, Italy on August 24, 2016 was 6.0 according to the Istituto Nazionale di Geofisica e Vulcanologia (INGV). The epicenter of the earthquake was located at a latitude of 42.70° North and a longitude of 13.24° East.', source_nodes=[NodeWithScore(node=TextNode(id_='f9b73c8e-7452-4919-b0c5-15342e51edd5', embedding=None, metadata={'page_label': '1', 'file_name': '/share/data/fiches_seismes/IRSN-Seisme-Amatrice-Italie-240816_V1.pdf'}, excluded_embed_metadata_keys=[], excluded_llm_metadata_keys=[], relationships={<NodeRelationship.SOURCE: '1'>: RelatedNodeInfo(node_id='2f4e0052-1d6c-43fa-b2ca-1538f5c43cfb', node_type=<ObjectType.DOCUMENT: '4'>, metadata={'page_label': '1', 'file_name': '/share/data/fiches_seismes/IRSN-Seisme-Amatrice-Italie-240816_V1.pdf'}, hash='918a31ccfe44cd1c5486c2aabe98a9ced8c03dafbe989d6a955e8692fccfe5da'), <NodeRelationship.PREVIOUS: '2'>: RelatedNodeInfo(node_id='357f43d8-b964-4f8e-837f-3a29bbbaf457', node_type=<ObjectType.TEXT: '1'>, metadata={'page_label': '3', 'file_name': '/share/data/fiches_seismes/IRSN-Seisme-Manosque-19092012.pdf'}, hash='edf2bfd2f3ef8d6bbd28c8e02a196abcea13fabcec5dd23730749d11482892a3'), <NodeRelationship.NEXT: '3'>: RelatedNodeInfo(node_id='be82d5b1-8670-42bd-8c61-1cb78c3e4f47', node_type=<ObjectType.TEXT: '1'>, metadata={}, hash='324da612dfe72bee2acc64f354dcab89526e090259c261a2db611412e481e696')}, text=\"Rappel des faits  \\n\\uf0a7Mercredi  24 août 2016 , à 1h36 TU (3h36 heure  locale),  un séisme  de magnitude  \\nimportante  (Mw 6,0 selon  l’Istituto  Nazionale  di Geofisica  e Vulcanologia , INGV)  s’est \\nproduit  à proximité  de la ville d’Amatrice , à environ  100 km au Nord-Est de Rome,  \\ndans les Apennins  (Figure  1). Son épicentre  est situé  à une latitude  de 42,70° Nord \\net à une longitude  de 13,24° Est. Il se situe  entre  les épicentres  des séismes  de \\nL’Aquila  de 2009  (Mw 6,3) au Sud-Est et d’Ombrie -Marches  en 1997  (Mw 5,7, 6,0 et \\n5,6) au Nord-Ouest . La secousse  a été suivie  par de nombreuses  répliques  (928 \\névènements  à 8h00 le 26/08/2016  d’après  l’INGV,  dont 10 de magnitude  comprise  \\nentre  4,0 et 5,0) localisées  entre  les régions  de l’Ombrie,  des Marches  et du Latium . \\nLa réplique  la plus forte  (Mw 5,4) s’est produite  à proximité  de la ville de Norcia  \\n(Ombrie)  moins  d’une  heure  après  le choc principal . \\n\\uf0a7Le bilan humain,  encore  provisoire,  est d’ores  et déjà très lourd . Il fait état de 267 \\nvictimes,  de centaines  de blessés  et de plus de 2000 personnes  relogées  (Protezione  \\nCivile  Italiana , 26/08/16, 08h30). Les villes  les plus touchées  sont celles  d’Amatrice,  \\nd’Accumoli  (région  du Latium),  d’Arquata  et de Pescara  del Tronto  (région  des Marches)  \\n(Repubblica,  24/08/2016, 11h50).  \\n\\uf0a7Le séisme  s’est produit  à une profondeur  faible  de 4 km (source  INGV),  ce qui explique  \\nen partie  l’ampleur  des dégâts  notamment  en zone épicentrale  où les destructions  sont \\nimportantes . \\n\\uf0a7Ce séisme  s’est produit  dans une zone où l’aléa  sismique  est élevé . Séisme d’Amatrice  \\n(Italie Centrale)  \\n \\ndu mercredi 24 août 2016  \\nMagnitude = 6,0 à 1h36 (TU)    I  N  F  O  R  M  A  T  I  O  N  \\nLe Bureau \\nd'évaluation  \\ndes risques \\nsismiques pour  \\nla sûreté des \\ninstallations \\n(BERSSIN) de l’IRSN \\neffectue  \\ndes recherches  \\net des expertises \\nsur l’aléa sismique \\nen tant que source \\nd’agression externe \\ndes installations  \\nà risque  \\n1 FS 1  \\nFigure  1: Localisation  de l’épicentre  du séisme  d’Amatrice  et de sa réplique  la \\nplus importante  (Mw 5,4). Les étoiles  jaunes  indiquent  la localisation  des \\népicentre  des séismes  de magnitude  supérieure  à 5,0 survenus  en 1997  en \\nOmbrie  Marches  et en 2009  à L’Aquila .  Version 1 du 26 août 2016  \\nwww.irsn.org  CONTACT :  \\n \\nIRSN/BERSSIN  \\nMaria LANCIERI  \\n \\nmaria.lancieri@irsn.fr  \\n \\n26 Août 2016  \\n20 Km\", start_char_idx=0, end_char_idx=2471, text_template='{metadata_str}\\n\\n{content}', metadata_template='{key}: {value}', metadata_seperator='\\n'), score=0.8448850009185686), NodeWithScore(node=TextNode(id_='a5c78511-dada-433f-b087-73263e35d00c', embedding=None, metadata={'page_label': '1', 'file_name': '/share/data/fiches_seismes/IRSN_seisme-Manosque_V1-12072010.pdf'}, excluded_embed_metadata_keys=[], excluded_llm_metadata_keys=[], relationships={<NodeRelationship.SOURCE: '1'>: RelatedNodeInfo(node_id='21d3007b-ae74-48d4-b03e-7acca07a02c1', node_type=<ObjectType.DOCUMENT: '4'>, metadata={'page_label': '1', 'file_name': '/share/data/fiches_seismes/IRSN_seisme-Manosque_V1-12072010.pdf'}, hash='e6ab4147b99d703d9162efc8ee18020d8ab42c7fd232bb8f3f58a9901b26fbcd'), <NodeRelationship.PREVIOUS: '2'>: RelatedNodeInfo(node_id='d91eb4ba-c968-4959-a3e3-937303ac593e', node_type=<ObjectType.TEXT: '1'>, metadata={'page_label': '4', 'file_name': '/share/data/fiches_seismes/IRSN-Seisme-Elazig-Turquie-24012020.pdf'}, hash='b44a08a884a8f0df9719affb83da97c0d3ccb7d37fee8c129c254ff655d4858b'), <NodeRelationship.NEXT: '3'>: RelatedNodeInfo(node_id='c463f41b-b599-4b70-bd8a-5060c1d34ed3', node_type=<ObjectType.TEXT: '1'>, metadata={}, hash='4d9fc3f67eb7ff392529c23c6ca258ff4290b1ee37cfdefb23dadbc9085449ab')}, text=\"Rappel des faits\\n\\x83Jeudi 8 juillet 2010, à 20h20 TU (22h20 heure locale), un séisme de faible \\nmagnitude s’est produit au voisinage immé diat de Manosque (2-3 km) : Ml = 3,0 à\\n43°50’ Nord et 5°50’ Est selon le CEA/LDG, Ml=2,9 à 43,810°Nord et 5,8°Est selon le RENASS. Le séisme s’est très vraisemblablement produit à faible profondeur.\\n\\x83La secousse, qui n’a pas fait de dégâts, a été fortement ressentie par la population àManosque et Pierrevert (et dans une moindre mesure à Sainte-Tulle, Volx, Corbières et Villeneuve), mais ne semble ne pas av oir été ressentie de manière significative \\nau-delà d’une distance de quelques kilo mètres de l’épicentre (Oraison, Mane, \\nSainte-Maime).\\n\\x83La Ville de Manosque a connu deux épisodes  sismiques remarquables dans le passé, \\nl’un en 1509 et l’autre en 1708. Ces deux événements ont provoqué des dégâts importants aux constructions et sont recensés dans la base de sismicité historique \\n(www.sisfrance.net\\n) avec une intensité de VIII à Manosque. L’intensité correspond à\\nune évaluation de l’importance de la seco usse en un lieu donné en termes d’effets \\n(perception, effets sur les objets et/o u dommages aux constructions). La magnitude \\nde ces séismes est actuellement évaluée autour de 5.\\n\\x83Le séisme du jeudi 8 juillet 2010 est associé au fonctionnement de la « Faille de la Moyenne Durance » (FMD) et traduit l’activi té régulière mais faible de celle-ci. \\nSouvent non perçus par la population, ses séismes sont généralement de faible \\nmagnitude.Séisme à Manosque \\n(Alpes de Haute-Provence) \\ndu jeudi 8 juillet 2010 (20h20 TU)\\nMagnitude = 3,0 (Ml)I  N  F  O  R  M  A  T  I  O  N\\nLe Bureau \\nd'évaluation des risques \\nsismiques pour \\nla sûreté des installations \\n(BERSSIN) de l’IRSN \\neffectuedes recherches \\net des expertises \\nsur l’aléa sismique en tant que source \\nd’agression externe \\ndes installations à risque\\n1FS 6\\nVersion 1 du 12 juillet 2010\\nwww.irsn.frCONTACT :\\nIRSN/BERSSIN\\nDavid Baumont\\nMarc Cushing\\n01 58 35 91 24\\ndavid.baumont@irsn.fr\\nedward.cushing@irsn.fr\\nFigure 1 : Localisation du séisme du 8 juillet 2010 (étoile)\\n12 juillet 2010\", start_char_idx=0, end_char_idx=2093, text_template='{metadata_str}\\n\\n{content}', metadata_template='{key}: {value}', metadata_seperator='\\n'), score=0.815269081087928)], metadata={'f9b73c8e-7452-4919-b0c5-15342e51edd5': {'page_label': '1', 'file_name': '/share/data/fiches_seismes/IRSN-Seisme-Amatrice-Italie-240816_V1.pdf'}, 'a5c78511-dada-433f-b087-73263e35d00c': {'page_label': '1', 'file_name': '/share/data/fiches_seismes/IRSN_seisme-Manosque_V1-12072010.pdf'}}), Response(response='\\nThe provided context information does not mention any specific earthquake that occurred on August 24, 2016. Therefore, it is not possible to provide information on the effects of that earthquake in terms of victims, injuries, and property damage.', source_nodes=[NodeWithScore(node=TextNode(id_='a6292edf-9b3b-43df-a004-798b78fc9c7d', embedding=None, metadata={'page_label': '2', 'file_name': '/share/data/fiches_seismes/irsn_Seisme-Inde_012001.pdf'}, excluded_embed_metadata_keys=[], excluded_llm_metadata_keys=[], relationships={<NodeRelationship.SOURCE: '1'>: RelatedNodeInfo(node_id='ccad01a6-d05e-449d-a728-4a9a394901e3', node_type=<ObjectType.DOCUMENT: '4'>, metadata={'page_label': '2', 'file_name': '/share/data/fiches_seismes/irsn_Seisme-Inde_012001.pdf'}, hash='06f9ac61d831691a85ad42373b28635d26215b9b96c924df8067066924bef213'), <NodeRelationship.PREVIOUS: '2'>: RelatedNodeInfo(node_id='eae340ee-cb2f-4460-8284-95384c2915d1', node_type=<ObjectType.TEXT: '1'>, metadata={'page_label': '2', 'file_name': '/share/data/fiches_seismes/irsn_Seisme-Inde_012001.pdf'}, hash='b2930deedbf99273623d7a00336f4e47249156fc2fa95323f4c317efa650ad56'), <NodeRelationship.NEXT: '3'>: RelatedNodeInfo(node_id='89fc695a-0786-48c6-aa4d-a885e8fe117a', node_type=<ObjectType.TEXT: '1'>, metadata={}, hash='a0851ebd5be039b14c1e681f6f19eb15a4faf7c1b74aca31a16054eade683ed8')}, text='Annexe pages 4-5) m ontre que des séismes de forte magnitude peuvent se  \\nproduire loin des limites de plaques (170 à3000 km)  àl’intérieur même de zones réputées stables (boucl iers \\nanciens, chaînes de montagnes anciennes…). Elle ide ntifie une trentaine de séismes de ce type dans le monde, de \\nmagnitude supérieure à6,5, dont deux dans la pénins ule indienne : séisme de Koynaen 1967 et celui de K utchen \\n1819. \\nTout comme le séisme du 26 janvier 2001, le séisme de Kutch(1819) a eu lieu à175 kilomètres au sud de la \\nfrontière des plaques eurasienne et indienne qui do nne naissance àl’Himalaya . La faille activée lors de ce séisme \\navait atteint la surface produisant un escarpement d’une hauteur de 6 à9 mètres sur une longueur d’env iron 90 \\nkilomètres (le mur de dieu, «AllahBund»). \\nLe séisme de 1819 avait étésuivi de répliques resse nties par la population jusqu’àla fin novembre 1819 , soit cinq \\nmois après la secousse principale. Les dégâts avaie nt également étéconsidérables. \\nLe fait que des séismes puissent survenir dans des zones réputées calmes sismiquement (sismicité connue  très \\nfaible) a conduit à l’adoption d’un niveau sismique minimal à prendre en compte pour la conception des \\ninstallations nucléaires françaises .', start_char_idx=2309, end_char_idx=3557, text_template='{metadata_str}\\n\\n{content}', metadata_template='{key}: {value}', metadata_seperator='\\n'), score=0.7735976825948294), NodeWithScore(node=TextNode(id_='914d3e6f-6c75-480b-a975-54288c1266e7', embedding=None, metadata={'page_label': '2', 'file_name': '/share/data/fiches_seismes/IRSN_seisme_turquie-23102011.pdf'}, excluded_embed_metadata_keys=[], excluded_llm_metadata_keys=[], relationships={<NodeRelationship.SOURCE: '1'>: RelatedNodeInfo(node_id='ac73d3bb-b40d-496f-8a5c-eb93b9e5d9e9', node_type=<ObjectType.DOCUMENT: '4'>, metadata={'page_label': '2', 'file_name': '/share/data/fiches_seismes/IRSN_seisme_turquie-23102011.pdf'}, hash='a39eba551768531b2e6efd357acece6c58533948cca650e577de7d211c9c828f'), <NodeRelationship.PREVIOUS: '2'>: RelatedNodeInfo(node_id='5e3c702f-89e2-4f9b-9b42-182cdcf50f52', node_type=<ObjectType.TEXT: '1'>, metadata={'page_label': '2', 'file_name': '/share/data/fiches_seismes/IRSN_seisme_turquie-23102011.pdf'}, hash='546fd49f08327f8e4f651bcfda56e5a6178b61f0261136d11fba088582305ae6'), <NodeRelationship.NEXT: '3'>: RelatedNodeInfo(node_id='6343905c-71eb-4bfb-856f-1a5b4371bf6e', node_type=<ObjectType.TEXT: '1'>, metadata={}, hash='7d284b81e954bd3d83bc3a91c32894a5490cd4eddc82b8970c8a55b395b3403c')}, text='Parmi ceux-ci, le plus destructeur fut celui de 1976 à Chaldiran à 66 km de Van, qui tua 3 840 personnes\\net fit 51 000 sans-abris.\\nSelon les premières simulations de l’USGS, l’accélération  pourrait avoir atteint près de 0,7 g à l’épicentre \\net l’intensité épicentrale ob tenue à partir des mêmes simu lations serait de VIII à IX.\\nConséquences sur les installations nucléaires\\nL’installation nucléaire la plus proche (Medzamor, Arménie) est située à 156 km au Nord-Nord-Est de \\nl’épicentre (réacteur à eau pressurisée construit en 1975, d’une puissance de 375 MWe). Compte tenu de \\nl’éloignement et de la magnitude du séisme, aucun effet significatif n’es t redouté sur le site même de la \\ncentrale nucléaire.\\nwww.irsn.fr\\nFigure 2 : Carte sismotectonique de \\nla région du séisme du 23/10/2011 \\n(épicentre en bleu) d’après Selcuk\\net al. (2010) dans Natural Hazards. \\nLes failles décrochantes les plus \\nactives sont soulignées par des \\nflèches rouges ; la faille E-W la plus \\nproche, qui pourrait présenter un \\nmouvement chevauchant comme le \\nmécanisme du séisme de Van, est \\nsoulignée par des flèches jaunes.', start_char_idx=2236, end_char_idx=3343, text_template='{metadata_str}\\n\\n{content}', metadata_template='{key}: {value}', metadata_seperator='\\n'), score=0.7628891941740603)], metadata={'a6292edf-9b3b-43df-a004-798b78fc9c7d': {'page_label': '2', 'file_name': '/share/data/fiches_seismes/irsn_Seisme-Inde_012001.pdf'}, '914d3e6f-6c75-480b-a975-54288c1266e7': {'page_label': '2', 'file_name': '/share/data/fiches_seismes/IRSN_seisme_turquie-23102011.pdf'}})], 'IRSN-Seisme-Charente-Maritime-France-20190320_v1.1.pdf': [Response(response='\\nThere is no mention of a specific \"seisme de Montendre\" in the provided context information. The context information discusses two earthquakes in India and France, as well as the general concept of earthquakes occurring in stable regions.', source_nodes=[NodeWithScore(node=TextNode(id_='a6292edf-9b3b-43df-a004-798b78fc9c7d', embedding=None, metadata={'page_label': '2', 'file_name': '/share/data/fiches_seismes/irsn_Seisme-Inde_012001.pdf'}, excluded_embed_metadata_keys=[], excluded_llm_metadata_keys=[], relationships={<NodeRelationship.SOURCE: '1'>: RelatedNodeInfo(node_id='ccad01a6-d05e-449d-a728-4a9a394901e3', node_type=<ObjectType.DOCUMENT: '4'>, metadata={'page_label': '2', 'file_name': '/share/data/fiches_seismes/irsn_Seisme-Inde_012001.pdf'}, hash='06f9ac61d831691a85ad42373b28635d26215b9b96c924df8067066924bef213'), <NodeRelationship.PREVIOUS: '2'>: RelatedNodeInfo(node_id='eae340ee-cb2f-4460-8284-95384c2915d1', node_type=<ObjectType.TEXT: '1'>, metadata={'page_label': '2', 'file_name': '/share/data/fiches_seismes/irsn_Seisme-Inde_012001.pdf'}, hash='b2930deedbf99273623d7a00336f4e47249156fc2fa95323f4c317efa650ad56'), <NodeRelationship.NEXT: '3'>: RelatedNodeInfo(node_id='89fc695a-0786-48c6-aa4d-a885e8fe117a', node_type=<ObjectType.TEXT: '1'>, metadata={}, hash='a0851ebd5be039b14c1e681f6f19eb15a4faf7c1b74aca31a16054eade683ed8')}, text='Annexe pages 4-5) m ontre que des séismes de forte magnitude peuvent se  \\nproduire loin des limites de plaques (170 à3000 km)  àl’intérieur même de zones réputées stables (boucl iers \\nanciens, chaînes de montagnes anciennes…). Elle ide ntifie une trentaine de séismes de ce type dans le monde, de \\nmagnitude supérieure à6,5, dont deux dans la pénins ule indienne : séisme de Koynaen 1967 et celui de K utchen \\n1819. \\nTout comme le séisme du 26 janvier 2001, le séisme de Kutch(1819) a eu lieu à175 kilomètres au sud de la \\nfrontière des plaques eurasienne et indienne qui do nne naissance àl’Himalaya . La faille activée lors de ce séisme \\navait atteint la surface produisant un escarpement d’une hauteur de 6 à9 mètres sur une longueur d’env iron 90 \\nkilomètres (le mur de dieu, «AllahBund»). \\nLe séisme de 1819 avait étésuivi de répliques resse nties par la population jusqu’àla fin novembre 1819 , soit cinq \\nmois après la secousse principale. Les dégâts avaie nt également étéconsidérables. \\nLe fait que des séismes puissent survenir dans des zones réputées calmes sismiquement (sismicité connue  très \\nfaible) a conduit à l’adoption d’un niveau sismique minimal à prendre en compte pour la conception des \\ninstallations nucléaires françaises .', start_char_idx=2309, end_char_idx=3557, text_template='{metadata_str}\\n\\n{content}', metadata_template='{key}: {value}', metadata_seperator='\\n'), score=0.8005178059138461), NodeWithScore(node=TextNode(id_='27457076-be14-495f-82c3-e4c564bd9ced', embedding=None, metadata={'page_label': '2', 'file_name': '/share/data/fiches_seismes/irsn_seisme_argeles_gazost_112006.pdf'}, excluded_embed_metadata_keys=[], excluded_llm_metadata_keys=[], relationships={<NodeRelationship.SOURCE: '1'>: RelatedNodeInfo(node_id='bf588429-49ff-42e2-a575-b3b4429bfeac', node_type=<ObjectType.DOCUMENT: '4'>, metadata={'page_label': '2', 'file_name': '/share/data/fiches_seismes/irsn_seisme_argeles_gazost_112006.pdf'}, hash='e06384907076f52a5594e5be17b85d2444934fb56394b59302f97180bae2d396'), <NodeRelationship.PREVIOUS: '2'>: RelatedNodeInfo(node_id='fc2da5e0-0bb9-42e9-948c-d7b3834f44ed', node_type=<ObjectType.TEXT: '1'>, metadata={'page_label': '1', 'file_name': '/share/data/fiches_seismes/irsn_seisme_argeles_gazost_112006.pdf'}, hash='8ffbda138c4f9d9bd0e8a403f366985bbd4b22859b8ba723b7806bbffe67fbfd'), <NodeRelationship.NEXT: '3'>: RelatedNodeInfo(node_id='7fc1734d-7be8-4bac-907d-61b7247cdaa9', node_type=<ObjectType.TEXT: '1'>, metadata={}, hash='251cbcf2326a50e71d800dc2ef53fbf5b8a53237a188239bd8679495c55442d9')}, text=\"Ce séisme a été fortement ressenti dans le département des Hautes-Pyrénées,\\nprincipalement dans le pays de Lourdes, mais aussi plus modérément dans les départements voisins \\ndes Pyrénées-Atlantiques et de Haute-Garonne. De légers dégâts ont été signalés dans les environs \\nde Lourdes (chutes de cheminées), tandis que de brèves coupures d’électricité ont aus si affecté\\ndes communes des Hautes-Pyrénées.Témoignages recueillis\\nBureau Central Sismologique Français (www.bcsf.prd.fr)\\nLe séisme du 17/11/2006 est localisé dans la  région de la Faille nord-pyrénéenne,\\nautour de laquelle se concentre la si smicité modérée et fréquente de la région. Cette région est la plus active \\nde la France métropolita ine. Les premiers travaux sur le séisme du 17/11/2006 montrent que le mouvement est \\nextensif sur une faille de direction E-W. Les résultat s confortent la connaissance actuelle des mécanismes à\\nl’origine de la sismicité régionale.\\nL’analyse des séismes historiques révèle que la région a déjà subi des séismes plus significatifs.\\nCeux-ci ont occasionné des dégâts importants sur le  bâti (intensité épicentrale supérieure à VII MSK).\\nLe plus fort de ces séismes historiques (21/6/1660) aurait eu une magnitude proche de 6.5.\\nSur la période récente pour laquelle des enregistrements sont disponibles, le séisme du 17/11/2006 apparaît \\ntoutefois d’importance significative. Ainsi, parmi les séismes enregistrés depuis plus de 40 ans dans un rayon de \\n30 km, celui du 17/11/2006 apparaît comme le deuxième le plus important en magnitude locale.\\nImpact sur les installations nucléaires\\nLa région concernée n’accueille aucune installation nucléaire.\\nLe site le plus proche, l’installation nucléaire EDF de  Golfech est située à 145 km. La secousse n’y a pas été\\nressentie. \\nLes caractéristiques du séisme soulignent qu’il est associé aux failles pyrénéen nes et qu’il n’est pas \\nreprésentatif de la zone de faible activité sismotectoni que (Bassin aquitain) où est localisée l’installation de \\nGolfech. \\nSelon l’Agence France Presse (19/11/2006), l’inspection par EDF de ses barrages hydro-électriques \\na permis de vérifier l’absence d’impact du séisme sur les ouvrages les plus proches de l’épicentre. Contexte sismotectonique\\nNomLongitude \\n(°E)Latitude (°N)Intensité \\népicentraleMagnitudeDistance à l'épicentre \\nCEA (km)\\n21/06/1660 Bagnères-de-B.\", start_char_idx=0, end_char_idx=2347, text_template='{metadata_str}\\n\\n{content}', metadata_template='{key}: {value}', metadata_seperator='\\n'), score=0.799697779901725)], metadata={'a6292edf-9b3b-43df-a004-798b78fc9c7d': {'page_label': '2', 'file_name': '/share/data/fiches_seismes/irsn_Seisme-Inde_012001.pdf'}, '27457076-be14-495f-82c3-e4c564bd9ced': {'page_label': '2', 'file_name': '/share/data/fiches_seismes/irsn_seisme_argeles_gazost_112006.pdf'}}), Response(response='\\nThe 2019 Montendre earthquake occurred in a region with a moderate seismic activity and several historical and instrumental seismes within a 100 km radius are recorded. The three strongest seismes in this region are the 1972 Oléron earthquake (M5.0-5.5), the 1935 Rouillac earthquake (M7.0-7.5), and the 1759 Entre-deux-Mers earthquake (M7.0-7.5) which caused significant damage to constructions. The 2019 Montendre earthquake was located at the southern end of the Jonzac Fault, which is one of the major faults in the region and marks the transition between the Armorican Massif to the north and the Aquitaine Basin to the south.\\n\\nIn terms of comparison, the 2019 Montendre earthquake was the most recent of the three strongest seismes in the region, and it was also the most distant from the epicenter of the other two seismes. The 1972 Oléron earthquake was the closest to', source_nodes=[NodeWithScore(node=TextNode(id_='c454af4b-2b26-4bd7-8bce-dd59be0d5f76', embedding=None, metadata={'page_label': '2', 'file_name': '/share/data/fiches_seismes/IRSN-Seisme-Charente-Maritime-France-20190320_v1.1.pdf'}, excluded_embed_metadata_keys=[], excluded_llm_metadata_keys=[], relationships={<NodeRelationship.SOURCE: '1'>: RelatedNodeInfo(node_id='9d55b2a0-25a4-43aa-9758-72a86db60124', node_type=<ObjectType.DOCUMENT: '4'>, metadata={'page_label': '2', 'file_name': '/share/data/fiches_seismes/IRSN-Seisme-Charente-Maritime-France-20190320_v1.1.pdf'}, hash='f9beeea1749a21983dcf4ef91c644316ff10b6170c80a8157eaeda5e603c880b'), <NodeRelationship.PREVIOUS: '2'>: RelatedNodeInfo(node_id='b1a3fd67-da4d-47ba-8c84-27538a426df7', node_type=<ObjectType.TEXT: '1'>, metadata={'page_label': '1', 'file_name': '/share/data/fiches_seismes/IRSN-Seisme-Charente-Maritime-France-20190320_v1.1.pdf'}, hash='8c0851575890e455ad1f5d6977bf631f39c2bfb108dc544cb6bcf6e1d610aafb'), <NodeRelationship.NEXT: '3'>: RelatedNodeInfo(node_id='c4560d71-ceed-496f-a2e3-9c82348b3b53', node_type=<ObjectType.TEXT: '1'>, metadata={}, hash='bf23b9522923aa145003e24591b326f9687ff8821ecd1c5cccee54e0a6b0328f')}, text='I  N  F  O  R  M  A  T  I  O  N  \\n2 \\nSismicité historique et actuelle de la région Aquitaine  \\nLe séisme  du 20 mars 2019 s’est produit  dans une région  caractérisée  par une activité  sismique  modérée . Quelques  \\nséismes  historiques  et instrumentaux  y sont recensés  dans un rayon  de 100 km. Parmi  eux, ceux présentant  les plus \\nfortes  intensités  sont les séismes  du 7 septembre  1972 (à Oléron),  28 septembre  1935 (à Rouillac)  et 10 août 1759 \\n(séisme  d’Entre -deux-Mers,  Bordelais)  qui ont atteint  une intensité  épicentrale  de VII à VII-VIII (dommages  aux \\nconstructions) .   \\nLe séisme  du 7 septembre  1972 (5,0<M<5,5 selon  les différents  catalogues)  a été ressenti  à plus grande  distance  (au-\\ndelà de 300 km - Figure  2) et son intensité  était significativement  plus forte (VII). Les séismes  de cette  région  se \\nproduisent  vraisemblablement  sur des failles  anciennes  dites hercyniennes  dont l’orientation  majoritaire  est NO-SE \\n(failles  d’Oléron,  de Jonzac,…) et qui marquent  la transition  entre  le massif  armoricain  au nord et le bassin  aquitain  \\nau sud. Le séisme  du 20 mars 2019 est localisé  à l’extrémité  méridionale  de la Faille  de Jonzac . \\nFigure 2 : (Ci -dessus), répartition spatiale des \\naires d’égale intensité (isoséistes) pour le \\nséisme du 7 septembre 1972 (d’après \\nSisFrance – BRGM/EDF/IRSN). (A droite), \\nintensités issues des témoignages recueillis sur \\ninternet (extrait du site du BCSF le 20/03/2019  \\nà 16h30).  \\n21 mars 2019  \\nImpact sur les installations nucléaires  \\nL’installation  nucléaire  la plus proche  du séisme  survenu  à Montendre  est le centre  nucléaire  de production  \\nélectrique  du Blayais,  situé  à 27 km de l’épicentre . Les centrales  de Civaux  et Golfech  sont respectivement  \\nsituées  à 145 et 169 km de l’épicentre .  \\nLe référentiel  technique  applicable  en France  pour déterminer  les niveaux  de sollicitation  à prendre  en compte  pour \\nprotéger  les installations  nucléaires  (RFS 2001-01) implique  de définir  des zones  (dites  zones  sismotectoniques ) à \\nl’échelle  desquelles  la sismicité  potentielle  est considérée  homogène . La démarche  consiste  ensuite  à étudier  les \\nséismes  historiques  et à faire l’hypothèse  qu’ils  pourraient  se produire  à l’avenir  en n’importe  quel endroit  de la \\nzone sismotectonique  à laquelle  ils appartiennent . Pour évaluer  la sollicitation,  la magnitude  de ces séismes  est \\nensuite  majorée  de 0,5. \\nEn application  de cette  méthode,  l’aléa  sismique  retenu  par EDF pour la centrale  du Blayais  correspond  au séisme  \\nde 1759 translaté  sous le site avec des caractéristiques  majorées  (une magnitude  5,6 et une intensité  VIII).', start_char_idx=0, end_char_idx=2718, text_template='{metadata_str}\\n\\n{content}', metadata_template='{key}: {value}', metadata_seperator='\\n'), score=0.7841724604116168), NodeWithScore(node=TextNode(id_='bd514e88-4bf9-42d3-9fd0-6a69d243e9dc', embedding=None, metadata={'page_label': '6', 'file_name': '/share/data/fiches_seismes/Note-Information-Seisme-Teil-14112019.pdf'}, excluded_embed_metadata_keys=[], excluded_llm_metadata_keys=[], relationships={<NodeRelationship.SOURCE: '1'>: RelatedNodeInfo(node_id='f62ad014-8dd0-4b2f-a1e1-57e6d7a58850', node_type=<ObjectType.DOCUMENT: '4'>, metadata={'page_label': '6', 'file_name': '/share/data/fiches_seismes/Note-Information-Seisme-Teil-14112019.pdf'}, hash='7cb20c6d2507f373c021fe709c555c299ae25ec7f93e7ddcf40b47006301e084'), <NodeRelationship.PREVIOUS: '2'>: RelatedNodeInfo(node_id='34670cf4-d2e8-46e3-ba0c-0c41c742e9a2', node_type=<ObjectType.TEXT: '1'>, metadata={'page_label': '5', 'file_name': '/share/data/fiches_seismes/Note-Information-Seisme-Teil-14112019.pdf'}, hash='16b0c47b8d41faeca3455c47dae7dfa6efbc76a2bce7997d79d300eeadb236be'), <NodeRelationship.NEXT: '3'>: RelatedNodeInfo(node_id='cf8617f2-9341-4244-9948-e7a9f215bb6b', node_type=<ObjectType.TEXT: '1'>, metadata={}, hash='9008720781646f00f10f4dc8399ee123729bc4c68759760f96d78c559bbab90d')}, text='I  N  F  O  R  M  A  T  I  O  N  \\n6 14 novembre 2019  www.irsn.fr   \\n \\nLes «  spectres de réponse  » respectivement calés à 0,26 g et 0,285 g pour les centrales nucléaires de Cruas et \\ndu Tricastin sont enveloppe de ce SMS et de ce paléoséisme.  Le séisme du 11 novembre 2019 de magnitude Ms \\nd’environ 4,5 (estimée à partir de la Mw 5  en utilisant la corrélation par E.M. Scordilis  en 2006  qui conduit à \\ncorriger la magnitude d’une valeur de -0,5) et de profondeur d’environ 2  km, présente des caractéristiques \\nproches  de celles du SMHV  : magnitude Ms de 4,7 et profondeur de 4 km , ou sur la base de la dernière révision, \\nmagnitude Ms de 4,5 et profondeur de 5 km. \\n \\nLes «  spectres de réponse  » calés à 0,26 g et 0,285 g sont donc a fortiori enveloppe de la sollicitation générée \\npar le séisme du 11 novembre 2019.  \\n \\nIndépendamment du fait que ce séisme ne semble pas avoir provoqué de dégâts su r les centrales nucléaires, il \\nsera nécessaire de mieux le caractériser pour vérifier s’il nécessite ou non de réviser le SMHV aujourd’hui \\nretenu et donc le SMS. Il est à noter que d ans son avis en 2016 sur les niveaux SMS à Tricastin et Cruas, l’IRSN \\na également relevé la nécessité que EDF démontre  que le SMS considéré n’est pas remis en cause par des \\ndonnées alors nouvelles relatives aux séismes historiques de 1186 et 1448 relevés dans la région d’Uzès . \\n \\nPour ce qui concerne les installations nucléaires Orano du site du Tricastin (usine d’enrichissement de \\nl’uranium par centrifugation Georges Besse II, parc d’entreposage de matières …), l’exploitant a indiqué \\nl’absence d’impact du séisme sur la sûreté des installations en exploitation. L’IRSN relève que, sur le site du \\nTricastin et également sur le site de l’usine MELOX située à Marcoule, les effets du séisme du Teil n’ont pas \\nnécessité la mise en œuvre des mesures de sûreté définies par rapport au séisme d e dimensionnement des \\ninstallations. Des dispositions automatiques de protection de centrifugeuses de l’usine Georges Besse II sur le \\nsite du Tricastin, définies au titre de la sauvegarde de l’outil industriel, se sont déclenchées.  \\n \\nLiens internet  : La prise en compte du risque sismique pour les sites des installations nucléaires  (IRSN)', start_char_idx=4, end_char_idx=2249, text_template='{metadata_str}\\n\\n{content}', metadata_template='{key}: {value}', metadata_seperator='\\n'), score=0.7839693305396357)], metadata={'c454af4b-2b26-4bd7-8bce-dd59be0d5f76': {'page_label': '2', 'file_name': '/share/data/fiches_seismes/IRSN-Seisme-Charente-Maritime-France-20190320_v1.1.pdf'}, 'bd514e88-4bf9-42d3-9fd0-6a69d243e9dc': {'page_label': '6', 'file_name': '/share/data/fiches_seismes/Note-Information-Seisme-Teil-14112019.pdf'}})], 'IRSN-Seisme-Civaux-09092013.pdf': [Response(response='\\nThe magnitude of the earthquake that occurred in Lhommaizé on September 9, 2013, was 3.1 (Ml) and its epicenter was not specified.', source_nodes=[NodeWithScore(node=TextNode(id_='cebabf21-761b-4c73-ae47-12689d278c10', embedding=None, metadata={'page_label': '1', 'file_name': '/share/data/fiches_seismes/IRSN-Seisme-Civaux-09092013.pdf'}, excluded_embed_metadata_keys=[], excluded_llm_metadata_keys=[], relationships={<NodeRelationship.SOURCE: '1'>: RelatedNodeInfo(node_id='8f99df2c-7c9e-4f43-9fa5-f1d52d004b44', node_type=<ObjectType.DOCUMENT: '4'>, metadata={'page_label': '1', 'file_name': '/share/data/fiches_seismes/IRSN-Seisme-Civaux-09092013.pdf'}, hash='05a10b3423929c215c89630a7cad274010f1b676888132fd2168ef0a2984017d'), <NodeRelationship.PREVIOUS: '2'>: RelatedNodeInfo(node_id='c62ffbc6-0f39-4cc0-b1b1-64ff61c478ab', node_type=<ObjectType.TEXT: '1'>, metadata={'page_label': '2', 'file_name': '/share/data/fiches_seismes/IRSN_seisme-haiti_130110.pdf'}, hash='d5bd44c74bb257911f97ec4df7b9f80366b17204fcccb0dafb8c820b1967d17f'), <NodeRelationship.NEXT: '3'>: RelatedNodeInfo(node_id='4b4a3129-7056-41cb-93f9-59f747539490', node_type=<ObjectType.TEXT: '1'>, metadata={}, hash='2ffc24bb3b60ecf76d2662b68f166c1b28da9adf677e0bfd9a2775eb5b362b5c')}, text=\"Rappel des faits  \\n\\uf0a7Lundi  9 septembre  2013 , à 20h50 TU (22h50 heure  locale),  un séisme  de faible  \\nmagnitude  (Ml = 3,1) s’est produit  au voisinage  immédiat  de la centrale  nucléaire  de \\nproduction  électrique  de Civaux  (Vienne),  sur la commune  de Lhommaizé  (46,43° \\nNord et 0,59° Est). Ce séisme  est superficiel  (< 5 km) mais sa profondeur  exacte  est \\ndifficile  à estimer . \\n \\n\\uf0a7La secousse,  qui n’a occasionné  aucun  dégât,  a été ressentie  par la population  dans \\nla région  au sud-est de Poitiers  dans un rayon  d’environ  20 km autour  de \\nl’épicentre . Elle a par ailleurs  été ressentie  par les personnels  travaillant  dans la \\ncentrale  de Civaux . \\n \\n\\uf0a7Au 12 septembre,  le Bureau  Central  Sismologique  Français  (BCSF)  a recensé  24 \\ntémoignages  indiquant  des intensités  locales  allant  jusqu’à  V (en échelle  d’intensité  \\nEMS),  correspondant  à une secousse  largement  ressentie  dans les habitations,  avec \\ndes vibrations  modérées  et pas de dégâts . \\n \\n\\uf0a7La région  de Poitiers  a connu  par le passé  des séismes  similaires  et parfois  même  \\nplus forts (www .sisfrance .net), avec des intensités  épicentrales  atteignant  VII-VIII. Séisme à Lhommaizé  \\n(Vienne)  \\n \\nDu lundi 9 septembre 2013 (20h50 TU)  \\nMagnitude = 3,1 (Ml)  I  N  F  O  R  M  A  T  I  O  N  \\nLe Bureau \\nd'évaluation  \\ndes risques \\nsismiques pour  \\nla sûreté des \\ninstallations \\n(BERSSIN) de l’IRSN \\neffectue  \\ndes recherches  \\net des expertises \\nsur l’aléa sismique \\nen tant que source \\nd’agression externe \\ndes installations  \\nà risque  \\n1 FS 6  \\nVersion 1 du 13 septembre 2013  \\nwww.irsn.fr  CONTACT :  \\n \\nIRSN/BERSSIN  \\nStéphane Baize  \\n01 58 35 91 24  \\nStephane.baize@irsn.fr  \\n13 septembre 2013  Figure 1 : Localisation du séisme du 9 septembre 2013\", start_char_idx=0, end_char_idx=1778, text_template='{metadata_str}\\n\\n{content}', metadata_template='{key}: {value}', metadata_seperator='\\n'), score=0.8427132331495574), NodeWithScore(node=TextNode(id_='d1be8e55-1e48-4713-91bc-f550ece63729', embedding=None, metadata={'page_label': '1', 'file_name': '/share/data/fiches_seismes/IRSN-Seisme-Manosque-19092012.pdf'}, excluded_embed_metadata_keys=[], excluded_llm_metadata_keys=[], relationships={<NodeRelationship.SOURCE: '1'>: RelatedNodeInfo(node_id='083dc54f-5e1b-4337-bc03-1a217353c108', node_type=<ObjectType.DOCUMENT: '4'>, metadata={'page_label': '1', 'file_name': '/share/data/fiches_seismes/IRSN-Seisme-Manosque-19092012.pdf'}, hash='f245c3fc1e6426df2cd4bcd1d09aaf9961a974e44a0c869ac8e98aed12103dbb'), <NodeRelationship.PREVIOUS: '2'>: RelatedNodeInfo(node_id='7e5ca0e3-65ac-417b-8983-9144a7c1b55b', node_type=<ObjectType.TEXT: '1'>, metadata={'page_label': '2', 'file_name': '/share/data/fiches_seismes/irsn_Seisme-Afghanistan_032002.pdf'}, hash='d5a9326cc4dbe37a01111d1c50453913fbaf565273e5bb5d562506601b94c201'), <NodeRelationship.NEXT: '3'>: RelatedNodeInfo(node_id='42541e9f-c27c-41c2-ac13-267b5cd0cb4d', node_type=<ObjectType.TEXT: '1'>, metadata={}, hash='21230113ba761803750a2d4aff8df3bd6c2dbb9f7040dde27a9c7b70c8c3c8e8')}, text=\"Rappel des faits  \\n\\uf0a7Mercredi  19 septembre  2012 , à 18h56 TU (20h56 heure  locale),  un séisme  de faible  \\nmagnitude  s’est produit  au voisinage  immédiat  de Villeneuve  (04) : Ml = 3,5 à  \\n43°53'42'' Nord et  5°51'32'' Est à environ  3 km de profondeur  selon  le réseau  \\nGeoAzur . Ce séisme  a été suivi d’une  faible  réplique  qui s’est produite  7 minutes  \\naprès,  à 1 kilomètre  au sud-ouest  de la première  secousse . Deux  répliques  se sont \\nensuite  produites  à environ  30 secondes  d’écart  environ  une heure  après  le choc \\nprincipal  au sud de Volx (magnitudes  2,6 et 2,4, respectivement) . Compte  tenu de la \\nlocalisation  des intensités  observées  (Bureau  Central  Sismologique  Français ) et de \\ncelles  des épicentres  des séismes  enregistrés,  cette  séquence  s’est très \\nvraisemblablement  produite  sur un des segments  de la faille  de la Moyenne  Durance . \\n \\n\\uf0a7La secousse  principale,  qui n’a occasionné  que des dégâts  mineurs  (quelques  \\nlézardes),  a été ressentie  par la population  dans les secteurs  de Volx,  Villeneuve,  La \\nBrillanne,  Saint -Maime  et Oraison  mais ne semble  ne pas avoir  été ressentie  de \\nmanière  significative  au-delà d’une  distance  de quelques  kilomètres  de l’épicentre . \\nA noter  qu'une  secousse  avait  été ressentie  de manière  notable  le 8 juillet  2010  \\ndans les faubourgs  de Manosque  (voir la fiche  d'information  de l'IRSN ). Le séisme  du \\n19 septembre  2012  s'est produit  à environ  9 km au nord-est de ce précédent  \\névénement . \\n \\n\\uf0a7La Ville de Manosque  a connu  deux  épisodes  sismiques  remarquables  dans le passé,  \\nl’un en 1509  et l’autre  en 1708 . Ces deux  événements  ont provoqué  des dégâts  \\nimportants  aux constructions  et sont recensés  dans la base de sismicité  historique  \\n(www .sisfrance .net) avec une intensité  de VIII à Manosque . L’intensité  correspond  à \\nune évaluation  de l’importance  des effets  de la secousse  en un lieu donné  \\n(perception,  effets  sur les objets  et/ou  dommages  aux constructions) . La magnitude  \\nde ces séismes  est actuellement  évaluée  autour  de 5. Un séisme  moins  puissant  \\ns'était  produit  dans la zone  du séisme  du 19 septembre  le 14 mai 1913  avec une \\nintensité  de VII-VIII (MSK)  (magnitude  estimée  de l'ordre  de 4,5 selon  les études  de \\nl'IRSN) .\", start_char_idx=0, end_char_idx=2335, text_template='{metadata_str}\\n\\n{content}', metadata_template='{key}: {value}', metadata_seperator='\\n'), score=0.8070933564742906)], metadata={'cebabf21-761b-4c73-ae47-12689d278c10': {'page_label': '1', 'file_name': '/share/data/fiches_seismes/IRSN-Seisme-Civaux-09092013.pdf'}, 'd1be8e55-1e48-4713-91bc-f550ece63729': {'page_label': '1', 'file_name': '/share/data/fiches_seismes/IRSN-Seisme-Manosque-19092012.pdf'}}), Response(response='\\nThe earthquake of Lhommaizé, which occurred on September 9, 2013, was felt by the population in the region around Poitiers, with a radius of approximately 20 km from the epicenter. The intensity of the earthquake was up to V on the EMS scale, corresponding to a seismic event that was widely felt in buildings, with moderate vibrations but no damage.\\n\\nThe region of Poitiers has a history of similar earthquakes, with intensities up to VII-VIII on the EMS scale. The earthquake of Lhommaizé caused no damage, but it was felt by the personnel working in the Civaux nuclear power plant.\\n\\nThe Bureau Central Sismologique Français (BCSF) recorded 24 testimonies indicating local intensities up to V, corresponding to a seismic event that was widely felt in buildings, with moderate vibrations but no damage.\\n\\nThe impact of the earthquake on the nuclear power plant was not reported, but it was not felt in the nearby EDF Golfech nuclear power plant. The earthquake was not representative of the low-activity seismotectonic zone where the Gol', source_nodes=[NodeWithScore(node=TextNode(id_='cebabf21-761b-4c73-ae47-12689d278c10', embedding=None, metadata={'page_label': '1', 'file_name': '/share/data/fiches_seismes/IRSN-Seisme-Civaux-09092013.pdf'}, excluded_embed_metadata_keys=[], excluded_llm_metadata_keys=[], relationships={<NodeRelationship.SOURCE: '1'>: RelatedNodeInfo(node_id='8f99df2c-7c9e-4f43-9fa5-f1d52d004b44', node_type=<ObjectType.DOCUMENT: '4'>, metadata={'page_label': '1', 'file_name': '/share/data/fiches_seismes/IRSN-Seisme-Civaux-09092013.pdf'}, hash='05a10b3423929c215c89630a7cad274010f1b676888132fd2168ef0a2984017d'), <NodeRelationship.PREVIOUS: '2'>: RelatedNodeInfo(node_id='c62ffbc6-0f39-4cc0-b1b1-64ff61c478ab', node_type=<ObjectType.TEXT: '1'>, metadata={'page_label': '2', 'file_name': '/share/data/fiches_seismes/IRSN_seisme-haiti_130110.pdf'}, hash='d5bd44c74bb257911f97ec4df7b9f80366b17204fcccb0dafb8c820b1967d17f'), <NodeRelationship.NEXT: '3'>: RelatedNodeInfo(node_id='4b4a3129-7056-41cb-93f9-59f747539490', node_type=<ObjectType.TEXT: '1'>, metadata={}, hash='2ffc24bb3b60ecf76d2662b68f166c1b28da9adf677e0bfd9a2775eb5b362b5c')}, text=\"Rappel des faits  \\n\\uf0a7Lundi  9 septembre  2013 , à 20h50 TU (22h50 heure  locale),  un séisme  de faible  \\nmagnitude  (Ml = 3,1) s’est produit  au voisinage  immédiat  de la centrale  nucléaire  de \\nproduction  électrique  de Civaux  (Vienne),  sur la commune  de Lhommaizé  (46,43° \\nNord et 0,59° Est). Ce séisme  est superficiel  (< 5 km) mais sa profondeur  exacte  est \\ndifficile  à estimer . \\n \\n\\uf0a7La secousse,  qui n’a occasionné  aucun  dégât,  a été ressentie  par la population  dans \\nla région  au sud-est de Poitiers  dans un rayon  d’environ  20 km autour  de \\nl’épicentre . Elle a par ailleurs  été ressentie  par les personnels  travaillant  dans la \\ncentrale  de Civaux . \\n \\n\\uf0a7Au 12 septembre,  le Bureau  Central  Sismologique  Français  (BCSF)  a recensé  24 \\ntémoignages  indiquant  des intensités  locales  allant  jusqu’à  V (en échelle  d’intensité  \\nEMS),  correspondant  à une secousse  largement  ressentie  dans les habitations,  avec \\ndes vibrations  modérées  et pas de dégâts . \\n \\n\\uf0a7La région  de Poitiers  a connu  par le passé  des séismes  similaires  et parfois  même  \\nplus forts (www .sisfrance .net), avec des intensités  épicentrales  atteignant  VII-VIII. Séisme à Lhommaizé  \\n(Vienne)  \\n \\nDu lundi 9 septembre 2013 (20h50 TU)  \\nMagnitude = 3,1 (Ml)  I  N  F  O  R  M  A  T  I  O  N  \\nLe Bureau \\nd'évaluation  \\ndes risques \\nsismiques pour  \\nla sûreté des \\ninstallations \\n(BERSSIN) de l’IRSN \\neffectue  \\ndes recherches  \\net des expertises \\nsur l’aléa sismique \\nen tant que source \\nd’agression externe \\ndes installations  \\nà risque  \\n1 FS 6  \\nVersion 1 du 13 septembre 2013  \\nwww.irsn.fr  CONTACT :  \\n \\nIRSN/BERSSIN  \\nStéphane Baize  \\n01 58 35 91 24  \\nStephane.baize@irsn.fr  \\n13 septembre 2013  Figure 1 : Localisation du séisme du 9 septembre 2013\", start_char_idx=0, end_char_idx=1778, text_template='{metadata_str}\\n\\n{content}', metadata_template='{key}: {value}', metadata_seperator='\\n'), score=0.8003702507816555), NodeWithScore(node=TextNode(id_='27457076-be14-495f-82c3-e4c564bd9ced', embedding=None, metadata={'page_label': '2', 'file_name': '/share/data/fiches_seismes/irsn_seisme_argeles_gazost_112006.pdf'}, excluded_embed_metadata_keys=[], excluded_llm_metadata_keys=[], relationships={<NodeRelationship.SOURCE: '1'>: RelatedNodeInfo(node_id='bf588429-49ff-42e2-a575-b3b4429bfeac', node_type=<ObjectType.DOCUMENT: '4'>, metadata={'page_label': '2', 'file_name': '/share/data/fiches_seismes/irsn_seisme_argeles_gazost_112006.pdf'}, hash='e06384907076f52a5594e5be17b85d2444934fb56394b59302f97180bae2d396'), <NodeRelationship.PREVIOUS: '2'>: RelatedNodeInfo(node_id='fc2da5e0-0bb9-42e9-948c-d7b3834f44ed', node_type=<ObjectType.TEXT: '1'>, metadata={'page_label': '1', 'file_name': '/share/data/fiches_seismes/irsn_seisme_argeles_gazost_112006.pdf'}, hash='8ffbda138c4f9d9bd0e8a403f366985bbd4b22859b8ba723b7806bbffe67fbfd'), <NodeRelationship.NEXT: '3'>: RelatedNodeInfo(node_id='7fc1734d-7be8-4bac-907d-61b7247cdaa9', node_type=<ObjectType.TEXT: '1'>, metadata={}, hash='251cbcf2326a50e71d800dc2ef53fbf5b8a53237a188239bd8679495c55442d9')}, text=\"Ce séisme a été fortement ressenti dans le département des Hautes-Pyrénées,\\nprincipalement dans le pays de Lourdes, mais aussi plus modérément dans les départements voisins \\ndes Pyrénées-Atlantiques et de Haute-Garonne. De légers dégâts ont été signalés dans les environs \\nde Lourdes (chutes de cheminées), tandis que de brèves coupures d’électricité ont aus si affecté\\ndes communes des Hautes-Pyrénées.Témoignages recueillis\\nBureau Central Sismologique Français (www.bcsf.prd.fr)\\nLe séisme du 17/11/2006 est localisé dans la  région de la Faille nord-pyrénéenne,\\nautour de laquelle se concentre la si smicité modérée et fréquente de la région. Cette région est la plus active \\nde la France métropolita ine. Les premiers travaux sur le séisme du 17/11/2006 montrent que le mouvement est \\nextensif sur une faille de direction E-W. Les résultat s confortent la connaissance actuelle des mécanismes à\\nl’origine de la sismicité régionale.\\nL’analyse des séismes historiques révèle que la région a déjà subi des séismes plus significatifs.\\nCeux-ci ont occasionné des dégâts importants sur le  bâti (intensité épicentrale supérieure à VII MSK).\\nLe plus fort de ces séismes historiques (21/6/1660) aurait eu une magnitude proche de 6.5.\\nSur la période récente pour laquelle des enregistrements sont disponibles, le séisme du 17/11/2006 apparaît \\ntoutefois d’importance significative. Ainsi, parmi les séismes enregistrés depuis plus de 40 ans dans un rayon de \\n30 km, celui du 17/11/2006 apparaît comme le deuxième le plus important en magnitude locale.\\nImpact sur les installations nucléaires\\nLa région concernée n’accueille aucune installation nucléaire.\\nLe site le plus proche, l’installation nucléaire EDF de  Golfech est située à 145 km. La secousse n’y a pas été\\nressentie. \\nLes caractéristiques du séisme soulignent qu’il est associé aux failles pyrénéen nes et qu’il n’est pas \\nreprésentatif de la zone de faible activité sismotectoni que (Bassin aquitain) où est localisée l’installation de \\nGolfech. \\nSelon l’Agence France Presse (19/11/2006), l’inspection par EDF de ses barrages hydro-électriques \\na permis de vérifier l’absence d’impact du séisme sur les ouvrages les plus proches de l’épicentre. Contexte sismotectonique\\nNomLongitude \\n(°E)Latitude (°N)Intensité \\népicentraleMagnitudeDistance à l'épicentre \\nCEA (km)\\n21/06/1660 Bagnères-de-B.\", start_char_idx=0, end_char_idx=2347, text_template='{metadata_str}\\n\\n{content}', metadata_template='{key}: {value}', metadata_seperator='\\n'), score=0.7969456702443094)], metadata={'cebabf21-761b-4c73-ae47-12689d278c10': {'page_label': '1', 'file_name': '/share/data/fiches_seismes/IRSN-Seisme-Civaux-09092013.pdf'}, '27457076-be14-495f-82c3-e4c564bd9ced': {'page_label': '2', 'file_name': '/share/data/fiches_seismes/irsn_seisme_argeles_gazost_112006.pdf'}})], 'IRSN-Seisme-Kent-22052015.pdf': [Response(response='\\nThe earthquake that occurred on May 22, 2015, in Kent, England, was a moderate earthquake with a magnitude of 3.7 (Mw-USGS) to 4.4 (Ml CEA) according to different sources. The earthquake was felt by the population in England, France, and Belgium. The intensities collected by the British Geological Survey (BGS) at this time reach V (strongly felt earthquake - slight damage to vulnerable buildings). In France, the intensities reported by the Bureau Central Sismologique Français (BCSF) at this time reach IV (moderately felt earthquake - no damage to vulnerable buildings). The earthquake was associated with a mechanism called \"en compression with a decrochant component\" variable according to different sources (University of Liverpool - BGS - GFZ - USGS). The region of Kent has experienced several earthquakes of similar magnitude in the past, including the Folkestone earthquake of 2007. There have also been earthquakes of magnitude greater than 6.0 in the past in a large area around the Strait of Dover between the 14th and 16th centuries', source_nodes=[NodeWithScore(node=TextNode(id_='7e668803-485c-4519-8867-a702e1c2ab07', embedding=None, metadata={'page_label': '1', 'file_name': '/share/data/fiches_seismes/IRSN-Seisme-Kent-22052015.pdf'}, excluded_embed_metadata_keys=[], excluded_llm_metadata_keys=[], relationships={<NodeRelationship.SOURCE: '1'>: RelatedNodeInfo(node_id='ed6485b0-d961-4dea-9d93-0accb8da4464', node_type=<ObjectType.DOCUMENT: '4'>, metadata={'page_label': '1', 'file_name': '/share/data/fiches_seismes/IRSN-Seisme-Kent-22052015.pdf'}, hash='2c6653cd59fa6af3f1bf56414e6e030508c6301afdda6639df7b570ef385ccda'), <NodeRelationship.PREVIOUS: '2'>: RelatedNodeInfo(node_id='5e71c1be-77c9-42c4-a155-6e85f0930ffe', node_type=<ObjectType.TEXT: '1'>, metadata={'page_label': '2', 'file_name': '/share/data/fiches_seismes/IRSN_seisme_sumatra-11042012.pdf'}, hash='12fd03999e822cbd424e127c59329d2b4f5645a234534088c1983e63fb7d7084'), <NodeRelationship.NEXT: '3'>: RelatedNodeInfo(node_id='7ccdb110-b9cc-4c6d-b220-90878c6afac5', node_type=<ObjectType.TEXT: '1'>, metadata={}, hash='0788b90c2229c2b09eb3fc4395f59919337ac79e435d009fb29016d4638e8259')}, text=\"Les faits  \\n\\uf0a7Vendredi  22 mai 2015 , à 2h52 heure  locale  (Angleterre),  un séisme  de magnitude  \\nmodérée,  comprise  entre  3,7 (Mw-USGS)  et 4,4 (Ml CEA) selon  les instituts,  s’est produit  \\nau voisinage  de Ramsgate,  sur la cote anglaise  dans le Kent à l’Est de Londres,  à 51,3° \\nNord et 1,4° Est (BGS,  British  Geological  Survey ). L'estimation  de la profondeur  conduit  \\nà des valeurs  comprises  entre  10 à 18 km. \\n \\n\\uf0a7La secousse  a été largement  ressentie  par la population  en Angleterre,  en France  et en \\nBelgique . \\n \\n\\uf0a7Les intensités  les plus fortes  collectées  à ce jour par le BGS atteignent  V (secousse  \\nfortement  ressentie  – dégâts  très légers  sur les bâtiments  vulnérables) . En France,  les \\nintensités  les plus fortes  reportées  par le Bureau  Central  Sismologique  Français  (BCSF ) \\natteignent  IV (secousse  modérément  ressentie  – aucun  dégât  sur bâtiments  vulnérables) .  \\n \\n\\uf0a7Le séisme  du 22 mai 2015  est associé  à un mécanisme  dit « en compression  avec une \\ncomposante  décrochante  » variable  selon  les instituts  (sources  Université  de Liverpool  - \\nBGS – GFZ – USGS) .  \\n \\n\\uf0a7La région  du Kent a connu  plusieurs  séismes  de magnitude  équivalente  dans le passé  \\nrécent  dont le séisme  de Folkestone  de 2007 . Des séismes  de magnitude  nettement  \\nsupérieure  (allant  jusqu’à  6,0) se sont produits  dans un large  secteur  autour  du détroit  \\ndu pas de Calais  entre  le XIVe et le XVIe siècle . Séisme du Kent  \\n(Angleterre)  \\n \\nDu vendredi 22 mai 2015 (1h52 TU) \\nMagnitude = 4,4 (Ml - CEA) I  N  F  O  R  M  A  T  I  O  N  \\nLe Bureau \\nd'évaluation  \\ndes risques \\nsismiques pour  \\nla sûreté des \\ninstallations \\n(BERSSIN) de l’IRSN \\neffectue  \\ndes recherches  \\net des expertises \\nsur l’aléa sismique \\nen tant que source \\nd’agression externe \\ndes installations  \\nà risque  \\n1 FS 6  \\nVersion 1 du 27 mai 2015  \\nwww.irsn.fr  CONTACT :  \\n \\nIRSN/BERSSIN  \\nCh. Clément  \\nMarc Cushing  \\nSébastien Hok \\nHervé Jomard  \\n \\n01 58 35 87 89  \\nchristophe.clement@irsn.fr  Figure 1 : l ocalisations du séisme du 22 mai 2015 (étoiles noires) selon différents instituts \\nsismologiques. Les principaux séismes historiques de la région sont représentés selon leur \\nmagnitude (source IRSN). Cercles jaunes : séismes historiques avant 1962 ; cercles blancs : \\nséismes instrumentaux après 1962. Les failles actives sont représentées par des lignes \\nrouges. Les cercles noirs indiquent une distance de 50 km autour des centrales nucléaires \\nde Gravelines et de Dungeness.  27 mai 2015\", start_char_idx=0, end_char_idx=2535, text_template='{metadata_str}\\n\\n{content}', metadata_template='{key}: {value}', metadata_seperator='\\n'), score=0.8440731735109551), NodeWithScore(node=TextNode(id_='42541e9f-c27c-41c2-ac13-267b5cd0cb4d', embedding=None, metadata={'page_label': '1', 'file_name': '/share/data/fiches_seismes/IRSN-Seisme-Manosque-19092012.pdf'}, excluded_embed_metadata_keys=[], excluded_llm_metadata_keys=[], relationships={<NodeRelationship.SOURCE: '1'>: RelatedNodeInfo(node_id='083dc54f-5e1b-4337-bc03-1a217353c108', node_type=<ObjectType.DOCUMENT: '4'>, metadata={'page_label': '1', 'file_name': '/share/data/fiches_seismes/IRSN-Seisme-Manosque-19092012.pdf'}, hash='f245c3fc1e6426df2cd4bcd1d09aaf9961a974e44a0c869ac8e98aed12103dbb'), <NodeRelationship.PREVIOUS: '2'>: RelatedNodeInfo(node_id='d1be8e55-1e48-4713-91bc-f550ece63729', node_type=<ObjectType.TEXT: '1'>, metadata={'page_label': '1', 'file_name': '/share/data/fiches_seismes/IRSN-Seisme-Manosque-19092012.pdf'}, hash='537baa75387e77f2d30a8787bbb42e2078cf8b99efe0946b905f4d08bb963728'), <NodeRelationship.NEXT: '3'>: RelatedNodeInfo(node_id='16389345-1935-482f-961c-d056fb72e599', node_type=<ObjectType.TEXT: '1'>, metadata={}, hash='ce6264245673cfe8f1585c06124724bd90faa633bf1db249e85bd1b55baec32b')}, text=\"L’intensité  correspond  à \\nune évaluation  de l’importance  des effets  de la secousse  en un lieu donné  \\n(perception,  effets  sur les objets  et/ou  dommages  aux constructions) . La magnitude  \\nde ces séismes  est actuellement  évaluée  autour  de 5. Un séisme  moins  puissant  \\ns'était  produit  dans la zone  du séisme  du 19 septembre  le 14 mai 1913  avec une \\nintensité  de VII-VIII (MSK)  (magnitude  estimée  de l'ordre  de 4,5 selon  les études  de \\nl'IRSN) . Séisme à Villeneuve  \\n(Alpes de Haute -Provence)  \\n \\nDu mercredi 19 septembre 2012 (18h56 TU)  \\nMagnitude = 3,5 (Ml)  I  N  F  O  R  M  A  T  I  O  N  \\nLe Bureau \\nd'évaluation  \\ndes risques \\nsismiques pour  \\nla sûreté des \\ninstallations \\n(BERSSIN) de l’IRSN \\neffectue  \\ndes recherches  \\net des expertises \\nsur l’aléa sismique \\nen tant que source \\nd’agression externe \\ndes installations  \\nà risque  \\n1 FS 6  \\nVersion 1 du 21 septembre 2012  \\nwww.irsn.fr  CONTACT :  \\n \\nIRSN/BERSSIN  \\nDavid Baumont  \\nMarc Cushing  \\n01 58 35 91 24  \\ndavid.baumont@irsn.fr  \\nedward.cushing@irsn.fr  \\n21 septembre 2012  \\nFigure 1 : Localisation du séisme du 19 septembre 2012 (étoile)\", start_char_idx=1862, end_char_idx=2999, text_template='{metadata_str}\\n\\n{content}', metadata_template='{key}: {value}', metadata_seperator='\\n'), score=0.8100713378564798)], metadata={'7e668803-485c-4519-8867-a702e1c2ab07': {'page_label': '1', 'file_name': '/share/data/fiches_seismes/IRSN-Seisme-Kent-22052015.pdf'}, '42541e9f-c27c-41c2-ac13-267b5cd0cb4d': {'page_label': '1', 'file_name': '/share/data/fiches_seismes/IRSN-Seisme-Manosque-19092012.pdf'}}), Response(response='\\nThe context information does not provide any information about the sismicity historique in the Strait of Dover or any research being conducted to better understand the seismic risk in that region.', source_nodes=[NodeWithScore(node=TextNode(id_='09e5497f-51f8-489a-939d-148915ce0a80', embedding=None, metadata={'page_label': '3', 'file_name': '/share/data/fiches_seismes/IRSN-Seisme-Amatrice-Italie-240816_V1.pdf'}, excluded_embed_metadata_keys=[], excluded_llm_metadata_keys=[], relationships={<NodeRelationship.SOURCE: '1'>: RelatedNodeInfo(node_id='92ed0147-7ad6-4d35-ac8b-3a990558c99c', node_type=<ObjectType.DOCUMENT: '4'>, metadata={'page_label': '3', 'file_name': '/share/data/fiches_seismes/IRSN-Seisme-Amatrice-Italie-240816_V1.pdf'}, hash='f69f88c2dba8408f57549bacd29e66bda7653818fcf54c747df487cd0fcd2e9a'), <NodeRelationship.PREVIOUS: '2'>: RelatedNodeInfo(node_id='be82d5b1-8670-42bd-8c61-1cb78c3e4f47', node_type=<ObjectType.TEXT: '1'>, metadata={'page_label': '2', 'file_name': '/share/data/fiches_seismes/IRSN-Seisme-Amatrice-Italie-240816_V1.pdf'}, hash='469e28323fbfa7a06906b94258987a4138c4f0317644852d4d3384cc5043d58b'), <NodeRelationship.NEXT: '3'>: RelatedNodeInfo(node_id='0e2625ef-e48a-42d8-aeca-68ff26160372', node_type=<ObjectType.TEXT: '1'>, metadata={}, hash='b9c56788a16397846443487d522c3e1d032783e8694fd827d0066d94b9e2c9a7')}, text='3 I  N  F  O  R  M  A  T  I  O  N  \\nImpact sur les personnes et les bâtiments  \\nFigure  5 : Cartographie  du résultat  des enquêtes  macrosismiques  remplies  par les utilisateurs  \\nd’internet  (www .haisentitoilterremoto .it). Dans l’échelle  employée  (MCS),  les degrés  2 à 4 correspondent  \\nà des niveaux  pour lesquels  la secousse  est ressentie  par l’homme  et fait bouger  des objets . De 5 à 7, \\nles objets  chutent,  les édifices  perdent  leurs  tuiles,  cheminées,  etc. De 8 à 9, le séisme  est \\ndestructeur  pour 25 à 100% des bâtiments . Les localisations  des sites nucléaires  de Montalto  di \\nCastro,  Casaccia  et Latina  sont indiquées  sur la carte . \\nLa partie  centrale  des Apennins  est caractérisée  par une densité  de population  relativement  faible  (inférieure  à 100 \\nhabitants  par km carré) . Le tissu urbain  est composé  de petites  villes  d’origine  médiévale  caractérisées  par une \\nvulnérabilité  élevée .  \\nLe bilan des victimes  et des dégâts  produits  par le séisme  est à ce jourencore  provisoire . Le 26 août à 08h30, le \\nbilan humain  s’établissait  à 267 décès,  des centaines  de blessés  et plusieurs  centaines  de disparus  (Protezione  Civile  \\nItaliana ).  \\nPour ce qui concerne  les dégâts  occasionnés  aux bâtiments  et aux infrastructures,  les informations  disponibles  \\nrestent  encore  partielles  et sujettes  à caution  dans l’attente  des résultats  des missions  d’expert  et compte  tenu de \\nla priorité  accordée  aux secours . \\nSelon  la protection  civile  l’ampleur  des dégâts  est supérieure  à celle provoquée  par le séisme  de L’Aquila . Les villes  \\nd’Amatrice,  Accumoli  et Pescara  del Tronto  ont été en grande  partie  détruites  (La Repubblica,  25/08/2016 8h30). \\nToutes  les maisons  en pierre  et en maçonnerie  se sont écroulées . Les murs de remplissage  des maisons  en béton  ont \\néclaté  en provoquant  l’effondrement  des immeubles  (La Repubblica,  24/08/2016 citant  Fabrizio  Curcio  responsable  \\nde la protection  civile ). L’hôpital  de la ville d’Amatrice  a été fortement  endommagé  et a dû être fermé . \\nL’établissement  scolaire  de la ville,  dont une partie  avait fait l’objet  de renforcement  parasismique  en 2012, a subi \\nun effondrement  partiel  (La Repubblica,  24/08/2016). \\nLe séisme  a endommagé  plusieurs  viaducs  et a provoqué  des chutes  de blocs  sur les routes,  rendant  difficile  l’accès  \\nà certaines  zones . Dans un communiqué  de presse,  l’ENEL  (Ente Nazionale  per l’Energia  eLettrica ) a indiqué  que le \\nbarrage  du Scanderello , localisé  à proximité  d’Amatrice,  n’a pas subi de dégâts  ; néanmoins,  il reste  sous \\nsurveillance  renforcée  (Agenzia  Nazionale  Stampa  Associata  25/08/2016 19h40).', start_char_idx=0, end_char_idx=2744, text_template='{metadata_str}\\n\\n{content}', metadata_template='{key}: {value}', metadata_seperator='\\n'), score=0.667702426890275), NodeWithScore(node=TextNode(id_='8183b8ff-b643-4712-9bab-109afcff9b1f', embedding=None, metadata={'page_label': '2', 'file_name': '/share/data/fiches_seismes/IRSN Fiche seisme MULHOUSE 13092022.pdf'}, excluded_embed_metadata_keys=[], excluded_llm_metadata_keys=[], relationships={<NodeRelationship.SOURCE: '1'>: RelatedNodeInfo(node_id='e6a2d8b1-8db0-45b7-8548-2d574999e586', node_type=<ObjectType.DOCUMENT: '4'>, metadata={'page_label': '2', 'file_name': '/share/data/fiches_seismes/IRSN Fiche seisme MULHOUSE 13092022.pdf'}, hash='39dc2da9e5f7171700998ce83136136d3b3e41e0e1a9a0fe525cb7ac81ace601'), <NodeRelationship.PREVIOUS: '2'>: RelatedNodeInfo(node_id='e9d0f049-88cf-4366-85d8-91fbfb13c7fe', node_type=<ObjectType.TEXT: '1'>, metadata={'page_label': '1', 'file_name': '/share/data/fiches_seismes/IRSN Fiche seisme MULHOUSE 13092022.pdf'}, hash='b079d05663ed18259ec384c0506e23d58ac543400d8fe741a6e0f384dca310f2'), <NodeRelationship.NEXT: '3'>: RelatedNodeInfo(node_id='57863efb-5dae-4375-9cc4-51c95e65952c', node_type=<ObjectType.TEXT: '1'>, metadata={}, hash='52f44620b49463cb194fd5d9bd49726ccbc98cf2f8654b8e00fe25857cb5949f')}, text='Figure 2: Carte  de ressentis issue de 1836 \\ntémoignages en Europe. Source  : CSEM -EMSC  \\nFigure 3: Contexte sismotectonique du Fossé Rhénan (d’après Jomard \\net al., 2017). L’étoile représente la localisation épicentrale du séisme \\ndu 10 septembre 2022. Les tracés noirs représentent les failles \\nrépertoriées dans la base de données de failles actives. Les cercles \\nblancs représentent la sismicité instrumentale de la région (CEA -\\nLDG). Les cercles colorés représentent la sismicité historique \\nrépertoriée dans la base de donnée s SisFrance  (BRGM, EDF, IRSN) . La \\nlocalisation de la centrale de Fessenheim est indiquée par un carré \\ngris.  Les témoignages reportent les bruits  et vibrations ressenties \\nainsi que la chute marginale d’objets (Figure 1).  \\nLes secousses ont également été largement ressenties en \\nAllemagne et en Suisse comme en témoigne la carte des \\nintens ités ressenties répertoriées par le CSEM -EMSC  (Figure \\n2). La secousse  principale  a été largement enregistrée aux \\nstations sismologiques du réseau sismique Français (Résif).  \\nLa station la plus proche (localisée à environ 3 km de \\nl’épicentre) a enregistré une valeur de pic d’accélération du sol \\nd’environ 0,05 g  \\n \\n \\n \\n \\n \\n \\n \\n \\n \\n \\n \\n \\n Contexte géodynamique et sismicité régionale .\\nCe séisme apparaît caractéristique de la tectonique du Fossé \\nRhénan, dont la partie sud est une des régions parmi les plus \\nactives de France métropolitaine. Le Fossé Rhénan est un \\nsystème de rift ayant commencé à se former il y a environ 40 \\nmillions d’années. Il est aujourd’hui caractérisé par un système \\nde failles orientées princi palement NNE -SSO (figure 3) dont \\nplusieurs présentent des marqueurs d’activité récente \\n(quaternaire). Le mécanisme au foyer déterminé pour le \\nséisme du 10 septembre 2022 indique un séisme purement \\ndécrochant sénestre en cohérence avec le contexte régional et \\nles séismes survenus dans le passé, dont le séisme de Sierentz \\nde 1980. Ce dernier, de magnitude locale 4,7, localisé à \\nenviron 4 km de l’épicentre du séisme de 2022 , a produit  \\nplusieurs centaines de répliques enregistrées dans les 16 jours \\nqui ont suiv i le choc principal. À ce jour quelques répliques \\nsignificatives ont été enregistrées à la suite du séisme de \\nseptembre 2022, l’activité sismique pourrait donc se \\npoursuivre dans les jours à venir. La localisation précise de ces \\nséismes pourrait contribuer  à identifier les structures actives \\naujourd’hui.   \\nPar ailleurs, la région de Bâle est marquée par une sismicité \\nhistorique récurrente, qui compte plusieurs séismes \\nd’intensité épicentrale supérieur e à V, les plus importants \\nétant les séismes de Bâle de 1356 (intensités MSK=VII -VIII et \\nIX-X). Les failles associées à ces événements historiques \\nrestent mal connues et rien ne permet actuellement d’affirmer \\nque les structures à l’origine de ces séismes s oient communes \\nà celle du séisme de 2022  (Figure 3).', start_char_idx=3, end_char_idx=2925, text_template='{metadata_str}\\n\\n{content}', metadata_template='{key}: {value}', metadata_seperator='\\n'), score=0.6500134067313373)], metadata={'09e5497f-51f8-489a-939d-148915ce0a80': {'page_label': '3', 'file_name': '/share/data/fiches_seismes/IRSN-Seisme-Amatrice-Italie-240816_V1.pdf'}, '8183b8ff-b643-4712-9bab-109afcff9b1f': {'page_label': '2', 'file_name': '/share/data/fiches_seismes/IRSN Fiche seisme MULHOUSE 13092022.pdf'}})], 'IRSN-Seisme-Elazig-Turquie-24012020.pdf': [Response(response=\"\\nThe context information provided does not contain any information about the geodynamics or sismicity of the region around Elazig. The information provided is about the geodynamics and sismicity of the regions of Italy and France. The Italian region where the 2012 earthquake occurred is in the Emilia-Romagna region, which is classified as a low-level sismicity zone. The French region mentioned is the Provence-Alpes-Côte d'Azur (PACA), which is one of the regions in France that is most exposed to the risk of earthquakes, although the risk is moderate. The PACA region is also the site of the famous Faille de la Moyenne Durance (FMD), a fault that has been the subject of extensive research by the IRSN and other organizations to understand its potential for earthquakes.\", source_nodes=[NodeWithScore(node=TextNode(id_='58d08b53-b922-4ca5-9436-d4b93bd1e033', embedding=None, metadata={'page_label': '4', 'file_name': '/share/data/fiches_seismes/IRSN_seisme_Italie-20052012.pdf'}, excluded_embed_metadata_keys=[], excluded_llm_metadata_keys=[], relationships={<NodeRelationship.SOURCE: '1'>: RelatedNodeInfo(node_id='8355e9ea-a054-4224-9765-8fc95ef91062', node_type=<ObjectType.DOCUMENT: '4'>, metadata={'page_label': '4', 'file_name': '/share/data/fiches_seismes/IRSN_seisme_Italie-20052012.pdf'}, hash='5dfc05a5907d41bb9304fc2a175461bad62c69c208e8b5f1e53c1f796fd092d3'), <NodeRelationship.PREVIOUS: '2'>: RelatedNodeInfo(node_id='5d9bf5c7-6312-4b35-b7bd-5c2ef235b21a', node_type=<ObjectType.TEXT: '1'>, metadata={'page_label': '3', 'file_name': '/share/data/fiches_seismes/IRSN_seisme_Italie-20052012.pdf'}, hash='e7b54e832029ef7de473d18d6d6e5821c8f87b39740055a87485bcd6c1650b50'), <NodeRelationship.NEXT: '3'>: RelatedNodeInfo(node_id='dd222f12-abd1-4879-867a-93a2c9e6db0f', node_type=<ObjectType.TEXT: '1'>, metadata={}, hash='54b3064b3625f13fd84b1f8c85f50e64d18b1c023631cfed105f3675d34fe879')}, text='La région  où s’est produit  le séisme  du 20 mai 2012 se trouve  dans une zone de niveau  3 (niveau  d’aléa  sismique  dit \\n« faible  » – Figure  6) de la carte  de l’aléa  sismique  italien . Cette  carte  représente  l’aléa  sismique  établi  commune  \\npar commune,  sur une échelle  de 1 (élevé)  à 4 (minime) . L’épicentre  est localisé  dans une zone où l’on estime  qu’une  \\naccélération  du sol de 0,15 g peut être dépassée  avec une probabilité  de 10% en 50 ans. Aucun  instrument  n’étant  \\nprésent  à proximité  de l’épicentre,  il n’existe  pas de mesure  directement  disponible  de cette  accélération . D’après  \\nles modélisations  de l’INGV,  basées  en partie  sur les témoignages  internet  (Figure  7) et les accélérations  observées  \\naux stations  lointaines,  les accélérations  maximales  atteintes  dans la zone épicentrale  pourraient  être de 0,3 g (les \\nvaleurs  d’intensités  ont atteint  localement  le degré  VIII sur l’échelle  des dommages  MCS – Figure  7). Selon  ces mêmes  \\nmodélisations,  le rayon  estimé  de la zone de dommages  significatifs  (intensité  > VI) est de l’ordre  de 20 km. \\n Aléa sismique et estimation du mouvement sismique en basse plaine \\ndu Pô  \\nLes enseignements  \\n\\uf0a7Le séisme  du 20 mai 2012 , dont l’épicentre  est localisé  entre  Ferrara,  Mantova  et Modena,  a été \\nfortement  ressenti  dans un rayon  de plus de 200 km. Le bilan,  encore  provisoire,  fait état de plusieurs  \\nvictimes  et d’importants  dégâts  matériels . A ce jour,  les dommages  les plus importants  semblent  avoir  \\naffecté  le patrimoine  artistique  et historique  de la région  mais aussi  des installations  industrielles  du \\nsecteur  agroalimentaire .  \\n\\uf0a7Le séisme  du 20 mai 2012  est intervenu  dans une région  classée  parmi  les zones  à sismicité  dite \\n« faible  » d’Italie .  \\n\\uf0a7Aucun  site nucléaire  n’est  situé  dans la région  dans laquelle  des effets  significatifs  ont été enregistrés . I  N  F  O  R  M  A  T  I  O  N  \\n4 Impact sur les installations nucléaires  \\nPlusieurs  réacteurs  électronucléaires  et installations  de fabrication  de combustibles  ont été exploités  en Italie . Tous \\nsont aujourd’hui  arrêtés  et en cours  de démantèlement . A ces sites,  s’ajoutent  les sites d’entreposage  de \\ncombustibles  usés ainsi que certains  réacteurs  et laboratoires  de recherche  encore  en fonctionnement .  \\nL’installation  la plus proche  du séisme  de l’Emilia -Romagna  est l’établissement  de recherche  de Montecuccolino,  \\nsitué à Bologna,  zone dans laquelle  aucun  effet significatif  n’a été répertorié  (intensité  macrosismique  inférieure  à \\nVI). \\n22 Mai 2012  Figure 6: Localisation de l’épicentre du \\nséisme de l’Emilia -Romagna par rapport \\nau dernier zonage sismique.', start_char_idx=0, end_char_idx=2757, text_template='{metadata_str}\\n\\n{content}', metadata_template='{key}: {value}', metadata_seperator='\\n'), score=0.7410842429772826), NodeWithScore(node=TextNode(id_='c463f41b-b599-4b70-bd8a-5060c1d34ed3', embedding=None, metadata={'page_label': '2', 'file_name': '/share/data/fiches_seismes/IRSN_seisme-Manosque_V1-12072010.pdf'}, excluded_embed_metadata_keys=[], excluded_llm_metadata_keys=[], relationships={<NodeRelationship.SOURCE: '1'>: RelatedNodeInfo(node_id='9815e09d-480d-41a7-94d8-fab47a700ca2', node_type=<ObjectType.DOCUMENT: '4'>, metadata={'page_label': '2', 'file_name': '/share/data/fiches_seismes/IRSN_seisme-Manosque_V1-12072010.pdf'}, hash='3b6a8b00edc7085e9a49225cdc4be18b60d538f5dd2558a2a558c0deb606f3ff'), <NodeRelationship.PREVIOUS: '2'>: RelatedNodeInfo(node_id='a5c78511-dada-433f-b087-73263e35d00c', node_type=<ObjectType.TEXT: '1'>, metadata={'page_label': '1', 'file_name': '/share/data/fiches_seismes/IRSN_seisme-Manosque_V1-12072010.pdf'}, hash='e6ab4147b99d703d9162efc8ee18020d8ab42c7fd232bb8f3f58a9901b26fbcd'), <NodeRelationship.NEXT: '3'>: RelatedNodeInfo(node_id='53125872-f174-43be-ae6b-647e85eb7fa7', node_type=<ObjectType.TEXT: '1'>, metadata={}, hash='3113706364abf483bac5f2ce67d0ebe294a4175395de9e496b42209b2167dd8e')}, text='I  N  F  O  R  M  A  T  I  O  N\\n2\\n 12 juillet 2010Localisation du séisme\\nL’IRSN maintient, en partenariat avec le Réseau  Accélérométrique Permanent (GIS-RAP), 3 stations \\naccélérométriques autour de la FMD. Le dépouilleme nt des enregistrements est en cours. D’après les \\nestimations faites par la société Magnitude (prestataire IRSN pour la maintenance), le séisme s’est \\nproduit à environ 4 km de profondeur à l’aplomb du ravin de Couquières (à 400 mètres des faubourgs \\nouest de Manosque). La localisation du séisme est illustrée dans son contexte géologique sur le bloc diagramme présenté en figure 2. Compte tenu de  sa localisation, il pourrait être associé au \\nmouvement d’un segment de la FMD, limita nt à l’est l’anticlinal de Manosque.Figure 2 : Bloc diagramme présentant la géométri e de la Faille de la Moyenne Durance et la \\nposition du foyer du séisme.\\nLa région PACA est l’une des régions françaises (hors territoires d’outre-mer) les plus exposées au risque sismique, même s’il reste modéré. On peut citer en particulier deux séismes qui, dans un \\npassé peu éloigné, ont eu des conséquences sévères, provoquant des dommages importants aux \\nconstructions et des pertes en vies humaines : le sé isme du 23 février 1887 en région Ligure, au sud-\\nest de Nice (magnitude de l’ordre de 6,5), et celui du 11 juin 1909 de Lambesc (magnitude de l’ordre \\nde 6) dans les chaînons calcaires entr e Salon-de-Provence et Aix-en-Provence. \\nOutre ces séismes de magnitude forte à modérée, la région PACA est également le siège d’une \\nsismicité régulière de plus faible niveau. Elle s’ex prime principalement dans l’arrière-pays niçois et \\nle long d’un axe reliant la région aixoise aux confins des Alpes-de-Haute-Provence et s’étendant \\njusqu’à la région de la Motte-du-Caire. Sur ce dernier axe, qui correspond à la trace d’une faille très ancienne (300 millions d’années), des séismes de magnitude faible à modérée (typiquement de magnitudes de l’ordre de 5) se sont produits pr esque régulièrement depuis le XVIe siècle. Cette \\nfaille, ou plutôt « système de failles », est dénommée par les géologues « Faille de la Moyenne \\nDurance » (FMD).\\nDepuis le début des années 1990, l’IRSN a mené des études visant à évaluer la « potentialité\\nsismique » de la FMD grâce à l’installa tion durant environ 15 ans d’un réseau de surveillance sismique \\nvisant à comprendre le fonctionnement de la fai lle. L’ensemble des travaux menés, notamment avec \\nle CEREGE (Université d’Aix-Marseille),  a permis de préciser la cartogra phie de la faille en surface et \\nen profondeur et de comprendre comment se produi sent les déformations le long de la faille. Ces \\nétudes ont conclu à la possibilité de séismes très importants mais rares (à l’échelle de plusieurs \\nmilliers d’années). Les géologues ont également mis en évidence, à l’échelle régionale et sur la FMD en particulier, des traces de séismes très anciens (paléoséismes) qui auraient pu atteindre ou dépasser les magnitudes des séismes de  Lambesc et de la région Ligure.Sismicité de la région Provence-Alpes-Côte d’Azur (PACA)', start_char_idx=0, end_char_idx=3071, text_template='{metadata_str}\\n\\n{content}', metadata_template='{key}: {value}', metadata_seperator='\\n'), score=0.7306255855079362)], metadata={'58d08b53-b922-4ca5-9436-d4b93bd1e033': {'page_label': '4', 'file_name': '/share/data/fiches_seismes/IRSN_seisme_Italie-20052012.pdf'}, 'c463f41b-b599-4b70-bd8a-5060c1d34ed3': {'page_label': '2', 'file_name': '/share/data/fiches_seismes/IRSN_seisme-Manosque_V1-12072010.pdf'}}), Response(response='\\nThe context information indicates that the earthquake of 24 January 2020 in Turkey did not have any significant impact on the installations nucléaires in the region. The closest nuclear power plant to the epicenter of the earthquake was the Metsamor nuclear power plant in Armenia, which is located approximately 480 km away. The plant has two VVER reactors of 400 MW each, which were put into service in 1976 and 1980. The plant produced 400 MW in December 2019. However, the earthquake did not cause any significant damage to the plant, as it was located far away from the epicenter and the magnitude of the earthquake was not high.\\n\\nIn terms of nuclear power plant projects in Turkey, there are two ongoing projects: one located on the Black Sea coast in the Sinop region and the other on the Mediterranean Sea coast, 100 km north of Cyprus. These projects are being developed by the Akkuyu Energy company and are expected to have a total capacity of 4,000 MW. The Sinop project is expected to have four ATME', source_nodes=[NodeWithScore(node=TextNode(id_='21161356-4548-461a-949e-5d467d220412', embedding=None, metadata={'page_label': '3', 'file_name': '/share/data/fiches_seismes/IRSN-Seisme-Elazig-Turquie-24012020.pdf'}, excluded_embed_metadata_keys=[], excluded_llm_metadata_keys=[], relationships={<NodeRelationship.SOURCE: '1'>: RelatedNodeInfo(node_id='e6c29718-6287-4fe6-a6f1-550389b255bc', node_type=<ObjectType.DOCUMENT: '4'>, metadata={'page_label': '3', 'file_name': '/share/data/fiches_seismes/IRSN-Seisme-Elazig-Turquie-24012020.pdf'}, hash='a460d559f8c05bed8e8eb55c0b04b42d40269640c3900d29e4cad826a621da46'), <NodeRelationship.PREVIOUS: '2'>: RelatedNodeInfo(node_id='f16e6bc9-bcc1-428b-862f-524c150a2eb9', node_type=<ObjectType.TEXT: '1'>, metadata={'page_label': '2', 'file_name': '/share/data/fiches_seismes/IRSN-Seisme-Elazig-Turquie-24012020.pdf'}, hash='6bca029b7050584f86fdc44b49b47c024d0c5cf3900628547b845b78a8ebea8e'), <NodeRelationship.NEXT: '3'>: RelatedNodeInfo(node_id='d91eb4ba-c968-4959-a3e3-937303ac593e', node_type=<ObjectType.TEXT: '1'>, metadata={}, hash='728508cd59db21839eec7a6ecc4bbf5cda4b77df7d86b9b177d1cfac8be50843')}, text='I  N  F  O  R  M  A  T  I  O  N  \\n29 janvier 2020  \\n  \\nConséquences  sur les installations nucléaires  \\nL’installation nucléaire la plus proche de l’épicentre (à environ 480 km) est située à Me tsamor en Arménie  (Figure \\n1). Elle comporte deux unités  VVER de puissance 400 MW mises en service en 1976 et 1980. Cette centrale a \\nproduit 400 MW en décembre 2019. La  centrale a été provisoirement arrêtée  suite au séisme de Spitak en 1988 . \\nCompte tenu de l’éloignement et de la magnitude du séisme, aucun effet significatif n’est redouté sur le site \\nmême de la centrale nucléaire.  \\nProjets de centrales nucléaires en Turquie  \\nEn Turquie deux projets de centrales nucléaires de production électrique sont en cours, l’un situé sur la côte de la \\nMer Noire dans la région de Sinop , l’autre sur le rivage de la Méditerranée , à 100 km au nord de Chypre sur le site \\nd’Akkuyu  (Figur e 1). Ces deux projets sont situés à plus de 500 km de l’épicentre du séisme du 24 janvier. Comme \\npour la centrale de Metsamor, on ne craint aucun impact significatif du séisme sur ces sites, compte tenu de la \\ndistance et de la magnitude.  \\nLe site d’ Akkuyu est situé dans la région de la ville de Mersin. Cette centrale est actuellement en construction  et \\ncomprendr a 4 réacteurs à eau pressurisée  (VVER) construit s par l’Agence fédérale russe de l’ énergie atomique \\n(ROSATOM) de 1200 MWe chacun. Le chantier a débuté  en 2015  ; le démarrage du premier réacteur est prévu en \\n2023 et les autres en 2025.  \\nUn autre projet était également prévu sur le  site de Sinop sera équipé de 4 réacteurs ATMEA (EUAS –compagnie \\nd’électricité turque - Mitsubishi, GDF Suez, Framatome ) de 1100 MWe. Ce site est localisé au nor d de la F aille \\nnord-anatolienne . Toutefois, le Ministre de l’Energie et des Ressources naturelles a annoncé le 28 octobre  2019 \\nque la Turquie ne poursuivrait pas le projet de construction d’une centrale nuclé aire à Si nop avec les Japonais , \\nporteurs du projet . En revanche, il a réaffirmé la volonté de la Turquie de poursuivre le projet avec d’autres \\npartenaires .  \\n \\n3', start_char_idx=4, end_char_idx=2096, text_template='{metadata_str}\\n\\n{content}', metadata_template='{key}: {value}', metadata_seperator='\\n'), score=0.8509396229424266), NodeWithScore(node=TextNode(id_='4edc34f0-7350-4377-885f-6aa48576ea2d', embedding=None, metadata={'page_label': '4', 'file_name': '/share/data/fiches_seismes/IRSN-Seisme-Amatrice-Italie-240816_V1.pdf'}, excluded_embed_metadata_keys=[], excluded_llm_metadata_keys=[], relationships={<NodeRelationship.SOURCE: '1'>: RelatedNodeInfo(node_id='11d82dbf-84fb-4bd6-9edb-0de105224b3b', node_type=<ObjectType.DOCUMENT: '4'>, metadata={'page_label': '4', 'file_name': '/share/data/fiches_seismes/IRSN-Seisme-Amatrice-Italie-240816_V1.pdf'}, hash='c0e11d5978a7ec37a94f876b13d7a8341bbe9a2498162bec9c6fb6509704fa4f'), <NodeRelationship.PREVIOUS: '2'>: RelatedNodeInfo(node_id='0e2625ef-e48a-42d8-aeca-68ff26160372', node_type=<ObjectType.TEXT: '1'>, metadata={'page_label': '3', 'file_name': '/share/data/fiches_seismes/IRSN-Seisme-Amatrice-Italie-240816_V1.pdf'}, hash='990286708c941eac0765f9cee3e47e472478ee0d0f6fa2e6340ecc6b8b81d6f1'), <NodeRelationship.NEXT: '3'>: RelatedNodeInfo(node_id='60094ac4-04ff-4a96-b500-cade7e6a8358', node_type=<ObjectType.TEXT: '1'>, metadata={}, hash='1301f8bcd33b5b7f98c94aa23204a2ac6dfd6ed2a5793310487817d0d4d8fc11')}, text='I  N  F  O  R  M  A  T  I  O  N  \\n4 26 Août 2016  Impact sur les installations nucléaires  \\nAucun  site nucléaire  ne se situe  dans la région  épicentrale  du séisme  du 24 août 2016 .  \\nPlusieurs  réacteurs  électronucléaires  et installations  de fabrication  de combustibles  ont été exploités  en Italie . Tous \\nsont aujourd’hui  arrêtés  et en cours  de démantèlement . A ces installations,  s’ajoutent  les sites d’entreposage  de \\ncombustibles  usés ainsi que certains  réacteurs  et laboratoires  de recherche  encore  en fonctionnement .  \\nL’installation  la plus proche  du séisme  d’Amatrice  est l’établissement  de recherche  de Casaccia  ENEA   (Figure  1 et 5) \\nsituée  au Nord de Rome,  à un peu plus de 100 km de la zone épicentrale . Les centrales  électronucléaires  en cours  de \\ndémantèlement  de Montalto  di Castro  et de Latina  sont localisées  à environ  140 km de la zone épicentrale  (Figure  5).  \\nLes enseignements  \\n\\uf0a7Les caractéristiques  du séisme  du 24 août 2016  sont cohérentes  avec l’activité  sismique  des Apennins . \\nCette  région  de l’Italie  est reconnue  comme  étant  une zone où l’aléa  est élevé . \\n\\uf0a7Le séisme,  localisé  à proximité  de la ville d’Amatrice,  a causé  d’importants  dégâts  en zone épicentrale . \\nLe bilan  des dégâts  humains  et matériels  n’est  pas établi  définitivement  mais peut d’ores  et déjà être \\nconsidéré  comme  particulièrement  lourd . Ce séisme  a par ailleurs  été fortement  ressenti  en Italie  \\ncentrale . \\n\\uf0a7L’importance  des dommages  est vraisemblablement  liée à la faible  profondeur  du séisme  et à la \\nvulnérabilité  des constructions . \\n\\uf0a7Aucun  site nucléaire  n’est  situé  dans la zone dans laquelle  des effets  significatifs  ont été enregistrés . \\n\\uf0a7Des séismes  d’ampleur  comparable  (magnitude  6,0) se sont déjà produits  en France  au cours  de \\nl’histoire  (e.g. séisme  de Lambesc  1909 ) et sont susceptibles  de survenir  de nouveau . Toutefois  la \\nfréquence  de ce type de séismes  est notablement  plus faible  en France  (en moyenne  une fois tous les \\n100 ans) qu’en  Italie  (en moyenne  une fois tous les 10 ans).', start_char_idx=0, end_char_idx=2129, text_template='{metadata_str}\\n\\n{content}', metadata_template='{key}: {value}', metadata_seperator='\\n'), score=0.8303652776273958)], metadata={'21161356-4548-461a-949e-5d467d220412': {'page_label': '3', 'file_name': '/share/data/fiches_seismes/IRSN-Seisme-Elazig-Turquie-24012020.pdf'}, '4edc34f0-7350-4377-885f-6aa48576ea2d': {'page_label': '4', 'file_name': '/share/data/fiches_seismes/IRSN-Seisme-Amatrice-Italie-240816_V1.pdf'}})], 'IRSN-Seisme-Fukushima-13022021.pdf': [Response(response='\\nThe magnitude of the earthquake that occurred in Fukushima on February 13, 2021, was 7.1 (Mw - JMA). The epicenter of the earthquake was located approximately 70 kilometers from the coast of Honshu, Japan, and about 50 kilometers below the surface of the ocean.', source_nodes=[NodeWithScore(node=TextNode(id_='2c5afefc-869f-49e9-b019-209a5d3ce85d', embedding=None, metadata={'page_label': '1', 'file_name': '/share/data/fiches_seismes/IRSN-Seisme-Fukushima-13022021.pdf'}, excluded_embed_metadata_keys=[], excluded_llm_metadata_keys=[], relationships={<NodeRelationship.SOURCE: '1'>: RelatedNodeInfo(node_id='2cc785c0-32b0-47f6-95b4-20239282f369', node_type=<ObjectType.DOCUMENT: '4'>, metadata={'page_label': '1', 'file_name': '/share/data/fiches_seismes/IRSN-Seisme-Fukushima-13022021.pdf'}, hash='8040e8067ed35f5116c6843a17d8e26337ac12930f3b593e6258749b0834a1db'), <NodeRelationship.PREVIOUS: '2'>: RelatedNodeInfo(node_id='9a34d3c2-333d-4fc9-98c6-4fbe9a8de86a', node_type=<ObjectType.TEXT: '1'>, metadata={'page_label': '4', 'file_name': '/share/data/fiches_seismes/IRSN_Fiche-Seisme-Maroc.pdf'}, hash='3fea054097ebbf5a9f374cd2ec83034c768f9eb0ddc5ec2a1880195ecdfe21d7'), <NodeRelationship.NEXT: '3'>: RelatedNodeInfo(node_id='6ba6e43b-cd8e-4568-bbcf-6db3eda92b86', node_type=<ObjectType.TEXT: '1'>, metadata={}, hash='a71a0f651dda10065ae3b8aa1fb2ba6775ada9aea733585887d1c21b83f46996')}, text='V2 23/02/2021  \\nSéisme de Fukushima  (Japon)  \\ndu 13 février  2021 (14h08  TU – 23h08  locale)  \\n Magnitude  = 7,1 (Mw –JMA)  \\n  \\n  Rappel  des  faits   \\n \\nLe 13 février 2021 à 14 h 08 (temps \\nuniversel), 23 h 08 heure locale, un séisme \\nde magnitude de moment Mw* = 7,1 s’est \\nproduit vers 50 km de profondeur et à 70 \\nkm de la côte Est de l’île d’Honshu au \\nJapon, selon les agences sismologiques \\njaponaises ( JMA , NIED). L’épicentre est \\nsitué à une centaine de kilomètres des villes de Sendai et d’Iwaki et à environ 70 \\nkilomètres des centrales nucléaires de \\nFukushima (Figure 1). Le séisme s’est \\nproduit quasiment 10 ans après le \\nméga -\\nséisme  de Tohoku  du 11 mars  2011 (Mw =  \\n  9)\\n. Pour mémoire , ce dernier avait \\nprovoqué un tsunami majeur, avec une hauteur d’eau atteignant localement 20 m, entraînant l’accident nucléaire de la \\ncentrale de Fukushima -Daiichi  \\n(Fukushima 1).  \\nLe séisme de 2021 est le séisme le plus \\nfort à avoir touché la région depuis la \\nréplique du 7 avril  2011 . Compte tenu \\nde sa profondeur importante sous le \\nfond de la mer, il n’a pas produit de tsunami . \\n* La magnitude  de moment Mw est représentative  \\nde l’énergie  émise  par la source  lors d’un  séisme.  \\n \\n \\n Le Bureau d’évaluation des risques \\nsismiques pour la sûreté  des \\ninstallations (BERSSIN) de  l’IRSN \\neffectue des recherches et  des \\nexpertises sur l’aléa  sismique  en tant \\nque source d’agression externe  des \\ninstallations  à risque  \\n \\nContact  : contact@irsn.fr  \\nLes préfectures  de Miyagi  et de \\nFukushima  dénombrent  157 personnes  \\nblessées dont 12 en état grave. Selon  \\nles autorités, au moins 1600 maisons  \\nont été endommagées dont certaines  \\npartiellement détruites et environ 300  \\nécoles ont subi des dommages,  parmi  \\nlesquelles 70 ont été fermées.  \\nLe séisme a également provoqué des  \\ndommages étendus sur les \\ninfrastructures, notamment sur le \\nport de Soma qui a subi des effets de \\nliquéfaction  des sols.  De nombreux  \\nglissements  de       terrain  ont été reportés  \\ndont  certains  ont  affecté des routes. Le \\nservice d’alerte  précoce  du JMA  a \\nfonctionné pour  prévenir  les \\npopulations  de l’arrivée  des ondes  de \\nforte   amplitude  par  voie de radio,  \\npresse  et SMS.  La circulation  des trains  \\nShinkansen  a été interrompue  de \\nmanière  automatique  grâce  au service  \\nd’alerte sismique précoce UrEDAS en  \\nfonction  depuis  1992.  \\n \\nLe séisme a été très largement  ressenti  \\nsur la partie nord de l’île de Honshu et  \\nnotamment à Tokyo situé à plus de  \\n200 kilomètres de l’épicentre. Il a été  \\nsuivi  de dizaines  de répliques,  dont  trois  \\nont dépassé la magnitude 5 (sources  \\nNIED,  IRIS).  \\nINFORMATION  : Séisme de Fukushima  (Japon)  Fiche  information    SÉISME   \\nFigure  1 : Localisation  du séisme  du 13 février 2021', start_char_idx=15, end_char_idx=2823, text_template='{metadata_str}\\n\\n{content}', metadata_template='{key}: {value}', metadata_seperator='\\n'), score=0.8364158676551783), NodeWithScore(node=TextNode(id_='6ba6e43b-cd8e-4568-bbcf-6db3eda92b86', embedding=None, metadata={'page_label': '2', 'file_name': '/share/data/fiches_seismes/IRSN-Seisme-Fukushima-13022021.pdf'}, excluded_embed_metadata_keys=[], excluded_llm_metadata_keys=[], relationships={<NodeRelationship.SOURCE: '1'>: RelatedNodeInfo(node_id='54c8df52-9c2b-4c4e-840e-91fba87fe693', node_type=<ObjectType.DOCUMENT: '4'>, metadata={'page_label': '2', 'file_name': '/share/data/fiches_seismes/IRSN-Seisme-Fukushima-13022021.pdf'}, hash='11967bfd085aa43d5b67d9b9cbccecfafb981284db2fec4d8ff1481a7a413507'), <NodeRelationship.PREVIOUS: '2'>: RelatedNodeInfo(node_id='2c5afefc-869f-49e9-b019-209a5d3ce85d', node_type=<ObjectType.TEXT: '1'>, metadata={'page_label': '1', 'file_name': '/share/data/fiches_seismes/IRSN-Seisme-Fukushima-13022021.pdf'}, hash='539261a465723d654a811edba0cfaae7c963ffeae64c56a0ad3607a2f5f56dc0'), <NodeRelationship.NEXT: '3'>: RelatedNodeInfo(node_id='dd012f47-6a83-42b3-8c3e-15c606c0ee84', node_type=<ObjectType.TEXT: '1'>, metadata={}, hash='0db91cce7a1f89649b1de68739cd5e3b965540b7c3bd52e5b6556f4f0d78f758')}, text='Contexte  géodynamique  et sismicité  régionale   \\n \\nLe séisme du 13 février 2021 s’est produit en \\nmer au large des côtes de l’île de Honshu au \\nniveau de la zone de subduction du Nord du \\nJapon, le long de laquelle la plaque pacifique plonge sous  la plaque eurasienne à une \\nvitesse de 8 à 9 cm/an. Selon l’USGS, le séisme aurait mobilisé une surface de \\nglissement  de 45 km de long sur 25 km de \\nlarge. Le s enregistrements sismologiques \\nnationaux et internationaux indiquent une rupture en compression (sources USGS, \\nGCMT, OCA, IPGP, GFZ), mais les informations scientifiques ne permettent \\npas à ce stade d’établir si elle a eu lieu à \\nl’interface de la plaque p longeante et du \\nmanteau, ou à l’intérieur du panneau plongeant. Le séisme du 13 février, localisé \\nà une cinquantaine de kilomètres de \\nprofondeur, a eu lieu dans une zone voisine \\net plus profonde que celle qui a rompu lors \\ndu méga séisme du 11 mars 2011 (Fi gure 2). \\nIl peut donc être considéré comme une suite \\nde ce méga séisme, même 10 ans après. Il \\ns’agit du séisme le plus fort à avoir touché la région depuis la réplique du 7 avril 2011. Des \\ndizaines de répliques sont enregistrées dans  \\nla zone depuis le 13 f évrier dont quelques -\\nunes  de magnitude supérieure à 5. Les \\nautorités ont recommandé la vigilance face \\nà l’occurrence des répliques, dont la \\nmagnitude peut atteindre ou dépasser celle \\ndu 13 février. Ceci est notamment illustré \\npar la séquence sismique obser vée durant \\nles années 1936 à1938 pendant lesquelles 5 \\névénements de magnitude supérieure à 7 se \\nsont succédés (Figure 2)\\n \\n \\nFigure 2: Figures modifiées  d’après \\nSatriano et al. 2014.  Ci-dessous: \\ncarte des séismes de magnitude \\nsupérieure à 6,4 de  1931 à 2008. \\nLes ruptures des séismes du 11 \\nmars 2011 (rec tangle bleu clair : \\ntotalité de la rupture, rectangle \\nbleu foncé : zone de glissement \\nmaximum) et du 13 février 2021 \\n(rectangle rouge, source USGS) ont \\nété ajoutées. À droite : coupe de la \\nzone de s ubduction ayant \\nengendré le séisme du 13 février 2021 (étoile rouge) et  le séisme du \\n11 mars 2011 (étoile marron).', start_char_idx=3, end_char_idx=2103, text_template='{metadata_str}\\n\\n{content}', metadata_template='{key}: {value}', metadata_seperator='\\n'), score=0.8198827561079334)], metadata={'2c5afefc-869f-49e9-b019-209a5d3ce85d': {'page_label': '1', 'file_name': '/share/data/fiches_seismes/IRSN-Seisme-Fukushima-13022021.pdf'}, '6ba6e43b-cd8e-4568-bbcf-6db3eda92b86': {'page_label': '2', 'file_name': '/share/data/fiches_seismes/IRSN-Seisme-Fukushima-13022021.pdf'}}), Response(response='\\nThe context information does not provide specific information on the impacts of the Fukushima earthquake in terms of victims, material damages, and seismic activity in the region. It discusses the automatic shutdown of four nuclear power plants in Japan due to the earthquake, the variations in maximum acceleration of the ground (PGA) at different stations, and the analysis of the seismic activity that needs to be completed to evaluate the impact of the earthquake on the installations.', source_nodes=[NodeWithScore(node=TextNode(id_='6fd090a1-7491-4135-b5ea-d57b93b999af', embedding=None, metadata={'page_label': '4', 'file_name': '/share/data/fiches_seismes/IRSN_seisme-Japon_V2-22042011.pdf'}, excluded_embed_metadata_keys=[], excluded_llm_metadata_keys=[], relationships={<NodeRelationship.SOURCE: '1'>: RelatedNodeInfo(node_id='21bf5f8a-4182-4fff-8d73-b4be3b9e2bb0', node_type=<ObjectType.DOCUMENT: '4'>, metadata={'page_label': '4', 'file_name': '/share/data/fiches_seismes/IRSN_seisme-Japon_V2-22042011.pdf'}, hash='418b7fdc08a884f0325e9fff2e25d3d33ef1c21c1008c8bcb1144df5dcec3c2b'), <NodeRelationship.PREVIOUS: '2'>: RelatedNodeInfo(node_id='c24acf99-b9b5-493e-b603-44955be0fe7c', node_type=<ObjectType.TEXT: '1'>, metadata={'page_label': '3', 'file_name': '/share/data/fiches_seismes/IRSN_seisme-Japon_V2-22042011.pdf'}, hash='201b35400058c679ef750fd4baafe2059900d429b11e28ab29b2d187fe5b923a'), <NodeRelationship.NEXT: '3'>: RelatedNodeInfo(node_id='73d1685f-66f4-4b54-829e-4e2dba1346ff', node_type=<ObjectType.TEXT: '1'>, metadata={}, hash='461c6e0745e74b22fb40d4e203087f80dd8d6f10cad534454a3c9dcaf6cf0db1')}, text='Impact sur les inst allations nucléaires\\nPlusieurs centrales nucléaires se situent sur la côte Nord  orientale de l’île d’Honshu (Figure 7). Quatre d’entre \\nelles (soit 11 réacteurs en fonctionnement) se sont a rrêtés automatiquement dès le s premières sollicitations \\nsismiques. Il s’agit des centrales d’Onagawa, Fukushima Daiichi, Fukushima Daini et Tokai, situées respectivement \\nà 80, 145, 155 et 255 km de l’épic entre du séisme du 11 mars 2011. \\nSelon les données des réseaux sismologiques KiK-net et K-net ( www.kik.bosai.go.jp et www.k-net.bosai.go.jp ), les \\naccélérations maximales du sol (PGA) va rient fortement d’une station à l’autre, avec localement des valeurs très \\nimportantes (près de 3 g – Figure 7). Ces fortes variations sont probablement liées aux caractéristiques \\ngéologiques locales propres à c haque station. Les stations les plus proc hes de la centrale de Fukushima Daiichi ont \\nenregistré des valeurs de PGA comprises entre 0,4 et 1 g. \\n4I  N  F  O  R  M  A  T  I  O  N\\nwww.irsn.fr\\nN\\nFigure 7. Valeurs maximales d’accélération du sol (PGA) enregistrées par les réseaux KiK-net et K-net \\njaponais. Chaque triangle représente un point de mesu re. La valeur est exprimée en cm/s², une valeur de \\n981 cm/s² correspond à l’accélérati on de la pesanteur (1 g). \\n08 Avril 2011', start_char_idx=0, end_char_idx=1300, text_template='{metadata_str}\\n\\n{content}', metadata_template='{key}: {value}', metadata_seperator='\\n'), score=0.8012590245449648), NodeWithScore(node=TextNode(id_='fd02fa6b-f8b3-4c19-9a80-6e7462cf33da', embedding=None, metadata={'page_label': '5', 'file_name': '/share/data/fiches_seismes/IRSN_seisme-Japon_V2-22042011.pdf'}, excluded_embed_metadata_keys=[], excluded_llm_metadata_keys=[], relationships={<NodeRelationship.SOURCE: '1'>: RelatedNodeInfo(node_id='23bd920e-c8fa-4b10-81ed-dd079787cb16', node_type=<ObjectType.DOCUMENT: '4'>, metadata={'page_label': '5', 'file_name': '/share/data/fiches_seismes/IRSN_seisme-Japon_V2-22042011.pdf'}, hash='ae26c8d9e4d2bf8c5278ff2a58e26a41ecaa4b7abfa29c0786066080a6916a07'), <NodeRelationship.PREVIOUS: '2'>: RelatedNodeInfo(node_id='73d1685f-66f4-4b54-829e-4e2dba1346ff', node_type=<ObjectType.TEXT: '1'>, metadata={'page_label': '5', 'file_name': '/share/data/fiches_seismes/IRSN_seisme-Japon_V2-22042011.pdf'}, hash='5ec438bcc14403d06b47f66c132bf334a3ea1a0918c9166448edf24fc42edfe8'), <NodeRelationship.NEXT: '3'>: RelatedNodeInfo(node_id='7d43d53a-8da7-46ca-8328-73adffc14e8f', node_type=<ObjectType.TEXT: '1'>, metadata={}, hash='8afc07594e4527ba550088b3072d806fcd500e8b0e91a6a48a9b554c0986bc70')}, text='Les \\nvaleurs enregistrées, comprises entre 0,2 et 0,5 g, sont globalement inférieures aux hypothèses de dimensionnement, sauf pour le réacte ur n°3 de Fukushima Daiichi pour lequel  un dépassement de 15 % est constaté\\nsur les composantes horizontales. Ces informations ne perm ettent toutefois pas d’évaluer l’impact de la secousse \\nsismique sur les installations. En effet, le PGA ne correspond qu’à une caractéristique haute fréquence du mouvement sismique. L’analyse doit être complétée en exam inant l’ensemble des caractéristiques fréquentielles et \\ntemporelles des secousses enregistrées. \\na) Detail analysis on going b) data missing partially c)  data not obtained yet d) design basis acceleration\\n08 Avril 2011 5I  N  F  O  R  M  A  T  I  O  N\\nwww.irsn.fr', start_char_idx=2284, end_char_idx=3047, text_template='{metadata_str}\\n\\n{content}', metadata_template='{key}: {value}', metadata_seperator='\\n'), score=0.7966630035314954)], metadata={'6fd090a1-7491-4135-b5ea-d57b93b999af': {'page_label': '4', 'file_name': '/share/data/fiches_seismes/IRSN_seisme-Japon_V2-22042011.pdf'}, 'fd02fa6b-f8b3-4c19-9a80-6e7462cf33da': {'page_label': '5', 'file_name': '/share/data/fiches_seismes/IRSN_seisme-Japon_V2-22042011.pdf'}})], 'IRSN-Seisme-LaRochelle-28042016.pdf': [Response(response='\\nThe provided context information does not mention a seismic event that occurred at La Rochelle on April 28, 2016. Therefore, I cannot provide an answer to the query.', source_nodes=[NodeWithScore(node=TextNode(id_='a5c78511-dada-433f-b087-73263e35d00c', embedding=None, metadata={'page_label': '1', 'file_name': '/share/data/fiches_seismes/IRSN_seisme-Manosque_V1-12072010.pdf'}, excluded_embed_metadata_keys=[], excluded_llm_metadata_keys=[], relationships={<NodeRelationship.SOURCE: '1'>: RelatedNodeInfo(node_id='21d3007b-ae74-48d4-b03e-7acca07a02c1', node_type=<ObjectType.DOCUMENT: '4'>, metadata={'page_label': '1', 'file_name': '/share/data/fiches_seismes/IRSN_seisme-Manosque_V1-12072010.pdf'}, hash='e6ab4147b99d703d9162efc8ee18020d8ab42c7fd232bb8f3f58a9901b26fbcd'), <NodeRelationship.PREVIOUS: '2'>: RelatedNodeInfo(node_id='d91eb4ba-c968-4959-a3e3-937303ac593e', node_type=<ObjectType.TEXT: '1'>, metadata={'page_label': '4', 'file_name': '/share/data/fiches_seismes/IRSN-Seisme-Elazig-Turquie-24012020.pdf'}, hash='b44a08a884a8f0df9719affb83da97c0d3ccb7d37fee8c129c254ff655d4858b'), <NodeRelationship.NEXT: '3'>: RelatedNodeInfo(node_id='c463f41b-b599-4b70-bd8a-5060c1d34ed3', node_type=<ObjectType.TEXT: '1'>, metadata={}, hash='4d9fc3f67eb7ff392529c23c6ca258ff4290b1ee37cfdefb23dadbc9085449ab')}, text=\"Rappel des faits\\n\\x83Jeudi 8 juillet 2010, à 20h20 TU (22h20 heure locale), un séisme de faible \\nmagnitude s’est produit au voisinage immé diat de Manosque (2-3 km) : Ml = 3,0 à\\n43°50’ Nord et 5°50’ Est selon le CEA/LDG, Ml=2,9 à 43,810°Nord et 5,8°Est selon le RENASS. Le séisme s’est très vraisemblablement produit à faible profondeur.\\n\\x83La secousse, qui n’a pas fait de dégâts, a été fortement ressentie par la population àManosque et Pierrevert (et dans une moindre mesure à Sainte-Tulle, Volx, Corbières et Villeneuve), mais ne semble ne pas av oir été ressentie de manière significative \\nau-delà d’une distance de quelques kilo mètres de l’épicentre (Oraison, Mane, \\nSainte-Maime).\\n\\x83La Ville de Manosque a connu deux épisodes  sismiques remarquables dans le passé, \\nl’un en 1509 et l’autre en 1708. Ces deux événements ont provoqué des dégâts importants aux constructions et sont recensés dans la base de sismicité historique \\n(www.sisfrance.net\\n) avec une intensité de VIII à Manosque. L’intensité correspond à\\nune évaluation de l’importance de la seco usse en un lieu donné en termes d’effets \\n(perception, effets sur les objets et/o u dommages aux constructions). La magnitude \\nde ces séismes est actuellement évaluée autour de 5.\\n\\x83Le séisme du jeudi 8 juillet 2010 est associé au fonctionnement de la « Faille de la Moyenne Durance » (FMD) et traduit l’activi té régulière mais faible de celle-ci. \\nSouvent non perçus par la population, ses séismes sont généralement de faible \\nmagnitude.Séisme à Manosque \\n(Alpes de Haute-Provence) \\ndu jeudi 8 juillet 2010 (20h20 TU)\\nMagnitude = 3,0 (Ml)I  N  F  O  R  M  A  T  I  O  N\\nLe Bureau \\nd'évaluation des risques \\nsismiques pour \\nla sûreté des installations \\n(BERSSIN) de l’IRSN \\neffectuedes recherches \\net des expertises \\nsur l’aléa sismique en tant que source \\nd’agression externe \\ndes installations à risque\\n1FS 6\\nVersion 1 du 12 juillet 2010\\nwww.irsn.frCONTACT :\\nIRSN/BERSSIN\\nDavid Baumont\\nMarc Cushing\\n01 58 35 91 24\\ndavid.baumont@irsn.fr\\nedward.cushing@irsn.fr\\nFigure 1 : Localisation du séisme du 8 juillet 2010 (étoile)\\n12 juillet 2010\", start_char_idx=0, end_char_idx=2093, text_template='{metadata_str}\\n\\n{content}', metadata_template='{key}: {value}', metadata_seperator='\\n'), score=0.8077653505645002), NodeWithScore(node=TextNode(id_='7b724adf-da51-4d33-8ca8-bb82eaf91795', embedding=None, metadata={'page_label': '1', 'file_name': '/share/data/fiches_seismes/irsn_seisme_martinique_122007.pdf'}, excluded_embed_metadata_keys=[], excluded_llm_metadata_keys=[], relationships={<NodeRelationship.SOURCE: '1'>: RelatedNodeInfo(node_id='2195041b-8e79-46d2-8777-576a4a5b8177', node_type=<ObjectType.DOCUMENT: '4'>, metadata={'page_label': '1', 'file_name': '/share/data/fiches_seismes/irsn_seisme_martinique_122007.pdf'}, hash='2510d6cf4df6e0791790c1c0128f998eeece62b8ceb09c7a097e43b5097571b6'), <NodeRelationship.PREVIOUS: '2'>: RelatedNodeInfo(node_id='b01b7a3f-0cc6-4cc2-a099-bdef300b17f1', node_type=<ObjectType.TEXT: '1'>, metadata={'page_label': '3', 'file_name': '/share/data/fiches_seismes/irsn_seisme_niigata_japon_092007.pdf'}, hash='b5606f1385733c583dae7904a1fd739c4a75b70572e871d0dec3a94b395067b5'), <NodeRelationship.NEXT: '3'>: RelatedNodeInfo(node_id='2708e337-e46d-40bd-8581-3b068448dab8', node_type=<ObjectType.TEXT: '1'>, metadata={}, hash='a8a2797a298facab8a5fe87e62a826028325eeec7c11bea72bce6c7e734521af')}, text=\"Rappel des faits\\n\\x83Jeudi 29 novembre 2007, à 19h00 TU (15h00 heure locale), un séisme de \\nmagnitude importante s’est produit à environ 40 km au nord/nord-ouest de la \\npréfecture de la Martinique, Fort-de- France, dans les Antilles françaises.\\n\\x83La magnitude de moment (Mw) est estimée à 7,4. L’épicentre est situé à une \\nlatitude de 14,951° Nord et à une longitude de 61,24° Ouest (Figure 1). Le séisme \\ns’est produit à environ 143 km de profondeur. (source : USGS NEIC)\\n\\x83L’événement sismique a été très largement ressenti par la population martiniquaise pendant au moins 50 secondes voire plus ieurs minutes. La secousse a même été\\nressentie en Colombie, au Venezuela et en Guyane. Une dizaine de répliques non \\nressenties ont été enregistrées selon l’Obse rvatoire volcanologique et sismologique \\nde Guadeloupe (OVSG).\\n\\x83Ce séisme relié à la subduction(1)de la plaque Nord Américaine sous la plaque \\nCaraïbes, bien que de magnitude importante, s’est initié à plus de 140 km de profondeur, ce qui explique les dégâts maté riels et humains relativement limités.  \\nCette grande profondeur a aussi rapidement écarté le risque de tsunami destructeur \\n(d’après le centre d'alerte au tsunami dans le Pacifique à Hawaï).Séisme de Martinique \\n(Antilles, France)\\ndu jeudi 29 novembre 2007\\nMagnitude = 7,4 à 19h00 (TU)I  N  F  O  R  M  A  T  I  O  N\\nLe Bureau \\nd'évaluation des risques \\nsismiques pour \\nla sûreté des installations \\n(BERSSIN) de l’IRSN \\neffectuedes recherches \\net des expertises \\nsur l’aléa sismique en tant que source \\nd’agression externe \\ndes installations à risque\\nCONTACT :\\nBerge-Thierry\\nCatherine\\nIRSN/BERSSIN\\n01 58 35 86 71\\ncatherine.berge@irsn.fr\\n12 décembre  2007 1www.irsn.orgFS 6\\nFigure 1\\nLocalisation\\nde l’épicentre \\ndu séisme\\n(1) Processus au cours duquel la plaque tectonique la plus dense s’enfonce sous celle de plus faible densité .\", start_char_idx=0, end_char_idx=1852, text_template='{metadata_str}\\n\\n{content}', metadata_template='{key}: {value}', metadata_seperator='\\n'), score=0.8050648287006755)], metadata={'a5c78511-dada-433f-b087-73263e35d00c': {'page_label': '1', 'file_name': '/share/data/fiches_seismes/IRSN_seisme-Manosque_V1-12072010.pdf'}, '7b724adf-da51-4d33-8ca8-bb82eaf91795': {'page_label': '1', 'file_name': '/share/data/fiches_seismes/irsn_seisme_martinique_122007.pdf'}}), Response(response='\\nThe sismicité historique and current in the north of Aquitaine is characterized by a moderate level of activity. There are several seismes recorded within a 100 km radius of the region, including the seismes of 7 September 1972 (at Oléron), 28 September 1935 (at Rouillac), and 9 January 1772 (at Montcontour) which have reached an intensity of VII (damages to constructions). The seisme of 7 September 1972 was ressenti at a greater distance (beyond 300 km) and had a significantly higher intensity. These seismes are believed to occur on ancient hercynien failles, with an orientation of NO-SE (faults of Oleron, Jonzac, etc.) and mark the transition between the massif armoricain to the south and the bassin aquitain to the north. The seisme of 2016 is considered to be a moderate magnitude event and is located in the same region as the other seismes.', source_nodes=[NodeWithScore(node=TextNode(id_='151c1a4d-6267-46f3-86c1-c094abdce83e', embedding=None, metadata={'page_label': '2', 'file_name': '/share/data/fiches_seismes/IRSN-Seisme-LaRochelle-28042016.pdf'}, excluded_embed_metadata_keys=[], excluded_llm_metadata_keys=[], relationships={<NodeRelationship.SOURCE: '1'>: RelatedNodeInfo(node_id='dfddfa50-140b-4c7f-9336-02519aa91d03', node_type=<ObjectType.DOCUMENT: '4'>, metadata={'page_label': '2', 'file_name': '/share/data/fiches_seismes/IRSN-Seisme-LaRochelle-28042016.pdf'}, hash='2dbc7577e8f6d2c19e2bb8c5bb5e67377d3255c008a46099fad3eab265809ed6'), <NodeRelationship.PREVIOUS: '2'>: RelatedNodeInfo(node_id='c8ce7386-c95d-423f-b13a-6eff62f8d837', node_type=<ObjectType.TEXT: '1'>, metadata={'page_label': '1', 'file_name': '/share/data/fiches_seismes/IRSN-Seisme-LaRochelle-28042016.pdf'}, hash='d6b3d60391ea47e583dc625d4a2e3669b07b0d3fd8abe34215119cb56ff76f71'), <NodeRelationship.NEXT: '3'>: RelatedNodeInfo(node_id='42b57d35-e942-443c-b46d-6c8ba09d7fd3', node_type=<ObjectType.TEXT: '1'>, metadata={}, hash='a7d2d5867a773fd23046064ef15434513e42723fb748da22dc82bee54e839a8f')}, text='I  N  F  O  R  M  A  T  I  O  N  \\n2 \\nSismicité historique et actuelle au nord de l’Aquitaine  \\nLe séisme  du 28 avril 2016 s’est produit  dans une région  caractérisée  par une activité  sismique  modérée . Quelques  \\nséismes  historiques  et instrumentaux  y sont recensés  dans un rayon  de 100 km. Parmi  eux, les séismes  du 7 \\nseptembre  1972 (à Oléron),  28 septembre  1935 (à Rouillac)  et 9 janvier  1772 (à Montcontour ) qui ont atteint  une \\nintensité  épicentrale  de VII (dommages  aux constructions) .  \\nLe séisme  du 7 septembre  1972 (5,0<M<5,5 selon  les différents  catalogues)  a été ressenti  à plus grande  distance  (au-\\ndelà de 300 km - Figure  2) et son intensité  était significativement  plus forte . Les séismes  de cette  région  se \\nproduisent  vraisemblablement  sur des failles  anciennes  dites hercyniennes  dont l’orientation  majoritaire  est NO-SE \\n(failles  d’Oleron , de Jonzac,…) et qui marquent  la transition  entre  le massif  armoricain  au nord et le bassin  aquitain  \\nau sud. L’analyse  des enregistrements  sismiques  a permis  d’établir  que le mouvement  sur une petite  faille  était en \\ncoulissage  (mouvement  horizontal) . \\nFigure 2 : (Ci -dessus), répartition spatiale des aires \\nd’égale intensité (isoséistes) pour le séisme du 7 \\nseptembre 1972 (d’après SisFrance – BRGM/EDF/IRSN). \\n(A droite), intensités issues des témoignages recueillis \\nsur internet (extrait du site du BCSF le 28/04/2016 à \\n10h13).  \\n  \\n29 Avril 2016  \\nImpact sur les installations nucléaires   \\nLes installations  nucléaires  les plus proches  du séisme  survenu  à La Rochelle  sont celles  de Pouzauges  (ionisateur),  \\nBlayais,  Civaux  et Chinon  (centrales  nucléaires  de production  électrique),  situées  à 70, 100, 130 et 150 km de \\nl’épicentre,  respectivement  (Figure  3). Compte  tenu de ces distances  importantes  et de la magnitude  modérée  du \\nséisme,  aucun  effet n’est  à redouter  sur les installations  concernées .  \\nLa réglementation  française  (RFS 2001-01) implique,  pour déterminer  les niveaux  de sollicitation  à prendre  en compte  \\npour protéger  les installations  nucléaires,  de définir  des zones  (dites  zones  sismotectoniques ) consid érées comme  \\nhomog ènes du point  de vue de leur potentiel  à générer des séismes . On consid ère ainsi que des séismes  analogues  à \\nceux connus  historiquement  peuvent  se produire  à l’avenir  en n’importe  quel endroit  de la zone sismotectonique  à \\nlaquelle  ils appartiennent . Pour évaluer  la sollicitation,  la magnitude  de ces séismes  est ensuite  majorée  de 0,5. \\nL’aléa  sismique  considéré  pour les installations  nucléaires  de Pouzauges,  Blayais,  Civaux  et Chinon  est donc \\nnotablement  plus élevé  que la sollicitation  sismique  associée  aux effets  du séisme du 28/04/2016 (figure  3).', start_char_idx=0, end_char_idx=2822, text_template='{metadata_str}\\n\\n{content}', metadata_template='{key}: {value}', metadata_seperator='\\n'), score=0.8469224928936445), NodeWithScore(node=TextNode(id_='c454af4b-2b26-4bd7-8bce-dd59be0d5f76', embedding=None, metadata={'page_label': '2', 'file_name': '/share/data/fiches_seismes/IRSN-Seisme-Charente-Maritime-France-20190320_v1.1.pdf'}, excluded_embed_metadata_keys=[], excluded_llm_metadata_keys=[], relationships={<NodeRelationship.SOURCE: '1'>: RelatedNodeInfo(node_id='9d55b2a0-25a4-43aa-9758-72a86db60124', node_type=<ObjectType.DOCUMENT: '4'>, metadata={'page_label': '2', 'file_name': '/share/data/fiches_seismes/IRSN-Seisme-Charente-Maritime-France-20190320_v1.1.pdf'}, hash='f9beeea1749a21983dcf4ef91c644316ff10b6170c80a8157eaeda5e603c880b'), <NodeRelationship.PREVIOUS: '2'>: RelatedNodeInfo(node_id='b1a3fd67-da4d-47ba-8c84-27538a426df7', node_type=<ObjectType.TEXT: '1'>, metadata={'page_label': '1', 'file_name': '/share/data/fiches_seismes/IRSN-Seisme-Charente-Maritime-France-20190320_v1.1.pdf'}, hash='8c0851575890e455ad1f5d6977bf631f39c2bfb108dc544cb6bcf6e1d610aafb'), <NodeRelationship.NEXT: '3'>: RelatedNodeInfo(node_id='c4560d71-ceed-496f-a2e3-9c82348b3b53', node_type=<ObjectType.TEXT: '1'>, metadata={}, hash='bf23b9522923aa145003e24591b326f9687ff8821ecd1c5cccee54e0a6b0328f')}, text='I  N  F  O  R  M  A  T  I  O  N  \\n2 \\nSismicité historique et actuelle de la région Aquitaine  \\nLe séisme  du 20 mars 2019 s’est produit  dans une région  caractérisée  par une activité  sismique  modérée . Quelques  \\nséismes  historiques  et instrumentaux  y sont recensés  dans un rayon  de 100 km. Parmi  eux, ceux présentant  les plus \\nfortes  intensités  sont les séismes  du 7 septembre  1972 (à Oléron),  28 septembre  1935 (à Rouillac)  et 10 août 1759 \\n(séisme  d’Entre -deux-Mers,  Bordelais)  qui ont atteint  une intensité  épicentrale  de VII à VII-VIII (dommages  aux \\nconstructions) .   \\nLe séisme  du 7 septembre  1972 (5,0<M<5,5 selon  les différents  catalogues)  a été ressenti  à plus grande  distance  (au-\\ndelà de 300 km - Figure  2) et son intensité  était significativement  plus forte (VII). Les séismes  de cette  région  se \\nproduisent  vraisemblablement  sur des failles  anciennes  dites hercyniennes  dont l’orientation  majoritaire  est NO-SE \\n(failles  d’Oléron,  de Jonzac,…) et qui marquent  la transition  entre  le massif  armoricain  au nord et le bassin  aquitain  \\nau sud. Le séisme  du 20 mars 2019 est localisé  à l’extrémité  méridionale  de la Faille  de Jonzac . \\nFigure 2 : (Ci -dessus), répartition spatiale des \\naires d’égale intensité (isoséistes) pour le \\nséisme du 7 septembre 1972 (d’après \\nSisFrance – BRGM/EDF/IRSN). (A droite), \\nintensités issues des témoignages recueillis sur \\ninternet (extrait du site du BCSF le 20/03/2019  \\nà 16h30).  \\n21 mars 2019  \\nImpact sur les installations nucléaires  \\nL’installation  nucléaire  la plus proche  du séisme  survenu  à Montendre  est le centre  nucléaire  de production  \\nélectrique  du Blayais,  situé  à 27 km de l’épicentre . Les centrales  de Civaux  et Golfech  sont respectivement  \\nsituées  à 145 et 169 km de l’épicentre .  \\nLe référentiel  technique  applicable  en France  pour déterminer  les niveaux  de sollicitation  à prendre  en compte  pour \\nprotéger  les installations  nucléaires  (RFS 2001-01) implique  de définir  des zones  (dites  zones  sismotectoniques ) à \\nl’échelle  desquelles  la sismicité  potentielle  est considérée  homogène . La démarche  consiste  ensuite  à étudier  les \\nséismes  historiques  et à faire l’hypothèse  qu’ils  pourraient  se produire  à l’avenir  en n’importe  quel endroit  de la \\nzone sismotectonique  à laquelle  ils appartiennent . Pour évaluer  la sollicitation,  la magnitude  de ces séismes  est \\nensuite  majorée  de 0,5. \\nEn application  de cette  méthode,  l’aléa  sismique  retenu  par EDF pour la centrale  du Blayais  correspond  au séisme  \\nde 1759 translaté  sous le site avec des caractéristiques  majorées  (une magnitude  5,6 et une intensité  VIII).', start_char_idx=0, end_char_idx=2718, text_template='{metadata_str}\\n\\n{content}', metadata_template='{key}: {value}', metadata_seperator='\\n'), score=0.8279998075714824)], metadata={'151c1a4d-6267-46f3-86c1-c094abdce83e': {'page_label': '2', 'file_name': '/share/data/fiches_seismes/IRSN-Seisme-LaRochelle-28042016.pdf'}, 'c454af4b-2b26-4bd7-8bce-dd59be0d5f76': {'page_label': '2', 'file_name': '/share/data/fiches_seismes/IRSN-Seisme-Charente-Maritime-France-20190320_v1.1.pdf'}})], 'IRSN-Seisme-Manosque-19092012.pdf': [Response(response='\\nThe earthquake that occurred in Villeneuve, France on September 19, 2012, was a faible magnitude 3.5 to 4.3 earthquake that occurred at approximately 3 kilometers deep according to the GeoAzur network. The earthquake was followed by a faible aftershock that occurred 7 minutes later, at 1 kilometer to the southwest of the first shock. Two additional aftershocks occurred approximately 30 seconds apart, one hour after the initial shock, to the south of Volx. The intensities of the earthquakes and aftershocks were evaluated by the Bureau Central Sismologique Français, and it was determined that the sequence of events was likely to have occurred on one of the segments of the Moyenne Durance fault.\\n\\nThe main earthquake was resented by the population in the sectors of Volx, Villeneuve, La Brillanne, Saint-Maime, and Oraison, but it was not resented in a significant manner beyond a distance of a few kilometers from the epicenter. Notably, an earthquake had been resented in Manosque in 2010, which was approximately ', source_nodes=[NodeWithScore(node=TextNode(id_='d1be8e55-1e48-4713-91bc-f550ece63729', embedding=None, metadata={'page_label': '1', 'file_name': '/share/data/fiches_seismes/IRSN-Seisme-Manosque-19092012.pdf'}, excluded_embed_metadata_keys=[], excluded_llm_metadata_keys=[], relationships={<NodeRelationship.SOURCE: '1'>: RelatedNodeInfo(node_id='083dc54f-5e1b-4337-bc03-1a217353c108', node_type=<ObjectType.DOCUMENT: '4'>, metadata={'page_label': '1', 'file_name': '/share/data/fiches_seismes/IRSN-Seisme-Manosque-19092012.pdf'}, hash='f245c3fc1e6426df2cd4bcd1d09aaf9961a974e44a0c869ac8e98aed12103dbb'), <NodeRelationship.PREVIOUS: '2'>: RelatedNodeInfo(node_id='7e5ca0e3-65ac-417b-8983-9144a7c1b55b', node_type=<ObjectType.TEXT: '1'>, metadata={'page_label': '2', 'file_name': '/share/data/fiches_seismes/irsn_Seisme-Afghanistan_032002.pdf'}, hash='d5a9326cc4dbe37a01111d1c50453913fbaf565273e5bb5d562506601b94c201'), <NodeRelationship.NEXT: '3'>: RelatedNodeInfo(node_id='42541e9f-c27c-41c2-ac13-267b5cd0cb4d', node_type=<ObjectType.TEXT: '1'>, metadata={}, hash='21230113ba761803750a2d4aff8df3bd6c2dbb9f7040dde27a9c7b70c8c3c8e8')}, text=\"Rappel des faits  \\n\\uf0a7Mercredi  19 septembre  2012 , à 18h56 TU (20h56 heure  locale),  un séisme  de faible  \\nmagnitude  s’est produit  au voisinage  immédiat  de Villeneuve  (04) : Ml = 3,5 à  \\n43°53'42'' Nord et  5°51'32'' Est à environ  3 km de profondeur  selon  le réseau  \\nGeoAzur . Ce séisme  a été suivi d’une  faible  réplique  qui s’est produite  7 minutes  \\naprès,  à 1 kilomètre  au sud-ouest  de la première  secousse . Deux  répliques  se sont \\nensuite  produites  à environ  30 secondes  d’écart  environ  une heure  après  le choc \\nprincipal  au sud de Volx (magnitudes  2,6 et 2,4, respectivement) . Compte  tenu de la \\nlocalisation  des intensités  observées  (Bureau  Central  Sismologique  Français ) et de \\ncelles  des épicentres  des séismes  enregistrés,  cette  séquence  s’est très \\nvraisemblablement  produite  sur un des segments  de la faille  de la Moyenne  Durance . \\n \\n\\uf0a7La secousse  principale,  qui n’a occasionné  que des dégâts  mineurs  (quelques  \\nlézardes),  a été ressentie  par la population  dans les secteurs  de Volx,  Villeneuve,  La \\nBrillanne,  Saint -Maime  et Oraison  mais ne semble  ne pas avoir  été ressentie  de \\nmanière  significative  au-delà d’une  distance  de quelques  kilomètres  de l’épicentre . \\nA noter  qu'une  secousse  avait  été ressentie  de manière  notable  le 8 juillet  2010  \\ndans les faubourgs  de Manosque  (voir la fiche  d'information  de l'IRSN ). Le séisme  du \\n19 septembre  2012  s'est produit  à environ  9 km au nord-est de ce précédent  \\névénement . \\n \\n\\uf0a7La Ville de Manosque  a connu  deux  épisodes  sismiques  remarquables  dans le passé,  \\nl’un en 1509  et l’autre  en 1708 . Ces deux  événements  ont provoqué  des dégâts  \\nimportants  aux constructions  et sont recensés  dans la base de sismicité  historique  \\n(www .sisfrance .net) avec une intensité  de VIII à Manosque . L’intensité  correspond  à \\nune évaluation  de l’importance  des effets  de la secousse  en un lieu donné  \\n(perception,  effets  sur les objets  et/ou  dommages  aux constructions) . La magnitude  \\nde ces séismes  est actuellement  évaluée  autour  de 5. Un séisme  moins  puissant  \\ns'était  produit  dans la zone  du séisme  du 19 septembre  le 14 mai 1913  avec une \\nintensité  de VII-VIII (MSK)  (magnitude  estimée  de l'ordre  de 4,5 selon  les études  de \\nl'IRSN) .\", start_char_idx=0, end_char_idx=2335, text_template='{metadata_str}\\n\\n{content}', metadata_template='{key}: {value}', metadata_seperator='\\n'), score=0.8084836049208654), NodeWithScore(node=TextNode(id_='27457076-be14-495f-82c3-e4c564bd9ced', embedding=None, metadata={'page_label': '2', 'file_name': '/share/data/fiches_seismes/irsn_seisme_argeles_gazost_112006.pdf'}, excluded_embed_metadata_keys=[], excluded_llm_metadata_keys=[], relationships={<NodeRelationship.SOURCE: '1'>: RelatedNodeInfo(node_id='bf588429-49ff-42e2-a575-b3b4429bfeac', node_type=<ObjectType.DOCUMENT: '4'>, metadata={'page_label': '2', 'file_name': '/share/data/fiches_seismes/irsn_seisme_argeles_gazost_112006.pdf'}, hash='e06384907076f52a5594e5be17b85d2444934fb56394b59302f97180bae2d396'), <NodeRelationship.PREVIOUS: '2'>: RelatedNodeInfo(node_id='fc2da5e0-0bb9-42e9-948c-d7b3834f44ed', node_type=<ObjectType.TEXT: '1'>, metadata={'page_label': '1', 'file_name': '/share/data/fiches_seismes/irsn_seisme_argeles_gazost_112006.pdf'}, hash='8ffbda138c4f9d9bd0e8a403f366985bbd4b22859b8ba723b7806bbffe67fbfd'), <NodeRelationship.NEXT: '3'>: RelatedNodeInfo(node_id='7fc1734d-7be8-4bac-907d-61b7247cdaa9', node_type=<ObjectType.TEXT: '1'>, metadata={}, hash='251cbcf2326a50e71d800dc2ef53fbf5b8a53237a188239bd8679495c55442d9')}, text=\"Ce séisme a été fortement ressenti dans le département des Hautes-Pyrénées,\\nprincipalement dans le pays de Lourdes, mais aussi plus modérément dans les départements voisins \\ndes Pyrénées-Atlantiques et de Haute-Garonne. De légers dégâts ont été signalés dans les environs \\nde Lourdes (chutes de cheminées), tandis que de brèves coupures d’électricité ont aus si affecté\\ndes communes des Hautes-Pyrénées.Témoignages recueillis\\nBureau Central Sismologique Français (www.bcsf.prd.fr)\\nLe séisme du 17/11/2006 est localisé dans la  région de la Faille nord-pyrénéenne,\\nautour de laquelle se concentre la si smicité modérée et fréquente de la région. Cette région est la plus active \\nde la France métropolita ine. Les premiers travaux sur le séisme du 17/11/2006 montrent que le mouvement est \\nextensif sur une faille de direction E-W. Les résultat s confortent la connaissance actuelle des mécanismes à\\nl’origine de la sismicité régionale.\\nL’analyse des séismes historiques révèle que la région a déjà subi des séismes plus significatifs.\\nCeux-ci ont occasionné des dégâts importants sur le  bâti (intensité épicentrale supérieure à VII MSK).\\nLe plus fort de ces séismes historiques (21/6/1660) aurait eu une magnitude proche de 6.5.\\nSur la période récente pour laquelle des enregistrements sont disponibles, le séisme du 17/11/2006 apparaît \\ntoutefois d’importance significative. Ainsi, parmi les séismes enregistrés depuis plus de 40 ans dans un rayon de \\n30 km, celui du 17/11/2006 apparaît comme le deuxième le plus important en magnitude locale.\\nImpact sur les installations nucléaires\\nLa région concernée n’accueille aucune installation nucléaire.\\nLe site le plus proche, l’installation nucléaire EDF de  Golfech est située à 145 km. La secousse n’y a pas été\\nressentie. \\nLes caractéristiques du séisme soulignent qu’il est associé aux failles pyrénéen nes et qu’il n’est pas \\nreprésentatif de la zone de faible activité sismotectoni que (Bassin aquitain) où est localisée l’installation de \\nGolfech. \\nSelon l’Agence France Presse (19/11/2006), l’inspection par EDF de ses barrages hydro-électriques \\na permis de vérifier l’absence d’impact du séisme sur les ouvrages les plus proches de l’épicentre. Contexte sismotectonique\\nNomLongitude \\n(°E)Latitude (°N)Intensité \\népicentraleMagnitudeDistance à l'épicentre \\nCEA (km)\\n21/06/1660 Bagnères-de-B.\", start_char_idx=0, end_char_idx=2347, text_template='{metadata_str}\\n\\n{content}', metadata_template='{key}: {value}', metadata_seperator='\\n'), score=0.8016938884336983)], metadata={'d1be8e55-1e48-4713-91bc-f550ece63729': {'page_label': '1', 'file_name': '/share/data/fiches_seismes/IRSN-Seisme-Manosque-19092012.pdf'}, '27457076-be14-495f-82c3-e4c564bd9ced': {'page_label': '2', 'file_name': '/share/data/fiches_seismes/irsn_seisme_argeles_gazost_112006.pdf'}}), Response(response=\"\\nThe Faille de la Moyenne Durance (FMD) is a fault in the region of Provence-Alpes-Côte d'Azur (PACA) in France. It is a regular but low-level seismic activity that has produced several earthquakes of varying magnitudes over the years. The FMD is associated with the 2012 earthquake and its aftershocks, which occurred in the Manosque area. The FMD is a major fault that has caused significant damage to buildings in the past, such as in 1509 and 1708. The FMD is a major fault that has caused significant damage to buildings in the past, such as in 1509 and 1708. The FMD is a major fault that has caused significant damage to buildings in the past, such as in 1509 and 1708. The FMD is a major fault that has caused significant damage to buildings in the past, such as in 1509 and 1708. The FMD is a major fault that has caused significant damage to buildings in the past, such as in 1509\", source_nodes=[NodeWithScore(node=TextNode(id_='16389345-1935-482f-961c-d056fb72e599', embedding=None, metadata={'page_label': '2', 'file_name': '/share/data/fiches_seismes/IRSN-Seisme-Manosque-19092012.pdf'}, excluded_embed_metadata_keys=[], excluded_llm_metadata_keys=[], relationships={<NodeRelationship.SOURCE: '1'>: RelatedNodeInfo(node_id='ffec471a-ddfc-4d7b-b7b7-af1fb2226f95', node_type=<ObjectType.DOCUMENT: '4'>, metadata={'page_label': '2', 'file_name': '/share/data/fiches_seismes/IRSN-Seisme-Manosque-19092012.pdf'}, hash='5fa7c0fb3f251386d6c7da1869ad3cdf263f666beae2c53c241f706d13deb7f6'), <NodeRelationship.PREVIOUS: '2'>: RelatedNodeInfo(node_id='42541e9f-c27c-41c2-ac13-267b5cd0cb4d', node_type=<ObjectType.TEXT: '1'>, metadata={'page_label': '1', 'file_name': '/share/data/fiches_seismes/IRSN-Seisme-Manosque-19092012.pdf'}, hash='8fdfb118e72a737625e5389c001d9607f964b5e7494330a59123ce3918ba7519'), <NodeRelationship.NEXT: '3'>: RelatedNodeInfo(node_id='60b2423e-6067-425f-847a-3f975c61548b', node_type=<ObjectType.TEXT: '1'>, metadata={}, hash='1c098b54276a47244791c855969b3d9171e1699e41428dc7f722766177790c52')}, text='I  N  F  O  R  M  A  T  I  O  N  \\n2 \\nLocalisation du séisme  \\nFigure 2 : Bloc diagramme présentant la géométrie de la Faille de la Moyenne Durance et la \\nposition  estimée du foyer du séisme.  \\nLe séisme  du 19 septembre  2012 et ses répliques  sont associés  au fonctionnement  de la « Faille  de la \\nMoyenne  Durance  » (FMD)  et traduit  l’activité  régulière  mais faible  de celle-ci. Souvent  non perçus  \\npar la population,  la majorité  des séismes  qui s’y produisent  sont de faible  magnitude . Toutefois,  la \\nFMD a généré  par le passé  des séismes  de plus fortes  magnitudes  qui ont occasionnés  des dommages  \\naux bâtiments  (e.g. 1509, 1708). De telles  secousses  peuvent  se reproduire  dans l’avenir . \\nSismicité de la région Provence -Alpes -Côte d’Azur (PACA)  \\nLa région  PACA  est l’une  des régions  de la France  métropolitaine  les plus exposées  au risque  \\nsismique . On peut citer en particulier  deux séismes  qui, dans un passé  peu éloigné,  ont eu des \\nconséquences  sévères,  provoquant  des dommages  importants  aux constructions  et des pertes  en vies \\nhumaines  : le séisme  du 23 février  1887 en région  Ligure,  au sud-est de Nice (magnitude  de l’ordre  \\nde 6,5), et celui du 11 juin 1909 de Lambesc  (magnitude  de l’ordre  de 6) dans les chaînons  calcaires  \\nentre  Salon -de-Provence  et Aix-en-Provence .  \\n \\nOutre  ces séismes  de magnitude  forte à modérée,  la région  PACA  est également  le siège  d’une  \\nsismicité  régulière  de plus faible  niveau . Elle s’exprime  principalement  dans l’arrière -pays niçois  et \\nle long d’un axe reliant  la région  aixoise  aux confins  des Alpes -de-Haute -Provence  et s’étendant  \\njusqu’à  la région  de la Motte -du-Caire . Sur ce dernier  axe, qui correspond  à la trace  d’une  faille  très \\nancienne  (300 millions  d’années),  des séismes  de magnitude  faible  à modérée  (typiquement  de \\nmagnitudes  de l’ordre  de 5) se sont régulièrement  produits  depuis  le XVIe siècle . C’est  cette  faille,  \\nou plutôt  ce « système  de failles  », qui est dénommée  par les géologues  « Faille  de la Moyenne  \\nDurance  » (FMD) . \\n \\nDepuis  le début  des années  1990, l’IRSN  a mené  des études  visant  à évaluer  la « potentialité  \\nsismique  » de la FMD grâce  à l’installation  durant  environ  15 ans d’un réseau  de surveillance  sismique  \\nvisant  à comprendre  son fonctionnement . L’ensemble  des travaux  menés,  notamment  avec le \\nCEREGE  (Université  d’Aix -Marseille),  a permis  de préciser  la cartographie  de la faille  en surface  et en \\nprofondeur  et de comprendre  comment  les déformations  le long de celle-ci se produisent . Ces études  \\nont conclu  à la possibilité  de séismes  très importants  mais rares (période  de récurrence  de plusieurs  \\nmilliers  d’années) .', start_char_idx=0, end_char_idx=2793, text_template='{metadata_str}\\n\\n{content}', metadata_template='{key}: {value}', metadata_seperator='\\n'), score=0.835035756171812), NodeWithScore(node=TextNode(id_='cf8617f2-9341-4244-9948-e7a9f215bb6b', embedding=None, metadata={'page_label': '7', 'file_name': '/share/data/fiches_seismes/Note-Information-Seisme-Teil-14112019.pdf'}, excluded_embed_metadata_keys=[], excluded_llm_metadata_keys=[], relationships={<NodeRelationship.SOURCE: '1'>: RelatedNodeInfo(node_id='81b06c1d-e763-47ac-b0d3-591386928f87', node_type=<ObjectType.DOCUMENT: '4'>, metadata={'page_label': '7', 'file_name': '/share/data/fiches_seismes/Note-Information-Seisme-Teil-14112019.pdf'}, hash='cd2a47ec55a063f5c46ac944189f16d8e77545c8920fdc262a19e2370a4497b1'), <NodeRelationship.PREVIOUS: '2'>: RelatedNodeInfo(node_id='bd514e88-4bf9-42d3-9fd0-6a69d243e9dc', node_type=<ObjectType.TEXT: '1'>, metadata={'page_label': '6', 'file_name': '/share/data/fiches_seismes/Note-Information-Seisme-Teil-14112019.pdf'}, hash='24ae6d0c0790187471d00e7c2b215d95e9b01537c0c0b95a7791ca8a173c6a67'), <NodeRelationship.NEXT: '3'>: RelatedNodeInfo(node_id='04343c36-175c-4386-b07b-bc0e1f40fdbb', node_type=<ObjectType.TEXT: '1'>, metadata={}, hash='ac02f3a41f5c958505af9b23a6a7ff7e01fbbf3735a316f7a350a3dfd3787b19')}, text='I  N  F  O  R  M  A  T  I  O  N  \\n7 14 novembre 2019  www.irsn.fr   \\nPrincipaux enseignements  \\n \\nLa faille sur laquelle s’est produit le séisme du Teil n’était pas connue pour être  active dans la période \\nrécente, alors que des failles potentiellement actives sont identifiées à moins de 10 km de distances ( par \\nexemple la faille de Marsanne).  Ceci montre  l’intérê t de l’étude des failles  même dans un  contexte à sismicité \\nmodérée comme celui de la France métropolitaine.  \\n \\nLe séisme du Teil est un s éisme très superficiel  ayant créé une rupture en surface avec un décalage \\ncentimétrique . La trace de cette rupture a pu être repérée rapidement grâce  aux données satellitaires , ce qui \\na guidé le s géologues qui ont pu mesure r les déformations  sur le terrain . Il s’agit d’une première  en France \\npour ce qui concerne ce type d’ utilisation des données satellitaires. En effet le séisme d’Annecy en 1996  de \\nmagnitude Mw de 4,6  a aussi créé une r upture centimétrique en surface, mais les techniques de l’époque ne \\npermettaient pas de disposer rapidement de ce type de données.   \\n \\nLes séismes en France métropolitaine se produisent généralement entre 5 et 20 km de profondeur environ. Le \\nséisme du Teil a pparai t donc très superficiel . Il est à noter que da ns la région du Tricastin, les  essaims  \\nsismiques connus par le passé se sont produits également à des faibles profondeurs. Cette sismicité \\nsuperficielle apparait donc comme une caractéristique de cette ré gion.  \\n \\nLe séisme du Teil présente des caractéristiques proches des plus forts séismes historiques recensés dans la \\nrégion . La magnitude de moment (Mw) d’environ  5 estim ée à partir des enregistrements sismologiques est \\nconfirmée par l ’analyse des dimensions de la rupture à l’origine du séisme (longueur, largeur, déplacement)  à \\npartir des données satellitaires. I l est nécessaire de mieux le caractériser et le cas échéant de le retenir pour \\ndéfinir l’aléa sismique pour les installations nucléaires de  Tricastin et de Cruas.  Dans ce cadre, l ’étude  des \\nenregistrements du séisme, en particulier ceux acquis par l’IRSN qui avait positionné des instruments la \\nsemaine avant le séisme pour étudier la s tructure de la vallée du Rhône, devrait apporter des inform ations \\nprécieuses.  \\n \\n \\nAdresse postale  \\nInstitut de radioprotection  \\net de  sûreté nucléaire  \\nB.P. 17 \\n92262 Fontenay -aux-Roses \\nCedex \\nSiège  \\n \\n \\n31, av. de la Division Leclerc  \\n92260 Fontenay -aux-Roses \\nTél. +33 (0)1 58 35 88 88  \\nRCS Nanterre B 440  546 0180  Adresse postale  \\nSiège social', start_char_idx=4, end_char_idx=2582, text_template='{metadata_str}\\n\\n{content}', metadata_template='{key}: {value}', metadata_seperator='\\n'), score=0.821390633510404)], metadata={'16389345-1935-482f-961c-d056fb72e599': {'page_label': '2', 'file_name': '/share/data/fiches_seismes/IRSN-Seisme-Manosque-19092012.pdf'}, 'cf8617f2-9341-4244-9948-e7a9f215bb6b': {'page_label': '7', 'file_name': '/share/data/fiches_seismes/Note-Information-Seisme-Teil-14112019.pdf'}})], 'IRSN-Seisme-Napa-24082014.pdf': [Response(response='\\nThe magnitude of the earthquake that occurred in Napa on August 24, 2014, is 6.0. The epicenter of the earthquake is located at 38.22° North and 122.31° West, and its foyer is located at 10 km below the surface (source: United States Geological Survey - USGS). The USGS estimates that the levels of intensity are very high, exceeding level VIII on the Mercalli Modified Intensity Scale (MMI) (Figure 1). The station closest to the epicenter (2 km away) recorded a maximum horizontal acceleration of 0.4 g, while a station located 9 km north recorded a value of 0.45 g, indicating that the seismic rupture propagated northward. Several aftershocks have been recorded by the USGS, including a magnitude 2.6 earthquake 30 minutes after the first, and a magnitude 3.6 earthquake. The earthquake has caused injuries to over 100 people and significant damage to several buildings, including three historic ones, in the center of Napa and Vallejo.', source_nodes=[NodeWithScore(node=TextNode(id_='a5c78511-dada-433f-b087-73263e35d00c', embedding=None, metadata={'page_label': '1', 'file_name': '/share/data/fiches_seismes/IRSN_seisme-Manosque_V1-12072010.pdf'}, excluded_embed_metadata_keys=[], excluded_llm_metadata_keys=[], relationships={<NodeRelationship.SOURCE: '1'>: RelatedNodeInfo(node_id='21d3007b-ae74-48d4-b03e-7acca07a02c1', node_type=<ObjectType.DOCUMENT: '4'>, metadata={'page_label': '1', 'file_name': '/share/data/fiches_seismes/IRSN_seisme-Manosque_V1-12072010.pdf'}, hash='e6ab4147b99d703d9162efc8ee18020d8ab42c7fd232bb8f3f58a9901b26fbcd'), <NodeRelationship.PREVIOUS: '2'>: RelatedNodeInfo(node_id='d91eb4ba-c968-4959-a3e3-937303ac593e', node_type=<ObjectType.TEXT: '1'>, metadata={'page_label': '4', 'file_name': '/share/data/fiches_seismes/IRSN-Seisme-Elazig-Turquie-24012020.pdf'}, hash='b44a08a884a8f0df9719affb83da97c0d3ccb7d37fee8c129c254ff655d4858b'), <NodeRelationship.NEXT: '3'>: RelatedNodeInfo(node_id='c463f41b-b599-4b70-bd8a-5060c1d34ed3', node_type=<ObjectType.TEXT: '1'>, metadata={}, hash='4d9fc3f67eb7ff392529c23c6ca258ff4290b1ee37cfdefb23dadbc9085449ab')}, text=\"Rappel des faits\\n\\x83Jeudi 8 juillet 2010, à 20h20 TU (22h20 heure locale), un séisme de faible \\nmagnitude s’est produit au voisinage immé diat de Manosque (2-3 km) : Ml = 3,0 à\\n43°50’ Nord et 5°50’ Est selon le CEA/LDG, Ml=2,9 à 43,810°Nord et 5,8°Est selon le RENASS. Le séisme s’est très vraisemblablement produit à faible profondeur.\\n\\x83La secousse, qui n’a pas fait de dégâts, a été fortement ressentie par la population àManosque et Pierrevert (et dans une moindre mesure à Sainte-Tulle, Volx, Corbières et Villeneuve), mais ne semble ne pas av oir été ressentie de manière significative \\nau-delà d’une distance de quelques kilo mètres de l’épicentre (Oraison, Mane, \\nSainte-Maime).\\n\\x83La Ville de Manosque a connu deux épisodes  sismiques remarquables dans le passé, \\nl’un en 1509 et l’autre en 1708. Ces deux événements ont provoqué des dégâts importants aux constructions et sont recensés dans la base de sismicité historique \\n(www.sisfrance.net\\n) avec une intensité de VIII à Manosque. L’intensité correspond à\\nune évaluation de l’importance de la seco usse en un lieu donné en termes d’effets \\n(perception, effets sur les objets et/o u dommages aux constructions). La magnitude \\nde ces séismes est actuellement évaluée autour de 5.\\n\\x83Le séisme du jeudi 8 juillet 2010 est associé au fonctionnement de la « Faille de la Moyenne Durance » (FMD) et traduit l’activi té régulière mais faible de celle-ci. \\nSouvent non perçus par la population, ses séismes sont généralement de faible \\nmagnitude.Séisme à Manosque \\n(Alpes de Haute-Provence) \\ndu jeudi 8 juillet 2010 (20h20 TU)\\nMagnitude = 3,0 (Ml)I  N  F  O  R  M  A  T  I  O  N\\nLe Bureau \\nd'évaluation des risques \\nsismiques pour \\nla sûreté des installations \\n(BERSSIN) de l’IRSN \\neffectuedes recherches \\net des expertises \\nsur l’aléa sismique en tant que source \\nd’agression externe \\ndes installations à risque\\n1FS 6\\nVersion 1 du 12 juillet 2010\\nwww.irsn.frCONTACT :\\nIRSN/BERSSIN\\nDavid Baumont\\nMarc Cushing\\n01 58 35 91 24\\ndavid.baumont@irsn.fr\\nedward.cushing@irsn.fr\\nFigure 1 : Localisation du séisme du 8 juillet 2010 (étoile)\\n12 juillet 2010\", start_char_idx=0, end_char_idx=2093, text_template='{metadata_str}\\n\\n{content}', metadata_template='{key}: {value}', metadata_seperator='\\n'), score=0.8269947576814326), NodeWithScore(node=TextNode(id_='64d9ee52-c94b-452d-863f-b0faa501423e', embedding=None, metadata={'page_label': '1', 'file_name': '/share/data/fiches_seismes/IRSN-Seisme-Napa-24082014.pdf'}, excluded_embed_metadata_keys=[], excluded_llm_metadata_keys=[], relationships={<NodeRelationship.SOURCE: '1'>: RelatedNodeInfo(node_id='402d74db-13a7-4735-83c7-78917e22b346', node_type=<ObjectType.DOCUMENT: '4'>, metadata={'page_label': '1', 'file_name': '/share/data/fiches_seismes/IRSN-Seisme-Napa-24082014.pdf'}, hash='e13bfd1e4d76e9408b1aad6768ffb50a1f1c6db1dd33b0765d44a3bce62e9705'), <NodeRelationship.PREVIOUS: '2'>: RelatedNodeInfo(node_id='dd012f47-6a83-42b3-8c3e-15c606c0ee84', node_type=<ObjectType.TEXT: '1'>, metadata={'page_label': '3', 'file_name': '/share/data/fiches_seismes/IRSN-Seisme-Fukushima-13022021.pdf'}, hash='3024be4341b43532f164351eeab657d43c4e571931883070a5f1eda915cb3e6d'), <NodeRelationship.NEXT: '3'>: RelatedNodeInfo(node_id='1cea0fc3-a05c-415f-a46d-52aa5439250d', node_type=<ObjectType.TEXT: '1'>, metadata={}, hash='d3cd45067719cfbda6d2a563baff3415b61d39d02dcf7903bb0d85caaeb7233c')}, text='Rappel des faits  \\n\\uf0a7Dimanche  24 août 2014  à 10h24 TU (3h20 en heure  locale),  un séisme  de magnitude  \\n6,0 s’est produit  près de la ville de Napa,  en Californie . L’épicentre  du séisme  est \\nsitué  à 38,22° de latitude  Nord et 122,31° de longitude  Ouest  et son foyer  est \\nlocalisé  à 10 km de profondeur  (source  United  States  Geological  Survey  - USGS) . A \\npartir  de mesures,  l’USGS  estime  des niveaux  d’intensité  très élevés,  dépassant  le \\nniveau  VIII dans l’échelle  d’Intensité  Mercalli  Modifié  (MMI)  (Figure  1). La station  \\naccélérométrique  la plus proche  (à 2 km de l’épicentre)  a enregistré  une \\naccélération  maximale  horizontale  du sol de 0,4 g. La station  localisée   à 9 km au \\nnord a enregistré  une valeur  plus forte  de 0,45 g, ce qui témoigne  d’une  \\npropagation  de la rupture  sismique  vers le Nord. Plusieurs  répliques  ont été depuis  \\nenregistrées  par l’USGS : une secousse  de magnitude  2,6 une trentaine  de minutes  \\naprès  la première  secousse,  puis une autre  de magnitude  3,6. D’autres  répliques  \\nsont attendues  dans les prochaines  semaines .    \\n \\n\\uf0a7Le séisme  a blessé  plus de 100 personnes  et occasionné  des dommages  importants  à une \\ndouzaine  de bâtiments  (dont  trois historiques)  dans le centre  de Napa et Vallejo  \\n(dommages  estimés  à plus d’un milliard  de dollars,  dont une bonne  partie  affectant  \\nl’industrie  vinicole) . Il a aussi provoqué  un feu qui a détruit  six maisons . Les réseaux  \\nd’eau  potable  ont été partiellement  endommagés . Environ  30 000 personnes  ont été \\nprivées  d’électricité  et une cinquantaine  de personnes  ont signalé  des fuites  de gaz. Le \\nséisme  a été ressenti  très loin jusqu’à  Chico,  à 170 km au nord,  et Fresno,  à 280 km au \\nsud. Le gouverneur  Jerry  Brown  a déclaré  l’état  d’urgence  pour la Californie . La ville la \\nplus touchée  est Napa,  à une dizaine  de kilomètres  de l’épicentre . (Source  San \\nFrancisco  Gate). Ce séisme  est le plus important  de la région  depuis  celui de Loma  \\nPrieta  en 1989 de magnitude  6,9 qui avait eu lieu sur la faille  principale  de San Andreas,  \\ndans le sud de la baie de San Francisco .', start_char_idx=0, end_char_idx=2185, text_template='{metadata_str}\\n\\n{content}', metadata_template='{key}: {value}', metadata_seperator='\\n'), score=0.8133676092732101)], metadata={'a5c78511-dada-433f-b087-73263e35d00c': {'page_label': '1', 'file_name': '/share/data/fiches_seismes/IRSN_seisme-Manosque_V1-12072010.pdf'}, '64d9ee52-c94b-452d-863f-b0faa501423e': {'page_label': '1', 'file_name': '/share/data/fiches_seismes/IRSN-Seisme-Napa-24082014.pdf'}}), Response(response='\\nThe earthquake of Napa occurred in the San Andreas fault system, which is a major fault system that runs along the Pacific Plate and the North American Plate. The fault system is characterized by a high seismic activity, with a rate of about 3 cm per year. The earthquake occurred between two major fault systems, the Hayward-Rodgers Creek fault and the Concord-Green Valley fault, which are both located in California. The earthquake was located at a distance of about 2 km from a fault called the West Napa fault, which is characterized by a recent deformation rate of between 0.2 and 1.0 mm per year. The West Napa fault is a relatively poorly characterized fault, and the earthquake caused significant damage to the region.', source_nodes=[NodeWithScore(node=TextNode(id_='82930072-fb46-4bbf-a1f3-e357c318e208', embedding=None, metadata={'page_label': '2', 'file_name': '/share/data/fiches_seismes/IRSN-Seisme-Napa-24082014.pdf'}, excluded_embed_metadata_keys=[], excluded_llm_metadata_keys=[], relationships={<NodeRelationship.SOURCE: '1'>: RelatedNodeInfo(node_id='ab8596b2-7e5c-4158-9bbf-f9501baf9cb4', node_type=<ObjectType.DOCUMENT: '4'>, metadata={'page_label': '2', 'file_name': '/share/data/fiches_seismes/IRSN-Seisme-Napa-24082014.pdf'}, hash='bca7a37e6f8fea10950a4d59f4a75b7055613f37d4d6caccc02db2c3ca62593d'), <NodeRelationship.PREVIOUS: '2'>: RelatedNodeInfo(node_id='1cea0fc3-a05c-415f-a46d-52aa5439250d', node_type=<ObjectType.TEXT: '1'>, metadata={'page_label': '1', 'file_name': '/share/data/fiches_seismes/IRSN-Seisme-Napa-24082014.pdf'}, hash='0c08e2444aec2423c7f7989af4cc79f128332e2b4d740151663aa49d6743077a'), <NodeRelationship.NEXT: '3'>: RelatedNodeInfo(node_id='4e592f84-4e1a-4b1e-a39f-fc2531fefba7', node_type=<ObjectType.TEXT: '1'>, metadata={}, hash='0db584f131c3a336b87eda97fe0273aceaa2e340a2ca4178ac88e4d2e630ee07')}, text=\"I  N  F  O  R  M  A  T  I  O  N  \\n2 Localisation du séisme  \\n  \\nLe séisme  est localisé  dans le système  de failles  de San Andreas,  le long duquel  coulissent  l’une  contre  l’autre  la plaque  du \\nPacifique  (vers le Nord)  et la plaque  Nord Américaine  (vers le Sud) à une vitesse  d’environ  3 cm/an . La frontière  des \\nplaques,  longue  d’environ  1300 km, est large d’une  centaine  de kilomètres  dans cette  partie  de la Californie . Le \\nmouvement  de la faille  en décrochement  dextre  (coulissement  horizontal  à droite)  se produit  essentiellement  le long des \\nfailles  principales . Cependant,  comme  le témoigne  ce séisme,  une partie  de la déformation  tectonique  se répartit  entre  les \\nfailles  principales . En effet,  l’épicentre  de ce séisme  est situé entre  deux systèmes  majeurs  connus : le système  de failles  \\nde Hayward -Rodgers  Creek,  à l’ouest  et celui de Concord -Green  Valley  à l’est (Figure  2). L’épicentre  est localisé  à 2 km \\nd’une  faille  moins  bien caractérisée  dite de la « West Napa ». Pour cette  faille,  les indices  de déformation  récente  (< 11000  \\nans) répertoriés  dans la base de données  des failles  actives  permettent  une estimation  du taux de déplacement  entre  0,2 et \\n1,0 mm/an,  bien inférieur  à ceux des failles  principales  (http ://earthquakes .usgs.gov/hazards/qfaults)  \\n \\n \\n \\n \\n \\n \\n \\n \\n \\n \\n \\n \\n \\n \\n \\n \\n \\n \\n \\n \\n \\n \\n \\n \\n \\n \\n \\n \\n \\n \\nSismicité  historique  et aléa sismique  \\n \\nLes derniers  séismes  destructeurs  qui ont eu lieu dans la région  sont (source  National  Geophysical  Data Center) : \\n• en 1898, un séisme  de magnitude   de l’ordre  de 6,5 localisé  probablement  20 km au nord ouest  sur la faille  de Rodgers      \\nCreek ; \\n• en 1868, un séisme  de magnitude   de l’ordre  de 6,8 à 15 km au sud, sur la faille  de Hayward,  qui avait occasionné  des \\ndégâts  importants ; \\n• en 1906, le séisme  de magnitude  7,8 de San Francisco,  qui a eu lieu sur la faille  de San Andreas ;  \\n• en 1989, le séisme  de magnitude  6,9 de Loma  Prieta,  plus au sud  à proximité  de la faille  de San Andreas . \\n \\nLes côtes  de la baie de San Francisco  reposent  sur des remblais  en terre  et des sédiments  qui ont été des lieux de \\ndommages  importants  lors de séismes  historiques . Ces dommages  sont en partie  accentués  par une perte  de cohésion  du sol \\ndans les remblais  (liquéfaction)  et l'amplification  des secousses  sismiques  dans les sédiments  meubles  de la baie. La \\nsécheresse  qui règne  sur la région  depuis  plusieurs  années  a tout de même  réduit  les risques  de liquéfaction  qui surviennent  \\nlorsque  les sols saturés  en eau sont soumis  à des mouvements  sismiques  importants . En effet,  un des risques  majeurs  \\nredouté  dans la région  est la rupture  des digues  du delta  de la rivière  Sacramento . Une rupture  entraînerait  l’inondation  du \\ndelta  par l'eau salée  de la baie.\", start_char_idx=0, end_char_idx=2919, text_template='{metadata_str}\\n\\n{content}', metadata_template='{key}: {value}', metadata_seperator='\\n'), score=0.8332360901568068), NodeWithScore(node=TextNode(id_='cfc30591-9ff4-4020-8458-6a17d619eba3', embedding=None, metadata={'page_label': '3', 'file_name': '/share/data/fiches_seismes/IRSN-Seisme-Napa-24082014.pdf'}, excluded_embed_metadata_keys=[], excluded_llm_metadata_keys=[], relationships={<NodeRelationship.SOURCE: '1'>: RelatedNodeInfo(node_id='60251bcf-eb41-4cd8-8306-27df3fb15590', node_type=<ObjectType.DOCUMENT: '4'>, metadata={'page_label': '3', 'file_name': '/share/data/fiches_seismes/IRSN-Seisme-Napa-24082014.pdf'}, hash='2fcfa91af20e6d7b62e045fecd4a1fdc73c4afefb5e514bc2c8f45dbaa8d6f61'), <NodeRelationship.PREVIOUS: '2'>: RelatedNodeInfo(node_id='4e592f84-4e1a-4b1e-a39f-fc2531fefba7', node_type=<ObjectType.TEXT: '1'>, metadata={'page_label': '2', 'file_name': '/share/data/fiches_seismes/IRSN-Seisme-Napa-24082014.pdf'}, hash='76ebd4890c8cd216ae1b2c1b8fafcc9152f8c0e20ac545f82708436429c04b81'), <NodeRelationship.NEXT: '3'>: RelatedNodeInfo(node_id='f2f7b721-b530-4d73-be15-81c83c4c2252', node_type=<ObjectType.TEXT: '1'>, metadata={}, hash='9235ca748f69760aa89049be529bec6cd0c9a0c99f2580757e930d578efbc707')}, text='I  N  F  O  R  M  A  T  I  O  N  \\n3 Adresse postale  \\n \\nInstitut de radioprotection  \\net de  sûreté nucléaire  \\nB.P. 17  \\n92262 Fontenay -aux-Roses \\nCedex  \\n \\nSiège social  \\n \\n31, av. de la Division Leclerc  \\n92260 Fontenay -aux-Roses  \\nTél. +33 (0)1 58 35 88 88  \\nRCS Nanterre B 440  546 0180  \\nwww.irsn.fr  Enseignements  \\n   D’ampleur  modérée  à forte (magnitude  6), le séisme  de Napa s’est produit  le long d’une  faille  relativement  mal \\ncaractérisée  avec un taux de déplacement  considéré  comme  faible  pour la région  (< 1 mm/an) . Les géologues  \\ncartographient  actuellement  sur le terrain  la rupture  que le séisme  a provoquée  à la surface . À ce jour, la trace  \\ncartographiée  mesure  10 km de long et le déplacement  maximal  observé  est de 25 cm (Figure  3). Les séismes  qui \\nproduisent  des déplacements  à la surface  sont peu fréquents  en France . Le dernier  cas de rupture  identifié  pourrait  \\ncorrespondre  au séisme  de Lambesc  de 1909, dont la magnitude  estimée  est de l’ordre  de 6. Les bases  de données  \\ndisponibles  dans le domaine  sont limitées  (Japon  et USA) et conduisent  à des évaluations  de déplacements  à la surface  \\ninduits  par les séismes  qui sont très variables,  en particulier  pour les séismes  modérées . Afin d’améliorer  l’estimation  des \\ndéplacements  de surface  possibles  dans le contexte  de sismicité  modéré  de la France,  l’IRSN  participe  depuis  plusieurs  \\nannées  au groupe  international  de l’INQUA  (International  Union  for Quaternary  Science)  focalisé  sur les effets  géologiques  \\ndes séismes . Ce groupe  projette  de réaliser  à moyen  terme  une base de données  mondiale  des déplacements  survenus  sur \\nles failles  de surface  lors des séismes,  dans le but d’améliorer  l’estimation  de l’aléa  « rupture  de surface  » dans tous les \\ncontextes  géologiques . La cartographie  précise  des déplacements  de surface  dus au séisme  de Napa contribuera  à \\naméliorer  significativement  les bases  de données  qui à ce jour sont fondées  sur des relevés  encore  parcellaires . \\n \\n \\n \\n \\n \\n \\n \\n \\n \\n \\n \\n \\n \\n \\n \\n \\n \\n \\n \\n \\n \\n \\n \\n \\n \\n \\n \\n \\n \\n \\n \\n \\n \\n \\n \\n \\nVidéos  des dommages  du séisme  de Napa  vu par un drone  (quadcopter) : https ://www .youtube .com/watch?v=LQhYbfIz 0n4 \\n \\n \\n \\n \\n \\nFigure 3 Cartographie de la rupture de surface du séisme de magnitude 6.0 du 24.08.2014 \\n(https://twitter.com/mikeoskin/status/503710668717977601/photo/1)  \\n \\n29 août 2014', start_char_idx=0, end_char_idx=2457, text_template='{metadata_str}\\n\\n{content}', metadata_template='{key}: {value}', metadata_seperator='\\n'), score=0.8245971064913702)], metadata={'82930072-fb46-4bbf-a1f3-e357c318e208': {'page_label': '2', 'file_name': '/share/data/fiches_seismes/IRSN-Seisme-Napa-24082014.pdf'}, 'cfc30591-9ff4-4020-8458-6a17d619eba3': {'page_label': '3', 'file_name': '/share/data/fiches_seismes/IRSN-Seisme-Napa-24082014.pdf'}})], 'IRSN-Seisme-Norcia-Italie-301016_V1.pdf': [Response(response='\\nThe magnitude of the earthquake that occurred in Italy in the center on October 30, 2016, was Mw 6.5. The earthquake was the strongest in Italy since the Irpina earthquake in 1980 (Mw 6.9 in Italy). The earthquake occurred at a depth of approximately 9 km and its epicenter was located 19 km north of the one that occurred in August. The earthquake was preceded by two significant earthquakes on October 26, 2016, with magnitudes of Mw 5.4 and Mw 5.9, respectively. In total, over 700 earthquakes of magnitude greater than 3 have been felt in the region in the past few months (Figure 1).\\n\\nThe earthquake caused significant damage to the cultural heritage of the region. In particular, the medieval towns of Visso, Ussita, and Castelluccio Fiorita were heavily damaged by the cumulative effects of the earthquakes on October 26 and 30, 2016. The abbey of the city of Norcia (XI century) collapsed. Fissures', source_nodes=[NodeWithScore(node=TextNode(id_='6957ea2d-68ec-4ecf-97a8-66695c8fbd7c', embedding=None, metadata={'page_label': '1', 'file_name': '/share/data/fiches_seismes/IRSN-Seisme-Norcia-Italie-301016_V1.pdf'}, excluded_embed_metadata_keys=[], excluded_llm_metadata_keys=[], relationships={<NodeRelationship.SOURCE: '1'>: RelatedNodeInfo(node_id='6093697c-773e-4eaf-a0de-c89d0d1ae7cd', node_type=<ObjectType.DOCUMENT: '4'>, metadata={'page_label': '1', 'file_name': '/share/data/fiches_seismes/IRSN-Seisme-Norcia-Italie-301016_V1.pdf'}, hash='cab6139c9540712bb693ff7417d34c829ba25683e2a54edf4ae5266ec9bba772'), <NodeRelationship.PREVIOUS: '2'>: RelatedNodeInfo(node_id='b2f0a9b2-3b51-47f1-bf31-25de688b33f5', node_type=<ObjectType.TEXT: '1'>, metadata={'page_label': '3', 'file_name': '/share/data/fiches_seismes/irsn_Seisme-Mexique_012003.pdf'}, hash='f142da3702d1598edd8597666c6e973496fca2f260a409e367e8936f3908ba3f'), <NodeRelationship.NEXT: '3'>: RelatedNodeInfo(node_id='f8bd3746-6f69-4e0e-9ea4-9cfebf0dd289', node_type=<ObjectType.TEXT: '1'>, metadata={}, hash='126f0c5796ad16fcc359c831fbd424cd4b4216e1b8e0434be62526dfe897366e')}, text='Rappel des faits  \\n\\uf0a7Dimanche  30 octobre  2016 à 6h40 TU (7h40 heure  locale)  un séisme  de magnitude  de \\nmoment   Mw 6,5 (selon  l’Istituto  Nazionale  di Geofisica  e Vulcanologia , INGV)  s’est \\nproduit  à proximité  de la ville de Norcia  (Ombrie  – Italie  du Centre ) à une profondeur  \\nd’environ  9 km. Il s’agit  de la magnitude  la plus forte mesurée  en Italie  depuis  le \\nséisme  d’Irpina  en 1980 (Mw 6,9 en Italie  du sud).  \\n\\uf0a7Le séisme  du 30 octobre  2016  constitue  l’évènement  le plus violent  de la longue  crise  \\nsismique  qui touche  le centre  de l’Italie  depuis  le séisme  d’Amatrice  le 24 août 2016  (cf. \\nfiche  d’information  IRSN  du 26 août 2016 ). Son épicentre  est localisé  à 19 km au nord de \\ncelui survenu  au mois  d’août . Il a été précédé  le 26 octobre  2016  par deux  séismes  de \\nmagnitude  importantes  (Mw 5,4 à 19h10 et et Mw 5,9 à 21h18 heure  locale) . Au total,  ce \\nsont plus de sept cents  séismes  de magnitude  supérieure  à 3 qui ont été ressentis  au \\ncours  des derniers  mois  (Figure  1). \\n\\uf0a7Dans un communiqué de presse daté du 28 octobre 2016, la Commissione  grandi rischi  \\n(Commission italienne des risques majeurs ) avait souligné  que l’occurrence d’un nouvel \\névénement majeur dans la région ne pouvait pas être exclue. \\n(http://www.protezionecivile.gov.it/jcms/it/view_com.wp?contentId=COM60700 ).  \\n\\uf0a7Le séisme  du 30 octobre  2016 a été plus fort que le séisme  d’Amatrice  mais n’a \\ntoutefois  pas fait de victimes  grâce  aux évacuations  de la population  qui ont suivi les \\nséismes  du 24 août 2016 et du 26 octobre  2016. \\n\\uf0a7Les dégâts  occasionnés  au patrimoine  culturel  de la région  sont lourds . En particulier,  \\nles bourgs  médiévaux  de Visso, Ussita , Castelluccio  Fiorita  ont été fortement  \\nendommagés  par le cumul  des secousses  du 26 et du 30 octobre  2016. L’abbaye  de la \\nville de Norcia  (XI siècle)  s’est effondrée .  Des fissures  sont apparues  dans le portique  \\nde la basilique  de San Paolo  fuori le mura  de Rome  à plus de 100 km de l’épicentre .', start_char_idx=0, end_char_idx=2056, text_template='{metadata_str}\\n\\n{content}', metadata_template='{key}: {value}', metadata_seperator='\\n'), score=0.8780562385069792), NodeWithScore(node=TextNode(id_='0cfe9cde-6dd7-4841-a0d8-f6ed28867d84', embedding=None, metadata={'page_label': '3', 'file_name': '/share/data/fiches_seismes/IRSN-Seisme-Norcia-Italie-301016_V1.pdf'}, excluded_embed_metadata_keys=[], excluded_llm_metadata_keys=[], relationships={<NodeRelationship.SOURCE: '1'>: RelatedNodeInfo(node_id='6135563a-126d-4ca0-bbb9-93f074fdd389', node_type=<ObjectType.DOCUMENT: '4'>, metadata={'page_label': '3', 'file_name': '/share/data/fiches_seismes/IRSN-Seisme-Norcia-Italie-301016_V1.pdf'}, hash='c2bf9a7975e79d4a7fc1218182ebc81a351b5e80f4a5336bff45cd843c60a840'), <NodeRelationship.PREVIOUS: '2'>: RelatedNodeInfo(node_id='3122abf9-b4a2-486f-b47a-0f49df0db66b', node_type=<ObjectType.TEXT: '1'>, metadata={'page_label': '3', 'file_name': '/share/data/fiches_seismes/IRSN-Seisme-Norcia-Italie-301016_V1.pdf'}, hash='23f636941b50a507040c411b3def0ed6473e4d93c605fadf6614915521db51c9'), <NodeRelationship.NEXT: '3'>: RelatedNodeInfo(node_id='cf33be23-c8c1-42ed-8cd9-8c9b99c0dc31', node_type=<ObjectType.TEXT: '1'>, metadata={}, hash='38fb45e2b00db2e08b242ce70de6a6fe0b1906dc2734ac7bf23ea5d7a8f38c87')}, text='Des séismes  historiques  de magnitude  supérieure  à 6 \\nse sont ainsi déjà produits  en France  et les ruptures  de surface  associées  sont mal connues . L’étude  et la \\ncompréhension  des ruptures  de surface  produites  lors les séismes  italiens  d’août  et d’octobre  2016 sont donc \\nimportantes  pour mieux  connaître  les relations  entre  la magnitude  des séismes  et la dimension  des ruptures  de \\nsurface    dans le contexte  français . \\nFigure  4 A: déplacement  à la surface  produit  par le séisme  du 30 octobre  2016 . (source  P. Galli \\nProtection  Civile  Italienne) . En comparant  les deux  photographies,  on note que le sol s’est déplacé  \\nd’environ  1 m. Figure  4 B: escarpement  de faille  observé  au pied du Mt Vettore . \\nA B \\nA \\n16 novembre 2016', start_char_idx=2323, end_char_idx=3098, text_template='{metadata_str}\\n\\n{content}', metadata_template='{key}: {value}', metadata_seperator='\\n'), score=0.8417868635573255)], metadata={'6957ea2d-68ec-4ecf-97a8-66695c8fbd7c': {'page_label': '1', 'file_name': '/share/data/fiches_seismes/IRSN-Seisme-Norcia-Italie-301016_V1.pdf'}, '0cfe9cde-6dd7-4841-a0d8-f6ed28867d84': {'page_label': '3', 'file_name': '/share/data/fiches_seismes/IRSN-Seisme-Norcia-Italie-301016_V1.pdf'}}), Response(response='\\nThe earthquake sequence in Italy, specifically the 2016 Amatrice earthquake and the 2012 Emilia-Romagna earthquake, has provided several important lessons for understanding the risks of seismic activity in other regions, including France.\\n\\nFirstly, the Amatrice earthquake demonstrated the destructive potential of seismic activity, with significant damage to buildings, infrastructure, and human life. This event highlighted the importance of preparedness and response measures to mitigate the impact of seismic activity.\\n\\nSecondly, the Emilia-Romagna earthquake occurred in a region classified as having low seismic activity, which emphasizes the unpredictable nature of seismic events and the need for continuous monitoring and assessment of seismic risk.\\n\\nThirdly, the impact of the Emilia-Romagna earthquake on nuclear power plants and other industrial facilities underscores the need for robust safety measures and emergency response plans to protect critical infrastructure from seismic activity.\\n\\nOverall, the lessons learned from the Italian earthquake sequence can be applied to other regions, including France, to improve our understanding of seismic risks and develop effective mitigation strategies.', source_nodes=[NodeWithScore(node=TextNode(id_='09e5497f-51f8-489a-939d-148915ce0a80', embedding=None, metadata={'page_label': '3', 'file_name': '/share/data/fiches_seismes/IRSN-Seisme-Amatrice-Italie-240816_V1.pdf'}, excluded_embed_metadata_keys=[], excluded_llm_metadata_keys=[], relationships={<NodeRelationship.SOURCE: '1'>: RelatedNodeInfo(node_id='92ed0147-7ad6-4d35-ac8b-3a990558c99c', node_type=<ObjectType.DOCUMENT: '4'>, metadata={'page_label': '3', 'file_name': '/share/data/fiches_seismes/IRSN-Seisme-Amatrice-Italie-240816_V1.pdf'}, hash='f69f88c2dba8408f57549bacd29e66bda7653818fcf54c747df487cd0fcd2e9a'), <NodeRelationship.PREVIOUS: '2'>: RelatedNodeInfo(node_id='be82d5b1-8670-42bd-8c61-1cb78c3e4f47', node_type=<ObjectType.TEXT: '1'>, metadata={'page_label': '2', 'file_name': '/share/data/fiches_seismes/IRSN-Seisme-Amatrice-Italie-240816_V1.pdf'}, hash='469e28323fbfa7a06906b94258987a4138c4f0317644852d4d3384cc5043d58b'), <NodeRelationship.NEXT: '3'>: RelatedNodeInfo(node_id='0e2625ef-e48a-42d8-aeca-68ff26160372', node_type=<ObjectType.TEXT: '1'>, metadata={}, hash='b9c56788a16397846443487d522c3e1d032783e8694fd827d0066d94b9e2c9a7')}, text='3 I  N  F  O  R  M  A  T  I  O  N  \\nImpact sur les personnes et les bâtiments  \\nFigure  5 : Cartographie  du résultat  des enquêtes  macrosismiques  remplies  par les utilisateurs  \\nd’internet  (www .haisentitoilterremoto .it). Dans l’échelle  employée  (MCS),  les degrés  2 à 4 correspondent  \\nà des niveaux  pour lesquels  la secousse  est ressentie  par l’homme  et fait bouger  des objets . De 5 à 7, \\nles objets  chutent,  les édifices  perdent  leurs  tuiles,  cheminées,  etc. De 8 à 9, le séisme  est \\ndestructeur  pour 25 à 100% des bâtiments . Les localisations  des sites nucléaires  de Montalto  di \\nCastro,  Casaccia  et Latina  sont indiquées  sur la carte . \\nLa partie  centrale  des Apennins  est caractérisée  par une densité  de population  relativement  faible  (inférieure  à 100 \\nhabitants  par km carré) . Le tissu urbain  est composé  de petites  villes  d’origine  médiévale  caractérisées  par une \\nvulnérabilité  élevée .  \\nLe bilan des victimes  et des dégâts  produits  par le séisme  est à ce jourencore  provisoire . Le 26 août à 08h30, le \\nbilan humain  s’établissait  à 267 décès,  des centaines  de blessés  et plusieurs  centaines  de disparus  (Protezione  Civile  \\nItaliana ).  \\nPour ce qui concerne  les dégâts  occasionnés  aux bâtiments  et aux infrastructures,  les informations  disponibles  \\nrestent  encore  partielles  et sujettes  à caution  dans l’attente  des résultats  des missions  d’expert  et compte  tenu de \\nla priorité  accordée  aux secours . \\nSelon  la protection  civile  l’ampleur  des dégâts  est supérieure  à celle provoquée  par le séisme  de L’Aquila . Les villes  \\nd’Amatrice,  Accumoli  et Pescara  del Tronto  ont été en grande  partie  détruites  (La Repubblica,  25/08/2016 8h30). \\nToutes  les maisons  en pierre  et en maçonnerie  se sont écroulées . Les murs de remplissage  des maisons  en béton  ont \\néclaté  en provoquant  l’effondrement  des immeubles  (La Repubblica,  24/08/2016 citant  Fabrizio  Curcio  responsable  \\nde la protection  civile ). L’hôpital  de la ville d’Amatrice  a été fortement  endommagé  et a dû être fermé . \\nL’établissement  scolaire  de la ville,  dont une partie  avait fait l’objet  de renforcement  parasismique  en 2012, a subi \\nun effondrement  partiel  (La Repubblica,  24/08/2016). \\nLe séisme  a endommagé  plusieurs  viaducs  et a provoqué  des chutes  de blocs  sur les routes,  rendant  difficile  l’accès  \\nà certaines  zones . Dans un communiqué  de presse,  l’ENEL  (Ente Nazionale  per l’Energia  eLettrica ) a indiqué  que le \\nbarrage  du Scanderello , localisé  à proximité  d’Amatrice,  n’a pas subi de dégâts  ; néanmoins,  il reste  sous \\nsurveillance  renforcée  (Agenzia  Nazionale  Stampa  Associata  25/08/2016 19h40).', start_char_idx=0, end_char_idx=2744, text_template='{metadata_str}\\n\\n{content}', metadata_template='{key}: {value}', metadata_seperator='\\n'), score=0.7562595077340264), NodeWithScore(node=TextNode(id_='58d08b53-b922-4ca5-9436-d4b93bd1e033', embedding=None, metadata={'page_label': '4', 'file_name': '/share/data/fiches_seismes/IRSN_seisme_Italie-20052012.pdf'}, excluded_embed_metadata_keys=[], excluded_llm_metadata_keys=[], relationships={<NodeRelationship.SOURCE: '1'>: RelatedNodeInfo(node_id='8355e9ea-a054-4224-9765-8fc95ef91062', node_type=<ObjectType.DOCUMENT: '4'>, metadata={'page_label': '4', 'file_name': '/share/data/fiches_seismes/IRSN_seisme_Italie-20052012.pdf'}, hash='5dfc05a5907d41bb9304fc2a175461bad62c69c208e8b5f1e53c1f796fd092d3'), <NodeRelationship.PREVIOUS: '2'>: RelatedNodeInfo(node_id='5d9bf5c7-6312-4b35-b7bd-5c2ef235b21a', node_type=<ObjectType.TEXT: '1'>, metadata={'page_label': '3', 'file_name': '/share/data/fiches_seismes/IRSN_seisme_Italie-20052012.pdf'}, hash='e7b54e832029ef7de473d18d6d6e5821c8f87b39740055a87485bcd6c1650b50'), <NodeRelationship.NEXT: '3'>: RelatedNodeInfo(node_id='dd222f12-abd1-4879-867a-93a2c9e6db0f', node_type=<ObjectType.TEXT: '1'>, metadata={}, hash='54b3064b3625f13fd84b1f8c85f50e64d18b1c023631cfed105f3675d34fe879')}, text='La région  où s’est produit  le séisme  du 20 mai 2012 se trouve  dans une zone de niveau  3 (niveau  d’aléa  sismique  dit \\n« faible  » – Figure  6) de la carte  de l’aléa  sismique  italien . Cette  carte  représente  l’aléa  sismique  établi  commune  \\npar commune,  sur une échelle  de 1 (élevé)  à 4 (minime) . L’épicentre  est localisé  dans une zone où l’on estime  qu’une  \\naccélération  du sol de 0,15 g peut être dépassée  avec une probabilité  de 10% en 50 ans. Aucun  instrument  n’étant  \\nprésent  à proximité  de l’épicentre,  il n’existe  pas de mesure  directement  disponible  de cette  accélération . D’après  \\nles modélisations  de l’INGV,  basées  en partie  sur les témoignages  internet  (Figure  7) et les accélérations  observées  \\naux stations  lointaines,  les accélérations  maximales  atteintes  dans la zone épicentrale  pourraient  être de 0,3 g (les \\nvaleurs  d’intensités  ont atteint  localement  le degré  VIII sur l’échelle  des dommages  MCS – Figure  7). Selon  ces mêmes  \\nmodélisations,  le rayon  estimé  de la zone de dommages  significatifs  (intensité  > VI) est de l’ordre  de 20 km. \\n Aléa sismique et estimation du mouvement sismique en basse plaine \\ndu Pô  \\nLes enseignements  \\n\\uf0a7Le séisme  du 20 mai 2012 , dont l’épicentre  est localisé  entre  Ferrara,  Mantova  et Modena,  a été \\nfortement  ressenti  dans un rayon  de plus de 200 km. Le bilan,  encore  provisoire,  fait état de plusieurs  \\nvictimes  et d’importants  dégâts  matériels . A ce jour,  les dommages  les plus importants  semblent  avoir  \\naffecté  le patrimoine  artistique  et historique  de la région  mais aussi  des installations  industrielles  du \\nsecteur  agroalimentaire .  \\n\\uf0a7Le séisme  du 20 mai 2012  est intervenu  dans une région  classée  parmi  les zones  à sismicité  dite \\n« faible  » d’Italie .  \\n\\uf0a7Aucun  site nucléaire  n’est  situé  dans la région  dans laquelle  des effets  significatifs  ont été enregistrés . I  N  F  O  R  M  A  T  I  O  N  \\n4 Impact sur les installations nucléaires  \\nPlusieurs  réacteurs  électronucléaires  et installations  de fabrication  de combustibles  ont été exploités  en Italie . Tous \\nsont aujourd’hui  arrêtés  et en cours  de démantèlement . A ces sites,  s’ajoutent  les sites d’entreposage  de \\ncombustibles  usés ainsi que certains  réacteurs  et laboratoires  de recherche  encore  en fonctionnement .  \\nL’installation  la plus proche  du séisme  de l’Emilia -Romagna  est l’établissement  de recherche  de Montecuccolino,  \\nsitué à Bologna,  zone dans laquelle  aucun  effet significatif  n’a été répertorié  (intensité  macrosismique  inférieure  à \\nVI). \\n22 Mai 2012  Figure 6: Localisation de l’épicentre du \\nséisme de l’Emilia -Romagna par rapport \\nau dernier zonage sismique.', start_char_idx=0, end_char_idx=2757, text_template='{metadata_str}\\n\\n{content}', metadata_template='{key}: {value}', metadata_seperator='\\n'), score=0.7461208700059122)], metadata={'09e5497f-51f8-489a-939d-148915ce0a80': {'page_label': '3', 'file_name': '/share/data/fiches_seismes/IRSN-Seisme-Amatrice-Italie-240816_V1.pdf'}, '58d08b53-b922-4ca5-9436-d4b93bd1e033': {'page_label': '4', 'file_name': '/share/data/fiches_seismes/IRSN_seisme_Italie-20052012.pdf'}})], 'IRSN-Seisme-Vendee-France-20180212.pdf': [Response(response='\\nThe earthquake in Saint-Hilaire-de-Voust, Vendée, France, occurred on February 12, 2018, at 4h08 local time. The magnitude of the earthquake was estimated to be between 3.9 and 4.0 (in magnitude Mw2 according to the IPGP and Geoazur) and 4.6 to 4.8 (in magnitude Ml1 according to the ReNaSS and CEA). The earthquake was caused by the movement in coulissage of a vertical fault of the NO-SE direction. The earthquake was felt by the population of the center-west of France, up to Tours and Nantes. The strongest intensities collected so far by the BCSF (www.franceseisme.fr) reach VI (seismic activity strongly felt, with slight damage to vulnerable buildings). Several people were awakened and some objects were reported to have fallen. The earthquake, accompanied by an audible sound wave, caused fear among some residents.', source_nodes=[NodeWithScore(node=TextNode(id_='4988fee4-7748-4b40-b1b0-d4b1fd6c5d6a', embedding=None, metadata={'page_label': '1', 'file_name': '/share/data/fiches_seismes/IRSN-Seisme-Vendee-France-20180212.pdf'}, excluded_embed_metadata_keys=[], excluded_llm_metadata_keys=[], relationships={<NodeRelationship.SOURCE: '1'>: RelatedNodeInfo(node_id='08961984-6a02-42c0-8199-a240fdf2d97b', node_type=<ObjectType.DOCUMENT: '4'>, metadata={'page_label': '1', 'file_name': '/share/data/fiches_seismes/IRSN-Seisme-Vendee-France-20180212.pdf'}, hash='25df9f8ca9e2ff55d1c783953000ac1ba29f50ffea94cd5da3facc9d105e2733'), <NodeRelationship.PREVIOUS: '2'>: RelatedNodeInfo(node_id='7f6ae2e5-38bd-4247-ac58-8831511dbf21', node_type=<ObjectType.TEXT: '1'>, metadata={'page_label': '2', 'file_name': '/share/data/fiches_seismes/irsn_Seisme-Besancon_022004.pdf'}, hash='993d0615ee9a01c76c43ec3316eed678123fb6d0ad5d728b8631e0b74c47543b'), <NodeRelationship.NEXT: '3'>: RelatedNodeInfo(node_id='197319cb-48b7-4628-9be2-4885b7a71e7f', node_type=<ObjectType.TEXT: '1'>, metadata={}, hash='9005c3959567cb25e8fd5e0e6fba1199d813c2765ef495430638c6a1355517da')}, text=\"Les faits  \\n\\uf0a7Lundi  12 février  2018 , à 4h08 heure  locale,  un séisme  de magnitude  modérée,  \\ncomprise  entre  3,9-4,0 (en magnitude  Mw2 selon  les estimations  de l’IPGP  et \\nGeoazur ) et 4,6-4,8 (en magnitude  Ml1 selon  les estimations  du ReNaSS  et du CEA),  \\ns’est produit  entre  Poitiers  et La Roche -sur-Yon (localisation  ReNaSS  : 46,65° Nord \\net 0,59° Ouest  - https ://renass .unistra .fr/). D’après  les informations  fournies  par les \\ninstituts  qui ont étudié  l’évènement,  le séisme  serait  relativement  superficiel  avec \\nune profondeur  du foyer  estimée  entre  2 et 10 km. L’analyse  des enregistrements  \\nsismiques  a permis  d’établir  que l’évènement  était associé  au mouvement  en \\ncoulissage  (mouvement  horizontal)  d’une  faille  verticale  de direction  vraisemblable  \\nNO-SE. \\n \\n\\uf0a7La secousse  a été largement  ressentie  par la population  du centre -ouest  de la \\nFrance,  jusqu’à  Tours  et Nantes . Les intensités  les plus fortes  collectées  à ce jour \\npar le BCSF  (www .franceseisme .fr) atteignent  VI (secousse  fortement  ressentie  – \\ndégâts  légers  sur des bâtiments  vulnérables) . Des personnes  ont été réveillées  et des \\nchutes  d’objet  ont été reportées . La secousse,  accompagnée  d’une  onde  sonore  \\nentendue  à plus de 20 km de la zone épicentrale,  a provoqué  la frayeur  de certains  \\nhabitants .  Séisme de Saint -Hilaire -de-Voust  \\n(Vendée)  \\n \\nDu 12 février 2018 (3h08 TU)  \\nMagnitude = 4,8 (Ml1 - CEA) I  N  F  O  R  M  A  T  I  O  N  \\nLe Bureau \\nd'évaluation  \\ndes risques \\nsismiques pour  \\nla sûreté des \\ninstallations \\n(BERSSIN) de l’IRSN \\neffectue  \\ndes recherches  \\net des expertises \\nsur l’aléa sismique \\nen tant que source \\nd’agression externe \\ndes installations  \\nà risque  \\n1 FS 6  \\n14 février 2018  \\nwww.irsn.fr   CONTACT :  \\n \\n IRSN/BERSSIN  \\nEdward.cushing@irsn.fr  \\nLudmila.provost@irsn.fr  \\n \\nhttp://www.irsn.fr/FR/Contact / Figure 1 : Localisation du séisme du 12 février 2018 (étoile jaune, localisation ReNaSS). Les \\nprincipaux séismes de la région sont représentés selon la magnitude estimée (catalogue IRSN). \\nLes lignes rouges représentent les failles issues de la base de données des failles actives de \\nl’IRSN.  \\n14 février 2018  \\nSismicité historique et actuelle au sud de l’Armorique  \\n\\uf0a7La Vendée  a connu  dans le passé  plusieurs  événements  d’ampleur  similaire  à \\ncelui survenu  le 12 février . A l’échelle  régionale  (rayon  de 50 km), la base de \\ndonnées  IRSN recense  21 séismes  de magnitude  supérieure  ou égale  à 4,0 ; dans \\nla base de données  SisFrance  (www .sisfrance .net), ce sont 20 séismes  d’intensité  \\népicentrale  supérieure  ou égale  à V qui sont répertoriés .\", start_char_idx=0, end_char_idx=2691, text_template='{metadata_str}\\n\\n{content}', metadata_template='{key}: {value}', metadata_seperator='\\n'), score=0.8109589419552907), NodeWithScore(node=TextNode(id_='fc2a0674-dca7-4af5-a728-14f2ae6e9585', embedding=None, metadata={'page_label': '1', 'file_name': '/share/data/fiches_seismes/Note-Information-Seisme-Teil-14112019.pdf'}, excluded_embed_metadata_keys=[], excluded_llm_metadata_keys=[], relationships={<NodeRelationship.SOURCE: '1'>: RelatedNodeInfo(node_id='ae382b9e-85d5-4ee0-98cb-dee33ba2b660', node_type=<ObjectType.DOCUMENT: '4'>, metadata={'page_label': '1', 'file_name': '/share/data/fiches_seismes/Note-Information-Seisme-Teil-14112019.pdf'}, hash='1154d340f65dc7b5b54be4ba6c18cbbc30199f3d89692bd81ac0360f814001d2'), <NodeRelationship.PREVIOUS: '2'>: RelatedNodeInfo(node_id='c815e746-c4bc-4484-ab6a-a57b95be4097', node_type=<ObjectType.TEXT: '1'>, metadata={'page_label': '3', 'file_name': '/share/data/fiches_seismes/IRSN_seisme_france-26022012_V2.pdf'}, hash='c9b64ca1ddb019592827fdc323124f34825676c6ee0e9a8aefc788c431a426b6'), <NodeRelationship.NEXT: '3'>: RelatedNodeInfo(node_id='d8bd8751-c7eb-45a2-b153-c2612ebcb1e6', node_type=<ObjectType.TEXT: '1'>, metadata={}, hash='9509f35dac4ecdc91277c926b34681c3a5425c5c9e71a9691bb2e357633761d1')}, text=\"FS 6 I  N  F  O  R  M  A  T  I  O  N  \\nwww.irsn.fr  1 14 novembre  2019 \\n Séisme du Teil  \\n(Ardèche ) \\n \\nDu 11 novembre 2019 11h52  Locale  \\nMagnitude = 5,4 (Ml) ou 4,9 (Mw)  \\n \\n \\n \\nLes faits  \\n\\uf0a7 Le 11 novembre 2019  à 11h52 , un séisme de magnitude  locale  (Ml*) de 5,1 selon le \\nBCSF -RéNaSS  (http://www.franceseisme.fr ), de 5,4 (Ml) selon le LDG/CEA et  de \\nmagnitude de moment Mw* de 4,9 selon SismoAzur s’est produit dans la région du \\nTeil (Ardèche) . Une analyse  des enregistrements du séisme par des réseaux \\nd’observation sismologique ( B. Delouis, Geoazur) montrent que la profondeur de ce \\nséisme est très superficielle (entre 1 et 3,5 km).  Les localisations initialement très \\ndispersées  se sont précisées et  position nent maintenant l'épicentre entre les \\nlatitude s 44,53 et 44, 61 et entre les longitude s 4,61 et 4 ,65, à l'Ouest de la \\ncommune du T eil. Quelques microséismes précurseurs ou répliques de magnitude \\ninférieure à 2 ,5 se sont p roduits dans les premières  heures avant et  \\nconsécutivement au choc principal ( Sismo Azur) \\n\\uf0a7 La secousse a été largement ressentie par la population du sud -est de la France, \\nnotamment jusqu’à Saint -Etienne, Grenoble, Lyon, Montpellier et Marseille  (voir \\nfigure  1). Le séisme a été ressenti sous la forme d’une secousse brutale et de \\nbruits très forts. Selon un bilan préliminaire de la sécurité civile, sur la commune \\ndu Teil et de Saint Thomé (Ardèche) , une cinquantaine de bâtiments présentent \\ndes fissures dans la zone ayant nécessité l’évacuation de plusieurs centaines de \\npersonnes. Une maison s’est effondrée dans un hameau ancien sur la commune du \\nTeil et les clochers des églises de la commune ont subi d’importants dégâts . Le \\nbilan fait état de 4 blessés, dont un grave. Plusieurs établissements ont été fermés \\nau public afin de vérifier la stabilité des bâtiments.  Une mission du Groupe \\nd’Intervention Macrosismique (GIM)  pilotée par le BCSF -RéNASS  à laquel le \\nparticipera l’IRSN, se rendra sur place la semaine prochaine pour évaluer \\nl’intensité du mouvement sismique à partir de l’observation de ses effets.  \\n\\uf02a Un séisme peut être caractérisé par sa magnitude ainsi que sa profondeur. On distingue plusieurs échelles de magnitude :  \\n• la magnitude locale estimée à partir de l’ampl itude maximale des ondes de volume,  \\n• la magnitude de moment estimée à partir de l’énergie contenue dans le signal sismologique,  \\n• la magnitude des ondes de surface estimée à partir de l’amplitude maximale des ondes de surface.  \\nCes trois méthodes conduisen t généralement à des estimations de magnitude différentes pour un même séisme (voir par \\nexemple les valeurs pr oposées pour le séisme du Layon du 21/06/2019 . Les réseaux de surveillance sismique util isent des \\nmagnitudes locales (Ml - étalonnées différemment pour chaque réseau). En sismologie on utilise également la magnitude \\nde moment (Mw) qui est représentative de l’énergie émise par la source lors d’un séisme. L’échelle de magnitude utilisée \\npour év aluer le mouvement sismique pour une installation nucléaire est la magnitude des ondes de surface (Ms).\", start_char_idx=6, end_char_idx=3123, text_template='{metadata_str}\\n\\n{content}', metadata_template='{key}: {value}', metadata_seperator='\\n'), score=0.7820192707623586)], metadata={'4988fee4-7748-4b40-b1b0-d4b1fd6c5d6a': {'page_label': '1', 'file_name': '/share/data/fiches_seismes/IRSN-Seisme-Vendee-France-20180212.pdf'}, 'fc2a0674-dca7-4af5-a728-14f2ae6e9585': {'page_label': '1', 'file_name': '/share/data/fiches_seismes/Note-Information-Seisme-Teil-14112019.pdf'}}), Response(response='\\nThe given context information does not provide any information about the impact of the 2018 earthquake on nuclear installations or the installations closest to the epicenter of the earthquake.', source_nodes=[NodeWithScore(node=TextNode(id_='4039a30e-e751-4b3a-b3eb-b41412d8bb06', embedding=None, metadata={'page_label': '5', 'file_name': '/share/data/fiches_seismes/Note-Information-Seisme-Teil-14112019.pdf'}, excluded_embed_metadata_keys=[], excluded_llm_metadata_keys=[], relationships={<NodeRelationship.SOURCE: '1'>: RelatedNodeInfo(node_id='33d1b94f-bfbf-4ec8-b4e4-799b6d0717bf', node_type=<ObjectType.DOCUMENT: '4'>, metadata={'page_label': '5', 'file_name': '/share/data/fiches_seismes/Note-Information-Seisme-Teil-14112019.pdf'}, hash='b55ef44e345ccd378b6dfb63415780049deb825e961369e24b11d4b0a199c20d'), <NodeRelationship.PREVIOUS: '2'>: RelatedNodeInfo(node_id='de4c0318-e9ec-4207-9e70-24cd0dc9066c', node_type=<ObjectType.TEXT: '1'>, metadata={'page_label': '4', 'file_name': '/share/data/fiches_seismes/Note-Information-Seisme-Teil-14112019.pdf'}, hash='62ff33a5a2fb94c12ac34a94d2e964e8468f029b69af9d587bfdac7bf77d3336'), <NodeRelationship.NEXT: '3'>: RelatedNodeInfo(node_id='34670cf4-d2e8-46e3-ba0c-0c41c742e9a2', node_type=<ObjectType.TEXT: '1'>, metadata={}, hash='d171bf2b16d7414938e1fdcf514f2a974233bebd88455b79b03df94a8dd42594')}, text='I  N  F  O  R  M  A  T  I  O  N  \\n5 14 novembre 2019  www.irsn.fr  Impact sur les installations nucléaires  \\n \\nTrois sites nucléaire s sont localisés dans un rayon de 50 km autour de l’épicentre. Le plus proche est celui de \\nla centrale nucléaire de Cruas. La distance à la zone de rupture la plus proche est d’environ 12 km. Compte \\ntenu de la magnitude et de la faible profondeur du séisme , l’atténuation du mouvement si smique est \\nimportante. Ainsi à 2 0 km, les stations sismiques des réseaux d’observation nationaux ont enregistrés des \\naccélérations de quelques millièmes de g (valeur de l’accélération de la pesanteur), en particulier de 0,006  g \\nà proximité de la centrale du Tricastin. A Cruas, les instruments installés sur le site ont enregistrés une \\naccélération maximale de 0,045  g en champ libre (une autre mesure réalisée dans les locaux de la centrale a \\nentrainé une procédure d’arrêt et de vérification des installations).  \\n \\nLes bâtiments et les équipements des centrales nucléaires françaises sont conçus pour résister à un certain \\nniveau de séisme caractérisé par un «  spectre de réponse  ». Un «spectre de réponse  » permet de déterminer \\nla sollicitation d’un bâtiment ou d’un équipement à différentes fréquences de vibrations produites par un \\nséisme. On associe souvent à un «  spectre de réponse  » l’accélération correspondant aux fréquences élevées \\nappelée «  valeur de calage  ». \\n \\nPour ce qui con cerne la centrale nucléaire de Cruas, le «  spectre de réponse  » en vigueur est celui utilisé pour \\nle troisième réexamen de sûreté des réacteurs. Il est calé à 0,26 g. Ce spectre a été utilisé pour la \\nréévaluation du comportement sismique de l’ensemble de l ’installation lors du troisième réexamen de sûreté. \\nIl convient de noter que pour la centrale nucléaire de Cruas des appuis parasismiques en élastomère ont été \\ninterposés lors de la construction entre les fondations et les principaux bâtiments.  \\nPour ce qui  concerne la centrale nucléaire du Tricastin, le «  spectre de réponse  » en vigueur est celui utilisé \\npour le troisième réexamen de sûreté des réacteurs. Il est calé à 0,285 g. Ce spectre a été utilisé pour la \\nréévaluation du comportement sismique de l’ense mble de l’installation lors du troisième réexamen de sûreté.  \\n \\nLa méthode utilisée pour déterminer ces «  spectres de réponse  » est définie dans une réglementation \\ntechnique spécifique (RFS 2001 -01). Celle -ci demande de définir des zones (dites zones sismote ctoniques) \\nconsidérées comme homogènes du point de vue de leur potentiel à générer des séismes, puis à recenser les \\nséismes les plus importants connus historiquement dans chacune de ces zones (sismicité instrumentale et \\nsismicité historique). La sollicitat ion sismique retenue (Séisme Maximum Historiquement Vraisemblable - \\nSMHV) est alors définie en supposant que les séismes identifiés peuvent se produire en n’importe quel point \\nde la zone sismotectonique à laquelle ils appartiennent. La RFS demande que, dan s la zone sismotectonique \\ndu site, le SMHV soit supposé se produire à l’aplomb du site. Le Séisme Majoré de Sécurité (SMS) est obtenu en \\naugmentant la magnitude des o ndes de surface (Ms) du SMHV de 0,5.', start_char_idx=4, end_char_idx=3213, text_template='{metadata_str}\\n\\n{content}', metadata_template='{key}: {value}', metadata_seperator='\\n'), score=0.8607901392992879), NodeWithScore(node=TextNode(id_='4edc34f0-7350-4377-885f-6aa48576ea2d', embedding=None, metadata={'page_label': '4', 'file_name': '/share/data/fiches_seismes/IRSN-Seisme-Amatrice-Italie-240816_V1.pdf'}, excluded_embed_metadata_keys=[], excluded_llm_metadata_keys=[], relationships={<NodeRelationship.SOURCE: '1'>: RelatedNodeInfo(node_id='11d82dbf-84fb-4bd6-9edb-0de105224b3b', node_type=<ObjectType.DOCUMENT: '4'>, metadata={'page_label': '4', 'file_name': '/share/data/fiches_seismes/IRSN-Seisme-Amatrice-Italie-240816_V1.pdf'}, hash='c0e11d5978a7ec37a94f876b13d7a8341bbe9a2498162bec9c6fb6509704fa4f'), <NodeRelationship.PREVIOUS: '2'>: RelatedNodeInfo(node_id='0e2625ef-e48a-42d8-aeca-68ff26160372', node_type=<ObjectType.TEXT: '1'>, metadata={'page_label': '3', 'file_name': '/share/data/fiches_seismes/IRSN-Seisme-Amatrice-Italie-240816_V1.pdf'}, hash='990286708c941eac0765f9cee3e47e472478ee0d0f6fa2e6340ecc6b8b81d6f1'), <NodeRelationship.NEXT: '3'>: RelatedNodeInfo(node_id='60094ac4-04ff-4a96-b500-cade7e6a8358', node_type=<ObjectType.TEXT: '1'>, metadata={}, hash='1301f8bcd33b5b7f98c94aa23204a2ac6dfd6ed2a5793310487817d0d4d8fc11')}, text='I  N  F  O  R  M  A  T  I  O  N  \\n4 26 Août 2016  Impact sur les installations nucléaires  \\nAucun  site nucléaire  ne se situe  dans la région  épicentrale  du séisme  du 24 août 2016 .  \\nPlusieurs  réacteurs  électronucléaires  et installations  de fabrication  de combustibles  ont été exploités  en Italie . Tous \\nsont aujourd’hui  arrêtés  et en cours  de démantèlement . A ces installations,  s’ajoutent  les sites d’entreposage  de \\ncombustibles  usés ainsi que certains  réacteurs  et laboratoires  de recherche  encore  en fonctionnement .  \\nL’installation  la plus proche  du séisme  d’Amatrice  est l’établissement  de recherche  de Casaccia  ENEA   (Figure  1 et 5) \\nsituée  au Nord de Rome,  à un peu plus de 100 km de la zone épicentrale . Les centrales  électronucléaires  en cours  de \\ndémantèlement  de Montalto  di Castro  et de Latina  sont localisées  à environ  140 km de la zone épicentrale  (Figure  5).  \\nLes enseignements  \\n\\uf0a7Les caractéristiques  du séisme  du 24 août 2016  sont cohérentes  avec l’activité  sismique  des Apennins . \\nCette  région  de l’Italie  est reconnue  comme  étant  une zone où l’aléa  est élevé . \\n\\uf0a7Le séisme,  localisé  à proximité  de la ville d’Amatrice,  a causé  d’importants  dégâts  en zone épicentrale . \\nLe bilan  des dégâts  humains  et matériels  n’est  pas établi  définitivement  mais peut d’ores  et déjà être \\nconsidéré  comme  particulièrement  lourd . Ce séisme  a par ailleurs  été fortement  ressenti  en Italie  \\ncentrale . \\n\\uf0a7L’importance  des dommages  est vraisemblablement  liée à la faible  profondeur  du séisme  et à la \\nvulnérabilité  des constructions . \\n\\uf0a7Aucun  site nucléaire  n’est  situé  dans la zone dans laquelle  des effets  significatifs  ont été enregistrés . \\n\\uf0a7Des séismes  d’ampleur  comparable  (magnitude  6,0) se sont déjà produits  en France  au cours  de \\nl’histoire  (e.g. séisme  de Lambesc  1909 ) et sont susceptibles  de survenir  de nouveau . Toutefois  la \\nfréquence  de ce type de séismes  est notablement  plus faible  en France  (en moyenne  une fois tous les \\n100 ans) qu’en  Italie  (en moyenne  une fois tous les 10 ans).', start_char_idx=0, end_char_idx=2129, text_template='{metadata_str}\\n\\n{content}', metadata_template='{key}: {value}', metadata_seperator='\\n'), score=0.8449995068880118)], metadata={'4039a30e-e751-4b3a-b3eb-b41412d8bb06': {'page_label': '5', 'file_name': '/share/data/fiches_seismes/Note-Information-Seisme-Teil-14112019.pdf'}, '4edc34f0-7350-4377-885f-6aa48576ea2d': {'page_label': '4', 'file_name': '/share/data/fiches_seismes/IRSN-Seisme-Amatrice-Italie-240816_V1.pdf'}})]}\n"
     ]
    }
   ],
   "source": [
    "reponses_dict = {}  \n",
    "for cle, questions in mon_dict.items():\n",
    "    print(f'Clé: {cle}')\n",
    "    \n",
    "    # Liste pour stocker les réponses aux questions\n",
    "    reponses = []\n",
    "    # Itérer sur chaque question pour la clé\n",
    "    for i, question in enumerate(questions, start=1):\n",
    "        query = question\n",
    "        reponses.append(query_engine.query(query))  \n",
    "    # Stocker les réponses dans le dictionnaire de réponses\n",
    "    reponses_dict[cle] = reponses\n",
    "# Afficher le dictionnaire de réponses\n",
    "print('\\nDictionnaire de réponses:')\n",
    "print(reponses_dict)"
   ]
  },
  {
   "cell_type": "markdown",
   "id": "91792b15-ebb7-4164-8fd8-d882c5d3af7f",
   "metadata": {
    "jp-MarkdownHeadingCollapsed": true
   },
   "source": [
    "#### Formattage de l'output pour garder seulement les réponses + les sources"
   ]
  },
  {
   "cell_type": "code",
   "execution_count": 136,
   "id": "abc27afa-8d5e-46c1-8e8d-6a269a4d8344",
   "metadata": {},
   "outputs": [
    {
     "name": "stdout",
     "output_type": "stream",
     "text": [
      "[{'Réponse 0': ['\\nThe magnitude of the earthquake in Mulhouse is 3.9 (Mw - Géoazur). The earthquake occurred at 15h58 TU (17h58 local time) on September 1, 2022, and was located at 7.471° E and 47.669° N. The earthquake was felt throughout the region of Grand Est and caused damage to buildings. The maximum intensity of the earthquake was IV on the RENASS scale, which corresponds to a perception that is moderately felt and did not cause any damage to buildings.', '/share/data/fiches_seismes/IRSN Fiche seisme MULHOUSE 13092022.pdf & /share/data/fiches_seismes/IRSN_seisme-Manosque_V1-12072010.pdf']}, {'Réponse 1': ['\\nThe earthquake in Mulhouse is linked to the tectonics of the Fossé Rhénan, which is a rift system that has been forming for approximately 40 million years. The Fossé Rhénan is characterized by a system of faults oriented primarily in the direction of NNE-SSO, with several faults presenting markers of recent activity (quaternary). The mechanism of the earthquake in Mulhouse determined that it was a pure decrochant earthquake, which is consistent with the regional context and the earthquakes that have occurred in the past, such as the earthquake in Sierentz in 1980. This earthquake, of magnitude local 4.7, was located approximately 4 km from the epicenter of the earthquake in Mulhouse and produced several hundred aftershocks in the 16 days following the main shock. At this time, a few significant aftershocks have been recorded following the earthquake in Mulhouse, and the activity of the seismic swarm may continue in the coming days. The precise location of these aftershocks could help identify the active structures in the region.\\n\\nIn addition, the region of Bâle is', '/share/data/fiches_seismes/IRSN Fiche seisme MULHOUSE 13092022.pdf & /share/data/fiches_seismes/irsn_seisme_martinique_122007.pdf']}]\n"
     ]
    }
   ],
   "source": [
    "dict_output = {}\n",
    "\n",
    "for cle in reponses_dict:\n",
    "    if cle == 'irsn_Seisme-Besancon_022004.pdf':\n",
    "        continue\n",
    "\n",
    "    # Initialiser une liste pour stocker les réponses\n",
    "    reponses_list = []\n",
    "\n",
    "    # Itérer sur chaque question pour la clé\n",
    "    for i in range(2):\n",
    "        reponses_list.append({\n",
    "            f'Réponse {i}': [reponses_dict[cle][i].response, reponses_dict[cle][i].metadata[list(reponses_dict[cle][i].metadata.keys())[0]]['file_name'] + ' & ' + reponses_dict[cle][i].metadata[list(reponses_dict[cle][i].metadata.keys())[1]]['file_name']]\n",
    "        })\n",
    "\n",
    "    # Ajouter la liste des réponses au dictionnaire de sortie\n",
    "    dict_output[cle] = reponses_list\n",
    "\n",
    "# Afficher le résultat pour une clé spécifique\n",
    "print(dict_output['IRSN Fiche seisme MULHOUSE 13092022.pdf'])\n"
   ]
  },
  {
   "cell_type": "markdown",
   "id": "93d4aed0-65ed-4ede-a378-a3eccfc57108",
   "metadata": {
    "jp-MarkdownHeadingCollapsed": true
   },
   "source": [
    "#### Sauvegarde de l'output formatté dans un csv"
   ]
  },
  {
   "cell_type": "code",
   "execution_count": 138,
   "id": "15efabde-7dbb-4dc6-a99d-3c8e12d2b9cd",
   "metadata": {},
   "outputs": [
    {
     "name": "stdout",
     "output_type": "stream",
     "text": [
      "Les données ont été écrites dans le fichier CSV : output_llma.csv\n"
     ]
    }
   ],
   "source": [
    "import csv\n",
    "output_csv_path = 'output_llma.csv'\n",
    "# Fonction pour écrire les données dans le fichier CSV\n",
    "def write_to_csv(data, csv_path):\n",
    "    with open(csv_path, 'w', newline='', encoding='utf-8') as csvfile:\n",
    "        # Définir les colonnes du CSV\n",
    "        fieldnames = ['Nom du document', 'Réponse 0', 'Source 0', 'Réponse 1', 'Source 1']\n",
    "        writer = csv.DictWriter(csvfile, fieldnames=fieldnames, delimiter=';')  # Ajout du délimiteur\n",
    "\n",
    "        # Écrire l'en-tête\n",
    "        writer.writeheader()\n",
    "\n",
    "        # Écrire les données\n",
    "        for document, responses in data.items():\n",
    "            row_data = {'Nom du document': document}\n",
    "            for i, response_info in enumerate(responses):\n",
    "                response_key = f'Réponse {i}'\n",
    "                source_key = f'Source {i}'\n",
    "                \n",
    "                # Enlever le premier caractère (retour chariot) du string réponse\n",
    "                cleaned_response = response_info[response_key][0][1:] if response_info[response_key][0] else ''\n",
    "                \n",
    "                row_data[response_key] = cleaned_response\n",
    "                row_data[source_key] = str(response_info[response_key][1]) if response_info[response_key][1] else ''\n",
    "            writer.writerow(row_data)\n",
    "\n",
    "# Appeler la fonction avec vos données\n",
    "write_to_csv(dict_output, output_csv_path)\n",
    "\n",
    "# Afficher un message de confirmation\n",
    "print(f\"Les données ont été écrites dans le fichier CSV : {output_csv_path}\")"
   ]
  },
  {
   "cell_type": "markdown",
   "id": "e1c7ee71-01ab-4be9-ba6b-5b9fd875091a",
   "metadata": {
    "jp-MarkdownHeadingCollapsed": true
   },
   "source": [
    "# Extraction de metadonnées "
   ]
  },
  {
   "cell_type": "markdown",
   "id": "a590a643-2af2-45ff-a1a0-38416490c216",
   "metadata": {
    "jp-MarkdownHeadingCollapsed": true
   },
   "source": [
    "### import et fonction d'extraction de metadata"
   ]
  },
  {
   "cell_type": "code",
   "execution_count": 15,
   "id": "f04634a8-b91f-4838-bf15-f7dc473bb948",
   "metadata": {},
   "outputs": [],
   "source": [
    "text_splitter = TokenTextSplitter(\n",
    "    separator=\" \", chunk_size=512, chunk_overlap=128\n",
    ")"
   ]
  },
  {
   "cell_type": "code",
   "execution_count": 16,
   "id": "69d57fdc-2106-43ea-909e-5eff6bf175b6",
   "metadata": {},
   "outputs": [],
   "source": [
    "nest_asyncio.apply()\n",
    "extractors = [\n",
    "    TitleExtractor(nodes=5, llm=llm),\n",
    "    QuestionsAnsweredExtractor(questions=3, llm=llm),\n",
    "    # EntityExtractor(prediction_threshold=0.5),\n",
    "    # SummaryExtractor(summaries=[\"prev\", \"self\"], llm=llm),\n",
    "    # KeywordExtractor(keywords=10, llm=llm),\n",
    "    # CustomExtractor()\n",
    "]\n",
    "\n",
    "transformations = [text_splitter] + extractors"
   ]
  },
  {
   "cell_type": "markdown",
   "id": "8605b369-5777-4441-9ca5-f5e8418da1eb",
   "metadata": {
    "jp-MarkdownHeadingCollapsed": true
   },
   "source": [
    "### Création des metadatas supplémentaires"
   ]
  },
  {
   "cell_type": "code",
   "execution_count": 38,
   "id": "8f1c1321-d070-493c-864f-df26ede0cfbf",
   "metadata": {
    "scrolled": true
   },
   "outputs": [
    {
     "name": "stderr",
     "output_type": "stream",
     "text": [
      "  0%|          | 0/2 [00:00<?, ?it/s]Setting `pad_token_id` to `eos_token_id`:2 for open-end generation.\n",
      "Setting `pad_token_id` to `eos_token_id`:2 for open-end generation.\n",
      "100%|██████████| 2/2 [00:03<00:00,  1.82s/it]\n",
      "Setting `pad_token_id` to `eos_token_id`:2 for open-end generation.\n",
      "  0%|          | 0/3 [00:00<?, ?it/s]Setting `pad_token_id` to `eos_token_id`:2 for open-end generation.\n",
      "Setting `pad_token_id` to `eos_token_id`:2 for open-end generation.\n",
      "Setting `pad_token_id` to `eos_token_id`:2 for open-end generation.\n",
      "100%|██████████| 3/3 [00:05<00:00,  1.68s/it]\n",
      "Setting `pad_token_id` to `eos_token_id`:2 for open-end generation.\n",
      "  0%|          | 0/1 [00:00<?, ?it/s]Setting `pad_token_id` to `eos_token_id`:2 for open-end generation.\n",
      "100%|██████████| 1/1 [00:01<00:00,  1.86s/it]\n",
      "Setting `pad_token_id` to `eos_token_id`:2 for open-end generation.\n",
      "  0%|          | 0/3 [00:00<?, ?it/s]Setting `pad_token_id` to `eos_token_id`:2 for open-end generation.\n",
      "Setting `pad_token_id` to `eos_token_id`:2 for open-end generation.\n",
      "Setting `pad_token_id` to `eos_token_id`:2 for open-end generation.\n",
      "100%|██████████| 3/3 [00:04<00:00,  1.59s/it]\n",
      "Setting `pad_token_id` to `eos_token_id`:2 for open-end generation.\n",
      "  0%|          | 0/2 [00:00<?, ?it/s]Setting `pad_token_id` to `eos_token_id`:2 for open-end generation.\n",
      "Setting `pad_token_id` to `eos_token_id`:2 for open-end generation.\n",
      "100%|██████████| 2/2 [00:02<00:00,  1.50s/it]\n",
      "Setting `pad_token_id` to `eos_token_id`:2 for open-end generation.\n",
      "  0%|          | 0/4 [00:00<?, ?it/s]Setting `pad_token_id` to `eos_token_id`:2 for open-end generation.\n",
      "Setting `pad_token_id` to `eos_token_id`:2 for open-end generation.\n",
      "Setting `pad_token_id` to `eos_token_id`:2 for open-end generation.\n",
      "Setting `pad_token_id` to `eos_token_id`:2 for open-end generation.\n",
      "100%|██████████| 4/4 [00:05<00:00,  1.43s/it]\n",
      "Setting `pad_token_id` to `eos_token_id`:2 for open-end generation.\n",
      "  0%|          | 0/2 [00:00<?, ?it/s]Setting `pad_token_id` to `eos_token_id`:2 for open-end generation.\n",
      "Setting `pad_token_id` to `eos_token_id`:2 for open-end generation.\n",
      "100%|██████████| 2/2 [00:03<00:00,  1.67s/it]\n",
      "Setting `pad_token_id` to `eos_token_id`:2 for open-end generation.\n",
      "  0%|          | 0/3 [00:00<?, ?it/s]Setting `pad_token_id` to `eos_token_id`:2 for open-end generation.\n",
      "Setting `pad_token_id` to `eos_token_id`:2 for open-end generation.\n",
      "Setting `pad_token_id` to `eos_token_id`:2 for open-end generation.\n",
      "100%|██████████| 3/3 [00:06<00:00,  2.07s/it]\n",
      "Setting `pad_token_id` to `eos_token_id`:2 for open-end generation.\n",
      "  0%|          | 0/3 [00:00<?, ?it/s]Setting `pad_token_id` to `eos_token_id`:2 for open-end generation.\n",
      "Setting `pad_token_id` to `eos_token_id`:2 for open-end generation.\n",
      "Setting `pad_token_id` to `eos_token_id`:2 for open-end generation.\n",
      "100%|██████████| 3/3 [00:05<00:00,  1.72s/it]\n",
      "Setting `pad_token_id` to `eos_token_id`:2 for open-end generation.\n",
      "  0%|          | 0/2 [00:00<?, ?it/s]Setting `pad_token_id` to `eos_token_id`:2 for open-end generation.\n",
      "Setting `pad_token_id` to `eos_token_id`:2 for open-end generation.\n",
      "100%|██████████| 2/2 [00:04<00:00,  2.08s/it]\n",
      "Setting `pad_token_id` to `eos_token_id`:2 for open-end generation.\n",
      "  0%|          | 0/3 [00:00<?, ?it/s]Setting `pad_token_id` to `eos_token_id`:2 for open-end generation.\n",
      "Setting `pad_token_id` to `eos_token_id`:2 for open-end generation.\n",
      "Setting `pad_token_id` to `eos_token_id`:2 for open-end generation.\n",
      "100%|██████████| 3/3 [00:05<00:00,  1.96s/it]\n",
      "Setting `pad_token_id` to `eos_token_id`:2 for open-end generation.\n",
      "  0%|          | 0/2 [00:00<?, ?it/s]Setting `pad_token_id` to `eos_token_id`:2 for open-end generation.\n",
      "Setting `pad_token_id` to `eos_token_id`:2 for open-end generation.\n",
      "100%|██████████| 2/2 [00:04<00:00,  2.42s/it]\n",
      "Setting `pad_token_id` to `eos_token_id`:2 for open-end generation.\n",
      "  0%|          | 0/3 [00:00<?, ?it/s]Setting `pad_token_id` to `eos_token_id`:2 for open-end generation.\n",
      "Setting `pad_token_id` to `eos_token_id`:2 for open-end generation.\n",
      "Setting `pad_token_id` to `eos_token_id`:2 for open-end generation.\n",
      "100%|██████████| 3/3 [00:05<00:00,  1.69s/it]\n",
      "Setting `pad_token_id` to `eos_token_id`:2 for open-end generation.\n",
      "  0%|          | 0/2 [00:00<?, ?it/s]Setting `pad_token_id` to `eos_token_id`:2 for open-end generation.\n",
      "Setting `pad_token_id` to `eos_token_id`:2 for open-end generation.\n",
      "100%|██████████| 2/2 [00:03<00:00,  1.59s/it]\n",
      "Setting `pad_token_id` to `eos_token_id`:2 for open-end generation.\n",
      "  0%|          | 0/1 [00:00<?, ?it/s]Setting `pad_token_id` to `eos_token_id`:2 for open-end generation.\n",
      "100%|██████████| 1/1 [00:02<00:00,  2.08s/it]\n",
      "Setting `pad_token_id` to `eos_token_id`:2 for open-end generation.\n",
      "  0%|          | 0/3 [00:00<?, ?it/s]Setting `pad_token_id` to `eos_token_id`:2 for open-end generation.\n",
      "Setting `pad_token_id` to `eos_token_id`:2 for open-end generation.\n",
      "Setting `pad_token_id` to `eos_token_id`:2 for open-end generation.\n",
      "100%|██████████| 3/3 [00:05<00:00,  1.79s/it]\n",
      "Setting `pad_token_id` to `eos_token_id`:2 for open-end generation.\n",
      "  0%|          | 0/2 [00:00<?, ?it/s]Setting `pad_token_id` to `eos_token_id`:2 for open-end generation.\n",
      "Setting `pad_token_id` to `eos_token_id`:2 for open-end generation.\n",
      "100%|██████████| 2/2 [00:03<00:00,  1.88s/it]\n",
      "Setting `pad_token_id` to `eos_token_id`:2 for open-end generation.\n",
      "  0%|          | 0/3 [00:00<?, ?it/s]Setting `pad_token_id` to `eos_token_id`:2 for open-end generation.\n",
      "Setting `pad_token_id` to `eos_token_id`:2 for open-end generation.\n",
      "Setting `pad_token_id` to `eos_token_id`:2 for open-end generation.\n",
      "100%|██████████| 3/3 [00:05<00:00,  1.96s/it]\n",
      "Setting `pad_token_id` to `eos_token_id`:2 for open-end generation.\n",
      "  0%|          | 0/3 [00:00<?, ?it/s]Setting `pad_token_id` to `eos_token_id`:2 for open-end generation.\n",
      "Setting `pad_token_id` to `eos_token_id`:2 for open-end generation.\n",
      "Setting `pad_token_id` to `eos_token_id`:2 for open-end generation.\n",
      "100%|██████████| 3/3 [00:05<00:00,  1.69s/it]\n",
      "Setting `pad_token_id` to `eos_token_id`:2 for open-end generation.\n",
      "  0%|          | 0/3 [00:00<?, ?it/s]Setting `pad_token_id` to `eos_token_id`:2 for open-end generation.\n",
      "Setting `pad_token_id` to `eos_token_id`:2 for open-end generation.\n",
      "Setting `pad_token_id` to `eos_token_id`:2 for open-end generation.\n",
      "100%|██████████| 3/3 [00:06<00:00,  2.02s/it]\n",
      "Setting `pad_token_id` to `eos_token_id`:2 for open-end generation.\n",
      "  0%|          | 0/3 [00:00<?, ?it/s]Setting `pad_token_id` to `eos_token_id`:2 for open-end generation.\n",
      "Setting `pad_token_id` to `eos_token_id`:2 for open-end generation.\n",
      "Setting `pad_token_id` to `eos_token_id`:2 for open-end generation.\n",
      "100%|██████████| 3/3 [00:05<00:00,  1.71s/it]\n",
      "Setting `pad_token_id` to `eos_token_id`:2 for open-end generation.\n",
      "  0%|          | 0/4 [00:00<?, ?it/s]Setting `pad_token_id` to `eos_token_id`:2 for open-end generation.\n",
      "Setting `pad_token_id` to `eos_token_id`:2 for open-end generation.\n",
      "Setting `pad_token_id` to `eos_token_id`:2 for open-end generation.\n",
      "Setting `pad_token_id` to `eos_token_id`:2 for open-end generation.\n",
      "100%|██████████| 4/4 [00:07<00:00,  1.76s/it]\n",
      "Setting `pad_token_id` to `eos_token_id`:2 for open-end generation.\n",
      "  0%|          | 0/3 [00:00<?, ?it/s]Setting `pad_token_id` to `eos_token_id`:2 for open-end generation.\n",
      "Setting `pad_token_id` to `eos_token_id`:2 for open-end generation.\n",
      "Setting `pad_token_id` to `eos_token_id`:2 for open-end generation.\n",
      "100%|██████████| 3/3 [00:05<00:00,  1.80s/it]\n",
      "Setting `pad_token_id` to `eos_token_id`:2 for open-end generation.\n",
      "  0%|          | 0/3 [00:00<?, ?it/s]Setting `pad_token_id` to `eos_token_id`:2 for open-end generation.\n",
      "Setting `pad_token_id` to `eos_token_id`:2 for open-end generation.\n",
      "Setting `pad_token_id` to `eos_token_id`:2 for open-end generation.\n",
      "100%|██████████| 3/3 [00:05<00:00,  1.94s/it]\n",
      "Setting `pad_token_id` to `eos_token_id`:2 for open-end generation.\n",
      "  0%|          | 0/4 [00:00<?, ?it/s]Setting `pad_token_id` to `eos_token_id`:2 for open-end generation.\n",
      "Setting `pad_token_id` to `eos_token_id`:2 for open-end generation.\n",
      "Setting `pad_token_id` to `eos_token_id`:2 for open-end generation.\n",
      "Setting `pad_token_id` to `eos_token_id`:2 for open-end generation.\n",
      "100%|██████████| 4/4 [00:06<00:00,  1.74s/it]\n",
      "Setting `pad_token_id` to `eos_token_id`:2 for open-end generation.\n",
      "  0%|          | 0/3 [00:00<?, ?it/s]Setting `pad_token_id` to `eos_token_id`:2 for open-end generation.\n",
      "Setting `pad_token_id` to `eos_token_id`:2 for open-end generation.\n",
      "Setting `pad_token_id` to `eos_token_id`:2 for open-end generation.\n",
      "100%|██████████| 3/3 [00:06<00:00,  2.12s/it]\n",
      "Setting `pad_token_id` to `eos_token_id`:2 for open-end generation.\n",
      "  0%|          | 0/4 [00:00<?, ?it/s]Setting `pad_token_id` to `eos_token_id`:2 for open-end generation.\n",
      "Setting `pad_token_id` to `eos_token_id`:2 for open-end generation.\n",
      "Setting `pad_token_id` to `eos_token_id`:2 for open-end generation.\n",
      "Setting `pad_token_id` to `eos_token_id`:2 for open-end generation.\n",
      "100%|██████████| 4/4 [00:06<00:00,  1.69s/it]\n",
      "Setting `pad_token_id` to `eos_token_id`:2 for open-end generation.\n",
      "  0%|          | 0/3 [00:00<?, ?it/s]Setting `pad_token_id` to `eos_token_id`:2 for open-end generation.\n",
      "Setting `pad_token_id` to `eos_token_id`:2 for open-end generation.\n",
      "Setting `pad_token_id` to `eos_token_id`:2 for open-end generation.\n",
      "100%|██████████| 3/3 [00:05<00:00,  1.86s/it]\n",
      "Setting `pad_token_id` to `eos_token_id`:2 for open-end generation.\n",
      "  0%|          | 0/3 [00:00<?, ?it/s]Setting `pad_token_id` to `eos_token_id`:2 for open-end generation.\n",
      "Setting `pad_token_id` to `eos_token_id`:2 for open-end generation.\n",
      "Setting `pad_token_id` to `eos_token_id`:2 for open-end generation.\n",
      "100%|██████████| 3/3 [00:05<00:00,  1.93s/it]\n",
      "Setting `pad_token_id` to `eos_token_id`:2 for open-end generation.\n",
      "  0%|          | 0/4 [00:00<?, ?it/s]Setting `pad_token_id` to `eos_token_id`:2 for open-end generation.\n",
      "Setting `pad_token_id` to `eos_token_id`:2 for open-end generation.\n",
      "Setting `pad_token_id` to `eos_token_id`:2 for open-end generation.\n",
      "Setting `pad_token_id` to `eos_token_id`:2 for open-end generation.\n",
      "100%|██████████| 4/4 [00:06<00:00,  1.59s/it]\n",
      "Setting `pad_token_id` to `eos_token_id`:2 for open-end generation.\n",
      "  0%|          | 0/3 [00:00<?, ?it/s]Setting `pad_token_id` to `eos_token_id`:2 for open-end generation.\n",
      "Setting `pad_token_id` to `eos_token_id`:2 for open-end generation.\n",
      "Setting `pad_token_id` to `eos_token_id`:2 for open-end generation.\n",
      "100%|██████████| 3/3 [00:06<00:00,  2.05s/it]\n",
      "Setting `pad_token_id` to `eos_token_id`:2 for open-end generation.\n",
      "  0%|          | 0/3 [00:00<?, ?it/s]Setting `pad_token_id` to `eos_token_id`:2 for open-end generation.\n",
      "Setting `pad_token_id` to `eos_token_id`:2 for open-end generation.\n",
      "Setting `pad_token_id` to `eos_token_id`:2 for open-end generation.\n",
      "100%|██████████| 3/3 [00:05<00:00,  1.74s/it]\n",
      "Setting `pad_token_id` to `eos_token_id`:2 for open-end generation.\n",
      "  0%|          | 0/4 [00:00<?, ?it/s]Setting `pad_token_id` to `eos_token_id`:2 for open-end generation.\n",
      "Setting `pad_token_id` to `eos_token_id`:2 for open-end generation.\n",
      "Setting `pad_token_id` to `eos_token_id`:2 for open-end generation.\n",
      "Setting `pad_token_id` to `eos_token_id`:2 for open-end generation.\n",
      "100%|██████████| 4/4 [00:08<00:00,  2.12s/it]\n",
      "Setting `pad_token_id` to `eos_token_id`:2 for open-end generation.\n",
      "  0%|          | 0/2 [00:00<?, ?it/s]Setting `pad_token_id` to `eos_token_id`:2 for open-end generation.\n",
      "Setting `pad_token_id` to `eos_token_id`:2 for open-end generation.\n",
      "100%|██████████| 2/2 [00:02<00:00,  1.49s/it]\n",
      "Setting `pad_token_id` to `eos_token_id`:2 for open-end generation.\n",
      "  0%|          | 0/1 [00:00<?, ?it/s]Setting `pad_token_id` to `eos_token_id`:2 for open-end generation.\n",
      "100%|██████████| 1/1 [00:01<00:00,  1.24s/it]\n",
      "Setting `pad_token_id` to `eos_token_id`:2 for open-end generation.\n",
      "  0%|          | 0/1 [00:00<?, ?it/s]Setting `pad_token_id` to `eos_token_id`:2 for open-end generation.\n",
      "100%|██████████| 1/1 [00:01<00:00,  1.69s/it]\n",
      "Setting `pad_token_id` to `eos_token_id`:2 for open-end generation.\n",
      "  0%|          | 0/3 [00:00<?, ?it/s]Setting `pad_token_id` to `eos_token_id`:2 for open-end generation.\n",
      "Setting `pad_token_id` to `eos_token_id`:2 for open-end generation.\n",
      "Setting `pad_token_id` to `eos_token_id`:2 for open-end generation.\n",
      "100%|██████████| 3/3 [00:05<00:00,  1.85s/it]\n",
      "Setting `pad_token_id` to `eos_token_id`:2 for open-end generation.\n",
      "  0%|          | 0/2 [00:00<?, ?it/s]Setting `pad_token_id` to `eos_token_id`:2 for open-end generation.\n",
      "Setting `pad_token_id` to `eos_token_id`:2 for open-end generation.\n",
      "100%|██████████| 2/2 [00:04<00:00,  2.12s/it]\n",
      "Setting `pad_token_id` to `eos_token_id`:2 for open-end generation.\n",
      "  0%|          | 0/1 [00:00<?, ?it/s]Setting `pad_token_id` to `eos_token_id`:2 for open-end generation.\n",
      "100%|██████████| 1/1 [00:01<00:00,  1.54s/it]\n",
      "Setting `pad_token_id` to `eos_token_id`:2 for open-end generation.\n",
      "  0%|          | 0/1 [00:00<?, ?it/s]Setting `pad_token_id` to `eos_token_id`:2 for open-end generation.\n",
      "100%|██████████| 1/1 [00:01<00:00,  1.14s/it]\n",
      "Setting `pad_token_id` to `eos_token_id`:2 for open-end generation.\n",
      "  0%|          | 0/1 [00:00<?, ?it/s]Setting `pad_token_id` to `eos_token_id`:2 for open-end generation.\n",
      "100%|██████████| 1/1 [00:01<00:00,  1.95s/it]\n",
      "Setting `pad_token_id` to `eos_token_id`:2 for open-end generation.\n",
      "  0%|          | 0/3 [00:00<?, ?it/s]Setting `pad_token_id` to `eos_token_id`:2 for open-end generation.\n",
      "Setting `pad_token_id` to `eos_token_id`:2 for open-end generation.\n",
      "Setting `pad_token_id` to `eos_token_id`:2 for open-end generation.\n",
      "100%|██████████| 3/3 [00:06<00:00,  2.01s/it]\n",
      "Setting `pad_token_id` to `eos_token_id`:2 for open-end generation.\n",
      "  0%|          | 0/2 [00:00<?, ?it/s]Setting `pad_token_id` to `eos_token_id`:2 for open-end generation.\n",
      "Setting `pad_token_id` to `eos_token_id`:2 for open-end generation.\n",
      "100%|██████████| 2/2 [00:03<00:00,  1.97s/it]\n",
      "Setting `pad_token_id` to `eos_token_id`:2 for open-end generation.\n",
      "  0%|          | 0/4 [00:00<?, ?it/s]Setting `pad_token_id` to `eos_token_id`:2 for open-end generation.\n",
      "Setting `pad_token_id` to `eos_token_id`:2 for open-end generation.\n",
      "Setting `pad_token_id` to `eos_token_id`:2 for open-end generation.\n",
      "Setting `pad_token_id` to `eos_token_id`:2 for open-end generation.\n",
      "100%|██████████| 4/4 [00:06<00:00,  1.71s/it]\n",
      "Setting `pad_token_id` to `eos_token_id`:2 for open-end generation.\n",
      "  0%|          | 0/3 [00:00<?, ?it/s]Setting `pad_token_id` to `eos_token_id`:2 for open-end generation.\n",
      "Setting `pad_token_id` to `eos_token_id`:2 for open-end generation.\n",
      "Setting `pad_token_id` to `eos_token_id`:2 for open-end generation.\n",
      "100%|██████████| 3/3 [00:05<00:00,  1.70s/it]\n",
      "Setting `pad_token_id` to `eos_token_id`:2 for open-end generation.\n",
      "  0%|          | 0/2 [00:00<?, ?it/s]Setting `pad_token_id` to `eos_token_id`:2 for open-end generation.\n",
      "Setting `pad_token_id` to `eos_token_id`:2 for open-end generation.\n",
      "100%|██████████| 2/2 [00:03<00:00,  1.84s/it]\n",
      "Setting `pad_token_id` to `eos_token_id`:2 for open-end generation.\n",
      "  0%|          | 0/3 [00:00<?, ?it/s]Setting `pad_token_id` to `eos_token_id`:2 for open-end generation.\n",
      "Setting `pad_token_id` to `eos_token_id`:2 for open-end generation.\n",
      "Setting `pad_token_id` to `eos_token_id`:2 for open-end generation.\n",
      "100%|██████████| 3/3 [00:05<00:00,  1.71s/it]\n",
      "Setting `pad_token_id` to `eos_token_id`:2 for open-end generation.\n",
      "  0%|          | 0/1 [00:00<?, ?it/s]Setting `pad_token_id` to `eos_token_id`:2 for open-end generation.\n",
      "100%|██████████| 1/1 [00:03<00:00,  3.02s/it]\n",
      "Setting `pad_token_id` to `eos_token_id`:2 for open-end generation.\n",
      "  0%|          | 0/3 [00:00<?, ?it/s]Setting `pad_token_id` to `eos_token_id`:2 for open-end generation.\n",
      "Setting `pad_token_id` to `eos_token_id`:2 for open-end generation.\n",
      "Setting `pad_token_id` to `eos_token_id`:2 for open-end generation.\n",
      "100%|██████████| 3/3 [00:05<00:00,  2.00s/it]\n",
      "Setting `pad_token_id` to `eos_token_id`:2 for open-end generation.\n",
      "  0%|          | 0/2 [00:00<?, ?it/s]Setting `pad_token_id` to `eos_token_id`:2 for open-end generation.\n",
      "Setting `pad_token_id` to `eos_token_id`:2 for open-end generation.\n",
      "100%|██████████| 2/2 [00:03<00:00,  1.89s/it]\n",
      "Setting `pad_token_id` to `eos_token_id`:2 for open-end generation.\n",
      "  0%|          | 0/2 [00:00<?, ?it/s]Setting `pad_token_id` to `eos_token_id`:2 for open-end generation.\n",
      "Setting `pad_token_id` to `eos_token_id`:2 for open-end generation.\n",
      "100%|██████████| 2/2 [00:04<00:00,  2.40s/it]\n",
      "Setting `pad_token_id` to `eos_token_id`:2 for open-end generation.\n",
      "  0%|          | 0/3 [00:00<?, ?it/s]Setting `pad_token_id` to `eos_token_id`:2 for open-end generation.\n",
      "Setting `pad_token_id` to `eos_token_id`:2 for open-end generation.\n",
      "Setting `pad_token_id` to `eos_token_id`:2 for open-end generation.\n",
      "100%|██████████| 3/3 [00:04<00:00,  1.62s/it]\n",
      "Setting `pad_token_id` to `eos_token_id`:2 for open-end generation.\n",
      "  0%|          | 0/3 [00:00<?, ?it/s]Setting `pad_token_id` to `eos_token_id`:2 for open-end generation.\n",
      "Setting `pad_token_id` to `eos_token_id`:2 for open-end generation.\n",
      "Setting `pad_token_id` to `eos_token_id`:2 for open-end generation.\n",
      "100%|██████████| 3/3 [00:05<00:00,  1.77s/it]\n",
      "Setting `pad_token_id` to `eos_token_id`:2 for open-end generation.\n",
      "  0%|          | 0/2 [00:00<?, ?it/s]Setting `pad_token_id` to `eos_token_id`:2 for open-end generation.\n",
      "Setting `pad_token_id` to `eos_token_id`:2 for open-end generation.\n",
      "100%|██████████| 2/2 [00:03<00:00,  1.99s/it]\n",
      "Setting `pad_token_id` to `eos_token_id`:2 for open-end generation.\n",
      "  0%|          | 0/3 [00:00<?, ?it/s]Setting `pad_token_id` to `eos_token_id`:2 for open-end generation.\n",
      "Setting `pad_token_id` to `eos_token_id`:2 for open-end generation.\n",
      "Setting `pad_token_id` to `eos_token_id`:2 for open-end generation.\n",
      "100%|██████████| 3/3 [00:06<00:00,  2.04s/it]\n",
      "Setting `pad_token_id` to `eos_token_id`:2 for open-end generation.\n",
      "  0%|          | 0/2 [00:00<?, ?it/s]Setting `pad_token_id` to `eos_token_id`:2 for open-end generation.\n",
      "Setting `pad_token_id` to `eos_token_id`:2 for open-end generation.\n",
      "100%|██████████| 2/2 [00:03<00:00,  1.56s/it]\n",
      "Setting `pad_token_id` to `eos_token_id`:2 for open-end generation.\n",
      "  0%|          | 0/2 [00:00<?, ?it/s]Setting `pad_token_id` to `eos_token_id`:2 for open-end generation.\n",
      "Setting `pad_token_id` to `eos_token_id`:2 for open-end generation.\n",
      "100%|██████████| 2/2 [00:03<00:00,  1.67s/it]\n",
      "Setting `pad_token_id` to `eos_token_id`:2 for open-end generation.\n",
      "  0%|          | 0/1 [00:00<?, ?it/s]Setting `pad_token_id` to `eos_token_id`:2 for open-end generation.\n",
      "100%|██████████| 1/1 [00:01<00:00,  1.37s/it]\n",
      "Setting `pad_token_id` to `eos_token_id`:2 for open-end generation.\n",
      "  0%|          | 0/3 [00:00<?, ?it/s]Setting `pad_token_id` to `eos_token_id`:2 for open-end generation.\n",
      "Setting `pad_token_id` to `eos_token_id`:2 for open-end generation.\n",
      "Setting `pad_token_id` to `eos_token_id`:2 for open-end generation.\n",
      "100%|██████████| 3/3 [00:05<00:00,  1.68s/it]\n",
      "Setting `pad_token_id` to `eos_token_id`:2 for open-end generation.\n",
      "  0%|          | 0/3 [00:00<?, ?it/s]Setting `pad_token_id` to `eos_token_id`:2 for open-end generation.\n",
      "Setting `pad_token_id` to `eos_token_id`:2 for open-end generation.\n",
      "Setting `pad_token_id` to `eos_token_id`:2 for open-end generation.\n",
      "100%|██████████| 3/3 [00:04<00:00,  1.64s/it]\n",
      "Setting `pad_token_id` to `eos_token_id`:2 for open-end generation.\n",
      "  0%|          | 0/2 [00:00<?, ?it/s]Setting `pad_token_id` to `eos_token_id`:2 for open-end generation.\n",
      "Setting `pad_token_id` to `eos_token_id`:2 for open-end generation.\n",
      "100%|██████████| 2/2 [00:04<00:00,  2.03s/it]\n",
      "Setting `pad_token_id` to `eos_token_id`:2 for open-end generation.\n",
      "  0%|          | 0/3 [00:00<?, ?it/s]Setting `pad_token_id` to `eos_token_id`:2 for open-end generation.\n",
      "Setting `pad_token_id` to `eos_token_id`:2 for open-end generation.\n",
      "Setting `pad_token_id` to `eos_token_id`:2 for open-end generation.\n",
      "100%|██████████| 3/3 [00:05<00:00,  1.94s/it]\n",
      "Setting `pad_token_id` to `eos_token_id`:2 for open-end generation.\n",
      "  0%|          | 0/3 [00:00<?, ?it/s]Setting `pad_token_id` to `eos_token_id`:2 for open-end generation.\n",
      "Setting `pad_token_id` to `eos_token_id`:2 for open-end generation.\n",
      "Setting `pad_token_id` to `eos_token_id`:2 for open-end generation.\n",
      "100%|██████████| 3/3 [00:04<00:00,  1.63s/it]\n",
      "Setting `pad_token_id` to `eos_token_id`:2 for open-end generation.\n",
      "  0%|          | 0/3 [00:00<?, ?it/s]Setting `pad_token_id` to `eos_token_id`:2 for open-end generation.\n",
      "Setting `pad_token_id` to `eos_token_id`:2 for open-end generation.\n",
      "Setting `pad_token_id` to `eos_token_id`:2 for open-end generation.\n",
      "100%|██████████| 3/3 [00:05<00:00,  1.72s/it]\n",
      "Setting `pad_token_id` to `eos_token_id`:2 for open-end generation.\n",
      "  0%|          | 0/2 [00:00<?, ?it/s]Setting `pad_token_id` to `eos_token_id`:2 for open-end generation.\n",
      "Setting `pad_token_id` to `eos_token_id`:2 for open-end generation.\n",
      "100%|██████████| 2/2 [00:04<00:00,  2.22s/it]\n",
      "Setting `pad_token_id` to `eos_token_id`:2 for open-end generation.\n",
      "  0%|          | 0/3 [00:00<?, ?it/s]Setting `pad_token_id` to `eos_token_id`:2 for open-end generation.\n",
      "Setting `pad_token_id` to `eos_token_id`:2 for open-end generation.\n",
      "Setting `pad_token_id` to `eos_token_id`:2 for open-end generation.\n",
      "100%|██████████| 3/3 [00:09<00:00,  3.27s/it]\n",
      "Setting `pad_token_id` to `eos_token_id`:2 for open-end generation.\n",
      "  0%|          | 0/3 [00:00<?, ?it/s]Setting `pad_token_id` to `eos_token_id`:2 for open-end generation.\n",
      "Setting `pad_token_id` to `eos_token_id`:2 for open-end generation.\n",
      "Setting `pad_token_id` to `eos_token_id`:2 for open-end generation.\n",
      "100%|██████████| 3/3 [00:05<00:00,  1.70s/it]\n",
      "Setting `pad_token_id` to `eos_token_id`:2 for open-end generation.\n",
      "  0%|          | 0/2 [00:00<?, ?it/s]Setting `pad_token_id` to `eos_token_id`:2 for open-end generation.\n",
      "Setting `pad_token_id` to `eos_token_id`:2 for open-end generation.\n",
      "100%|██████████| 2/2 [00:07<00:00,  3.71s/it]\n",
      "Setting `pad_token_id` to `eos_token_id`:2 for open-end generation.\n",
      "  0%|          | 0/3 [00:00<?, ?it/s]Setting `pad_token_id` to `eos_token_id`:2 for open-end generation.\n",
      "Setting `pad_token_id` to `eos_token_id`:2 for open-end generation.\n",
      "Setting `pad_token_id` to `eos_token_id`:2 for open-end generation.\n",
      "100%|██████████| 3/3 [00:05<00:00,  1.84s/it]\n",
      "Setting `pad_token_id` to `eos_token_id`:2 for open-end generation.\n",
      "  0%|          | 0/3 [00:00<?, ?it/s]Setting `pad_token_id` to `eos_token_id`:2 for open-end generation.\n",
      "Setting `pad_token_id` to `eos_token_id`:2 for open-end generation.\n",
      "Setting `pad_token_id` to `eos_token_id`:2 for open-end generation.\n",
      "100%|██████████| 3/3 [00:04<00:00,  1.52s/it]\n",
      "Setting `pad_token_id` to `eos_token_id`:2 for open-end generation.\n",
      "  0%|          | 0/2 [00:00<?, ?it/s]Setting `pad_token_id` to `eos_token_id`:2 for open-end generation.\n",
      "Setting `pad_token_id` to `eos_token_id`:2 for open-end generation.\n",
      "100%|██████████| 2/2 [00:03<00:00,  1.60s/it]\n",
      "Setting `pad_token_id` to `eos_token_id`:2 for open-end generation.\n",
      "  0%|          | 0/2 [00:00<?, ?it/s]Setting `pad_token_id` to `eos_token_id`:2 for open-end generation.\n",
      "Setting `pad_token_id` to `eos_token_id`:2 for open-end generation.\n",
      "100%|██████████| 2/2 [00:03<00:00,  1.87s/it]\n",
      "Setting `pad_token_id` to `eos_token_id`:2 for open-end generation.\n",
      "  0%|          | 0/2 [00:00<?, ?it/s]Setting `pad_token_id` to `eos_token_id`:2 for open-end generation.\n",
      "Setting `pad_token_id` to `eos_token_id`:2 for open-end generation.\n",
      "100%|██████████| 2/2 [00:03<00:00,  1.53s/it]\n",
      "Setting `pad_token_id` to `eos_token_id`:2 for open-end generation.\n",
      "  0%|          | 0/3 [00:00<?, ?it/s]Setting `pad_token_id` to `eos_token_id`:2 for open-end generation.\n",
      "Setting `pad_token_id` to `eos_token_id`:2 for open-end generation.\n",
      "Setting `pad_token_id` to `eos_token_id`:2 for open-end generation.\n",
      "100%|██████████| 3/3 [00:07<00:00,  2.46s/it]\n",
      "Setting `pad_token_id` to `eos_token_id`:2 for open-end generation.\n",
      "  0%|          | 0/2 [00:00<?, ?it/s]Setting `pad_token_id` to `eos_token_id`:2 for open-end generation.\n",
      "Setting `pad_token_id` to `eos_token_id`:2 for open-end generation.\n",
      "100%|██████████| 2/2 [00:04<00:00,  2.17s/it]\n",
      "Setting `pad_token_id` to `eos_token_id`:2 for open-end generation.\n",
      "  0%|          | 0/3 [00:00<?, ?it/s]Setting `pad_token_id` to `eos_token_id`:2 for open-end generation.\n",
      "Setting `pad_token_id` to `eos_token_id`:2 for open-end generation.\n",
      "Setting `pad_token_id` to `eos_token_id`:2 for open-end generation.\n",
      "100%|██████████| 3/3 [00:05<00:00,  1.89s/it]\n",
      "Setting `pad_token_id` to `eos_token_id`:2 for open-end generation.\n",
      "  0%|          | 0/1 [00:00<?, ?it/s]Setting `pad_token_id` to `eos_token_id`:2 for open-end generation.\n",
      "100%|██████████| 1/1 [00:01<00:00,  1.55s/it]\n",
      "Setting `pad_token_id` to `eos_token_id`:2 for open-end generation.\n",
      "  0%|          | 0/3 [00:00<?, ?it/s]Setting `pad_token_id` to `eos_token_id`:2 for open-end generation.\n",
      "Setting `pad_token_id` to `eos_token_id`:2 for open-end generation.\n",
      "Setting `pad_token_id` to `eos_token_id`:2 for open-end generation.\n",
      "100%|██████████| 3/3 [00:05<00:00,  1.99s/it]\n",
      "Setting `pad_token_id` to `eos_token_id`:2 for open-end generation.\n",
      "  0%|          | 0/2 [00:00<?, ?it/s]Setting `pad_token_id` to `eos_token_id`:2 for open-end generation.\n",
      "Setting `pad_token_id` to `eos_token_id`:2 for open-end generation.\n",
      "100%|██████████| 2/2 [00:04<00:00,  2.17s/it]\n",
      "Setting `pad_token_id` to `eos_token_id`:2 for open-end generation.\n",
      "  0%|          | 0/2 [00:00<?, ?it/s]Setting `pad_token_id` to `eos_token_id`:2 for open-end generation.\n",
      "Setting `pad_token_id` to `eos_token_id`:2 for open-end generation.\n",
      "100%|██████████| 2/2 [00:04<00:00,  2.24s/it]\n",
      "Setting `pad_token_id` to `eos_token_id`:2 for open-end generation.\n",
      "  0%|          | 0/2 [00:00<?, ?it/s]Setting `pad_token_id` to `eos_token_id`:2 for open-end generation.\n",
      "Setting `pad_token_id` to `eos_token_id`:2 for open-end generation.\n",
      "100%|██████████| 2/2 [00:02<00:00,  1.46s/it]\n",
      "Setting `pad_token_id` to `eos_token_id`:2 for open-end generation.\n",
      "  0%|          | 0/1 [00:00<?, ?it/s]Setting `pad_token_id` to `eos_token_id`:2 for open-end generation.\n",
      "100%|██████████| 1/1 [00:01<00:00,  1.65s/it]\n",
      "Setting `pad_token_id` to `eos_token_id`:2 for open-end generation.\n",
      "  0%|          | 0/2 [00:00<?, ?it/s]Setting `pad_token_id` to `eos_token_id`:2 for open-end generation.\n",
      "Setting `pad_token_id` to `eos_token_id`:2 for open-end generation.\n",
      "100%|██████████| 2/2 [00:05<00:00,  2.55s/it]\n",
      "Setting `pad_token_id` to `eos_token_id`:2 for open-end generation.\n",
      "  0%|          | 0/3 [00:00<?, ?it/s]Setting `pad_token_id` to `eos_token_id`:2 for open-end generation.\n",
      "Setting `pad_token_id` to `eos_token_id`:2 for open-end generation.\n",
      "Setting `pad_token_id` to `eos_token_id`:2 for open-end generation.\n",
      "100%|██████████| 3/3 [00:05<00:00,  1.96s/it]\n",
      "Setting `pad_token_id` to `eos_token_id`:2 for open-end generation.\n",
      "  0%|          | 0/1 [00:00<?, ?it/s]Setting `pad_token_id` to `eos_token_id`:2 for open-end generation.\n",
      "100%|██████████| 1/1 [00:01<00:00,  1.72s/it]\n",
      "Setting `pad_token_id` to `eos_token_id`:2 for open-end generation.\n",
      "  0%|          | 0/2 [00:00<?, ?it/s]Setting `pad_token_id` to `eos_token_id`:2 for open-end generation.\n",
      "Setting `pad_token_id` to `eos_token_id`:2 for open-end generation.\n",
      "100%|██████████| 2/2 [00:03<00:00,  1.84s/it]\n",
      "Setting `pad_token_id` to `eos_token_id`:2 for open-end generation.\n",
      "  0%|          | 0/1 [00:00<?, ?it/s]Setting `pad_token_id` to `eos_token_id`:2 for open-end generation.\n",
      "100%|██████████| 1/1 [00:01<00:00,  1.83s/it]\n",
      "Setting `pad_token_id` to `eos_token_id`:2 for open-end generation.\n",
      "  0%|          | 0/3 [00:00<?, ?it/s]Setting `pad_token_id` to `eos_token_id`:2 for open-end generation.\n",
      "Setting `pad_token_id` to `eos_token_id`:2 for open-end generation.\n",
      "Setting `pad_token_id` to `eos_token_id`:2 for open-end generation.\n",
      "100%|██████████| 3/3 [00:06<00:00,  2.02s/it]\n",
      "Setting `pad_token_id` to `eos_token_id`:2 for open-end generation.\n",
      "  0%|          | 0/2 [00:00<?, ?it/s]Setting `pad_token_id` to `eos_token_id`:2 for open-end generation.\n",
      "Setting `pad_token_id` to `eos_token_id`:2 for open-end generation.\n",
      "100%|██████████| 2/2 [00:03<00:00,  2.00s/it]\n",
      "Setting `pad_token_id` to `eos_token_id`:2 for open-end generation.\n",
      "  0%|          | 0/2 [00:00<?, ?it/s]Setting `pad_token_id` to `eos_token_id`:2 for open-end generation.\n",
      "Setting `pad_token_id` to `eos_token_id`:2 for open-end generation.\n",
      "100%|██████████| 2/2 [00:03<00:00,  1.71s/it]\n",
      "Setting `pad_token_id` to `eos_token_id`:2 for open-end generation.\n",
      "  0%|          | 0/2 [00:00<?, ?it/s]Setting `pad_token_id` to `eos_token_id`:2 for open-end generation.\n",
      "Setting `pad_token_id` to `eos_token_id`:2 for open-end generation.\n",
      "100%|██████████| 2/2 [00:03<00:00,  1.89s/it]\n",
      "Setting `pad_token_id` to `eos_token_id`:2 for open-end generation.\n",
      "  0%|          | 0/3 [00:00<?, ?it/s]Setting `pad_token_id` to `eos_token_id`:2 for open-end generation.\n",
      "Setting `pad_token_id` to `eos_token_id`:2 for open-end generation.\n",
      "Setting `pad_token_id` to `eos_token_id`:2 for open-end generation.\n",
      "100%|██████████| 3/3 [00:05<00:00,  1.89s/it]\n",
      "Setting `pad_token_id` to `eos_token_id`:2 for open-end generation.\n",
      "  0%|          | 0/2 [00:00<?, ?it/s]Setting `pad_token_id` to `eos_token_id`:2 for open-end generation.\n",
      "Setting `pad_token_id` to `eos_token_id`:2 for open-end generation.\n",
      "100%|██████████| 2/2 [00:03<00:00,  1.59s/it]\n",
      "Setting `pad_token_id` to `eos_token_id`:2 for open-end generation.\n",
      "  0%|          | 0/1 [00:00<?, ?it/s]Setting `pad_token_id` to `eos_token_id`:2 for open-end generation.\n",
      "100%|██████████| 1/1 [00:01<00:00,  1.48s/it]\n",
      "Setting `pad_token_id` to `eos_token_id`:2 for open-end generation.\n",
      "  0%|          | 0/1 [00:00<?, ?it/s]Setting `pad_token_id` to `eos_token_id`:2 for open-end generation.\n",
      "100%|██████████| 1/1 [00:01<00:00,  1.57s/it]\n",
      "Setting `pad_token_id` to `eos_token_id`:2 for open-end generation.\n",
      "  0%|          | 0/2 [00:00<?, ?it/s]Setting `pad_token_id` to `eos_token_id`:2 for open-end generation.\n",
      "Setting `pad_token_id` to `eos_token_id`:2 for open-end generation.\n",
      "100%|██████████| 2/2 [00:03<00:00,  1.90s/it]\n",
      "Setting `pad_token_id` to `eos_token_id`:2 for open-end generation.\n",
      "  0%|          | 0/1 [00:00<?, ?it/s]Setting `pad_token_id` to `eos_token_id`:2 for open-end generation.\n",
      "100%|██████████| 1/1 [00:01<00:00,  1.51s/it]\n",
      "Setting `pad_token_id` to `eos_token_id`:2 for open-end generation.\n",
      "  0%|          | 0/2 [00:00<?, ?it/s]Setting `pad_token_id` to `eos_token_id`:2 for open-end generation.\n",
      "Setting `pad_token_id` to `eos_token_id`:2 for open-end generation.\n",
      "100%|██████████| 2/2 [00:03<00:00,  1.72s/it]\n",
      "Setting `pad_token_id` to `eos_token_id`:2 for open-end generation.\n",
      "  0%|          | 0/1 [00:00<?, ?it/s]Setting `pad_token_id` to `eos_token_id`:2 for open-end generation.\n",
      "100%|██████████| 1/1 [00:02<00:00,  2.01s/it]\n",
      "Setting `pad_token_id` to `eos_token_id`:2 for open-end generation.\n",
      "  0%|          | 0/3 [00:00<?, ?it/s]Setting `pad_token_id` to `eos_token_id`:2 for open-end generation.\n",
      "Setting `pad_token_id` to `eos_token_id`:2 for open-end generation.\n",
      "Setting `pad_token_id` to `eos_token_id`:2 for open-end generation.\n",
      "100%|██████████| 3/3 [00:05<00:00,  1.83s/it]\n",
      "Setting `pad_token_id` to `eos_token_id`:2 for open-end generation.\n",
      "  0%|          | 0/2 [00:00<?, ?it/s]Setting `pad_token_id` to `eos_token_id`:2 for open-end generation.\n",
      "Setting `pad_token_id` to `eos_token_id`:2 for open-end generation.\n",
      "100%|██████████| 2/2 [00:03<00:00,  1.65s/it]\n",
      "Setting `pad_token_id` to `eos_token_id`:2 for open-end generation.\n",
      "  0%|          | 0/1 [00:00<?, ?it/s]Setting `pad_token_id` to `eos_token_id`:2 for open-end generation.\n",
      "100%|██████████| 1/1 [00:01<00:00,  1.46s/it]\n",
      "Setting `pad_token_id` to `eos_token_id`:2 for open-end generation.\n",
      "  0%|          | 0/4 [00:00<?, ?it/s]Setting `pad_token_id` to `eos_token_id`:2 for open-end generation.\n",
      "Setting `pad_token_id` to `eos_token_id`:2 for open-end generation.\n",
      "Setting `pad_token_id` to `eos_token_id`:2 for open-end generation.\n",
      "Setting `pad_token_id` to `eos_token_id`:2 for open-end generation.\n",
      "100%|██████████| 4/4 [00:08<00:00,  2.22s/it]\n",
      "Setting `pad_token_id` to `eos_token_id`:2 for open-end generation.\n",
      "  0%|          | 0/3 [00:00<?, ?it/s]Setting `pad_token_id` to `eos_token_id`:2 for open-end generation.\n",
      "Setting `pad_token_id` to `eos_token_id`:2 for open-end generation.\n",
      "Setting `pad_token_id` to `eos_token_id`:2 for open-end generation.\n",
      "100%|██████████| 3/3 [00:05<00:00,  1.77s/it]\n",
      "Setting `pad_token_id` to `eos_token_id`:2 for open-end generation.\n",
      "  0%|          | 0/2 [00:00<?, ?it/s]Setting `pad_token_id` to `eos_token_id`:2 for open-end generation.\n",
      "Setting `pad_token_id` to `eos_token_id`:2 for open-end generation.\n",
      "100%|██████████| 2/2 [00:03<00:00,  1.76s/it]\n",
      "Setting `pad_token_id` to `eos_token_id`:2 for open-end generation.\n",
      "  0%|          | 0/3 [00:00<?, ?it/s]Setting `pad_token_id` to `eos_token_id`:2 for open-end generation.\n",
      "Setting `pad_token_id` to `eos_token_id`:2 for open-end generation.\n",
      "Setting `pad_token_id` to `eos_token_id`:2 for open-end generation.\n",
      "100%|██████████| 3/3 [00:04<00:00,  1.64s/it]\n",
      "Setting `pad_token_id` to `eos_token_id`:2 for open-end generation.\n",
      "  0%|          | 0/3 [00:00<?, ?it/s]Setting `pad_token_id` to `eos_token_id`:2 for open-end generation.\n",
      "Setting `pad_token_id` to `eos_token_id`:2 for open-end generation.\n",
      "Setting `pad_token_id` to `eos_token_id`:2 for open-end generation.\n",
      "100%|██████████| 3/3 [00:04<00:00,  1.61s/it]\n",
      "Setting `pad_token_id` to `eos_token_id`:2 for open-end generation.\n",
      "  0%|          | 0/2 [00:00<?, ?it/s]Setting `pad_token_id` to `eos_token_id`:2 for open-end generation.\n",
      "Setting `pad_token_id` to `eos_token_id`:2 for open-end generation.\n",
      "100%|██████████| 2/2 [00:03<00:00,  1.66s/it]\n",
      "Setting `pad_token_id` to `eos_token_id`:2 for open-end generation.\n",
      "  0%|          | 0/2 [00:00<?, ?it/s]Setting `pad_token_id` to `eos_token_id`:2 for open-end generation.\n",
      "Setting `pad_token_id` to `eos_token_id`:2 for open-end generation.\n",
      "100%|██████████| 2/2 [00:10<00:00,  5.05s/it]\n",
      "Setting `pad_token_id` to `eos_token_id`:2 for open-end generation.\n",
      "  0%|          | 0/4 [00:00<?, ?it/s]Setting `pad_token_id` to `eos_token_id`:2 for open-end generation.\n",
      "Setting `pad_token_id` to `eos_token_id`:2 for open-end generation.\n",
      "Setting `pad_token_id` to `eos_token_id`:2 for open-end generation.\n",
      "Setting `pad_token_id` to `eos_token_id`:2 for open-end generation.\n",
      "100%|██████████| 4/4 [00:08<00:00,  2.15s/it]\n",
      "Setting `pad_token_id` to `eos_token_id`:2 for open-end generation.\n",
      "  0%|          | 0/2 [00:00<?, ?it/s]Setting `pad_token_id` to `eos_token_id`:2 for open-end generation.\n",
      "Setting `pad_token_id` to `eos_token_id`:2 for open-end generation.\n",
      "100%|██████████| 2/2 [00:04<00:00,  2.06s/it]\n",
      "Setting `pad_token_id` to `eos_token_id`:2 for open-end generation.\n",
      "  0%|          | 0/267 [00:00<?, ?it/s]Setting `pad_token_id` to `eos_token_id`:2 for open-end generation.\n",
      "Setting `pad_token_id` to `eos_token_id`:2 for open-end generation.\n",
      "Setting `pad_token_id` to `eos_token_id`:2 for open-end generation.\n",
      "Setting `pad_token_id` to `eos_token_id`:2 for open-end generation.\n",
      "Setting `pad_token_id` to `eos_token_id`:2 for open-end generation.\n",
      "Setting `pad_token_id` to `eos_token_id`:2 for open-end generation.\n",
      "Setting `pad_token_id` to `eos_token_id`:2 for open-end generation.\n",
      "Setting `pad_token_id` to `eos_token_id`:2 for open-end generation.\n",
      "Setting `pad_token_id` to `eos_token_id`:2 for open-end generation.\n",
      "Setting `pad_token_id` to `eos_token_id`:2 for open-end generation.\n",
      "Setting `pad_token_id` to `eos_token_id`:2 for open-end generation.\n",
      "Setting `pad_token_id` to `eos_token_id`:2 for open-end generation.\n",
      "Setting `pad_token_id` to `eos_token_id`:2 for open-end generation.\n",
      "Setting `pad_token_id` to `eos_token_id`:2 for open-end generation.\n",
      "Setting `pad_token_id` to `eos_token_id`:2 for open-end generation.\n",
      "Setting `pad_token_id` to `eos_token_id`:2 for open-end generation.\n",
      "Setting `pad_token_id` to `eos_token_id`:2 for open-end generation.\n",
      "Setting `pad_token_id` to `eos_token_id`:2 for open-end generation.\n",
      "Setting `pad_token_id` to `eos_token_id`:2 for open-end generation.\n",
      "Setting `pad_token_id` to `eos_token_id`:2 for open-end generation.\n",
      "Setting `pad_token_id` to `eos_token_id`:2 for open-end generation.\n",
      "Setting `pad_token_id` to `eos_token_id`:2 for open-end generation.\n",
      "Setting `pad_token_id` to `eos_token_id`:2 for open-end generation.\n",
      "Setting `pad_token_id` to `eos_token_id`:2 for open-end generation.\n",
      "Setting `pad_token_id` to `eos_token_id`:2 for open-end generation.\n",
      "Setting `pad_token_id` to `eos_token_id`:2 for open-end generation.\n",
      "Setting `pad_token_id` to `eos_token_id`:2 for open-end generation.\n",
      "Setting `pad_token_id` to `eos_token_id`:2 for open-end generation.\n",
      "Setting `pad_token_id` to `eos_token_id`:2 for open-end generation.\n",
      "Setting `pad_token_id` to `eos_token_id`:2 for open-end generation.\n",
      "Setting `pad_token_id` to `eos_token_id`:2 for open-end generation.\n",
      "Setting `pad_token_id` to `eos_token_id`:2 for open-end generation.\n",
      "Setting `pad_token_id` to `eos_token_id`:2 for open-end generation.\n",
      "Setting `pad_token_id` to `eos_token_id`:2 for open-end generation.\n",
      "Setting `pad_token_id` to `eos_token_id`:2 for open-end generation.\n",
      "Setting `pad_token_id` to `eos_token_id`:2 for open-end generation.\n",
      "Setting `pad_token_id` to `eos_token_id`:2 for open-end generation.\n",
      "Setting `pad_token_id` to `eos_token_id`:2 for open-end generation.\n",
      "Setting `pad_token_id` to `eos_token_id`:2 for open-end generation.\n",
      "Setting `pad_token_id` to `eos_token_id`:2 for open-end generation.\n",
      "Setting `pad_token_id` to `eos_token_id`:2 for open-end generation.\n",
      "Setting `pad_token_id` to `eos_token_id`:2 for open-end generation.\n",
      "Setting `pad_token_id` to `eos_token_id`:2 for open-end generation.\n",
      "Setting `pad_token_id` to `eos_token_id`:2 for open-end generation.\n",
      "Setting `pad_token_id` to `eos_token_id`:2 for open-end generation.\n",
      "Setting `pad_token_id` to `eos_token_id`:2 for open-end generation.\n",
      "Setting `pad_token_id` to `eos_token_id`:2 for open-end generation.\n",
      "Setting `pad_token_id` to `eos_token_id`:2 for open-end generation.\n",
      "Setting `pad_token_id` to `eos_token_id`:2 for open-end generation.\n",
      "Setting `pad_token_id` to `eos_token_id`:2 for open-end generation.\n",
      "Setting `pad_token_id` to `eos_token_id`:2 for open-end generation.\n",
      "Setting `pad_token_id` to `eos_token_id`:2 for open-end generation.\n",
      "Setting `pad_token_id` to `eos_token_id`:2 for open-end generation.\n",
      "Setting `pad_token_id` to `eos_token_id`:2 for open-end generation.\n",
      "Setting `pad_token_id` to `eos_token_id`:2 for open-end generation.\n",
      "Setting `pad_token_id` to `eos_token_id`:2 for open-end generation.\n",
      "Setting `pad_token_id` to `eos_token_id`:2 for open-end generation.\n",
      "Setting `pad_token_id` to `eos_token_id`:2 for open-end generation.\n",
      "Setting `pad_token_id` to `eos_token_id`:2 for open-end generation.\n",
      "Setting `pad_token_id` to `eos_token_id`:2 for open-end generation.\n",
      "Setting `pad_token_id` to `eos_token_id`:2 for open-end generation.\n",
      "Setting `pad_token_id` to `eos_token_id`:2 for open-end generation.\n",
      "Setting `pad_token_id` to `eos_token_id`:2 for open-end generation.\n",
      "Setting `pad_token_id` to `eos_token_id`:2 for open-end generation.\n",
      "Setting `pad_token_id` to `eos_token_id`:2 for open-end generation.\n",
      "Setting `pad_token_id` to `eos_token_id`:2 for open-end generation.\n",
      "Setting `pad_token_id` to `eos_token_id`:2 for open-end generation.\n",
      "Setting `pad_token_id` to `eos_token_id`:2 for open-end generation.\n",
      "Setting `pad_token_id` to `eos_token_id`:2 for open-end generation.\n",
      "Setting `pad_token_id` to `eos_token_id`:2 for open-end generation.\n",
      "Setting `pad_token_id` to `eos_token_id`:2 for open-end generation.\n",
      "Setting `pad_token_id` to `eos_token_id`:2 for open-end generation.\n",
      "Setting `pad_token_id` to `eos_token_id`:2 for open-end generation.\n",
      "Setting `pad_token_id` to `eos_token_id`:2 for open-end generation.\n",
      "Setting `pad_token_id` to `eos_token_id`:2 for open-end generation.\n",
      "Setting `pad_token_id` to `eos_token_id`:2 for open-end generation.\n",
      "Setting `pad_token_id` to `eos_token_id`:2 for open-end generation.\n",
      "Setting `pad_token_id` to `eos_token_id`:2 for open-end generation.\n",
      "Setting `pad_token_id` to `eos_token_id`:2 for open-end generation.\n",
      "Setting `pad_token_id` to `eos_token_id`:2 for open-end generation.\n",
      "Setting `pad_token_id` to `eos_token_id`:2 for open-end generation.\n",
      "Setting `pad_token_id` to `eos_token_id`:2 for open-end generation.\n",
      "Setting `pad_token_id` to `eos_token_id`:2 for open-end generation.\n",
      "Setting `pad_token_id` to `eos_token_id`:2 for open-end generation.\n",
      "Setting `pad_token_id` to `eos_token_id`:2 for open-end generation.\n",
      "Setting `pad_token_id` to `eos_token_id`:2 for open-end generation.\n",
      "Setting `pad_token_id` to `eos_token_id`:2 for open-end generation.\n",
      "Setting `pad_token_id` to `eos_token_id`:2 for open-end generation.\n",
      "Setting `pad_token_id` to `eos_token_id`:2 for open-end generation.\n",
      "Setting `pad_token_id` to `eos_token_id`:2 for open-end generation.\n",
      "Setting `pad_token_id` to `eos_token_id`:2 for open-end generation.\n",
      "Setting `pad_token_id` to `eos_token_id`:2 for open-end generation.\n",
      "Setting `pad_token_id` to `eos_token_id`:2 for open-end generation.\n",
      "Setting `pad_token_id` to `eos_token_id`:2 for open-end generation.\n",
      "Setting `pad_token_id` to `eos_token_id`:2 for open-end generation.\n",
      "Setting `pad_token_id` to `eos_token_id`:2 for open-end generation.\n",
      "Setting `pad_token_id` to `eos_token_id`:2 for open-end generation.\n",
      "Setting `pad_token_id` to `eos_token_id`:2 for open-end generation.\n",
      "Setting `pad_token_id` to `eos_token_id`:2 for open-end generation.\n",
      "Setting `pad_token_id` to `eos_token_id`:2 for open-end generation.\n",
      "Setting `pad_token_id` to `eos_token_id`:2 for open-end generation.\n",
      "Setting `pad_token_id` to `eos_token_id`:2 for open-end generation.\n",
      "Setting `pad_token_id` to `eos_token_id`:2 for open-end generation.\n",
      "Setting `pad_token_id` to `eos_token_id`:2 for open-end generation.\n",
      "Setting `pad_token_id` to `eos_token_id`:2 for open-end generation.\n",
      "Setting `pad_token_id` to `eos_token_id`:2 for open-end generation.\n",
      "Setting `pad_token_id` to `eos_token_id`:2 for open-end generation.\n",
      "Setting `pad_token_id` to `eos_token_id`:2 for open-end generation.\n",
      "Setting `pad_token_id` to `eos_token_id`:2 for open-end generation.\n",
      "Setting `pad_token_id` to `eos_token_id`:2 for open-end generation.\n",
      "Setting `pad_token_id` to `eos_token_id`:2 for open-end generation.\n",
      "Setting `pad_token_id` to `eos_token_id`:2 for open-end generation.\n",
      "Setting `pad_token_id` to `eos_token_id`:2 for open-end generation.\n",
      "Setting `pad_token_id` to `eos_token_id`:2 for open-end generation.\n",
      "Setting `pad_token_id` to `eos_token_id`:2 for open-end generation.\n",
      "Setting `pad_token_id` to `eos_token_id`:2 for open-end generation.\n",
      "Setting `pad_token_id` to `eos_token_id`:2 for open-end generation.\n",
      "Setting `pad_token_id` to `eos_token_id`:2 for open-end generation.\n",
      "Setting `pad_token_id` to `eos_token_id`:2 for open-end generation.\n",
      "Setting `pad_token_id` to `eos_token_id`:2 for open-end generation.\n",
      "Setting `pad_token_id` to `eos_token_id`:2 for open-end generation.\n",
      "Setting `pad_token_id` to `eos_token_id`:2 for open-end generation.\n",
      "Setting `pad_token_id` to `eos_token_id`:2 for open-end generation.\n",
      "Setting `pad_token_id` to `eos_token_id`:2 for open-end generation.\n",
      "Setting `pad_token_id` to `eos_token_id`:2 for open-end generation.\n",
      "Setting `pad_token_id` to `eos_token_id`:2 for open-end generation.\n",
      "Setting `pad_token_id` to `eos_token_id`:2 for open-end generation.\n",
      "Setting `pad_token_id` to `eos_token_id`:2 for open-end generation.\n",
      "Setting `pad_token_id` to `eos_token_id`:2 for open-end generation.\n",
      "Setting `pad_token_id` to `eos_token_id`:2 for open-end generation.\n",
      "Setting `pad_token_id` to `eos_token_id`:2 for open-end generation.\n",
      "Setting `pad_token_id` to `eos_token_id`:2 for open-end generation.\n",
      "Setting `pad_token_id` to `eos_token_id`:2 for open-end generation.\n",
      "Setting `pad_token_id` to `eos_token_id`:2 for open-end generation.\n",
      "Setting `pad_token_id` to `eos_token_id`:2 for open-end generation.\n",
      "Setting `pad_token_id` to `eos_token_id`:2 for open-end generation.\n",
      "Setting `pad_token_id` to `eos_token_id`:2 for open-end generation.\n",
      "Setting `pad_token_id` to `eos_token_id`:2 for open-end generation.\n",
      "Setting `pad_token_id` to `eos_token_id`:2 for open-end generation.\n",
      "Setting `pad_token_id` to `eos_token_id`:2 for open-end generation.\n",
      "Setting `pad_token_id` to `eos_token_id`:2 for open-end generation.\n",
      "Setting `pad_token_id` to `eos_token_id`:2 for open-end generation.\n",
      "Setting `pad_token_id` to `eos_token_id`:2 for open-end generation.\n",
      "Setting `pad_token_id` to `eos_token_id`:2 for open-end generation.\n",
      "Setting `pad_token_id` to `eos_token_id`:2 for open-end generation.\n",
      "Setting `pad_token_id` to `eos_token_id`:2 for open-end generation.\n",
      "Setting `pad_token_id` to `eos_token_id`:2 for open-end generation.\n",
      "Setting `pad_token_id` to `eos_token_id`:2 for open-end generation.\n",
      "Setting `pad_token_id` to `eos_token_id`:2 for open-end generation.\n",
      "Setting `pad_token_id` to `eos_token_id`:2 for open-end generation.\n",
      "Setting `pad_token_id` to `eos_token_id`:2 for open-end generation.\n",
      "Setting `pad_token_id` to `eos_token_id`:2 for open-end generation.\n",
      "Setting `pad_token_id` to `eos_token_id`:2 for open-end generation.\n",
      "Setting `pad_token_id` to `eos_token_id`:2 for open-end generation.\n",
      "Setting `pad_token_id` to `eos_token_id`:2 for open-end generation.\n",
      "Setting `pad_token_id` to `eos_token_id`:2 for open-end generation.\n",
      "Setting `pad_token_id` to `eos_token_id`:2 for open-end generation.\n",
      "Setting `pad_token_id` to `eos_token_id`:2 for open-end generation.\n",
      "Setting `pad_token_id` to `eos_token_id`:2 for open-end generation.\n",
      "Setting `pad_token_id` to `eos_token_id`:2 for open-end generation.\n",
      "Setting `pad_token_id` to `eos_token_id`:2 for open-end generation.\n",
      "Setting `pad_token_id` to `eos_token_id`:2 for open-end generation.\n",
      "Setting `pad_token_id` to `eos_token_id`:2 for open-end generation.\n",
      "Setting `pad_token_id` to `eos_token_id`:2 for open-end generation.\n",
      "Setting `pad_token_id` to `eos_token_id`:2 for open-end generation.\n",
      "Setting `pad_token_id` to `eos_token_id`:2 for open-end generation.\n",
      "Setting `pad_token_id` to `eos_token_id`:2 for open-end generation.\n",
      "Setting `pad_token_id` to `eos_token_id`:2 for open-end generation.\n",
      "Setting `pad_token_id` to `eos_token_id`:2 for open-end generation.\n",
      "Setting `pad_token_id` to `eos_token_id`:2 for open-end generation.\n",
      "Setting `pad_token_id` to `eos_token_id`:2 for open-end generation.\n",
      "Setting `pad_token_id` to `eos_token_id`:2 for open-end generation.\n",
      "Setting `pad_token_id` to `eos_token_id`:2 for open-end generation.\n",
      "Setting `pad_token_id` to `eos_token_id`:2 for open-end generation.\n",
      "Setting `pad_token_id` to `eos_token_id`:2 for open-end generation.\n",
      "Setting `pad_token_id` to `eos_token_id`:2 for open-end generation.\n",
      "Setting `pad_token_id` to `eos_token_id`:2 for open-end generation.\n",
      "Setting `pad_token_id` to `eos_token_id`:2 for open-end generation.\n",
      "Setting `pad_token_id` to `eos_token_id`:2 for open-end generation.\n",
      "Setting `pad_token_id` to `eos_token_id`:2 for open-end generation.\n",
      "Setting `pad_token_id` to `eos_token_id`:2 for open-end generation.\n",
      "Setting `pad_token_id` to `eos_token_id`:2 for open-end generation.\n",
      "Setting `pad_token_id` to `eos_token_id`:2 for open-end generation.\n",
      "Setting `pad_token_id` to `eos_token_id`:2 for open-end generation.\n",
      "Setting `pad_token_id` to `eos_token_id`:2 for open-end generation.\n",
      "Setting `pad_token_id` to `eos_token_id`:2 for open-end generation.\n",
      "Setting `pad_token_id` to `eos_token_id`:2 for open-end generation.\n",
      "Setting `pad_token_id` to `eos_token_id`:2 for open-end generation.\n",
      "Setting `pad_token_id` to `eos_token_id`:2 for open-end generation.\n",
      "Setting `pad_token_id` to `eos_token_id`:2 for open-end generation.\n",
      "Setting `pad_token_id` to `eos_token_id`:2 for open-end generation.\n",
      "Setting `pad_token_id` to `eos_token_id`:2 for open-end generation.\n",
      "Setting `pad_token_id` to `eos_token_id`:2 for open-end generation.\n",
      "Setting `pad_token_id` to `eos_token_id`:2 for open-end generation.\n",
      "Setting `pad_token_id` to `eos_token_id`:2 for open-end generation.\n",
      "Setting `pad_token_id` to `eos_token_id`:2 for open-end generation.\n",
      "Setting `pad_token_id` to `eos_token_id`:2 for open-end generation.\n",
      "Setting `pad_token_id` to `eos_token_id`:2 for open-end generation.\n",
      "Setting `pad_token_id` to `eos_token_id`:2 for open-end generation.\n",
      "Setting `pad_token_id` to `eos_token_id`:2 for open-end generation.\n",
      "Setting `pad_token_id` to `eos_token_id`:2 for open-end generation.\n",
      "Setting `pad_token_id` to `eos_token_id`:2 for open-end generation.\n",
      "Setting `pad_token_id` to `eos_token_id`:2 for open-end generation.\n",
      "Setting `pad_token_id` to `eos_token_id`:2 for open-end generation.\n",
      "Setting `pad_token_id` to `eos_token_id`:2 for open-end generation.\n",
      "Setting `pad_token_id` to `eos_token_id`:2 for open-end generation.\n",
      "Setting `pad_token_id` to `eos_token_id`:2 for open-end generation.\n",
      "Setting `pad_token_id` to `eos_token_id`:2 for open-end generation.\n",
      "Setting `pad_token_id` to `eos_token_id`:2 for open-end generation.\n",
      "Setting `pad_token_id` to `eos_token_id`:2 for open-end generation.\n",
      "Setting `pad_token_id` to `eos_token_id`:2 for open-end generation.\n",
      "Setting `pad_token_id` to `eos_token_id`:2 for open-end generation.\n",
      "Setting `pad_token_id` to `eos_token_id`:2 for open-end generation.\n",
      "Setting `pad_token_id` to `eos_token_id`:2 for open-end generation.\n",
      "Setting `pad_token_id` to `eos_token_id`:2 for open-end generation.\n",
      "Setting `pad_token_id` to `eos_token_id`:2 for open-end generation.\n",
      "Setting `pad_token_id` to `eos_token_id`:2 for open-end generation.\n",
      "Setting `pad_token_id` to `eos_token_id`:2 for open-end generation.\n",
      "Setting `pad_token_id` to `eos_token_id`:2 for open-end generation.\n",
      "Setting `pad_token_id` to `eos_token_id`:2 for open-end generation.\n",
      "Setting `pad_token_id` to `eos_token_id`:2 for open-end generation.\n",
      "Setting `pad_token_id` to `eos_token_id`:2 for open-end generation.\n",
      "Setting `pad_token_id` to `eos_token_id`:2 for open-end generation.\n",
      "Setting `pad_token_id` to `eos_token_id`:2 for open-end generation.\n",
      "Setting `pad_token_id` to `eos_token_id`:2 for open-end generation.\n",
      "Setting `pad_token_id` to `eos_token_id`:2 for open-end generation.\n",
      "Setting `pad_token_id` to `eos_token_id`:2 for open-end generation.\n",
      "Setting `pad_token_id` to `eos_token_id`:2 for open-end generation.\n",
      "Setting `pad_token_id` to `eos_token_id`:2 for open-end generation.\n",
      "Setting `pad_token_id` to `eos_token_id`:2 for open-end generation.\n",
      "Setting `pad_token_id` to `eos_token_id`:2 for open-end generation.\n",
      "Setting `pad_token_id` to `eos_token_id`:2 for open-end generation.\n",
      "Setting `pad_token_id` to `eos_token_id`:2 for open-end generation.\n",
      "Setting `pad_token_id` to `eos_token_id`:2 for open-end generation.\n",
      "Setting `pad_token_id` to `eos_token_id`:2 for open-end generation.\n",
      "Setting `pad_token_id` to `eos_token_id`:2 for open-end generation.\n",
      "Setting `pad_token_id` to `eos_token_id`:2 for open-end generation.\n",
      "Setting `pad_token_id` to `eos_token_id`:2 for open-end generation.\n",
      "Setting `pad_token_id` to `eos_token_id`:2 for open-end generation.\n",
      "Setting `pad_token_id` to `eos_token_id`:2 for open-end generation.\n",
      "Setting `pad_token_id` to `eos_token_id`:2 for open-end generation.\n",
      "Setting `pad_token_id` to `eos_token_id`:2 for open-end generation.\n",
      "Setting `pad_token_id` to `eos_token_id`:2 for open-end generation.\n",
      "Setting `pad_token_id` to `eos_token_id`:2 for open-end generation.\n",
      "Setting `pad_token_id` to `eos_token_id`:2 for open-end generation.\n",
      "Setting `pad_token_id` to `eos_token_id`:2 for open-end generation.\n",
      "Setting `pad_token_id` to `eos_token_id`:2 for open-end generation.\n",
      "Setting `pad_token_id` to `eos_token_id`:2 for open-end generation.\n",
      "Setting `pad_token_id` to `eos_token_id`:2 for open-end generation.\n",
      "Setting `pad_token_id` to `eos_token_id`:2 for open-end generation.\n",
      "Setting `pad_token_id` to `eos_token_id`:2 for open-end generation.\n",
      "Setting `pad_token_id` to `eos_token_id`:2 for open-end generation.\n",
      "Setting `pad_token_id` to `eos_token_id`:2 for open-end generation.\n",
      "Setting `pad_token_id` to `eos_token_id`:2 for open-end generation.\n",
      "Setting `pad_token_id` to `eos_token_id`:2 for open-end generation.\n",
      "Setting `pad_token_id` to `eos_token_id`:2 for open-end generation.\n",
      "Setting `pad_token_id` to `eos_token_id`:2 for open-end generation.\n",
      "Setting `pad_token_id` to `eos_token_id`:2 for open-end generation.\n",
      "Setting `pad_token_id` to `eos_token_id`:2 for open-end generation.\n",
      "Setting `pad_token_id` to `eos_token_id`:2 for open-end generation.\n",
      "Setting `pad_token_id` to `eos_token_id`:2 for open-end generation.\n",
      "Setting `pad_token_id` to `eos_token_id`:2 for open-end generation.\n",
      "Setting `pad_token_id` to `eos_token_id`:2 for open-end generation.\n",
      "Setting `pad_token_id` to `eos_token_id`:2 for open-end generation.\n",
      "Setting `pad_token_id` to `eos_token_id`:2 for open-end generation.\n",
      "Setting `pad_token_id` to `eos_token_id`:2 for open-end generation.\n",
      "Setting `pad_token_id` to `eos_token_id`:2 for open-end generation.\n",
      "100%|██████████| 267/267 [23:41<00:00,  5.32s/it]    \n"
     ]
    }
   ],
   "source": [
    "pipeline = IngestionPipeline(transformations=transformations)\n",
    "doc_nodes = pipeline.run(documents=doc)"
   ]
  },
  {
   "cell_type": "code",
   "execution_count": 40,
   "id": "702b72d5-7ee5-4086-8d75-c512eabcb63a",
   "metadata": {},
   "outputs": [
    {
     "name": "stdout",
     "output_type": "stream",
     "text": [
      "267\n"
     ]
    }
   ],
   "source": [
    "print(len(doc_nodes))"
   ]
  },
  {
   "cell_type": "markdown",
   "id": "cc2c84d9-2526-4b52-83ab-182b83d26357",
   "metadata": {
    "jp-MarkdownHeadingCollapsed": true
   },
   "source": [
    "### Création de l'index"
   ]
  },
  {
   "cell_type": "code",
   "execution_count": 41,
   "id": "9154f09e-4e7f-44cd-a2e8-a19dab25c2d3",
   "metadata": {},
   "outputs": [
    {
     "name": "stderr",
     "output_type": "stream",
     "text": [
      "Generating embeddings: 100%|██████████| 267/267 [00:01<00:00, 193.88it/s]\n"
     ]
    }
   ],
   "source": [
    "#query_engine = index.as_query_engine(response_mode=\"compact\")\n",
    "vector_index_new_embedding = VectorStoreIndex(doc_nodes, service_context=service_context, show_progress = True)"
   ]
  },
  {
   "cell_type": "markdown",
   "id": "5abcb5b9-e7ef-4336-bc03-31ff6ee94791",
   "metadata": {
    "jp-MarkdownHeadingCollapsed": true
   },
   "source": [
    "### Stockage de l'index"
   ]
  },
  {
   "cell_type": "code",
   "execution_count": 44,
   "id": "d55fbe7d-f9db-4181-ba54-bc3f375e2c92",
   "metadata": {},
   "outputs": [],
   "source": [
    "vector_index_new_embedding.storage_context.persist(persist_dir=\"/share/LLM_models/Embedding_store_v2\")"
   ]
  },
  {
   "cell_type": "markdown",
   "id": "afe5e688-efae-44d1-ad79-65a3c4e28de0",
   "metadata": {
    "jp-MarkdownHeadingCollapsed": true
   },
   "source": [
    "### Chargement de l'embeddings"
   ]
  },
  {
   "cell_type": "code",
   "execution_count": 10,
   "id": "cff3d4af-1fc0-458e-87dd-103d91d37ab7",
   "metadata": {},
   "outputs": [],
   "source": [
    "storage_context = StorageContext.from_defaults(persist_dir=\"/share/LLM_models/Embedding_store_v2\")"
   ]
  },
  {
   "cell_type": "markdown",
   "id": "924cb8da-ea2f-464d-bb55-f3f445846e0b",
   "metadata": {
    "jp-MarkdownHeadingCollapsed": true
   },
   "source": [
    "### Load de l'embeddings"
   ]
  },
  {
   "cell_type": "code",
   "execution_count": null,
   "id": "7743ed56-b890-41f5-951a-c50f336c78e1",
   "metadata": {},
   "outputs": [],
   "source": [
    "# load index\n",
    "index = load_index_from_storage(storage_context,service_context=service_context)"
   ]
  },
  {
   "cell_type": "markdown",
   "id": "e85907de-754a-48dc-968e-c484be92161a",
   "metadata": {
    "jp-MarkdownHeadingCollapsed": true
   },
   "source": [
    "### Création du l'outil de question + question"
   ]
  },
  {
   "cell_type": "code",
   "execution_count": 11,
   "id": "0515d570-5514-4bc5-afc7-2309c1c914ab",
   "metadata": {},
   "outputs": [],
   "source": [
    "query_engine = index.as_query_engine(response_mode=\"compact\")"
   ]
  },
  {
   "cell_type": "code",
   "execution_count": 12,
   "id": "48609233-8987-4ffe-a2f6-39d0ad551c39",
   "metadata": {},
   "outputs": [
    {
     "name": "stderr",
     "output_type": "stream",
     "text": [
      "Setting `pad_token_id` to `eos_token_id`:2 for open-end generation.\n"
     ]
    },
    {
     "name": "stdout",
     "output_type": "stream",
     "text": [
      "IRSN_Seisme_Lorca-Espagne_18052011.pdf\n",
      "IRSN_Seisme_Lorca-Espagne_18052011.pdf\n",
      "\n",
      "The Lorca Earthquake occurred on May 11, 2011, in Lorca, Spain. The earthquake was of magnitude 5.1 on the EMS98 scale and occurred at a shallow depth of 2 km. The epicenter of the earthquake was located at 37.68° S and 1.68° E (source EMSC). The earthquake caused significant damage to buildings in the medieval cities of Lorca and Totana, with an estimated 9,000 people being evacuated from Lorca, which has a population of 92,700. The preliminary intensity of the earthquake in the epicentral zone was VII on the EMS98 scale. The earthquake was preceded by a first earthquake of magnitude 4.4 at 17h05 (15h05 GMT).\n"
     ]
    }
   ],
   "source": [
    "reponse = query_engine.query(\"Quels sont les détails concernant le séisme de Lorca en Espagne du 11 mai 2011?\")\n",
    "print(reponse)"
   ]
  },
  {
   "cell_type": "markdown",
   "id": "1fd1f7b0-16e9-4fdd-8683-ee1c59607c1c",
   "metadata": {
    "jp-MarkdownHeadingCollapsed": true
   },
   "source": [
    "## Sauvegarde csv avec extracteur"
   ]
  },
  {
   "cell_type": "markdown",
   "id": "1207c350-c9f8-4326-b5c3-5e03c046fa37",
   "metadata": {
    "jp-MarkdownHeadingCollapsed": true
   },
   "source": [
    "### Dictionnaire question"
   ]
  },
  {
   "cell_type": "code",
   "execution_count": 344,
   "id": "412448a2-db77-4510-a411-7c92a8ee838a",
   "metadata": {},
   "outputs": [],
   "source": [
    "mon_dict = {\n",
    "    'IRSN Fiche seisme MULHOUSE 13092022.pdf': ['Quelle est la magnitude, la localisation et les conséquences régionales du séisme de Mulhouse ?', \"Comment le séisme de Mulhouse est-il lié à la tectonique du Fossé Rhénan, et quelles sont les prévisions quant à l'activité sismique future dans la région ?\"],\n",
    "    'IRSN_Fiche-Seisme-Maroc.pdf': ['Quelles sont les caractéristiques principales du séisme au Maroc du 8 septembre 2023, telles que sa magnitude, sa localisation, et quelles ont été ses conséquences régionales ?', \"Comment s'inscrit le séisme du 8 septembre 2023 dans le contexte sismotectonique du Maroc, et quel impact a-t-il eu sur les installations nucléaires dans la région ?\"],\n",
    "    'IRSN_Fiche-Seisme-Ouest-France-16-juin-2023_V1-17062023.pdf': [\"Quelles sont les caractéristiques principales du séisme dans l'ouest de la France du 16 juin 2023, notamment sa localisation, sa magnitude, et quels sont les impacts rapportés dans la région épicentrale ?\", \"Comment se situe le séisme du 16 juin 2023 par rapport à l'activité sismique historique de la région, et quel a été l'impact sur les installations nucléaires à proximité, telles que la centrale nucléaire de Civaux ?\"],\n",
    "    'irsn_seisme_argeles_gazost_112006.pdf': [\"Pouvez-vous fournir des informations sur le séisme d'Argelès-Gazost du 17 novembre 2006, notamment sa magnitude, son épicentre, et ses impacts locaux ?\", \"Quel a été l'impact du séisme d'Argelès-Gazost sur les installations nucléaires de la région ?\"],\n",
    "    'irsn_seisme_chinon_11_2006.pdf': ['Pouvez-vous fournir des informations sur le séisme de Chinon du 5 novembre 2006, notamment sa magnitude, son épicentre, et ses impacts locaux ?', \"Quel a été l'impact du séisme de Chinon sur les installations nucléaires de la région ?\"],\n",
    "    'IRSN_seisme_Christchurch-NZ_23022011.pdf': ['Quels sont les impacts du séisme de Christchurch du 21 février 2011 par rapport à celui de septembre 2010 en Nouvelle-Zélande?', 'Quelle est la situation des installations nucléaires en Nouvelle-Zélande et quelles sont les caractéristiques de la faille de GreenDale?'],\n",
    "    'IRSN_seisme_france-26022012_V2.pdf': ['Quels sont les détails concernant le séisme à Saint-Paul-sur-Ubaye du 26 février 2012?', \"Comment la sismicité historique et actuelle dans la vallée de l'Ubaye est-elle liée au séisme du 26 février 2012?\"],\n",
    "    'IRSN_seisme_Italie-20052012.pdf': [\"Quel est le contexte sismotectonique de la région touchée par le séisme de l'Emilia-Romagna?\", \"Quelle est l'estimation de l'aléa sismique et du mouvement sismique en basse plaine du Pô?\"],\n",
    "    'IRSN_Seisme_Lorca-Espagne_18052011.pdf': ['Quels sont les détails concernant le séisme de Lorca en Espagne du 11 mai 2011?', 'Quel est le contexte sismique de la France autour du 11 mai 2011?'],\n",
    "    'irsn_seisme_martinique_122007.pdf': ['Quand a eu lieu le séisme de Martinique et quelle était sa magnitude?', \"Où était situé l'épicentre du séisme de Martinique?\"],\n",
    "    'irsn_seisme_niigata_japon_092007.pdf': ['Comment le Japon se situe-t-il du point de vue sismotectonique par rapport à la convergence des plaques tectoniques?', 'Quelles étaient les conséquences humaines du séisme de Chu-Etsu-Oki?'],\n",
    "    'IRSN_seisme_sumatra-11042012.pdf': ['Quand ont eu lieu les séismes de Sumatra en Indonésie, et quelle était leur magnitude?', \"Quelle était la distance entre la centrale nucléaire la plus proche (Kalpakkam) et l'épicentre du séisme de Sumatra, et quels étaient les effets attendus sur la centrale?\"],\n",
    "    'IRSN_seisme_turquie-23102011.pdf': ['Quels ont été les effets du séisme de Van en termes de dégâts matériels et humains?', 'Où était située la centrale nucléaire la plus proche du séisme de Van, et quelles étaient les conséquences sur cette centrale?'],\n",
    "    'IRSN_seisme_virginie-US-23082011.pdf': [\"Dans quelle région s'est produit le séisme de Virginie, et qu'est-ce que la « Central Virginia Seismic Zone » ?\", \" Quel est le contexte sismotectonique de l'Est des États-Unis, et pourquoi la sismicité n'y est-elle pas négligeable?\"],\n",
    "    'irsn_Seisme-Afghanistan_032002.pdf': ['Quand a eu lieu le séisme en Afghanistan, et quelle était sa magnitude?', 'Quelles sont les différentes estimations de la magnitude du séisme en Afghanistan?'],\n",
    "    'irsn_seisme-algerie_052003.pdf': [\"Quel est le contexte tectonique de l'Algérie et comment cela contribue-t-il à la sismicité de la région?\", 'Quels sont les effets de site probables dans les localités de Rouïba et Boumerdès?'],\n",
    "    'irsn_Seisme-Allemagne_122004.pdf': ['Quelle est la proximité du séisme de Fribourg par rapport à la centrale nucléaire de Fessenheim?', \"Quelle est la distance entre l'épicentre du séisme de Fribourg et les centrales nucléaires suisses de Leipstadt et Beznau?\"],\n",
    "    'irsn_Seisme-Besancon_022004.pdf': ['Quand a eu lieu le séisme de Besançon et quelle était sa magnitude?'],\n",
    "    'IRSN_seisme-haiti_130110.pdf': [\"Où était situé l'épicentre du séisme d'Haïti, et quels ont été les effets notables?\", \"Quel est le contexte sismotectonique de la région où s'est produit le séisme d'Haïti?\"],\n",
    "    'irsn_Seisme-Inde_012001.pdf': ['Quels ont été les effets notables du séisme de Gurajat, et quel était le mécanisme de la faille en jeu?', ' Pourquoi le séisme de Gurajat a-t-il été considéré comme une surprise relative?'],\n",
    "    'irsn_Seisme-Japon_052003.pdf': [\"Quand et où s'est produit le séisme de Miyagi au Japon, et quelle était sa magnitude?\", 'Quels sont les impacts du séisme de Miyagi en termes de dégâts matériels, de victimes et de répliques?'],\n",
    "    'IRSN_Seisme-Japon_Replique-7-avril_V1-08042011.pdf': [\"Comment la centrale nucléaire d'Onagawa a-t-elle été affectée par cette réplique en termes d'accélérations du sol?\", 'Quelles sont les actions entreprises par les autorités japonaises pour évaluer les effets de cette réplique?'],\n",
    "    'IRSN_seisme-Japon_V2-22042011.pdf': [\"Quand et où s'est produit le séisme de Tohoku au Japon du 11 mars 2011, et quelle était sa magnitude?\", \"Quelle était la localisation de l'épicentre et quels sont les détails sur la magnitude du séisme de Tohoku au Japon du 11 mars 2011?\"],\n",
    "    'IRSN_seisme-Manosque_V1-12072010.pdf': ['Quelle est la magnitude du séisme survenu à Manosque le 8 juillet 2010, et quelle est la version du document que vous consultez ?', 'Comment la population a-t-elle réagi à la secousse sismique, et quelles sont les zones les plus fortement touchées pour le séisme du 8 juillet 2010 ? ?'],\n",
    "    'irsn_Seisme-Mexique_012003.pdf': [\"Quels sont les dégâts rapportés suite au séisme, et quelle est la particularité de la ville de Mexico en termes d'effet sismique ?\", 'Quelle est la situation des installations nucléaires au Mexique, et comment le séisme du 21 janvier 2003 a-t-il affecté la centrale nucléaire de Laguna Verde '],\n",
    "    'IRSN-Seisme-Amatrice-Italie-240816_V1.pdf': [\"Quelle est la magnitude du séisme d'Amatrice qui s'est produit le 24 août 2016, et où était situé son épicentre ?\", 'Quels ont été les effets du séisme  du 24 août 2016 en termes de victimes, de blessés et de dégâts matériels ?'],\n",
    "    'IRSN-Seisme-Charente-Maritime-France-20190320_v1.1.pdf': ['Quels ont été les effets du séisme de Montendre en termes de ressenti par la population et et de dégâts matériels ?', 'Comment le séisme de Montendre de 2019 se compare-t-il aux plus forts séismes historiques de la région ?'],\n",
    "    'IRSN-Seisme-Civaux-09092013.pdf': [\"Quelle est la magnitude du séisme qui s'est produit à Lhommaizé le 9 septembre 2013, et où était situé son épicentre ?\", 'Quels ont été les effets du séisme de Lhommaizé en termes de ressenti par la population et de dégâts matériels ?'],\n",
    "    'IRSN-Seisme-Kent-22052015.pdf': [\"Quels ont été les impacts du séisme dans le Kent le 22 mai 2015 en termes de secousses ressenties, d'intensités et de mécanisme sismique associé ?\", 'Quelle est la sismicité historique dans le détroit du pas de Calais, et quelles sont les recherches menées pour mieux comprendre le risque sismique dans cette région ?'],\n",
    "    'IRSN-Seisme-Elazig-Turquie-24012020.pdf': [\"Quelle est la géodynamique de la région et la sismicité régionale autour d'Elazig ?\", 'Quelles sont les conséquences sur les installations nucléaires à proximité, en particulier la centrale nucléaire de Metsamor en Arménie, et quels sont les projets de centrales nucléaires en Turquie ?'],\n",
    "    'IRSN-Seisme-Fukushima-13022021.pdf': [\"Quelle est la magnitude du séisme qui s'est produit à Fukushima le 13 février 2021, et où était situé son épicentre ?\", 'Quels ont été les impacts du séisme de Fukushima en termes de victimes, de dommages matériels et de secousses ressenties dans la région ?'],\n",
    "    'IRSN-Seisme-LaRochelle-28042016.pdf': [\"Quelle est la magnitude du séisme qui s'est produit à La Rochelle le 28 avril 2016, et où était situé son épicentre ?\", \"Quelle est la sismicité historique et actuelle au nord de l'Aquitaine, et comment le séisme de 2016 s'inscrit-il dans ce contexte ?\"],\n",
    "    'IRSN-Seisme-Manosque-19092012.pdf': [\"Quels ont été les faits marquants du séisme à Villeneuve le 19 septembre 2012, en termes de répliques, de secousses ressenties, et d'historique sismique de la région ?\", \"Quelle est la géométrie de la Faille de la Moyenne Durance, et comment le séisme de 2012 s'inscrit-il dans l'activité de cette faille ?\"],\n",
    "    'IRSN-Seisme-Napa-24082014.pdf': [\"Quelle est la magnitude du séisme qui s'est produit à Napa le 24 août 2014, et quelles sont les principales caractéristiques de ce séisme ?\", 'Quelle est la localisation du séisme de Napa par rapport aux failles tectoniques de la région, et quelles sont les caractéristiques tectoniques de cette zone ?'],\n",
    "    'IRSN-Seisme-Norcia-Italie-301016_V1.pdf': [\"Quelle est la magnitude du séisme qui s'est produit en Italie centrale le 30 octobre 2016, et quelles sont les principales caractéristiques de ce séisme ?\", \"Quels sont les enseignements tirés de la séquence sismique en Italie centrale, et en quoi cette expérience peut-elle être importante pour la compréhension des risques sismiques dans d'autres régions, y compris en France ?\"],\n",
    "    'IRSN-Seisme-Vendee-France-20180212.pdf': ['Quand et où a eu lieu le séisme de Saint-Hilaire-de-Voust en 2018, quelle était sa magnitude, et quels sont les dégâts signalés?', \"Quel a été l'impact du séisme de Saint-Hilaire-de-Voust de 2018 sur les installations nucléaires, et quelles sont les installations nucléaires les plus proches de l'épicentre?\"]}"
   ]
  },
  {
   "cell_type": "markdown",
   "id": "310e9994-a9dc-46bf-a2c8-bd267df19aae",
   "metadata": {
    "jp-MarkdownHeadingCollapsed": true
   },
   "source": [
    "### Script "
   ]
  },
  {
   "cell_type": "code",
   "execution_count": 50,
   "id": "88b38e1e-f27e-4eed-a95c-9b3794be43a5",
   "metadata": {},
   "outputs": [
    {
     "name": "stderr",
     "output_type": "stream",
     "text": [
      "Setting `pad_token_id` to `eos_token_id`:2 for open-end generation.\n"
     ]
    },
    {
     "name": "stdout",
     "output_type": "stream",
     "text": [
      "Clé: IRSN Fiche seisme MULHOUSE 13092022.pdf\n"
     ]
    },
    {
     "name": "stderr",
     "output_type": "stream",
     "text": [
      "Setting `pad_token_id` to `eos_token_id`:2 for open-end generation.\n",
      "Setting `pad_token_id` to `eos_token_id`:2 for open-end generation.\n"
     ]
    },
    {
     "name": "stdout",
     "output_type": "stream",
     "text": [
      "Clé: IRSN_Fiche-Seisme-Maroc.pdf\n"
     ]
    },
    {
     "name": "stderr",
     "output_type": "stream",
     "text": [
      "Setting `pad_token_id` to `eos_token_id`:2 for open-end generation.\n",
      "Setting `pad_token_id` to `eos_token_id`:2 for open-end generation.\n"
     ]
    },
    {
     "name": "stdout",
     "output_type": "stream",
     "text": [
      "Clé: IRSN_Fiche-Seisme-Ouest-France-16-juin-2023_V1-17062023.pdf\n"
     ]
    },
    {
     "name": "stderr",
     "output_type": "stream",
     "text": [
      "Setting `pad_token_id` to `eos_token_id`:2 for open-end generation.\n",
      "Setting `pad_token_id` to `eos_token_id`:2 for open-end generation.\n"
     ]
    },
    {
     "name": "stdout",
     "output_type": "stream",
     "text": [
      "Clé: irsn_seisme_argeles_gazost_112006.pdf\n"
     ]
    },
    {
     "name": "stderr",
     "output_type": "stream",
     "text": [
      "Setting `pad_token_id` to `eos_token_id`:2 for open-end generation.\n",
      "Setting `pad_token_id` to `eos_token_id`:2 for open-end generation.\n"
     ]
    },
    {
     "name": "stdout",
     "output_type": "stream",
     "text": [
      "Clé: irsn_seisme_chinon_11_2006.pdf\n"
     ]
    },
    {
     "name": "stderr",
     "output_type": "stream",
     "text": [
      "Setting `pad_token_id` to `eos_token_id`:2 for open-end generation.\n",
      "Setting `pad_token_id` to `eos_token_id`:2 for open-end generation.\n"
     ]
    },
    {
     "name": "stdout",
     "output_type": "stream",
     "text": [
      "Clé: IRSN_seisme_Christchurch-NZ_23022011.pdf\n"
     ]
    },
    {
     "name": "stderr",
     "output_type": "stream",
     "text": [
      "Setting `pad_token_id` to `eos_token_id`:2 for open-end generation.\n",
      "Setting `pad_token_id` to `eos_token_id`:2 for open-end generation.\n"
     ]
    },
    {
     "name": "stdout",
     "output_type": "stream",
     "text": [
      "Clé: IRSN_seisme_france-26022012_V2.pdf\n"
     ]
    },
    {
     "name": "stderr",
     "output_type": "stream",
     "text": [
      "Setting `pad_token_id` to `eos_token_id`:2 for open-end generation.\n",
      "Setting `pad_token_id` to `eos_token_id`:2 for open-end generation.\n"
     ]
    },
    {
     "name": "stdout",
     "output_type": "stream",
     "text": [
      "Clé: IRSN_seisme_Italie-20052012.pdf\n"
     ]
    },
    {
     "name": "stderr",
     "output_type": "stream",
     "text": [
      "Setting `pad_token_id` to `eos_token_id`:2 for open-end generation.\n",
      "Setting `pad_token_id` to `eos_token_id`:2 for open-end generation.\n"
     ]
    },
    {
     "name": "stdout",
     "output_type": "stream",
     "text": [
      "Clé: IRSN_Seisme_Lorca-Espagne_18052011.pdf\n"
     ]
    },
    {
     "name": "stderr",
     "output_type": "stream",
     "text": [
      "Setting `pad_token_id` to `eos_token_id`:2 for open-end generation.\n",
      "Setting `pad_token_id` to `eos_token_id`:2 for open-end generation.\n"
     ]
    },
    {
     "name": "stdout",
     "output_type": "stream",
     "text": [
      "Clé: irsn_seisme_martinique_122007.pdf\n"
     ]
    },
    {
     "name": "stderr",
     "output_type": "stream",
     "text": [
      "Setting `pad_token_id` to `eos_token_id`:2 for open-end generation.\n",
      "Setting `pad_token_id` to `eos_token_id`:2 for open-end generation.\n"
     ]
    },
    {
     "name": "stdout",
     "output_type": "stream",
     "text": [
      "Clé: irsn_seisme_niigata_japon_092007.pdf\n"
     ]
    },
    {
     "name": "stderr",
     "output_type": "stream",
     "text": [
      "Setting `pad_token_id` to `eos_token_id`:2 for open-end generation.\n",
      "Setting `pad_token_id` to `eos_token_id`:2 for open-end generation.\n"
     ]
    },
    {
     "name": "stdout",
     "output_type": "stream",
     "text": [
      "Clé: IRSN_seisme_sumatra-11042012.pdf\n"
     ]
    },
    {
     "name": "stderr",
     "output_type": "stream",
     "text": [
      "Setting `pad_token_id` to `eos_token_id`:2 for open-end generation.\n",
      "Setting `pad_token_id` to `eos_token_id`:2 for open-end generation.\n"
     ]
    },
    {
     "name": "stdout",
     "output_type": "stream",
     "text": [
      "Clé: IRSN_seisme_turquie-23102011.pdf\n"
     ]
    },
    {
     "name": "stderr",
     "output_type": "stream",
     "text": [
      "Setting `pad_token_id` to `eos_token_id`:2 for open-end generation.\n",
      "Setting `pad_token_id` to `eos_token_id`:2 for open-end generation.\n"
     ]
    },
    {
     "name": "stdout",
     "output_type": "stream",
     "text": [
      "Clé: IRSN_seisme_virginie-US-23082011.pdf\n"
     ]
    },
    {
     "name": "stderr",
     "output_type": "stream",
     "text": [
      "Setting `pad_token_id` to `eos_token_id`:2 for open-end generation.\n",
      "Setting `pad_token_id` to `eos_token_id`:2 for open-end generation.\n"
     ]
    },
    {
     "name": "stdout",
     "output_type": "stream",
     "text": [
      "Clé: irsn_Seisme-Afghanistan_032002.pdf\n"
     ]
    },
    {
     "name": "stderr",
     "output_type": "stream",
     "text": [
      "Setting `pad_token_id` to `eos_token_id`:2 for open-end generation.\n",
      "Setting `pad_token_id` to `eos_token_id`:2 for open-end generation.\n"
     ]
    },
    {
     "name": "stdout",
     "output_type": "stream",
     "text": [
      "Clé: irsn_seisme-algerie_052003.pdf\n"
     ]
    },
    {
     "name": "stderr",
     "output_type": "stream",
     "text": [
      "Setting `pad_token_id` to `eos_token_id`:2 for open-end generation.\n",
      "Setting `pad_token_id` to `eos_token_id`:2 for open-end generation.\n"
     ]
    },
    {
     "name": "stdout",
     "output_type": "stream",
     "text": [
      "Clé: irsn_Seisme-Allemagne_122004.pdf\n"
     ]
    },
    {
     "name": "stderr",
     "output_type": "stream",
     "text": [
      "Setting `pad_token_id` to `eos_token_id`:2 for open-end generation.\n",
      "Setting `pad_token_id` to `eos_token_id`:2 for open-end generation.\n"
     ]
    },
    {
     "name": "stdout",
     "output_type": "stream",
     "text": [
      "Clé: irsn_Seisme-Besancon_022004.pdf\n"
     ]
    },
    {
     "name": "stderr",
     "output_type": "stream",
     "text": [
      "Setting `pad_token_id` to `eos_token_id`:2 for open-end generation.\n"
     ]
    },
    {
     "name": "stdout",
     "output_type": "stream",
     "text": [
      "Clé: IRSN_seisme-haiti_130110.pdf\n"
     ]
    },
    {
     "name": "stderr",
     "output_type": "stream",
     "text": [
      "Setting `pad_token_id` to `eos_token_id`:2 for open-end generation.\n",
      "Setting `pad_token_id` to `eos_token_id`:2 for open-end generation.\n"
     ]
    },
    {
     "name": "stdout",
     "output_type": "stream",
     "text": [
      "Clé: irsn_Seisme-Inde_012001.pdf\n"
     ]
    },
    {
     "name": "stderr",
     "output_type": "stream",
     "text": [
      "Setting `pad_token_id` to `eos_token_id`:2 for open-end generation.\n",
      "Setting `pad_token_id` to `eos_token_id`:2 for open-end generation.\n"
     ]
    },
    {
     "name": "stdout",
     "output_type": "stream",
     "text": [
      "Clé: irsn_Seisme-Japon_052003.pdf\n"
     ]
    },
    {
     "name": "stderr",
     "output_type": "stream",
     "text": [
      "Setting `pad_token_id` to `eos_token_id`:2 for open-end generation.\n",
      "Setting `pad_token_id` to `eos_token_id`:2 for open-end generation.\n"
     ]
    },
    {
     "name": "stdout",
     "output_type": "stream",
     "text": [
      "Clé: IRSN_Seisme-Japon_Replique-7-avril_V1-08042011.pdf\n"
     ]
    },
    {
     "name": "stderr",
     "output_type": "stream",
     "text": [
      "Setting `pad_token_id` to `eos_token_id`:2 for open-end generation.\n",
      "Setting `pad_token_id` to `eos_token_id`:2 for open-end generation.\n"
     ]
    },
    {
     "name": "stdout",
     "output_type": "stream",
     "text": [
      "Clé: IRSN_seisme-Japon_V2-22042011.pdf\n"
     ]
    },
    {
     "name": "stderr",
     "output_type": "stream",
     "text": [
      "Setting `pad_token_id` to `eos_token_id`:2 for open-end generation.\n",
      "Setting `pad_token_id` to `eos_token_id`:2 for open-end generation.\n"
     ]
    },
    {
     "name": "stdout",
     "output_type": "stream",
     "text": [
      "Clé: IRSN_seisme-Manosque_V1-12072010.pdf\n"
     ]
    },
    {
     "name": "stderr",
     "output_type": "stream",
     "text": [
      "Setting `pad_token_id` to `eos_token_id`:2 for open-end generation.\n",
      "Setting `pad_token_id` to `eos_token_id`:2 for open-end generation.\n"
     ]
    },
    {
     "name": "stdout",
     "output_type": "stream",
     "text": [
      "Clé: irsn_Seisme-Mexique_012003.pdf\n"
     ]
    },
    {
     "name": "stderr",
     "output_type": "stream",
     "text": [
      "Setting `pad_token_id` to `eos_token_id`:2 for open-end generation.\n",
      "Setting `pad_token_id` to `eos_token_id`:2 for open-end generation.\n"
     ]
    },
    {
     "name": "stdout",
     "output_type": "stream",
     "text": [
      "Clé: IRSN-Seisme-Amatrice-Italie-240816_V1.pdf\n"
     ]
    },
    {
     "name": "stderr",
     "output_type": "stream",
     "text": [
      "Setting `pad_token_id` to `eos_token_id`:2 for open-end generation.\n",
      "Setting `pad_token_id` to `eos_token_id`:2 for open-end generation.\n"
     ]
    },
    {
     "name": "stdout",
     "output_type": "stream",
     "text": [
      "Clé: IRSN-Seisme-Charente-Maritime-France-20190320_v1.1.pdf\n"
     ]
    },
    {
     "name": "stderr",
     "output_type": "stream",
     "text": [
      "Setting `pad_token_id` to `eos_token_id`:2 for open-end generation.\n",
      "Setting `pad_token_id` to `eos_token_id`:2 for open-end generation.\n"
     ]
    },
    {
     "name": "stdout",
     "output_type": "stream",
     "text": [
      "Clé: IRSN-Seisme-Civaux-09092013.pdf\n"
     ]
    },
    {
     "name": "stderr",
     "output_type": "stream",
     "text": [
      "Setting `pad_token_id` to `eos_token_id`:2 for open-end generation.\n",
      "Setting `pad_token_id` to `eos_token_id`:2 for open-end generation.\n"
     ]
    },
    {
     "name": "stdout",
     "output_type": "stream",
     "text": [
      "Clé: IRSN-Seisme-Kent-22052015.pdf\n"
     ]
    },
    {
     "name": "stderr",
     "output_type": "stream",
     "text": [
      "Setting `pad_token_id` to `eos_token_id`:2 for open-end generation.\n",
      "Setting `pad_token_id` to `eos_token_id`:2 for open-end generation.\n"
     ]
    },
    {
     "name": "stdout",
     "output_type": "stream",
     "text": [
      "Clé: IRSN-Seisme-Elazig-Turquie-24012020.pdf\n"
     ]
    },
    {
     "name": "stderr",
     "output_type": "stream",
     "text": [
      "Setting `pad_token_id` to `eos_token_id`:2 for open-end generation.\n",
      "Setting `pad_token_id` to `eos_token_id`:2 for open-end generation.\n"
     ]
    },
    {
     "name": "stdout",
     "output_type": "stream",
     "text": [
      "Clé: IRSN-Seisme-Fukushima-13022021.pdf\n"
     ]
    },
    {
     "name": "stderr",
     "output_type": "stream",
     "text": [
      "Setting `pad_token_id` to `eos_token_id`:2 for open-end generation.\n",
      "Setting `pad_token_id` to `eos_token_id`:2 for open-end generation.\n"
     ]
    },
    {
     "name": "stdout",
     "output_type": "stream",
     "text": [
      "Clé: IRSN-Seisme-LaRochelle-28042016.pdf\n"
     ]
    },
    {
     "name": "stderr",
     "output_type": "stream",
     "text": [
      "Setting `pad_token_id` to `eos_token_id`:2 for open-end generation.\n",
      "Setting `pad_token_id` to `eos_token_id`:2 for open-end generation.\n"
     ]
    },
    {
     "name": "stdout",
     "output_type": "stream",
     "text": [
      "Clé: IRSN-Seisme-Manosque-19092012.pdf\n"
     ]
    },
    {
     "name": "stderr",
     "output_type": "stream",
     "text": [
      "Setting `pad_token_id` to `eos_token_id`:2 for open-end generation.\n",
      "Setting `pad_token_id` to `eos_token_id`:2 for open-end generation.\n"
     ]
    },
    {
     "name": "stdout",
     "output_type": "stream",
     "text": [
      "Clé: IRSN-Seisme-Napa-24082014.pdf\n"
     ]
    },
    {
     "name": "stderr",
     "output_type": "stream",
     "text": [
      "Setting `pad_token_id` to `eos_token_id`:2 for open-end generation.\n",
      "Setting `pad_token_id` to `eos_token_id`:2 for open-end generation.\n"
     ]
    },
    {
     "name": "stdout",
     "output_type": "stream",
     "text": [
      "Clé: IRSN-Seisme-Norcia-Italie-301016_V1.pdf\n"
     ]
    },
    {
     "name": "stderr",
     "output_type": "stream",
     "text": [
      "Setting `pad_token_id` to `eos_token_id`:2 for open-end generation.\n",
      "Setting `pad_token_id` to `eos_token_id`:2 for open-end generation.\n"
     ]
    },
    {
     "name": "stdout",
     "output_type": "stream",
     "text": [
      "Clé: IRSN-Seisme-Vendee-France-20180212.pdf\n"
     ]
    },
    {
     "name": "stderr",
     "output_type": "stream",
     "text": [
      "Setting `pad_token_id` to `eos_token_id`:2 for open-end generation.\n"
     ]
    }
   ],
   "source": [
    "reponses_dict = {}  \n",
    "for cle, questions in mon_dict.items():\n",
    "    print(f'Clé: {cle}')\n",
    "    \n",
    "    # Liste pour stocker les réponses aux questions\n",
    "    reponses = []\n",
    "    # Itérer sur chaque question pour la clé\n",
    "    for i, question in enumerate(questions, start=1):\n",
    "        query = question\n",
    "        reponses.append(query_engine.query(query))  \n",
    "    # Stocker les réponses dans le dictionnaire de réponses\n",
    "    reponses_dict[cle] = reponses\n"
   ]
  },
  {
   "cell_type": "code",
   "execution_count": 53,
   "id": "305d300c-f99c-43ad-92cf-42e1c0bf0e33",
   "metadata": {},
   "outputs": [
    {
     "name": "stdout",
     "output_type": "stream",
     "text": [
      "[{'Réponse 0': ['\\nThe magnitude of the earthquake that occurred on September 10, 2022 near Mulhouse and Bâle is 3.9 (Mw - Géoazur). The localization of the earthquake is 7.471° E. The consequences of the earthquake were felt throughout the region of Grand Est, with a maximum intensity of IV on the local scale, corresponding to a perception that was moderately felt by humans and caused no damage to buildings.', 'IRSN Fiche seisme MULHOUSE 13092022.pdf & IRSN-Seisme-Manosque-19092012.pdf']}, {'Réponse 1': [\"\\nThe 2022 Basel earthquake is related to the tectonics of the Fossé Rhénan, which is a rift system that has been forming for approximately 40 million years. The Fossé Rhénan is characterized by a system of faults oriented primarily in the NNE-SSO direction, with several faults presenting markers of recent activity (quaternary). The mechanism of the earthquake's origin determined for the 2022 Basel earthquake indicates a pure decrochant earthquake in agreement with the regional context and the past seismic activity, including the 1980 Sierentz earthquake. The Sierentz earthquake, of magnitude local 4.7, was located approximately 4 km from the epicenter of the 2022 earthquake and produced several hundred aftershocks in the 16 days following the main shock. To date, a few significant aftershocks have been recorded following the 2022 earthquake, and the activity may continue in the days to come. The precise location of these aftershocks could contribute to identifying the active structures in the region.\\n\\nThe region of Basel is marked by a recurrent sismic activity, which includes several earthquakes of intensity greater than V, the most important being the Basel earthquakes. The 2022 Basel earthquake and the Fossé Rhénan seismic activity are related, as the Fossé Rhénan is a major contributor to the seismic activity in the region. The geodynamic context of the Fossé Rhénan seismic activity is related to the 2022 Basel earthquake, as the earthquake was a pure decrochant earthquake in agreement with the regional context and the past seismic activity.\\n\\nAs for the future activity sismique in the region, the aftershocks following the 2022 earthquake suggest that the activity may continue in the days to come. However, it is important to note that predicting the future activity sismique with precision is difficult, and more information is needed to make accurate predictions.\", 'IRSN Fiche seisme MULHOUSE 13092022.pdf & IRSN Fiche seisme MULHOUSE 13092022.pdf']}]\n"
     ]
    }
   ],
   "source": [
    "dict_output = {}\n",
    "\n",
    "for cle in reponses_dict:\n",
    "    if cle == 'irsn_Seisme-Besancon_022004.pdf':\n",
    "        continue\n",
    "\n",
    "    # Initialiser une liste pour stocker les réponses\n",
    "    reponses_list = []\n",
    "\n",
    "    # Itérer sur chaque question pour la clé\n",
    "    for i in range(2):\n",
    "        reponses_list.append({\n",
    "            f'Réponse {i}': [reponses_dict[cle][i].response, reponses_dict[cle][i].metadata[list(reponses_dict[cle][i].metadata.keys())[0]]['file_name'] + ' & ' + reponses_dict[cle][i].metadata[list(reponses_dict[cle][i].metadata.keys())[1]]['file_name']]\n",
    "        })\n",
    "\n",
    "    # Ajouter la liste des réponses au dictionnaire de sortie\n",
    "    dict_output[cle] = reponses_list\n",
    "\n",
    "# Afficher le résultat pour une clé spécifique\n",
    "print(dict_output['IRSN Fiche seisme MULHOUSE 13092022.pdf'])\n"
   ]
  },
  {
   "cell_type": "code",
   "execution_count": 54,
   "id": "48eb28e1-9996-4b69-9ec7-4890429cd8fc",
   "metadata": {},
   "outputs": [
    {
     "name": "stdout",
     "output_type": "stream",
     "text": [
      "Les données ont été écrites dans le fichier CSV : output_llama_extract.csv\n"
     ]
    }
   ],
   "source": [
    "import csv\n",
    "output_csv_path = 'output_llama_extract.csv'\n",
    "# Fonction pour écrire les données dans le fichier CSV\n",
    "def write_to_csv(data, csv_path):\n",
    "    with open(csv_path, 'w', newline='', encoding='utf-8') as csvfile:\n",
    "        # Définir les colonnes du CSV\n",
    "        fieldnames = ['Nom du document', 'Réponse 0', 'Source 0', 'Réponse 1', 'Source 1']\n",
    "        writer = csv.DictWriter(csvfile, fieldnames=fieldnames, delimiter=';')  # Ajout du délimiteur\n",
    "\n",
    "        # Écrire l'en-tête\n",
    "        writer.writeheader()\n",
    "\n",
    "        # Écrire les données\n",
    "        for document, responses in data.items():\n",
    "            row_data = {'Nom du document': document}\n",
    "            for i, response_info in enumerate(responses):\n",
    "                response_key = f'Réponse {i}'\n",
    "                source_key = f'Source {i}'\n",
    "                \n",
    "                # Enlever le premier caractère (retour chariot) du string réponse\n",
    "                cleaned_response = response_info[response_key][0][1:] if response_info[response_key][0] else ''\n",
    "                \n",
    "                row_data[response_key] = cleaned_response\n",
    "                row_data[source_key] = str(response_info[response_key][1]) if response_info[response_key][1] else ''\n",
    "            writer.writerow(row_data)\n",
    "\n",
    "# Appeler la fonction avec vos données\n",
    "write_to_csv(dict_output, output_csv_path)\n",
    "\n",
    "# Afficher un message de confirmation\n",
    "print(f\"Les données ont été écrites dans le fichier CSV : {output_csv_path}\")"
   ]
  },
  {
   "cell_type": "markdown",
   "id": "41dc10fc-4f85-4766-a56d-8c3a707a327b",
   "metadata": {
    "jp-MarkdownHeadingCollapsed": true
   },
   "source": [
    "# Extraction de metadata spécifique à notre expérimentation"
   ]
  },
  {
   "cell_type": "markdown",
   "id": "6164d200-e848-492b-a266-a66493ad58e5",
   "metadata": {},
   "source": [
    "### import"
   ]
  },
  {
   "cell_type": "markdown",
   "id": "7ec936cf-014c-406f-ba8f-66a4053fed6d",
   "metadata": {},
   "source": [
    "### Extraction métadata (titre et sous titre) pour chaque document "
   ]
  },
  {
   "cell_type": "code",
   "execution_count": 19,
   "id": "2a8c5955-1df9-4c3e-ae9a-f70a41305022",
   "metadata": {},
   "outputs": [
    {
     "name": "stdout",
     "output_type": "stream",
     "text": [
      "Liste des documents PDF dans le dossier:\n",
      "['/share/data/fiches_seismes/irsn_seisme_argeles_gazost_112006.pdf', '/share/data/fiches_seismes/irsn_seisme_chinon_11_2006.pdf', '/share/data/fiches_seismes/IRSN_seisme-haiti_130110.pdf', '/share/data/fiches_seismes/IRSN-Seisme-Civaux-09092013.pdf', '/share/data/fiches_seismes/IRSN_seisme_turquie-23102011.pdf', '/share/data/fiches_seismes/irsn_seisme_niigata_japon_092007.pdf', '/share/data/fiches_seismes/irsn_seisme_martinique_122007.pdf', '/share/data/fiches_seismes/IRSN_seisme_france-26022012_V2.pdf', '/share/data/fiches_seismes/Note-Information-Seisme-Teil-14112019.pdf', '/share/data/fiches_seismes/IRSN_seisme_Italie-20052012.pdf', '/share/data/fiches_seismes/IRSN_seisme-Japon_V2-22042011.pdf', '/share/data/fiches_seismes/IRSN_Seisme_Lorca-Espagne_18052011.pdf', '/share/data/fiches_seismes/irsn_Seisme-Mexique_012003.pdf', '/share/data/fiches_seismes/IRSN-Seisme-Norcia-Italie-301016_V1.pdf', '/share/data/fiches_seismes/irsn_Seisme-Afghanistan_032002.pdf', '/share/data/fiches_seismes/IRSN-Seisme-Manosque-19092012.pdf', '/share/data/fiches_seismes/IRSN-Seisme-Amatrice-Italie-240816_V1.pdf', '/share/data/fiches_seismes/IRSN_seisme_virginie-US-23082011.pdf', '/share/data/fiches_seismes/IRSN_seisme_Christchurch-NZ_23022011.pdf', '/share/data/fiches_seismes/IRSN-Seisme-Charente-Maritime-France-20190320_v1.1.pdf', '/share/data/fiches_seismes/irsn_Seisme-Japon_052003.pdf', '/share/data/fiches_seismes/irsn_Seisme-Inde_012001.pdf', '/share/data/fiches_seismes/irsn_Seisme-Besancon_022004.pdf', '/share/data/fiches_seismes/IRSN-Seisme-Vendee-France-20180212.pdf', '/share/data/fiches_seismes/IRSN_Fiche-Seisme-Maroc.pdf', '/share/data/fiches_seismes/IRSN-Seisme-Fukushima-13022021.pdf', '/share/data/fiches_seismes/IRSN-Seisme-Napa-24082014.pdf', '/share/data/fiches_seismes/IRSN_Fiche-Seisme-Ouest-France-16-juin-2023_V1-17062023.pdf', '/share/data/fiches_seismes/IRSN_Seisme-Japon_Replique-7-avril_V1-08042011.pdf', '/share/data/fiches_seismes/irsn_Seisme-Allemagne_122004.pdf', '/share/data/fiches_seismes/IRSN-Seisme-Elazig-Turquie-24012020.pdf', '/share/data/fiches_seismes/IRSN_seisme-Manosque_V1-12072010.pdf', '/share/data/fiches_seismes/irsn_seisme-algerie_052003.pdf', '/share/data/fiches_seismes/IRSN Fiche seisme MULHOUSE 13092022.pdf', '/share/data/fiches_seismes/IRSN_seisme_sumatra-11042012.pdf', '/share/data/fiches_seismes/IRSN-Seisme-Kent-22052015.pdf', '/share/data/fiches_seismes/IRSN-Seisme-LaRochelle-28042016.pdf']\n",
      "/share/data/fiches_seismes/irsn_seisme_argeles_gazost_112006.pdf\n",
      "/share/data/fiches_seismes/irsn_seisme_chinon_11_2006.pdf\n",
      "/share/data/fiches_seismes/IRSN_seisme-haiti_130110.pdf\n",
      "/share/data/fiches_seismes/IRSN-Seisme-Civaux-09092013.pdf\n",
      "/share/data/fiches_seismes/IRSN_seisme_turquie-23102011.pdf\n",
      "/share/data/fiches_seismes/irsn_seisme_niigata_japon_092007.pdf\n",
      "/share/data/fiches_seismes/irsn_seisme_martinique_122007.pdf\n",
      "/share/data/fiches_seismes/IRSN_seisme_france-26022012_V2.pdf\n",
      "/share/data/fiches_seismes/Note-Information-Seisme-Teil-14112019.pdf\n",
      "/share/data/fiches_seismes/IRSN_seisme_Italie-20052012.pdf\n",
      "/share/data/fiches_seismes/IRSN_seisme-Japon_V2-22042011.pdf\n",
      "/share/data/fiches_seismes/IRSN_Seisme_Lorca-Espagne_18052011.pdf\n",
      "/share/data/fiches_seismes/irsn_Seisme-Mexique_012003.pdf\n",
      "/share/data/fiches_seismes/IRSN-Seisme-Norcia-Italie-301016_V1.pdf\n",
      "/share/data/fiches_seismes/irsn_Seisme-Afghanistan_032002.pdf\n",
      "/share/data/fiches_seismes/IRSN-Seisme-Manosque-19092012.pdf\n",
      "/share/data/fiches_seismes/IRSN-Seisme-Amatrice-Italie-240816_V1.pdf\n",
      "/share/data/fiches_seismes/IRSN_seisme_virginie-US-23082011.pdf\n",
      "/share/data/fiches_seismes/IRSN_seisme_Christchurch-NZ_23022011.pdf\n",
      "/share/data/fiches_seismes/IRSN-Seisme-Charente-Maritime-France-20190320_v1.1.pdf\n",
      "/share/data/fiches_seismes/irsn_Seisme-Japon_052003.pdf\n",
      "/share/data/fiches_seismes/irsn_Seisme-Inde_012001.pdf\n",
      "/share/data/fiches_seismes/irsn_Seisme-Besancon_022004.pdf\n",
      "/share/data/fiches_seismes/IRSN-Seisme-Vendee-France-20180212.pdf\n",
      "/share/data/fiches_seismes/IRSN_Fiche-Seisme-Maroc.pdf\n",
      "/share/data/fiches_seismes/IRSN-Seisme-Fukushima-13022021.pdf\n",
      "/share/data/fiches_seismes/IRSN-Seisme-Napa-24082014.pdf\n",
      "/share/data/fiches_seismes/IRSN_Fiche-Seisme-Ouest-France-16-juin-2023_V1-17062023.pdf\n",
      "/share/data/fiches_seismes/IRSN_Seisme-Japon_Replique-7-avril_V1-08042011.pdf\n",
      "/share/data/fiches_seismes/irsn_Seisme-Allemagne_122004.pdf\n",
      "/share/data/fiches_seismes/IRSN-Seisme-Elazig-Turquie-24012020.pdf\n",
      "/share/data/fiches_seismes/IRSN_seisme-Manosque_V1-12072010.pdf\n",
      "/share/data/fiches_seismes/irsn_seisme-algerie_052003.pdf\n",
      "/share/data/fiches_seismes/IRSN Fiche seisme MULHOUSE 13092022.pdf\n",
      "/share/data/fiches_seismes/IRSN_seisme_sumatra-11042012.pdf\n",
      "/share/data/fiches_seismes/IRSN-Seisme-Kent-22052015.pdf\n",
      "/share/data/fiches_seismes/IRSN-Seisme-LaRochelle-28042016.pdf\n"
     ]
    }
   ],
   "source": [
    "# Spécifiez le chemin du dossier que vous souhaitez lister\n",
    "dossier_path = \"/share/data/fiches_seismes\"\n",
    "\n",
    "# Utilisez glob pour obtenir la liste des fichiers PDF dans le dossier\n",
    "liste_documents_pdf = glob.glob(os.path.join(dossier_path, \"*.pdf\"))\n",
    "\n",
    "# Imprimez la liste des documents PDF\n",
    "print(\"Liste des documents PDF dans le dossier:\")\n",
    "#for document_pdf in liste_documents_pdf:\n",
    "#    print(document_pdf)\n",
    "\n",
    "# Éléments à exclure\n",
    "elements_a_exclure = [\"/share/data/fiches_seismes/IRSN-seisme-Layon-21062019_V1.pdf\",\"/share/data/fiches_seismes/IRSN-Seisme-St-Paul-Ubaye-07042014.pdf\",\n",
    "                     \"/share/data/fiches_seismes/irsn_Seisme-Chine_052008.pdf\",\"/share/data/fiches_seismes/IRSN_Fiche-seisme-PETRINJA-2020_vf.pdf\",\n",
    "                     \"/share/data/fiches_seismes/IRSN-seisme_Okhotsk_240513.pdf\",\"/share/data/fiches_seismes/irsn_seisme_notohanto_japon_042007.pdf\",\n",
    "                     \"/share/data/fiches_seismes/IRSN_Fiche-seisme-Turquie-20230207.pdf\",\"/share/data/fiches_seismes/IRSN_seisme-Chili-V3_07042010.pdf\",\n",
    "                     \"/share/data/fiches_seismes/IRSN-Seismes-Ridgecrest-Californie-201907.pdf\",\"/share/data/fiches_seismes/irsn_Seisme-Italie_042009.pdf\"]\n",
    "\n",
    "# Créez une nouvelle liste en excluant les éléments spécifiés\n",
    "doc_fonctionnels = list(filter(lambda x: x not in elements_a_exclure, liste_documents_pdf))\n",
    "\n",
    "# Affichez la liste mise à jour\n",
    "print(doc_fonctionnels)\n",
    "doc_all = []\n",
    "for document_pdf in doc_fonctionnels:\n",
    "    print(document_pdf)\n",
    "    loader = PDFMinerPDFasHTMLLoader(document_pdf)\n",
    "    data = loader.load()[0]   # entire PDF is loaded as a single Document\n",
    "    \n",
    "    soup = BeautifulSoup(data.page_content,'html.parser')\n",
    "    content = soup.find_all('div')\n",
    "    \n",
    "    cur_fs = None\n",
    "    cur_text = ''\n",
    "    snippets = []   # first collect all snippets that have the same font size\n",
    "    for c in content:\n",
    "        sp = c.find('span')\n",
    "        if not sp:\n",
    "            continue\n",
    "        st = sp.get('style')\n",
    "        if not st:\n",
    "            continue\n",
    "        fs = re.findall('font-size:(\\d+)px',st)\n",
    "        if not fs:\n",
    "            continue\n",
    "        fs = int(fs[0])\n",
    "        if not cur_fs:\n",
    "            cur_fs = fs\n",
    "        if fs == cur_fs:\n",
    "            cur_text += c.text\n",
    "        else:\n",
    "            snippets.append((cur_text,cur_fs))\n",
    "            cur_fs = fs\n",
    "            cur_text = c.text\n",
    "    snippets.append((cur_text,cur_fs))\n",
    "    header = []\n",
    "    compt = 0\n",
    "    for s in snippets:\n",
    "        if compt < 100 and s[1] >= 11 : \n",
    "            header.append(s)\n",
    "            compt+=len(s[0])\n",
    "    header.append(data.metadata['source'])\n",
    "    doc_all.append(header)\n"
   ]
  },
  {
   "cell_type": "markdown",
   "id": "f686887f-3e22-41cb-9de7-74a2f8f675a5",
   "metadata": {},
   "source": [
    "#### Filtre des métadata intéressantees"
   ]
  },
  {
   "cell_type": "code",
   "execution_count": 20,
   "id": "720dc5c2-4160-4c1c-9284-7f0786ba3f5f",
   "metadata": {},
   "outputs": [
    {
     "name": "stdout",
     "output_type": "stream",
     "text": [
      "[('Séisme d’Argelès-Gazost\\n', 22), ('Vendredi 17 novembre 2006\\nMagnitude = 5.2 à 18h19 (TU)\\n', 13), '/share/data/fiches_seismes/irsn_seisme_argeles_gazost_112006.pdf']\n",
      "[('Séisme de Chinon\\n', 22), ('Dimanche 5 novembre 2006\\nMagnitude = 4.1 à 0h37 (TU)\\nRappel des faits\\n', 13), '/share/data/fiches_seismes/irsn_seisme_chinon_11_2006.pdf']\n",
      "[('Séisme d’Haïti \\n(Caraïbes)\\n', 21), ('du mardi 12 janvier 2010\\nMagnitude = 7,0 à 21h53 (TU)\\n', 14), '/share/data/fiches_seismes/IRSN_seisme-haiti_130110.pdf']\n",
      "[('Séisme à Lhommaizé \\n(Vienne)  \\n', 21), ('Du lundi 9 septembre 2013 (20h50 TU)\\nMagnitude = 3,1 (Ml) \\n', 14), '/share/data/fiches_seismes/IRSN-Seisme-Civaux-09092013.pdf']\n",
      "[('Séisme de Van (Turquie) \\n', 22), ('du dimanche 23 octobre 2011 (10h41 TU)\\nMagnitude = 7,2\\n', 13), '/share/data/fiches_seismes/IRSN_seisme_turquie-23102011.pdf']\n",
      "[('Séisme de Chu-Etsu-Oki (Japon)\\n', 22), ('du lundi 16 juillet 2007\\nMagnitude = 6,6 à 1h13 (TU)\\n', 13), '/share/data/fiches_seismes/irsn_seisme_niigata_japon_092007.pdf']\n",
      "[('Séisme de Martinique \\n(Antilles, France)\\n', 22), ('du jeudi 29 novembre 2007\\nMagnitude = 7,4 à 19h00 (TU)\\nRappel des faits\\n', 13), '/share/data/fiches_seismes/irsn_seisme_martinique_122007.pdf']\n",
      "[('Séisme à Saint-Paul-sur-Ubaye \\n(Alpes de Haute-Provence) \\n', 22), ('Du dimanche 26 février 2012 (22h37 TU)\\nMagnitude = 4,8 (Ml - CEA)\\n', 13), '/share/data/fiches_seismes/IRSN_seisme_france-26022012_V2.pdf']\n",
      "[('Séisme du Teil \\n(Ardèche) \\n', 21), ('Du 11 novembre 2019 11h52 Locale \\nMagnitude = 5,4 (Ml) ou 4,9 (Mw) \\n', 14), '/share/data/fiches_seismes/Note-Information-Seisme-Teil-14112019.pdf']\n",
      "[('Séisme de l’Emilia-Romagna  \\n(Italie du Nord) \\n', 21), ('du dimanche 20 mai 2012 \\nMagnitude = 6,1 à 2h03 (TU)\\n', 14), '/share/data/fiches_seismes/IRSN_seisme_Italie-20052012.pdf']\n",
      "[('Séisme de Tohoku\\nau large de l’île d’Honshu (Japon) \\n', 23), ('du vendredi 11 mars 2011 (5h46 TU)\\nMagnitude = 9,0\\n', 15), '/share/data/fiches_seismes/IRSN_seisme-Japon_V2-22042011.pdf']\n",
      "[('Séisme de Lorca (Espagne)  \\n', 21), ('du mercredi 11 mai 2011 (16h47 TU)\\nMagnitude = 5,1 \\n', 14), '/share/data/fiches_seismes/IRSN_Seisme_Lorca-Espagne_18052011.pdf']\n",
      "[('Séisme au Mexique\\n', 21), ('du mardi 21 janvier 2003 à 20h06 heure locale\\nMagnitude = 7,8 à 02h06 (GMT – 22/01/03)\\n', 14), '/share/data/fiches_seismes/irsn_Seisme-Mexique_012003.pdf']\n",
      "[('Séquence sismique  \\nde l’Italie Centrale \\n', 21), ('du dimanche 30 octobre 2016\\nMagnitude = 6,5 à 6h40 (TU)\\n', 14), '/share/data/fiches_seismes/IRSN-Seisme-Norcia-Italie-301016_V1.pdf']\n",
      "[('Séisme en Afghanistan\\n', 21), ('du lundi 25 mars 2002\\nMagnitude = 6 à 14h56 (GMT)\\nRappel des faits\\n', 14), '/share/data/fiches_seismes/irsn_Seisme-Afghanistan_032002.pdf']\n",
      "[('Séisme à Villeneuve \\n(Alpes de Haute-Provence)  \\n', 21), ('Du mercredi 19 septembre 2012 (18h56 TU)\\nMagnitude = 3,5 (Ml) \\n', 14), '/share/data/fiches_seismes/IRSN-Seisme-Manosque-19092012.pdf']\n",
      "[('Séisme d’Amatrice \\n(Italie Centrale) \\n', 21), ('du mercredi 24 août 2016\\nMagnitude = 6,0 à 1h36 (TU)\\n', 14), '/share/data/fiches_seismes/IRSN-Seisme-Amatrice-Italie-240816_V1.pdf']\n",
      "[('Séisme de Virginie (Etats-Unis) \\n', 21), ('Du mardi 23 août 2011 (17h51 TU)\\nMagnitude = 5,8 (Mw)\\n', 14), '/share/data/fiches_seismes/IRSN_seisme_virginie-US-23082011.pdf']\n",
      "[('Séisme de Christchurch \\n(Nouvelle-Zélande) \\n', 23), ('du lundi 21 février 2011 (23h51 TU)\\nMagnitude = 6,3\\n', 15), '/share/data/fiches_seismes/IRSN_seisme_Christchurch-NZ_23022011.pdf']\n",
      "[('Séisme à Montendre \\n(Charente-Maritime)  \\n', 21), ('Du 20 mars 2019 9h56 (TU) – 10h56 Locale\\nMagnitude = 5,0 (Ml - CEA) \\n', 14), '/share/data/fiches_seismes/IRSN-Seisme-Charente-Maritime-France-20190320_v1.1.pdf']\n",
      "[('Séisme de Myiagi (Japon)\\n', 21), ('du lundi 26 mai 2003\\nMagnitude = 7 à 9h24 (GMT)\\n', 14), '/share/data/fiches_seismes/irsn_Seisme-Japon_052003.pdf']\n",
      "[(\"Séisme de l'Etat de Gurajat (Inde)\\n\", 23), ('du 26 janvier 2001\\nMagnitude = 7,5 à 08h46 heure locale\\n', 14), '/share/data/fiches_seismes/irsn_Seisme-Inde_012001.pdf']\n",
      "[('Séisme de Besançon \\n', 21), ('du lundi 23 février 2004\\nMagnitude = 5,1 à 17h31 (TU)\\n', 14), '/share/data/fiches_seismes/irsn_Seisme-Besancon_022004.pdf']\n",
      "[('Séisme de Saint-Hilaire-de-Voust \\n(Vendée) \\n', 21), ('Du 12 février 2018 (3h08 TU)\\nMagnitude = 4,8 (Ml1 - CEA) \\n', 14), '/share/data/fiches_seismes/IRSN-Seisme-Vendee-France-20180212.pdf']\n",
      "[('  INFORMATION : Séisme du Maroc du 8 septembre 2023 \\n', 24), ('Rappel des faits\\n', 12), ('Sismicité Historique\\n', 12), ('Contexte sismotectonique \\n', 12), '/share/data/fiches_seismes/IRSN_Fiche-Seisme-Maroc.pdf']\n",
      "[('INFORMATION : Séisme de Fukushima (Japon) \\n', 24), ('Séisme de Fukushima (Japon) \\ndu 13 février 2021 (14h08 TU – 23h08 locale) \\n Magnitude = 7,1 (Mw –JMA) \\n', 12), '/share/data/fiches_seismes/IRSN-Seisme-Fukushima-13022021.pdf']\n",
      "[('Séisme de Napa  \\n(Californie, USA)  \\n', 21), ('du 24 août 2014 (10h24 TU) \\nMagnitude = 6,0 \\nRappel des faits \\n', 14), '/share/data/fiches_seismes/IRSN-Seisme-Napa-24082014.pdf']\n",
      "[('INFORMATION : Séisme dans l’Ouest de la France \\ndu 16 juin 2023 \\n', 24), ('Rappel des faits\\n', 12), ('Sismicité de la région\\n', 12), '/share/data/fiches_seismes/IRSN_Fiche-Seisme-Ouest-France-16-juin-2023_V1-17062023.pdf']\n",
      "[('Forte réplique près de la centrale \\nd’Onagawa (Japon) suite au séisme \\nde Tohoku\\n', 22), '/share/data/fiches_seismes/IRSN_Seisme-Japon_Replique-7-avril_V1-08042011.pdf']\n",
      "[('Séisme de Fribourg (Allemagne)\\n', 23), ('du 05 décembre 2004\\nMagnitude = 5,1 à 01h52 (TU)\\n', 14), '/share/data/fiches_seismes/irsn_Seisme-Allemagne_122004.pdf']\n",
      "[('Séisme de Elazig  \\n(Turquie) \\n', 21), ('Du 24 janvier 2020 (17h55 TU – 20h55 locale) \\nMagnitude = 6,7 (Mw –USGS) \\n', 14), '/share/data/fiches_seismes/IRSN-Seisme-Elazig-Turquie-24012020.pdf']\n",
      "[('Séisme à Manosque \\n(Alpes de Haute-Provence) \\n', 22), ('du jeudi 8 juillet 2010 (20h20 TU)\\nMagnitude = 3,0 (Ml)\\n', 13), '/share/data/fiches_seismes/IRSN_seisme-Manosque_V1-12072010.pdf']\n",
      "[('Séisme en Algérie\\n', 21), ('du jeudi 21 mai 2003\\nMagnitude = 6,7 à 18h45 (GMT)\\n', 14), '/share/data/fiches_seismes/irsn_seisme-algerie_052003.pdf']\n",
      "[('INFORMATION : Séisme de Mulhouse (Haut-Rhin) \\n', 24), ('Séisme de Mulhouse (Haut-Rhin) \\ndu 10 septembre 2022 (15h58 TU – 17h58 locale)  \\nMagnitude = 3,9 (Mw –Géoazur)\\n Rappel des faits. \\n', 11), '/share/data/fiches_seismes/IRSN Fiche seisme MULHOUSE 13092022.pdf']\n",
      "[('Séismes de Sumatra \\n(Indonésie)\\n', 22), ('du mercredi 11 avril 2012\\nMagnitude = 8,6 à 8h38 (TU) – 14h38 (heure locale)\\nMagnitude = 8,2 à 10h43 (TU) – 16h43 (heure locale)\\n', 13), '/share/data/fiches_seismes/IRSN_seisme_sumatra-11042012.pdf']\n",
      "[('Séisme du Kent \\n(Angleterre)  \\n', 21), ('Du vendredi 22 mai 2015 (1h52 TU)\\nMagnitude = 4,4 (Ml - CEA) \\n', 14), '/share/data/fiches_seismes/IRSN-Seisme-Kent-22052015.pdf']\n",
      "[('Séisme à La Rochelle \\n(Nord du bassin aquitain)  \\n', 22), ('Du 28 avril 2016 (6h46 TU)\\nMagnitude = 5,2 (Ml - CEA) \\n', 14), '/share/data/fiches_seismes/IRSN-Seisme-LaRochelle-28042016.pdf']\n"
     ]
    }
   ],
   "source": [
    "liste_filtrée = []\n",
    "for doc in doc_all:\n",
    "    # Filtrer les deux premiers éléments en fonction de leur valeur\n",
    "    liste_filtrée.append([item for item in doc if not (item[0].strip() == 'I  N  F  O  R  M  A  T  I  O  N' or re.search(r'\\bFS\\b', item[0]))])\n",
    "    \n",
    "for titre in liste_filtrée :\n",
    "    print(titre)"
   ]
  },
  {
   "cell_type": "markdown",
   "id": "1da39bbe-c939-4fc1-8308-05e8bbee089b",
   "metadata": {},
   "source": [
    "#### Ingestion des métadatas dans les nodes"
   ]
  },
  {
   "cell_type": "code",
   "execution_count": 22,
   "id": "8a41d039-2048-4872-9ab1-5b0078b041e3",
   "metadata": {},
   "outputs": [
    {
     "name": "stdout",
     "output_type": "stream",
     "text": [
      "[('I  N  F  O  R  M  A  T  I  O  N \\n', 12), ('Séisme à La Rochelle \\n(Nord du bassin aquitain)  \\n', 22), ('Du 28 avril 2016 (6h46 TU)\\nMagnitude = 5,2 (Ml - CEA) \\n', 14), '/share/data/fiches_seismes/IRSN-Seisme-LaRochelle-28042016.pdf']\n"
     ]
    }
   ],
   "source": [
    "print(doc)"
   ]
  },
  {
   "cell_type": "code",
   "execution_count": 25,
   "id": "8ebe87a4-a5e7-48f6-9a2d-0ab38d26e904",
   "metadata": {
    "scrolled": true
   },
   "outputs": [
    {
     "name": "stdout",
     "output_type": "stream",
     "text": [
      "{'page_label': '1', 'file_name': 'IRSN Fiche seisme MULHOUSE 13092022.pdf', 'file_path': '/share/data/fiches_seismes/IRSN Fiche seisme MULHOUSE 13092022.pdf', 'file_type': 'application/pdf', 'file_size': 589122, 'creation_date': '2023-12-04', 'last_modified_date': '2023-11-30', 'last_accessed_date': '2024-03-06', 'document_title': [('INFORMATION : Séisme de Mulhouse (Haut-Rhin) \\n', 24), ('Séisme de Mulhouse (Haut-Rhin) \\ndu 10 septembre 2022 (15h58 TU – 17h58 locale)  \\nMagnitude = 3,9 (Mw –Géoazur)\\n Rappel des faits. \\n', 11)]}\n",
      "{'page_label': '2', 'file_name': 'IRSN Fiche seisme MULHOUSE 13092022.pdf', 'file_path': '/share/data/fiches_seismes/IRSN Fiche seisme MULHOUSE 13092022.pdf', 'file_type': 'application/pdf', 'file_size': 589122, 'creation_date': '2023-12-04', 'last_modified_date': '2023-11-30', 'last_accessed_date': '2024-03-06', 'document_title': [('INFORMATION : Séisme de Mulhouse (Haut-Rhin) \\n', 24), ('Séisme de Mulhouse (Haut-Rhin) \\ndu 10 septembre 2022 (15h58 TU – 17h58 locale)  \\nMagnitude = 3,9 (Mw –Géoazur)\\n Rappel des faits. \\n', 11)]}\n",
      "{'page_label': '3', 'file_name': 'IRSN Fiche seisme MULHOUSE 13092022.pdf', 'file_path': '/share/data/fiches_seismes/IRSN Fiche seisme MULHOUSE 13092022.pdf', 'file_type': 'application/pdf', 'file_size': 589122, 'creation_date': '2023-12-04', 'last_modified_date': '2023-11-30', 'last_accessed_date': '2024-03-06', 'document_title': [('INFORMATION : Séisme de Mulhouse (Haut-Rhin) \\n', 24), ('Séisme de Mulhouse (Haut-Rhin) \\ndu 10 septembre 2022 (15h58 TU – 17h58 locale)  \\nMagnitude = 3,9 (Mw –Géoazur)\\n Rappel des faits. \\n', 11)]}\n",
      "{'page_label': '4', 'file_name': 'IRSN Fiche seisme MULHOUSE 13092022.pdf', 'file_path': '/share/data/fiches_seismes/IRSN Fiche seisme MULHOUSE 13092022.pdf', 'file_type': 'application/pdf', 'file_size': 589122, 'creation_date': '2023-12-04', 'last_modified_date': '2023-11-30', 'last_accessed_date': '2024-03-06', 'document_title': [('INFORMATION : Séisme de Mulhouse (Haut-Rhin) \\n', 24), ('Séisme de Mulhouse (Haut-Rhin) \\ndu 10 septembre 2022 (15h58 TU – 17h58 locale)  \\nMagnitude = 3,9 (Mw –Géoazur)\\n Rappel des faits. \\n', 11)]}\n",
      "{'page_label': '1', 'file_name': 'IRSN-Seisme-Amatrice-Italie-240816_V1.pdf', 'file_path': '/share/data/fiches_seismes/IRSN-Seisme-Amatrice-Italie-240816_V1.pdf', 'file_type': 'application/pdf', 'file_size': 873733, 'creation_date': '2023-12-04', 'last_modified_date': '2023-11-30', 'last_accessed_date': '2024-03-06', 'document_title': [('Séisme d’Amatrice \\n(Italie Centrale) \\n', 21), ('du mercredi 24 août 2016\\nMagnitude = 6,0 à 1h36 (TU)\\n', 14)]}\n",
      "{'page_label': '2', 'file_name': 'IRSN-Seisme-Amatrice-Italie-240816_V1.pdf', 'file_path': '/share/data/fiches_seismes/IRSN-Seisme-Amatrice-Italie-240816_V1.pdf', 'file_type': 'application/pdf', 'file_size': 873733, 'creation_date': '2023-12-04', 'last_modified_date': '2023-11-30', 'last_accessed_date': '2024-03-06', 'document_title': [('Séisme d’Amatrice \\n(Italie Centrale) \\n', 21), ('du mercredi 24 août 2016\\nMagnitude = 6,0 à 1h36 (TU)\\n', 14)]}\n",
      "{'page_label': '3', 'file_name': 'IRSN-Seisme-Amatrice-Italie-240816_V1.pdf', 'file_path': '/share/data/fiches_seismes/IRSN-Seisme-Amatrice-Italie-240816_V1.pdf', 'file_type': 'application/pdf', 'file_size': 873733, 'creation_date': '2023-12-04', 'last_modified_date': '2023-11-30', 'last_accessed_date': '2024-03-06', 'document_title': [('Séisme d’Amatrice \\n(Italie Centrale) \\n', 21), ('du mercredi 24 août 2016\\nMagnitude = 6,0 à 1h36 (TU)\\n', 14)]}\n",
      "{'page_label': '4', 'file_name': 'IRSN-Seisme-Amatrice-Italie-240816_V1.pdf', 'file_path': '/share/data/fiches_seismes/IRSN-Seisme-Amatrice-Italie-240816_V1.pdf', 'file_type': 'application/pdf', 'file_size': 873733, 'creation_date': '2023-12-04', 'last_modified_date': '2023-11-30', 'last_accessed_date': '2024-03-06', 'document_title': [('Séisme d’Amatrice \\n(Italie Centrale) \\n', 21), ('du mercredi 24 août 2016\\nMagnitude = 6,0 à 1h36 (TU)\\n', 14)]}\n",
      "{'page_label': '1', 'file_name': 'IRSN-Seisme-Charente-Maritime-France-20190320_v1.1.pdf', 'file_path': '/share/data/fiches_seismes/IRSN-Seisme-Charente-Maritime-France-20190320_v1.1.pdf', 'file_type': 'application/pdf', 'file_size': 507575, 'creation_date': '2023-12-04', 'last_modified_date': '2023-11-30', 'last_accessed_date': '2024-03-06', 'document_title': [('Séisme à Montendre \\n(Charente-Maritime)  \\n', 21), ('Du 20 mars 2019 9h56 (TU) – 10h56 Locale\\nMagnitude = 5,0 (Ml - CEA) \\n', 14)]}\n",
      "{'page_label': '2', 'file_name': 'IRSN-Seisme-Charente-Maritime-France-20190320_v1.1.pdf', 'file_path': '/share/data/fiches_seismes/IRSN-Seisme-Charente-Maritime-France-20190320_v1.1.pdf', 'file_type': 'application/pdf', 'file_size': 507575, 'creation_date': '2023-12-04', 'last_modified_date': '2023-11-30', 'last_accessed_date': '2024-03-06', 'document_title': [('Séisme à Montendre \\n(Charente-Maritime)  \\n', 21), ('Du 20 mars 2019 9h56 (TU) – 10h56 Locale\\nMagnitude = 5,0 (Ml - CEA) \\n', 14)]}\n",
      "{'page_label': '1', 'file_name': 'IRSN-Seisme-Civaux-09092013.pdf', 'file_path': '/share/data/fiches_seismes/IRSN-Seisme-Civaux-09092013.pdf', 'file_type': 'application/pdf', 'file_size': 386340, 'creation_date': '2023-12-04', 'last_modified_date': '2023-11-30', 'last_accessed_date': '2024-03-07', 'document_title': [('Séisme à Lhommaizé \\n(Vienne)  \\n', 21), ('Du lundi 9 septembre 2013 (20h50 TU)\\nMagnitude = 3,1 (Ml) \\n', 14)]}\n",
      "{'page_label': '2', 'file_name': 'IRSN-Seisme-Civaux-09092013.pdf', 'file_path': '/share/data/fiches_seismes/IRSN-Seisme-Civaux-09092013.pdf', 'file_type': 'application/pdf', 'file_size': 386340, 'creation_date': '2023-12-04', 'last_modified_date': '2023-11-30', 'last_accessed_date': '2024-03-07', 'document_title': [('Séisme à Lhommaizé \\n(Vienne)  \\n', 21), ('Du lundi 9 septembre 2013 (20h50 TU)\\nMagnitude = 3,1 (Ml) \\n', 14)]}\n",
      "{'page_label': '1', 'file_name': 'IRSN-Seisme-Elazig-Turquie-24012020.pdf', 'file_path': '/share/data/fiches_seismes/IRSN-Seisme-Elazig-Turquie-24012020.pdf', 'file_type': 'application/pdf', 'file_size': 1004616, 'creation_date': '2023-12-04', 'last_modified_date': '2023-11-30', 'last_accessed_date': '2024-03-07', 'document_title': [('Séisme de Elazig  \\n(Turquie) \\n', 21), ('Du 24 janvier 2020 (17h55 TU – 20h55 locale) \\nMagnitude = 6,7 (Mw –USGS) \\n', 14)]}\n",
      "{'page_label': '2', 'file_name': 'IRSN-Seisme-Elazig-Turquie-24012020.pdf', 'file_path': '/share/data/fiches_seismes/IRSN-Seisme-Elazig-Turquie-24012020.pdf', 'file_type': 'application/pdf', 'file_size': 1004616, 'creation_date': '2023-12-04', 'last_modified_date': '2023-11-30', 'last_accessed_date': '2024-03-07', 'document_title': [('Séisme de Elazig  \\n(Turquie) \\n', 21), ('Du 24 janvier 2020 (17h55 TU – 20h55 locale) \\nMagnitude = 6,7 (Mw –USGS) \\n', 14)]}\n",
      "{'page_label': '3', 'file_name': 'IRSN-Seisme-Elazig-Turquie-24012020.pdf', 'file_path': '/share/data/fiches_seismes/IRSN-Seisme-Elazig-Turquie-24012020.pdf', 'file_type': 'application/pdf', 'file_size': 1004616, 'creation_date': '2023-12-04', 'last_modified_date': '2023-11-30', 'last_accessed_date': '2024-03-07', 'document_title': [('Séisme de Elazig  \\n(Turquie) \\n', 21), ('Du 24 janvier 2020 (17h55 TU – 20h55 locale) \\nMagnitude = 6,7 (Mw –USGS) \\n', 14)]}\n",
      "{'page_label': '4', 'file_name': 'IRSN-Seisme-Elazig-Turquie-24012020.pdf', 'file_path': '/share/data/fiches_seismes/IRSN-Seisme-Elazig-Turquie-24012020.pdf', 'file_type': 'application/pdf', 'file_size': 1004616, 'creation_date': '2023-12-04', 'last_modified_date': '2023-11-30', 'last_accessed_date': '2024-03-07', 'document_title': [('Séisme de Elazig  \\n(Turquie) \\n', 21), ('Du 24 janvier 2020 (17h55 TU – 20h55 locale) \\nMagnitude = 6,7 (Mw –USGS) \\n', 14)]}\n",
      "{'page_label': '1', 'file_name': 'IRSN-Seisme-Fukushima-13022021.pdf', 'file_path': '/share/data/fiches_seismes/IRSN-Seisme-Fukushima-13022021.pdf', 'file_type': 'application/pdf', 'file_size': 905803, 'creation_date': '2023-12-04', 'last_modified_date': '2023-11-30', 'last_accessed_date': '2024-03-06', 'document_title': [('INFORMATION : Séisme de Fukushima (Japon) \\n', 24), ('Séisme de Fukushima (Japon) \\ndu 13 février 2021 (14h08 TU – 23h08 locale) \\n Magnitude = 7,1 (Mw –JMA) \\n', 12)]}\n",
      "{'page_label': '2', 'file_name': 'IRSN-Seisme-Fukushima-13022021.pdf', 'file_path': '/share/data/fiches_seismes/IRSN-Seisme-Fukushima-13022021.pdf', 'file_type': 'application/pdf', 'file_size': 905803, 'creation_date': '2023-12-04', 'last_modified_date': '2023-11-30', 'last_accessed_date': '2024-03-06', 'document_title': [('INFORMATION : Séisme de Fukushima (Japon) \\n', 24), ('Séisme de Fukushima (Japon) \\ndu 13 février 2021 (14h08 TU – 23h08 locale) \\n Magnitude = 7,1 (Mw –JMA) \\n', 12)]}\n",
      "{'page_label': '3', 'file_name': 'IRSN-Seisme-Fukushima-13022021.pdf', 'file_path': '/share/data/fiches_seismes/IRSN-Seisme-Fukushima-13022021.pdf', 'file_type': 'application/pdf', 'file_size': 905803, 'creation_date': '2023-12-04', 'last_modified_date': '2023-11-30', 'last_accessed_date': '2024-03-06', 'document_title': [('INFORMATION : Séisme de Fukushima (Japon) \\n', 24), ('Séisme de Fukushima (Japon) \\ndu 13 février 2021 (14h08 TU – 23h08 locale) \\n Magnitude = 7,1 (Mw –JMA) \\n', 12)]}\n",
      "{'page_label': '1', 'file_name': 'IRSN-Seisme-Kent-22052015.pdf', 'file_path': '/share/data/fiches_seismes/IRSN-Seisme-Kent-22052015.pdf', 'file_type': 'application/pdf', 'file_size': 262204, 'creation_date': '2023-12-04', 'last_modified_date': '2023-11-30', 'last_accessed_date': '2024-03-07', 'document_title': [('Séisme du Kent \\n(Angleterre)  \\n', 21), ('Du vendredi 22 mai 2015 (1h52 TU)\\nMagnitude = 4,4 (Ml - CEA) \\n', 14)]}\n",
      "{'page_label': '2', 'file_name': 'IRSN-Seisme-Kent-22052015.pdf', 'file_path': '/share/data/fiches_seismes/IRSN-Seisme-Kent-22052015.pdf', 'file_type': 'application/pdf', 'file_size': 262204, 'creation_date': '2023-12-04', 'last_modified_date': '2023-11-30', 'last_accessed_date': '2024-03-07', 'document_title': [('Séisme du Kent \\n(Angleterre)  \\n', 21), ('Du vendredi 22 mai 2015 (1h52 TU)\\nMagnitude = 4,4 (Ml - CEA) \\n', 14)]}\n",
      "{'page_label': '1', 'file_name': 'IRSN-Seisme-LaRochelle-28042016.pdf', 'file_path': '/share/data/fiches_seismes/IRSN-Seisme-LaRochelle-28042016.pdf', 'file_type': 'application/pdf', 'file_size': 580728, 'creation_date': '2023-12-04', 'last_modified_date': '2023-11-30', 'last_accessed_date': '2024-03-06', 'document_title': [('Séisme à La Rochelle \\n(Nord du bassin aquitain)  \\n', 22), ('Du 28 avril 2016 (6h46 TU)\\nMagnitude = 5,2 (Ml - CEA) \\n', 14)]}\n",
      "{'page_label': '2', 'file_name': 'IRSN-Seisme-LaRochelle-28042016.pdf', 'file_path': '/share/data/fiches_seismes/IRSN-Seisme-LaRochelle-28042016.pdf', 'file_type': 'application/pdf', 'file_size': 580728, 'creation_date': '2023-12-04', 'last_modified_date': '2023-11-30', 'last_accessed_date': '2024-03-06', 'document_title': [('Séisme à La Rochelle \\n(Nord du bassin aquitain)  \\n', 22), ('Du 28 avril 2016 (6h46 TU)\\nMagnitude = 5,2 (Ml - CEA) \\n', 14)]}\n",
      "{'page_label': '1', 'file_name': 'IRSN-Seisme-Manosque-19092012.pdf', 'file_path': '/share/data/fiches_seismes/IRSN-Seisme-Manosque-19092012.pdf', 'file_type': 'application/pdf', 'file_size': 372197, 'creation_date': '2023-12-04', 'last_modified_date': '2023-11-30', 'last_accessed_date': '2024-03-06', 'document_title': [('Séisme à Villeneuve \\n(Alpes de Haute-Provence)  \\n', 21), ('Du mercredi 19 septembre 2012 (18h56 TU)\\nMagnitude = 3,5 (Ml) \\n', 14)]}\n",
      "{'page_label': '2', 'file_name': 'IRSN-Seisme-Manosque-19092012.pdf', 'file_path': '/share/data/fiches_seismes/IRSN-Seisme-Manosque-19092012.pdf', 'file_type': 'application/pdf', 'file_size': 372197, 'creation_date': '2023-12-04', 'last_modified_date': '2023-11-30', 'last_accessed_date': '2024-03-06', 'document_title': [('Séisme à Villeneuve \\n(Alpes de Haute-Provence)  \\n', 21), ('Du mercredi 19 septembre 2012 (18h56 TU)\\nMagnitude = 3,5 (Ml) \\n', 14)]}\n",
      "{'page_label': '3', 'file_name': 'IRSN-Seisme-Manosque-19092012.pdf', 'file_path': '/share/data/fiches_seismes/IRSN-Seisme-Manosque-19092012.pdf', 'file_type': 'application/pdf', 'file_size': 372197, 'creation_date': '2023-12-04', 'last_modified_date': '2023-11-30', 'last_accessed_date': '2024-03-06', 'document_title': [('Séisme à Villeneuve \\n(Alpes de Haute-Provence)  \\n', 21), ('Du mercredi 19 septembre 2012 (18h56 TU)\\nMagnitude = 3,5 (Ml) \\n', 14)]}\n",
      "{'page_label': '1', 'file_name': 'IRSN-Seisme-Napa-24082014.pdf', 'file_path': '/share/data/fiches_seismes/IRSN-Seisme-Napa-24082014.pdf', 'file_type': 'application/pdf', 'file_size': 488755, 'creation_date': '2023-12-04', 'last_modified_date': '2023-11-30', 'last_accessed_date': '2024-03-06', 'document_title': [('Séisme de Napa  \\n(Californie, USA)  \\n', 21), ('du 24 août 2014 (10h24 TU) \\nMagnitude = 6,0 \\nRappel des faits \\n', 14)]}\n",
      "{'page_label': '2', 'file_name': 'IRSN-Seisme-Napa-24082014.pdf', 'file_path': '/share/data/fiches_seismes/IRSN-Seisme-Napa-24082014.pdf', 'file_type': 'application/pdf', 'file_size': 488755, 'creation_date': '2023-12-04', 'last_modified_date': '2023-11-30', 'last_accessed_date': '2024-03-06', 'document_title': [('Séisme de Napa  \\n(Californie, USA)  \\n', 21), ('du 24 août 2014 (10h24 TU) \\nMagnitude = 6,0 \\nRappel des faits \\n', 14)]}\n",
      "{'page_label': '3', 'file_name': 'IRSN-Seisme-Napa-24082014.pdf', 'file_path': '/share/data/fiches_seismes/IRSN-Seisme-Napa-24082014.pdf', 'file_type': 'application/pdf', 'file_size': 488755, 'creation_date': '2023-12-04', 'last_modified_date': '2023-11-30', 'last_accessed_date': '2024-03-06', 'document_title': [('Séisme de Napa  \\n(Californie, USA)  \\n', 21), ('du 24 août 2014 (10h24 TU) \\nMagnitude = 6,0 \\nRappel des faits \\n', 14)]}\n",
      "{'page_label': '1', 'file_name': 'IRSN-Seisme-Norcia-Italie-301016_V1.pdf', 'file_path': '/share/data/fiches_seismes/IRSN-Seisme-Norcia-Italie-301016_V1.pdf', 'file_type': 'application/pdf', 'file_size': 737076, 'creation_date': '2023-12-04', 'last_modified_date': '2023-11-30', 'last_accessed_date': '2024-03-07', 'document_title': [('Séquence sismique  \\nde l’Italie Centrale \\n', 21), ('du dimanche 30 octobre 2016\\nMagnitude = 6,5 à 6h40 (TU)\\n', 14)]}\n",
      "{'page_label': '2', 'file_name': 'IRSN-Seisme-Norcia-Italie-301016_V1.pdf', 'file_path': '/share/data/fiches_seismes/IRSN-Seisme-Norcia-Italie-301016_V1.pdf', 'file_type': 'application/pdf', 'file_size': 737076, 'creation_date': '2023-12-04', 'last_modified_date': '2023-11-30', 'last_accessed_date': '2024-03-07', 'document_title': [('Séquence sismique  \\nde l’Italie Centrale \\n', 21), ('du dimanche 30 octobre 2016\\nMagnitude = 6,5 à 6h40 (TU)\\n', 14)]}\n",
      "{'page_label': '3', 'file_name': 'IRSN-Seisme-Norcia-Italie-301016_V1.pdf', 'file_path': '/share/data/fiches_seismes/IRSN-Seisme-Norcia-Italie-301016_V1.pdf', 'file_type': 'application/pdf', 'file_size': 737076, 'creation_date': '2023-12-04', 'last_modified_date': '2023-11-30', 'last_accessed_date': '2024-03-07', 'document_title': [('Séquence sismique  \\nde l’Italie Centrale \\n', 21), ('du dimanche 30 octobre 2016\\nMagnitude = 6,5 à 6h40 (TU)\\n', 14)]}\n",
      "{'page_label': '1', 'file_name': 'IRSN-Seisme-Vendee-France-20180212.pdf', 'file_path': '/share/data/fiches_seismes/IRSN-Seisme-Vendee-France-20180212.pdf', 'file_type': 'application/pdf', 'file_size': 545761, 'creation_date': '2023-12-04', 'last_modified_date': '2023-11-30', 'last_accessed_date': '2024-03-06', 'document_title': [('Séisme de Saint-Hilaire-de-Voust \\n(Vendée) \\n', 21), ('Du 12 février 2018 (3h08 TU)\\nMagnitude = 4,8 (Ml1 - CEA) \\n', 14)]}\n",
      "{'page_label': '2', 'file_name': 'IRSN-Seisme-Vendee-France-20180212.pdf', 'file_path': '/share/data/fiches_seismes/IRSN-Seisme-Vendee-France-20180212.pdf', 'file_type': 'application/pdf', 'file_size': 545761, 'creation_date': '2023-12-04', 'last_modified_date': '2023-11-30', 'last_accessed_date': '2024-03-06', 'document_title': [('Séisme de Saint-Hilaire-de-Voust \\n(Vendée) \\n', 21), ('Du 12 février 2018 (3h08 TU)\\nMagnitude = 4,8 (Ml1 - CEA) \\n', 14)]}\n",
      "{'page_label': '1', 'file_name': 'IRSN_Fiche-Seisme-Maroc.pdf', 'file_path': '/share/data/fiches_seismes/IRSN_Fiche-Seisme-Maroc.pdf', 'file_type': 'application/pdf', 'file_size': 799780, 'creation_date': '2023-12-04', 'last_modified_date': '2023-11-30', 'last_accessed_date': '2024-03-06', 'document_title': [('  INFORMATION : Séisme du Maroc du 8 septembre 2023 \\n', 24), ('Rappel des faits\\n', 12), ('Sismicité Historique\\n', 12), ('Contexte sismotectonique \\n', 12)]}\n",
      "{'page_label': '2', 'file_name': 'IRSN_Fiche-Seisme-Maroc.pdf', 'file_path': '/share/data/fiches_seismes/IRSN_Fiche-Seisme-Maroc.pdf', 'file_type': 'application/pdf', 'file_size': 799780, 'creation_date': '2023-12-04', 'last_modified_date': '2023-11-30', 'last_accessed_date': '2024-03-06', 'document_title': [('  INFORMATION : Séisme du Maroc du 8 septembre 2023 \\n', 24), ('Rappel des faits\\n', 12), ('Sismicité Historique\\n', 12), ('Contexte sismotectonique \\n', 12)]}\n",
      "{'page_label': '3', 'file_name': 'IRSN_Fiche-Seisme-Maroc.pdf', 'file_path': '/share/data/fiches_seismes/IRSN_Fiche-Seisme-Maroc.pdf', 'file_type': 'application/pdf', 'file_size': 799780, 'creation_date': '2023-12-04', 'last_modified_date': '2023-11-30', 'last_accessed_date': '2024-03-06', 'document_title': [('  INFORMATION : Séisme du Maroc du 8 septembre 2023 \\n', 24), ('Rappel des faits\\n', 12), ('Sismicité Historique\\n', 12), ('Contexte sismotectonique \\n', 12)]}\n",
      "{'page_label': '4', 'file_name': 'IRSN_Fiche-Seisme-Maroc.pdf', 'file_path': '/share/data/fiches_seismes/IRSN_Fiche-Seisme-Maroc.pdf', 'file_type': 'application/pdf', 'file_size': 799780, 'creation_date': '2023-12-04', 'last_modified_date': '2023-11-30', 'last_accessed_date': '2024-03-06', 'document_title': [('  INFORMATION : Séisme du Maroc du 8 septembre 2023 \\n', 24), ('Rappel des faits\\n', 12), ('Sismicité Historique\\n', 12), ('Contexte sismotectonique \\n', 12)]}\n",
      "{'page_label': '1', 'file_name': 'IRSN_Fiche-Seisme-Ouest-France-16-juin-2023_V1-17062023.pdf', 'file_path': '/share/data/fiches_seismes/IRSN_Fiche-Seisme-Ouest-France-16-juin-2023_V1-17062023.pdf', 'file_type': 'application/pdf', 'file_size': 966503, 'creation_date': '2023-12-04', 'last_modified_date': '2023-11-30', 'last_accessed_date': '2024-03-07', 'document_title': [('INFORMATION : Séisme dans l’Ouest de la France \\ndu 16 juin 2023 \\n', 24), ('Rappel des faits\\n', 12), ('Sismicité de la région\\n', 12)]}\n",
      "{'page_label': '2', 'file_name': 'IRSN_Fiche-Seisme-Ouest-France-16-juin-2023_V1-17062023.pdf', 'file_path': '/share/data/fiches_seismes/IRSN_Fiche-Seisme-Ouest-France-16-juin-2023_V1-17062023.pdf', 'file_type': 'application/pdf', 'file_size': 966503, 'creation_date': '2023-12-04', 'last_modified_date': '2023-11-30', 'last_accessed_date': '2024-03-07', 'document_title': [('INFORMATION : Séisme dans l’Ouest de la France \\ndu 16 juin 2023 \\n', 24), ('Rappel des faits\\n', 12), ('Sismicité de la région\\n', 12)]}\n",
      "{'page_label': '3', 'file_name': 'IRSN_Fiche-Seisme-Ouest-France-16-juin-2023_V1-17062023.pdf', 'file_path': '/share/data/fiches_seismes/IRSN_Fiche-Seisme-Ouest-France-16-juin-2023_V1-17062023.pdf', 'file_type': 'application/pdf', 'file_size': 966503, 'creation_date': '2023-12-04', 'last_modified_date': '2023-11-30', 'last_accessed_date': '2024-03-07', 'document_title': [('INFORMATION : Séisme dans l’Ouest de la France \\ndu 16 juin 2023 \\n', 24), ('Rappel des faits\\n', 12), ('Sismicité de la région\\n', 12)]}\n",
      "{'page_label': '4', 'file_name': 'IRSN_Fiche-Seisme-Ouest-France-16-juin-2023_V1-17062023.pdf', 'file_path': '/share/data/fiches_seismes/IRSN_Fiche-Seisme-Ouest-France-16-juin-2023_V1-17062023.pdf', 'file_type': 'application/pdf', 'file_size': 966503, 'creation_date': '2023-12-04', 'last_modified_date': '2023-11-30', 'last_accessed_date': '2024-03-07', 'document_title': [('INFORMATION : Séisme dans l’Ouest de la France \\ndu 16 juin 2023 \\n', 24), ('Rappel des faits\\n', 12), ('Sismicité de la région\\n', 12)]}\n",
      "{'page_label': '1', 'file_name': 'IRSN_Seisme-Japon_Replique-7-avril_V1-08042011.pdf', 'file_path': '/share/data/fiches_seismes/IRSN_Seisme-Japon_Replique-7-avril_V1-08042011.pdf', 'file_type': 'application/pdf', 'file_size': 174714, 'creation_date': '2023-12-04', 'last_modified_date': '2023-11-30', 'last_accessed_date': '2024-03-07', 'document_title': [('Forte réplique près de la centrale \\nd’Onagawa (Japon) suite au séisme \\nde Tohoku\\n', 22)]}\n",
      "{'page_label': '1', 'file_name': 'IRSN_Seisme_Lorca-Espagne_18052011.pdf', 'file_path': '/share/data/fiches_seismes/IRSN_Seisme_Lorca-Espagne_18052011.pdf', 'file_type': 'application/pdf', 'file_size': 325018, 'creation_date': '2023-12-04', 'last_modified_date': '2023-11-30', 'last_accessed_date': '2024-03-06', 'document_title': [('Séisme de Lorca (Espagne)  \\n', 21), ('du mercredi 11 mai 2011 (16h47 TU)\\nMagnitude = 5,1 \\n', 14)]}\n",
      "{'page_label': '2', 'file_name': 'IRSN_Seisme_Lorca-Espagne_18052011.pdf', 'file_path': '/share/data/fiches_seismes/IRSN_Seisme_Lorca-Espagne_18052011.pdf', 'file_type': 'application/pdf', 'file_size': 325018, 'creation_date': '2023-12-04', 'last_modified_date': '2023-11-30', 'last_accessed_date': '2024-03-06', 'document_title': [('Séisme de Lorca (Espagne)  \\n', 21), ('du mercredi 11 mai 2011 (16h47 TU)\\nMagnitude = 5,1 \\n', 14)]}\n",
      "{'page_label': '1', 'file_name': 'IRSN_seisme-Japon_V2-22042011.pdf', 'file_path': '/share/data/fiches_seismes/IRSN_seisme-Japon_V2-22042011.pdf', 'file_type': 'application/pdf', 'file_size': 789067, 'creation_date': '2023-12-04', 'last_modified_date': '2023-11-30', 'last_accessed_date': '2024-03-07', 'document_title': [('Séisme de Tohoku\\nau large de l’île d’Honshu (Japon) \\n', 23), ('du vendredi 11 mars 2011 (5h46 TU)\\nMagnitude = 9,0\\n', 15)]}\n",
      "{'page_label': '2', 'file_name': 'IRSN_seisme-Japon_V2-22042011.pdf', 'file_path': '/share/data/fiches_seismes/IRSN_seisme-Japon_V2-22042011.pdf', 'file_type': 'application/pdf', 'file_size': 789067, 'creation_date': '2023-12-04', 'last_modified_date': '2023-11-30', 'last_accessed_date': '2024-03-07', 'document_title': [('Séisme de Tohoku\\nau large de l’île d’Honshu (Japon) \\n', 23), ('du vendredi 11 mars 2011 (5h46 TU)\\nMagnitude = 9,0\\n', 15)]}\n",
      "{'page_label': '3', 'file_name': 'IRSN_seisme-Japon_V2-22042011.pdf', 'file_path': '/share/data/fiches_seismes/IRSN_seisme-Japon_V2-22042011.pdf', 'file_type': 'application/pdf', 'file_size': 789067, 'creation_date': '2023-12-04', 'last_modified_date': '2023-11-30', 'last_accessed_date': '2024-03-07', 'document_title': [('Séisme de Tohoku\\nau large de l’île d’Honshu (Japon) \\n', 23), ('du vendredi 11 mars 2011 (5h46 TU)\\nMagnitude = 9,0\\n', 15)]}\n",
      "{'page_label': '4', 'file_name': 'IRSN_seisme-Japon_V2-22042011.pdf', 'file_path': '/share/data/fiches_seismes/IRSN_seisme-Japon_V2-22042011.pdf', 'file_type': 'application/pdf', 'file_size': 789067, 'creation_date': '2023-12-04', 'last_modified_date': '2023-11-30', 'last_accessed_date': '2024-03-07', 'document_title': [('Séisme de Tohoku\\nau large de l’île d’Honshu (Japon) \\n', 23), ('du vendredi 11 mars 2011 (5h46 TU)\\nMagnitude = 9,0\\n', 15)]}\n",
      "{'page_label': '5', 'file_name': 'IRSN_seisme-Japon_V2-22042011.pdf', 'file_path': '/share/data/fiches_seismes/IRSN_seisme-Japon_V2-22042011.pdf', 'file_type': 'application/pdf', 'file_size': 789067, 'creation_date': '2023-12-04', 'last_modified_date': '2023-11-30', 'last_accessed_date': '2024-03-07', 'document_title': [('Séisme de Tohoku\\nau large de l’île d’Honshu (Japon) \\n', 23), ('du vendredi 11 mars 2011 (5h46 TU)\\nMagnitude = 9,0\\n', 15)]}\n",
      "{'page_label': '6', 'file_name': 'IRSN_seisme-Japon_V2-22042011.pdf', 'file_path': '/share/data/fiches_seismes/IRSN_seisme-Japon_V2-22042011.pdf', 'file_type': 'application/pdf', 'file_size': 789067, 'creation_date': '2023-12-04', 'last_modified_date': '2023-11-30', 'last_accessed_date': '2024-03-07', 'document_title': [('Séisme de Tohoku\\nau large de l’île d’Honshu (Japon) \\n', 23), ('du vendredi 11 mars 2011 (5h46 TU)\\nMagnitude = 9,0\\n', 15)]}\n",
      "{'page_label': '1', 'file_name': 'IRSN_seisme-Manosque_V1-12072010.pdf', 'file_path': '/share/data/fiches_seismes/IRSN_seisme-Manosque_V1-12072010.pdf', 'file_type': 'application/pdf', 'file_size': 197301, 'creation_date': '2023-12-04', 'last_modified_date': '2023-11-30', 'last_accessed_date': '2024-03-06', 'document_title': [('Séisme à Manosque \\n(Alpes de Haute-Provence) \\n', 22), ('du jeudi 8 juillet 2010 (20h20 TU)\\nMagnitude = 3,0 (Ml)\\n', 13)]}\n",
      "{'page_label': '2', 'file_name': 'IRSN_seisme-Manosque_V1-12072010.pdf', 'file_path': '/share/data/fiches_seismes/IRSN_seisme-Manosque_V1-12072010.pdf', 'file_type': 'application/pdf', 'file_size': 197301, 'creation_date': '2023-12-04', 'last_modified_date': '2023-11-30', 'last_accessed_date': '2024-03-06', 'document_title': [('Séisme à Manosque \\n(Alpes de Haute-Provence) \\n', 22), ('du jeudi 8 juillet 2010 (20h20 TU)\\nMagnitude = 3,0 (Ml)\\n', 13)]}\n",
      "{'page_label': '3', 'file_name': 'IRSN_seisme-Manosque_V1-12072010.pdf', 'file_path': '/share/data/fiches_seismes/IRSN_seisme-Manosque_V1-12072010.pdf', 'file_type': 'application/pdf', 'file_size': 197301, 'creation_date': '2023-12-04', 'last_modified_date': '2023-11-30', 'last_accessed_date': '2024-03-06', 'document_title': [('Séisme à Manosque \\n(Alpes de Haute-Provence) \\n', 22), ('du jeudi 8 juillet 2010 (20h20 TU)\\nMagnitude = 3,0 (Ml)\\n', 13)]}\n",
      "{'page_label': '1', 'file_name': 'IRSN_seisme-haiti_130110.pdf', 'file_path': '/share/data/fiches_seismes/IRSN_seisme-haiti_130110.pdf', 'file_type': 'application/pdf', 'file_size': 322895, 'creation_date': '2023-12-04', 'last_modified_date': '2023-11-30', 'last_accessed_date': '2024-03-07', 'document_title': [('Séisme d’Haïti \\n(Caraïbes)\\n', 21), ('du mardi 12 janvier 2010\\nMagnitude = 7,0 à 21h53 (TU)\\n', 14)]}\n",
      "{'page_label': '2', 'file_name': 'IRSN_seisme-haiti_130110.pdf', 'file_path': '/share/data/fiches_seismes/IRSN_seisme-haiti_130110.pdf', 'file_type': 'application/pdf', 'file_size': 322895, 'creation_date': '2023-12-04', 'last_modified_date': '2023-11-30', 'last_accessed_date': '2024-03-07', 'document_title': [('Séisme d’Haïti \\n(Caraïbes)\\n', 21), ('du mardi 12 janvier 2010\\nMagnitude = 7,0 à 21h53 (TU)\\n', 14)]}\n",
      "{'page_label': '1', 'file_name': 'IRSN_seisme_Christchurch-NZ_23022011.pdf', 'file_path': '/share/data/fiches_seismes/IRSN_seisme_Christchurch-NZ_23022011.pdf', 'file_type': 'application/pdf', 'file_size': 278522, 'creation_date': '2023-12-04', 'last_modified_date': '2023-11-30', 'last_accessed_date': '2024-03-07', 'document_title': [('Séisme de Christchurch \\n(Nouvelle-Zélande) \\n', 23), ('du lundi 21 février 2011 (23h51 TU)\\nMagnitude = 6,3\\n', 15)]}\n",
      "{'page_label': '2', 'file_name': 'IRSN_seisme_Christchurch-NZ_23022011.pdf', 'file_path': '/share/data/fiches_seismes/IRSN_seisme_Christchurch-NZ_23022011.pdf', 'file_type': 'application/pdf', 'file_size': 278522, 'creation_date': '2023-12-04', 'last_modified_date': '2023-11-30', 'last_accessed_date': '2024-03-07', 'document_title': [('Séisme de Christchurch \\n(Nouvelle-Zélande) \\n', 23), ('du lundi 21 février 2011 (23h51 TU)\\nMagnitude = 6,3\\n', 15)]}\n",
      "{'page_label': '3', 'file_name': 'IRSN_seisme_Christchurch-NZ_23022011.pdf', 'file_path': '/share/data/fiches_seismes/IRSN_seisme_Christchurch-NZ_23022011.pdf', 'file_type': 'application/pdf', 'file_size': 278522, 'creation_date': '2023-12-04', 'last_modified_date': '2023-11-30', 'last_accessed_date': '2024-03-07', 'document_title': [('Séisme de Christchurch \\n(Nouvelle-Zélande) \\n', 23), ('du lundi 21 février 2011 (23h51 TU)\\nMagnitude = 6,3\\n', 15)]}\n",
      "{'page_label': '1', 'file_name': 'IRSN_seisme_Italie-20052012.pdf', 'file_path': '/share/data/fiches_seismes/IRSN_seisme_Italie-20052012.pdf', 'file_type': 'application/pdf', 'file_size': 794737, 'creation_date': '2023-12-04', 'last_modified_date': '2023-11-30', 'last_accessed_date': '2024-03-06', 'document_title': [('Séisme de l’Emilia-Romagna  \\n(Italie du Nord) \\n', 21), ('du dimanche 20 mai 2012 \\nMagnitude = 6,1 à 2h03 (TU)\\n', 14)]}\n",
      "{'page_label': '2', 'file_name': 'IRSN_seisme_Italie-20052012.pdf', 'file_path': '/share/data/fiches_seismes/IRSN_seisme_Italie-20052012.pdf', 'file_type': 'application/pdf', 'file_size': 794737, 'creation_date': '2023-12-04', 'last_modified_date': '2023-11-30', 'last_accessed_date': '2024-03-06', 'document_title': [('Séisme de l’Emilia-Romagna  \\n(Italie du Nord) \\n', 21), ('du dimanche 20 mai 2012 \\nMagnitude = 6,1 à 2h03 (TU)\\n', 14)]}\n",
      "{'page_label': '3', 'file_name': 'IRSN_seisme_Italie-20052012.pdf', 'file_path': '/share/data/fiches_seismes/IRSN_seisme_Italie-20052012.pdf', 'file_type': 'application/pdf', 'file_size': 794737, 'creation_date': '2023-12-04', 'last_modified_date': '2023-11-30', 'last_accessed_date': '2024-03-06', 'document_title': [('Séisme de l’Emilia-Romagna  \\n(Italie du Nord) \\n', 21), ('du dimanche 20 mai 2012 \\nMagnitude = 6,1 à 2h03 (TU)\\n', 14)]}\n",
      "{'page_label': '4', 'file_name': 'IRSN_seisme_Italie-20052012.pdf', 'file_path': '/share/data/fiches_seismes/IRSN_seisme_Italie-20052012.pdf', 'file_type': 'application/pdf', 'file_size': 794737, 'creation_date': '2023-12-04', 'last_modified_date': '2023-11-30', 'last_accessed_date': '2024-03-06', 'document_title': [('Séisme de l’Emilia-Romagna  \\n(Italie du Nord) \\n', 21), ('du dimanche 20 mai 2012 \\nMagnitude = 6,1 à 2h03 (TU)\\n', 14)]}\n",
      "{'page_label': '1', 'file_name': 'IRSN_seisme_france-26022012_V2.pdf', 'file_path': '/share/data/fiches_seismes/IRSN_seisme_france-26022012_V2.pdf', 'file_type': 'application/pdf', 'file_size': 989593, 'creation_date': '2023-12-04', 'last_modified_date': '2023-11-30', 'last_accessed_date': '2024-03-07', 'document_title': [('Séisme à Saint-Paul-sur-Ubaye \\n(Alpes de Haute-Provence) \\n', 22), ('Du dimanche 26 février 2012 (22h37 TU)\\nMagnitude = 4,8 (Ml - CEA)\\n', 13)]}\n",
      "{'page_label': '2', 'file_name': 'IRSN_seisme_france-26022012_V2.pdf', 'file_path': '/share/data/fiches_seismes/IRSN_seisme_france-26022012_V2.pdf', 'file_type': 'application/pdf', 'file_size': 989593, 'creation_date': '2023-12-04', 'last_modified_date': '2023-11-30', 'last_accessed_date': '2024-03-07', 'document_title': [('Séisme à Saint-Paul-sur-Ubaye \\n(Alpes de Haute-Provence) \\n', 22), ('Du dimanche 26 février 2012 (22h37 TU)\\nMagnitude = 4,8 (Ml - CEA)\\n', 13)]}\n",
      "{'page_label': '3', 'file_name': 'IRSN_seisme_france-26022012_V2.pdf', 'file_path': '/share/data/fiches_seismes/IRSN_seisme_france-26022012_V2.pdf', 'file_type': 'application/pdf', 'file_size': 989593, 'creation_date': '2023-12-04', 'last_modified_date': '2023-11-30', 'last_accessed_date': '2024-03-07', 'document_title': [('Séisme à Saint-Paul-sur-Ubaye \\n(Alpes de Haute-Provence) \\n', 22), ('Du dimanche 26 février 2012 (22h37 TU)\\nMagnitude = 4,8 (Ml - CEA)\\n', 13)]}\n",
      "{'page_label': '1', 'file_name': 'IRSN_seisme_sumatra-11042012.pdf', 'file_path': '/share/data/fiches_seismes/IRSN_seisme_sumatra-11042012.pdf', 'file_type': 'application/pdf', 'file_size': 318505, 'creation_date': '2023-12-04', 'last_modified_date': '2023-11-30', 'last_accessed_date': '2024-03-06', 'document_title': [('Séismes de Sumatra \\n(Indonésie)\\n', 22), ('du mercredi 11 avril 2012\\nMagnitude = 8,6 à 8h38 (TU) – 14h38 (heure locale)\\nMagnitude = 8,2 à 10h43 (TU) – 16h43 (heure locale)\\n', 13)]}\n",
      "{'page_label': '2', 'file_name': 'IRSN_seisme_sumatra-11042012.pdf', 'file_path': '/share/data/fiches_seismes/IRSN_seisme_sumatra-11042012.pdf', 'file_type': 'application/pdf', 'file_size': 318505, 'creation_date': '2023-12-04', 'last_modified_date': '2023-11-30', 'last_accessed_date': '2024-03-06', 'document_title': [('Séismes de Sumatra \\n(Indonésie)\\n', 22), ('du mercredi 11 avril 2012\\nMagnitude = 8,6 à 8h38 (TU) – 14h38 (heure locale)\\nMagnitude = 8,2 à 10h43 (TU) – 16h43 (heure locale)\\n', 13)]}\n",
      "{'page_label': '1', 'file_name': 'IRSN_seisme_turquie-23102011.pdf', 'file_path': '/share/data/fiches_seismes/IRSN_seisme_turquie-23102011.pdf', 'file_type': 'application/pdf', 'file_size': 566570, 'creation_date': '2024-01-26', 'last_modified_date': '2024-01-26', 'last_accessed_date': '2024-03-06', 'document_title': [('Séisme de Van (Turquie) \\n', 22), ('du dimanche 23 octobre 2011 (10h41 TU)\\nMagnitude = 7,2\\n', 13)]}\n",
      "{'page_label': '2', 'file_name': 'IRSN_seisme_turquie-23102011.pdf', 'file_path': '/share/data/fiches_seismes/IRSN_seisme_turquie-23102011.pdf', 'file_type': 'application/pdf', 'file_size': 566570, 'creation_date': '2024-01-26', 'last_modified_date': '2024-01-26', 'last_accessed_date': '2024-03-06', 'document_title': [('Séisme de Van (Turquie) \\n', 22), ('du dimanche 23 octobre 2011 (10h41 TU)\\nMagnitude = 7,2\\n', 13)]}\n",
      "{'page_label': '1', 'file_name': 'IRSN_seisme_virginie-US-23082011.pdf', 'file_path': '/share/data/fiches_seismes/IRSN_seisme_virginie-US-23082011.pdf', 'file_type': 'application/pdf', 'file_size': 864306, 'creation_date': '2023-12-04', 'last_modified_date': '2023-11-30', 'last_accessed_date': '2024-03-06', 'document_title': [('Séisme de Virginie (Etats-Unis) \\n', 21), ('Du mardi 23 août 2011 (17h51 TU)\\nMagnitude = 5,8 (Mw)\\n', 14)]}\n",
      "{'page_label': '2', 'file_name': 'IRSN_seisme_virginie-US-23082011.pdf', 'file_path': '/share/data/fiches_seismes/IRSN_seisme_virginie-US-23082011.pdf', 'file_type': 'application/pdf', 'file_size': 864306, 'creation_date': '2023-12-04', 'last_modified_date': '2023-11-30', 'last_accessed_date': '2024-03-06', 'document_title': [('Séisme de Virginie (Etats-Unis) \\n', 21), ('Du mardi 23 août 2011 (17h51 TU)\\nMagnitude = 5,8 (Mw)\\n', 14)]}\n",
      "{'page_label': '3', 'file_name': 'IRSN_seisme_virginie-US-23082011.pdf', 'file_path': '/share/data/fiches_seismes/IRSN_seisme_virginie-US-23082011.pdf', 'file_type': 'application/pdf', 'file_size': 864306, 'creation_date': '2023-12-04', 'last_modified_date': '2023-11-30', 'last_accessed_date': '2024-03-06', 'document_title': [('Séisme de Virginie (Etats-Unis) \\n', 21), ('Du mardi 23 août 2011 (17h51 TU)\\nMagnitude = 5,8 (Mw)\\n', 14)]}\n",
      "{'page_label': '4', 'file_name': 'IRSN_seisme_virginie-US-23082011.pdf', 'file_path': '/share/data/fiches_seismes/IRSN_seisme_virginie-US-23082011.pdf', 'file_type': 'application/pdf', 'file_size': 864306, 'creation_date': '2023-12-04', 'last_modified_date': '2023-11-30', 'last_accessed_date': '2024-03-06', 'document_title': [('Séisme de Virginie (Etats-Unis) \\n', 21), ('Du mardi 23 août 2011 (17h51 TU)\\nMagnitude = 5,8 (Mw)\\n', 14)]}\n",
      "{'page_label': '1', 'file_name': 'Note-Information-Seisme-Teil-14112019.pdf', 'file_path': '/share/data/fiches_seismes/Note-Information-Seisme-Teil-14112019.pdf', 'file_type': 'application/pdf', 'file_size': 1046593, 'creation_date': '2023-12-04', 'last_modified_date': '2023-11-30', 'last_accessed_date': '2024-03-06', 'document_title': [('Séisme du Teil \\n(Ardèche) \\n', 21), ('Du 11 novembre 2019 11h52 Locale \\nMagnitude = 5,4 (Ml) ou 4,9 (Mw) \\n', 14)]}\n",
      "{'page_label': '2', 'file_name': 'Note-Information-Seisme-Teil-14112019.pdf', 'file_path': '/share/data/fiches_seismes/Note-Information-Seisme-Teil-14112019.pdf', 'file_type': 'application/pdf', 'file_size': 1046593, 'creation_date': '2023-12-04', 'last_modified_date': '2023-11-30', 'last_accessed_date': '2024-03-06', 'document_title': [('Séisme du Teil \\n(Ardèche) \\n', 21), ('Du 11 novembre 2019 11h52 Locale \\nMagnitude = 5,4 (Ml) ou 4,9 (Mw) \\n', 14)]}\n",
      "{'page_label': '3', 'file_name': 'Note-Information-Seisme-Teil-14112019.pdf', 'file_path': '/share/data/fiches_seismes/Note-Information-Seisme-Teil-14112019.pdf', 'file_type': 'application/pdf', 'file_size': 1046593, 'creation_date': '2023-12-04', 'last_modified_date': '2023-11-30', 'last_accessed_date': '2024-03-06', 'document_title': [('Séisme du Teil \\n(Ardèche) \\n', 21), ('Du 11 novembre 2019 11h52 Locale \\nMagnitude = 5,4 (Ml) ou 4,9 (Mw) \\n', 14)]}\n",
      "{'page_label': '4', 'file_name': 'Note-Information-Seisme-Teil-14112019.pdf', 'file_path': '/share/data/fiches_seismes/Note-Information-Seisme-Teil-14112019.pdf', 'file_type': 'application/pdf', 'file_size': 1046593, 'creation_date': '2023-12-04', 'last_modified_date': '2023-11-30', 'last_accessed_date': '2024-03-06', 'document_title': [('Séisme du Teil \\n(Ardèche) \\n', 21), ('Du 11 novembre 2019 11h52 Locale \\nMagnitude = 5,4 (Ml) ou 4,9 (Mw) \\n', 14)]}\n",
      "{'page_label': '5', 'file_name': 'Note-Information-Seisme-Teil-14112019.pdf', 'file_path': '/share/data/fiches_seismes/Note-Information-Seisme-Teil-14112019.pdf', 'file_type': 'application/pdf', 'file_size': 1046593, 'creation_date': '2023-12-04', 'last_modified_date': '2023-11-30', 'last_accessed_date': '2024-03-06', 'document_title': [('Séisme du Teil \\n(Ardèche) \\n', 21), ('Du 11 novembre 2019 11h52 Locale \\nMagnitude = 5,4 (Ml) ou 4,9 (Mw) \\n', 14)]}\n",
      "{'page_label': '6', 'file_name': 'Note-Information-Seisme-Teil-14112019.pdf', 'file_path': '/share/data/fiches_seismes/Note-Information-Seisme-Teil-14112019.pdf', 'file_type': 'application/pdf', 'file_size': 1046593, 'creation_date': '2023-12-04', 'last_modified_date': '2023-11-30', 'last_accessed_date': '2024-03-06', 'document_title': [('Séisme du Teil \\n(Ardèche) \\n', 21), ('Du 11 novembre 2019 11h52 Locale \\nMagnitude = 5,4 (Ml) ou 4,9 (Mw) \\n', 14)]}\n",
      "{'page_label': '7', 'file_name': 'Note-Information-Seisme-Teil-14112019.pdf', 'file_path': '/share/data/fiches_seismes/Note-Information-Seisme-Teil-14112019.pdf', 'file_type': 'application/pdf', 'file_size': 1046593, 'creation_date': '2023-12-04', 'last_modified_date': '2023-11-30', 'last_accessed_date': '2024-03-06', 'document_title': [('Séisme du Teil \\n(Ardèche) \\n', 21), ('Du 11 novembre 2019 11h52 Locale \\nMagnitude = 5,4 (Ml) ou 4,9 (Mw) \\n', 14)]}\n",
      "{'page_label': '1', 'file_name': 'irsn_Seisme-Afghanistan_032002.pdf', 'file_path': '/share/data/fiches_seismes/irsn_Seisme-Afghanistan_032002.pdf', 'file_type': 'application/pdf', 'file_size': 101379, 'creation_date': '2023-12-04', 'last_modified_date': '2023-11-30', 'last_accessed_date': '2024-03-07', 'document_title': [('Séisme en Afghanistan\\n', 21), ('du lundi 25 mars 2002\\nMagnitude = 6 à 14h56 (GMT)\\nRappel des faits\\n', 14)]}\n",
      "{'page_label': '2', 'file_name': 'irsn_Seisme-Afghanistan_032002.pdf', 'file_path': '/share/data/fiches_seismes/irsn_Seisme-Afghanistan_032002.pdf', 'file_type': 'application/pdf', 'file_size': 101379, 'creation_date': '2023-12-04', 'last_modified_date': '2023-11-30', 'last_accessed_date': '2024-03-07', 'document_title': [('Séisme en Afghanistan\\n', 21), ('du lundi 25 mars 2002\\nMagnitude = 6 à 14h56 (GMT)\\nRappel des faits\\n', 14)]}\n",
      "{'page_label': '1', 'file_name': 'irsn_Seisme-Allemagne_122004.pdf', 'file_path': '/share/data/fiches_seismes/irsn_Seisme-Allemagne_122004.pdf', 'file_type': 'application/pdf', 'file_size': 313746, 'creation_date': '2023-12-04', 'last_modified_date': '2023-11-30', 'last_accessed_date': '2024-03-06', 'document_title': [('Séisme de Fribourg (Allemagne)\\n', 23), ('du 05 décembre 2004\\nMagnitude = 5,1 à 01h52 (TU)\\n', 14)]}\n",
      "{'page_label': '2', 'file_name': 'irsn_Seisme-Allemagne_122004.pdf', 'file_path': '/share/data/fiches_seismes/irsn_Seisme-Allemagne_122004.pdf', 'file_type': 'application/pdf', 'file_size': 313746, 'creation_date': '2023-12-04', 'last_modified_date': '2023-11-30', 'last_accessed_date': '2024-03-06', 'document_title': [('Séisme de Fribourg (Allemagne)\\n', 23), ('du 05 décembre 2004\\nMagnitude = 5,1 à 01h52 (TU)\\n', 14)]}\n",
      "{'page_label': '1', 'file_name': 'irsn_Seisme-Besancon_022004.pdf', 'file_path': '/share/data/fiches_seismes/irsn_Seisme-Besancon_022004.pdf', 'file_type': 'application/pdf', 'file_size': 121448, 'creation_date': '2023-12-04', 'last_modified_date': '2023-11-30', 'last_accessed_date': '2024-03-07', 'document_title': [('Séisme de Besançon \\n', 21), ('du lundi 23 février 2004\\nMagnitude = 5,1 à 17h31 (TU)\\n', 14)]}\n",
      "{'page_label': '2', 'file_name': 'irsn_Seisme-Besancon_022004.pdf', 'file_path': '/share/data/fiches_seismes/irsn_Seisme-Besancon_022004.pdf', 'file_type': 'application/pdf', 'file_size': 121448, 'creation_date': '2023-12-04', 'last_modified_date': '2023-11-30', 'last_accessed_date': '2024-03-07', 'document_title': [('Séisme de Besançon \\n', 21), ('du lundi 23 février 2004\\nMagnitude = 5,1 à 17h31 (TU)\\n', 14)]}\n",
      "{'page_label': '1', 'file_name': 'irsn_Seisme-Inde_012001.pdf', 'file_path': '/share/data/fiches_seismes/irsn_Seisme-Inde_012001.pdf', 'file_type': 'application/pdf', 'file_size': 210757, 'creation_date': '2023-12-04', 'last_modified_date': '2023-11-30', 'last_accessed_date': '2024-03-06', 'document_title': [(\"Séisme de l'Etat de Gurajat (Inde)\\n\", 23), ('du 26 janvier 2001\\nMagnitude = 7,5 à 08h46 heure locale\\n', 14)]}\n",
      "{'page_label': '2', 'file_name': 'irsn_Seisme-Inde_012001.pdf', 'file_path': '/share/data/fiches_seismes/irsn_Seisme-Inde_012001.pdf', 'file_type': 'application/pdf', 'file_size': 210757, 'creation_date': '2023-12-04', 'last_modified_date': '2023-11-30', 'last_accessed_date': '2024-03-06', 'document_title': [(\"Séisme de l'Etat de Gurajat (Inde)\\n\", 23), ('du 26 janvier 2001\\nMagnitude = 7,5 à 08h46 heure locale\\n', 14)]}\n",
      "{'page_label': '1', 'file_name': 'irsn_Seisme-Japon_052003.pdf', 'file_path': '/share/data/fiches_seismes/irsn_Seisme-Japon_052003.pdf', 'file_type': 'application/pdf', 'file_size': 179858, 'creation_date': '2023-12-04', 'last_modified_date': '2023-11-30', 'last_accessed_date': '2024-03-06', 'document_title': [('Séisme de Myiagi (Japon)\\n', 21), ('du lundi 26 mai 2003\\nMagnitude = 7 à 9h24 (GMT)\\n', 14)]}\n",
      "{'page_label': '2', 'file_name': 'irsn_Seisme-Japon_052003.pdf', 'file_path': '/share/data/fiches_seismes/irsn_Seisme-Japon_052003.pdf', 'file_type': 'application/pdf', 'file_size': 179858, 'creation_date': '2023-12-04', 'last_modified_date': '2023-11-30', 'last_accessed_date': '2024-03-06', 'document_title': [('Séisme de Myiagi (Japon)\\n', 21), ('du lundi 26 mai 2003\\nMagnitude = 7 à 9h24 (GMT)\\n', 14)]}\n",
      "{'page_label': '3', 'file_name': 'irsn_Seisme-Japon_052003.pdf', 'file_path': '/share/data/fiches_seismes/irsn_Seisme-Japon_052003.pdf', 'file_type': 'application/pdf', 'file_size': 179858, 'creation_date': '2023-12-04', 'last_modified_date': '2023-11-30', 'last_accessed_date': '2024-03-06', 'document_title': [('Séisme de Myiagi (Japon)\\n', 21), ('du lundi 26 mai 2003\\nMagnitude = 7 à 9h24 (GMT)\\n', 14)]}\n",
      "{'page_label': '4', 'file_name': 'irsn_Seisme-Japon_052003.pdf', 'file_path': '/share/data/fiches_seismes/irsn_Seisme-Japon_052003.pdf', 'file_type': 'application/pdf', 'file_size': 179858, 'creation_date': '2023-12-04', 'last_modified_date': '2023-11-30', 'last_accessed_date': '2024-03-06', 'document_title': [('Séisme de Myiagi (Japon)\\n', 21), ('du lundi 26 mai 2003\\nMagnitude = 7 à 9h24 (GMT)\\n', 14)]}\n",
      "{'page_label': '1', 'file_name': 'irsn_Seisme-Mexique_012003.pdf', 'file_path': '/share/data/fiches_seismes/irsn_Seisme-Mexique_012003.pdf', 'file_type': 'application/pdf', 'file_size': 103631, 'creation_date': '2023-12-04', 'last_modified_date': '2023-11-30', 'last_accessed_date': '2024-03-06', 'document_title': [('Séisme au Mexique\\n', 21), ('du mardi 21 janvier 2003 à 20h06 heure locale\\nMagnitude = 7,8 à 02h06 (GMT – 22/01/03)\\n', 14)]}\n",
      "{'page_label': '2', 'file_name': 'irsn_Seisme-Mexique_012003.pdf', 'file_path': '/share/data/fiches_seismes/irsn_Seisme-Mexique_012003.pdf', 'file_type': 'application/pdf', 'file_size': 103631, 'creation_date': '2023-12-04', 'last_modified_date': '2023-11-30', 'last_accessed_date': '2024-03-06', 'document_title': [('Séisme au Mexique\\n', 21), ('du mardi 21 janvier 2003 à 20h06 heure locale\\nMagnitude = 7,8 à 02h06 (GMT – 22/01/03)\\n', 14)]}\n",
      "{'page_label': '3', 'file_name': 'irsn_Seisme-Mexique_012003.pdf', 'file_path': '/share/data/fiches_seismes/irsn_Seisme-Mexique_012003.pdf', 'file_type': 'application/pdf', 'file_size': 103631, 'creation_date': '2023-12-04', 'last_modified_date': '2023-11-30', 'last_accessed_date': '2024-03-06', 'document_title': [('Séisme au Mexique\\n', 21), ('du mardi 21 janvier 2003 à 20h06 heure locale\\nMagnitude = 7,8 à 02h06 (GMT – 22/01/03)\\n', 14)]}\n",
      "{'page_label': '1', 'file_name': 'irsn_seisme-algerie_052003.pdf', 'file_path': '/share/data/fiches_seismes/irsn_seisme-algerie_052003.pdf', 'file_type': 'application/pdf', 'file_size': 162895, 'creation_date': '2023-12-04', 'last_modified_date': '2023-11-30', 'last_accessed_date': '2024-03-06', 'document_title': [('Séisme en Algérie\\n', 21), ('du jeudi 21 mai 2003\\nMagnitude = 6,7 à 18h45 (GMT)\\n', 14)]}\n",
      "{'page_label': '2', 'file_name': 'irsn_seisme-algerie_052003.pdf', 'file_path': '/share/data/fiches_seismes/irsn_seisme-algerie_052003.pdf', 'file_type': 'application/pdf', 'file_size': 162895, 'creation_date': '2023-12-04', 'last_modified_date': '2023-11-30', 'last_accessed_date': '2024-03-06', 'document_title': [('Séisme en Algérie\\n', 21), ('du jeudi 21 mai 2003\\nMagnitude = 6,7 à 18h45 (GMT)\\n', 14)]}\n",
      "{'page_label': '3', 'file_name': 'irsn_seisme-algerie_052003.pdf', 'file_path': '/share/data/fiches_seismes/irsn_seisme-algerie_052003.pdf', 'file_type': 'application/pdf', 'file_size': 162895, 'creation_date': '2023-12-04', 'last_modified_date': '2023-11-30', 'last_accessed_date': '2024-03-06', 'document_title': [('Séisme en Algérie\\n', 21), ('du jeudi 21 mai 2003\\nMagnitude = 6,7 à 18h45 (GMT)\\n', 14)]}\n",
      "{'page_label': '1', 'file_name': 'irsn_seisme_argeles_gazost_112006.pdf', 'file_path': '/share/data/fiches_seismes/irsn_seisme_argeles_gazost_112006.pdf', 'file_type': 'application/pdf', 'file_size': 181418, 'creation_date': '2023-12-04', 'last_modified_date': '2023-11-30', 'last_accessed_date': '2024-03-07', 'document_title': [('Séisme d’Argelès-Gazost\\n', 22), ('Vendredi 17 novembre 2006\\nMagnitude = 5.2 à 18h19 (TU)\\n', 13)]}\n",
      "{'page_label': '2', 'file_name': 'irsn_seisme_argeles_gazost_112006.pdf', 'file_path': '/share/data/fiches_seismes/irsn_seisme_argeles_gazost_112006.pdf', 'file_type': 'application/pdf', 'file_size': 181418, 'creation_date': '2023-12-04', 'last_modified_date': '2023-11-30', 'last_accessed_date': '2024-03-07', 'document_title': [('Séisme d’Argelès-Gazost\\n', 22), ('Vendredi 17 novembre 2006\\nMagnitude = 5.2 à 18h19 (TU)\\n', 13)]}\n",
      "{'page_label': '3', 'file_name': 'irsn_seisme_argeles_gazost_112006.pdf', 'file_path': '/share/data/fiches_seismes/irsn_seisme_argeles_gazost_112006.pdf', 'file_type': 'application/pdf', 'file_size': 181418, 'creation_date': '2023-12-04', 'last_modified_date': '2023-11-30', 'last_accessed_date': '2024-03-07', 'document_title': [('Séisme d’Argelès-Gazost\\n', 22), ('Vendredi 17 novembre 2006\\nMagnitude = 5.2 à 18h19 (TU)\\n', 13)]}\n",
      "{'page_label': '1', 'file_name': 'irsn_seisme_chinon_11_2006.pdf', 'file_path': '/share/data/fiches_seismes/irsn_seisme_chinon_11_2006.pdf', 'file_type': 'application/pdf', 'file_size': 147148, 'creation_date': '2023-12-04', 'last_modified_date': '2023-11-30', 'last_accessed_date': '2024-03-06', 'document_title': [('Séisme de Chinon\\n', 22), ('Dimanche 5 novembre 2006\\nMagnitude = 4.1 à 0h37 (TU)\\nRappel des faits\\n', 13)]}\n",
      "{'page_label': '2', 'file_name': 'irsn_seisme_chinon_11_2006.pdf', 'file_path': '/share/data/fiches_seismes/irsn_seisme_chinon_11_2006.pdf', 'file_type': 'application/pdf', 'file_size': 147148, 'creation_date': '2023-12-04', 'last_modified_date': '2023-11-30', 'last_accessed_date': '2024-03-06', 'document_title': [('Séisme de Chinon\\n', 22), ('Dimanche 5 novembre 2006\\nMagnitude = 4.1 à 0h37 (TU)\\nRappel des faits\\n', 13)]}\n",
      "{'page_label': '3', 'file_name': 'irsn_seisme_chinon_11_2006.pdf', 'file_path': '/share/data/fiches_seismes/irsn_seisme_chinon_11_2006.pdf', 'file_type': 'application/pdf', 'file_size': 147148, 'creation_date': '2023-12-04', 'last_modified_date': '2023-11-30', 'last_accessed_date': '2024-03-06', 'document_title': [('Séisme de Chinon\\n', 22), ('Dimanche 5 novembre 2006\\nMagnitude = 4.1 à 0h37 (TU)\\nRappel des faits\\n', 13)]}\n",
      "{'page_label': '1', 'file_name': 'irsn_seisme_martinique_122007.pdf', 'file_path': '/share/data/fiches_seismes/irsn_seisme_martinique_122007.pdf', 'file_type': 'application/pdf', 'file_size': 760727, 'creation_date': '2023-12-04', 'last_modified_date': '2023-11-30', 'last_accessed_date': '2024-03-06', 'document_title': [('Séisme de Martinique \\n(Antilles, France)\\n', 22), ('du jeudi 29 novembre 2007\\nMagnitude = 7,4 à 19h00 (TU)\\nRappel des faits\\n', 13)]}\n",
      "{'page_label': '2', 'file_name': 'irsn_seisme_martinique_122007.pdf', 'file_path': '/share/data/fiches_seismes/irsn_seisme_martinique_122007.pdf', 'file_type': 'application/pdf', 'file_size': 760727, 'creation_date': '2023-12-04', 'last_modified_date': '2023-11-30', 'last_accessed_date': '2024-03-06', 'document_title': [('Séisme de Martinique \\n(Antilles, France)\\n', 22), ('du jeudi 29 novembre 2007\\nMagnitude = 7,4 à 19h00 (TU)\\nRappel des faits\\n', 13)]}\n",
      "{'page_label': '3', 'file_name': 'irsn_seisme_martinique_122007.pdf', 'file_path': '/share/data/fiches_seismes/irsn_seisme_martinique_122007.pdf', 'file_type': 'application/pdf', 'file_size': 760727, 'creation_date': '2023-12-04', 'last_modified_date': '2023-11-30', 'last_accessed_date': '2024-03-06', 'document_title': [('Séisme de Martinique \\n(Antilles, France)\\n', 22), ('du jeudi 29 novembre 2007\\nMagnitude = 7,4 à 19h00 (TU)\\nRappel des faits\\n', 13)]}\n",
      "{'page_label': '4', 'file_name': 'irsn_seisme_martinique_122007.pdf', 'file_path': '/share/data/fiches_seismes/irsn_seisme_martinique_122007.pdf', 'file_type': 'application/pdf', 'file_size': 760727, 'creation_date': '2023-12-04', 'last_modified_date': '2023-11-30', 'last_accessed_date': '2024-03-06', 'document_title': [('Séisme de Martinique \\n(Antilles, France)\\n', 22), ('du jeudi 29 novembre 2007\\nMagnitude = 7,4 à 19h00 (TU)\\nRappel des faits\\n', 13)]}\n",
      "{'page_label': '1', 'file_name': 'irsn_seisme_niigata_japon_092007.pdf', 'file_path': '/share/data/fiches_seismes/irsn_seisme_niigata_japon_092007.pdf', 'file_type': 'application/pdf', 'file_size': 274314, 'creation_date': '2023-12-04', 'last_modified_date': '2023-11-30', 'last_accessed_date': '2024-03-07', 'document_title': [('Séisme de Chu-Etsu-Oki (Japon)\\n', 22), ('du lundi 16 juillet 2007\\nMagnitude = 6,6 à 1h13 (TU)\\n', 13)]}\n",
      "{'page_label': '2', 'file_name': 'irsn_seisme_niigata_japon_092007.pdf', 'file_path': '/share/data/fiches_seismes/irsn_seisme_niigata_japon_092007.pdf', 'file_type': 'application/pdf', 'file_size': 274314, 'creation_date': '2023-12-04', 'last_modified_date': '2023-11-30', 'last_accessed_date': '2024-03-07', 'document_title': [('Séisme de Chu-Etsu-Oki (Japon)\\n', 22), ('du lundi 16 juillet 2007\\nMagnitude = 6,6 à 1h13 (TU)\\n', 13)]}\n",
      "{'page_label': '3', 'file_name': 'irsn_seisme_niigata_japon_092007.pdf', 'file_path': '/share/data/fiches_seismes/irsn_seisme_niigata_japon_092007.pdf', 'file_type': 'application/pdf', 'file_size': 274314, 'creation_date': '2023-12-04', 'last_modified_date': '2023-11-30', 'last_accessed_date': '2024-03-07', 'document_title': [('Séisme de Chu-Etsu-Oki (Japon)\\n', 22), ('du lundi 16 juillet 2007\\nMagnitude = 6,6 à 1h13 (TU)\\n', 13)]}\n"
     ]
    }
   ],
   "source": [
    "for node in doc_load :\n",
    "    for titre in liste_filtrée :\n",
    "        if titre[-1] == node.metadata['file_path']:\n",
    "            node.metadata ['document_title'] = titre[:-1]\n",
    "for node in doc_load :\n",
    "    print(node.metadata)"
   ]
  },
  {
   "cell_type": "markdown",
   "id": "65453d1f-3113-4557-870d-6ad7ffc85deb",
   "metadata": {},
   "source": [
    "### Création du vectore store à partir des nodes avec les bonnes métadata"
   ]
  },
  {
   "cell_type": "code",
   "execution_count": 26,
   "id": "fd7bc41b-a863-4d1c-953b-469d07d39941",
   "metadata": {},
   "outputs": [
    {
     "name": "stderr",
     "output_type": "stream",
     "text": [
      "Generating embeddings: 100%|██████████| 112/112 [00:00<00:00, 171.63it/s]\n"
     ]
    }
   ],
   "source": [
    "#query_engine = index.as_query_engine(response_mode=\"compact\")\n",
    "vector_index_date = VectorStoreIndex(doc_load, service_context=service_context, show_progress = True)"
   ]
  },
  {
   "cell_type": "markdown",
   "id": "ba5facc2-ce96-4131-9ceb-52fc9e8f7b5a",
   "metadata": {},
   "source": [
    "### Sauvegarde embedding"
   ]
  },
  {
   "cell_type": "code",
   "execution_count": 27,
   "id": "43502537-5421-4ce2-9174-14ebec14c02f",
   "metadata": {},
   "outputs": [],
   "source": [
    "vector_index_date.storage_context.persist(persist_dir=\"/share/LLM_models/Embedding_store_MN\")\n"
   ]
  },
  {
   "cell_type": "markdown",
   "id": "b51591d4-ca5a-4b26-92ad-71a1befb3ee2",
   "metadata": {
    "jp-MarkdownHeadingCollapsed": true
   },
   "source": [
    "### Chargement embedding"
   ]
  },
  {
   "cell_type": "code",
   "execution_count": 17,
   "id": "d19d6f1a-1321-4ec6-8ece-bf0c7f80b8e4",
   "metadata": {},
   "outputs": [],
   "source": [
    "from llama_index import StorageContext, load_index_from_storage\n",
    "# rebuild storage context\n",
    "storage_context = StorageContext.from_defaults(persist_dir=\"/share/LLM_models/Embedding_store_T_QA_MN_S\")\n",
    "\n",
    "# load index\n",
    "index = load_index_from_storage(storage_context,service_context=service_context)"
   ]
  },
  {
   "cell_type": "markdown",
   "id": "91e0cfc2-540a-440b-b409-aae32889d107",
   "metadata": {
    "jp-MarkdownHeadingCollapsed": true
   },
   "source": [
    "### Création de l'outil de question "
   ]
  },
  {
   "cell_type": "code",
   "execution_count": 18,
   "id": "5861ccd1-5d58-404f-83dc-0f619bbccd77",
   "metadata": {},
   "outputs": [],
   "source": [
    "query_engine = vector_index_date.as_query_engine(response_mode=\"compact\")"
   ]
  },
  {
   "cell_type": "code",
   "execution_count": 19,
   "id": "f520fc0e-6cef-465d-bf5c-2b9d479158c3",
   "metadata": {},
   "outputs": [
    {
     "name": "stderr",
     "output_type": "stream",
     "text": [
      "Setting `pad_token_id` to `eos_token_id`:2 for open-end generation.\n"
     ]
    },
    {
     "name": "stdout",
     "output_type": "stream",
     "text": [
      "IRSN Fiche seisme MULHOUSE 13092022.pdf\n",
      "Note-Information-Seisme-Teil-14112019.pdf\n",
      "\n",
      "The magnitude of the earthquake in Mulhouse is 3.9 (Mw - Géoazur). The localization of the earthquake is 7.471° E and 47.669 °N. The consequences of the earthquake were felt throughout the region of Grand Est. At 13 September 2022, 2068 témoignages were collected by the BCSF, allowing the establishment of a map of seismic intensities reaching a maximum of IV, corresponding to a perception of moderate intensity and causing no damage to buildings.\n"
     ]
    }
   ],
   "source": [
    "reponse = query_engine.query(\" Quelle est la magnitude, la localisation et les conséquences régionales du séisme de Mulhouse ?\")\n",
    "print(reponse)"
   ]
  },
  {
   "cell_type": "markdown",
   "id": "206e8ff2-9325-4036-9eea-dd00cc59bffe",
   "metadata": {
    "jp-MarkdownHeadingCollapsed": true
   },
   "source": [
    "### Process de sauvegarde des réponses dans un csv"
   ]
  },
  {
   "cell_type": "code",
   "execution_count": 21,
   "id": "d956093b-149d-4a36-87af-a478026b6f9f",
   "metadata": {},
   "outputs": [],
   "source": [
    "mon_dict = {\n",
    "    'IRSN Fiche seisme MULHOUSE 13092022.pdf': ['Quelle est la magnitude, la localisation et les conséquences régionales du séisme de Mulhouse ?', \"Comment le séisme de Mulhouse est-il lié à la tectonique du Fossé Rhénan, et quelles sont les prévisions quant à l'activité sismique future dans la région ?\"],\n",
    "    'IRSN_Fiche-Seisme-Maroc.pdf': ['Quelles sont les caractéristiques principales du séisme au Maroc du 8 septembre 2023, telles que sa magnitude, sa localisation, et quelles ont été ses conséquences régionales ?', \"Comment s'inscrit le séisme du 8 septembre 2023 dans le contexte sismotectonique du Maroc, et quel impact a-t-il eu sur les installations nucléaires dans la région ?\"],\n",
    "    'IRSN_Fiche-Seisme-Ouest-France-16-juin-2023_V1-17062023.pdf': [\"Quelles sont les caractéristiques principales du séisme dans l'ouest de la France du 16 juin 2023, notamment sa localisation, sa magnitude, et quels sont les impacts rapportés dans la région épicentrale ?\", \"Comment se situe le séisme du 16 juin 2023 par rapport à l'activité sismique historique de la région, et quel a été l'impact sur les installations nucléaires à proximité, telles que la centrale nucléaire de Civaux ?\"],\n",
    "    'irsn_seisme_argeles_gazost_112006.pdf': [\"Pouvez-vous fournir des informations sur le séisme d'Argelès-Gazost du 17 novembre 2006, notamment sa magnitude, son épicentre, et ses impacts locaux ?\", \"Quel a été l'impact du séisme d'Argelès-Gazost sur les installations nucléaires de la région ?\"],\n",
    "    'irsn_seisme_chinon_11_2006.pdf': ['Pouvez-vous fournir des informations sur le séisme de Chinon du 5 novembre 2006, notamment sa magnitude, son épicentre, et ses impacts locaux ?', \"Quel a été l'impact du séisme de Chinon sur les installations nucléaires de la région ?\"],\n",
    "    'IRSN_seisme_Christchurch-NZ_23022011.pdf': ['Quels sont les impacts du séisme de Christchurch du 21 février 2011 par rapport à celui de septembre 2010 en Nouvelle-Zélande?', 'Quelle est la situation des installations nucléaires en Nouvelle-Zélande et quelles sont les caractéristiques de la faille de GreenDale?'],\n",
    "    'IRSN_seisme_france-26022012_V2.pdf': ['Quels sont les détails concernant le séisme à Saint-Paul-sur-Ubaye du 26 février 2012?', \"Comment la sismicité historique et actuelle dans la vallée de l'Ubaye est-elle liée au séisme du 26 février 2012?\"],\n",
    "    'IRSN_seisme_Italie-20052012.pdf': [\"Quel est le contexte sismotectonique de la région touchée par le séisme de l'Emilia-Romagna?\", \"Quelle est l'estimation de l'aléa sismique et du mouvement sismique en basse plaine du Pô?\"],\n",
    "    'IRSN_Seisme_Lorca-Espagne_18052011.pdf': ['Quels sont les détails concernant le séisme de Lorca en Espagne du 11 mai 2011?', 'Quel est le contexte sismique de la France autour du 11 mai 2011?'],\n",
    "    'irsn_seisme_martinique_122007.pdf': ['Quand a eu lieu le séisme de Martinique et quelle était sa magnitude?', \"Où était situé l'épicentre du séisme de Martinique?\"],\n",
    "    'irsn_seisme_niigata_japon_092007.pdf': ['Quelles étaient les conséquences humaines du séisme de Chu-Etsu-Oki?','Comment le Japon se situe-t-il du point de vue sismotectonique par rapport à la convergence des plaques tectoniques?'],\n",
    "    'IRSN_seisme_sumatra-11042012.pdf': ['Quand ont eu lieu les séismes de Sumatra en Indonésie, et quelle était leur magnitude?', \"Quelle était la distance entre la centrale nucléaire la plus proche (Kalpakkam) et l'épicentre du séisme de Sumatra, et quels étaient les effets attendus sur la centrale?\"],\n",
    "    'IRSN_seisme_turquie-23102011.pdf': ['Quels ont été les effets du séisme de Van en termes de dégâts matériels et humains?', 'Où était située la centrale nucléaire la plus proche du séisme de Van, et quelles étaient les conséquences sur cette centrale?'],\n",
    "    'IRSN_seisme_virginie-US-23082011.pdf': [\"Dans quelle région s'est produit le séisme de Virginie, et qu'est-ce que la « Central Virginia Seismic Zone » ?\", \" Quel est le contexte sismotectonique de l'Est des États-Unis, et pourquoi la sismicité n'y est-elle pas négligeable?\"],\n",
    "    'irsn_Seisme-Afghanistan_032002.pdf': ['Quand a eu lieu le séisme en Afghanistan, et quelle était sa magnitude?', 'Quelles sont les différentes estimations de la magnitude du séisme en Afghanistan?'],\n",
    "    'irsn_seisme-algerie_052003.pdf': ['Quels sont les effets de site probables dans les localités de Rouïba et Boumerdès?',\"Quel est le contexte tectonique de l'Algérie et comment cela contribue-t-il à la sismicité de la région?\"],\n",
    "    'irsn_Seisme-Allemagne_122004.pdf': ['Quelle est la proximité du séisme de Fribourg par rapport à la centrale nucléaire de Fessenheim?', \"Quelle est la distance entre l'épicentre du séisme de Fribourg et les centrales nucléaires suisses de Leipstadt et Beznau?\"],\n",
    "    'irsn_Seisme-Besancon_022004.pdf': ['Quand a eu lieu le séisme de Besançon et quelle était sa magnitude?'],\n",
    "    'IRSN_seisme-haiti_130110.pdf': [\"Où était situé l'épicentre du séisme d'Haïti, et quels ont été les effets notables?\", \"Quel est le contexte sismotectonique de la région où s'est produit le séisme d'Haïti?\"],\n",
    "    'irsn_Seisme-Inde_012001.pdf': ['Quels ont été les effets notables du séisme de Gurajat, et quel était le mécanisme de la faille en jeu?', ' Pourquoi le séisme de Gurajat a-t-il été considéré comme une surprise relative?'],\n",
    "    'irsn_Seisme-Japon_052003.pdf': [\"Quand et où s'est produit le séisme de Miyagi au Japon, et quelle était sa magnitude?\", 'Quels sont les impacts du séisme de Miyagi en termes de dégâts matériels, de victimes et de répliques?'],\n",
    "    'IRSN_Seisme-Japon_Replique-7-avril_V1-08042011.pdf': ['Quelles sont les actions entreprises par les autorités japonaises pour évaluer les effets de cette réplique?',\"Comment la centrale nucléaire d'Onagawa a-t-elle été affectée par cette réplique en termes d'accélérations du sol?\"],\n",
    "    'IRSN_seisme-Japon_V2-22042011.pdf': [\"Quand et où s'est produit le séisme de Tohoku au Japon du 11 mars 2011, et quelle était sa magnitude?\", \"Quelle était la localisation de l'épicentre et quels sont les détails sur la magnitude du séisme de Tohoku au Japon du 11 mars 2011?\"],\n",
    "    'IRSN_seisme-Manosque_V1-12072010.pdf': ['Quelle est la magnitude du séisme survenu à Manosque le 8 juillet 2010, et quelle est la version du document que vous consultez ?', 'Comment la population a-t-elle réagi à la secousse sismique, et quelles sont les zones les plus fortement touchées pour le séisme du 8 juillet 2010 ? ?'],\n",
    "    'irsn_Seisme-Mexique_012003.pdf': [\"Quels sont les dégâts rapportés suite au séisme, et quelle est la particularité de la ville de Mexico en termes d'effet sismique ?\", 'Quelle est la situation des installations nucléaires au Mexique, et comment le séisme du 21 janvier 2003 a-t-il affecté la centrale nucléaire de Laguna Verde '],\n",
    "    'IRSN-Seisme-Amatrice-Italie-240816_V1.pdf': [\"Quelle est la magnitude du séisme d'Amatrice qui s'est produit le 24 août 2016, et où était situé son épicentre ?\", 'Quels ont été les effets du séisme  du 24 août 2016 en termes de victimes, de blessés et de dégâts matériels ?'],\n",
    "    'IRSN-Seisme-Charente-Maritime-France-20190320_v1.1.pdf': ['Quels ont été les effets du séisme de Montendre en termes de ressenti par la population et et de dégâts matériels ?', 'Comment le séisme de Montendre de 2019 se compare-t-il aux plus forts séismes historiques de la région ?'],\n",
    "    'IRSN-Seisme-Civaux-09092013.pdf': [\"Quelle est la magnitude du séisme qui s'est produit à Lhommaizé le 9 septembre 2013, et où était situé son épicentre ?\", 'Quels ont été les effets du séisme de Lhommaizé en termes de ressenti par la population et de dégâts matériels ?'],\n",
    "    'IRSN-Seisme-Kent-22052015.pdf': [\"Quels ont été les impacts du séisme dans le Kent le 22 mai 2015 en termes de secousses ressenties, d'intensités et de mécanisme sismique associé ?\", 'Quelle est la sismicité historique dans le détroit du pas de Calais, et quelles sont les recherches menées pour mieux comprendre le risque sismique dans cette région ?'],\n",
    "    'IRSN-Seisme-Elazig-Turquie-24012020.pdf': [\"Quelle est la géodynamique de la région et la sismicité régionale autour d'Elazig ?\", 'Quelles sont les conséquences sur les installations nucléaires à proximité, en particulier la centrale nucléaire de Metsamor en Arménie, et quels sont les projets de centrales nucléaires en Turquie ?'],\n",
    "    'IRSN-Seisme-Fukushima-13022021.pdf': [\"Quelle est la magnitude du séisme qui s'est produit à Fukushima le 13 février 2021, et où était situé son épicentre ?\", 'Quels ont été les impacts du séisme de Fukushima en termes de victimes, de dommages matériels et de secousses ressenties dans la région ?'],\n",
    "    'IRSN-Seisme-LaRochelle-28042016.pdf': [\"Quelle est la magnitude du séisme qui s'est produit à La Rochelle le 28 avril 2016, et où était situé son épicentre ?\", \"Quelle est la sismicité historique et actuelle au nord de l'Aquitaine, et comment le séisme de 2016 s'inscrit-il dans ce contexte ?\"],\n",
    "    'IRSN-Seisme-Manosque-19092012.pdf': [\"Quels ont été les faits marquants du séisme à Villeneuve le 19 septembre 2012, en termes de répliques, de secousses ressenties, et d'historique sismique de la région ?\", \"Quelle est la géométrie de la Faille de la Moyenne Durance, et comment le séisme de 2012 s'inscrit-il dans l'activité de cette faille ?\"],\n",
    "    'IRSN-Seisme-Napa-24082014.pdf': [\"Quelle est la magnitude du séisme qui s'est produit à Napa le 24 août 2014, et quelles sont les principales caractéristiques de ce séisme ?\", 'Quelle est la localisation du séisme de Napa par rapport aux failles tectoniques de la région, et quelles sont les caractéristiques tectoniques de cette zone ?'],\n",
    "    'IRSN-Seisme-Norcia-Italie-301016_V1.pdf': [\"Quelle est la magnitude du séisme qui s'est produit en Italie centrale le 30 octobre 2016, et quelles sont les principales caractéristiques de ce séisme ?\", \"Quels sont les enseignements tirés de la séquence sismique en Italie centrale, et en quoi cette expérience peut-elle être importante pour la compréhension des risques sismiques dans d'autres régions, y compris en France ?\"],\n",
    "    'IRSN-Seisme-Vendee-France-20180212.pdf': ['Quand et où a eu lieu le séisme de Saint-Hilaire-de-Voust en 2018, quelle était sa magnitude, et quels sont les dégâts signalés?', \"Quel a été l'impact du séisme de Saint-Hilaire-de-Voust de 2018 sur les installations nucléaires, et quelles sont les installations nucléaires les plus proches de l'épicentre?\"]}"
   ]
  },
  {
   "cell_type": "code",
   "execution_count": 22,
   "id": "ea08c8e1-fc8d-4bf7-844f-e3b0dcd2786d",
   "metadata": {},
   "outputs": [
    {
     "name": "stderr",
     "output_type": "stream",
     "text": [
      "Setting `pad_token_id` to `eos_token_id`:2 for open-end generation.\n"
     ]
    },
    {
     "name": "stdout",
     "output_type": "stream",
     "text": [
      "Clé: IRSN Fiche seisme MULHOUSE 13092022.pdf\n"
     ]
    },
    {
     "name": "stderr",
     "output_type": "stream",
     "text": [
      "Setting `pad_token_id` to `eos_token_id`:2 for open-end generation.\n",
      "Setting `pad_token_id` to `eos_token_id`:2 for open-end generation.\n"
     ]
    },
    {
     "name": "stdout",
     "output_type": "stream",
     "text": [
      "Clé: IRSN_Fiche-Seisme-Maroc.pdf\n"
     ]
    },
    {
     "name": "stderr",
     "output_type": "stream",
     "text": [
      "Setting `pad_token_id` to `eos_token_id`:2 for open-end generation.\n",
      "Setting `pad_token_id` to `eos_token_id`:2 for open-end generation.\n"
     ]
    },
    {
     "name": "stdout",
     "output_type": "stream",
     "text": [
      "Clé: IRSN_Fiche-Seisme-Ouest-France-16-juin-2023_V1-17062023.pdf\n"
     ]
    },
    {
     "name": "stderr",
     "output_type": "stream",
     "text": [
      "Setting `pad_token_id` to `eos_token_id`:2 for open-end generation.\n",
      "Setting `pad_token_id` to `eos_token_id`:2 for open-end generation.\n"
     ]
    },
    {
     "name": "stdout",
     "output_type": "stream",
     "text": [
      "Clé: irsn_seisme_argeles_gazost_112006.pdf\n"
     ]
    },
    {
     "name": "stderr",
     "output_type": "stream",
     "text": [
      "Setting `pad_token_id` to `eos_token_id`:2 for open-end generation.\n",
      "Setting `pad_token_id` to `eos_token_id`:2 for open-end generation.\n"
     ]
    },
    {
     "name": "stdout",
     "output_type": "stream",
     "text": [
      "Clé: irsn_seisme_chinon_11_2006.pdf\n"
     ]
    },
    {
     "name": "stderr",
     "output_type": "stream",
     "text": [
      "Setting `pad_token_id` to `eos_token_id`:2 for open-end generation.\n",
      "Setting `pad_token_id` to `eos_token_id`:2 for open-end generation.\n"
     ]
    },
    {
     "name": "stdout",
     "output_type": "stream",
     "text": [
      "Clé: IRSN_seisme_Christchurch-NZ_23022011.pdf\n"
     ]
    },
    {
     "name": "stderr",
     "output_type": "stream",
     "text": [
      "Setting `pad_token_id` to `eos_token_id`:2 for open-end generation.\n",
      "Setting `pad_token_id` to `eos_token_id`:2 for open-end generation.\n"
     ]
    },
    {
     "name": "stdout",
     "output_type": "stream",
     "text": [
      "Clé: IRSN_seisme_france-26022012_V2.pdf\n"
     ]
    },
    {
     "name": "stderr",
     "output_type": "stream",
     "text": [
      "Setting `pad_token_id` to `eos_token_id`:2 for open-end generation.\n",
      "Setting `pad_token_id` to `eos_token_id`:2 for open-end generation.\n"
     ]
    },
    {
     "name": "stdout",
     "output_type": "stream",
     "text": [
      "Clé: IRSN_seisme_Italie-20052012.pdf\n"
     ]
    },
    {
     "name": "stderr",
     "output_type": "stream",
     "text": [
      "Setting `pad_token_id` to `eos_token_id`:2 for open-end generation.\n",
      "Setting `pad_token_id` to `eos_token_id`:2 for open-end generation.\n"
     ]
    },
    {
     "name": "stdout",
     "output_type": "stream",
     "text": [
      "Clé: IRSN_Seisme_Lorca-Espagne_18052011.pdf\n"
     ]
    },
    {
     "name": "stderr",
     "output_type": "stream",
     "text": [
      "Setting `pad_token_id` to `eos_token_id`:2 for open-end generation.\n",
      "Setting `pad_token_id` to `eos_token_id`:2 for open-end generation.\n"
     ]
    },
    {
     "name": "stdout",
     "output_type": "stream",
     "text": [
      "Clé: irsn_seisme_martinique_122007.pdf\n"
     ]
    },
    {
     "name": "stderr",
     "output_type": "stream",
     "text": [
      "Setting `pad_token_id` to `eos_token_id`:2 for open-end generation.\n",
      "Setting `pad_token_id` to `eos_token_id`:2 for open-end generation.\n"
     ]
    },
    {
     "name": "stdout",
     "output_type": "stream",
     "text": [
      "Clé: irsn_seisme_niigata_japon_092007.pdf\n"
     ]
    },
    {
     "name": "stderr",
     "output_type": "stream",
     "text": [
      "Setting `pad_token_id` to `eos_token_id`:2 for open-end generation.\n",
      "Setting `pad_token_id` to `eos_token_id`:2 for open-end generation.\n"
     ]
    },
    {
     "name": "stdout",
     "output_type": "stream",
     "text": [
      "Clé: IRSN_seisme_sumatra-11042012.pdf\n"
     ]
    },
    {
     "name": "stderr",
     "output_type": "stream",
     "text": [
      "Setting `pad_token_id` to `eos_token_id`:2 for open-end generation.\n",
      "Setting `pad_token_id` to `eos_token_id`:2 for open-end generation.\n"
     ]
    },
    {
     "name": "stdout",
     "output_type": "stream",
     "text": [
      "Clé: IRSN_seisme_turquie-23102011.pdf\n"
     ]
    },
    {
     "name": "stderr",
     "output_type": "stream",
     "text": [
      "Setting `pad_token_id` to `eos_token_id`:2 for open-end generation.\n",
      "Setting `pad_token_id` to `eos_token_id`:2 for open-end generation.\n"
     ]
    },
    {
     "name": "stdout",
     "output_type": "stream",
     "text": [
      "Clé: IRSN_seisme_virginie-US-23082011.pdf\n"
     ]
    },
    {
     "name": "stderr",
     "output_type": "stream",
     "text": [
      "Setting `pad_token_id` to `eos_token_id`:2 for open-end generation.\n",
      "Setting `pad_token_id` to `eos_token_id`:2 for open-end generation.\n"
     ]
    },
    {
     "name": "stdout",
     "output_type": "stream",
     "text": [
      "Clé: irsn_Seisme-Afghanistan_032002.pdf\n"
     ]
    },
    {
     "name": "stderr",
     "output_type": "stream",
     "text": [
      "Setting `pad_token_id` to `eos_token_id`:2 for open-end generation.\n",
      "Setting `pad_token_id` to `eos_token_id`:2 for open-end generation.\n"
     ]
    },
    {
     "name": "stdout",
     "output_type": "stream",
     "text": [
      "Clé: irsn_seisme-algerie_052003.pdf\n"
     ]
    },
    {
     "name": "stderr",
     "output_type": "stream",
     "text": [
      "Setting `pad_token_id` to `eos_token_id`:2 for open-end generation.\n",
      "Setting `pad_token_id` to `eos_token_id`:2 for open-end generation.\n"
     ]
    },
    {
     "name": "stdout",
     "output_type": "stream",
     "text": [
      "Clé: irsn_Seisme-Allemagne_122004.pdf\n"
     ]
    },
    {
     "name": "stderr",
     "output_type": "stream",
     "text": [
      "Setting `pad_token_id` to `eos_token_id`:2 for open-end generation.\n",
      "Setting `pad_token_id` to `eos_token_id`:2 for open-end generation.\n"
     ]
    },
    {
     "name": "stdout",
     "output_type": "stream",
     "text": [
      "Clé: irsn_Seisme-Besancon_022004.pdf\n"
     ]
    },
    {
     "name": "stderr",
     "output_type": "stream",
     "text": [
      "Setting `pad_token_id` to `eos_token_id`:2 for open-end generation.\n"
     ]
    },
    {
     "name": "stdout",
     "output_type": "stream",
     "text": [
      "Clé: IRSN_seisme-haiti_130110.pdf\n"
     ]
    },
    {
     "name": "stderr",
     "output_type": "stream",
     "text": [
      "Setting `pad_token_id` to `eos_token_id`:2 for open-end generation.\n",
      "Setting `pad_token_id` to `eos_token_id`:2 for open-end generation.\n"
     ]
    },
    {
     "name": "stdout",
     "output_type": "stream",
     "text": [
      "Clé: irsn_Seisme-Inde_012001.pdf\n"
     ]
    },
    {
     "name": "stderr",
     "output_type": "stream",
     "text": [
      "Setting `pad_token_id` to `eos_token_id`:2 for open-end generation.\n",
      "Setting `pad_token_id` to `eos_token_id`:2 for open-end generation.\n"
     ]
    },
    {
     "name": "stdout",
     "output_type": "stream",
     "text": [
      "Clé: irsn_Seisme-Japon_052003.pdf\n"
     ]
    },
    {
     "name": "stderr",
     "output_type": "stream",
     "text": [
      "Setting `pad_token_id` to `eos_token_id`:2 for open-end generation.\n",
      "Setting `pad_token_id` to `eos_token_id`:2 for open-end generation.\n"
     ]
    },
    {
     "name": "stdout",
     "output_type": "stream",
     "text": [
      "Clé: IRSN_Seisme-Japon_Replique-7-avril_V1-08042011.pdf\n"
     ]
    },
    {
     "name": "stderr",
     "output_type": "stream",
     "text": [
      "Setting `pad_token_id` to `eos_token_id`:2 for open-end generation.\n",
      "Setting `pad_token_id` to `eos_token_id`:2 for open-end generation.\n"
     ]
    },
    {
     "name": "stdout",
     "output_type": "stream",
     "text": [
      "Clé: IRSN_seisme-Japon_V2-22042011.pdf\n"
     ]
    },
    {
     "name": "stderr",
     "output_type": "stream",
     "text": [
      "Setting `pad_token_id` to `eos_token_id`:2 for open-end generation.\n",
      "Setting `pad_token_id` to `eos_token_id`:2 for open-end generation.\n"
     ]
    },
    {
     "name": "stdout",
     "output_type": "stream",
     "text": [
      "Clé: IRSN_seisme-Manosque_V1-12072010.pdf\n"
     ]
    },
    {
     "name": "stderr",
     "output_type": "stream",
     "text": [
      "Setting `pad_token_id` to `eos_token_id`:2 for open-end generation.\n",
      "Setting `pad_token_id` to `eos_token_id`:2 for open-end generation.\n"
     ]
    },
    {
     "name": "stdout",
     "output_type": "stream",
     "text": [
      "Clé: irsn_Seisme-Mexique_012003.pdf\n"
     ]
    },
    {
     "name": "stderr",
     "output_type": "stream",
     "text": [
      "Setting `pad_token_id` to `eos_token_id`:2 for open-end generation.\n",
      "Setting `pad_token_id` to `eos_token_id`:2 for open-end generation.\n"
     ]
    },
    {
     "name": "stdout",
     "output_type": "stream",
     "text": [
      "Clé: IRSN-Seisme-Amatrice-Italie-240816_V1.pdf\n"
     ]
    },
    {
     "name": "stderr",
     "output_type": "stream",
     "text": [
      "Setting `pad_token_id` to `eos_token_id`:2 for open-end generation.\n",
      "Setting `pad_token_id` to `eos_token_id`:2 for open-end generation.\n"
     ]
    },
    {
     "name": "stdout",
     "output_type": "stream",
     "text": [
      "Clé: IRSN-Seisme-Charente-Maritime-France-20190320_v1.1.pdf\n"
     ]
    },
    {
     "name": "stderr",
     "output_type": "stream",
     "text": [
      "Setting `pad_token_id` to `eos_token_id`:2 for open-end generation.\n",
      "Setting `pad_token_id` to `eos_token_id`:2 for open-end generation.\n"
     ]
    },
    {
     "name": "stdout",
     "output_type": "stream",
     "text": [
      "Clé: IRSN-Seisme-Civaux-09092013.pdf\n"
     ]
    },
    {
     "name": "stderr",
     "output_type": "stream",
     "text": [
      "Setting `pad_token_id` to `eos_token_id`:2 for open-end generation.\n",
      "Setting `pad_token_id` to `eos_token_id`:2 for open-end generation.\n"
     ]
    },
    {
     "name": "stdout",
     "output_type": "stream",
     "text": [
      "Clé: IRSN-Seisme-Kent-22052015.pdf\n"
     ]
    },
    {
     "name": "stderr",
     "output_type": "stream",
     "text": [
      "Setting `pad_token_id` to `eos_token_id`:2 for open-end generation.\n",
      "Setting `pad_token_id` to `eos_token_id`:2 for open-end generation.\n"
     ]
    },
    {
     "name": "stdout",
     "output_type": "stream",
     "text": [
      "Clé: IRSN-Seisme-Elazig-Turquie-24012020.pdf\n"
     ]
    },
    {
     "name": "stderr",
     "output_type": "stream",
     "text": [
      "Setting `pad_token_id` to `eos_token_id`:2 for open-end generation.\n",
      "Setting `pad_token_id` to `eos_token_id`:2 for open-end generation.\n"
     ]
    },
    {
     "name": "stdout",
     "output_type": "stream",
     "text": [
      "Clé: IRSN-Seisme-Fukushima-13022021.pdf\n"
     ]
    },
    {
     "name": "stderr",
     "output_type": "stream",
     "text": [
      "Setting `pad_token_id` to `eos_token_id`:2 for open-end generation.\n",
      "Setting `pad_token_id` to `eos_token_id`:2 for open-end generation.\n"
     ]
    },
    {
     "name": "stdout",
     "output_type": "stream",
     "text": [
      "Clé: IRSN-Seisme-LaRochelle-28042016.pdf\n"
     ]
    },
    {
     "name": "stderr",
     "output_type": "stream",
     "text": [
      "Setting `pad_token_id` to `eos_token_id`:2 for open-end generation.\n",
      "Setting `pad_token_id` to `eos_token_id`:2 for open-end generation.\n"
     ]
    },
    {
     "name": "stdout",
     "output_type": "stream",
     "text": [
      "Clé: IRSN-Seisme-Manosque-19092012.pdf\n"
     ]
    },
    {
     "name": "stderr",
     "output_type": "stream",
     "text": [
      "Setting `pad_token_id` to `eos_token_id`:2 for open-end generation.\n",
      "Setting `pad_token_id` to `eos_token_id`:2 for open-end generation.\n"
     ]
    },
    {
     "name": "stdout",
     "output_type": "stream",
     "text": [
      "Clé: IRSN-Seisme-Napa-24082014.pdf\n"
     ]
    },
    {
     "name": "stderr",
     "output_type": "stream",
     "text": [
      "Setting `pad_token_id` to `eos_token_id`:2 for open-end generation.\n",
      "Setting `pad_token_id` to `eos_token_id`:2 for open-end generation.\n"
     ]
    },
    {
     "name": "stdout",
     "output_type": "stream",
     "text": [
      "Clé: IRSN-Seisme-Norcia-Italie-301016_V1.pdf\n"
     ]
    },
    {
     "name": "stderr",
     "output_type": "stream",
     "text": [
      "Setting `pad_token_id` to `eos_token_id`:2 for open-end generation.\n",
      "Setting `pad_token_id` to `eos_token_id`:2 for open-end generation.\n"
     ]
    },
    {
     "name": "stdout",
     "output_type": "stream",
     "text": [
      "Clé: IRSN-Seisme-Vendee-France-20180212.pdf\n"
     ]
    },
    {
     "name": "stderr",
     "output_type": "stream",
     "text": [
      "Setting `pad_token_id` to `eos_token_id`:2 for open-end generation.\n"
     ]
    }
   ],
   "source": [
    "reponses_dict = {}  \n",
    "for cle, questions in mon_dict.items():\n",
    "    print(f'Clé: {cle}')\n",
    "    \n",
    "    # Liste pour stocker les réponses aux questions\n",
    "    reponses = []\n",
    "    # Itérer sur chaque question pour la clé\n",
    "    for i, question in enumerate(questions, start=1):\n",
    "        query = question\n",
    "        reponses.append(query_engine.query(query))  \n",
    "    # Stocker les réponses dans le dictionnaire de réponses\n",
    "    reponses_dict[cle] = reponses\n"
   ]
  },
  {
   "cell_type": "code",
   "execution_count": 23,
   "id": "847c307a-19a0-4a7d-8bda-a537da4d6bb3",
   "metadata": {},
   "outputs": [
    {
     "name": "stdout",
     "output_type": "stream",
     "text": [
      "[{'Réponse 0': ['\\nThe magnitude of the earthquake in Mulhouse is 3.9 (Mw - Géoazur) and its localization is 7.471° E and 47.669 °N. The consequences of the earthquake were felt throughout the region of Grand Est. At 13 September 2022, 2068 témoignages were collected by the BCSF, allowing for the establishment of a map of seismic intensities that reached a maximum of IV, corresponding to a perception of moderate intensity and no damage to buildings.', 'IRSN Fiche seisme MULHOUSE 13092022.pdf & Note-Information-Seisme-Teil-14112019.pdf']}, {'Réponse 1': [\"\\nThe given context information does not provide any direct information about the link between the Mulhouse earthquake and the tectonics of the Rhine Fossa. However, it does mention that the earthquake occurred at 14 km southeast of Mulhouse and 15 km north of Basel, with a localization according to the RENASS (Réseau national d'études sismiques). The RENASS is a French network that studies seismic activity and its potential impact on the environment and human activities.\\n\\nAs for the future activity in the region, the context information mentions that the Bureau d'évaluation des risques sismiques pour la sûreté des installations (BERSSIN) of the IRSN (Institut de radioprotection et de sûreté nucléaire) conducts research and expertises on the seismic risk as an external hazard for nuclear installations. However, it does not provide any specific information on the future activity in the region.\\n\\nIt is worth noting that the Rhine Fossa is a major tectonic fault that runs through Switzerland, France, and Germany. It is considered one of the most active tectonic faults in Europe, with a history of frequent earthquakes. The last major earthquake on the Rhine Fossa occurred in 1986 in the Swiss town of Aigle, with a magnitude of 6.1. Since then, there have been several smaller earthquakes in the region.\\n\\nIn summary, while the given context information does not provide specific information on the link between the Mulhouse earthquake and the tectonics of the Rhine Fossa, it does mention that the earthquake occurred in the region of the Rhine Fossa and that the BERSSIN conducts research on seismic risk as an external hazard for nuclear installations. The Rhine Fossa is a major tectonic fault that runs through the region and has a history of frequent earthquakes.\", 'IRSN Fiche seisme MULHOUSE 13092022.pdf & IRSN Fiche seisme MULHOUSE 13092022.pdf']}]\n"
     ]
    }
   ],
   "source": [
    "dict_output = {}\n",
    "\n",
    "for cle in reponses_dict:\n",
    "    if cle == 'irsn_Seisme-Besancon_022004.pdf':\n",
    "        continue\n",
    "\n",
    "    # Initialiser une liste pour stocker les réponses\n",
    "    reponses_list = []\n",
    "\n",
    "    # Itérer sur chaque question pour la clé\n",
    "    for i in range(2):\n",
    "        reponses_list.append({\n",
    "            f'Réponse {i}': [reponses_dict[cle][i].response, reponses_dict[cle][i].metadata[list(reponses_dict[cle][i].metadata.keys())[0]]['file_name'] + ' & ' + reponses_dict[cle][i].metadata[list(reponses_dict[cle][i].metadata.keys())[1]]['file_name']]\n",
    "        })\n",
    "\n",
    "    # Ajouter la liste des réponses au dictionnaire de sortie\n",
    "    dict_output[cle] = reponses_list\n",
    "\n",
    "# Afficher le résultat pour une clé spécifique\n",
    "print(dict_output['IRSN Fiche seisme MULHOUSE 13092022.pdf'])\n"
   ]
  },
  {
   "cell_type": "code",
   "execution_count": 24,
   "id": "1340f82f-a62f-4403-8f22-57c1706538e0",
   "metadata": {},
   "outputs": [
    {
     "name": "stdout",
     "output_type": "stream",
     "text": [
      "Les données ont été écrites dans le fichier CSV : output_llama_extract_MN.csv\n"
     ]
    }
   ],
   "source": [
    "import csv\n",
    "output_csv_path = 'output_llama_extract_MN.csv'\n",
    "# Fonction pour écrire les données dans le fichier CSV\n",
    "def write_to_csv(data, csv_path):\n",
    "    with open(csv_path, 'w', newline='', encoding='utf-8') as csvfile:\n",
    "        # Définir les colonnes du CSV\n",
    "        fieldnames = ['Nom du document', 'Réponse 0', 'Source 0', 'Réponse 1', 'Source 1']\n",
    "        writer = csv.DictWriter(csvfile, fieldnames=fieldnames, delimiter=';')  # Ajout du délimiteur\n",
    "\n",
    "        # Écrire l'en-tête\n",
    "        writer.writeheader()\n",
    "\n",
    "        # Écrire les données\n",
    "        for document, responses in data.items():\n",
    "            row_data = {'Nom du document': document}\n",
    "            for i, response_info in enumerate(responses):\n",
    "                response_key = f'Réponse {i}'\n",
    "                source_key = f'Source {i}'\n",
    "                \n",
    "                # Enlever le premier caractère (retour chariot) du string réponse\n",
    "                cleaned_response = response_info[response_key][0][1:] if response_info[response_key][0] else ''\n",
    "                \n",
    "                row_data[response_key] = cleaned_response\n",
    "                row_data[source_key] = str(response_info[response_key][1]) if response_info[response_key][1] else ''\n",
    "            writer.writerow(row_data)\n",
    "\n",
    "# Appeler la fonction avec vos données\n",
    "write_to_csv(dict_output, output_csv_path)\n",
    "\n",
    "# Afficher un message de confirmation\n",
    "print(f\"Les données ont été écrites dans le fichier CSV : {output_csv_path}\")"
   ]
  },
  {
   "cell_type": "markdown",
   "id": "5c9851b4-6527-4609-9adb-259f42d4e3be",
   "metadata": {
    "jp-MarkdownHeadingCollapsed": true
   },
   "source": [
    "# Process Création et sauvegarde json"
   ]
  },
  {
   "cell_type": "code",
   "execution_count": 7,
   "id": "c92b30f1-ffdb-41be-9b32-c916cb9616cf",
   "metadata": {},
   "outputs": [
    {
     "name": "stdout",
     "output_type": "stream",
     "text": [
      "Liste des documents PDF dans le dossier:\n",
      "['/share/data/fiches_seismes/irsn_seisme_argeles_gazost_112006.pdf', '/share/data/fiches_seismes/irsn_seisme_chinon_11_2006.pdf', '/share/data/fiches_seismes/IRSN_seisme-haiti_130110.pdf', '/share/data/fiches_seismes/IRSN-Seisme-Civaux-09092013.pdf', '/share/data/fiches_seismes/IRSN_seisme_turquie-23102011.pdf', '/share/data/fiches_seismes/irsn_seisme_niigata_japon_092007.pdf', '/share/data/fiches_seismes/irsn_seisme_martinique_122007.pdf', '/share/data/fiches_seismes/IRSN_seisme_france-26022012_V2.pdf', '/share/data/fiches_seismes/Note-Information-Seisme-Teil-14112019.pdf', '/share/data/fiches_seismes/IRSN_seisme_Italie-20052012.pdf', '/share/data/fiches_seismes/IRSN_seisme-Japon_V2-22042011.pdf', '/share/data/fiches_seismes/IRSN_Seisme_Lorca-Espagne_18052011.pdf', '/share/data/fiches_seismes/irsn_Seisme-Mexique_012003.pdf', '/share/data/fiches_seismes/IRSN-Seisme-Norcia-Italie-301016_V1.pdf', '/share/data/fiches_seismes/irsn_Seisme-Afghanistan_032002.pdf', '/share/data/fiches_seismes/IRSN-Seisme-Manosque-19092012.pdf', '/share/data/fiches_seismes/IRSN-Seisme-Amatrice-Italie-240816_V1.pdf', '/share/data/fiches_seismes/IRSN_seisme_virginie-US-23082011.pdf', '/share/data/fiches_seismes/IRSN_seisme_Christchurch-NZ_23022011.pdf', '/share/data/fiches_seismes/IRSN-Seisme-Charente-Maritime-France-20190320_v1.1.pdf', '/share/data/fiches_seismes/irsn_Seisme-Japon_052003.pdf', '/share/data/fiches_seismes/irsn_Seisme-Inde_012001.pdf', '/share/data/fiches_seismes/irsn_Seisme-Besancon_022004.pdf', '/share/data/fiches_seismes/IRSN-Seisme-Vendee-France-20180212.pdf', '/share/data/fiches_seismes/IRSN_Fiche-Seisme-Maroc.pdf', '/share/data/fiches_seismes/IRSN-Seisme-Fukushima-13022021.pdf', '/share/data/fiches_seismes/IRSN-Seisme-Napa-24082014.pdf', '/share/data/fiches_seismes/IRSN_Fiche-Seisme-Ouest-France-16-juin-2023_V1-17062023.pdf', '/share/data/fiches_seismes/IRSN_Seisme-Japon_Replique-7-avril_V1-08042011.pdf', '/share/data/fiches_seismes/irsn_Seisme-Allemagne_122004.pdf', '/share/data/fiches_seismes/IRSN-Seisme-Elazig-Turquie-24012020.pdf', '/share/data/fiches_seismes/IRSN_seisme-Manosque_V1-12072010.pdf', '/share/data/fiches_seismes/irsn_seisme-algerie_052003.pdf', '/share/data/fiches_seismes/IRSN Fiche seisme MULHOUSE 13092022.pdf', '/share/data/fiches_seismes/IRSN_seisme_sumatra-11042012.pdf', '/share/data/fiches_seismes/IRSN-Seisme-Kent-22052015.pdf', '/share/data/fiches_seismes/IRSN-Seisme-LaRochelle-28042016.pdf']\n"
     ]
    }
   ],
   "source": [
    "# Spécifiez le chemin du dossier que vous souhaitez lister\n",
    "dossier_path = \"/share/data/fiches_seismes\"\n",
    "\n",
    "# Utilisez glob pour obtenir la liste des fichiers PDF dans le dossier\n",
    "liste_documents_pdf = glob.glob(os.path.join(dossier_path, \"*.pdf\"))\n",
    "\n",
    "# Imprimez la liste des documents PDF\n",
    "print(\"Liste des documents PDF dans le dossier:\")\n",
    "#for document_pdf in liste_documents_pdf:\n",
    "#    print(document_pdf)\n",
    "\n",
    "# Éléments à exclure\n",
    "elements_a_exclure = [\"/share/data/fiches_seismes/IRSN-seisme-Layon-21062019_V1.pdf\",\"/share/data/fiches_seismes/IRSN-Seisme-St-Paul-Ubaye-07042014.pdf\",\n",
    "                     \"/share/data/fiches_seismes/irsn_Seisme-Chine_052008.pdf\",\"/share/data/fiches_seismes/IRSN_Fiche-seisme-PETRINJA-2020_vf.pdf\",\n",
    "                     \"/share/data/fiches_seismes/IRSN-seisme_Okhotsk_240513.pdf\",\"/share/data/fiches_seismes/irsn_seisme_notohanto_japon_042007.pdf\",\n",
    "                     \"/share/data/fiches_seismes/IRSN_Fiche-seisme-Turquie-20230207.pdf\",\"/share/data/fiches_seismes/IRSN_seisme-Chili-V3_07042010.pdf\",\n",
    "                     \"/share/data/fiches_seismes/IRSN-Seismes-Ridgecrest-Californie-201907.pdf\",\"/share/data/fiches_seismes/irsn_Seisme-Italie_042009.pdf\"]\n",
    "\n",
    "# Créez une nouvelle liste en excluant les éléments spécifiés\n",
    "doc_fonctionnels = list(filter(lambda x: x not in elements_a_exclure, liste_documents_pdf))\n",
    "\n",
    "# Affichez la liste mise à jour\n",
    "print(doc_fonctionnels)\n"
   ]
  },
  {
   "cell_type": "code",
   "execution_count": 8,
   "id": "ef50f969-5a2a-46b5-9bac-6700dc401f4d",
   "metadata": {},
   "outputs": [
    {
     "name": "stderr",
     "output_type": "stream",
     "text": [
      "Generating embeddings: 100%|██████████| 3/3 [00:00<00:00,  4.57it/s]\n",
      "Setting `pad_token_id` to `eos_token_id`:2 for open-end generation.\n"
     ]
    },
    {
     "name": "stdout",
     "output_type": "stream",
     "text": [
      "Output écrit avec succès dans le fichier: json_v2/irsn_seisme_argeles_gazost_112006.json\n"
     ]
    },
    {
     "name": "stderr",
     "output_type": "stream",
     "text": [
      "Generating embeddings: 100%|██████████| 3/3 [00:00<00:00, 136.74it/s]\n",
      "Setting `pad_token_id` to `eos_token_id`:2 for open-end generation.\n",
      "Setting `pad_token_id` to `eos_token_id`:2 for open-end generation.\n"
     ]
    },
    {
     "name": "stdout",
     "output_type": "stream",
     "text": [
      "Erreur lors du traitement du document /share/data/fiches_seismes/irsn_seisme_chinon_11_2006.pdf: Extra data: line 50 column 1 (char 1349)\n",
      "Réponse brute écrite dans le fichier texte: txt_v2/irsn_seisme_chinon_11_2006_error.txt\n"
     ]
    },
    {
     "name": "stderr",
     "output_type": "stream",
     "text": [
      "Generating embeddings: 100%|██████████| 2/2 [00:00<00:00, 90.96it/s]\n",
      "Setting `pad_token_id` to `eos_token_id`:2 for open-end generation.\n"
     ]
    },
    {
     "name": "stdout",
     "output_type": "stream",
     "text": [
      "Output écrit avec succès dans le fichier: json_v2/IRSN_seisme-haiti_130110.json\n"
     ]
    },
    {
     "name": "stderr",
     "output_type": "stream",
     "text": [
      "Generating embeddings: 100%|██████████| 2/2 [00:00<00:00, 92.24it/s]\n",
      "Setting `pad_token_id` to `eos_token_id`:2 for open-end generation.\n"
     ]
    },
    {
     "name": "stdout",
     "output_type": "stream",
     "text": [
      "Output écrit avec succès dans le fichier: json_v2/IRSN-Seisme-Civaux-09092013.json\n"
     ]
    },
    {
     "name": "stderr",
     "output_type": "stream",
     "text": [
      "Generating embeddings: 100%|██████████| 2/2 [00:00<00:00, 83.09it/s]\n",
      "Setting `pad_token_id` to `eos_token_id`:2 for open-end generation.\n"
     ]
    },
    {
     "name": "stdout",
     "output_type": "stream",
     "text": [
      "Erreur lors du traitement du document /share/data/fiches_seismes/IRSN_seisme_turquie-23102011.pdf: Unterminated string starting at: line 61 column 22 (char 2018)\n",
      "Réponse brute écrite dans le fichier texte: txt_v2/IRSN_seisme_turquie-23102011_error.txt\n"
     ]
    },
    {
     "name": "stderr",
     "output_type": "stream",
     "text": [
      "Generating embeddings: 100%|██████████| 3/3 [00:00<00:00, 125.66it/s]\n",
      "Setting `pad_token_id` to `eos_token_id`:2 for open-end generation.\n",
      "Setting `pad_token_id` to `eos_token_id`:2 for open-end generation.\n"
     ]
    },
    {
     "name": "stdout",
     "output_type": "stream",
     "text": [
      "Erreur lors du traitement du document /share/data/fiches_seismes/irsn_seisme_niigata_japon_092007.pdf: Extra data: line 49 column 1 (char 1447)\n",
      "Réponse brute écrite dans le fichier texte: txt_v2/irsn_seisme_niigata_japon_092007_error.txt\n"
     ]
    },
    {
     "name": "stderr",
     "output_type": "stream",
     "text": [
      "Generating embeddings: 100%|██████████| 4/4 [00:00<00:00, 151.26it/s]\n",
      "Setting `pad_token_id` to `eos_token_id`:2 for open-end generation.\n",
      "Setting `pad_token_id` to `eos_token_id`:2 for open-end generation.\n"
     ]
    },
    {
     "name": "stdout",
     "output_type": "stream",
     "text": [
      "Erreur lors du traitement du document /share/data/fiches_seismes/irsn_seisme_martinique_122007.pdf: Extra data: line 49 column 1 (char 877)\n",
      "Réponse brute écrite dans le fichier texte: txt_v2/irsn_seisme_martinique_122007_error.txt\n"
     ]
    },
    {
     "name": "stderr",
     "output_type": "stream",
     "text": [
      "Generating embeddings: 100%|██████████| 3/3 [00:00<00:00, 142.98it/s]\n",
      "Setting `pad_token_id` to `eos_token_id`:2 for open-end generation.\n"
     ]
    },
    {
     "name": "stdout",
     "output_type": "stream",
     "text": [
      "Erreur lors du traitement du document /share/data/fiches_seismes/IRSN_seisme_france-26022012_V2.pdf: Expecting ',' delimiter: line 47 column 2 (char 1409)\n",
      "Réponse brute écrite dans le fichier texte: txt_v2/IRSN_seisme_france-26022012_V2_error.txt\n"
     ]
    },
    {
     "name": "stderr",
     "output_type": "stream",
     "text": [
      "Generating embeddings: 100%|██████████| 7/7 [00:00<00:00, 172.37it/s]\n",
      "Setting `pad_token_id` to `eos_token_id`:2 for open-end generation.\n",
      "Setting `pad_token_id` to `eos_token_id`:2 for open-end generation.\n",
      "Setting `pad_token_id` to `eos_token_id`:2 for open-end generation.\n",
      "Setting `pad_token_id` to `eos_token_id`:2 for open-end generation.\n"
     ]
    },
    {
     "name": "stdout",
     "output_type": "stream",
     "text": [
      "Output écrit avec succès dans le fichier: json_v2/Note-Information-Seisme-Teil-14112019.json\n"
     ]
    },
    {
     "name": "stderr",
     "output_type": "stream",
     "text": [
      "Generating embeddings: 100%|██████████| 4/4 [00:00<00:00, 147.96it/s]\n",
      "Setting `pad_token_id` to `eos_token_id`:2 for open-end generation.\n",
      "Setting `pad_token_id` to `eos_token_id`:2 for open-end generation.\n"
     ]
    },
    {
     "name": "stdout",
     "output_type": "stream",
     "text": [
      "Erreur lors du traitement du document /share/data/fiches_seismes/IRSN_seisme_Italie-20052012.pdf: Expecting ',' delimiter: line 15 column 2 (char 1926)\n",
      "Réponse brute écrite dans le fichier texte: txt_v2/IRSN_seisme_Italie-20052012_error.txt\n"
     ]
    },
    {
     "name": "stderr",
     "output_type": "stream",
     "text": [
      "Generating embeddings: 100%|██████████| 6/6 [00:00<00:00, 183.90it/s]\n",
      "Setting `pad_token_id` to `eos_token_id`:2 for open-end generation.\n",
      "Setting `pad_token_id` to `eos_token_id`:2 for open-end generation.\n",
      "Setting `pad_token_id` to `eos_token_id`:2 for open-end generation.\n",
      "Setting `pad_token_id` to `eos_token_id`:2 for open-end generation.\n"
     ]
    },
    {
     "name": "stdout",
     "output_type": "stream",
     "text": [
      "Output écrit avec succès dans le fichier: json_v2/IRSN_seisme-Japon_V2-22042011.json\n"
     ]
    },
    {
     "name": "stderr",
     "output_type": "stream",
     "text": [
      "Generating embeddings: 100%|██████████| 2/2 [00:00<00:00, 92.00it/s]\n",
      "Setting `pad_token_id` to `eos_token_id`:2 for open-end generation.\n"
     ]
    },
    {
     "name": "stdout",
     "output_type": "stream",
     "text": [
      "Erreur lors du traitement du document /share/data/fiches_seismes/IRSN_Seisme_Lorca-Espagne_18052011.pdf: Expecting ',' delimiter: line 53 column 2 (char 1361)\n",
      "Réponse brute écrite dans le fichier texte: txt_v2/IRSN_Seisme_Lorca-Espagne_18052011_error.txt\n"
     ]
    },
    {
     "name": "stderr",
     "output_type": "stream",
     "text": [
      "Generating embeddings: 100%|██████████| 3/3 [00:00<00:00, 157.24it/s]\n",
      "Setting `pad_token_id` to `eos_token_id`:2 for open-end generation.\n"
     ]
    },
    {
     "name": "stdout",
     "output_type": "stream",
     "text": [
      "Output écrit avec succès dans le fichier: json_v2/irsn_Seisme-Mexique_012003.json\n"
     ]
    },
    {
     "name": "stderr",
     "output_type": "stream",
     "text": [
      "Generating embeddings: 100%|██████████| 3/3 [00:00<00:00, 123.79it/s]\n",
      "Setting `pad_token_id` to `eos_token_id`:2 for open-end generation.\n",
      "Setting `pad_token_id` to `eos_token_id`:2 for open-end generation.\n"
     ]
    },
    {
     "name": "stdout",
     "output_type": "stream",
     "text": [
      "Erreur lors du traitement du document /share/data/fiches_seismes/IRSN-Seisme-Norcia-Italie-301016_V1.pdf: Expecting ',' delimiter: line 82 column 1 (char 1371)\n",
      "Réponse brute écrite dans le fichier texte: txt_v2/IRSN-Seisme-Norcia-Italie-301016_V1_error.txt\n"
     ]
    },
    {
     "name": "stderr",
     "output_type": "stream",
     "text": [
      "Generating embeddings: 100%|██████████| 2/2 [00:00<00:00, 70.42it/s]\n",
      "Setting `pad_token_id` to `eos_token_id`:2 for open-end generation.\n"
     ]
    },
    {
     "name": "stdout",
     "output_type": "stream",
     "text": [
      "Output écrit avec succès dans le fichier: json_v2/irsn_Seisme-Afghanistan_032002.json\n"
     ]
    },
    {
     "name": "stderr",
     "output_type": "stream",
     "text": [
      "Generating embeddings: 100%|██████████| 3/3 [00:00<00:00, 134.00it/s]\n",
      "Setting `pad_token_id` to `eos_token_id`:2 for open-end generation.\n",
      "Setting `pad_token_id` to `eos_token_id`:2 for open-end generation.\n"
     ]
    },
    {
     "name": "stdout",
     "output_type": "stream",
     "text": [
      "Erreur lors du traitement du document /share/data/fiches_seismes/IRSN-Seisme-Manosque-19092012.pdf: Expecting ',' delimiter: line 63 column 2 (char 1533)\n",
      "Réponse brute écrite dans le fichier texte: txt_v2/IRSN-Seisme-Manosque-19092012_error.txt\n"
     ]
    },
    {
     "name": "stderr",
     "output_type": "stream",
     "text": [
      "Generating embeddings: 100%|██████████| 4/4 [00:00<00:00, 156.55it/s]\n",
      "Setting `pad_token_id` to `eos_token_id`:2 for open-end generation.\n",
      "Setting `pad_token_id` to `eos_token_id`:2 for open-end generation.\n"
     ]
    },
    {
     "name": "stdout",
     "output_type": "stream",
     "text": [
      "Output écrit avec succès dans le fichier: json_v2/IRSN-Seisme-Amatrice-Italie-240816_V1.json\n"
     ]
    },
    {
     "name": "stderr",
     "output_type": "stream",
     "text": [
      "Generating embeddings: 100%|██████████| 4/4 [00:00<00:00, 157.64it/s]\n",
      "Setting `pad_token_id` to `eos_token_id`:2 for open-end generation.\n",
      "Setting `pad_token_id` to `eos_token_id`:2 for open-end generation.\n"
     ]
    },
    {
     "name": "stdout",
     "output_type": "stream",
     "text": [
      "Erreur lors du traitement du document /share/data/fiches_seismes/IRSN_seisme_virginie-US-23082011.pdf: Expecting value: line 47 column 86 (char 2568)\n",
      "Réponse brute écrite dans le fichier texte: txt_v2/IRSN_seisme_virginie-US-23082011_error.txt\n"
     ]
    },
    {
     "name": "stderr",
     "output_type": "stream",
     "text": [
      "Generating embeddings: 100%|██████████| 3/3 [00:00<00:00, 151.17it/s]\n",
      "Setting `pad_token_id` to `eos_token_id`:2 for open-end generation.\n"
     ]
    },
    {
     "name": "stdout",
     "output_type": "stream",
     "text": [
      "Output écrit avec succès dans le fichier: json_v2/IRSN_seisme_Christchurch-NZ_23022011.json\n"
     ]
    },
    {
     "name": "stderr",
     "output_type": "stream",
     "text": [
      "Generating embeddings: 100%|██████████| 2/2 [00:00<00:00, 90.37it/s]\n",
      "Setting `pad_token_id` to `eos_token_id`:2 for open-end generation.\n"
     ]
    },
    {
     "name": "stdout",
     "output_type": "stream",
     "text": [
      "Output écrit avec succès dans le fichier: json_v2/IRSN-Seisme-Charente-Maritime-France-20190320_v1.1.json\n"
     ]
    },
    {
     "name": "stderr",
     "output_type": "stream",
     "text": [
      "Generating embeddings: 100%|██████████| 4/4 [00:00<00:00, 131.17it/s]\n",
      "Setting `pad_token_id` to `eos_token_id`:2 for open-end generation.\n",
      "Setting `pad_token_id` to `eos_token_id`:2 for open-end generation.\n"
     ]
    },
    {
     "name": "stdout",
     "output_type": "stream",
     "text": [
      "Erreur lors du traitement du document /share/data/fiches_seismes/irsn_Seisme-Japon_052003.pdf: Extra data: line 70 column 1 (char 1709)\n",
      "Réponse brute écrite dans le fichier texte: txt_v2/irsn_Seisme-Japon_052003_error.txt\n"
     ]
    },
    {
     "name": "stderr",
     "output_type": "stream",
     "text": [
      "Generating embeddings: 100%|██████████| 2/2 [00:00<00:00, 126.22it/s]\n",
      "Setting `pad_token_id` to `eos_token_id`:2 for open-end generation.\n"
     ]
    },
    {
     "name": "stdout",
     "output_type": "stream",
     "text": [
      "Output écrit avec succès dans le fichier: json_v2/irsn_Seisme-Inde_012001.json\n"
     ]
    },
    {
     "name": "stderr",
     "output_type": "stream",
     "text": [
      "Generating embeddings: 100%|██████████| 2/2 [00:00<00:00, 74.22it/s]\n",
      "Setting `pad_token_id` to `eos_token_id`:2 for open-end generation.\n"
     ]
    },
    {
     "name": "stdout",
     "output_type": "stream",
     "text": [
      "Erreur lors du traitement du document /share/data/fiches_seismes/irsn_Seisme-Besancon_022004.pdf: Extra data: line 50 column 1 (char 841)\n",
      "Réponse brute écrite dans le fichier texte: txt_v2/irsn_Seisme-Besancon_022004_error.txt\n"
     ]
    },
    {
     "name": "stderr",
     "output_type": "stream",
     "text": [
      "Generating embeddings: 100%|██████████| 2/2 [00:00<00:00, 89.41it/s]\n",
      "Setting `pad_token_id` to `eos_token_id`:2 for open-end generation.\n"
     ]
    },
    {
     "name": "stdout",
     "output_type": "stream",
     "text": [
      "Erreur lors du traitement du document /share/data/fiches_seismes/IRSN-Seisme-Vendee-France-20180212.pdf: Expecting ',' delimiter: line 77 column 2 (char 1501)\n",
      "Réponse brute écrite dans le fichier texte: txt_v2/IRSN-Seisme-Vendee-France-20180212_error.txt\n"
     ]
    },
    {
     "name": "stderr",
     "output_type": "stream",
     "text": [
      "Generating embeddings: 100%|██████████| 4/4 [00:00<00:00, 166.06it/s]\n",
      "Setting `pad_token_id` to `eos_token_id`:2 for open-end generation.\n"
     ]
    },
    {
     "name": "stdout",
     "output_type": "stream",
     "text": [
      "Output écrit avec succès dans le fichier: json_v2/IRSN_Fiche-Seisme-Maroc.json\n"
     ]
    },
    {
     "name": "stderr",
     "output_type": "stream",
     "text": [
      "Generating embeddings: 100%|██████████| 3/3 [00:00<00:00, 147.13it/s]\n",
      "Setting `pad_token_id` to `eos_token_id`:2 for open-end generation.\n",
      "Setting `pad_token_id` to `eos_token_id`:2 for open-end generation.\n"
     ]
    },
    {
     "name": "stdout",
     "output_type": "stream",
     "text": [
      "Output écrit avec succès dans le fichier: json_v2/IRSN-Seisme-Fukushima-13022021.json\n"
     ]
    },
    {
     "name": "stderr",
     "output_type": "stream",
     "text": [
      "Generating embeddings: 100%|██████████| 3/3 [00:00<00:00, 131.31it/s]\n",
      "Setting `pad_token_id` to `eos_token_id`:2 for open-end generation.\n",
      "Setting `pad_token_id` to `eos_token_id`:2 for open-end generation.\n"
     ]
    },
    {
     "name": "stdout",
     "output_type": "stream",
     "text": [
      "Erreur lors du traitement du document /share/data/fiches_seismes/IRSN-Seisme-Napa-24082014.pdf: Extra data: line 73 column 1 (char 1737)\n",
      "Réponse brute écrite dans le fichier texte: txt_v2/IRSN-Seisme-Napa-24082014_error.txt\n"
     ]
    },
    {
     "name": "stderr",
     "output_type": "stream",
     "text": [
      "Generating embeddings: 100%|██████████| 4/4 [00:00<00:00, 169.33it/s]\n",
      "Setting `pad_token_id` to `eos_token_id`:2 for open-end generation.\n"
     ]
    },
    {
     "name": "stdout",
     "output_type": "stream",
     "text": [
      "Output écrit avec succès dans le fichier: json_v2/IRSN_Fiche-Seisme-Ouest-France-16-juin-2023_V1-17062023.json\n"
     ]
    },
    {
     "name": "stderr",
     "output_type": "stream",
     "text": [
      "Generating embeddings: 100%|██████████| 1/1 [00:00<00:00, 31.09it/s]\n",
      "Setting `pad_token_id` to `eos_token_id`:2 for open-end generation.\n"
     ]
    },
    {
     "name": "stdout",
     "output_type": "stream",
     "text": [
      "Erreur lors du traitement du document /share/data/fiches_seismes/IRSN_Seisme-Japon_Replique-7-avril_V1-08042011.pdf: Expecting ',' delimiter: line 46 column 1 (char 1310)\n",
      "Réponse brute écrite dans le fichier texte: txt_v2/IRSN_Seisme-Japon_Replique-7-avril_V1-08042011_error.txt\n"
     ]
    },
    {
     "name": "stderr",
     "output_type": "stream",
     "text": [
      "Generating embeddings: 100%|██████████| 2/2 [00:00<00:00, 114.81it/s]\n",
      "Setting `pad_token_id` to `eos_token_id`:2 for open-end generation.\n"
     ]
    },
    {
     "name": "stdout",
     "output_type": "stream",
     "text": [
      "Erreur lors du traitement du document /share/data/fiches_seismes/irsn_Seisme-Allemagne_122004.pdf: Expecting ',' delimiter: line 52 column 2 (char 1597)\n",
      "Réponse brute écrite dans le fichier texte: txt_v2/irsn_Seisme-Allemagne_122004_error.txt\n"
     ]
    },
    {
     "name": "stderr",
     "output_type": "stream",
     "text": [
      "Generating embeddings: 100%|██████████| 4/4 [00:00<00:00, 150.48it/s]\n",
      "Setting `pad_token_id` to `eos_token_id`:2 for open-end generation.\n",
      "Setting `pad_token_id` to `eos_token_id`:2 for open-end generation.\n"
     ]
    },
    {
     "name": "stdout",
     "output_type": "stream",
     "text": [
      "Erreur lors du traitement du document /share/data/fiches_seismes/IRSN-Seisme-Elazig-Turquie-24012020.pdf: Extra data: line 75 column 1 (char 1507)\n",
      "Réponse brute écrite dans le fichier texte: txt_v2/IRSN-Seisme-Elazig-Turquie-24012020_error.txt\n"
     ]
    },
    {
     "name": "stderr",
     "output_type": "stream",
     "text": [
      "Generating embeddings: 100%|██████████| 3/3 [00:00<00:00, 135.24it/s]\n",
      "Setting `pad_token_id` to `eos_token_id`:2 for open-end generation.\n",
      "Setting `pad_token_id` to `eos_token_id`:2 for open-end generation.\n"
     ]
    },
    {
     "name": "stdout",
     "output_type": "stream",
     "text": [
      "Erreur lors du traitement du document /share/data/fiches_seismes/IRSN_seisme-Manosque_V1-12072010.pdf: Invalid control character at: line 20 column 280 (char 583)\n",
      "Réponse brute écrite dans le fichier texte: txt_v2/IRSN_seisme-Manosque_V1-12072010_error.txt\n"
     ]
    },
    {
     "name": "stderr",
     "output_type": "stream",
     "text": [
      "Generating embeddings: 100%|██████████| 3/3 [00:00<00:00, 138.89it/s]\n",
      "Setting `pad_token_id` to `eos_token_id`:2 for open-end generation.\n"
     ]
    },
    {
     "name": "stdout",
     "output_type": "stream",
     "text": [
      "Output écrit avec succès dans le fichier: json_v2/irsn_seisme-algerie_052003.json\n"
     ]
    },
    {
     "name": "stderr",
     "output_type": "stream",
     "text": [
      "Generating embeddings: 100%|██████████| 4/4 [00:00<00:00, 162.47it/s]\n",
      "Setting `pad_token_id` to `eos_token_id`:2 for open-end generation.\n"
     ]
    },
    {
     "name": "stdout",
     "output_type": "stream",
     "text": [
      "Erreur lors du traitement du document /share/data/fiches_seismes/IRSN Fiche seisme MULHOUSE 13092022.pdf: Expecting ',' delimiter: line 54 column 2 (char 1396)\n",
      "Réponse brute écrite dans le fichier texte: txt_v2/IRSN Fiche seisme MULHOUSE 13092022_error.txt\n"
     ]
    },
    {
     "name": "stderr",
     "output_type": "stream",
     "text": [
      "Generating embeddings: 100%|██████████| 2/2 [00:00<00:00, 62.05it/s]\n",
      "Setting `pad_token_id` to `eos_token_id`:2 for open-end generation.\n"
     ]
    },
    {
     "name": "stdout",
     "output_type": "stream",
     "text": [
      "Erreur lors du traitement du document /share/data/fiches_seismes/IRSN_seisme_sumatra-11042012.pdf: Expecting ',' delimiter: line 52 column 2 (char 2222)\n",
      "Réponse brute écrite dans le fichier texte: txt_v2/IRSN_seisme_sumatra-11042012_error.txt\n"
     ]
    },
    {
     "name": "stderr",
     "output_type": "stream",
     "text": [
      "Generating embeddings: 100%|██████████| 2/2 [00:00<00:00, 108.91it/s]\n",
      "Setting `pad_token_id` to `eos_token_id`:2 for open-end generation.\n"
     ]
    },
    {
     "name": "stdout",
     "output_type": "stream",
     "text": [
      "Output écrit avec succès dans le fichier: json_v2/IRSN-Seisme-Kent-22052015.json\n"
     ]
    },
    {
     "name": "stderr",
     "output_type": "stream",
     "text": [
      "Generating embeddings: 100%|██████████| 2/2 [00:00<00:00, 128.53it/s]\n",
      "Setting `pad_token_id` to `eos_token_id`:2 for open-end generation.\n"
     ]
    },
    {
     "name": "stdout",
     "output_type": "stream",
     "text": [
      "Erreur lors du traitement du document /share/data/fiches_seismes/IRSN-Seisme-LaRochelle-28042016.pdf: Expecting ',' delimiter: line 51 column 2 (char 1418)\n",
      "Réponse brute écrite dans le fichier texte: txt_v2/IRSN-Seisme-LaRochelle-28042016_error.txt\n"
     ]
    }
   ],
   "source": [
    "for doc in doc_fonctionnels :\n",
    "    try:\n",
    "        # chargement du bon document\n",
    "        reader_json=  SimpleDirectoryReader(input_files = [doc], required_exts=[\".pdf\"])\n",
    "        doc_json = reader_json.load_data()\n",
    "        # création de 'lindex pour ce document\n",
    "        vector_index_json = VectorStoreIndex(doc_json, service_context=service_context, show_progress = True)\n",
    "        query_engine = vector_index_json.as_query_engine(response_mode=\"compact\",similarity_top_k=len(doc_json))\n",
    "    \n",
    "        # prompt pour remplir le json\n",
    "        reponse = query_engine.query(\"\"\" Rempli ce json :\n",
    "            {\n",
    "                \"seisme\": {\n",
    "                  \"lieu\": \"non spécifié\",\n",
    "                  \"date\": \"non spécifié\",\n",
    "                  \"heure_utc\": \"non spécifié\",\n",
    "                  \"heure_locale\": \"non spécifié\",\n",
    "                  \"magnitude\": \"non spécifié\",\n",
    "                  \"localisation\": {\n",
    "                    \"latitude\": \"non spécifiée\",\n",
    "                    \"longitude\": \"non spécifiée\"\n",
    "                  },\n",
    "                  \"repliques\": {\n",
    "                    \"nombre\": \"non spécifié\",\n",
    "                    \"magnitudes\": {\n",
    "                      \"min\": \"non spécifié\",\n",
    "                      \"max\": \"non spécifié\"\n",
    "                    }\n",
    "                  },\n",
    "                  \"impact\": {\n",
    "                    \"humain\": \"non spécifié\",\n",
    "                    \"matériel\": \"non spécifié\"\n",
    "                  },\n",
    "                  \"contexte_sismotectonique\": {\n",
    "                    \"description\": \"non spécifié\"\n",
    "                  },\n",
    "                  \"sismicite_historique\": {\n",
    "                    \"evenements_precedents\": [\n",
    "                      {\n",
    "                        \"date\": \"non spécifiée\",\n",
    "                        \"magnitude\": \"non spécifiée\",\n",
    "                        \"localisation\": \"non spécifiée\",\n",
    "                        \"victimes_estimees\": \"non spécifié\"\n",
    "                      }\n",
    "                    ]\n",
    "                  },\n",
    "                  \"impact_installations_nucleaires\": {\n",
    "                    \"reacteur_recherche\": {\n",
    "                      \"puissance\": \"non spécifié\",\n",
    "                      \"localisation\": \"non spécifiée\",\n",
    "                      \"impact\": \"non spécifié\"\n",
    "                    }\n",
    "                  },\n",
    "                  \"references\": [\n",
    "                    \"non spécifié\"\n",
    "                  ]\n",
    "                }\n",
    "                }\n",
    "                \n",
    "           \"\"\")\n",
    "        # formattage du string en json\n",
    "        data = json.loads(reponse.response.replace(\"\\\\\", \"\") )\n",
    "        # Chemin vers le fichier JSON de sortie\n",
    "        doc_name = reponse.metadata[list(reponse.metadata.keys())[0]]['file_name'].replace(\".pdf\", \"\")\n",
    "        \n",
    "        output_file_path = f\"json_v2/{doc_name}.json\"\n",
    "        \n",
    "        # Écriture des données dans le fichier JSON\n",
    "        with open(output_file_path, 'w') as json_file:\n",
    "            json.dump(data, json_file, indent=4, ensure_ascii=False)\n",
    "        \n",
    "        print(\"Output écrit avec succès dans le fichier:\", output_file_path)\n",
    "    except Exception as e:\n",
    "        print(f\"Erreur lors du traitement du document {doc}: {str(e)}\")\n",
    "        doc_name = reponse.metadata[list(reponse.metadata.keys())[0]]['file_name'].replace(\".pdf\", \"\")\n",
    "        # En cas d'erreur, écrire la réponse brute dans un fichier texte\n",
    "        error_output_file_path = f\"txt_v2/{doc_name}_error.txt\"\n",
    "        with open(error_output_file_path, 'w') as error_file:\n",
    "            error_file.write(reponse.response)\n",
    "        print(f\"Réponse brute écrite dans le fichier texte: {error_output_file_path}\")\n",
    "        continue  # Passer au document suivant en cas d'erreur"
   ]
  },
  {
   "cell_type": "code",
   "execution_count": 1,
   "id": "da5e0d7a-8b74-4703-b4c3-15d814892673",
   "metadata": {},
   "outputs": [
    {
     "name": "stdout",
     "output_type": "stream",
     "text": [
      "absl-py==2.0.0\n",
      "accelerate==0.25.0\n",
      "aiohttp==3.8.6\n",
      "aiosignal==1.3.1\n",
      "annotated-types==0.6.0\n",
      "anyio==3.7.1\n",
      "asttokens==2.4.0\n",
      "astunparse==1.6.3\n",
      "async-timeout==4.0.3\n",
      "attrs==23.1.0\n",
      "backcall==0.2.0\n",
      "backoff==2.2.1\n",
      "bcrypt==4.0.1\n",
      "beautifulsoup4==4.12.3\n",
      "bitsandbytes==0.41.3\n",
      "bs4==0.0.2\n",
      "cachetools==5.3.2\n",
      "certifi==2023.7.22\n",
      "cffi==1.16.0\n",
      "charset-normalizer==3.3.1\n",
      "chroma-hnswlib==0.7.3\n",
      "chromadb==0.4.17\n",
      "click==8.1.7\n",
      "coloredlogs==15.0.1\n",
      "comm==0.1.4\n",
      "cryptography==42.0.1\n",
      "dataclasses-json==0.6.2\n",
      "datasets==2.17.0\n",
      "debugpy==1.8.0\n",
      "decorator==5.1.1\n",
      "Deprecated==1.2.14\n",
      "dill==0.3.8\n",
      "dirtyjson==1.0.8\n",
      "distro==1.9.0\n",
      "dm-tree==0.1.8\n",
      "evaluate==0.4.1\n",
      "executing==2.0.0\n",
      "faiss-cpu==1.7.4\n",
      "fastapi==0.104.1\n",
      "filelock==3.12.4\n",
      "flatbuffers==23.5.26\n",
      "frozenlist==1.4.0\n",
      "fsspec==2023.10.0\n",
      "gast==0.5.4\n",
      "google-auth==2.23.3\n",
      "google-auth-oauthlib==1.0.0\n",
      "google-pasta==0.2.0\n",
      "googleapis-common-protos==1.61.0\n",
      "gpt4all==2.0.2\n",
      "greenlet==3.0.1\n",
      "grpcio==1.59.0\n",
      "h11==0.14.0\n",
      "h5py==3.10.0\n",
      "httpcore==1.0.2\n",
      "httptools==0.6.1\n",
      "httpx==0.26.0\n",
      "huggingface-hub==0.20.3\n",
      "humanfriendly==10.0\n",
      "idna==3.4\n",
      "importlib-metadata==6.8.0\n",
      "importlib-resources==6.1.1\n",
      "InstructorEmbedding==1.0.1\n",
      "ipykernel==6.26.0\n",
      "ipython==8.16.1\n",
      "jedi==0.19.1\n",
      "Jinja2==3.1.2\n",
      "joblib==1.3.2\n",
      "jsonpatch==1.33\n",
      "jsonpointer==2.4\n",
      "jupyter_client==8.5.0\n",
      "jupyter_core==5.4.0\n",
      "keras==2.14.0\n",
      "keras-core==0.1.7\n",
      "keras-nlp==0.6.2\n",
      "kubernetes==28.1.0\n",
      "langchain==0.0.336\n",
      "langchainhub==0.1.14\n",
      "langsmith==0.0.64\n",
      "libclang==16.0.6\n",
      "llama-index==0.9.41\n",
      "Markdown==3.5\n",
      "markdown-it-py==3.0.0\n",
      "MarkupSafe==2.1.3\n",
      "marshmallow==3.20.1\n",
      "matplotlib-inline==0.1.6\n",
      "mdurl==0.1.2\n",
      "ml-dtypes==0.2.0\n",
      "monotonic==1.6\n",
      "mpmath==1.3.0\n",
      "multidict==6.0.4\n",
      "multiprocess==0.70.16\n",
      "mypy-extensions==1.0.0\n",
      "namex==0.0.7\n",
      "nest-asyncio==1.5.8\n",
      "networkx==3.2.1\n",
      "nltk==3.8.1\n",
      "numpy==1.26.1\n",
      "nvidia-cublas-cu12==12.1.3.1\n",
      "nvidia-cuda-cupti-cu12==12.1.105\n",
      "nvidia-cuda-nvrtc-cu12==12.1.105\n",
      "nvidia-cuda-runtime-cu12==12.1.105\n",
      "nvidia-cudnn-cu12==8.9.2.26\n",
      "nvidia-cufft-cu12==11.0.2.54\n",
      "nvidia-curand-cu12==10.3.2.106\n",
      "nvidia-cusolver-cu12==11.4.5.107\n",
      "nvidia-cusparse-cu12==12.1.0.106\n",
      "nvidia-nccl-cu12==2.18.1\n",
      "nvidia-nvjitlink-cu12==12.3.101\n",
      "nvidia-nvtx-cu12==12.1.105\n",
      "oauthlib==3.2.2\n",
      "onnx==1.14.1\n",
      "onnxconverter-common==1.13.0\n",
      "onnxruntime==1.16.2\n",
      "openai==1.10.0\n",
      "opentelemetry-api==1.21.0\n",
      "opentelemetry-exporter-otlp-proto-common==1.21.0\n",
      "opentelemetry-exporter-otlp-proto-grpc==1.21.0\n",
      "opentelemetry-proto==1.21.0\n",
      "opentelemetry-sdk==1.21.0\n",
      "opentelemetry-semantic-conventions==0.42b0\n",
      "opt-einsum==3.3.0\n",
      "overrides==7.4.0\n",
      "packaging==23.2\n",
      "panda==0.3.1\n",
      "pandas==2.2.0\n",
      "parso==0.8.3\n",
      "pdfminer.six==20231228\n",
      "pexpect==4.8.0\n",
      "pickleshare==0.7.5\n",
      "Pillow==10.1.0\n",
      "platformdirs==3.11.0\n",
      "posthog==3.0.2\n",
      "prompt-toolkit==3.0.39\n",
      "protobuf==3.20.3\n",
      "psutil==5.9.6\n",
      "ptyprocess==0.7.0\n",
      "pulsar-client==3.3.0\n",
      "pure-eval==0.2.2\n",
      "pyarrow==15.0.0\n",
      "pyarrow-hotfix==0.6\n",
      "pyasn1==0.5.0\n",
      "pyasn1-modules==0.3.0\n",
      "pycparser==2.21\n",
      "pydantic==2.5.1\n",
      "pydantic_core==2.14.3\n",
      "Pygments==2.16.1\n",
      "pypdf==3.17.1\n",
      "PyPika==0.48.9\n",
      "python-dateutil==2.8.2\n",
      "python-dotenv==1.0.0\n",
      "pytz==2023.3.post1\n",
      "PyYAML==6.0.1\n",
      "pyzmq==25.1.1\n",
      "regex==2023.10.3\n",
      "requests==2.31.0\n",
      "requests-oauthlib==1.3.1\n",
      "responses==0.18.0\n",
      "rich==13.6.0\n",
      "rsa==4.9\n",
      "safetensors==0.4.2\n",
      "scikit-learn==1.3.2\n",
      "scipy==1.11.3\n",
      "sentence-transformers==2.2.2\n",
      "sentencepiece==0.1.99\n",
      "seqeval==1.2.2\n",
      "six==1.16.0\n",
      "sniffio==1.3.0\n",
      "soupsieve==2.5\n",
      "span-marker==1.5.0\n",
      "SQLAlchemy==2.0.23\n",
      "stack-data==0.6.3\n",
      "starlette==0.27.0\n",
      "sympy==1.12\n",
      "tenacity==8.2.3\n",
      "tensorboard==2.14.1\n",
      "tensorboard-data-server==0.7.2\n",
      "tensorflow==2.14.0\n",
      "tensorflow-cpu==2.14.0\n",
      "tensorflow-estimator==2.14.0\n",
      "tensorflow-hub==0.15.0\n",
      "tensorflow-io-gcs-filesystem==0.34.0\n",
      "tensorflow-text==2.14.0\n",
      "termcolor==2.3.0\n",
      "tf2onnx==1.15.1\n",
      "threadpoolctl==3.2.0\n",
      "tiktoken==0.5.2\n",
      "tokenizers==0.15.2\n",
      "torch==2.1.1\n",
      "torchvision==0.16.1\n",
      "tornado==6.3.3\n",
      "tqdm==4.66.1\n",
      "traitlets==5.12.0\n",
      "transformers==4.37.2\n",
      "triton==2.1.0\n",
      "typer==0.9.0\n",
      "types-requests==2.31.0.6\n",
      "types-urllib3==1.26.25.14\n",
      "typing-inspect==0.9.0\n",
      "typing_extensions==4.8.0\n",
      "tzdata==2023.4\n",
      "urllib3==1.26.18\n",
      "uvicorn==0.24.0.post1\n",
      "uvloop==0.19.0\n",
      "watchfiles==0.21.0\n",
      "wcwidth==0.2.8\n",
      "websocket-client==1.6.4\n",
      "websockets==12.0\n",
      "Werkzeug==3.0.1\n",
      "wrapt==1.14.1\n",
      "xxhash==3.4.1\n",
      "yarl==1.9.2\n",
      "zipp==3.17.0\n",
      "Note: you may need to restart the kernel to use updated packages.\n"
     ]
    }
   ],
   "source": [
    "pip freeze"
   ]
  },
  {
   "cell_type": "code",
   "execution_count": null,
   "id": "4ddbb16c-bb1b-4a45-96cf-8de815706305",
   "metadata": {},
   "outputs": [],
   "source": []
  }
 ],
 "metadata": {
  "kernelspec": {
   "display_name": "hugginface_env",
   "language": "python",
   "name": "hugginface_env"
  },
  "language_info": {
   "codemirror_mode": {
    "name": "ipython",
    "version": 3
   },
   "file_extension": ".py",
   "mimetype": "text/x-python",
   "name": "python",
   "nbconvert_exporter": "python",
   "pygments_lexer": "ipython3",
   "version": "3.11.6"
  }
 },
 "nbformat": 4,
 "nbformat_minor": 5
}
